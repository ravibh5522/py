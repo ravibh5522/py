{
 "cells": [
  {
   "cell_type": "code",
   "execution_count": null,
   "id": "71742188",
   "metadata": {},
   "outputs": [
    {
     "name": "stdout",
     "output_type": "stream",
     "text": [
      "WARNING:tensorflow:From C:\\Users\\ravibh\\AppData\\Roaming\\Python\\Python312\\site-packages\\tf_keras\\src\\losses.py:2976: The name tf.losses.sparse_softmax_cross_entropy is deprecated. Please use tf.compat.v1.losses.sparse_softmax_cross_entropy instead.\n",
      "\n"
     ]
    }
   ],
   "source": [
    "\n",
    "import pandas as pd\n",
    "import numpy as np\n",
    "import os\n",
    "import seaborn as sns\n",
    "import matplotlib.pyplot as plt\n",
    "import time\n",
    "from sentence_transformers import SentenceTransformer, util\n",
    "from sklearn.feature_extraction.text import CountVectorizer, TfidfVectorizer\n",
    "import altair as alt\n",
    "from scipy.ndimage import gaussian_filter\n",
    "from collections import Counter\n",
    "import re\n",
    "from urllib.parse import urlparse\n",
    "import plotly.express as px\n",
    "from pydantic import BaseModel\n",
    "from typing import List\n",
    "from google import genai\n",
    "import json\n",
    "from datetime import timedelta\n",
    "from sklearn.cluster import KMeans\n",
    "from sklearn.metrics import silhouette_score"
   ]
  },
  {
   "cell_type": "code",
   "execution_count": 5,
   "id": "479fd609",
   "metadata": {},
   "outputs": [],
   "source": [
    "df = pd.read_csv('py_final.csv')"
   ]
  },
  {
   "cell_type": "code",
   "execution_count": 6,
   "id": "5c57ef56",
   "metadata": {},
   "outputs": [
    {
     "data": {
      "text/html": [
       "<div>\n",
       "<style scoped>\n",
       "    .dataframe tbody tr th:only-of-type {\n",
       "        vertical-align: middle;\n",
       "    }\n",
       "\n",
       "    .dataframe tbody tr th {\n",
       "        vertical-align: top;\n",
       "    }\n",
       "\n",
       "    .dataframe thead th {\n",
       "        text-align: right;\n",
       "    }\n",
       "</style>\n",
       "<table border=\"1\" class=\"dataframe\">\n",
       "  <thead>\n",
       "    <tr style=\"text-align: right;\">\n",
       "      <th></th>\n",
       "      <th>ParticipantId</th>\n",
       "      <th>DeviceId</th>\n",
       "      <th>url</th>\n",
       "      <th>eventtimeutc</th>\n",
       "      <th>transition</th>\n",
       "      <th>title</th>\n",
       "      <th>visitId</th>\n",
       "      <th>referringVisitId</th>\n",
       "      <th>eventtime</th>\n",
       "      <th>base_url</th>\n",
       "      <th>category</th>\n",
       "    </tr>\n",
       "  </thead>\n",
       "  <tbody>\n",
       "    <tr>\n",
       "      <th>0</th>\n",
       "      <td>demo</td>\n",
       "      <td>2nwjevbvxzm7ehb254</td>\n",
       "      <td>https://www.avios.com/manage-avios/move-and-co...</td>\n",
       "      <td>2025-01-21T11:00:35.229Z</td>\n",
       "      <td>typed</td>\n",
       "      <td>Convert Avios: Nectar &amp;#44;  Finnair Plus &amp;#44...</td>\n",
       "      <td>160209</td>\n",
       "      <td>0</td>\n",
       "      <td>2025-01-21T03:00:35-08:00</td>\n",
       "      <td>www.avios.com</td>\n",
       "      <td>travel_booking</td>\n",
       "    </tr>\n",
       "    <tr>\n",
       "      <th>1</th>\n",
       "      <td>demo</td>\n",
       "      <td>2nwjevbvxzm7ehb254</td>\n",
       "      <td>https://www.avios.com/manage-avios/move-and-co...</td>\n",
       "      <td>2025-01-21T11:00:36.207Z</td>\n",
       "      <td>link</td>\n",
       "      <td>Convert Avios: Nectar &amp;#44;  Finnair Plus &amp;#44...</td>\n",
       "      <td>160210</td>\n",
       "      <td>0</td>\n",
       "      <td>2025-01-21T03:00:36-08:00</td>\n",
       "      <td>www.avios.com</td>\n",
       "      <td>travel_booking</td>\n",
       "    </tr>\n",
       "    <tr>\n",
       "      <th>2</th>\n",
       "      <td>demo</td>\n",
       "      <td>2nwjevbvxzm7ehb254</td>\n",
       "      <td>https://www.avios.com/manage-avios/move-and-co...</td>\n",
       "      <td>2025-01-21T11:00:37.059Z</td>\n",
       "      <td>link</td>\n",
       "      <td>Convert Avios: Nectar &amp;#44;  Finnair Plus &amp;#44...</td>\n",
       "      <td>160211</td>\n",
       "      <td>0</td>\n",
       "      <td>2025-01-21T03:00:37-08:00</td>\n",
       "      <td>www.avios.com</td>\n",
       "      <td>travel_booking</td>\n",
       "    </tr>\n",
       "    <tr>\n",
       "      <th>3</th>\n",
       "      <td>demo</td>\n",
       "      <td>2nwjevbvxzm7ehb254</td>\n",
       "      <td>https://accounts.britishairways.com/u/login?st...</td>\n",
       "      <td>2025-01-21T11:00:39.407Z</td>\n",
       "      <td>link</td>\n",
       "      <td>British Airways log in</td>\n",
       "      <td>160213</td>\n",
       "      <td>160212</td>\n",
       "      <td>2025-01-21T03:00:39-08:00</td>\n",
       "      <td>accounts.britishairways.com</td>\n",
       "      <td>travel_booking</td>\n",
       "    </tr>\n",
       "    <tr>\n",
       "      <th>4</th>\n",
       "      <td>demo</td>\n",
       "      <td>2nwjevbvxzm7ehb254</td>\n",
       "      <td>https://accounts.britishairways.com/security/?...</td>\n",
       "      <td>2025-01-21T11:00:49.624Z</td>\n",
       "      <td>form_submit</td>\n",
       "      <td>British Airways</td>\n",
       "      <td>160218</td>\n",
       "      <td>160217</td>\n",
       "      <td>2025-01-21T03:00:49-08:00</td>\n",
       "      <td>accounts.britishairways.com</td>\n",
       "      <td>travel_booking</td>\n",
       "    </tr>\n",
       "    <tr>\n",
       "      <th>...</th>\n",
       "      <td>...</td>\n",
       "      <td>...</td>\n",
       "      <td>...</td>\n",
       "      <td>...</td>\n",
       "      <td>...</td>\n",
       "      <td>...</td>\n",
       "      <td>...</td>\n",
       "      <td>...</td>\n",
       "      <td>...</td>\n",
       "      <td>...</td>\n",
       "      <td>...</td>\n",
       "    </tr>\n",
       "    <tr>\n",
       "      <th>5099</th>\n",
       "      <td>demo</td>\n",
       "      <td>2nwjevbvxzm7ehb254</td>\n",
       "      <td>https://py-insights.com/account/demo/product?s...</td>\n",
       "      <td>2025-02-21T07:57:40.972Z</td>\n",
       "      <td>link</td>\n",
       "      <td>PY Insights | Product</td>\n",
       "      <td>166319</td>\n",
       "      <td>0</td>\n",
       "      <td>2025-02-20T23:57:40-08:00</td>\n",
       "      <td>py-insights.com</td>\n",
       "      <td>developer_tools</td>\n",
       "    </tr>\n",
       "    <tr>\n",
       "      <th>5100</th>\n",
       "      <td>demo</td>\n",
       "      <td>2nwjevbvxzm7ehb254</td>\n",
       "      <td>https://py-insights.com/account/demo/product</td>\n",
       "      <td>2025-02-21T07:57:40.975Z</td>\n",
       "      <td>link</td>\n",
       "      <td>PY Insights | Product</td>\n",
       "      <td>166320</td>\n",
       "      <td>0</td>\n",
       "      <td>2025-02-20T23:57:40-08:00</td>\n",
       "      <td>py-insights.com</td>\n",
       "      <td>developer_tools</td>\n",
       "    </tr>\n",
       "    <tr>\n",
       "      <th>5101</th>\n",
       "      <td>demo</td>\n",
       "      <td>2nwjevbvxzm7ehb254</td>\n",
       "      <td>https://py-insights.com/account/demo/product?s...</td>\n",
       "      <td>2025-02-21T07:57:40.988Z</td>\n",
       "      <td>link</td>\n",
       "      <td>PY Insights | Product</td>\n",
       "      <td>166321</td>\n",
       "      <td>0</td>\n",
       "      <td>2025-02-20T23:57:40-08:00</td>\n",
       "      <td>py-insights.com</td>\n",
       "      <td>developer_tools</td>\n",
       "    </tr>\n",
       "    <tr>\n",
       "      <th>5102</th>\n",
       "      <td>demo</td>\n",
       "      <td>2nwjevbvxzm7ehb254</td>\n",
       "      <td>https://chromewebstore.google.com/detail/snaps...</td>\n",
       "      <td>2025-02-21T07:57:51.308Z</td>\n",
       "      <td>link</td>\n",
       "      <td>Snapshot - Chrome Web Store</td>\n",
       "      <td>166327</td>\n",
       "      <td>166326</td>\n",
       "      <td>2025-02-20T23:57:51-08:00</td>\n",
       "      <td>chromewebstore.google.com</td>\n",
       "      <td>marketplace</td>\n",
       "    </tr>\n",
       "    <tr>\n",
       "      <th>5103</th>\n",
       "      <td>demo</td>\n",
       "      <td>2nwjevbvxzm7ehb254</td>\n",
       "      <td>chrome-extension://hkmmnfimlpcphpgnmgdecpdpaef...</td>\n",
       "      <td>2025-02-21T07:58:02.688Z</td>\n",
       "      <td>link</td>\n",
       "      <td>NaN</td>\n",
       "      <td>166328</td>\n",
       "      <td>0</td>\n",
       "      <td>2025-02-20T23:58:02-08:00</td>\n",
       "      <td>hkmmnfimlpcphpgnmgdecpdpaefjnlga</td>\n",
       "      <td>developer_tools</td>\n",
       "    </tr>\n",
       "  </tbody>\n",
       "</table>\n",
       "<p>5104 rows × 11 columns</p>\n",
       "</div>"
      ],
      "text/plain": [
       "     ParticipantId            DeviceId  \\\n",
       "0             demo  2nwjevbvxzm7ehb254   \n",
       "1             demo  2nwjevbvxzm7ehb254   \n",
       "2             demo  2nwjevbvxzm7ehb254   \n",
       "3             demo  2nwjevbvxzm7ehb254   \n",
       "4             demo  2nwjevbvxzm7ehb254   \n",
       "...            ...                 ...   \n",
       "5099          demo  2nwjevbvxzm7ehb254   \n",
       "5100          demo  2nwjevbvxzm7ehb254   \n",
       "5101          demo  2nwjevbvxzm7ehb254   \n",
       "5102          demo  2nwjevbvxzm7ehb254   \n",
       "5103          demo  2nwjevbvxzm7ehb254   \n",
       "\n",
       "                                                    url  \\\n",
       "0     https://www.avios.com/manage-avios/move-and-co...   \n",
       "1     https://www.avios.com/manage-avios/move-and-co...   \n",
       "2     https://www.avios.com/manage-avios/move-and-co...   \n",
       "3     https://accounts.britishairways.com/u/login?st...   \n",
       "4     https://accounts.britishairways.com/security/?...   \n",
       "...                                                 ...   \n",
       "5099  https://py-insights.com/account/demo/product?s...   \n",
       "5100       https://py-insights.com/account/demo/product   \n",
       "5101  https://py-insights.com/account/demo/product?s...   \n",
       "5102  https://chromewebstore.google.com/detail/snaps...   \n",
       "5103  chrome-extension://hkmmnfimlpcphpgnmgdecpdpaef...   \n",
       "\n",
       "                  eventtimeutc   transition  \\\n",
       "0     2025-01-21T11:00:35.229Z        typed   \n",
       "1     2025-01-21T11:00:36.207Z         link   \n",
       "2     2025-01-21T11:00:37.059Z         link   \n",
       "3     2025-01-21T11:00:39.407Z         link   \n",
       "4     2025-01-21T11:00:49.624Z  form_submit   \n",
       "...                        ...          ...   \n",
       "5099  2025-02-21T07:57:40.972Z         link   \n",
       "5100  2025-02-21T07:57:40.975Z         link   \n",
       "5101  2025-02-21T07:57:40.988Z         link   \n",
       "5102  2025-02-21T07:57:51.308Z         link   \n",
       "5103  2025-02-21T07:58:02.688Z         link   \n",
       "\n",
       "                                                  title  visitId  \\\n",
       "0     Convert Avios: Nectar &#44;  Finnair Plus &#44...   160209   \n",
       "1     Convert Avios: Nectar &#44;  Finnair Plus &#44...   160210   \n",
       "2     Convert Avios: Nectar &#44;  Finnair Plus &#44...   160211   \n",
       "3                                British Airways log in   160213   \n",
       "4                                       British Airways   160218   \n",
       "...                                                 ...      ...   \n",
       "5099                              PY Insights | Product   166319   \n",
       "5100                              PY Insights | Product   166320   \n",
       "5101                              PY Insights | Product   166321   \n",
       "5102                        Snapshot - Chrome Web Store   166327   \n",
       "5103                                                NaN   166328   \n",
       "\n",
       "      referringVisitId                  eventtime  \\\n",
       "0                    0  2025-01-21T03:00:35-08:00   \n",
       "1                    0  2025-01-21T03:00:36-08:00   \n",
       "2                    0  2025-01-21T03:00:37-08:00   \n",
       "3               160212  2025-01-21T03:00:39-08:00   \n",
       "4               160217  2025-01-21T03:00:49-08:00   \n",
       "...                ...                        ...   \n",
       "5099                 0  2025-02-20T23:57:40-08:00   \n",
       "5100                 0  2025-02-20T23:57:40-08:00   \n",
       "5101                 0  2025-02-20T23:57:40-08:00   \n",
       "5102            166326  2025-02-20T23:57:51-08:00   \n",
       "5103                 0  2025-02-20T23:58:02-08:00   \n",
       "\n",
       "                              base_url         category  \n",
       "0                        www.avios.com   travel_booking  \n",
       "1                        www.avios.com   travel_booking  \n",
       "2                        www.avios.com   travel_booking  \n",
       "3          accounts.britishairways.com   travel_booking  \n",
       "4          accounts.britishairways.com   travel_booking  \n",
       "...                                ...              ...  \n",
       "5099                   py-insights.com  developer_tools  \n",
       "5100                   py-insights.com  developer_tools  \n",
       "5101                   py-insights.com  developer_tools  \n",
       "5102         chromewebstore.google.com      marketplace  \n",
       "5103  hkmmnfimlpcphpgnmgdecpdpaefjnlga  developer_tools  \n",
       "\n",
       "[5104 rows x 11 columns]"
      ]
     },
     "execution_count": 6,
     "metadata": {},
     "output_type": "execute_result"
    }
   ],
   "source": [
    "df"
   ]
  },
  {
   "cell_type": "code",
   "execution_count": 71,
   "id": "6090758b",
   "metadata": {},
   "outputs": [
    {
     "name": "stderr",
     "output_type": "stream",
     "text": [
      "c:\\ProgramData\\anaconda3\\Lib\\site-packages\\altair\\utils\\core.py:395: FutureWarning:\n",
      "\n",
      "the convert_dtype parameter is deprecated and will be removed in a future version.  Do ``ser.astype(object).apply()`` instead if you want ``convert_dtype=False``.\n",
      "\n",
      "c:\\ProgramData\\anaconda3\\Lib\\site-packages\\altair\\utils\\core.py:395: FutureWarning:\n",
      "\n",
      "the convert_dtype parameter is deprecated and will be removed in a future version.  Do ``ser.astype(object).apply()`` instead if you want ``convert_dtype=False``.\n",
      "\n"
     ]
    },
    {
     "data": {
      "text/html": [
       "\n",
       "<style>\n",
       "  #altair-viz-8f531fdc6d3c49e3a049d9ee8be8a57b.vega-embed {\n",
       "    width: 100%;\n",
       "    display: flex;\n",
       "  }\n",
       "\n",
       "  #altair-viz-8f531fdc6d3c49e3a049d9ee8be8a57b.vega-embed details,\n",
       "  #altair-viz-8f531fdc6d3c49e3a049d9ee8be8a57b.vega-embed details summary {\n",
       "    position: relative;\n",
       "  }\n",
       "</style>\n",
       "<div id=\"altair-viz-8f531fdc6d3c49e3a049d9ee8be8a57b\"></div>\n",
       "<script type=\"text/javascript\">\n",
       "  var VEGA_DEBUG = (typeof VEGA_DEBUG == \"undefined\") ? {} : VEGA_DEBUG;\n",
       "  (function(spec, embedOpt){\n",
       "    let outputDiv = document.currentScript.previousElementSibling;\n",
       "    if (outputDiv.id !== \"altair-viz-8f531fdc6d3c49e3a049d9ee8be8a57b\") {\n",
       "      outputDiv = document.getElementById(\"altair-viz-8f531fdc6d3c49e3a049d9ee8be8a57b\");\n",
       "    }\n",
       "    const paths = {\n",
       "      \"vega\": \"https://cdn.jsdelivr.net/npm/vega@5?noext\",\n",
       "      \"vega-lib\": \"https://cdn.jsdelivr.net/npm/vega-lib?noext\",\n",
       "      \"vega-lite\": \"https://cdn.jsdelivr.net/npm/vega-lite@5.8.0?noext\",\n",
       "      \"vega-embed\": \"https://cdn.jsdelivr.net/npm/vega-embed@6?noext\",\n",
       "    };\n",
       "\n",
       "    function maybeLoadScript(lib, version) {\n",
       "      var key = `${lib.replace(\"-\", \"\")}_version`;\n",
       "      return (VEGA_DEBUG[key] == version) ?\n",
       "        Promise.resolve(paths[lib]) :\n",
       "        new Promise(function(resolve, reject) {\n",
       "          var s = document.createElement('script');\n",
       "          document.getElementsByTagName(\"head\")[0].appendChild(s);\n",
       "          s.async = true;\n",
       "          s.onload = () => {\n",
       "            VEGA_DEBUG[key] = version;\n",
       "            return resolve(paths[lib]);\n",
       "          };\n",
       "          s.onerror = () => reject(`Error loading script: ${paths[lib]}`);\n",
       "          s.src = paths[lib];\n",
       "        });\n",
       "    }\n",
       "\n",
       "    function showError(err) {\n",
       "      outputDiv.innerHTML = `<div class=\"error\" style=\"color:red;\">${err}</div>`;\n",
       "      throw err;\n",
       "    }\n",
       "\n",
       "    function displayChart(vegaEmbed) {\n",
       "      vegaEmbed(outputDiv, spec, embedOpt)\n",
       "        .catch(err => showError(`Javascript Error: ${err.message}<br>This usually means there's a typo in your chart specification. See the javascript console for the full traceback.`));\n",
       "    }\n",
       "\n",
       "    if(typeof define === \"function\" && define.amd) {\n",
       "      requirejs.config({paths});\n",
       "      require([\"vega-embed\"], displayChart, err => showError(`Error loading script: ${err.message}`));\n",
       "    } else {\n",
       "      maybeLoadScript(\"vega\", \"5\")\n",
       "        .then(() => maybeLoadScript(\"vega-lite\", \"5.8.0\"))\n",
       "        .then(() => maybeLoadScript(\"vega-embed\", \"6\"))\n",
       "        .catch(showError)\n",
       "        .then(() => displayChart(vegaEmbed));\n",
       "    }\n",
       "  })({\"config\": {\"view\": {\"continuousWidth\": 300, \"continuousHeight\": 300}}, \"data\": {\"name\": \"data-da6347e8a2e828f13707d46d50b36e10\"}, \"mark\": {\"type\": \"line\"}, \"encoding\": {\"color\": {\"field\": \"base_url\", \"title\": \"Site\", \"type\": \"nominal\"}, \"tooltip\": [{\"field\": \"eventtimeutc\", \"type\": \"nominal\"}, {\"field\": \"base_url\", \"type\": \"nominal\"}, {\"field\": \"visits\", \"type\": \"quantitative\"}], \"x\": {\"field\": \"eventtimeutc\", \"title\": \"Date\", \"type\": \"nominal\"}, \"y\": {\"field\": \"visits\", \"title\": \"Number of Visits\", \"type\": \"quantitative\"}}, \"params\": [{\"name\": \"param_3\", \"select\": {\"type\": \"interval\", \"encodings\": [\"x\", \"y\"]}, \"bind\": \"scales\"}], \"title\": \"Daily Visits for Top 50 Sites\", \"$schema\": \"https://vega.github.io/schema/vega-lite/v5.8.0.json\", \"datasets\": {\"data-da6347e8a2e828f13707d46d50b36e10\": [{\"eventtimeutc\": \"2025-01-21\", \"base_url\": \"accounts.google.com\", \"visits\": 0}, {\"eventtimeutc\": \"2025-01-21\", \"base_url\": \"app.clickup.com\", \"visits\": 0}, {\"eventtimeutc\": \"2025-01-21\", \"base_url\": \"app.onemedical.com\", \"visits\": 0}, {\"eventtimeutc\": \"2025-01-21\", \"base_url\": \"app.pinecone.io\", \"visits\": 0}, {\"eventtimeutc\": \"2025-01-21\", \"base_url\": \"app.powerbi.com\", \"visits\": 39}, {\"eventtimeutc\": \"2025-01-21\", \"base_url\": \"behav-my.sharepoint.com\", \"visits\": 0}, {\"eventtimeutc\": \"2025-01-21\", \"base_url\": \"chrome.google.com\", \"visits\": 0}, {\"eventtimeutc\": \"2025-01-21\", \"base_url\": \"cornerstone.csod.com\", \"visits\": 0}, {\"eventtimeutc\": \"2025-01-21\", \"base_url\": \"docs.google.com\", \"visits\": 6}, {\"eventtimeutc\": \"2025-01-21\", \"base_url\": \"drive.google.com\", \"visits\": 0}, {\"eventtimeutc\": \"2025-01-21\", \"base_url\": \"en.m.wikipedia.org\", \"visits\": 0}, {\"eventtimeutc\": \"2025-01-21\", \"base_url\": \"eu-west-1.console.aws.amazon.com\", \"visits\": 3}, {\"eventtimeutc\": \"2025-01-21\", \"base_url\": \"gitlab.com\", \"visits\": 0}, {\"eventtimeutc\": \"2025-01-21\", \"base_url\": \"go.xero.com\", \"visits\": 0}, {\"eventtimeutc\": \"2025-01-21\", \"base_url\": \"htmltemplates.co\", \"visits\": 0}, {\"eventtimeutc\": \"2025-01-21\", \"base_url\": \"idam-ui.company-information.service.gov.uk\", \"visits\": 0}, {\"eventtimeutc\": \"2025-01-21\", \"base_url\": \"joinmosaic.myaccountinfo.com\", \"visits\": 0}, {\"eventtimeutc\": \"2025-01-21\", \"base_url\": \"login.microsoftonline.com\", \"visits\": 0}, {\"eventtimeutc\": \"2025-01-21\", \"base_url\": \"mail.google.com\", \"visits\": 0}, {\"eventtimeutc\": \"2025-01-21\", \"base_url\": \"onedrive.live.com\", \"visits\": 0}, {\"eventtimeutc\": \"2025-01-21\", \"base_url\": \"photos.google.com\", \"visits\": 0}, {\"eventtimeutc\": \"2025-01-21\", \"base_url\": \"play.google.com\", \"visits\": 0}, {\"eventtimeutc\": \"2025-01-21\", \"base_url\": \"py-insights.com\", \"visits\": 0}, {\"eventtimeutc\": \"2025-01-21\", \"base_url\": \"pyinsightscom-my.sharepoint.com\", \"visits\": 0}, {\"eventtimeutc\": \"2025-01-21\", \"base_url\": \"pyinsightscom.sharepoint.com\", \"visits\": 0}, {\"eventtimeutc\": \"2025-01-21\", \"base_url\": \"reporting.xero.com\", \"visits\": 0}, {\"eventtimeutc\": \"2025-01-21\", \"base_url\": \"teams.microsoft.com\", \"visits\": 0}, {\"eventtimeutc\": \"2025-01-21\", \"base_url\": \"wellfound.com\", \"visits\": 0}, {\"eventtimeutc\": \"2025-01-21\", \"base_url\": \"wise.com\", \"visits\": 0}, {\"eventtimeutc\": \"2025-01-21\", \"base_url\": \"www.airasia.com\", \"visits\": 0}, {\"eventtimeutc\": \"2025-01-21\", \"base_url\": \"www.amazon.com\", \"visits\": 1}, {\"eventtimeutc\": \"2025-01-21\", \"base_url\": \"www.amazon.in\", \"visits\": 0}, {\"eventtimeutc\": \"2025-01-21\", \"base_url\": \"www.bizquest.com\", \"visits\": 0}, {\"eventtimeutc\": \"2025-01-21\", \"base_url\": \"www.facebook.com\", \"visits\": 0}, {\"eventtimeutc\": \"2025-01-21\", \"base_url\": \"www.flipkart.com\", \"visits\": 0}, {\"eventtimeutc\": \"2025-01-21\", \"base_url\": \"www.google.com\", \"visits\": 1}, {\"eventtimeutc\": \"2025-01-21\", \"base_url\": \"www.homedepot.com\", \"visits\": 0}, {\"eventtimeutc\": \"2025-01-21\", \"base_url\": \"www.instacart.com\", \"visits\": 0}, {\"eventtimeutc\": \"2025-01-21\", \"base_url\": \"www.instagram.com\", \"visits\": 0}, {\"eventtimeutc\": \"2025-01-21\", \"base_url\": \"www.linkedin.com\", \"visits\": 0}, {\"eventtimeutc\": \"2025-01-21\", \"base_url\": \"www.loopnet.com\", \"visits\": 0}, {\"eventtimeutc\": \"2025-01-21\", \"base_url\": \"www.mavenclinic.com\", \"visits\": 0}, {\"eventtimeutc\": \"2025-01-21\", \"base_url\": \"www.reddit.com\", \"visits\": 0}, {\"eventtimeutc\": \"2025-01-21\", \"base_url\": \"www.taskrabbit.com\", \"visits\": 0}, {\"eventtimeutc\": \"2025-01-21\", \"base_url\": \"www.timeanddate.com\", \"visits\": 0}, {\"eventtimeutc\": \"2025-01-21\", \"base_url\": \"www.tractorsupply.com\", \"visits\": 0}, {\"eventtimeutc\": \"2025-01-21\", \"base_url\": \"www.upwork.com\", \"visits\": 0}, {\"eventtimeutc\": \"2025-01-21\", \"base_url\": \"www.way.com\", \"visits\": 0}, {\"eventtimeutc\": \"2025-01-21\", \"base_url\": \"www.zillow.com\", \"visits\": 0}, {\"eventtimeutc\": \"2025-01-21\", \"base_url\": \"www.zipair.net\", \"visits\": 0}, {\"eventtimeutc\": \"2025-01-22\", \"base_url\": \"accounts.google.com\", \"visits\": 0}, {\"eventtimeutc\": \"2025-01-22\", \"base_url\": \"app.clickup.com\", \"visits\": 0}, {\"eventtimeutc\": \"2025-01-22\", \"base_url\": \"app.onemedical.com\", \"visits\": 0}, {\"eventtimeutc\": \"2025-01-22\", \"base_url\": \"app.pinecone.io\", \"visits\": 0}, {\"eventtimeutc\": \"2025-01-22\", \"base_url\": \"app.powerbi.com\", \"visits\": 0}, {\"eventtimeutc\": \"2025-01-22\", \"base_url\": \"behav-my.sharepoint.com\", \"visits\": 0}, {\"eventtimeutc\": \"2025-01-22\", \"base_url\": \"chrome.google.com\", \"visits\": 4}, {\"eventtimeutc\": \"2025-01-22\", \"base_url\": \"cornerstone.csod.com\", \"visits\": 4}, {\"eventtimeutc\": \"2025-01-22\", \"base_url\": \"docs.google.com\", \"visits\": 1}, {\"eventtimeutc\": \"2025-01-22\", \"base_url\": \"drive.google.com\", \"visits\": 0}, {\"eventtimeutc\": \"2025-01-22\", \"base_url\": \"en.m.wikipedia.org\", \"visits\": 0}, {\"eventtimeutc\": \"2025-01-22\", \"base_url\": \"eu-west-1.console.aws.amazon.com\", \"visits\": 4}, {\"eventtimeutc\": \"2025-01-22\", \"base_url\": \"gitlab.com\", \"visits\": 38}, {\"eventtimeutc\": \"2025-01-22\", \"base_url\": \"go.xero.com\", \"visits\": 0}, {\"eventtimeutc\": \"2025-01-22\", \"base_url\": \"htmltemplates.co\", \"visits\": 0}, {\"eventtimeutc\": \"2025-01-22\", \"base_url\": \"idam-ui.company-information.service.gov.uk\", \"visits\": 0}, {\"eventtimeutc\": \"2025-01-22\", \"base_url\": \"joinmosaic.myaccountinfo.com\", \"visits\": 0}, {\"eventtimeutc\": \"2025-01-22\", \"base_url\": \"login.microsoftonline.com\", \"visits\": 0}, {\"eventtimeutc\": \"2025-01-22\", \"base_url\": \"mail.google.com\", \"visits\": 29}, {\"eventtimeutc\": \"2025-01-22\", \"base_url\": \"onedrive.live.com\", \"visits\": 0}, {\"eventtimeutc\": \"2025-01-22\", \"base_url\": \"photos.google.com\", \"visits\": 0}, {\"eventtimeutc\": \"2025-01-22\", \"base_url\": \"play.google.com\", \"visits\": 0}, {\"eventtimeutc\": \"2025-01-22\", \"base_url\": \"py-insights.com\", \"visits\": 0}, {\"eventtimeutc\": \"2025-01-22\", \"base_url\": \"pyinsightscom-my.sharepoint.com\", \"visits\": 0}, {\"eventtimeutc\": \"2025-01-22\", \"base_url\": \"pyinsightscom.sharepoint.com\", \"visits\": 0}, {\"eventtimeutc\": \"2025-01-22\", \"base_url\": \"reporting.xero.com\", \"visits\": 0}, {\"eventtimeutc\": \"2025-01-22\", \"base_url\": \"teams.microsoft.com\", \"visits\": 0}, {\"eventtimeutc\": \"2025-01-22\", \"base_url\": \"wellfound.com\", \"visits\": 0}, {\"eventtimeutc\": \"2025-01-22\", \"base_url\": \"wise.com\", \"visits\": 0}, {\"eventtimeutc\": \"2025-01-22\", \"base_url\": \"www.airasia.com\", \"visits\": 0}, {\"eventtimeutc\": \"2025-01-22\", \"base_url\": \"www.amazon.com\", \"visits\": 0}, {\"eventtimeutc\": \"2025-01-22\", \"base_url\": \"www.amazon.in\", \"visits\": 0}, {\"eventtimeutc\": \"2025-01-22\", \"base_url\": \"www.bizquest.com\", \"visits\": 0}, {\"eventtimeutc\": \"2025-01-22\", \"base_url\": \"www.facebook.com\", \"visits\": 10}, {\"eventtimeutc\": \"2025-01-22\", \"base_url\": \"www.flipkart.com\", \"visits\": 0}, {\"eventtimeutc\": \"2025-01-22\", \"base_url\": \"www.google.com\", \"visits\": 1}, {\"eventtimeutc\": \"2025-01-22\", \"base_url\": \"www.homedepot.com\", \"visits\": 0}, {\"eventtimeutc\": \"2025-01-22\", \"base_url\": \"www.instacart.com\", \"visits\": 0}, {\"eventtimeutc\": \"2025-01-22\", \"base_url\": \"www.instagram.com\", \"visits\": 2}, {\"eventtimeutc\": \"2025-01-22\", \"base_url\": \"www.linkedin.com\", \"visits\": 0}, {\"eventtimeutc\": \"2025-01-22\", \"base_url\": \"www.loopnet.com\", \"visits\": 0}, {\"eventtimeutc\": \"2025-01-22\", \"base_url\": \"www.mavenclinic.com\", \"visits\": 0}, {\"eventtimeutc\": \"2025-01-22\", \"base_url\": \"www.reddit.com\", \"visits\": 0}, {\"eventtimeutc\": \"2025-01-22\", \"base_url\": \"www.taskrabbit.com\", \"visits\": 0}, {\"eventtimeutc\": \"2025-01-22\", \"base_url\": \"www.timeanddate.com\", \"visits\": 0}, {\"eventtimeutc\": \"2025-01-22\", \"base_url\": \"www.tractorsupply.com\", \"visits\": 0}, {\"eventtimeutc\": \"2025-01-22\", \"base_url\": \"www.upwork.com\", \"visits\": 0}, {\"eventtimeutc\": \"2025-01-22\", \"base_url\": \"www.way.com\", \"visits\": 0}, {\"eventtimeutc\": \"2025-01-22\", \"base_url\": \"www.zillow.com\", \"visits\": 0}, {\"eventtimeutc\": \"2025-01-22\", \"base_url\": \"www.zipair.net\", \"visits\": 0}, {\"eventtimeutc\": \"2025-01-23\", \"base_url\": \"accounts.google.com\", \"visits\": 2}, {\"eventtimeutc\": \"2025-01-23\", \"base_url\": \"app.clickup.com\", \"visits\": 1}, {\"eventtimeutc\": \"2025-01-23\", \"base_url\": \"app.onemedical.com\", \"visits\": 0}, {\"eventtimeutc\": \"2025-01-23\", \"base_url\": \"app.pinecone.io\", \"visits\": 0}, {\"eventtimeutc\": \"2025-01-23\", \"base_url\": \"app.powerbi.com\", \"visits\": 1}, {\"eventtimeutc\": \"2025-01-23\", \"base_url\": \"behav-my.sharepoint.com\", \"visits\": 10}, {\"eventtimeutc\": \"2025-01-23\", \"base_url\": \"chrome.google.com\", \"visits\": 9}, {\"eventtimeutc\": \"2025-01-23\", \"base_url\": \"cornerstone.csod.com\", \"visits\": 3}, {\"eventtimeutc\": \"2025-01-23\", \"base_url\": \"docs.google.com\", \"visits\": 7}, {\"eventtimeutc\": \"2025-01-23\", \"base_url\": \"drive.google.com\", \"visits\": 0}, {\"eventtimeutc\": \"2025-01-23\", \"base_url\": \"en.m.wikipedia.org\", \"visits\": 0}, {\"eventtimeutc\": \"2025-01-23\", \"base_url\": \"eu-west-1.console.aws.amazon.com\", \"visits\": 0}, {\"eventtimeutc\": \"2025-01-23\", \"base_url\": \"gitlab.com\", \"visits\": 0}, {\"eventtimeutc\": \"2025-01-23\", \"base_url\": \"go.xero.com\", \"visits\": 0}, {\"eventtimeutc\": \"2025-01-23\", \"base_url\": \"htmltemplates.co\", \"visits\": 0}, {\"eventtimeutc\": \"2025-01-23\", \"base_url\": \"idam-ui.company-information.service.gov.uk\", \"visits\": 0}, {\"eventtimeutc\": \"2025-01-23\", \"base_url\": \"joinmosaic.myaccountinfo.com\", \"visits\": 0}, {\"eventtimeutc\": \"2025-01-23\", \"base_url\": \"login.microsoftonline.com\", \"visits\": 6}, {\"eventtimeutc\": \"2025-01-23\", \"base_url\": \"mail.google.com\", \"visits\": 7}, {\"eventtimeutc\": \"2025-01-23\", \"base_url\": \"onedrive.live.com\", \"visits\": 8}, {\"eventtimeutc\": \"2025-01-23\", \"base_url\": \"photos.google.com\", \"visits\": 0}, {\"eventtimeutc\": \"2025-01-23\", \"base_url\": \"play.google.com\", \"visits\": 0}, {\"eventtimeutc\": \"2025-01-23\", \"base_url\": \"py-insights.com\", \"visits\": 0}, {\"eventtimeutc\": \"2025-01-23\", \"base_url\": \"pyinsightscom-my.sharepoint.com\", \"visits\": 18}, {\"eventtimeutc\": \"2025-01-23\", \"base_url\": \"pyinsightscom.sharepoint.com\", \"visits\": 11}, {\"eventtimeutc\": \"2025-01-23\", \"base_url\": \"reporting.xero.com\", \"visits\": 0}, {\"eventtimeutc\": \"2025-01-23\", \"base_url\": \"teams.microsoft.com\", \"visits\": 0}, {\"eventtimeutc\": \"2025-01-23\", \"base_url\": \"wellfound.com\", \"visits\": 0}, {\"eventtimeutc\": \"2025-01-23\", \"base_url\": \"wise.com\", \"visits\": 0}, {\"eventtimeutc\": \"2025-01-23\", \"base_url\": \"www.airasia.com\", \"visits\": 0}, {\"eventtimeutc\": \"2025-01-23\", \"base_url\": \"www.amazon.com\", \"visits\": 7}, {\"eventtimeutc\": \"2025-01-23\", \"base_url\": \"www.amazon.in\", \"visits\": 0}, {\"eventtimeutc\": \"2025-01-23\", \"base_url\": \"www.bizquest.com\", \"visits\": 0}, {\"eventtimeutc\": \"2025-01-23\", \"base_url\": \"www.facebook.com\", \"visits\": 15}, {\"eventtimeutc\": \"2025-01-23\", \"base_url\": \"www.flipkart.com\", \"visits\": 0}, {\"eventtimeutc\": \"2025-01-23\", \"base_url\": \"www.google.com\", \"visits\": 0}, {\"eventtimeutc\": \"2025-01-23\", \"base_url\": \"www.homedepot.com\", \"visits\": 0}, {\"eventtimeutc\": \"2025-01-23\", \"base_url\": \"www.instacart.com\", \"visits\": 0}, {\"eventtimeutc\": \"2025-01-23\", \"base_url\": \"www.instagram.com\", \"visits\": 0}, {\"eventtimeutc\": \"2025-01-23\", \"base_url\": \"www.linkedin.com\", \"visits\": 0}, {\"eventtimeutc\": \"2025-01-23\", \"base_url\": \"www.loopnet.com\", \"visits\": 0}, {\"eventtimeutc\": \"2025-01-23\", \"base_url\": \"www.mavenclinic.com\", \"visits\": 0}, {\"eventtimeutc\": \"2025-01-23\", \"base_url\": \"www.reddit.com\", \"visits\": 0}, {\"eventtimeutc\": \"2025-01-23\", \"base_url\": \"www.taskrabbit.com\", \"visits\": 0}, {\"eventtimeutc\": \"2025-01-23\", \"base_url\": \"www.timeanddate.com\", \"visits\": 0}, {\"eventtimeutc\": \"2025-01-23\", \"base_url\": \"www.tractorsupply.com\", \"visits\": 0}, {\"eventtimeutc\": \"2025-01-23\", \"base_url\": \"www.upwork.com\", \"visits\": 20}, {\"eventtimeutc\": \"2025-01-23\", \"base_url\": \"www.way.com\", \"visits\": 0}, {\"eventtimeutc\": \"2025-01-23\", \"base_url\": \"www.zillow.com\", \"visits\": 0}, {\"eventtimeutc\": \"2025-01-23\", \"base_url\": \"www.zipair.net\", \"visits\": 0}, {\"eventtimeutc\": \"2025-01-24\", \"base_url\": \"accounts.google.com\", \"visits\": 0}, {\"eventtimeutc\": \"2025-01-24\", \"base_url\": \"app.clickup.com\", \"visits\": 0}, {\"eventtimeutc\": \"2025-01-24\", \"base_url\": \"app.onemedical.com\", \"visits\": 0}, {\"eventtimeutc\": \"2025-01-24\", \"base_url\": \"app.pinecone.io\", \"visits\": 0}, {\"eventtimeutc\": \"2025-01-24\", \"base_url\": \"app.powerbi.com\", \"visits\": 0}, {\"eventtimeutc\": \"2025-01-24\", \"base_url\": \"behav-my.sharepoint.com\", \"visits\": 0}, {\"eventtimeutc\": \"2025-01-24\", \"base_url\": \"chrome.google.com\", \"visits\": 0}, {\"eventtimeutc\": \"2025-01-24\", \"base_url\": \"cornerstone.csod.com\", \"visits\": 1}, {\"eventtimeutc\": \"2025-01-24\", \"base_url\": \"docs.google.com\", \"visits\": 7}, {\"eventtimeutc\": \"2025-01-24\", \"base_url\": \"drive.google.com\", \"visits\": 0}, {\"eventtimeutc\": \"2025-01-24\", \"base_url\": \"en.m.wikipedia.org\", \"visits\": 0}, {\"eventtimeutc\": \"2025-01-24\", \"base_url\": \"eu-west-1.console.aws.amazon.com\", \"visits\": 4}, {\"eventtimeutc\": \"2025-01-24\", \"base_url\": \"gitlab.com\", \"visits\": 0}, {\"eventtimeutc\": \"2025-01-24\", \"base_url\": \"go.xero.com\", \"visits\": 0}, {\"eventtimeutc\": \"2025-01-24\", \"base_url\": \"htmltemplates.co\", \"visits\": 0}, {\"eventtimeutc\": \"2025-01-24\", \"base_url\": \"idam-ui.company-information.service.gov.uk\", \"visits\": 0}, {\"eventtimeutc\": \"2025-01-24\", \"base_url\": \"joinmosaic.myaccountinfo.com\", \"visits\": 0}, {\"eventtimeutc\": \"2025-01-24\", \"base_url\": \"login.microsoftonline.com\", \"visits\": 0}, {\"eventtimeutc\": \"2025-01-24\", \"base_url\": \"mail.google.com\", \"visits\": 0}, {\"eventtimeutc\": \"2025-01-24\", \"base_url\": \"onedrive.live.com\", \"visits\": 0}, {\"eventtimeutc\": \"2025-01-24\", \"base_url\": \"photos.google.com\", \"visits\": 0}, {\"eventtimeutc\": \"2025-01-24\", \"base_url\": \"play.google.com\", \"visits\": 2}, {\"eventtimeutc\": \"2025-01-24\", \"base_url\": \"py-insights.com\", \"visits\": 0}, {\"eventtimeutc\": \"2025-01-24\", \"base_url\": \"pyinsightscom-my.sharepoint.com\", \"visits\": 7}, {\"eventtimeutc\": \"2025-01-24\", \"base_url\": \"pyinsightscom.sharepoint.com\", \"visits\": 18}, {\"eventtimeutc\": \"2025-01-24\", \"base_url\": \"reporting.xero.com\", \"visits\": 0}, {\"eventtimeutc\": \"2025-01-24\", \"base_url\": \"teams.microsoft.com\", \"visits\": 0}, {\"eventtimeutc\": \"2025-01-24\", \"base_url\": \"wellfound.com\", \"visits\": 0}, {\"eventtimeutc\": \"2025-01-24\", \"base_url\": \"wise.com\", \"visits\": 0}, {\"eventtimeutc\": \"2025-01-24\", \"base_url\": \"www.airasia.com\", \"visits\": 0}, {\"eventtimeutc\": \"2025-01-24\", \"base_url\": \"www.amazon.com\", \"visits\": 0}, {\"eventtimeutc\": \"2025-01-24\", \"base_url\": \"www.amazon.in\", \"visits\": 15}, {\"eventtimeutc\": \"2025-01-24\", \"base_url\": \"www.bizquest.com\", \"visits\": 0}, {\"eventtimeutc\": \"2025-01-24\", \"base_url\": \"www.facebook.com\", \"visits\": 2}, {\"eventtimeutc\": \"2025-01-24\", \"base_url\": \"www.flipkart.com\", \"visits\": 0}, {\"eventtimeutc\": \"2025-01-24\", \"base_url\": \"www.google.com\", \"visits\": 18}, {\"eventtimeutc\": \"2025-01-24\", \"base_url\": \"www.homedepot.com\", \"visits\": 0}, {\"eventtimeutc\": \"2025-01-24\", \"base_url\": \"www.instacart.com\", \"visits\": 0}, {\"eventtimeutc\": \"2025-01-24\", \"base_url\": \"www.instagram.com\", \"visits\": 0}, {\"eventtimeutc\": \"2025-01-24\", \"base_url\": \"www.linkedin.com\", \"visits\": 0}, {\"eventtimeutc\": \"2025-01-24\", \"base_url\": \"www.loopnet.com\", \"visits\": 0}, {\"eventtimeutc\": \"2025-01-24\", \"base_url\": \"www.mavenclinic.com\", \"visits\": 0}, {\"eventtimeutc\": \"2025-01-24\", \"base_url\": \"www.reddit.com\", \"visits\": 0}, {\"eventtimeutc\": \"2025-01-24\", \"base_url\": \"www.taskrabbit.com\", \"visits\": 0}, {\"eventtimeutc\": \"2025-01-24\", \"base_url\": \"www.timeanddate.com\", \"visits\": 0}, {\"eventtimeutc\": \"2025-01-24\", \"base_url\": \"www.tractorsupply.com\", \"visits\": 0}, {\"eventtimeutc\": \"2025-01-24\", \"base_url\": \"www.upwork.com\", \"visits\": 19}, {\"eventtimeutc\": \"2025-01-24\", \"base_url\": \"www.way.com\", \"visits\": 0}, {\"eventtimeutc\": \"2025-01-24\", \"base_url\": \"www.zillow.com\", \"visits\": 0}, {\"eventtimeutc\": \"2025-01-24\", \"base_url\": \"www.zipair.net\", \"visits\": 0}, {\"eventtimeutc\": \"2025-01-25\", \"base_url\": \"accounts.google.com\", \"visits\": 0}, {\"eventtimeutc\": \"2025-01-25\", \"base_url\": \"app.clickup.com\", \"visits\": 0}, {\"eventtimeutc\": \"2025-01-25\", \"base_url\": \"app.onemedical.com\", \"visits\": 0}, {\"eventtimeutc\": \"2025-01-25\", \"base_url\": \"app.pinecone.io\", \"visits\": 0}, {\"eventtimeutc\": \"2025-01-25\", \"base_url\": \"app.powerbi.com\", \"visits\": 0}, {\"eventtimeutc\": \"2025-01-25\", \"base_url\": \"behav-my.sharepoint.com\", \"visits\": 0}, {\"eventtimeutc\": \"2025-01-25\", \"base_url\": \"chrome.google.com\", \"visits\": 0}, {\"eventtimeutc\": \"2025-01-25\", \"base_url\": \"cornerstone.csod.com\", \"visits\": 0}, {\"eventtimeutc\": \"2025-01-25\", \"base_url\": \"docs.google.com\", \"visits\": 0}, {\"eventtimeutc\": \"2025-01-25\", \"base_url\": \"drive.google.com\", \"visits\": 0}, {\"eventtimeutc\": \"2025-01-25\", \"base_url\": \"en.m.wikipedia.org\", \"visits\": 0}, {\"eventtimeutc\": \"2025-01-25\", \"base_url\": \"eu-west-1.console.aws.amazon.com\", \"visits\": 0}, {\"eventtimeutc\": \"2025-01-25\", \"base_url\": \"gitlab.com\", \"visits\": 0}, {\"eventtimeutc\": \"2025-01-25\", \"base_url\": \"go.xero.com\", \"visits\": 0}, {\"eventtimeutc\": \"2025-01-25\", \"base_url\": \"htmltemplates.co\", \"visits\": 0}, {\"eventtimeutc\": \"2025-01-25\", \"base_url\": \"idam-ui.company-information.service.gov.uk\", \"visits\": 0}, {\"eventtimeutc\": \"2025-01-25\", \"base_url\": \"joinmosaic.myaccountinfo.com\", \"visits\": 0}, {\"eventtimeutc\": \"2025-01-25\", \"base_url\": \"login.microsoftonline.com\", \"visits\": 0}, {\"eventtimeutc\": \"2025-01-25\", \"base_url\": \"mail.google.com\", \"visits\": 3}, {\"eventtimeutc\": \"2025-01-25\", \"base_url\": \"onedrive.live.com\", \"visits\": 0}, {\"eventtimeutc\": \"2025-01-25\", \"base_url\": \"photos.google.com\", \"visits\": 0}, {\"eventtimeutc\": \"2025-01-25\", \"base_url\": \"play.google.com\", \"visits\": 0}, {\"eventtimeutc\": \"2025-01-25\", \"base_url\": \"py-insights.com\", \"visits\": 0}, {\"eventtimeutc\": \"2025-01-25\", \"base_url\": \"pyinsightscom-my.sharepoint.com\", \"visits\": 0}, {\"eventtimeutc\": \"2025-01-25\", \"base_url\": \"pyinsightscom.sharepoint.com\", \"visits\": 0}, {\"eventtimeutc\": \"2025-01-25\", \"base_url\": \"reporting.xero.com\", \"visits\": 0}, {\"eventtimeutc\": \"2025-01-25\", \"base_url\": \"teams.microsoft.com\", \"visits\": 0}, {\"eventtimeutc\": \"2025-01-25\", \"base_url\": \"wellfound.com\", \"visits\": 0}, {\"eventtimeutc\": \"2025-01-25\", \"base_url\": \"wise.com\", \"visits\": 0}, {\"eventtimeutc\": \"2025-01-25\", \"base_url\": \"www.airasia.com\", \"visits\": 0}, {\"eventtimeutc\": \"2025-01-25\", \"base_url\": \"www.amazon.com\", \"visits\": 0}, {\"eventtimeutc\": \"2025-01-25\", \"base_url\": \"www.amazon.in\", \"visits\": 0}, {\"eventtimeutc\": \"2025-01-25\", \"base_url\": \"www.bizquest.com\", \"visits\": 0}, {\"eventtimeutc\": \"2025-01-25\", \"base_url\": \"www.facebook.com\", \"visits\": 2}, {\"eventtimeutc\": \"2025-01-25\", \"base_url\": \"www.flipkart.com\", \"visits\": 0}, {\"eventtimeutc\": \"2025-01-25\", \"base_url\": \"www.google.com\", \"visits\": 56}, {\"eventtimeutc\": \"2025-01-25\", \"base_url\": \"www.homedepot.com\", \"visits\": 2}, {\"eventtimeutc\": \"2025-01-25\", \"base_url\": \"www.instacart.com\", \"visits\": 0}, {\"eventtimeutc\": \"2025-01-25\", \"base_url\": \"www.instagram.com\", \"visits\": 0}, {\"eventtimeutc\": \"2025-01-25\", \"base_url\": \"www.linkedin.com\", \"visits\": 0}, {\"eventtimeutc\": \"2025-01-25\", \"base_url\": \"www.loopnet.com\", \"visits\": 0}, {\"eventtimeutc\": \"2025-01-25\", \"base_url\": \"www.mavenclinic.com\", \"visits\": 0}, {\"eventtimeutc\": \"2025-01-25\", \"base_url\": \"www.reddit.com\", \"visits\": 0}, {\"eventtimeutc\": \"2025-01-25\", \"base_url\": \"www.taskrabbit.com\", \"visits\": 0}, {\"eventtimeutc\": \"2025-01-25\", \"base_url\": \"www.timeanddate.com\", \"visits\": 0}, {\"eventtimeutc\": \"2025-01-25\", \"base_url\": \"www.tractorsupply.com\", \"visits\": 0}, {\"eventtimeutc\": \"2025-01-25\", \"base_url\": \"www.upwork.com\", \"visits\": 3}, {\"eventtimeutc\": \"2025-01-25\", \"base_url\": \"www.way.com\", \"visits\": 0}, {\"eventtimeutc\": \"2025-01-25\", \"base_url\": \"www.zillow.com\", \"visits\": 0}, {\"eventtimeutc\": \"2025-01-25\", \"base_url\": \"www.zipair.net\", \"visits\": 0}, {\"eventtimeutc\": \"2025-01-26\", \"base_url\": \"accounts.google.com\", \"visits\": 0}, {\"eventtimeutc\": \"2025-01-26\", \"base_url\": \"app.clickup.com\", \"visits\": 0}, {\"eventtimeutc\": \"2025-01-26\", \"base_url\": \"app.onemedical.com\", \"visits\": 0}, {\"eventtimeutc\": \"2025-01-26\", \"base_url\": \"app.pinecone.io\", \"visits\": 0}, {\"eventtimeutc\": \"2025-01-26\", \"base_url\": \"app.powerbi.com\", \"visits\": 0}, {\"eventtimeutc\": \"2025-01-26\", \"base_url\": \"behav-my.sharepoint.com\", \"visits\": 0}, {\"eventtimeutc\": \"2025-01-26\", \"base_url\": \"chrome.google.com\", \"visits\": 0}, {\"eventtimeutc\": \"2025-01-26\", \"base_url\": \"cornerstone.csod.com\", \"visits\": 0}, {\"eventtimeutc\": \"2025-01-26\", \"base_url\": \"docs.google.com\", \"visits\": 0}, {\"eventtimeutc\": \"2025-01-26\", \"base_url\": \"drive.google.com\", \"visits\": 0}, {\"eventtimeutc\": \"2025-01-26\", \"base_url\": \"en.m.wikipedia.org\", \"visits\": 0}, {\"eventtimeutc\": \"2025-01-26\", \"base_url\": \"eu-west-1.console.aws.amazon.com\", \"visits\": 0}, {\"eventtimeutc\": \"2025-01-26\", \"base_url\": \"gitlab.com\", \"visits\": 0}, {\"eventtimeutc\": \"2025-01-26\", \"base_url\": \"go.xero.com\", \"visits\": 0}, {\"eventtimeutc\": \"2025-01-26\", \"base_url\": \"htmltemplates.co\", \"visits\": 0}, {\"eventtimeutc\": \"2025-01-26\", \"base_url\": \"idam-ui.company-information.service.gov.uk\", \"visits\": 0}, {\"eventtimeutc\": \"2025-01-26\", \"base_url\": \"joinmosaic.myaccountinfo.com\", \"visits\": 0}, {\"eventtimeutc\": \"2025-01-26\", \"base_url\": \"login.microsoftonline.com\", \"visits\": 0}, {\"eventtimeutc\": \"2025-01-26\", \"base_url\": \"mail.google.com\", \"visits\": 0}, {\"eventtimeutc\": \"2025-01-26\", \"base_url\": \"onedrive.live.com\", \"visits\": 0}, {\"eventtimeutc\": \"2025-01-26\", \"base_url\": \"photos.google.com\", \"visits\": 0}, {\"eventtimeutc\": \"2025-01-26\", \"base_url\": \"play.google.com\", \"visits\": 0}, {\"eventtimeutc\": \"2025-01-26\", \"base_url\": \"py-insights.com\", \"visits\": 0}, {\"eventtimeutc\": \"2025-01-26\", \"base_url\": \"pyinsightscom-my.sharepoint.com\", \"visits\": 0}, {\"eventtimeutc\": \"2025-01-26\", \"base_url\": \"pyinsightscom.sharepoint.com\", \"visits\": 0}, {\"eventtimeutc\": \"2025-01-26\", \"base_url\": \"reporting.xero.com\", \"visits\": 0}, {\"eventtimeutc\": \"2025-01-26\", \"base_url\": \"teams.microsoft.com\", \"visits\": 0}, {\"eventtimeutc\": \"2025-01-26\", \"base_url\": \"wellfound.com\", \"visits\": 0}, {\"eventtimeutc\": \"2025-01-26\", \"base_url\": \"wise.com\", \"visits\": 0}, {\"eventtimeutc\": \"2025-01-26\", \"base_url\": \"www.airasia.com\", \"visits\": 0}, {\"eventtimeutc\": \"2025-01-26\", \"base_url\": \"www.amazon.com\", \"visits\": 1}, {\"eventtimeutc\": \"2025-01-26\", \"base_url\": \"www.amazon.in\", \"visits\": 0}, {\"eventtimeutc\": \"2025-01-26\", \"base_url\": \"www.bizquest.com\", \"visits\": 0}, {\"eventtimeutc\": \"2025-01-26\", \"base_url\": \"www.facebook.com\", \"visits\": 0}, {\"eventtimeutc\": \"2025-01-26\", \"base_url\": \"www.flipkart.com\", \"visits\": 0}, {\"eventtimeutc\": \"2025-01-26\", \"base_url\": \"www.google.com\", \"visits\": 20}, {\"eventtimeutc\": \"2025-01-26\", \"base_url\": \"www.homedepot.com\", \"visits\": 4}, {\"eventtimeutc\": \"2025-01-26\", \"base_url\": \"www.instacart.com\", \"visits\": 0}, {\"eventtimeutc\": \"2025-01-26\", \"base_url\": \"www.instagram.com\", \"visits\": 0}, {\"eventtimeutc\": \"2025-01-26\", \"base_url\": \"www.linkedin.com\", \"visits\": 0}, {\"eventtimeutc\": \"2025-01-26\", \"base_url\": \"www.loopnet.com\", \"visits\": 0}, {\"eventtimeutc\": \"2025-01-26\", \"base_url\": \"www.mavenclinic.com\", \"visits\": 0}, {\"eventtimeutc\": \"2025-01-26\", \"base_url\": \"www.reddit.com\", \"visits\": 1}, {\"eventtimeutc\": \"2025-01-26\", \"base_url\": \"www.taskrabbit.com\", \"visits\": 0}, {\"eventtimeutc\": \"2025-01-26\", \"base_url\": \"www.timeanddate.com\", \"visits\": 0}, {\"eventtimeutc\": \"2025-01-26\", \"base_url\": \"www.tractorsupply.com\", \"visits\": 10}, {\"eventtimeutc\": \"2025-01-26\", \"base_url\": \"www.upwork.com\", \"visits\": 3}, {\"eventtimeutc\": \"2025-01-26\", \"base_url\": \"www.way.com\", \"visits\": 0}, {\"eventtimeutc\": \"2025-01-26\", \"base_url\": \"www.zillow.com\", \"visits\": 0}, {\"eventtimeutc\": \"2025-01-26\", \"base_url\": \"www.zipair.net\", \"visits\": 0}, {\"eventtimeutc\": \"2025-01-27\", \"base_url\": \"accounts.google.com\", \"visits\": 3}, {\"eventtimeutc\": \"2025-01-27\", \"base_url\": \"app.clickup.com\", \"visits\": 0}, {\"eventtimeutc\": \"2025-01-27\", \"base_url\": \"app.onemedical.com\", \"visits\": 0}, {\"eventtimeutc\": \"2025-01-27\", \"base_url\": \"app.pinecone.io\", \"visits\": 0}, {\"eventtimeutc\": \"2025-01-27\", \"base_url\": \"app.powerbi.com\", \"visits\": 0}, {\"eventtimeutc\": \"2025-01-27\", \"base_url\": \"behav-my.sharepoint.com\", \"visits\": 1}, {\"eventtimeutc\": \"2025-01-27\", \"base_url\": \"chrome.google.com\", \"visits\": 1}, {\"eventtimeutc\": \"2025-01-27\", \"base_url\": \"cornerstone.csod.com\", \"visits\": 0}, {\"eventtimeutc\": \"2025-01-27\", \"base_url\": \"docs.google.com\", \"visits\": 4}, {\"eventtimeutc\": \"2025-01-27\", \"base_url\": \"drive.google.com\", \"visits\": 0}, {\"eventtimeutc\": \"2025-01-27\", \"base_url\": \"en.m.wikipedia.org\", \"visits\": 0}, {\"eventtimeutc\": \"2025-01-27\", \"base_url\": \"eu-west-1.console.aws.amazon.com\", \"visits\": 0}, {\"eventtimeutc\": \"2025-01-27\", \"base_url\": \"gitlab.com\", \"visits\": 0}, {\"eventtimeutc\": \"2025-01-27\", \"base_url\": \"go.xero.com\", \"visits\": 0}, {\"eventtimeutc\": \"2025-01-27\", \"base_url\": \"htmltemplates.co\", \"visits\": 0}, {\"eventtimeutc\": \"2025-01-27\", \"base_url\": \"idam-ui.company-information.service.gov.uk\", \"visits\": 0}, {\"eventtimeutc\": \"2025-01-27\", \"base_url\": \"joinmosaic.myaccountinfo.com\", \"visits\": 0}, {\"eventtimeutc\": \"2025-01-27\", \"base_url\": \"login.microsoftonline.com\", \"visits\": 0}, {\"eventtimeutc\": \"2025-01-27\", \"base_url\": \"mail.google.com\", \"visits\": 10}, {\"eventtimeutc\": \"2025-01-27\", \"base_url\": \"onedrive.live.com\", \"visits\": 0}, {\"eventtimeutc\": \"2025-01-27\", \"base_url\": \"photos.google.com\", \"visits\": 0}, {\"eventtimeutc\": \"2025-01-27\", \"base_url\": \"play.google.com\", \"visits\": 0}, {\"eventtimeutc\": \"2025-01-27\", \"base_url\": \"py-insights.com\", \"visits\": 0}, {\"eventtimeutc\": \"2025-01-27\", \"base_url\": \"pyinsightscom-my.sharepoint.com\", \"visits\": 9}, {\"eventtimeutc\": \"2025-01-27\", \"base_url\": \"pyinsightscom.sharepoint.com\", \"visits\": 0}, {\"eventtimeutc\": \"2025-01-27\", \"base_url\": \"reporting.xero.com\", \"visits\": 0}, {\"eventtimeutc\": \"2025-01-27\", \"base_url\": \"teams.microsoft.com\", \"visits\": 2}, {\"eventtimeutc\": \"2025-01-27\", \"base_url\": \"wellfound.com\", \"visits\": 0}, {\"eventtimeutc\": \"2025-01-27\", \"base_url\": \"wise.com\", \"visits\": 0}, {\"eventtimeutc\": \"2025-01-27\", \"base_url\": \"www.airasia.com\", \"visits\": 0}, {\"eventtimeutc\": \"2025-01-27\", \"base_url\": \"www.amazon.com\", \"visits\": 0}, {\"eventtimeutc\": \"2025-01-27\", \"base_url\": \"www.amazon.in\", \"visits\": 0}, {\"eventtimeutc\": \"2025-01-27\", \"base_url\": \"www.bizquest.com\", \"visits\": 0}, {\"eventtimeutc\": \"2025-01-27\", \"base_url\": \"www.facebook.com\", \"visits\": 0}, {\"eventtimeutc\": \"2025-01-27\", \"base_url\": \"www.flipkart.com\", \"visits\": 0}, {\"eventtimeutc\": \"2025-01-27\", \"base_url\": \"www.google.com\", \"visits\": 37}, {\"eventtimeutc\": \"2025-01-27\", \"base_url\": \"www.homedepot.com\", \"visits\": 6}, {\"eventtimeutc\": \"2025-01-27\", \"base_url\": \"www.instacart.com\", \"visits\": 0}, {\"eventtimeutc\": \"2025-01-27\", \"base_url\": \"www.instagram.com\", \"visits\": 0}, {\"eventtimeutc\": \"2025-01-27\", \"base_url\": \"www.linkedin.com\", \"visits\": 0}, {\"eventtimeutc\": \"2025-01-27\", \"base_url\": \"www.loopnet.com\", \"visits\": 0}, {\"eventtimeutc\": \"2025-01-27\", \"base_url\": \"www.mavenclinic.com\", \"visits\": 0}, {\"eventtimeutc\": \"2025-01-27\", \"base_url\": \"www.reddit.com\", \"visits\": 0}, {\"eventtimeutc\": \"2025-01-27\", \"base_url\": \"www.taskrabbit.com\", \"visits\": 0}, {\"eventtimeutc\": \"2025-01-27\", \"base_url\": \"www.timeanddate.com\", \"visits\": 0}, {\"eventtimeutc\": \"2025-01-27\", \"base_url\": \"www.tractorsupply.com\", \"visits\": 23}, {\"eventtimeutc\": \"2025-01-27\", \"base_url\": \"www.upwork.com\", \"visits\": 79}, {\"eventtimeutc\": \"2025-01-27\", \"base_url\": \"www.way.com\", \"visits\": 0}, {\"eventtimeutc\": \"2025-01-27\", \"base_url\": \"www.zillow.com\", \"visits\": 0}, {\"eventtimeutc\": \"2025-01-27\", \"base_url\": \"www.zipair.net\", \"visits\": 0}, {\"eventtimeutc\": \"2025-01-28\", \"base_url\": \"accounts.google.com\", \"visits\": 0}, {\"eventtimeutc\": \"2025-01-28\", \"base_url\": \"app.clickup.com\", \"visits\": 0}, {\"eventtimeutc\": \"2025-01-28\", \"base_url\": \"app.onemedical.com\", \"visits\": 0}, {\"eventtimeutc\": \"2025-01-28\", \"base_url\": \"app.pinecone.io\", \"visits\": 0}, {\"eventtimeutc\": \"2025-01-28\", \"base_url\": \"app.powerbi.com\", \"visits\": 0}, {\"eventtimeutc\": \"2025-01-28\", \"base_url\": \"behav-my.sharepoint.com\", \"visits\": 0}, {\"eventtimeutc\": \"2025-01-28\", \"base_url\": \"chrome.google.com\", \"visits\": 0}, {\"eventtimeutc\": \"2025-01-28\", \"base_url\": \"cornerstone.csod.com\", \"visits\": 0}, {\"eventtimeutc\": \"2025-01-28\", \"base_url\": \"docs.google.com\", \"visits\": 0}, {\"eventtimeutc\": \"2025-01-28\", \"base_url\": \"drive.google.com\", \"visits\": 0}, {\"eventtimeutc\": \"2025-01-28\", \"base_url\": \"en.m.wikipedia.org\", \"visits\": 0}, {\"eventtimeutc\": \"2025-01-28\", \"base_url\": \"eu-west-1.console.aws.amazon.com\", \"visits\": 0}, {\"eventtimeutc\": \"2025-01-28\", \"base_url\": \"gitlab.com\", \"visits\": 0}, {\"eventtimeutc\": \"2025-01-28\", \"base_url\": \"go.xero.com\", \"visits\": 0}, {\"eventtimeutc\": \"2025-01-28\", \"base_url\": \"htmltemplates.co\", \"visits\": 0}, {\"eventtimeutc\": \"2025-01-28\", \"base_url\": \"idam-ui.company-information.service.gov.uk\", \"visits\": 0}, {\"eventtimeutc\": \"2025-01-28\", \"base_url\": \"joinmosaic.myaccountinfo.com\", \"visits\": 0}, {\"eventtimeutc\": \"2025-01-28\", \"base_url\": \"login.microsoftonline.com\", \"visits\": 0}, {\"eventtimeutc\": \"2025-01-28\", \"base_url\": \"mail.google.com\", \"visits\": 0}, {\"eventtimeutc\": \"2025-01-28\", \"base_url\": \"onedrive.live.com\", \"visits\": 0}, {\"eventtimeutc\": \"2025-01-28\", \"base_url\": \"photos.google.com\", \"visits\": 0}, {\"eventtimeutc\": \"2025-01-28\", \"base_url\": \"play.google.com\", \"visits\": 4}, {\"eventtimeutc\": \"2025-01-28\", \"base_url\": \"py-insights.com\", \"visits\": 0}, {\"eventtimeutc\": \"2025-01-28\", \"base_url\": \"pyinsightscom-my.sharepoint.com\", \"visits\": 0}, {\"eventtimeutc\": \"2025-01-28\", \"base_url\": \"pyinsightscom.sharepoint.com\", \"visits\": 2}, {\"eventtimeutc\": \"2025-01-28\", \"base_url\": \"reporting.xero.com\", \"visits\": 0}, {\"eventtimeutc\": \"2025-01-28\", \"base_url\": \"teams.microsoft.com\", \"visits\": 0}, {\"eventtimeutc\": \"2025-01-28\", \"base_url\": \"wellfound.com\", \"visits\": 0}, {\"eventtimeutc\": \"2025-01-28\", \"base_url\": \"wise.com\", \"visits\": 0}, {\"eventtimeutc\": \"2025-01-28\", \"base_url\": \"www.airasia.com\", \"visits\": 0}, {\"eventtimeutc\": \"2025-01-28\", \"base_url\": \"www.amazon.com\", \"visits\": 0}, {\"eventtimeutc\": \"2025-01-28\", \"base_url\": \"www.amazon.in\", \"visits\": 0}, {\"eventtimeutc\": \"2025-01-28\", \"base_url\": \"www.bizquest.com\", \"visits\": 0}, {\"eventtimeutc\": \"2025-01-28\", \"base_url\": \"www.facebook.com\", \"visits\": 0}, {\"eventtimeutc\": \"2025-01-28\", \"base_url\": \"www.flipkart.com\", \"visits\": 0}, {\"eventtimeutc\": \"2025-01-28\", \"base_url\": \"www.google.com\", \"visits\": 54}, {\"eventtimeutc\": \"2025-01-28\", \"base_url\": \"www.homedepot.com\", \"visits\": 0}, {\"eventtimeutc\": \"2025-01-28\", \"base_url\": \"www.instacart.com\", \"visits\": 0}, {\"eventtimeutc\": \"2025-01-28\", \"base_url\": \"www.instagram.com\", \"visits\": 0}, {\"eventtimeutc\": \"2025-01-28\", \"base_url\": \"www.linkedin.com\", \"visits\": 0}, {\"eventtimeutc\": \"2025-01-28\", \"base_url\": \"www.loopnet.com\", \"visits\": 0}, {\"eventtimeutc\": \"2025-01-28\", \"base_url\": \"www.mavenclinic.com\", \"visits\": 31}, {\"eventtimeutc\": \"2025-01-28\", \"base_url\": \"www.reddit.com\", \"visits\": 0}, {\"eventtimeutc\": \"2025-01-28\", \"base_url\": \"www.taskrabbit.com\", \"visits\": 0}, {\"eventtimeutc\": \"2025-01-28\", \"base_url\": \"www.timeanddate.com\", \"visits\": 6}, {\"eventtimeutc\": \"2025-01-28\", \"base_url\": \"www.tractorsupply.com\", \"visits\": 0}, {\"eventtimeutc\": \"2025-01-28\", \"base_url\": \"www.upwork.com\", \"visits\": 0}, {\"eventtimeutc\": \"2025-01-28\", \"base_url\": \"www.way.com\", \"visits\": 0}, {\"eventtimeutc\": \"2025-01-28\", \"base_url\": \"www.zillow.com\", \"visits\": 0}, {\"eventtimeutc\": \"2025-01-28\", \"base_url\": \"www.zipair.net\", \"visits\": 0}, {\"eventtimeutc\": \"2025-01-29\", \"base_url\": \"accounts.google.com\", \"visits\": 0}, {\"eventtimeutc\": \"2025-01-29\", \"base_url\": \"app.clickup.com\", \"visits\": 0}, {\"eventtimeutc\": \"2025-01-29\", \"base_url\": \"app.onemedical.com\", \"visits\": 0}, {\"eventtimeutc\": \"2025-01-29\", \"base_url\": \"app.pinecone.io\", \"visits\": 0}, {\"eventtimeutc\": \"2025-01-29\", \"base_url\": \"app.powerbi.com\", \"visits\": 0}, {\"eventtimeutc\": \"2025-01-29\", \"base_url\": \"behav-my.sharepoint.com\", \"visits\": 11}, {\"eventtimeutc\": \"2025-01-29\", \"base_url\": \"chrome.google.com\", \"visits\": 0}, {\"eventtimeutc\": \"2025-01-29\", \"base_url\": \"cornerstone.csod.com\", \"visits\": 0}, {\"eventtimeutc\": \"2025-01-29\", \"base_url\": \"docs.google.com\", \"visits\": 0}, {\"eventtimeutc\": \"2025-01-29\", \"base_url\": \"drive.google.com\", \"visits\": 0}, {\"eventtimeutc\": \"2025-01-29\", \"base_url\": \"en.m.wikipedia.org\", \"visits\": 0}, {\"eventtimeutc\": \"2025-01-29\", \"base_url\": \"eu-west-1.console.aws.amazon.com\", \"visits\": 0}, {\"eventtimeutc\": \"2025-01-29\", \"base_url\": \"gitlab.com\", \"visits\": 0}, {\"eventtimeutc\": \"2025-01-29\", \"base_url\": \"go.xero.com\", \"visits\": 0}, {\"eventtimeutc\": \"2025-01-29\", \"base_url\": \"htmltemplates.co\", \"visits\": 0}, {\"eventtimeutc\": \"2025-01-29\", \"base_url\": \"idam-ui.company-information.service.gov.uk\", \"visits\": 0}, {\"eventtimeutc\": \"2025-01-29\", \"base_url\": \"joinmosaic.myaccountinfo.com\", \"visits\": 0}, {\"eventtimeutc\": \"2025-01-29\", \"base_url\": \"login.microsoftonline.com\", \"visits\": 0}, {\"eventtimeutc\": \"2025-01-29\", \"base_url\": \"mail.google.com\", \"visits\": 32}, {\"eventtimeutc\": \"2025-01-29\", \"base_url\": \"onedrive.live.com\", \"visits\": 0}, {\"eventtimeutc\": \"2025-01-29\", \"base_url\": \"photos.google.com\", \"visits\": 11}, {\"eventtimeutc\": \"2025-01-29\", \"base_url\": \"play.google.com\", \"visits\": 0}, {\"eventtimeutc\": \"2025-01-29\", \"base_url\": \"py-insights.com\", \"visits\": 0}, {\"eventtimeutc\": \"2025-01-29\", \"base_url\": \"pyinsightscom-my.sharepoint.com\", \"visits\": 1}, {\"eventtimeutc\": \"2025-01-29\", \"base_url\": \"pyinsightscom.sharepoint.com\", \"visits\": 45}, {\"eventtimeutc\": \"2025-01-29\", \"base_url\": \"reporting.xero.com\", \"visits\": 0}, {\"eventtimeutc\": \"2025-01-29\", \"base_url\": \"teams.microsoft.com\", \"visits\": 2}, {\"eventtimeutc\": \"2025-01-29\", \"base_url\": \"wellfound.com\", \"visits\": 0}, {\"eventtimeutc\": \"2025-01-29\", \"base_url\": \"wise.com\", \"visits\": 0}, {\"eventtimeutc\": \"2025-01-29\", \"base_url\": \"www.airasia.com\", \"visits\": 0}, {\"eventtimeutc\": \"2025-01-29\", \"base_url\": \"www.amazon.com\", \"visits\": 0}, {\"eventtimeutc\": \"2025-01-29\", \"base_url\": \"www.amazon.in\", \"visits\": 33}, {\"eventtimeutc\": \"2025-01-29\", \"base_url\": \"www.bizquest.com\", \"visits\": 0}, {\"eventtimeutc\": \"2025-01-29\", \"base_url\": \"www.facebook.com\", \"visits\": 10}, {\"eventtimeutc\": \"2025-01-29\", \"base_url\": \"www.flipkart.com\", \"visits\": 0}, {\"eventtimeutc\": \"2025-01-29\", \"base_url\": \"www.google.com\", \"visits\": 283}, {\"eventtimeutc\": \"2025-01-29\", \"base_url\": \"www.homedepot.com\", \"visits\": 0}, {\"eventtimeutc\": \"2025-01-29\", \"base_url\": \"www.instacart.com\", \"visits\": 0}, {\"eventtimeutc\": \"2025-01-29\", \"base_url\": \"www.instagram.com\", \"visits\": 0}, {\"eventtimeutc\": \"2025-01-29\", \"base_url\": \"www.linkedin.com\", \"visits\": 0}, {\"eventtimeutc\": \"2025-01-29\", \"base_url\": \"www.loopnet.com\", \"visits\": 0}, {\"eventtimeutc\": \"2025-01-29\", \"base_url\": \"www.mavenclinic.com\", \"visits\": 0}, {\"eventtimeutc\": \"2025-01-29\", \"base_url\": \"www.reddit.com\", \"visits\": 0}, {\"eventtimeutc\": \"2025-01-29\", \"base_url\": \"www.taskrabbit.com\", \"visits\": 0}, {\"eventtimeutc\": \"2025-01-29\", \"base_url\": \"www.timeanddate.com\", \"visits\": 7}, {\"eventtimeutc\": \"2025-01-29\", \"base_url\": \"www.tractorsupply.com\", \"visits\": 0}, {\"eventtimeutc\": \"2025-01-29\", \"base_url\": \"www.upwork.com\", \"visits\": 82}, {\"eventtimeutc\": \"2025-01-29\", \"base_url\": \"www.way.com\", \"visits\": 0}, {\"eventtimeutc\": \"2025-01-29\", \"base_url\": \"www.zillow.com\", \"visits\": 0}, {\"eventtimeutc\": \"2025-01-29\", \"base_url\": \"www.zipair.net\", \"visits\": 106}, {\"eventtimeutc\": \"2025-01-30\", \"base_url\": \"accounts.google.com\", \"visits\": 0}, {\"eventtimeutc\": \"2025-01-30\", \"base_url\": \"app.clickup.com\", \"visits\": 0}, {\"eventtimeutc\": \"2025-01-30\", \"base_url\": \"app.onemedical.com\", \"visits\": 0}, {\"eventtimeutc\": \"2025-01-30\", \"base_url\": \"app.pinecone.io\", \"visits\": 0}, {\"eventtimeutc\": \"2025-01-30\", \"base_url\": \"app.powerbi.com\", \"visits\": 0}, {\"eventtimeutc\": \"2025-01-30\", \"base_url\": \"behav-my.sharepoint.com\", \"visits\": 0}, {\"eventtimeutc\": \"2025-01-30\", \"base_url\": \"chrome.google.com\", \"visits\": 0}, {\"eventtimeutc\": \"2025-01-30\", \"base_url\": \"cornerstone.csod.com\", \"visits\": 0}, {\"eventtimeutc\": \"2025-01-30\", \"base_url\": \"docs.google.com\", \"visits\": 0}, {\"eventtimeutc\": \"2025-01-30\", \"base_url\": \"drive.google.com\", \"visits\": 0}, {\"eventtimeutc\": \"2025-01-30\", \"base_url\": \"en.m.wikipedia.org\", \"visits\": 0}, {\"eventtimeutc\": \"2025-01-30\", \"base_url\": \"eu-west-1.console.aws.amazon.com\", \"visits\": 0}, {\"eventtimeutc\": \"2025-01-30\", \"base_url\": \"gitlab.com\", \"visits\": 0}, {\"eventtimeutc\": \"2025-01-30\", \"base_url\": \"go.xero.com\", \"visits\": 0}, {\"eventtimeutc\": \"2025-01-30\", \"base_url\": \"htmltemplates.co\", \"visits\": 0}, {\"eventtimeutc\": \"2025-01-30\", \"base_url\": \"idam-ui.company-information.service.gov.uk\", \"visits\": 0}, {\"eventtimeutc\": \"2025-01-30\", \"base_url\": \"joinmosaic.myaccountinfo.com\", \"visits\": 0}, {\"eventtimeutc\": \"2025-01-30\", \"base_url\": \"login.microsoftonline.com\", \"visits\": 0}, {\"eventtimeutc\": \"2025-01-30\", \"base_url\": \"mail.google.com\", \"visits\": 0}, {\"eventtimeutc\": \"2025-01-30\", \"base_url\": \"onedrive.live.com\", \"visits\": 0}, {\"eventtimeutc\": \"2025-01-30\", \"base_url\": \"photos.google.com\", \"visits\": 3}, {\"eventtimeutc\": \"2025-01-30\", \"base_url\": \"play.google.com\", \"visits\": 0}, {\"eventtimeutc\": \"2025-01-30\", \"base_url\": \"py-insights.com\", \"visits\": 0}, {\"eventtimeutc\": \"2025-01-30\", \"base_url\": \"pyinsightscom-my.sharepoint.com\", \"visits\": 1}, {\"eventtimeutc\": \"2025-01-30\", \"base_url\": \"pyinsightscom.sharepoint.com\", \"visits\": 0}, {\"eventtimeutc\": \"2025-01-30\", \"base_url\": \"reporting.xero.com\", \"visits\": 0}, {\"eventtimeutc\": \"2025-01-30\", \"base_url\": \"teams.microsoft.com\", \"visits\": 2}, {\"eventtimeutc\": \"2025-01-30\", \"base_url\": \"wellfound.com\", \"visits\": 0}, {\"eventtimeutc\": \"2025-01-30\", \"base_url\": \"wise.com\", \"visits\": 12}, {\"eventtimeutc\": \"2025-01-30\", \"base_url\": \"www.airasia.com\", \"visits\": 20}, {\"eventtimeutc\": \"2025-01-30\", \"base_url\": \"www.amazon.com\", \"visits\": 0}, {\"eventtimeutc\": \"2025-01-30\", \"base_url\": \"www.amazon.in\", \"visits\": 0}, {\"eventtimeutc\": \"2025-01-30\", \"base_url\": \"www.bizquest.com\", \"visits\": 0}, {\"eventtimeutc\": \"2025-01-30\", \"base_url\": \"www.facebook.com\", \"visits\": 0}, {\"eventtimeutc\": \"2025-01-30\", \"base_url\": \"www.flipkart.com\", \"visits\": 0}, {\"eventtimeutc\": \"2025-01-30\", \"base_url\": \"www.google.com\", \"visits\": 68}, {\"eventtimeutc\": \"2025-01-30\", \"base_url\": \"www.homedepot.com\", \"visits\": 0}, {\"eventtimeutc\": \"2025-01-30\", \"base_url\": \"www.instacart.com\", \"visits\": 0}, {\"eventtimeutc\": \"2025-01-30\", \"base_url\": \"www.instagram.com\", \"visits\": 0}, {\"eventtimeutc\": \"2025-01-30\", \"base_url\": \"www.linkedin.com\", \"visits\": 0}, {\"eventtimeutc\": \"2025-01-30\", \"base_url\": \"www.loopnet.com\", \"visits\": 0}, {\"eventtimeutc\": \"2025-01-30\", \"base_url\": \"www.mavenclinic.com\", \"visits\": 0}, {\"eventtimeutc\": \"2025-01-30\", \"base_url\": \"www.reddit.com\", \"visits\": 0}, {\"eventtimeutc\": \"2025-01-30\", \"base_url\": \"www.taskrabbit.com\", \"visits\": 0}, {\"eventtimeutc\": \"2025-01-30\", \"base_url\": \"www.timeanddate.com\", \"visits\": 5}, {\"eventtimeutc\": \"2025-01-30\", \"base_url\": \"www.tractorsupply.com\", \"visits\": 0}, {\"eventtimeutc\": \"2025-01-30\", \"base_url\": \"www.upwork.com\", \"visits\": 81}, {\"eventtimeutc\": \"2025-01-30\", \"base_url\": \"www.way.com\", \"visits\": 0}, {\"eventtimeutc\": \"2025-01-30\", \"base_url\": \"www.zillow.com\", \"visits\": 0}, {\"eventtimeutc\": \"2025-01-30\", \"base_url\": \"www.zipair.net\", \"visits\": 0}, {\"eventtimeutc\": \"2025-01-31\", \"base_url\": \"accounts.google.com\", \"visits\": 0}, {\"eventtimeutc\": \"2025-01-31\", \"base_url\": \"app.clickup.com\", \"visits\": 0}, {\"eventtimeutc\": \"2025-01-31\", \"base_url\": \"app.onemedical.com\", \"visits\": 0}, {\"eventtimeutc\": \"2025-01-31\", \"base_url\": \"app.pinecone.io\", \"visits\": 0}, {\"eventtimeutc\": \"2025-01-31\", \"base_url\": \"app.powerbi.com\", \"visits\": 0}, {\"eventtimeutc\": \"2025-01-31\", \"base_url\": \"behav-my.sharepoint.com\", \"visits\": 0}, {\"eventtimeutc\": \"2025-01-31\", \"base_url\": \"chrome.google.com\", \"visits\": 0}, {\"eventtimeutc\": \"2025-01-31\", \"base_url\": \"cornerstone.csod.com\", \"visits\": 0}, {\"eventtimeutc\": \"2025-01-31\", \"base_url\": \"docs.google.com\", \"visits\": 0}, {\"eventtimeutc\": \"2025-01-31\", \"base_url\": \"drive.google.com\", \"visits\": 0}, {\"eventtimeutc\": \"2025-01-31\", \"base_url\": \"en.m.wikipedia.org\", \"visits\": 0}, {\"eventtimeutc\": \"2025-01-31\", \"base_url\": \"eu-west-1.console.aws.amazon.com\", \"visits\": 34}, {\"eventtimeutc\": \"2025-01-31\", \"base_url\": \"gitlab.com\", \"visits\": 0}, {\"eventtimeutc\": \"2025-01-31\", \"base_url\": \"go.xero.com\", \"visits\": 0}, {\"eventtimeutc\": \"2025-01-31\", \"base_url\": \"htmltemplates.co\", \"visits\": 0}, {\"eventtimeutc\": \"2025-01-31\", \"base_url\": \"idam-ui.company-information.service.gov.uk\", \"visits\": 17}, {\"eventtimeutc\": \"2025-01-31\", \"base_url\": \"joinmosaic.myaccountinfo.com\", \"visits\": 0}, {\"eventtimeutc\": \"2025-01-31\", \"base_url\": \"login.microsoftonline.com\", \"visits\": 0}, {\"eventtimeutc\": \"2025-01-31\", \"base_url\": \"mail.google.com\", \"visits\": 4}, {\"eventtimeutc\": \"2025-01-31\", \"base_url\": \"onedrive.live.com\", \"visits\": 0}, {\"eventtimeutc\": \"2025-01-31\", \"base_url\": \"photos.google.com\", \"visits\": 0}, {\"eventtimeutc\": \"2025-01-31\", \"base_url\": \"play.google.com\", \"visits\": 1}, {\"eventtimeutc\": \"2025-01-31\", \"base_url\": \"py-insights.com\", \"visits\": 0}, {\"eventtimeutc\": \"2025-01-31\", \"base_url\": \"pyinsightscom-my.sharepoint.com\", \"visits\": 0}, {\"eventtimeutc\": \"2025-01-31\", \"base_url\": \"pyinsightscom.sharepoint.com\", \"visits\": 4}, {\"eventtimeutc\": \"2025-01-31\", \"base_url\": \"reporting.xero.com\", \"visits\": 0}, {\"eventtimeutc\": \"2025-01-31\", \"base_url\": \"teams.microsoft.com\", \"visits\": 2}, {\"eventtimeutc\": \"2025-01-31\", \"base_url\": \"wellfound.com\", \"visits\": 0}, {\"eventtimeutc\": \"2025-01-31\", \"base_url\": \"wise.com\", \"visits\": 0}, {\"eventtimeutc\": \"2025-01-31\", \"base_url\": \"www.airasia.com\", \"visits\": 0}, {\"eventtimeutc\": \"2025-01-31\", \"base_url\": \"www.amazon.com\", \"visits\": 0}, {\"eventtimeutc\": \"2025-01-31\", \"base_url\": \"www.amazon.in\", \"visits\": 0}, {\"eventtimeutc\": \"2025-01-31\", \"base_url\": \"www.bizquest.com\", \"visits\": 0}, {\"eventtimeutc\": \"2025-01-31\", \"base_url\": \"www.facebook.com\", \"visits\": 5}, {\"eventtimeutc\": \"2025-01-31\", \"base_url\": \"www.flipkart.com\", \"visits\": 0}, {\"eventtimeutc\": \"2025-01-31\", \"base_url\": \"www.google.com\", \"visits\": 4}, {\"eventtimeutc\": \"2025-01-31\", \"base_url\": \"www.homedepot.com\", \"visits\": 0}, {\"eventtimeutc\": \"2025-01-31\", \"base_url\": \"www.instacart.com\", \"visits\": 0}, {\"eventtimeutc\": \"2025-01-31\", \"base_url\": \"www.instagram.com\", \"visits\": 0}, {\"eventtimeutc\": \"2025-01-31\", \"base_url\": \"www.linkedin.com\", \"visits\": 0}, {\"eventtimeutc\": \"2025-01-31\", \"base_url\": \"www.loopnet.com\", \"visits\": 0}, {\"eventtimeutc\": \"2025-01-31\", \"base_url\": \"www.mavenclinic.com\", \"visits\": 0}, {\"eventtimeutc\": \"2025-01-31\", \"base_url\": \"www.reddit.com\", \"visits\": 0}, {\"eventtimeutc\": \"2025-01-31\", \"base_url\": \"www.taskrabbit.com\", \"visits\": 0}, {\"eventtimeutc\": \"2025-01-31\", \"base_url\": \"www.timeanddate.com\", \"visits\": 0}, {\"eventtimeutc\": \"2025-01-31\", \"base_url\": \"www.tractorsupply.com\", \"visits\": 0}, {\"eventtimeutc\": \"2025-01-31\", \"base_url\": \"www.upwork.com\", \"visits\": 9}, {\"eventtimeutc\": \"2025-01-31\", \"base_url\": \"www.way.com\", \"visits\": 0}, {\"eventtimeutc\": \"2025-01-31\", \"base_url\": \"www.zillow.com\", \"visits\": 30}, {\"eventtimeutc\": \"2025-01-31\", \"base_url\": \"www.zipair.net\", \"visits\": 0}, {\"eventtimeutc\": \"2025-02-01\", \"base_url\": \"accounts.google.com\", \"visits\": 0}, {\"eventtimeutc\": \"2025-02-01\", \"base_url\": \"app.clickup.com\", \"visits\": 0}, {\"eventtimeutc\": \"2025-02-01\", \"base_url\": \"app.onemedical.com\", \"visits\": 0}, {\"eventtimeutc\": \"2025-02-01\", \"base_url\": \"app.pinecone.io\", \"visits\": 0}, {\"eventtimeutc\": \"2025-02-01\", \"base_url\": \"app.powerbi.com\", \"visits\": 0}, {\"eventtimeutc\": \"2025-02-01\", \"base_url\": \"behav-my.sharepoint.com\", \"visits\": 0}, {\"eventtimeutc\": \"2025-02-01\", \"base_url\": \"chrome.google.com\", \"visits\": 0}, {\"eventtimeutc\": \"2025-02-01\", \"base_url\": \"cornerstone.csod.com\", \"visits\": 0}, {\"eventtimeutc\": \"2025-02-01\", \"base_url\": \"docs.google.com\", \"visits\": 0}, {\"eventtimeutc\": \"2025-02-01\", \"base_url\": \"drive.google.com\", \"visits\": 0}, {\"eventtimeutc\": \"2025-02-01\", \"base_url\": \"en.m.wikipedia.org\", \"visits\": 0}, {\"eventtimeutc\": \"2025-02-01\", \"base_url\": \"eu-west-1.console.aws.amazon.com\", \"visits\": 0}, {\"eventtimeutc\": \"2025-02-01\", \"base_url\": \"gitlab.com\", \"visits\": 0}, {\"eventtimeutc\": \"2025-02-01\", \"base_url\": \"go.xero.com\", \"visits\": 0}, {\"eventtimeutc\": \"2025-02-01\", \"base_url\": \"htmltemplates.co\", \"visits\": 0}, {\"eventtimeutc\": \"2025-02-01\", \"base_url\": \"idam-ui.company-information.service.gov.uk\", \"visits\": 0}, {\"eventtimeutc\": \"2025-02-01\", \"base_url\": \"joinmosaic.myaccountinfo.com\", \"visits\": 0}, {\"eventtimeutc\": \"2025-02-01\", \"base_url\": \"login.microsoftonline.com\", \"visits\": 0}, {\"eventtimeutc\": \"2025-02-01\", \"base_url\": \"mail.google.com\", \"visits\": 0}, {\"eventtimeutc\": \"2025-02-01\", \"base_url\": \"onedrive.live.com\", \"visits\": 0}, {\"eventtimeutc\": \"2025-02-01\", \"base_url\": \"photos.google.com\", \"visits\": 0}, {\"eventtimeutc\": \"2025-02-01\", \"base_url\": \"play.google.com\", \"visits\": 0}, {\"eventtimeutc\": \"2025-02-01\", \"base_url\": \"py-insights.com\", \"visits\": 0}, {\"eventtimeutc\": \"2025-02-01\", \"base_url\": \"pyinsightscom-my.sharepoint.com\", \"visits\": 0}, {\"eventtimeutc\": \"2025-02-01\", \"base_url\": \"pyinsightscom.sharepoint.com\", \"visits\": 0}, {\"eventtimeutc\": \"2025-02-01\", \"base_url\": \"reporting.xero.com\", \"visits\": 0}, {\"eventtimeutc\": \"2025-02-01\", \"base_url\": \"teams.microsoft.com\", \"visits\": 0}, {\"eventtimeutc\": \"2025-02-01\", \"base_url\": \"wellfound.com\", \"visits\": 0}, {\"eventtimeutc\": \"2025-02-01\", \"base_url\": \"wise.com\", \"visits\": 0}, {\"eventtimeutc\": \"2025-02-01\", \"base_url\": \"www.airasia.com\", \"visits\": 1}, {\"eventtimeutc\": \"2025-02-01\", \"base_url\": \"www.amazon.com\", \"visits\": 0}, {\"eventtimeutc\": \"2025-02-01\", \"base_url\": \"www.amazon.in\", \"visits\": 0}, {\"eventtimeutc\": \"2025-02-01\", \"base_url\": \"www.bizquest.com\", \"visits\": 0}, {\"eventtimeutc\": \"2025-02-01\", \"base_url\": \"www.facebook.com\", \"visits\": 0}, {\"eventtimeutc\": \"2025-02-01\", \"base_url\": \"www.flipkart.com\", \"visits\": 0}, {\"eventtimeutc\": \"2025-02-01\", \"base_url\": \"www.google.com\", \"visits\": 45}, {\"eventtimeutc\": \"2025-02-01\", \"base_url\": \"www.homedepot.com\", \"visits\": 0}, {\"eventtimeutc\": \"2025-02-01\", \"base_url\": \"www.instacart.com\", \"visits\": 0}, {\"eventtimeutc\": \"2025-02-01\", \"base_url\": \"www.instagram.com\", \"visits\": 0}, {\"eventtimeutc\": \"2025-02-01\", \"base_url\": \"www.linkedin.com\", \"visits\": 0}, {\"eventtimeutc\": \"2025-02-01\", \"base_url\": \"www.loopnet.com\", \"visits\": 0}, {\"eventtimeutc\": \"2025-02-01\", \"base_url\": \"www.mavenclinic.com\", \"visits\": 0}, {\"eventtimeutc\": \"2025-02-01\", \"base_url\": \"www.reddit.com\", \"visits\": 0}, {\"eventtimeutc\": \"2025-02-01\", \"base_url\": \"www.taskrabbit.com\", \"visits\": 0}, {\"eventtimeutc\": \"2025-02-01\", \"base_url\": \"www.timeanddate.com\", \"visits\": 0}, {\"eventtimeutc\": \"2025-02-01\", \"base_url\": \"www.tractorsupply.com\", \"visits\": 0}, {\"eventtimeutc\": \"2025-02-01\", \"base_url\": \"www.upwork.com\", \"visits\": 3}, {\"eventtimeutc\": \"2025-02-01\", \"base_url\": \"www.way.com\", \"visits\": 0}, {\"eventtimeutc\": \"2025-02-01\", \"base_url\": \"www.zillow.com\", \"visits\": 0}, {\"eventtimeutc\": \"2025-02-01\", \"base_url\": \"www.zipair.net\", \"visits\": 0}, {\"eventtimeutc\": \"2025-02-02\", \"base_url\": \"accounts.google.com\", \"visits\": 0}, {\"eventtimeutc\": \"2025-02-02\", \"base_url\": \"app.clickup.com\", \"visits\": 0}, {\"eventtimeutc\": \"2025-02-02\", \"base_url\": \"app.onemedical.com\", \"visits\": 0}, {\"eventtimeutc\": \"2025-02-02\", \"base_url\": \"app.pinecone.io\", \"visits\": 0}, {\"eventtimeutc\": \"2025-02-02\", \"base_url\": \"app.powerbi.com\", \"visits\": 0}, {\"eventtimeutc\": \"2025-02-02\", \"base_url\": \"behav-my.sharepoint.com\", \"visits\": 0}, {\"eventtimeutc\": \"2025-02-02\", \"base_url\": \"chrome.google.com\", \"visits\": 0}, {\"eventtimeutc\": \"2025-02-02\", \"base_url\": \"cornerstone.csod.com\", \"visits\": 0}, {\"eventtimeutc\": \"2025-02-02\", \"base_url\": \"docs.google.com\", \"visits\": 0}, {\"eventtimeutc\": \"2025-02-02\", \"base_url\": \"drive.google.com\", \"visits\": 0}, {\"eventtimeutc\": \"2025-02-02\", \"base_url\": \"en.m.wikipedia.org\", \"visits\": 0}, {\"eventtimeutc\": \"2025-02-02\", \"base_url\": \"eu-west-1.console.aws.amazon.com\", \"visits\": 0}, {\"eventtimeutc\": \"2025-02-02\", \"base_url\": \"gitlab.com\", \"visits\": 0}, {\"eventtimeutc\": \"2025-02-02\", \"base_url\": \"go.xero.com\", \"visits\": 0}, {\"eventtimeutc\": \"2025-02-02\", \"base_url\": \"htmltemplates.co\", \"visits\": 0}, {\"eventtimeutc\": \"2025-02-02\", \"base_url\": \"idam-ui.company-information.service.gov.uk\", \"visits\": 0}, {\"eventtimeutc\": \"2025-02-02\", \"base_url\": \"joinmosaic.myaccountinfo.com\", \"visits\": 0}, {\"eventtimeutc\": \"2025-02-02\", \"base_url\": \"login.microsoftonline.com\", \"visits\": 0}, {\"eventtimeutc\": \"2025-02-02\", \"base_url\": \"mail.google.com\", \"visits\": 0}, {\"eventtimeutc\": \"2025-02-02\", \"base_url\": \"onedrive.live.com\", \"visits\": 0}, {\"eventtimeutc\": \"2025-02-02\", \"base_url\": \"photos.google.com\", \"visits\": 0}, {\"eventtimeutc\": \"2025-02-02\", \"base_url\": \"play.google.com\", \"visits\": 0}, {\"eventtimeutc\": \"2025-02-02\", \"base_url\": \"py-insights.com\", \"visits\": 0}, {\"eventtimeutc\": \"2025-02-02\", \"base_url\": \"pyinsightscom-my.sharepoint.com\", \"visits\": 0}, {\"eventtimeutc\": \"2025-02-02\", \"base_url\": \"pyinsightscom.sharepoint.com\", \"visits\": 0}, {\"eventtimeutc\": \"2025-02-02\", \"base_url\": \"reporting.xero.com\", \"visits\": 0}, {\"eventtimeutc\": \"2025-02-02\", \"base_url\": \"teams.microsoft.com\", \"visits\": 0}, {\"eventtimeutc\": \"2025-02-02\", \"base_url\": \"wellfound.com\", \"visits\": 0}, {\"eventtimeutc\": \"2025-02-02\", \"base_url\": \"wise.com\", \"visits\": 0}, {\"eventtimeutc\": \"2025-02-02\", \"base_url\": \"www.airasia.com\", \"visits\": 1}, {\"eventtimeutc\": \"2025-02-02\", \"base_url\": \"www.amazon.com\", \"visits\": 0}, {\"eventtimeutc\": \"2025-02-02\", \"base_url\": \"www.amazon.in\", \"visits\": 0}, {\"eventtimeutc\": \"2025-02-02\", \"base_url\": \"www.bizquest.com\", \"visits\": 29}, {\"eventtimeutc\": \"2025-02-02\", \"base_url\": \"www.facebook.com\", \"visits\": 0}, {\"eventtimeutc\": \"2025-02-02\", \"base_url\": \"www.flipkart.com\", \"visits\": 0}, {\"eventtimeutc\": \"2025-02-02\", \"base_url\": \"www.google.com\", \"visits\": 19}, {\"eventtimeutc\": \"2025-02-02\", \"base_url\": \"www.homedepot.com\", \"visits\": 17}, {\"eventtimeutc\": \"2025-02-02\", \"base_url\": \"www.instacart.com\", \"visits\": 0}, {\"eventtimeutc\": \"2025-02-02\", \"base_url\": \"www.instagram.com\", \"visits\": 0}, {\"eventtimeutc\": \"2025-02-02\", \"base_url\": \"www.linkedin.com\", \"visits\": 0}, {\"eventtimeutc\": \"2025-02-02\", \"base_url\": \"www.loopnet.com\", \"visits\": 20}, {\"eventtimeutc\": \"2025-02-02\", \"base_url\": \"www.mavenclinic.com\", \"visits\": 0}, {\"eventtimeutc\": \"2025-02-02\", \"base_url\": \"www.reddit.com\", \"visits\": 0}, {\"eventtimeutc\": \"2025-02-02\", \"base_url\": \"www.taskrabbit.com\", \"visits\": 59}, {\"eventtimeutc\": \"2025-02-02\", \"base_url\": \"www.timeanddate.com\", \"visits\": 0}, {\"eventtimeutc\": \"2025-02-02\", \"base_url\": \"www.tractorsupply.com\", \"visits\": 0}, {\"eventtimeutc\": \"2025-02-02\", \"base_url\": \"www.upwork.com\", \"visits\": 3}, {\"eventtimeutc\": \"2025-02-02\", \"base_url\": \"www.way.com\", \"visits\": 0}, {\"eventtimeutc\": \"2025-02-02\", \"base_url\": \"www.zillow.com\", \"visits\": 10}, {\"eventtimeutc\": \"2025-02-02\", \"base_url\": \"www.zipair.net\", \"visits\": 0}, {\"eventtimeutc\": \"2025-02-03\", \"base_url\": \"accounts.google.com\", \"visits\": 0}, {\"eventtimeutc\": \"2025-02-03\", \"base_url\": \"app.clickup.com\", \"visits\": 0}, {\"eventtimeutc\": \"2025-02-03\", \"base_url\": \"app.onemedical.com\", \"visits\": 0}, {\"eventtimeutc\": \"2025-02-03\", \"base_url\": \"app.pinecone.io\", \"visits\": 0}, {\"eventtimeutc\": \"2025-02-03\", \"base_url\": \"app.powerbi.com\", \"visits\": 0}, {\"eventtimeutc\": \"2025-02-03\", \"base_url\": \"behav-my.sharepoint.com\", \"visits\": 0}, {\"eventtimeutc\": \"2025-02-03\", \"base_url\": \"chrome.google.com\", \"visits\": 0}, {\"eventtimeutc\": \"2025-02-03\", \"base_url\": \"cornerstone.csod.com\", \"visits\": 0}, {\"eventtimeutc\": \"2025-02-03\", \"base_url\": \"docs.google.com\", \"visits\": 0}, {\"eventtimeutc\": \"2025-02-03\", \"base_url\": \"drive.google.com\", \"visits\": 0}, {\"eventtimeutc\": \"2025-02-03\", \"base_url\": \"en.m.wikipedia.org\", \"visits\": 0}, {\"eventtimeutc\": \"2025-02-03\", \"base_url\": \"eu-west-1.console.aws.amazon.com\", \"visits\": 1}, {\"eventtimeutc\": \"2025-02-03\", \"base_url\": \"gitlab.com\", \"visits\": 0}, {\"eventtimeutc\": \"2025-02-03\", \"base_url\": \"go.xero.com\", \"visits\": 0}, {\"eventtimeutc\": \"2025-02-03\", \"base_url\": \"htmltemplates.co\", \"visits\": 0}, {\"eventtimeutc\": \"2025-02-03\", \"base_url\": \"idam-ui.company-information.service.gov.uk\", \"visits\": 0}, {\"eventtimeutc\": \"2025-02-03\", \"base_url\": \"joinmosaic.myaccountinfo.com\", \"visits\": 0}, {\"eventtimeutc\": \"2025-02-03\", \"base_url\": \"login.microsoftonline.com\", \"visits\": 0}, {\"eventtimeutc\": \"2025-02-03\", \"base_url\": \"mail.google.com\", \"visits\": 1}, {\"eventtimeutc\": \"2025-02-03\", \"base_url\": \"onedrive.live.com\", \"visits\": 0}, {\"eventtimeutc\": \"2025-02-03\", \"base_url\": \"photos.google.com\", \"visits\": 0}, {\"eventtimeutc\": \"2025-02-03\", \"base_url\": \"play.google.com\", \"visits\": 6}, {\"eventtimeutc\": \"2025-02-03\", \"base_url\": \"py-insights.com\", \"visits\": 0}, {\"eventtimeutc\": \"2025-02-03\", \"base_url\": \"pyinsightscom-my.sharepoint.com\", \"visits\": 1}, {\"eventtimeutc\": \"2025-02-03\", \"base_url\": \"pyinsightscom.sharepoint.com\", \"visits\": 12}, {\"eventtimeutc\": \"2025-02-03\", \"base_url\": \"reporting.xero.com\", \"visits\": 0}, {\"eventtimeutc\": \"2025-02-03\", \"base_url\": \"teams.microsoft.com\", \"visits\": 0}, {\"eventtimeutc\": \"2025-02-03\", \"base_url\": \"wellfound.com\", \"visits\": 0}, {\"eventtimeutc\": \"2025-02-03\", \"base_url\": \"wise.com\", \"visits\": 0}, {\"eventtimeutc\": \"2025-02-03\", \"base_url\": \"www.airasia.com\", \"visits\": 0}, {\"eventtimeutc\": \"2025-02-03\", \"base_url\": \"www.amazon.com\", \"visits\": 0}, {\"eventtimeutc\": \"2025-02-03\", \"base_url\": \"www.amazon.in\", \"visits\": 74}, {\"eventtimeutc\": \"2025-02-03\", \"base_url\": \"www.bizquest.com\", \"visits\": 0}, {\"eventtimeutc\": \"2025-02-03\", \"base_url\": \"www.facebook.com\", \"visits\": 0}, {\"eventtimeutc\": \"2025-02-03\", \"base_url\": \"www.flipkart.com\", \"visits\": 17}, {\"eventtimeutc\": \"2025-02-03\", \"base_url\": \"www.google.com\", \"visits\": 47}, {\"eventtimeutc\": \"2025-02-03\", \"base_url\": \"www.homedepot.com\", \"visits\": 0}, {\"eventtimeutc\": \"2025-02-03\", \"base_url\": \"www.instacart.com\", \"visits\": 0}, {\"eventtimeutc\": \"2025-02-03\", \"base_url\": \"www.instagram.com\", \"visits\": 11}, {\"eventtimeutc\": \"2025-02-03\", \"base_url\": \"www.linkedin.com\", \"visits\": 0}, {\"eventtimeutc\": \"2025-02-03\", \"base_url\": \"www.loopnet.com\", \"visits\": 0}, {\"eventtimeutc\": \"2025-02-03\", \"base_url\": \"www.mavenclinic.com\", \"visits\": 0}, {\"eventtimeutc\": \"2025-02-03\", \"base_url\": \"www.reddit.com\", \"visits\": 0}, {\"eventtimeutc\": \"2025-02-03\", \"base_url\": \"www.taskrabbit.com\", \"visits\": 0}, {\"eventtimeutc\": \"2025-02-03\", \"base_url\": \"www.timeanddate.com\", \"visits\": 0}, {\"eventtimeutc\": \"2025-02-03\", \"base_url\": \"www.tractorsupply.com\", \"visits\": 0}, {\"eventtimeutc\": \"2025-02-03\", \"base_url\": \"www.upwork.com\", \"visits\": 36}, {\"eventtimeutc\": \"2025-02-03\", \"base_url\": \"www.way.com\", \"visits\": 0}, {\"eventtimeutc\": \"2025-02-03\", \"base_url\": \"www.zillow.com\", \"visits\": 0}, {\"eventtimeutc\": \"2025-02-03\", \"base_url\": \"www.zipair.net\", \"visits\": 0}, {\"eventtimeutc\": \"2025-02-04\", \"base_url\": \"accounts.google.com\", \"visits\": 0}, {\"eventtimeutc\": \"2025-02-04\", \"base_url\": \"app.clickup.com\", \"visits\": 0}, {\"eventtimeutc\": \"2025-02-04\", \"base_url\": \"app.onemedical.com\", \"visits\": 0}, {\"eventtimeutc\": \"2025-02-04\", \"base_url\": \"app.pinecone.io\", \"visits\": 9}, {\"eventtimeutc\": \"2025-02-04\", \"base_url\": \"app.powerbi.com\", \"visits\": 0}, {\"eventtimeutc\": \"2025-02-04\", \"base_url\": \"behav-my.sharepoint.com\", \"visits\": 0}, {\"eventtimeutc\": \"2025-02-04\", \"base_url\": \"chrome.google.com\", \"visits\": 0}, {\"eventtimeutc\": \"2025-02-04\", \"base_url\": \"cornerstone.csod.com\", \"visits\": 0}, {\"eventtimeutc\": \"2025-02-04\", \"base_url\": \"docs.google.com\", \"visits\": 0}, {\"eventtimeutc\": \"2025-02-04\", \"base_url\": \"drive.google.com\", \"visits\": 0}, {\"eventtimeutc\": \"2025-02-04\", \"base_url\": \"en.m.wikipedia.org\", \"visits\": 0}, {\"eventtimeutc\": \"2025-02-04\", \"base_url\": \"eu-west-1.console.aws.amazon.com\", \"visits\": 0}, {\"eventtimeutc\": \"2025-02-04\", \"base_url\": \"gitlab.com\", \"visits\": 0}, {\"eventtimeutc\": \"2025-02-04\", \"base_url\": \"go.xero.com\", \"visits\": 0}, {\"eventtimeutc\": \"2025-02-04\", \"base_url\": \"htmltemplates.co\", \"visits\": 0}, {\"eventtimeutc\": \"2025-02-04\", \"base_url\": \"idam-ui.company-information.service.gov.uk\", \"visits\": 0}, {\"eventtimeutc\": \"2025-02-04\", \"base_url\": \"joinmosaic.myaccountinfo.com\", \"visits\": 0}, {\"eventtimeutc\": \"2025-02-04\", \"base_url\": \"login.microsoftonline.com\", \"visits\": 0}, {\"eventtimeutc\": \"2025-02-04\", \"base_url\": \"mail.google.com\", \"visits\": 6}, {\"eventtimeutc\": \"2025-02-04\", \"base_url\": \"onedrive.live.com\", \"visits\": 0}, {\"eventtimeutc\": \"2025-02-04\", \"base_url\": \"photos.google.com\", \"visits\": 0}, {\"eventtimeutc\": \"2025-02-04\", \"base_url\": \"play.google.com\", \"visits\": 0}, {\"eventtimeutc\": \"2025-02-04\", \"base_url\": \"py-insights.com\", \"visits\": 0}, {\"eventtimeutc\": \"2025-02-04\", \"base_url\": \"pyinsightscom-my.sharepoint.com\", \"visits\": 0}, {\"eventtimeutc\": \"2025-02-04\", \"base_url\": \"pyinsightscom.sharepoint.com\", \"visits\": 9}, {\"eventtimeutc\": \"2025-02-04\", \"base_url\": \"reporting.xero.com\", \"visits\": 0}, {\"eventtimeutc\": \"2025-02-04\", \"base_url\": \"teams.microsoft.com\", \"visits\": 8}, {\"eventtimeutc\": \"2025-02-04\", \"base_url\": \"wellfound.com\", \"visits\": 0}, {\"eventtimeutc\": \"2025-02-04\", \"base_url\": \"wise.com\", \"visits\": 0}, {\"eventtimeutc\": \"2025-02-04\", \"base_url\": \"www.airasia.com\", \"visits\": 0}, {\"eventtimeutc\": \"2025-02-04\", \"base_url\": \"www.amazon.com\", \"visits\": 0}, {\"eventtimeutc\": \"2025-02-04\", \"base_url\": \"www.amazon.in\", \"visits\": 1}, {\"eventtimeutc\": \"2025-02-04\", \"base_url\": \"www.bizquest.com\", \"visits\": 0}, {\"eventtimeutc\": \"2025-02-04\", \"base_url\": \"www.facebook.com\", \"visits\": 11}, {\"eventtimeutc\": \"2025-02-04\", \"base_url\": \"www.flipkart.com\", \"visits\": 0}, {\"eventtimeutc\": \"2025-02-04\", \"base_url\": \"www.google.com\", \"visits\": 25}, {\"eventtimeutc\": \"2025-02-04\", \"base_url\": \"www.homedepot.com\", \"visits\": 0}, {\"eventtimeutc\": \"2025-02-04\", \"base_url\": \"www.instacart.com\", \"visits\": 0}, {\"eventtimeutc\": \"2025-02-04\", \"base_url\": \"www.instagram.com\", \"visits\": 0}, {\"eventtimeutc\": \"2025-02-04\", \"base_url\": \"www.linkedin.com\", \"visits\": 22}, {\"eventtimeutc\": \"2025-02-04\", \"base_url\": \"www.loopnet.com\", \"visits\": 0}, {\"eventtimeutc\": \"2025-02-04\", \"base_url\": \"www.mavenclinic.com\", \"visits\": 0}, {\"eventtimeutc\": \"2025-02-04\", \"base_url\": \"www.reddit.com\", \"visits\": 0}, {\"eventtimeutc\": \"2025-02-04\", \"base_url\": \"www.taskrabbit.com\", \"visits\": 0}, {\"eventtimeutc\": \"2025-02-04\", \"base_url\": \"www.timeanddate.com\", \"visits\": 0}, {\"eventtimeutc\": \"2025-02-04\", \"base_url\": \"www.tractorsupply.com\", \"visits\": 0}, {\"eventtimeutc\": \"2025-02-04\", \"base_url\": \"www.upwork.com\", \"visits\": 65}, {\"eventtimeutc\": \"2025-02-04\", \"base_url\": \"www.way.com\", \"visits\": 0}, {\"eventtimeutc\": \"2025-02-04\", \"base_url\": \"www.zillow.com\", \"visits\": 0}, {\"eventtimeutc\": \"2025-02-04\", \"base_url\": \"www.zipair.net\", \"visits\": 0}, {\"eventtimeutc\": \"2025-02-05\", \"base_url\": \"accounts.google.com\", \"visits\": 0}, {\"eventtimeutc\": \"2025-02-05\", \"base_url\": \"app.clickup.com\", \"visits\": 0}, {\"eventtimeutc\": \"2025-02-05\", \"base_url\": \"app.onemedical.com\", \"visits\": 0}, {\"eventtimeutc\": \"2025-02-05\", \"base_url\": \"app.pinecone.io\", \"visits\": 0}, {\"eventtimeutc\": \"2025-02-05\", \"base_url\": \"app.powerbi.com\", \"visits\": 0}, {\"eventtimeutc\": \"2025-02-05\", \"base_url\": \"behav-my.sharepoint.com\", \"visits\": 0}, {\"eventtimeutc\": \"2025-02-05\", \"base_url\": \"chrome.google.com\", \"visits\": 0}, {\"eventtimeutc\": \"2025-02-05\", \"base_url\": \"cornerstone.csod.com\", \"visits\": 0}, {\"eventtimeutc\": \"2025-02-05\", \"base_url\": \"docs.google.com\", \"visits\": 0}, {\"eventtimeutc\": \"2025-02-05\", \"base_url\": \"drive.google.com\", \"visits\": 0}, {\"eventtimeutc\": \"2025-02-05\", \"base_url\": \"en.m.wikipedia.org\", \"visits\": 0}, {\"eventtimeutc\": \"2025-02-05\", \"base_url\": \"eu-west-1.console.aws.amazon.com\", \"visits\": 0}, {\"eventtimeutc\": \"2025-02-05\", \"base_url\": \"gitlab.com\", \"visits\": 0}, {\"eventtimeutc\": \"2025-02-05\", \"base_url\": \"go.xero.com\", \"visits\": 0}, {\"eventtimeutc\": \"2025-02-05\", \"base_url\": \"htmltemplates.co\", \"visits\": 0}, {\"eventtimeutc\": \"2025-02-05\", \"base_url\": \"idam-ui.company-information.service.gov.uk\", \"visits\": 0}, {\"eventtimeutc\": \"2025-02-05\", \"base_url\": \"joinmosaic.myaccountinfo.com\", \"visits\": 0}, {\"eventtimeutc\": \"2025-02-05\", \"base_url\": \"login.microsoftonline.com\", \"visits\": 0}, {\"eventtimeutc\": \"2025-02-05\", \"base_url\": \"mail.google.com\", \"visits\": 0}, {\"eventtimeutc\": \"2025-02-05\", \"base_url\": \"onedrive.live.com\", \"visits\": 0}, {\"eventtimeutc\": \"2025-02-05\", \"base_url\": \"photos.google.com\", \"visits\": 0}, {\"eventtimeutc\": \"2025-02-05\", \"base_url\": \"play.google.com\", \"visits\": 0}, {\"eventtimeutc\": \"2025-02-05\", \"base_url\": \"py-insights.com\", \"visits\": 0}, {\"eventtimeutc\": \"2025-02-05\", \"base_url\": \"pyinsightscom-my.sharepoint.com\", \"visits\": 0}, {\"eventtimeutc\": \"2025-02-05\", \"base_url\": \"pyinsightscom.sharepoint.com\", \"visits\": 0}, {\"eventtimeutc\": \"2025-02-05\", \"base_url\": \"reporting.xero.com\", \"visits\": 0}, {\"eventtimeutc\": \"2025-02-05\", \"base_url\": \"teams.microsoft.com\", \"visits\": 0}, {\"eventtimeutc\": \"2025-02-05\", \"base_url\": \"wellfound.com\", \"visits\": 0}, {\"eventtimeutc\": \"2025-02-05\", \"base_url\": \"wise.com\", \"visits\": 0}, {\"eventtimeutc\": \"2025-02-05\", \"base_url\": \"www.airasia.com\", \"visits\": 0}, {\"eventtimeutc\": \"2025-02-05\", \"base_url\": \"www.amazon.com\", \"visits\": 0}, {\"eventtimeutc\": \"2025-02-05\", \"base_url\": \"www.amazon.in\", \"visits\": 0}, {\"eventtimeutc\": \"2025-02-05\", \"base_url\": \"www.bizquest.com\", \"visits\": 0}, {\"eventtimeutc\": \"2025-02-05\", \"base_url\": \"www.facebook.com\", \"visits\": 2}, {\"eventtimeutc\": \"2025-02-05\", \"base_url\": \"www.flipkart.com\", \"visits\": 0}, {\"eventtimeutc\": \"2025-02-05\", \"base_url\": \"www.google.com\", \"visits\": 22}, {\"eventtimeutc\": \"2025-02-05\", \"base_url\": \"www.homedepot.com\", \"visits\": 0}, {\"eventtimeutc\": \"2025-02-05\", \"base_url\": \"www.instacart.com\", \"visits\": 0}, {\"eventtimeutc\": \"2025-02-05\", \"base_url\": \"www.instagram.com\", \"visits\": 0}, {\"eventtimeutc\": \"2025-02-05\", \"base_url\": \"www.linkedin.com\", \"visits\": 0}, {\"eventtimeutc\": \"2025-02-05\", \"base_url\": \"www.loopnet.com\", \"visits\": 0}, {\"eventtimeutc\": \"2025-02-05\", \"base_url\": \"www.mavenclinic.com\", \"visits\": 0}, {\"eventtimeutc\": \"2025-02-05\", \"base_url\": \"www.reddit.com\", \"visits\": 2}, {\"eventtimeutc\": \"2025-02-05\", \"base_url\": \"www.taskrabbit.com\", \"visits\": 0}, {\"eventtimeutc\": \"2025-02-05\", \"base_url\": \"www.timeanddate.com\", \"visits\": 0}, {\"eventtimeutc\": \"2025-02-05\", \"base_url\": \"www.tractorsupply.com\", \"visits\": 0}, {\"eventtimeutc\": \"2025-02-05\", \"base_url\": \"www.upwork.com\", \"visits\": 3}, {\"eventtimeutc\": \"2025-02-05\", \"base_url\": \"www.way.com\", \"visits\": 0}, {\"eventtimeutc\": \"2025-02-05\", \"base_url\": \"www.zillow.com\", \"visits\": 0}, {\"eventtimeutc\": \"2025-02-05\", \"base_url\": \"www.zipair.net\", \"visits\": 0}, {\"eventtimeutc\": \"2025-02-06\", \"base_url\": \"accounts.google.com\", \"visits\": 2}, {\"eventtimeutc\": \"2025-02-06\", \"base_url\": \"app.clickup.com\", \"visits\": 0}, {\"eventtimeutc\": \"2025-02-06\", \"base_url\": \"app.onemedical.com\", \"visits\": 17}, {\"eventtimeutc\": \"2025-02-06\", \"base_url\": \"app.pinecone.io\", \"visits\": 0}, {\"eventtimeutc\": \"2025-02-06\", \"base_url\": \"app.powerbi.com\", \"visits\": 0}, {\"eventtimeutc\": \"2025-02-06\", \"base_url\": \"behav-my.sharepoint.com\", \"visits\": 0}, {\"eventtimeutc\": \"2025-02-06\", \"base_url\": \"chrome.google.com\", \"visits\": 3}, {\"eventtimeutc\": \"2025-02-06\", \"base_url\": \"cornerstone.csod.com\", \"visits\": 0}, {\"eventtimeutc\": \"2025-02-06\", \"base_url\": \"docs.google.com\", \"visits\": 0}, {\"eventtimeutc\": \"2025-02-06\", \"base_url\": \"drive.google.com\", \"visits\": 0}, {\"eventtimeutc\": \"2025-02-06\", \"base_url\": \"en.m.wikipedia.org\", \"visits\": 0}, {\"eventtimeutc\": \"2025-02-06\", \"base_url\": \"eu-west-1.console.aws.amazon.com\", \"visits\": 0}, {\"eventtimeutc\": \"2025-02-06\", \"base_url\": \"gitlab.com\", \"visits\": 0}, {\"eventtimeutc\": \"2025-02-06\", \"base_url\": \"go.xero.com\", \"visits\": 0}, {\"eventtimeutc\": \"2025-02-06\", \"base_url\": \"htmltemplates.co\", \"visits\": 0}, {\"eventtimeutc\": \"2025-02-06\", \"base_url\": \"idam-ui.company-information.service.gov.uk\", \"visits\": 0}, {\"eventtimeutc\": \"2025-02-06\", \"base_url\": \"joinmosaic.myaccountinfo.com\", \"visits\": 0}, {\"eventtimeutc\": \"2025-02-06\", \"base_url\": \"login.microsoftonline.com\", \"visits\": 8}, {\"eventtimeutc\": \"2025-02-06\", \"base_url\": \"mail.google.com\", \"visits\": 10}, {\"eventtimeutc\": \"2025-02-06\", \"base_url\": \"onedrive.live.com\", \"visits\": 16}, {\"eventtimeutc\": \"2025-02-06\", \"base_url\": \"photos.google.com\", \"visits\": 0}, {\"eventtimeutc\": \"2025-02-06\", \"base_url\": \"play.google.com\", \"visits\": 0}, {\"eventtimeutc\": \"2025-02-06\", \"base_url\": \"py-insights.com\", \"visits\": 0}, {\"eventtimeutc\": \"2025-02-06\", \"base_url\": \"pyinsightscom-my.sharepoint.com\", \"visits\": 12}, {\"eventtimeutc\": \"2025-02-06\", \"base_url\": \"pyinsightscom.sharepoint.com\", \"visits\": 2}, {\"eventtimeutc\": \"2025-02-06\", \"base_url\": \"reporting.xero.com\", \"visits\": 0}, {\"eventtimeutc\": \"2025-02-06\", \"base_url\": \"teams.microsoft.com\", \"visits\": 0}, {\"eventtimeutc\": \"2025-02-06\", \"base_url\": \"wellfound.com\", \"visits\": 0}, {\"eventtimeutc\": \"2025-02-06\", \"base_url\": \"wise.com\", \"visits\": 0}, {\"eventtimeutc\": \"2025-02-06\", \"base_url\": \"www.airasia.com\", \"visits\": 0}, {\"eventtimeutc\": \"2025-02-06\", \"base_url\": \"www.amazon.com\", \"visits\": 0}, {\"eventtimeutc\": \"2025-02-06\", \"base_url\": \"www.amazon.in\", \"visits\": 0}, {\"eventtimeutc\": \"2025-02-06\", \"base_url\": \"www.bizquest.com\", \"visits\": 0}, {\"eventtimeutc\": \"2025-02-06\", \"base_url\": \"www.facebook.com\", \"visits\": 0}, {\"eventtimeutc\": \"2025-02-06\", \"base_url\": \"www.flipkart.com\", \"visits\": 0}, {\"eventtimeutc\": \"2025-02-06\", \"base_url\": \"www.google.com\", \"visits\": 18}, {\"eventtimeutc\": \"2025-02-06\", \"base_url\": \"www.homedepot.com\", \"visits\": 0}, {\"eventtimeutc\": \"2025-02-06\", \"base_url\": \"www.instacart.com\", \"visits\": 0}, {\"eventtimeutc\": \"2025-02-06\", \"base_url\": \"www.instagram.com\", \"visits\": 0}, {\"eventtimeutc\": \"2025-02-06\", \"base_url\": \"www.linkedin.com\", \"visits\": 0}, {\"eventtimeutc\": \"2025-02-06\", \"base_url\": \"www.loopnet.com\", \"visits\": 0}, {\"eventtimeutc\": \"2025-02-06\", \"base_url\": \"www.mavenclinic.com\", \"visits\": 0}, {\"eventtimeutc\": \"2025-02-06\", \"base_url\": \"www.reddit.com\", \"visits\": 0}, {\"eventtimeutc\": \"2025-02-06\", \"base_url\": \"www.taskrabbit.com\", \"visits\": 0}, {\"eventtimeutc\": \"2025-02-06\", \"base_url\": \"www.timeanddate.com\", \"visits\": 0}, {\"eventtimeutc\": \"2025-02-06\", \"base_url\": \"www.tractorsupply.com\", \"visits\": 0}, {\"eventtimeutc\": \"2025-02-06\", \"base_url\": \"www.upwork.com\", \"visits\": 3}, {\"eventtimeutc\": \"2025-02-06\", \"base_url\": \"www.way.com\", \"visits\": 16}, {\"eventtimeutc\": \"2025-02-06\", \"base_url\": \"www.zillow.com\", \"visits\": 0}, {\"eventtimeutc\": \"2025-02-06\", \"base_url\": \"www.zipair.net\", \"visits\": 0}, {\"eventtimeutc\": \"2025-02-07\", \"base_url\": \"accounts.google.com\", \"visits\": 11}, {\"eventtimeutc\": \"2025-02-07\", \"base_url\": \"app.clickup.com\", \"visits\": 0}, {\"eventtimeutc\": \"2025-02-07\", \"base_url\": \"app.onemedical.com\", \"visits\": 0}, {\"eventtimeutc\": \"2025-02-07\", \"base_url\": \"app.pinecone.io\", \"visits\": 0}, {\"eventtimeutc\": \"2025-02-07\", \"base_url\": \"app.powerbi.com\", \"visits\": 0}, {\"eventtimeutc\": \"2025-02-07\", \"base_url\": \"behav-my.sharepoint.com\", \"visits\": 0}, {\"eventtimeutc\": \"2025-02-07\", \"base_url\": \"chrome.google.com\", \"visits\": 0}, {\"eventtimeutc\": \"2025-02-07\", \"base_url\": \"cornerstone.csod.com\", \"visits\": 0}, {\"eventtimeutc\": \"2025-02-07\", \"base_url\": \"docs.google.com\", \"visits\": 0}, {\"eventtimeutc\": \"2025-02-07\", \"base_url\": \"drive.google.com\", \"visits\": 0}, {\"eventtimeutc\": \"2025-02-07\", \"base_url\": \"en.m.wikipedia.org\", \"visits\": 1}, {\"eventtimeutc\": \"2025-02-07\", \"base_url\": \"eu-west-1.console.aws.amazon.com\", \"visits\": 0}, {\"eventtimeutc\": \"2025-02-07\", \"base_url\": \"gitlab.com\", \"visits\": 0}, {\"eventtimeutc\": \"2025-02-07\", \"base_url\": \"go.xero.com\", \"visits\": 0}, {\"eventtimeutc\": \"2025-02-07\", \"base_url\": \"htmltemplates.co\", \"visits\": 0}, {\"eventtimeutc\": \"2025-02-07\", \"base_url\": \"idam-ui.company-information.service.gov.uk\", \"visits\": 0}, {\"eventtimeutc\": \"2025-02-07\", \"base_url\": \"joinmosaic.myaccountinfo.com\", \"visits\": 0}, {\"eventtimeutc\": \"2025-02-07\", \"base_url\": \"login.microsoftonline.com\", \"visits\": 4}, {\"eventtimeutc\": \"2025-02-07\", \"base_url\": \"mail.google.com\", \"visits\": 0}, {\"eventtimeutc\": \"2025-02-07\", \"base_url\": \"onedrive.live.com\", \"visits\": 0}, {\"eventtimeutc\": \"2025-02-07\", \"base_url\": \"photos.google.com\", \"visits\": 0}, {\"eventtimeutc\": \"2025-02-07\", \"base_url\": \"play.google.com\", \"visits\": 0}, {\"eventtimeutc\": \"2025-02-07\", \"base_url\": \"py-insights.com\", \"visits\": 0}, {\"eventtimeutc\": \"2025-02-07\", \"base_url\": \"pyinsightscom-my.sharepoint.com\", \"visits\": 0}, {\"eventtimeutc\": \"2025-02-07\", \"base_url\": \"pyinsightscom.sharepoint.com\", \"visits\": 0}, {\"eventtimeutc\": \"2025-02-07\", \"base_url\": \"reporting.xero.com\", \"visits\": 0}, {\"eventtimeutc\": \"2025-02-07\", \"base_url\": \"teams.microsoft.com\", \"visits\": 0}, {\"eventtimeutc\": \"2025-02-07\", \"base_url\": \"wellfound.com\", \"visits\": 0}, {\"eventtimeutc\": \"2025-02-07\", \"base_url\": \"wise.com\", \"visits\": 0}, {\"eventtimeutc\": \"2025-02-07\", \"base_url\": \"www.airasia.com\", \"visits\": 0}, {\"eventtimeutc\": \"2025-02-07\", \"base_url\": \"www.amazon.com\", \"visits\": 0}, {\"eventtimeutc\": \"2025-02-07\", \"base_url\": \"www.amazon.in\", \"visits\": 0}, {\"eventtimeutc\": \"2025-02-07\", \"base_url\": \"www.bizquest.com\", \"visits\": 0}, {\"eventtimeutc\": \"2025-02-07\", \"base_url\": \"www.facebook.com\", \"visits\": 0}, {\"eventtimeutc\": \"2025-02-07\", \"base_url\": \"www.flipkart.com\", \"visits\": 0}, {\"eventtimeutc\": \"2025-02-07\", \"base_url\": \"www.google.com\", \"visits\": 4}, {\"eventtimeutc\": \"2025-02-07\", \"base_url\": \"www.homedepot.com\", \"visits\": 0}, {\"eventtimeutc\": \"2025-02-07\", \"base_url\": \"www.instacart.com\", \"visits\": 0}, {\"eventtimeutc\": \"2025-02-07\", \"base_url\": \"www.instagram.com\", \"visits\": 0}, {\"eventtimeutc\": \"2025-02-07\", \"base_url\": \"www.linkedin.com\", \"visits\": 0}, {\"eventtimeutc\": \"2025-02-07\", \"base_url\": \"www.loopnet.com\", \"visits\": 0}, {\"eventtimeutc\": \"2025-02-07\", \"base_url\": \"www.mavenclinic.com\", \"visits\": 0}, {\"eventtimeutc\": \"2025-02-07\", \"base_url\": \"www.reddit.com\", \"visits\": 0}, {\"eventtimeutc\": \"2025-02-07\", \"base_url\": \"www.taskrabbit.com\", \"visits\": 0}, {\"eventtimeutc\": \"2025-02-07\", \"base_url\": \"www.timeanddate.com\", \"visits\": 0}, {\"eventtimeutc\": \"2025-02-07\", \"base_url\": \"www.tractorsupply.com\", \"visits\": 0}, {\"eventtimeutc\": \"2025-02-07\", \"base_url\": \"www.upwork.com\", \"visits\": 3}, {\"eventtimeutc\": \"2025-02-07\", \"base_url\": \"www.way.com\", \"visits\": 0}, {\"eventtimeutc\": \"2025-02-07\", \"base_url\": \"www.zillow.com\", \"visits\": 0}, {\"eventtimeutc\": \"2025-02-07\", \"base_url\": \"www.zipair.net\", \"visits\": 0}, {\"eventtimeutc\": \"2025-02-08\", \"base_url\": \"accounts.google.com\", \"visits\": 0}, {\"eventtimeutc\": \"2025-02-08\", \"base_url\": \"app.clickup.com\", \"visits\": 0}, {\"eventtimeutc\": \"2025-02-08\", \"base_url\": \"app.onemedical.com\", \"visits\": 0}, {\"eventtimeutc\": \"2025-02-08\", \"base_url\": \"app.pinecone.io\", \"visits\": 0}, {\"eventtimeutc\": \"2025-02-08\", \"base_url\": \"app.powerbi.com\", \"visits\": 0}, {\"eventtimeutc\": \"2025-02-08\", \"base_url\": \"behav-my.sharepoint.com\", \"visits\": 0}, {\"eventtimeutc\": \"2025-02-08\", \"base_url\": \"chrome.google.com\", \"visits\": 0}, {\"eventtimeutc\": \"2025-02-08\", \"base_url\": \"cornerstone.csod.com\", \"visits\": 0}, {\"eventtimeutc\": \"2025-02-08\", \"base_url\": \"docs.google.com\", \"visits\": 0}, {\"eventtimeutc\": \"2025-02-08\", \"base_url\": \"drive.google.com\", \"visits\": 0}, {\"eventtimeutc\": \"2025-02-08\", \"base_url\": \"en.m.wikipedia.org\", \"visits\": 0}, {\"eventtimeutc\": \"2025-02-08\", \"base_url\": \"eu-west-1.console.aws.amazon.com\", \"visits\": 0}, {\"eventtimeutc\": \"2025-02-08\", \"base_url\": \"gitlab.com\", \"visits\": 0}, {\"eventtimeutc\": \"2025-02-08\", \"base_url\": \"go.xero.com\", \"visits\": 0}, {\"eventtimeutc\": \"2025-02-08\", \"base_url\": \"htmltemplates.co\", \"visits\": 0}, {\"eventtimeutc\": \"2025-02-08\", \"base_url\": \"idam-ui.company-information.service.gov.uk\", \"visits\": 0}, {\"eventtimeutc\": \"2025-02-08\", \"base_url\": \"joinmosaic.myaccountinfo.com\", \"visits\": 0}, {\"eventtimeutc\": \"2025-02-08\", \"base_url\": \"login.microsoftonline.com\", \"visits\": 0}, {\"eventtimeutc\": \"2025-02-08\", \"base_url\": \"mail.google.com\", \"visits\": 0}, {\"eventtimeutc\": \"2025-02-08\", \"base_url\": \"onedrive.live.com\", \"visits\": 0}, {\"eventtimeutc\": \"2025-02-08\", \"base_url\": \"photos.google.com\", \"visits\": 0}, {\"eventtimeutc\": \"2025-02-08\", \"base_url\": \"play.google.com\", \"visits\": 0}, {\"eventtimeutc\": \"2025-02-08\", \"base_url\": \"py-insights.com\", \"visits\": 0}, {\"eventtimeutc\": \"2025-02-08\", \"base_url\": \"pyinsightscom-my.sharepoint.com\", \"visits\": 0}, {\"eventtimeutc\": \"2025-02-08\", \"base_url\": \"pyinsightscom.sharepoint.com\", \"visits\": 0}, {\"eventtimeutc\": \"2025-02-08\", \"base_url\": \"reporting.xero.com\", \"visits\": 0}, {\"eventtimeutc\": \"2025-02-08\", \"base_url\": \"teams.microsoft.com\", \"visits\": 0}, {\"eventtimeutc\": \"2025-02-08\", \"base_url\": \"wellfound.com\", \"visits\": 0}, {\"eventtimeutc\": \"2025-02-08\", \"base_url\": \"wise.com\", \"visits\": 0}, {\"eventtimeutc\": \"2025-02-08\", \"base_url\": \"www.airasia.com\", \"visits\": 0}, {\"eventtimeutc\": \"2025-02-08\", \"base_url\": \"www.amazon.com\", \"visits\": 0}, {\"eventtimeutc\": \"2025-02-08\", \"base_url\": \"www.amazon.in\", \"visits\": 0}, {\"eventtimeutc\": \"2025-02-08\", \"base_url\": \"www.bizquest.com\", \"visits\": 0}, {\"eventtimeutc\": \"2025-02-08\", \"base_url\": \"www.facebook.com\", \"visits\": 0}, {\"eventtimeutc\": \"2025-02-08\", \"base_url\": \"www.flipkart.com\", \"visits\": 0}, {\"eventtimeutc\": \"2025-02-08\", \"base_url\": \"www.google.com\", \"visits\": 20}, {\"eventtimeutc\": \"2025-02-08\", \"base_url\": \"www.homedepot.com\", \"visits\": 0}, {\"eventtimeutc\": \"2025-02-08\", \"base_url\": \"www.instacart.com\", \"visits\": 0}, {\"eventtimeutc\": \"2025-02-08\", \"base_url\": \"www.instagram.com\", \"visits\": 0}, {\"eventtimeutc\": \"2025-02-08\", \"base_url\": \"www.linkedin.com\", \"visits\": 0}, {\"eventtimeutc\": \"2025-02-08\", \"base_url\": \"www.loopnet.com\", \"visits\": 0}, {\"eventtimeutc\": \"2025-02-08\", \"base_url\": \"www.mavenclinic.com\", \"visits\": 0}, {\"eventtimeutc\": \"2025-02-08\", \"base_url\": \"www.reddit.com\", \"visits\": 0}, {\"eventtimeutc\": \"2025-02-08\", \"base_url\": \"www.taskrabbit.com\", \"visits\": 0}, {\"eventtimeutc\": \"2025-02-08\", \"base_url\": \"www.timeanddate.com\", \"visits\": 0}, {\"eventtimeutc\": \"2025-02-08\", \"base_url\": \"www.tractorsupply.com\", \"visits\": 0}, {\"eventtimeutc\": \"2025-02-08\", \"base_url\": \"www.upwork.com\", \"visits\": 0}, {\"eventtimeutc\": \"2025-02-08\", \"base_url\": \"www.way.com\", \"visits\": 0}, {\"eventtimeutc\": \"2025-02-08\", \"base_url\": \"www.zillow.com\", \"visits\": 0}, {\"eventtimeutc\": \"2025-02-08\", \"base_url\": \"www.zipair.net\", \"visits\": 0}, {\"eventtimeutc\": \"2025-02-09\", \"base_url\": \"accounts.google.com\", \"visits\": 0}, {\"eventtimeutc\": \"2025-02-09\", \"base_url\": \"app.clickup.com\", \"visits\": 0}, {\"eventtimeutc\": \"2025-02-09\", \"base_url\": \"app.onemedical.com\", \"visits\": 0}, {\"eventtimeutc\": \"2025-02-09\", \"base_url\": \"app.pinecone.io\", \"visits\": 0}, {\"eventtimeutc\": \"2025-02-09\", \"base_url\": \"app.powerbi.com\", \"visits\": 0}, {\"eventtimeutc\": \"2025-02-09\", \"base_url\": \"behav-my.sharepoint.com\", \"visits\": 0}, {\"eventtimeutc\": \"2025-02-09\", \"base_url\": \"chrome.google.com\", \"visits\": 0}, {\"eventtimeutc\": \"2025-02-09\", \"base_url\": \"cornerstone.csod.com\", \"visits\": 0}, {\"eventtimeutc\": \"2025-02-09\", \"base_url\": \"docs.google.com\", \"visits\": 0}, {\"eventtimeutc\": \"2025-02-09\", \"base_url\": \"drive.google.com\", \"visits\": 0}, {\"eventtimeutc\": \"2025-02-09\", \"base_url\": \"en.m.wikipedia.org\", \"visits\": 1}, {\"eventtimeutc\": \"2025-02-09\", \"base_url\": \"eu-west-1.console.aws.amazon.com\", \"visits\": 0}, {\"eventtimeutc\": \"2025-02-09\", \"base_url\": \"gitlab.com\", \"visits\": 0}, {\"eventtimeutc\": \"2025-02-09\", \"base_url\": \"go.xero.com\", \"visits\": 0}, {\"eventtimeutc\": \"2025-02-09\", \"base_url\": \"htmltemplates.co\", \"visits\": 0}, {\"eventtimeutc\": \"2025-02-09\", \"base_url\": \"idam-ui.company-information.service.gov.uk\", \"visits\": 0}, {\"eventtimeutc\": \"2025-02-09\", \"base_url\": \"joinmosaic.myaccountinfo.com\", \"visits\": 0}, {\"eventtimeutc\": \"2025-02-09\", \"base_url\": \"login.microsoftonline.com\", \"visits\": 0}, {\"eventtimeutc\": \"2025-02-09\", \"base_url\": \"mail.google.com\", \"visits\": 0}, {\"eventtimeutc\": \"2025-02-09\", \"base_url\": \"onedrive.live.com\", \"visits\": 0}, {\"eventtimeutc\": \"2025-02-09\", \"base_url\": \"photos.google.com\", \"visits\": 0}, {\"eventtimeutc\": \"2025-02-09\", \"base_url\": \"play.google.com\", \"visits\": 0}, {\"eventtimeutc\": \"2025-02-09\", \"base_url\": \"py-insights.com\", \"visits\": 0}, {\"eventtimeutc\": \"2025-02-09\", \"base_url\": \"pyinsightscom-my.sharepoint.com\", \"visits\": 0}, {\"eventtimeutc\": \"2025-02-09\", \"base_url\": \"pyinsightscom.sharepoint.com\", \"visits\": 0}, {\"eventtimeutc\": \"2025-02-09\", \"base_url\": \"reporting.xero.com\", \"visits\": 0}, {\"eventtimeutc\": \"2025-02-09\", \"base_url\": \"teams.microsoft.com\", \"visits\": 0}, {\"eventtimeutc\": \"2025-02-09\", \"base_url\": \"wellfound.com\", \"visits\": 0}, {\"eventtimeutc\": \"2025-02-09\", \"base_url\": \"wise.com\", \"visits\": 0}, {\"eventtimeutc\": \"2025-02-09\", \"base_url\": \"www.airasia.com\", \"visits\": 0}, {\"eventtimeutc\": \"2025-02-09\", \"base_url\": \"www.amazon.com\", \"visits\": 0}, {\"eventtimeutc\": \"2025-02-09\", \"base_url\": \"www.amazon.in\", \"visits\": 0}, {\"eventtimeutc\": \"2025-02-09\", \"base_url\": \"www.bizquest.com\", \"visits\": 0}, {\"eventtimeutc\": \"2025-02-09\", \"base_url\": \"www.facebook.com\", \"visits\": 0}, {\"eventtimeutc\": \"2025-02-09\", \"base_url\": \"www.flipkart.com\", \"visits\": 0}, {\"eventtimeutc\": \"2025-02-09\", \"base_url\": \"www.google.com\", \"visits\": 13}, {\"eventtimeutc\": \"2025-02-09\", \"base_url\": \"www.homedepot.com\", \"visits\": 0}, {\"eventtimeutc\": \"2025-02-09\", \"base_url\": \"www.instacart.com\", \"visits\": 0}, {\"eventtimeutc\": \"2025-02-09\", \"base_url\": \"www.instagram.com\", \"visits\": 0}, {\"eventtimeutc\": \"2025-02-09\", \"base_url\": \"www.linkedin.com\", \"visits\": 0}, {\"eventtimeutc\": \"2025-02-09\", \"base_url\": \"www.loopnet.com\", \"visits\": 0}, {\"eventtimeutc\": \"2025-02-09\", \"base_url\": \"www.mavenclinic.com\", \"visits\": 0}, {\"eventtimeutc\": \"2025-02-09\", \"base_url\": \"www.reddit.com\", \"visits\": 0}, {\"eventtimeutc\": \"2025-02-09\", \"base_url\": \"www.taskrabbit.com\", \"visits\": 0}, {\"eventtimeutc\": \"2025-02-09\", \"base_url\": \"www.timeanddate.com\", \"visits\": 0}, {\"eventtimeutc\": \"2025-02-09\", \"base_url\": \"www.tractorsupply.com\", \"visits\": 0}, {\"eventtimeutc\": \"2025-02-09\", \"base_url\": \"www.upwork.com\", \"visits\": 0}, {\"eventtimeutc\": \"2025-02-09\", \"base_url\": \"www.way.com\", \"visits\": 0}, {\"eventtimeutc\": \"2025-02-09\", \"base_url\": \"www.zillow.com\", \"visits\": 0}, {\"eventtimeutc\": \"2025-02-09\", \"base_url\": \"www.zipair.net\", \"visits\": 0}, {\"eventtimeutc\": \"2025-02-10\", \"base_url\": \"accounts.google.com\", \"visits\": 0}, {\"eventtimeutc\": \"2025-02-10\", \"base_url\": \"app.clickup.com\", \"visits\": 0}, {\"eventtimeutc\": \"2025-02-10\", \"base_url\": \"app.onemedical.com\", \"visits\": 0}, {\"eventtimeutc\": \"2025-02-10\", \"base_url\": \"app.pinecone.io\", \"visits\": 0}, {\"eventtimeutc\": \"2025-02-10\", \"base_url\": \"app.powerbi.com\", \"visits\": 0}, {\"eventtimeutc\": \"2025-02-10\", \"base_url\": \"behav-my.sharepoint.com\", \"visits\": 0}, {\"eventtimeutc\": \"2025-02-10\", \"base_url\": \"chrome.google.com\", \"visits\": 0}, {\"eventtimeutc\": \"2025-02-10\", \"base_url\": \"cornerstone.csod.com\", \"visits\": 0}, {\"eventtimeutc\": \"2025-02-10\", \"base_url\": \"docs.google.com\", \"visits\": 0}, {\"eventtimeutc\": \"2025-02-10\", \"base_url\": \"drive.google.com\", \"visits\": 0}, {\"eventtimeutc\": \"2025-02-10\", \"base_url\": \"en.m.wikipedia.org\", \"visits\": 0}, {\"eventtimeutc\": \"2025-02-10\", \"base_url\": \"eu-west-1.console.aws.amazon.com\", \"visits\": 0}, {\"eventtimeutc\": \"2025-02-10\", \"base_url\": \"gitlab.com\", \"visits\": 0}, {\"eventtimeutc\": \"2025-02-10\", \"base_url\": \"go.xero.com\", \"visits\": 0}, {\"eventtimeutc\": \"2025-02-10\", \"base_url\": \"htmltemplates.co\", \"visits\": 0}, {\"eventtimeutc\": \"2025-02-10\", \"base_url\": \"idam-ui.company-information.service.gov.uk\", \"visits\": 0}, {\"eventtimeutc\": \"2025-02-10\", \"base_url\": \"joinmosaic.myaccountinfo.com\", \"visits\": 0}, {\"eventtimeutc\": \"2025-02-10\", \"base_url\": \"login.microsoftonline.com\", \"visits\": 0}, {\"eventtimeutc\": \"2025-02-10\", \"base_url\": \"mail.google.com\", \"visits\": 3}, {\"eventtimeutc\": \"2025-02-10\", \"base_url\": \"onedrive.live.com\", \"visits\": 1}, {\"eventtimeutc\": \"2025-02-10\", \"base_url\": \"photos.google.com\", \"visits\": 0}, {\"eventtimeutc\": \"2025-02-10\", \"base_url\": \"play.google.com\", \"visits\": 0}, {\"eventtimeutc\": \"2025-02-10\", \"base_url\": \"py-insights.com\", \"visits\": 0}, {\"eventtimeutc\": \"2025-02-10\", \"base_url\": \"pyinsightscom-my.sharepoint.com\", \"visits\": 0}, {\"eventtimeutc\": \"2025-02-10\", \"base_url\": \"pyinsightscom.sharepoint.com\", \"visits\": 1}, {\"eventtimeutc\": \"2025-02-10\", \"base_url\": \"reporting.xero.com\", \"visits\": 0}, {\"eventtimeutc\": \"2025-02-10\", \"base_url\": \"teams.microsoft.com\", \"visits\": 0}, {\"eventtimeutc\": \"2025-02-10\", \"base_url\": \"wellfound.com\", \"visits\": 0}, {\"eventtimeutc\": \"2025-02-10\", \"base_url\": \"wise.com\", \"visits\": 0}, {\"eventtimeutc\": \"2025-02-10\", \"base_url\": \"www.airasia.com\", \"visits\": 0}, {\"eventtimeutc\": \"2025-02-10\", \"base_url\": \"www.amazon.com\", \"visits\": 0}, {\"eventtimeutc\": \"2025-02-10\", \"base_url\": \"www.amazon.in\", \"visits\": 0}, {\"eventtimeutc\": \"2025-02-10\", \"base_url\": \"www.bizquest.com\", \"visits\": 0}, {\"eventtimeutc\": \"2025-02-10\", \"base_url\": \"www.facebook.com\", \"visits\": 0}, {\"eventtimeutc\": \"2025-02-10\", \"base_url\": \"www.flipkart.com\", \"visits\": 0}, {\"eventtimeutc\": \"2025-02-10\", \"base_url\": \"www.google.com\", \"visits\": 2}, {\"eventtimeutc\": \"2025-02-10\", \"base_url\": \"www.homedepot.com\", \"visits\": 0}, {\"eventtimeutc\": \"2025-02-10\", \"base_url\": \"www.instacart.com\", \"visits\": 0}, {\"eventtimeutc\": \"2025-02-10\", \"base_url\": \"www.instagram.com\", \"visits\": 0}, {\"eventtimeutc\": \"2025-02-10\", \"base_url\": \"www.linkedin.com\", \"visits\": 0}, {\"eventtimeutc\": \"2025-02-10\", \"base_url\": \"www.loopnet.com\", \"visits\": 0}, {\"eventtimeutc\": \"2025-02-10\", \"base_url\": \"www.mavenclinic.com\", \"visits\": 0}, {\"eventtimeutc\": \"2025-02-10\", \"base_url\": \"www.reddit.com\", \"visits\": 0}, {\"eventtimeutc\": \"2025-02-10\", \"base_url\": \"www.taskrabbit.com\", \"visits\": 0}, {\"eventtimeutc\": \"2025-02-10\", \"base_url\": \"www.timeanddate.com\", \"visits\": 0}, {\"eventtimeutc\": \"2025-02-10\", \"base_url\": \"www.tractorsupply.com\", \"visits\": 0}, {\"eventtimeutc\": \"2025-02-10\", \"base_url\": \"www.upwork.com\", \"visits\": 3}, {\"eventtimeutc\": \"2025-02-10\", \"base_url\": \"www.way.com\", \"visits\": 0}, {\"eventtimeutc\": \"2025-02-10\", \"base_url\": \"www.zillow.com\", \"visits\": 0}, {\"eventtimeutc\": \"2025-02-10\", \"base_url\": \"www.zipair.net\", \"visits\": 0}, {\"eventtimeutc\": \"2025-02-11\", \"base_url\": \"accounts.google.com\", \"visits\": 0}, {\"eventtimeutc\": \"2025-02-11\", \"base_url\": \"app.clickup.com\", \"visits\": 0}, {\"eventtimeutc\": \"2025-02-11\", \"base_url\": \"app.onemedical.com\", \"visits\": 0}, {\"eventtimeutc\": \"2025-02-11\", \"base_url\": \"app.pinecone.io\", \"visits\": 0}, {\"eventtimeutc\": \"2025-02-11\", \"base_url\": \"app.powerbi.com\", \"visits\": 0}, {\"eventtimeutc\": \"2025-02-11\", \"base_url\": \"behav-my.sharepoint.com\", \"visits\": 3}, {\"eventtimeutc\": \"2025-02-11\", \"base_url\": \"chrome.google.com\", \"visits\": 0}, {\"eventtimeutc\": \"2025-02-11\", \"base_url\": \"cornerstone.csod.com\", \"visits\": 0}, {\"eventtimeutc\": \"2025-02-11\", \"base_url\": \"docs.google.com\", \"visits\": 0}, {\"eventtimeutc\": \"2025-02-11\", \"base_url\": \"drive.google.com\", \"visits\": 0}, {\"eventtimeutc\": \"2025-02-11\", \"base_url\": \"en.m.wikipedia.org\", \"visits\": 0}, {\"eventtimeutc\": \"2025-02-11\", \"base_url\": \"eu-west-1.console.aws.amazon.com\", \"visits\": 10}, {\"eventtimeutc\": \"2025-02-11\", \"base_url\": \"gitlab.com\", \"visits\": 0}, {\"eventtimeutc\": \"2025-02-11\", \"base_url\": \"go.xero.com\", \"visits\": 0}, {\"eventtimeutc\": \"2025-02-11\", \"base_url\": \"htmltemplates.co\", \"visits\": 0}, {\"eventtimeutc\": \"2025-02-11\", \"base_url\": \"idam-ui.company-information.service.gov.uk\", \"visits\": 0}, {\"eventtimeutc\": \"2025-02-11\", \"base_url\": \"joinmosaic.myaccountinfo.com\", \"visits\": 0}, {\"eventtimeutc\": \"2025-02-11\", \"base_url\": \"login.microsoftonline.com\", \"visits\": 2}, {\"eventtimeutc\": \"2025-02-11\", \"base_url\": \"mail.google.com\", \"visits\": 0}, {\"eventtimeutc\": \"2025-02-11\", \"base_url\": \"onedrive.live.com\", \"visits\": 0}, {\"eventtimeutc\": \"2025-02-11\", \"base_url\": \"photos.google.com\", \"visits\": 0}, {\"eventtimeutc\": \"2025-02-11\", \"base_url\": \"play.google.com\", \"visits\": 0}, {\"eventtimeutc\": \"2025-02-11\", \"base_url\": \"py-insights.com\", \"visits\": 0}, {\"eventtimeutc\": \"2025-02-11\", \"base_url\": \"pyinsightscom-my.sharepoint.com\", \"visits\": 0}, {\"eventtimeutc\": \"2025-02-11\", \"base_url\": \"pyinsightscom.sharepoint.com\", \"visits\": 4}, {\"eventtimeutc\": \"2025-02-11\", \"base_url\": \"reporting.xero.com\", \"visits\": 0}, {\"eventtimeutc\": \"2025-02-11\", \"base_url\": \"teams.microsoft.com\", \"visits\": 0}, {\"eventtimeutc\": \"2025-02-11\", \"base_url\": \"wellfound.com\", \"visits\": 0}, {\"eventtimeutc\": \"2025-02-11\", \"base_url\": \"wise.com\", \"visits\": 0}, {\"eventtimeutc\": \"2025-02-11\", \"base_url\": \"www.airasia.com\", \"visits\": 0}, {\"eventtimeutc\": \"2025-02-11\", \"base_url\": \"www.amazon.com\", \"visits\": 3}, {\"eventtimeutc\": \"2025-02-11\", \"base_url\": \"www.amazon.in\", \"visits\": 0}, {\"eventtimeutc\": \"2025-02-11\", \"base_url\": \"www.bizquest.com\", \"visits\": 0}, {\"eventtimeutc\": \"2025-02-11\", \"base_url\": \"www.facebook.com\", \"visits\": 10}, {\"eventtimeutc\": \"2025-02-11\", \"base_url\": \"www.flipkart.com\", \"visits\": 0}, {\"eventtimeutc\": \"2025-02-11\", \"base_url\": \"www.google.com\", \"visits\": 1}, {\"eventtimeutc\": \"2025-02-11\", \"base_url\": \"www.homedepot.com\", \"visits\": 0}, {\"eventtimeutc\": \"2025-02-11\", \"base_url\": \"www.instacart.com\", \"visits\": 0}, {\"eventtimeutc\": \"2025-02-11\", \"base_url\": \"www.instagram.com\", \"visits\": 0}, {\"eventtimeutc\": \"2025-02-11\", \"base_url\": \"www.linkedin.com\", \"visits\": 0}, {\"eventtimeutc\": \"2025-02-11\", \"base_url\": \"www.loopnet.com\", \"visits\": 0}, {\"eventtimeutc\": \"2025-02-11\", \"base_url\": \"www.mavenclinic.com\", \"visits\": 0}, {\"eventtimeutc\": \"2025-02-11\", \"base_url\": \"www.reddit.com\", \"visits\": 0}, {\"eventtimeutc\": \"2025-02-11\", \"base_url\": \"www.taskrabbit.com\", \"visits\": 0}, {\"eventtimeutc\": \"2025-02-11\", \"base_url\": \"www.timeanddate.com\", \"visits\": 0}, {\"eventtimeutc\": \"2025-02-11\", \"base_url\": \"www.tractorsupply.com\", \"visits\": 0}, {\"eventtimeutc\": \"2025-02-11\", \"base_url\": \"www.upwork.com\", \"visits\": 35}, {\"eventtimeutc\": \"2025-02-11\", \"base_url\": \"www.way.com\", \"visits\": 0}, {\"eventtimeutc\": \"2025-02-11\", \"base_url\": \"www.zillow.com\", \"visits\": 0}, {\"eventtimeutc\": \"2025-02-11\", \"base_url\": \"www.zipair.net\", \"visits\": 0}, {\"eventtimeutc\": \"2025-02-12\", \"base_url\": \"accounts.google.com\", \"visits\": 0}, {\"eventtimeutc\": \"2025-02-12\", \"base_url\": \"app.clickup.com\", \"visits\": 0}, {\"eventtimeutc\": \"2025-02-12\", \"base_url\": \"app.onemedical.com\", \"visits\": 0}, {\"eventtimeutc\": \"2025-02-12\", \"base_url\": \"app.pinecone.io\", \"visits\": 0}, {\"eventtimeutc\": \"2025-02-12\", \"base_url\": \"app.powerbi.com\", \"visits\": 0}, {\"eventtimeutc\": \"2025-02-12\", \"base_url\": \"behav-my.sharepoint.com\", \"visits\": 0}, {\"eventtimeutc\": \"2025-02-12\", \"base_url\": \"chrome.google.com\", \"visits\": 0}, {\"eventtimeutc\": \"2025-02-12\", \"base_url\": \"cornerstone.csod.com\", \"visits\": 0}, {\"eventtimeutc\": \"2025-02-12\", \"base_url\": \"docs.google.com\", \"visits\": 0}, {\"eventtimeutc\": \"2025-02-12\", \"base_url\": \"drive.google.com\", \"visits\": 0}, {\"eventtimeutc\": \"2025-02-12\", \"base_url\": \"en.m.wikipedia.org\", \"visits\": 13}, {\"eventtimeutc\": \"2025-02-12\", \"base_url\": \"eu-west-1.console.aws.amazon.com\", \"visits\": 0}, {\"eventtimeutc\": \"2025-02-12\", \"base_url\": \"gitlab.com\", \"visits\": 0}, {\"eventtimeutc\": \"2025-02-12\", \"base_url\": \"go.xero.com\", \"visits\": 0}, {\"eventtimeutc\": \"2025-02-12\", \"base_url\": \"htmltemplates.co\", \"visits\": 0}, {\"eventtimeutc\": \"2025-02-12\", \"base_url\": \"idam-ui.company-information.service.gov.uk\", \"visits\": 0}, {\"eventtimeutc\": \"2025-02-12\", \"base_url\": \"joinmosaic.myaccountinfo.com\", \"visits\": 0}, {\"eventtimeutc\": \"2025-02-12\", \"base_url\": \"login.microsoftonline.com\", \"visits\": 0}, {\"eventtimeutc\": \"2025-02-12\", \"base_url\": \"mail.google.com\", \"visits\": 0}, {\"eventtimeutc\": \"2025-02-12\", \"base_url\": \"onedrive.live.com\", \"visits\": 0}, {\"eventtimeutc\": \"2025-02-12\", \"base_url\": \"photos.google.com\", \"visits\": 0}, {\"eventtimeutc\": \"2025-02-12\", \"base_url\": \"play.google.com\", \"visits\": 0}, {\"eventtimeutc\": \"2025-02-12\", \"base_url\": \"py-insights.com\", \"visits\": 0}, {\"eventtimeutc\": \"2025-02-12\", \"base_url\": \"pyinsightscom-my.sharepoint.com\", \"visits\": 0}, {\"eventtimeutc\": \"2025-02-12\", \"base_url\": \"pyinsightscom.sharepoint.com\", \"visits\": 0}, {\"eventtimeutc\": \"2025-02-12\", \"base_url\": \"reporting.xero.com\", \"visits\": 0}, {\"eventtimeutc\": \"2025-02-12\", \"base_url\": \"teams.microsoft.com\", \"visits\": 0}, {\"eventtimeutc\": \"2025-02-12\", \"base_url\": \"wellfound.com\", \"visits\": 0}, {\"eventtimeutc\": \"2025-02-12\", \"base_url\": \"wise.com\", \"visits\": 0}, {\"eventtimeutc\": \"2025-02-12\", \"base_url\": \"www.airasia.com\", \"visits\": 0}, {\"eventtimeutc\": \"2025-02-12\", \"base_url\": \"www.amazon.com\", \"visits\": 0}, {\"eventtimeutc\": \"2025-02-12\", \"base_url\": \"www.amazon.in\", \"visits\": 0}, {\"eventtimeutc\": \"2025-02-12\", \"base_url\": \"www.bizquest.com\", \"visits\": 0}, {\"eventtimeutc\": \"2025-02-12\", \"base_url\": \"www.facebook.com\", \"visits\": 0}, {\"eventtimeutc\": \"2025-02-12\", \"base_url\": \"www.flipkart.com\", \"visits\": 0}, {\"eventtimeutc\": \"2025-02-12\", \"base_url\": \"www.google.com\", \"visits\": 74}, {\"eventtimeutc\": \"2025-02-12\", \"base_url\": \"www.homedepot.com\", \"visits\": 0}, {\"eventtimeutc\": \"2025-02-12\", \"base_url\": \"www.instacart.com\", \"visits\": 0}, {\"eventtimeutc\": \"2025-02-12\", \"base_url\": \"www.instagram.com\", \"visits\": 0}, {\"eventtimeutc\": \"2025-02-12\", \"base_url\": \"www.linkedin.com\", \"visits\": 0}, {\"eventtimeutc\": \"2025-02-12\", \"base_url\": \"www.loopnet.com\", \"visits\": 0}, {\"eventtimeutc\": \"2025-02-12\", \"base_url\": \"www.mavenclinic.com\", \"visits\": 0}, {\"eventtimeutc\": \"2025-02-12\", \"base_url\": \"www.reddit.com\", \"visits\": 3}, {\"eventtimeutc\": \"2025-02-12\", \"base_url\": \"www.taskrabbit.com\", \"visits\": 0}, {\"eventtimeutc\": \"2025-02-12\", \"base_url\": \"www.timeanddate.com\", \"visits\": 0}, {\"eventtimeutc\": \"2025-02-12\", \"base_url\": \"www.tractorsupply.com\", \"visits\": 0}, {\"eventtimeutc\": \"2025-02-12\", \"base_url\": \"www.upwork.com\", \"visits\": 1}, {\"eventtimeutc\": \"2025-02-12\", \"base_url\": \"www.way.com\", \"visits\": 0}, {\"eventtimeutc\": \"2025-02-12\", \"base_url\": \"www.zillow.com\", \"visits\": 0}, {\"eventtimeutc\": \"2025-02-12\", \"base_url\": \"www.zipair.net\", \"visits\": 0}, {\"eventtimeutc\": \"2025-02-13\", \"base_url\": \"accounts.google.com\", \"visits\": 0}, {\"eventtimeutc\": \"2025-02-13\", \"base_url\": \"app.clickup.com\", \"visits\": 0}, {\"eventtimeutc\": \"2025-02-13\", \"base_url\": \"app.onemedical.com\", \"visits\": 0}, {\"eventtimeutc\": \"2025-02-13\", \"base_url\": \"app.pinecone.io\", \"visits\": 0}, {\"eventtimeutc\": \"2025-02-13\", \"base_url\": \"app.powerbi.com\", \"visits\": 0}, {\"eventtimeutc\": \"2025-02-13\", \"base_url\": \"behav-my.sharepoint.com\", \"visits\": 0}, {\"eventtimeutc\": \"2025-02-13\", \"base_url\": \"chrome.google.com\", \"visits\": 0}, {\"eventtimeutc\": \"2025-02-13\", \"base_url\": \"cornerstone.csod.com\", \"visits\": 0}, {\"eventtimeutc\": \"2025-02-13\", \"base_url\": \"docs.google.com\", \"visits\": 0}, {\"eventtimeutc\": \"2025-02-13\", \"base_url\": \"drive.google.com\", \"visits\": 0}, {\"eventtimeutc\": \"2025-02-13\", \"base_url\": \"en.m.wikipedia.org\", \"visits\": 0}, {\"eventtimeutc\": \"2025-02-13\", \"base_url\": \"eu-west-1.console.aws.amazon.com\", \"visits\": 0}, {\"eventtimeutc\": \"2025-02-13\", \"base_url\": \"gitlab.com\", \"visits\": 0}, {\"eventtimeutc\": \"2025-02-13\", \"base_url\": \"go.xero.com\", \"visits\": 0}, {\"eventtimeutc\": \"2025-02-13\", \"base_url\": \"htmltemplates.co\", \"visits\": 0}, {\"eventtimeutc\": \"2025-02-13\", \"base_url\": \"idam-ui.company-information.service.gov.uk\", \"visits\": 0}, {\"eventtimeutc\": \"2025-02-13\", \"base_url\": \"joinmosaic.myaccountinfo.com\", \"visits\": 0}, {\"eventtimeutc\": \"2025-02-13\", \"base_url\": \"login.microsoftonline.com\", \"visits\": 0}, {\"eventtimeutc\": \"2025-02-13\", \"base_url\": \"mail.google.com\", \"visits\": 0}, {\"eventtimeutc\": \"2025-02-13\", \"base_url\": \"onedrive.live.com\", \"visits\": 0}, {\"eventtimeutc\": \"2025-02-13\", \"base_url\": \"photos.google.com\", \"visits\": 0}, {\"eventtimeutc\": \"2025-02-13\", \"base_url\": \"play.google.com\", \"visits\": 0}, {\"eventtimeutc\": \"2025-02-13\", \"base_url\": \"py-insights.com\", \"visits\": 0}, {\"eventtimeutc\": \"2025-02-13\", \"base_url\": \"pyinsightscom-my.sharepoint.com\", \"visits\": 0}, {\"eventtimeutc\": \"2025-02-13\", \"base_url\": \"pyinsightscom.sharepoint.com\", \"visits\": 0}, {\"eventtimeutc\": \"2025-02-13\", \"base_url\": \"reporting.xero.com\", \"visits\": 0}, {\"eventtimeutc\": \"2025-02-13\", \"base_url\": \"teams.microsoft.com\", \"visits\": 0}, {\"eventtimeutc\": \"2025-02-13\", \"base_url\": \"wellfound.com\", \"visits\": 0}, {\"eventtimeutc\": \"2025-02-13\", \"base_url\": \"wise.com\", \"visits\": 0}, {\"eventtimeutc\": \"2025-02-13\", \"base_url\": \"www.airasia.com\", \"visits\": 0}, {\"eventtimeutc\": \"2025-02-13\", \"base_url\": \"www.amazon.com\", \"visits\": 0}, {\"eventtimeutc\": \"2025-02-13\", \"base_url\": \"www.amazon.in\", \"visits\": 0}, {\"eventtimeutc\": \"2025-02-13\", \"base_url\": \"www.bizquest.com\", \"visits\": 0}, {\"eventtimeutc\": \"2025-02-13\", \"base_url\": \"www.facebook.com\", \"visits\": 0}, {\"eventtimeutc\": \"2025-02-13\", \"base_url\": \"www.flipkart.com\", \"visits\": 0}, {\"eventtimeutc\": \"2025-02-13\", \"base_url\": \"www.google.com\", \"visits\": 0}, {\"eventtimeutc\": \"2025-02-13\", \"base_url\": \"www.homedepot.com\", \"visits\": 0}, {\"eventtimeutc\": \"2025-02-13\", \"base_url\": \"www.instacart.com\", \"visits\": 0}, {\"eventtimeutc\": \"2025-02-13\", \"base_url\": \"www.instagram.com\", \"visits\": 0}, {\"eventtimeutc\": \"2025-02-13\", \"base_url\": \"www.linkedin.com\", \"visits\": 0}, {\"eventtimeutc\": \"2025-02-13\", \"base_url\": \"www.loopnet.com\", \"visits\": 0}, {\"eventtimeutc\": \"2025-02-13\", \"base_url\": \"www.mavenclinic.com\", \"visits\": 0}, {\"eventtimeutc\": \"2025-02-13\", \"base_url\": \"www.reddit.com\", \"visits\": 1}, {\"eventtimeutc\": \"2025-02-13\", \"base_url\": \"www.taskrabbit.com\", \"visits\": 0}, {\"eventtimeutc\": \"2025-02-13\", \"base_url\": \"www.timeanddate.com\", \"visits\": 0}, {\"eventtimeutc\": \"2025-02-13\", \"base_url\": \"www.tractorsupply.com\", \"visits\": 0}, {\"eventtimeutc\": \"2025-02-13\", \"base_url\": \"www.upwork.com\", \"visits\": 3}, {\"eventtimeutc\": \"2025-02-13\", \"base_url\": \"www.way.com\", \"visits\": 0}, {\"eventtimeutc\": \"2025-02-13\", \"base_url\": \"www.zillow.com\", \"visits\": 0}, {\"eventtimeutc\": \"2025-02-13\", \"base_url\": \"www.zipair.net\", \"visits\": 0}, {\"eventtimeutc\": \"2025-02-14\", \"base_url\": \"accounts.google.com\", \"visits\": 0}, {\"eventtimeutc\": \"2025-02-14\", \"base_url\": \"app.clickup.com\", \"visits\": 8}, {\"eventtimeutc\": \"2025-02-14\", \"base_url\": \"app.onemedical.com\", \"visits\": 0}, {\"eventtimeutc\": \"2025-02-14\", \"base_url\": \"app.pinecone.io\", \"visits\": 0}, {\"eventtimeutc\": \"2025-02-14\", \"base_url\": \"app.powerbi.com\", \"visits\": 0}, {\"eventtimeutc\": \"2025-02-14\", \"base_url\": \"behav-my.sharepoint.com\", \"visits\": 0}, {\"eventtimeutc\": \"2025-02-14\", \"base_url\": \"chrome.google.com\", \"visits\": 0}, {\"eventtimeutc\": \"2025-02-14\", \"base_url\": \"cornerstone.csod.com\", \"visits\": 0}, {\"eventtimeutc\": \"2025-02-14\", \"base_url\": \"docs.google.com\", \"visits\": 0}, {\"eventtimeutc\": \"2025-02-14\", \"base_url\": \"drive.google.com\", \"visits\": 0}, {\"eventtimeutc\": \"2025-02-14\", \"base_url\": \"en.m.wikipedia.org\", \"visits\": 0}, {\"eventtimeutc\": \"2025-02-14\", \"base_url\": \"eu-west-1.console.aws.amazon.com\", \"visits\": 0}, {\"eventtimeutc\": \"2025-02-14\", \"base_url\": \"gitlab.com\", \"visits\": 9}, {\"eventtimeutc\": \"2025-02-14\", \"base_url\": \"go.xero.com\", \"visits\": 0}, {\"eventtimeutc\": \"2025-02-14\", \"base_url\": \"htmltemplates.co\", \"visits\": 0}, {\"eventtimeutc\": \"2025-02-14\", \"base_url\": \"idam-ui.company-information.service.gov.uk\", \"visits\": 0}, {\"eventtimeutc\": \"2025-02-14\", \"base_url\": \"joinmosaic.myaccountinfo.com\", \"visits\": 0}, {\"eventtimeutc\": \"2025-02-14\", \"base_url\": \"login.microsoftonline.com\", \"visits\": 0}, {\"eventtimeutc\": \"2025-02-14\", \"base_url\": \"mail.google.com\", \"visits\": 0}, {\"eventtimeutc\": \"2025-02-14\", \"base_url\": \"onedrive.live.com\", \"visits\": 0}, {\"eventtimeutc\": \"2025-02-14\", \"base_url\": \"photos.google.com\", \"visits\": 0}, {\"eventtimeutc\": \"2025-02-14\", \"base_url\": \"play.google.com\", \"visits\": 0}, {\"eventtimeutc\": \"2025-02-14\", \"base_url\": \"py-insights.com\", \"visits\": 0}, {\"eventtimeutc\": \"2025-02-14\", \"base_url\": \"pyinsightscom-my.sharepoint.com\", \"visits\": 0}, {\"eventtimeutc\": \"2025-02-14\", \"base_url\": \"pyinsightscom.sharepoint.com\", \"visits\": 0}, {\"eventtimeutc\": \"2025-02-14\", \"base_url\": \"reporting.xero.com\", \"visits\": 0}, {\"eventtimeutc\": \"2025-02-14\", \"base_url\": \"teams.microsoft.com\", \"visits\": 0}, {\"eventtimeutc\": \"2025-02-14\", \"base_url\": \"wellfound.com\", \"visits\": 0}, {\"eventtimeutc\": \"2025-02-14\", \"base_url\": \"wise.com\", \"visits\": 0}, {\"eventtimeutc\": \"2025-02-14\", \"base_url\": \"www.airasia.com\", \"visits\": 0}, {\"eventtimeutc\": \"2025-02-14\", \"base_url\": \"www.amazon.com\", \"visits\": 0}, {\"eventtimeutc\": \"2025-02-14\", \"base_url\": \"www.amazon.in\", \"visits\": 0}, {\"eventtimeutc\": \"2025-02-14\", \"base_url\": \"www.bizquest.com\", \"visits\": 0}, {\"eventtimeutc\": \"2025-02-14\", \"base_url\": \"www.facebook.com\", \"visits\": 0}, {\"eventtimeutc\": \"2025-02-14\", \"base_url\": \"www.flipkart.com\", \"visits\": 0}, {\"eventtimeutc\": \"2025-02-14\", \"base_url\": \"www.google.com\", \"visits\": 23}, {\"eventtimeutc\": \"2025-02-14\", \"base_url\": \"www.homedepot.com\", \"visits\": 0}, {\"eventtimeutc\": \"2025-02-14\", \"base_url\": \"www.instacart.com\", \"visits\": 0}, {\"eventtimeutc\": \"2025-02-14\", \"base_url\": \"www.instagram.com\", \"visits\": 3}, {\"eventtimeutc\": \"2025-02-14\", \"base_url\": \"www.linkedin.com\", \"visits\": 0}, {\"eventtimeutc\": \"2025-02-14\", \"base_url\": \"www.loopnet.com\", \"visits\": 0}, {\"eventtimeutc\": \"2025-02-14\", \"base_url\": \"www.mavenclinic.com\", \"visits\": 0}, {\"eventtimeutc\": \"2025-02-14\", \"base_url\": \"www.reddit.com\", \"visits\": 1}, {\"eventtimeutc\": \"2025-02-14\", \"base_url\": \"www.taskrabbit.com\", \"visits\": 0}, {\"eventtimeutc\": \"2025-02-14\", \"base_url\": \"www.timeanddate.com\", \"visits\": 0}, {\"eventtimeutc\": \"2025-02-14\", \"base_url\": \"www.tractorsupply.com\", \"visits\": 0}, {\"eventtimeutc\": \"2025-02-14\", \"base_url\": \"www.upwork.com\", \"visits\": 0}, {\"eventtimeutc\": \"2025-02-14\", \"base_url\": \"www.way.com\", \"visits\": 0}, {\"eventtimeutc\": \"2025-02-14\", \"base_url\": \"www.zillow.com\", \"visits\": 0}, {\"eventtimeutc\": \"2025-02-14\", \"base_url\": \"www.zipair.net\", \"visits\": 0}, {\"eventtimeutc\": \"2025-02-15\", \"base_url\": \"accounts.google.com\", \"visits\": 0}, {\"eventtimeutc\": \"2025-02-15\", \"base_url\": \"app.clickup.com\", \"visits\": 0}, {\"eventtimeutc\": \"2025-02-15\", \"base_url\": \"app.onemedical.com\", \"visits\": 0}, {\"eventtimeutc\": \"2025-02-15\", \"base_url\": \"app.pinecone.io\", \"visits\": 0}, {\"eventtimeutc\": \"2025-02-15\", \"base_url\": \"app.powerbi.com\", \"visits\": 0}, {\"eventtimeutc\": \"2025-02-15\", \"base_url\": \"behav-my.sharepoint.com\", \"visits\": 0}, {\"eventtimeutc\": \"2025-02-15\", \"base_url\": \"chrome.google.com\", \"visits\": 0}, {\"eventtimeutc\": \"2025-02-15\", \"base_url\": \"cornerstone.csod.com\", \"visits\": 0}, {\"eventtimeutc\": \"2025-02-15\", \"base_url\": \"docs.google.com\", \"visits\": 0}, {\"eventtimeutc\": \"2025-02-15\", \"base_url\": \"drive.google.com\", \"visits\": 0}, {\"eventtimeutc\": \"2025-02-15\", \"base_url\": \"en.m.wikipedia.org\", \"visits\": 0}, {\"eventtimeutc\": \"2025-02-15\", \"base_url\": \"eu-west-1.console.aws.amazon.com\", \"visits\": 0}, {\"eventtimeutc\": \"2025-02-15\", \"base_url\": \"gitlab.com\", \"visits\": 0}, {\"eventtimeutc\": \"2025-02-15\", \"base_url\": \"go.xero.com\", \"visits\": 0}, {\"eventtimeutc\": \"2025-02-15\", \"base_url\": \"htmltemplates.co\", \"visits\": 0}, {\"eventtimeutc\": \"2025-02-15\", \"base_url\": \"idam-ui.company-information.service.gov.uk\", \"visits\": 0}, {\"eventtimeutc\": \"2025-02-15\", \"base_url\": \"joinmosaic.myaccountinfo.com\", \"visits\": 0}, {\"eventtimeutc\": \"2025-02-15\", \"base_url\": \"login.microsoftonline.com\", \"visits\": 0}, {\"eventtimeutc\": \"2025-02-15\", \"base_url\": \"mail.google.com\", \"visits\": 0}, {\"eventtimeutc\": \"2025-02-15\", \"base_url\": \"onedrive.live.com\", \"visits\": 0}, {\"eventtimeutc\": \"2025-02-15\", \"base_url\": \"photos.google.com\", \"visits\": 0}, {\"eventtimeutc\": \"2025-02-15\", \"base_url\": \"play.google.com\", \"visits\": 0}, {\"eventtimeutc\": \"2025-02-15\", \"base_url\": \"py-insights.com\", \"visits\": 0}, {\"eventtimeutc\": \"2025-02-15\", \"base_url\": \"pyinsightscom-my.sharepoint.com\", \"visits\": 0}, {\"eventtimeutc\": \"2025-02-15\", \"base_url\": \"pyinsightscom.sharepoint.com\", \"visits\": 0}, {\"eventtimeutc\": \"2025-02-15\", \"base_url\": \"reporting.xero.com\", \"visits\": 0}, {\"eventtimeutc\": \"2025-02-15\", \"base_url\": \"teams.microsoft.com\", \"visits\": 0}, {\"eventtimeutc\": \"2025-02-15\", \"base_url\": \"wellfound.com\", \"visits\": 0}, {\"eventtimeutc\": \"2025-02-15\", \"base_url\": \"wise.com\", \"visits\": 0}, {\"eventtimeutc\": \"2025-02-15\", \"base_url\": \"www.airasia.com\", \"visits\": 0}, {\"eventtimeutc\": \"2025-02-15\", \"base_url\": \"www.amazon.com\", \"visits\": 0}, {\"eventtimeutc\": \"2025-02-15\", \"base_url\": \"www.amazon.in\", \"visits\": 0}, {\"eventtimeutc\": \"2025-02-15\", \"base_url\": \"www.bizquest.com\", \"visits\": 0}, {\"eventtimeutc\": \"2025-02-15\", \"base_url\": \"www.facebook.com\", \"visits\": 0}, {\"eventtimeutc\": \"2025-02-15\", \"base_url\": \"www.flipkart.com\", \"visits\": 0}, {\"eventtimeutc\": \"2025-02-15\", \"base_url\": \"www.google.com\", \"visits\": 108}, {\"eventtimeutc\": \"2025-02-15\", \"base_url\": \"www.homedepot.com\", \"visits\": 0}, {\"eventtimeutc\": \"2025-02-15\", \"base_url\": \"www.instacart.com\", \"visits\": 0}, {\"eventtimeutc\": \"2025-02-15\", \"base_url\": \"www.instagram.com\", \"visits\": 0}, {\"eventtimeutc\": \"2025-02-15\", \"base_url\": \"www.linkedin.com\", \"visits\": 0}, {\"eventtimeutc\": \"2025-02-15\", \"base_url\": \"www.loopnet.com\", \"visits\": 0}, {\"eventtimeutc\": \"2025-02-15\", \"base_url\": \"www.mavenclinic.com\", \"visits\": 0}, {\"eventtimeutc\": \"2025-02-15\", \"base_url\": \"www.reddit.com\", \"visits\": 0}, {\"eventtimeutc\": \"2025-02-15\", \"base_url\": \"www.taskrabbit.com\", \"visits\": 0}, {\"eventtimeutc\": \"2025-02-15\", \"base_url\": \"www.timeanddate.com\", \"visits\": 0}, {\"eventtimeutc\": \"2025-02-15\", \"base_url\": \"www.tractorsupply.com\", \"visits\": 0}, {\"eventtimeutc\": \"2025-02-15\", \"base_url\": \"www.upwork.com\", \"visits\": 3}, {\"eventtimeutc\": \"2025-02-15\", \"base_url\": \"www.way.com\", \"visits\": 0}, {\"eventtimeutc\": \"2025-02-15\", \"base_url\": \"www.zillow.com\", \"visits\": 0}, {\"eventtimeutc\": \"2025-02-15\", \"base_url\": \"www.zipair.net\", \"visits\": 0}, {\"eventtimeutc\": \"2025-02-16\", \"base_url\": \"accounts.google.com\", \"visits\": 1}, {\"eventtimeutc\": \"2025-02-16\", \"base_url\": \"app.clickup.com\", \"visits\": 0}, {\"eventtimeutc\": \"2025-02-16\", \"base_url\": \"app.onemedical.com\", \"visits\": 0}, {\"eventtimeutc\": \"2025-02-16\", \"base_url\": \"app.pinecone.io\", \"visits\": 0}, {\"eventtimeutc\": \"2025-02-16\", \"base_url\": \"app.powerbi.com\", \"visits\": 0}, {\"eventtimeutc\": \"2025-02-16\", \"base_url\": \"behav-my.sharepoint.com\", \"visits\": 0}, {\"eventtimeutc\": \"2025-02-16\", \"base_url\": \"chrome.google.com\", \"visits\": 0}, {\"eventtimeutc\": \"2025-02-16\", \"base_url\": \"cornerstone.csod.com\", \"visits\": 8}, {\"eventtimeutc\": \"2025-02-16\", \"base_url\": \"docs.google.com\", \"visits\": 0}, {\"eventtimeutc\": \"2025-02-16\", \"base_url\": \"drive.google.com\", \"visits\": 0}, {\"eventtimeutc\": \"2025-02-16\", \"base_url\": \"en.m.wikipedia.org\", \"visits\": 0}, {\"eventtimeutc\": \"2025-02-16\", \"base_url\": \"eu-west-1.console.aws.amazon.com\", \"visits\": 0}, {\"eventtimeutc\": \"2025-02-16\", \"base_url\": \"gitlab.com\", \"visits\": 0}, {\"eventtimeutc\": \"2025-02-16\", \"base_url\": \"go.xero.com\", \"visits\": 0}, {\"eventtimeutc\": \"2025-02-16\", \"base_url\": \"htmltemplates.co\", \"visits\": 0}, {\"eventtimeutc\": \"2025-02-16\", \"base_url\": \"idam-ui.company-information.service.gov.uk\", \"visits\": 0}, {\"eventtimeutc\": \"2025-02-16\", \"base_url\": \"joinmosaic.myaccountinfo.com\", \"visits\": 0}, {\"eventtimeutc\": \"2025-02-16\", \"base_url\": \"login.microsoftonline.com\", \"visits\": 0}, {\"eventtimeutc\": \"2025-02-16\", \"base_url\": \"mail.google.com\", \"visits\": 0}, {\"eventtimeutc\": \"2025-02-16\", \"base_url\": \"onedrive.live.com\", \"visits\": 0}, {\"eventtimeutc\": \"2025-02-16\", \"base_url\": \"photos.google.com\", \"visits\": 0}, {\"eventtimeutc\": \"2025-02-16\", \"base_url\": \"play.google.com\", \"visits\": 0}, {\"eventtimeutc\": \"2025-02-16\", \"base_url\": \"py-insights.com\", \"visits\": 0}, {\"eventtimeutc\": \"2025-02-16\", \"base_url\": \"pyinsightscom-my.sharepoint.com\", \"visits\": 0}, {\"eventtimeutc\": \"2025-02-16\", \"base_url\": \"pyinsightscom.sharepoint.com\", \"visits\": 0}, {\"eventtimeutc\": \"2025-02-16\", \"base_url\": \"reporting.xero.com\", \"visits\": 0}, {\"eventtimeutc\": \"2025-02-16\", \"base_url\": \"teams.microsoft.com\", \"visits\": 0}, {\"eventtimeutc\": \"2025-02-16\", \"base_url\": \"wellfound.com\", \"visits\": 0}, {\"eventtimeutc\": \"2025-02-16\", \"base_url\": \"wise.com\", \"visits\": 0}, {\"eventtimeutc\": \"2025-02-16\", \"base_url\": \"www.airasia.com\", \"visits\": 0}, {\"eventtimeutc\": \"2025-02-16\", \"base_url\": \"www.amazon.com\", \"visits\": 0}, {\"eventtimeutc\": \"2025-02-16\", \"base_url\": \"www.amazon.in\", \"visits\": 0}, {\"eventtimeutc\": \"2025-02-16\", \"base_url\": \"www.bizquest.com\", \"visits\": 0}, {\"eventtimeutc\": \"2025-02-16\", \"base_url\": \"www.facebook.com\", \"visits\": 0}, {\"eventtimeutc\": \"2025-02-16\", \"base_url\": \"www.flipkart.com\", \"visits\": 0}, {\"eventtimeutc\": \"2025-02-16\", \"base_url\": \"www.google.com\", \"visits\": 64}, {\"eventtimeutc\": \"2025-02-16\", \"base_url\": \"www.homedepot.com\", \"visits\": 0}, {\"eventtimeutc\": \"2025-02-16\", \"base_url\": \"www.instacart.com\", \"visits\": 0}, {\"eventtimeutc\": \"2025-02-16\", \"base_url\": \"www.instagram.com\", \"visits\": 1}, {\"eventtimeutc\": \"2025-02-16\", \"base_url\": \"www.linkedin.com\", \"visits\": 0}, {\"eventtimeutc\": \"2025-02-16\", \"base_url\": \"www.loopnet.com\", \"visits\": 99}, {\"eventtimeutc\": \"2025-02-16\", \"base_url\": \"www.mavenclinic.com\", \"visits\": 0}, {\"eventtimeutc\": \"2025-02-16\", \"base_url\": \"www.reddit.com\", \"visits\": 2}, {\"eventtimeutc\": \"2025-02-16\", \"base_url\": \"www.taskrabbit.com\", \"visits\": 0}, {\"eventtimeutc\": \"2025-02-16\", \"base_url\": \"www.timeanddate.com\", \"visits\": 0}, {\"eventtimeutc\": \"2025-02-16\", \"base_url\": \"www.tractorsupply.com\", \"visits\": 0}, {\"eventtimeutc\": \"2025-02-16\", \"base_url\": \"www.upwork.com\", \"visits\": 3}, {\"eventtimeutc\": \"2025-02-16\", \"base_url\": \"www.way.com\", \"visits\": 0}, {\"eventtimeutc\": \"2025-02-16\", \"base_url\": \"www.zillow.com\", \"visits\": 0}, {\"eventtimeutc\": \"2025-02-16\", \"base_url\": \"www.zipair.net\", \"visits\": 0}, {\"eventtimeutc\": \"2025-02-17\", \"base_url\": \"accounts.google.com\", \"visits\": 2}, {\"eventtimeutc\": \"2025-02-17\", \"base_url\": \"app.clickup.com\", \"visits\": 4}, {\"eventtimeutc\": \"2025-02-17\", \"base_url\": \"app.onemedical.com\", \"visits\": 0}, {\"eventtimeutc\": \"2025-02-17\", \"base_url\": \"app.pinecone.io\", \"visits\": 0}, {\"eventtimeutc\": \"2025-02-17\", \"base_url\": \"app.powerbi.com\", \"visits\": 0}, {\"eventtimeutc\": \"2025-02-17\", \"base_url\": \"behav-my.sharepoint.com\", \"visits\": 0}, {\"eventtimeutc\": \"2025-02-17\", \"base_url\": \"chrome.google.com\", \"visits\": 0}, {\"eventtimeutc\": \"2025-02-17\", \"base_url\": \"cornerstone.csod.com\", \"visits\": 0}, {\"eventtimeutc\": \"2025-02-17\", \"base_url\": \"docs.google.com\", \"visits\": 7}, {\"eventtimeutc\": \"2025-02-17\", \"base_url\": \"drive.google.com\", \"visits\": 0}, {\"eventtimeutc\": \"2025-02-17\", \"base_url\": \"en.m.wikipedia.org\", \"visits\": 0}, {\"eventtimeutc\": \"2025-02-17\", \"base_url\": \"eu-west-1.console.aws.amazon.com\", \"visits\": 0}, {\"eventtimeutc\": \"2025-02-17\", \"base_url\": \"gitlab.com\", \"visits\": 24}, {\"eventtimeutc\": \"2025-02-17\", \"base_url\": \"go.xero.com\", \"visits\": 0}, {\"eventtimeutc\": \"2025-02-17\", \"base_url\": \"htmltemplates.co\", \"visits\": 0}, {\"eventtimeutc\": \"2025-02-17\", \"base_url\": \"idam-ui.company-information.service.gov.uk\", \"visits\": 0}, {\"eventtimeutc\": \"2025-02-17\", \"base_url\": \"joinmosaic.myaccountinfo.com\", \"visits\": 0}, {\"eventtimeutc\": \"2025-02-17\", \"base_url\": \"login.microsoftonline.com\", \"visits\": 0}, {\"eventtimeutc\": \"2025-02-17\", \"base_url\": \"mail.google.com\", \"visits\": 8}, {\"eventtimeutc\": \"2025-02-17\", \"base_url\": \"onedrive.live.com\", \"visits\": 0}, {\"eventtimeutc\": \"2025-02-17\", \"base_url\": \"photos.google.com\", \"visits\": 0}, {\"eventtimeutc\": \"2025-02-17\", \"base_url\": \"play.google.com\", \"visits\": 0}, {\"eventtimeutc\": \"2025-02-17\", \"base_url\": \"py-insights.com\", \"visits\": 0}, {\"eventtimeutc\": \"2025-02-17\", \"base_url\": \"pyinsightscom-my.sharepoint.com\", \"visits\": 0}, {\"eventtimeutc\": \"2025-02-17\", \"base_url\": \"pyinsightscom.sharepoint.com\", \"visits\": 1}, {\"eventtimeutc\": \"2025-02-17\", \"base_url\": \"reporting.xero.com\", \"visits\": 0}, {\"eventtimeutc\": \"2025-02-17\", \"base_url\": \"teams.microsoft.com\", \"visits\": 0}, {\"eventtimeutc\": \"2025-02-17\", \"base_url\": \"wellfound.com\", \"visits\": 77}, {\"eventtimeutc\": \"2025-02-17\", \"base_url\": \"wise.com\", \"visits\": 0}, {\"eventtimeutc\": \"2025-02-17\", \"base_url\": \"www.airasia.com\", \"visits\": 0}, {\"eventtimeutc\": \"2025-02-17\", \"base_url\": \"www.amazon.com\", \"visits\": 0}, {\"eventtimeutc\": \"2025-02-17\", \"base_url\": \"www.amazon.in\", \"visits\": 0}, {\"eventtimeutc\": \"2025-02-17\", \"base_url\": \"www.bizquest.com\", \"visits\": 0}, {\"eventtimeutc\": \"2025-02-17\", \"base_url\": \"www.facebook.com\", \"visits\": 0}, {\"eventtimeutc\": \"2025-02-17\", \"base_url\": \"www.flipkart.com\", \"visits\": 0}, {\"eventtimeutc\": \"2025-02-17\", \"base_url\": \"www.google.com\", \"visits\": 64}, {\"eventtimeutc\": \"2025-02-17\", \"base_url\": \"www.homedepot.com\", \"visits\": 3}, {\"eventtimeutc\": \"2025-02-17\", \"base_url\": \"www.instacart.com\", \"visits\": 1}, {\"eventtimeutc\": \"2025-02-17\", \"base_url\": \"www.instagram.com\", \"visits\": 0}, {\"eventtimeutc\": \"2025-02-17\", \"base_url\": \"www.linkedin.com\", \"visits\": 0}, {\"eventtimeutc\": \"2025-02-17\", \"base_url\": \"www.loopnet.com\", \"visits\": 0}, {\"eventtimeutc\": \"2025-02-17\", \"base_url\": \"www.mavenclinic.com\", \"visits\": 0}, {\"eventtimeutc\": \"2025-02-17\", \"base_url\": \"www.reddit.com\", \"visits\": 1}, {\"eventtimeutc\": \"2025-02-17\", \"base_url\": \"www.taskrabbit.com\", \"visits\": 0}, {\"eventtimeutc\": \"2025-02-17\", \"base_url\": \"www.timeanddate.com\", \"visits\": 0}, {\"eventtimeutc\": \"2025-02-17\", \"base_url\": \"www.tractorsupply.com\", \"visits\": 0}, {\"eventtimeutc\": \"2025-02-17\", \"base_url\": \"www.upwork.com\", \"visits\": 0}, {\"eventtimeutc\": \"2025-02-17\", \"base_url\": \"www.way.com\", \"visits\": 0}, {\"eventtimeutc\": \"2025-02-17\", \"base_url\": \"www.zillow.com\", \"visits\": 0}, {\"eventtimeutc\": \"2025-02-17\", \"base_url\": \"www.zipair.net\", \"visits\": 0}, {\"eventtimeutc\": \"2025-02-18\", \"base_url\": \"accounts.google.com\", \"visits\": 0}, {\"eventtimeutc\": \"2025-02-18\", \"base_url\": \"app.clickup.com\", \"visits\": 4}, {\"eventtimeutc\": \"2025-02-18\", \"base_url\": \"app.onemedical.com\", \"visits\": 0}, {\"eventtimeutc\": \"2025-02-18\", \"base_url\": \"app.pinecone.io\", \"visits\": 0}, {\"eventtimeutc\": \"2025-02-18\", \"base_url\": \"app.powerbi.com\", \"visits\": 0}, {\"eventtimeutc\": \"2025-02-18\", \"base_url\": \"behav-my.sharepoint.com\", \"visits\": 0}, {\"eventtimeutc\": \"2025-02-18\", \"base_url\": \"chrome.google.com\", \"visits\": 0}, {\"eventtimeutc\": \"2025-02-18\", \"base_url\": \"cornerstone.csod.com\", \"visits\": 0}, {\"eventtimeutc\": \"2025-02-18\", \"base_url\": \"docs.google.com\", \"visits\": 0}, {\"eventtimeutc\": \"2025-02-18\", \"base_url\": \"drive.google.com\", \"visits\": 0}, {\"eventtimeutc\": \"2025-02-18\", \"base_url\": \"en.m.wikipedia.org\", \"visits\": 0}, {\"eventtimeutc\": \"2025-02-18\", \"base_url\": \"eu-west-1.console.aws.amazon.com\", \"visits\": 34}, {\"eventtimeutc\": \"2025-02-18\", \"base_url\": \"gitlab.com\", \"visits\": 0}, {\"eventtimeutc\": \"2025-02-18\", \"base_url\": \"go.xero.com\", \"visits\": 0}, {\"eventtimeutc\": \"2025-02-18\", \"base_url\": \"htmltemplates.co\", \"visits\": 0}, {\"eventtimeutc\": \"2025-02-18\", \"base_url\": \"idam-ui.company-information.service.gov.uk\", \"visits\": 0}, {\"eventtimeutc\": \"2025-02-18\", \"base_url\": \"joinmosaic.myaccountinfo.com\", \"visits\": 0}, {\"eventtimeutc\": \"2025-02-18\", \"base_url\": \"login.microsoftonline.com\", \"visits\": 0}, {\"eventtimeutc\": \"2025-02-18\", \"base_url\": \"mail.google.com\", \"visits\": 1}, {\"eventtimeutc\": \"2025-02-18\", \"base_url\": \"onedrive.live.com\", \"visits\": 0}, {\"eventtimeutc\": \"2025-02-18\", \"base_url\": \"photos.google.com\", \"visits\": 0}, {\"eventtimeutc\": \"2025-02-18\", \"base_url\": \"play.google.com\", \"visits\": 0}, {\"eventtimeutc\": \"2025-02-18\", \"base_url\": \"py-insights.com\", \"visits\": 6}, {\"eventtimeutc\": \"2025-02-18\", \"base_url\": \"pyinsightscom-my.sharepoint.com\", \"visits\": 0}, {\"eventtimeutc\": \"2025-02-18\", \"base_url\": \"pyinsightscom.sharepoint.com\", \"visits\": 23}, {\"eventtimeutc\": \"2025-02-18\", \"base_url\": \"reporting.xero.com\", \"visits\": 0}, {\"eventtimeutc\": \"2025-02-18\", \"base_url\": \"teams.microsoft.com\", \"visits\": 2}, {\"eventtimeutc\": \"2025-02-18\", \"base_url\": \"wellfound.com\", \"visits\": 11}, {\"eventtimeutc\": \"2025-02-18\", \"base_url\": \"wise.com\", \"visits\": 2}, {\"eventtimeutc\": \"2025-02-18\", \"base_url\": \"www.airasia.com\", \"visits\": 0}, {\"eventtimeutc\": \"2025-02-18\", \"base_url\": \"www.amazon.com\", \"visits\": 2}, {\"eventtimeutc\": \"2025-02-18\", \"base_url\": \"www.amazon.in\", \"visits\": 0}, {\"eventtimeutc\": \"2025-02-18\", \"base_url\": \"www.bizquest.com\", \"visits\": 0}, {\"eventtimeutc\": \"2025-02-18\", \"base_url\": \"www.facebook.com\", \"visits\": 0}, {\"eventtimeutc\": \"2025-02-18\", \"base_url\": \"www.flipkart.com\", \"visits\": 0}, {\"eventtimeutc\": \"2025-02-18\", \"base_url\": \"www.google.com\", \"visits\": 9}, {\"eventtimeutc\": \"2025-02-18\", \"base_url\": \"www.homedepot.com\", \"visits\": 0}, {\"eventtimeutc\": \"2025-02-18\", \"base_url\": \"www.instacart.com\", \"visits\": 0}, {\"eventtimeutc\": \"2025-02-18\", \"base_url\": \"www.instagram.com\", \"visits\": 0}, {\"eventtimeutc\": \"2025-02-18\", \"base_url\": \"www.linkedin.com\", \"visits\": 0}, {\"eventtimeutc\": \"2025-02-18\", \"base_url\": \"www.loopnet.com\", \"visits\": 4}, {\"eventtimeutc\": \"2025-02-18\", \"base_url\": \"www.mavenclinic.com\", \"visits\": 0}, {\"eventtimeutc\": \"2025-02-18\", \"base_url\": \"www.reddit.com\", \"visits\": 0}, {\"eventtimeutc\": \"2025-02-18\", \"base_url\": \"www.taskrabbit.com\", \"visits\": 0}, {\"eventtimeutc\": \"2025-02-18\", \"base_url\": \"www.timeanddate.com\", \"visits\": 6}, {\"eventtimeutc\": \"2025-02-18\", \"base_url\": \"www.tractorsupply.com\", \"visits\": 0}, {\"eventtimeutc\": \"2025-02-18\", \"base_url\": \"www.upwork.com\", \"visits\": 3}, {\"eventtimeutc\": \"2025-02-18\", \"base_url\": \"www.way.com\", \"visits\": 0}, {\"eventtimeutc\": \"2025-02-18\", \"base_url\": \"www.zillow.com\", \"visits\": 0}, {\"eventtimeutc\": \"2025-02-18\", \"base_url\": \"www.zipair.net\", \"visits\": 0}, {\"eventtimeutc\": \"2025-02-19\", \"base_url\": \"accounts.google.com\", \"visits\": 19}, {\"eventtimeutc\": \"2025-02-19\", \"base_url\": \"app.clickup.com\", \"visits\": 0}, {\"eventtimeutc\": \"2025-02-19\", \"base_url\": \"app.onemedical.com\", \"visits\": 0}, {\"eventtimeutc\": \"2025-02-19\", \"base_url\": \"app.pinecone.io\", \"visits\": 0}, {\"eventtimeutc\": \"2025-02-19\", \"base_url\": \"app.powerbi.com\", \"visits\": 0}, {\"eventtimeutc\": \"2025-02-19\", \"base_url\": \"behav-my.sharepoint.com\", \"visits\": 4}, {\"eventtimeutc\": \"2025-02-19\", \"base_url\": \"chrome.google.com\", \"visits\": 0}, {\"eventtimeutc\": \"2025-02-19\", \"base_url\": \"cornerstone.csod.com\", \"visits\": 0}, {\"eventtimeutc\": \"2025-02-19\", \"base_url\": \"docs.google.com\", \"visits\": 13}, {\"eventtimeutc\": \"2025-02-19\", \"base_url\": \"drive.google.com\", \"visits\": 20}, {\"eventtimeutc\": \"2025-02-19\", \"base_url\": \"en.m.wikipedia.org\", \"visits\": 0}, {\"eventtimeutc\": \"2025-02-19\", \"base_url\": \"eu-west-1.console.aws.amazon.com\", \"visits\": 20}, {\"eventtimeutc\": \"2025-02-19\", \"base_url\": \"gitlab.com\", \"visits\": 0}, {\"eventtimeutc\": \"2025-02-19\", \"base_url\": \"go.xero.com\", \"visits\": 60}, {\"eventtimeutc\": \"2025-02-19\", \"base_url\": \"htmltemplates.co\", \"visits\": 0}, {\"eventtimeutc\": \"2025-02-19\", \"base_url\": \"idam-ui.company-information.service.gov.uk\", \"visits\": 0}, {\"eventtimeutc\": \"2025-02-19\", \"base_url\": \"joinmosaic.myaccountinfo.com\", \"visits\": 0}, {\"eventtimeutc\": \"2025-02-19\", \"base_url\": \"login.microsoftonline.com\", \"visits\": 2}, {\"eventtimeutc\": \"2025-02-19\", \"base_url\": \"mail.google.com\", \"visits\": 32}, {\"eventtimeutc\": \"2025-02-19\", \"base_url\": \"onedrive.live.com\", \"visits\": 0}, {\"eventtimeutc\": \"2025-02-19\", \"base_url\": \"photos.google.com\", \"visits\": 0}, {\"eventtimeutc\": \"2025-02-19\", \"base_url\": \"play.google.com\", \"visits\": 0}, {\"eventtimeutc\": \"2025-02-19\", \"base_url\": \"py-insights.com\", \"visits\": 0}, {\"eventtimeutc\": \"2025-02-19\", \"base_url\": \"pyinsightscom-my.sharepoint.com\", \"visits\": 3}, {\"eventtimeutc\": \"2025-02-19\", \"base_url\": \"pyinsightscom.sharepoint.com\", \"visits\": 6}, {\"eventtimeutc\": \"2025-02-19\", \"base_url\": \"reporting.xero.com\", \"visits\": 19}, {\"eventtimeutc\": \"2025-02-19\", \"base_url\": \"teams.microsoft.com\", \"visits\": 4}, {\"eventtimeutc\": \"2025-02-19\", \"base_url\": \"wellfound.com\", \"visits\": 19}, {\"eventtimeutc\": \"2025-02-19\", \"base_url\": \"wise.com\", \"visits\": 1}, {\"eventtimeutc\": \"2025-02-19\", \"base_url\": \"www.airasia.com\", \"visits\": 0}, {\"eventtimeutc\": \"2025-02-19\", \"base_url\": \"www.amazon.com\", \"visits\": 0}, {\"eventtimeutc\": \"2025-02-19\", \"base_url\": \"www.amazon.in\", \"visits\": 0}, {\"eventtimeutc\": \"2025-02-19\", \"base_url\": \"www.bizquest.com\", \"visits\": 0}, {\"eventtimeutc\": \"2025-02-19\", \"base_url\": \"www.facebook.com\", \"visits\": 37}, {\"eventtimeutc\": \"2025-02-19\", \"base_url\": \"www.flipkart.com\", \"visits\": 0}, {\"eventtimeutc\": \"2025-02-19\", \"base_url\": \"www.google.com\", \"visits\": 163}, {\"eventtimeutc\": \"2025-02-19\", \"base_url\": \"www.homedepot.com\", \"visits\": 0}, {\"eventtimeutc\": \"2025-02-19\", \"base_url\": \"www.instacart.com\", \"visits\": 0}, {\"eventtimeutc\": \"2025-02-19\", \"base_url\": \"www.instagram.com\", \"visits\": 13}, {\"eventtimeutc\": \"2025-02-19\", \"base_url\": \"www.linkedin.com\", \"visits\": 0}, {\"eventtimeutc\": \"2025-02-19\", \"base_url\": \"www.loopnet.com\", \"visits\": 1}, {\"eventtimeutc\": \"2025-02-19\", \"base_url\": \"www.mavenclinic.com\", \"visits\": 0}, {\"eventtimeutc\": \"2025-02-19\", \"base_url\": \"www.reddit.com\", \"visits\": 3}, {\"eventtimeutc\": \"2025-02-19\", \"base_url\": \"www.taskrabbit.com\", \"visits\": 0}, {\"eventtimeutc\": \"2025-02-19\", \"base_url\": \"www.timeanddate.com\", \"visits\": 1}, {\"eventtimeutc\": \"2025-02-19\", \"base_url\": \"www.tractorsupply.com\", \"visits\": 0}, {\"eventtimeutc\": \"2025-02-19\", \"base_url\": \"www.upwork.com\", \"visits\": 10}, {\"eventtimeutc\": \"2025-02-19\", \"base_url\": \"www.way.com\", \"visits\": 0}, {\"eventtimeutc\": \"2025-02-19\", \"base_url\": \"www.zillow.com\", \"visits\": 3}, {\"eventtimeutc\": \"2025-02-19\", \"base_url\": \"www.zipair.net\", \"visits\": 0}, {\"eventtimeutc\": \"2025-02-20\", \"base_url\": \"accounts.google.com\", \"visits\": 21}, {\"eventtimeutc\": \"2025-02-20\", \"base_url\": \"app.clickup.com\", \"visits\": 0}, {\"eventtimeutc\": \"2025-02-20\", \"base_url\": \"app.onemedical.com\", \"visits\": 0}, {\"eventtimeutc\": \"2025-02-20\", \"base_url\": \"app.pinecone.io\", \"visits\": 9}, {\"eventtimeutc\": \"2025-02-20\", \"base_url\": \"app.powerbi.com\", \"visits\": 0}, {\"eventtimeutc\": \"2025-02-20\", \"base_url\": \"behav-my.sharepoint.com\", \"visits\": 0}, {\"eventtimeutc\": \"2025-02-20\", \"base_url\": \"chrome.google.com\", \"visits\": 0}, {\"eventtimeutc\": \"2025-02-20\", \"base_url\": \"cornerstone.csod.com\", \"visits\": 0}, {\"eventtimeutc\": \"2025-02-20\", \"base_url\": \"docs.google.com\", \"visits\": 0}, {\"eventtimeutc\": \"2025-02-20\", \"base_url\": \"drive.google.com\", \"visits\": 0}, {\"eventtimeutc\": \"2025-02-20\", \"base_url\": \"en.m.wikipedia.org\", \"visits\": 2}, {\"eventtimeutc\": \"2025-02-20\", \"base_url\": \"eu-west-1.console.aws.amazon.com\", \"visits\": 18}, {\"eventtimeutc\": \"2025-02-20\", \"base_url\": \"gitlab.com\", \"visits\": 0}, {\"eventtimeutc\": \"2025-02-20\", \"base_url\": \"go.xero.com\", \"visits\": 0}, {\"eventtimeutc\": \"2025-02-20\", \"base_url\": \"htmltemplates.co\", \"visits\": 0}, {\"eventtimeutc\": \"2025-02-20\", \"base_url\": \"idam-ui.company-information.service.gov.uk\", \"visits\": 0}, {\"eventtimeutc\": \"2025-02-20\", \"base_url\": \"joinmosaic.myaccountinfo.com\", \"visits\": 0}, {\"eventtimeutc\": \"2025-02-20\", \"base_url\": \"login.microsoftonline.com\", \"visits\": 1}, {\"eventtimeutc\": \"2025-02-20\", \"base_url\": \"mail.google.com\", \"visits\": 3}, {\"eventtimeutc\": \"2025-02-20\", \"base_url\": \"onedrive.live.com\", \"visits\": 0}, {\"eventtimeutc\": \"2025-02-20\", \"base_url\": \"photos.google.com\", \"visits\": 2}, {\"eventtimeutc\": \"2025-02-20\", \"base_url\": \"play.google.com\", \"visits\": 26}, {\"eventtimeutc\": \"2025-02-20\", \"base_url\": \"py-insights.com\", \"visits\": 6}, {\"eventtimeutc\": \"2025-02-20\", \"base_url\": \"pyinsightscom-my.sharepoint.com\", \"visits\": 0}, {\"eventtimeutc\": \"2025-02-20\", \"base_url\": \"pyinsightscom.sharepoint.com\", \"visits\": 2}, {\"eventtimeutc\": \"2025-02-20\", \"base_url\": \"reporting.xero.com\", \"visits\": 0}, {\"eventtimeutc\": \"2025-02-20\", \"base_url\": \"teams.microsoft.com\", \"visits\": 0}, {\"eventtimeutc\": \"2025-02-20\", \"base_url\": \"wellfound.com\", \"visits\": 0}, {\"eventtimeutc\": \"2025-02-20\", \"base_url\": \"wise.com\", \"visits\": 0}, {\"eventtimeutc\": \"2025-02-20\", \"base_url\": \"www.airasia.com\", \"visits\": 0}, {\"eventtimeutc\": \"2025-02-20\", \"base_url\": \"www.amazon.com\", \"visits\": 3}, {\"eventtimeutc\": \"2025-02-20\", \"base_url\": \"www.amazon.in\", \"visits\": 0}, {\"eventtimeutc\": \"2025-02-20\", \"base_url\": \"www.bizquest.com\", \"visits\": 0}, {\"eventtimeutc\": \"2025-02-20\", \"base_url\": \"www.facebook.com\", \"visits\": 0}, {\"eventtimeutc\": \"2025-02-20\", \"base_url\": \"www.flipkart.com\", \"visits\": 0}, {\"eventtimeutc\": \"2025-02-20\", \"base_url\": \"www.google.com\", \"visits\": 64}, {\"eventtimeutc\": \"2025-02-20\", \"base_url\": \"www.homedepot.com\", \"visits\": 0}, {\"eventtimeutc\": \"2025-02-20\", \"base_url\": \"www.instacart.com\", \"visits\": 19}, {\"eventtimeutc\": \"2025-02-20\", \"base_url\": \"www.instagram.com\", \"visits\": 0}, {\"eventtimeutc\": \"2025-02-20\", \"base_url\": \"www.linkedin.com\", \"visits\": 0}, {\"eventtimeutc\": \"2025-02-20\", \"base_url\": \"www.loopnet.com\", \"visits\": 8}, {\"eventtimeutc\": \"2025-02-20\", \"base_url\": \"www.mavenclinic.com\", \"visits\": 0}, {\"eventtimeutc\": \"2025-02-20\", \"base_url\": \"www.reddit.com\", \"visits\": 1}, {\"eventtimeutc\": \"2025-02-20\", \"base_url\": \"www.taskrabbit.com\", \"visits\": 0}, {\"eventtimeutc\": \"2025-02-20\", \"base_url\": \"www.timeanddate.com\", \"visits\": 5}, {\"eventtimeutc\": \"2025-02-20\", \"base_url\": \"www.tractorsupply.com\", \"visits\": 0}, {\"eventtimeutc\": \"2025-02-20\", \"base_url\": \"www.upwork.com\", \"visits\": 0}, {\"eventtimeutc\": \"2025-02-20\", \"base_url\": \"www.way.com\", \"visits\": 0}, {\"eventtimeutc\": \"2025-02-20\", \"base_url\": \"www.zillow.com\", \"visits\": 0}, {\"eventtimeutc\": \"2025-02-20\", \"base_url\": \"www.zipair.net\", \"visits\": 0}, {\"eventtimeutc\": \"2025-02-21\", \"base_url\": \"accounts.google.com\", \"visits\": 0}, {\"eventtimeutc\": \"2025-02-21\", \"base_url\": \"app.clickup.com\", \"visits\": 0}, {\"eventtimeutc\": \"2025-02-21\", \"base_url\": \"app.onemedical.com\", \"visits\": 0}, {\"eventtimeutc\": \"2025-02-21\", \"base_url\": \"app.pinecone.io\", \"visits\": 0}, {\"eventtimeutc\": \"2025-02-21\", \"base_url\": \"app.powerbi.com\", \"visits\": 0}, {\"eventtimeutc\": \"2025-02-21\", \"base_url\": \"behav-my.sharepoint.com\", \"visits\": 0}, {\"eventtimeutc\": \"2025-02-21\", \"base_url\": \"chrome.google.com\", \"visits\": 0}, {\"eventtimeutc\": \"2025-02-21\", \"base_url\": \"cornerstone.csod.com\", \"visits\": 0}, {\"eventtimeutc\": \"2025-02-21\", \"base_url\": \"docs.google.com\", \"visits\": 5}, {\"eventtimeutc\": \"2025-02-21\", \"base_url\": \"drive.google.com\", \"visits\": 0}, {\"eventtimeutc\": \"2025-02-21\", \"base_url\": \"en.m.wikipedia.org\", \"visits\": 0}, {\"eventtimeutc\": \"2025-02-21\", \"base_url\": \"eu-west-1.console.aws.amazon.com\", \"visits\": 0}, {\"eventtimeutc\": \"2025-02-21\", \"base_url\": \"gitlab.com\", \"visits\": 0}, {\"eventtimeutc\": \"2025-02-21\", \"base_url\": \"go.xero.com\", \"visits\": 0}, {\"eventtimeutc\": \"2025-02-21\", \"base_url\": \"htmltemplates.co\", \"visits\": 17}, {\"eventtimeutc\": \"2025-02-21\", \"base_url\": \"idam-ui.company-information.service.gov.uk\", \"visits\": 0}, {\"eventtimeutc\": \"2025-02-21\", \"base_url\": \"joinmosaic.myaccountinfo.com\", \"visits\": 15}, {\"eventtimeutc\": \"2025-02-21\", \"base_url\": \"login.microsoftonline.com\", \"visits\": 0}, {\"eventtimeutc\": \"2025-02-21\", \"base_url\": \"mail.google.com\", \"visits\": 0}, {\"eventtimeutc\": \"2025-02-21\", \"base_url\": \"onedrive.live.com\", \"visits\": 0}, {\"eventtimeutc\": \"2025-02-21\", \"base_url\": \"photos.google.com\", \"visits\": 0}, {\"eventtimeutc\": \"2025-02-21\", \"base_url\": \"play.google.com\", \"visits\": 2}, {\"eventtimeutc\": \"2025-02-21\", \"base_url\": \"py-insights.com\", \"visits\": 5}, {\"eventtimeutc\": \"2025-02-21\", \"base_url\": \"pyinsightscom-my.sharepoint.com\", \"visits\": 0}, {\"eventtimeutc\": \"2025-02-21\", \"base_url\": \"pyinsightscom.sharepoint.com\", \"visits\": 0}, {\"eventtimeutc\": \"2025-02-21\", \"base_url\": \"reporting.xero.com\", \"visits\": 0}, {\"eventtimeutc\": \"2025-02-21\", \"base_url\": \"teams.microsoft.com\", \"visits\": 3}, {\"eventtimeutc\": \"2025-02-21\", \"base_url\": \"wellfound.com\", \"visits\": 0}, {\"eventtimeutc\": \"2025-02-21\", \"base_url\": \"wise.com\", \"visits\": 0}, {\"eventtimeutc\": \"2025-02-21\", \"base_url\": \"www.airasia.com\", \"visits\": 0}, {\"eventtimeutc\": \"2025-02-21\", \"base_url\": \"www.amazon.com\", \"visits\": 0}, {\"eventtimeutc\": \"2025-02-21\", \"base_url\": \"www.amazon.in\", \"visits\": 0}, {\"eventtimeutc\": \"2025-02-21\", \"base_url\": \"www.bizquest.com\", \"visits\": 0}, {\"eventtimeutc\": \"2025-02-21\", \"base_url\": \"www.facebook.com\", \"visits\": 0}, {\"eventtimeutc\": \"2025-02-21\", \"base_url\": \"www.flipkart.com\", \"visits\": 0}, {\"eventtimeutc\": \"2025-02-21\", \"base_url\": \"www.google.com\", \"visits\": 1}, {\"eventtimeutc\": \"2025-02-21\", \"base_url\": \"www.homedepot.com\", \"visits\": 0}, {\"eventtimeutc\": \"2025-02-21\", \"base_url\": \"www.instacart.com\", \"visits\": 0}, {\"eventtimeutc\": \"2025-02-21\", \"base_url\": \"www.instagram.com\", \"visits\": 0}, {\"eventtimeutc\": \"2025-02-21\", \"base_url\": \"www.linkedin.com\", \"visits\": 0}, {\"eventtimeutc\": \"2025-02-21\", \"base_url\": \"www.loopnet.com\", \"visits\": 1}, {\"eventtimeutc\": \"2025-02-21\", \"base_url\": \"www.mavenclinic.com\", \"visits\": 0}, {\"eventtimeutc\": \"2025-02-21\", \"base_url\": \"www.reddit.com\", \"visits\": 0}, {\"eventtimeutc\": \"2025-02-21\", \"base_url\": \"www.taskrabbit.com\", \"visits\": 0}, {\"eventtimeutc\": \"2025-02-21\", \"base_url\": \"www.timeanddate.com\", \"visits\": 0}, {\"eventtimeutc\": \"2025-02-21\", \"base_url\": \"www.tractorsupply.com\", \"visits\": 0}, {\"eventtimeutc\": \"2025-02-21\", \"base_url\": \"www.upwork.com\", \"visits\": 0}, {\"eventtimeutc\": \"2025-02-21\", \"base_url\": \"www.way.com\", \"visits\": 0}, {\"eventtimeutc\": \"2025-02-21\", \"base_url\": \"www.zillow.com\", \"visits\": 0}, {\"eventtimeutc\": \"2025-02-21\", \"base_url\": \"www.zipair.net\", \"visits\": 0}]}}, {\"mode\": \"vega-lite\"});\n",
       "</script>"
      ],
      "text/plain": [
       "alt.Chart(...)"
      ]
     },
     "metadata": {},
     "output_type": "display_data"
    },
    {
     "name": "stderr",
     "output_type": "stream",
     "text": [
      "c:\\ProgramData\\anaconda3\\Lib\\site-packages\\altair\\utils\\core.py:395: FutureWarning:\n",
      "\n",
      "the convert_dtype parameter is deprecated and will be removed in a future version.  Do ``ser.astype(object).apply()`` instead if you want ``convert_dtype=False``.\n",
      "\n",
      "c:\\ProgramData\\anaconda3\\Lib\\site-packages\\altair\\utils\\core.py:395: FutureWarning:\n",
      "\n",
      "the convert_dtype parameter is deprecated and will be removed in a future version.  Do ``ser.astype(object).apply()`` instead if you want ``convert_dtype=False``.\n",
      "\n"
     ]
    }
   ],
   "source": [
    "def plot_daily_visits_interactive(df, top_n=50):\n",
    "    # Convert datetime columns\n",
    "    df['eventtimeutc'] = pd.to_datetime(df['eventtimeutc'], errors='coerce')\n",
    "    df['eventtime'] = pd.to_datetime(df['eventtime'], errors='coerce')\n",
    "\n",
    "    # Drop rows with invalid datetime values\n",
    "    df = df.dropna(subset=['eventtimeutc', 'eventtime'])\n",
    "\n",
    "    # Ensure the 'base_url' column exists\n",
    "    if 'base_url' not in df.columns:\n",
    "        raise KeyError(\"The 'base_url' column is missing in the DataFrame.\")\n",
    "\n",
    "    # Get the top N base URLs\n",
    "    top_base_urls = df['base_url'].value_counts().head(top_n).index.tolist()\n",
    "\n",
    "    # Aggregate visits by date and base URL, and filter for top URLs\n",
    "    daily_visits = df.groupby(df['eventtimeutc'].dt.date)['base_url'].value_counts().unstack(fill_value=0).stack().reset_index(name='visits')\n",
    "    daily_visits = daily_visits.rename(columns={'level_1': 'base_url'})\n",
    "    daily_visits = daily_visits[daily_visits['base_url'].isin(top_base_urls)]\n",
    "\n",
    "    # Convert eventtimeutc to string for plotting\n",
    "    daily_visits['eventtimeutc'] = daily_visits['eventtimeutc'].astype(str)\n",
    "\n",
    "    # Create the interactive chart\n",
    "    chart = alt.Chart(daily_visits).mark_line().encode(\n",
    "        x=alt.X('eventtimeutc', title='Date'),\n",
    "        y=alt.Y('visits', title='Number of Visits'),\n",
    "        color=alt.Color('base_url', title='Site'),\n",
    "        tooltip=['eventtimeutc', 'base_url', 'visits']\n",
    "    ).properties(\n",
    "        title=f'Daily Visits for Top {top_n} Sites'\n",
    "    ).interactive()\n",
    "\n",
    "    return chart\n",
    "\n",
    "# Call the function and save the chart\n",
    "chart = plot_daily_visits_interactive(df)\n",
    "display(chart)\n",
    "#export chart as html\n",
    "chart.save('daily_visits_interactive.html')"
   ]
  },
  {
   "cell_type": "code",
   "execution_count": 8,
   "id": "984834dd",
   "metadata": {},
   "outputs": [
    {
     "name": "stderr",
     "output_type": "stream",
     "text": [
      "c:\\ProgramData\\anaconda3\\Lib\\site-packages\\altair\\utils\\core.py:395: FutureWarning: the convert_dtype parameter is deprecated and will be removed in a future version.  Do ``ser.astype(object).apply()`` instead if you want ``convert_dtype=False``.\n",
      "  col = df[col_name].apply(to_list_if_array, convert_dtype=False)\n",
      "c:\\ProgramData\\anaconda3\\Lib\\site-packages\\altair\\utils\\core.py:395: FutureWarning: the convert_dtype parameter is deprecated and will be removed in a future version.  Do ``ser.astype(object).apply()`` instead if you want ``convert_dtype=False``.\n",
      "  col = df[col_name].apply(to_list_if_array, convert_dtype=False)\n"
     ]
    },
    {
     "data": {
      "text/html": [
       "\n",
       "<style>\n",
       "  #altair-viz-95d1028917124ad788f23b2a67e05c18.vega-embed {\n",
       "    width: 100%;\n",
       "    display: flex;\n",
       "  }\n",
       "\n",
       "  #altair-viz-95d1028917124ad788f23b2a67e05c18.vega-embed details,\n",
       "  #altair-viz-95d1028917124ad788f23b2a67e05c18.vega-embed details summary {\n",
       "    position: relative;\n",
       "  }\n",
       "</style>\n",
       "<div id=\"altair-viz-95d1028917124ad788f23b2a67e05c18\"></div>\n",
       "<script type=\"text/javascript\">\n",
       "  var VEGA_DEBUG = (typeof VEGA_DEBUG == \"undefined\") ? {} : VEGA_DEBUG;\n",
       "  (function(spec, embedOpt){\n",
       "    let outputDiv = document.currentScript.previousElementSibling;\n",
       "    if (outputDiv.id !== \"altair-viz-95d1028917124ad788f23b2a67e05c18\") {\n",
       "      outputDiv = document.getElementById(\"altair-viz-95d1028917124ad788f23b2a67e05c18\");\n",
       "    }\n",
       "    const paths = {\n",
       "      \"vega\": \"https://cdn.jsdelivr.net/npm/vega@5?noext\",\n",
       "      \"vega-lib\": \"https://cdn.jsdelivr.net/npm/vega-lib?noext\",\n",
       "      \"vega-lite\": \"https://cdn.jsdelivr.net/npm/vega-lite@5.8.0?noext\",\n",
       "      \"vega-embed\": \"https://cdn.jsdelivr.net/npm/vega-embed@6?noext\",\n",
       "    };\n",
       "\n",
       "    function maybeLoadScript(lib, version) {\n",
       "      var key = `${lib.replace(\"-\", \"\")}_version`;\n",
       "      return (VEGA_DEBUG[key] == version) ?\n",
       "        Promise.resolve(paths[lib]) :\n",
       "        new Promise(function(resolve, reject) {\n",
       "          var s = document.createElement('script');\n",
       "          document.getElementsByTagName(\"head\")[0].appendChild(s);\n",
       "          s.async = true;\n",
       "          s.onload = () => {\n",
       "            VEGA_DEBUG[key] = version;\n",
       "            return resolve(paths[lib]);\n",
       "          };\n",
       "          s.onerror = () => reject(`Error loading script: ${paths[lib]}`);\n",
       "          s.src = paths[lib];\n",
       "        });\n",
       "    }\n",
       "\n",
       "    function showError(err) {\n",
       "      outputDiv.innerHTML = `<div class=\"error\" style=\"color:red;\">${err}</div>`;\n",
       "      throw err;\n",
       "    }\n",
       "\n",
       "    function displayChart(vegaEmbed) {\n",
       "      vegaEmbed(outputDiv, spec, embedOpt)\n",
       "        .catch(err => showError(`Javascript Error: ${err.message}<br>This usually means there's a typo in your chart specification. See the javascript console for the full traceback.`));\n",
       "    }\n",
       "\n",
       "    if(typeof define === \"function\" && define.amd) {\n",
       "      requirejs.config({paths});\n",
       "      require([\"vega-embed\"], displayChart, err => showError(`Error loading script: ${err.message}`));\n",
       "    } else {\n",
       "      maybeLoadScript(\"vega\", \"5\")\n",
       "        .then(() => maybeLoadScript(\"vega-lite\", \"5.8.0\"))\n",
       "        .then(() => maybeLoadScript(\"vega-embed\", \"6\"))\n",
       "        .catch(showError)\n",
       "        .then(() => displayChart(vegaEmbed));\n",
       "    }\n",
       "  })({\"config\": {\"view\": {\"continuousWidth\": 300, \"continuousHeight\": 300}}, \"data\": {\"name\": \"data-451dcb287923318d4a8b33570b2bd3d9\"}, \"mark\": {\"type\": \"bar\"}, \"encoding\": {\"color\": {\"field\": \"base_url\", \"title\": \"Site\", \"type\": \"nominal\"}, \"tooltip\": [{\"field\": \"eventtimeutc\", \"type\": \"nominal\"}, {\"field\": \"base_url\", \"type\": \"nominal\"}, {\"field\": \"visits\", \"type\": \"quantitative\"}], \"x\": {\"field\": \"eventtimeutc\", \"title\": \"Date\", \"type\": \"nominal\"}, \"y\": {\"field\": \"visits\", \"title\": \"Number of Visits\", \"type\": \"quantitative\"}}, \"height\": 400, \"params\": [{\"name\": \"param_2\", \"select\": {\"type\": \"interval\", \"encodings\": [\"x\", \"y\"]}, \"bind\": \"scales\"}], \"title\": \"Stacked Daily Visits for Top 15 Sites\", \"width\": 800, \"$schema\": \"https://vega.github.io/schema/vega-lite/v5.8.0.json\", \"datasets\": {\"data-451dcb287923318d4a8b33570b2bd3d9\": [{\"eventtimeutc\": \"2025-01-21\", \"base_url\": \"eu-west-1.console.aws.amazon.com\", \"visits\": 3}, {\"eventtimeutc\": \"2025-01-21\", \"base_url\": \"www.google.com\", \"visits\": 1}, {\"eventtimeutc\": \"2025-01-22\", \"base_url\": \"eu-west-1.console.aws.amazon.com\", \"visits\": 4}, {\"eventtimeutc\": \"2025-01-22\", \"base_url\": \"gitlab.com\", \"visits\": 38}, {\"eventtimeutc\": \"2025-01-22\", \"base_url\": \"mail.google.com\", \"visits\": 29}, {\"eventtimeutc\": \"2025-01-22\", \"base_url\": \"www.facebook.com\", \"visits\": 10}, {\"eventtimeutc\": \"2025-01-22\", \"base_url\": \"www.google.com\", \"visits\": 1}, {\"eventtimeutc\": \"2025-01-23\", \"base_url\": \"accounts.google.com\", \"visits\": 2}, {\"eventtimeutc\": \"2025-01-23\", \"base_url\": \"mail.google.com\", \"visits\": 7}, {\"eventtimeutc\": \"2025-01-23\", \"base_url\": \"pyinsightscom-my.sharepoint.com\", \"visits\": 18}, {\"eventtimeutc\": \"2025-01-23\", \"base_url\": \"pyinsightscom.sharepoint.com\", \"visits\": 11}, {\"eventtimeutc\": \"2025-01-23\", \"base_url\": \"www.facebook.com\", \"visits\": 15}, {\"eventtimeutc\": \"2025-01-23\", \"base_url\": \"www.upwork.com\", \"visits\": 20}, {\"eventtimeutc\": \"2025-01-24\", \"base_url\": \"eu-west-1.console.aws.amazon.com\", \"visits\": 4}, {\"eventtimeutc\": \"2025-01-24\", \"base_url\": \"pyinsightscom-my.sharepoint.com\", \"visits\": 7}, {\"eventtimeutc\": \"2025-01-24\", \"base_url\": \"pyinsightscom.sharepoint.com\", \"visits\": 18}, {\"eventtimeutc\": \"2025-01-24\", \"base_url\": \"www.amazon.in\", \"visits\": 15}, {\"eventtimeutc\": \"2025-01-24\", \"base_url\": \"www.facebook.com\", \"visits\": 2}, {\"eventtimeutc\": \"2025-01-24\", \"base_url\": \"www.google.com\", \"visits\": 18}, {\"eventtimeutc\": \"2025-01-24\", \"base_url\": \"www.upwork.com\", \"visits\": 19}, {\"eventtimeutc\": \"2025-01-25\", \"base_url\": \"mail.google.com\", \"visits\": 3}, {\"eventtimeutc\": \"2025-01-25\", \"base_url\": \"www.facebook.com\", \"visits\": 2}, {\"eventtimeutc\": \"2025-01-25\", \"base_url\": \"www.google.com\", \"visits\": 56}, {\"eventtimeutc\": \"2025-01-25\", \"base_url\": \"www.upwork.com\", \"visits\": 3}, {\"eventtimeutc\": \"2025-01-26\", \"base_url\": \"www.google.com\", \"visits\": 20}, {\"eventtimeutc\": \"2025-01-26\", \"base_url\": \"www.upwork.com\", \"visits\": 3}, {\"eventtimeutc\": \"2025-01-27\", \"base_url\": \"accounts.google.com\", \"visits\": 3}, {\"eventtimeutc\": \"2025-01-27\", \"base_url\": \"mail.google.com\", \"visits\": 10}, {\"eventtimeutc\": \"2025-01-27\", \"base_url\": \"pyinsightscom-my.sharepoint.com\", \"visits\": 9}, {\"eventtimeutc\": \"2025-01-27\", \"base_url\": \"www.google.com\", \"visits\": 37}, {\"eventtimeutc\": \"2025-01-27\", \"base_url\": \"www.upwork.com\", \"visits\": 79}, {\"eventtimeutc\": \"2025-01-28\", \"base_url\": \"pyinsightscom.sharepoint.com\", \"visits\": 2}, {\"eventtimeutc\": \"2025-01-28\", \"base_url\": \"www.google.com\", \"visits\": 54}, {\"eventtimeutc\": \"2025-01-29\", \"base_url\": \"mail.google.com\", \"visits\": 32}, {\"eventtimeutc\": \"2025-01-29\", \"base_url\": \"pyinsightscom-my.sharepoint.com\", \"visits\": 1}, {\"eventtimeutc\": \"2025-01-29\", \"base_url\": \"pyinsightscom.sharepoint.com\", \"visits\": 45}, {\"eventtimeutc\": \"2025-01-29\", \"base_url\": \"www.amazon.in\", \"visits\": 33}, {\"eventtimeutc\": \"2025-01-29\", \"base_url\": \"www.facebook.com\", \"visits\": 10}, {\"eventtimeutc\": \"2025-01-29\", \"base_url\": \"www.google.com\", \"visits\": 283}, {\"eventtimeutc\": \"2025-01-29\", \"base_url\": \"www.upwork.com\", \"visits\": 82}, {\"eventtimeutc\": \"2025-01-29\", \"base_url\": \"www.zipair.net\", \"visits\": 106}, {\"eventtimeutc\": \"2025-01-30\", \"base_url\": \"pyinsightscom-my.sharepoint.com\", \"visits\": 1}, {\"eventtimeutc\": \"2025-01-30\", \"base_url\": \"www.google.com\", \"visits\": 68}, {\"eventtimeutc\": \"2025-01-30\", \"base_url\": \"www.upwork.com\", \"visits\": 81}, {\"eventtimeutc\": \"2025-01-31\", \"base_url\": \"eu-west-1.console.aws.amazon.com\", \"visits\": 34}, {\"eventtimeutc\": \"2025-01-31\", \"base_url\": \"mail.google.com\", \"visits\": 4}, {\"eventtimeutc\": \"2025-01-31\", \"base_url\": \"pyinsightscom.sharepoint.com\", \"visits\": 4}, {\"eventtimeutc\": \"2025-01-31\", \"base_url\": \"www.facebook.com\", \"visits\": 5}, {\"eventtimeutc\": \"2025-01-31\", \"base_url\": \"www.google.com\", \"visits\": 4}, {\"eventtimeutc\": \"2025-01-31\", \"base_url\": \"www.upwork.com\", \"visits\": 9}, {\"eventtimeutc\": \"2025-02-01\", \"base_url\": \"www.google.com\", \"visits\": 45}, {\"eventtimeutc\": \"2025-02-01\", \"base_url\": \"www.upwork.com\", \"visits\": 3}, {\"eventtimeutc\": \"2025-02-02\", \"base_url\": \"www.google.com\", \"visits\": 19}, {\"eventtimeutc\": \"2025-02-02\", \"base_url\": \"www.loopnet.com\", \"visits\": 20}, {\"eventtimeutc\": \"2025-02-02\", \"base_url\": \"www.taskrabbit.com\", \"visits\": 59}, {\"eventtimeutc\": \"2025-02-02\", \"base_url\": \"www.upwork.com\", \"visits\": 3}, {\"eventtimeutc\": \"2025-02-03\", \"base_url\": \"eu-west-1.console.aws.amazon.com\", \"visits\": 1}, {\"eventtimeutc\": \"2025-02-03\", \"base_url\": \"mail.google.com\", \"visits\": 1}, {\"eventtimeutc\": \"2025-02-03\", \"base_url\": \"pyinsightscom-my.sharepoint.com\", \"visits\": 1}, {\"eventtimeutc\": \"2025-02-03\", \"base_url\": \"pyinsightscom.sharepoint.com\", \"visits\": 12}, {\"eventtimeutc\": \"2025-02-03\", \"base_url\": \"www.amazon.in\", \"visits\": 74}, {\"eventtimeutc\": \"2025-02-03\", \"base_url\": \"www.google.com\", \"visits\": 47}, {\"eventtimeutc\": \"2025-02-03\", \"base_url\": \"www.upwork.com\", \"visits\": 36}, {\"eventtimeutc\": \"2025-02-04\", \"base_url\": \"mail.google.com\", \"visits\": 6}, {\"eventtimeutc\": \"2025-02-04\", \"base_url\": \"pyinsightscom.sharepoint.com\", \"visits\": 9}, {\"eventtimeutc\": \"2025-02-04\", \"base_url\": \"www.amazon.in\", \"visits\": 1}, {\"eventtimeutc\": \"2025-02-04\", \"base_url\": \"www.facebook.com\", \"visits\": 11}, {\"eventtimeutc\": \"2025-02-04\", \"base_url\": \"www.google.com\", \"visits\": 25}, {\"eventtimeutc\": \"2025-02-04\", \"base_url\": \"www.upwork.com\", \"visits\": 65}, {\"eventtimeutc\": \"2025-02-05\", \"base_url\": \"www.facebook.com\", \"visits\": 2}, {\"eventtimeutc\": \"2025-02-05\", \"base_url\": \"www.google.com\", \"visits\": 22}, {\"eventtimeutc\": \"2025-02-05\", \"base_url\": \"www.upwork.com\", \"visits\": 3}, {\"eventtimeutc\": \"2025-02-06\", \"base_url\": \"accounts.google.com\", \"visits\": 2}, {\"eventtimeutc\": \"2025-02-06\", \"base_url\": \"mail.google.com\", \"visits\": 10}, {\"eventtimeutc\": \"2025-02-06\", \"base_url\": \"pyinsightscom-my.sharepoint.com\", \"visits\": 12}, {\"eventtimeutc\": \"2025-02-06\", \"base_url\": \"pyinsightscom.sharepoint.com\", \"visits\": 2}, {\"eventtimeutc\": \"2025-02-06\", \"base_url\": \"www.google.com\", \"visits\": 18}, {\"eventtimeutc\": \"2025-02-06\", \"base_url\": \"www.upwork.com\", \"visits\": 3}, {\"eventtimeutc\": \"2025-02-07\", \"base_url\": \"accounts.google.com\", \"visits\": 11}, {\"eventtimeutc\": \"2025-02-07\", \"base_url\": \"www.google.com\", \"visits\": 4}, {\"eventtimeutc\": \"2025-02-07\", \"base_url\": \"www.upwork.com\", \"visits\": 3}, {\"eventtimeutc\": \"2025-02-08\", \"base_url\": \"www.google.com\", \"visits\": 20}, {\"eventtimeutc\": \"2025-02-09\", \"base_url\": \"www.google.com\", \"visits\": 13}, {\"eventtimeutc\": \"2025-02-10\", \"base_url\": \"mail.google.com\", \"visits\": 3}, {\"eventtimeutc\": \"2025-02-10\", \"base_url\": \"pyinsightscom.sharepoint.com\", \"visits\": 1}, {\"eventtimeutc\": \"2025-02-10\", \"base_url\": \"www.google.com\", \"visits\": 2}, {\"eventtimeutc\": \"2025-02-10\", \"base_url\": \"www.upwork.com\", \"visits\": 3}, {\"eventtimeutc\": \"2025-02-11\", \"base_url\": \"eu-west-1.console.aws.amazon.com\", \"visits\": 10}, {\"eventtimeutc\": \"2025-02-11\", \"base_url\": \"pyinsightscom.sharepoint.com\", \"visits\": 4}, {\"eventtimeutc\": \"2025-02-11\", \"base_url\": \"www.facebook.com\", \"visits\": 10}, {\"eventtimeutc\": \"2025-02-11\", \"base_url\": \"www.google.com\", \"visits\": 1}, {\"eventtimeutc\": \"2025-02-11\", \"base_url\": \"www.upwork.com\", \"visits\": 35}, {\"eventtimeutc\": \"2025-02-12\", \"base_url\": \"www.google.com\", \"visits\": 74}, {\"eventtimeutc\": \"2025-02-12\", \"base_url\": \"www.upwork.com\", \"visits\": 1}, {\"eventtimeutc\": \"2025-02-13\", \"base_url\": \"www.upwork.com\", \"visits\": 3}, {\"eventtimeutc\": \"2025-02-14\", \"base_url\": \"gitlab.com\", \"visits\": 9}, {\"eventtimeutc\": \"2025-02-14\", \"base_url\": \"www.google.com\", \"visits\": 23}, {\"eventtimeutc\": \"2025-02-15\", \"base_url\": \"www.google.com\", \"visits\": 108}, {\"eventtimeutc\": \"2025-02-15\", \"base_url\": \"www.upwork.com\", \"visits\": 3}, {\"eventtimeutc\": \"2025-02-16\", \"base_url\": \"accounts.google.com\", \"visits\": 1}, {\"eventtimeutc\": \"2025-02-16\", \"base_url\": \"www.google.com\", \"visits\": 64}, {\"eventtimeutc\": \"2025-02-16\", \"base_url\": \"www.loopnet.com\", \"visits\": 99}, {\"eventtimeutc\": \"2025-02-16\", \"base_url\": \"www.upwork.com\", \"visits\": 3}, {\"eventtimeutc\": \"2025-02-17\", \"base_url\": \"accounts.google.com\", \"visits\": 2}, {\"eventtimeutc\": \"2025-02-17\", \"base_url\": \"gitlab.com\", \"visits\": 24}, {\"eventtimeutc\": \"2025-02-17\", \"base_url\": \"mail.google.com\", \"visits\": 8}, {\"eventtimeutc\": \"2025-02-17\", \"base_url\": \"pyinsightscom.sharepoint.com\", \"visits\": 1}, {\"eventtimeutc\": \"2025-02-17\", \"base_url\": \"wellfound.com\", \"visits\": 77}, {\"eventtimeutc\": \"2025-02-17\", \"base_url\": \"www.google.com\", \"visits\": 64}, {\"eventtimeutc\": \"2025-02-18\", \"base_url\": \"eu-west-1.console.aws.amazon.com\", \"visits\": 34}, {\"eventtimeutc\": \"2025-02-18\", \"base_url\": \"mail.google.com\", \"visits\": 1}, {\"eventtimeutc\": \"2025-02-18\", \"base_url\": \"pyinsightscom.sharepoint.com\", \"visits\": 23}, {\"eventtimeutc\": \"2025-02-18\", \"base_url\": \"wellfound.com\", \"visits\": 11}, {\"eventtimeutc\": \"2025-02-18\", \"base_url\": \"www.google.com\", \"visits\": 9}, {\"eventtimeutc\": \"2025-02-18\", \"base_url\": \"www.loopnet.com\", \"visits\": 4}, {\"eventtimeutc\": \"2025-02-18\", \"base_url\": \"www.upwork.com\", \"visits\": 3}, {\"eventtimeutc\": \"2025-02-19\", \"base_url\": \"accounts.google.com\", \"visits\": 19}, {\"eventtimeutc\": \"2025-02-19\", \"base_url\": \"eu-west-1.console.aws.amazon.com\", \"visits\": 20}, {\"eventtimeutc\": \"2025-02-19\", \"base_url\": \"go.xero.com\", \"visits\": 60}, {\"eventtimeutc\": \"2025-02-19\", \"base_url\": \"mail.google.com\", \"visits\": 32}, {\"eventtimeutc\": \"2025-02-19\", \"base_url\": \"pyinsightscom-my.sharepoint.com\", \"visits\": 3}, {\"eventtimeutc\": \"2025-02-19\", \"base_url\": \"pyinsightscom.sharepoint.com\", \"visits\": 6}, {\"eventtimeutc\": \"2025-02-19\", \"base_url\": \"wellfound.com\", \"visits\": 19}, {\"eventtimeutc\": \"2025-02-19\", \"base_url\": \"www.facebook.com\", \"visits\": 37}, {\"eventtimeutc\": \"2025-02-19\", \"base_url\": \"www.google.com\", \"visits\": 163}, {\"eventtimeutc\": \"2025-02-19\", \"base_url\": \"www.loopnet.com\", \"visits\": 1}, {\"eventtimeutc\": \"2025-02-19\", \"base_url\": \"www.upwork.com\", \"visits\": 10}, {\"eventtimeutc\": \"2025-02-20\", \"base_url\": \"accounts.google.com\", \"visits\": 21}, {\"eventtimeutc\": \"2025-02-20\", \"base_url\": \"eu-west-1.console.aws.amazon.com\", \"visits\": 18}, {\"eventtimeutc\": \"2025-02-20\", \"base_url\": \"mail.google.com\", \"visits\": 3}, {\"eventtimeutc\": \"2025-02-20\", \"base_url\": \"pyinsightscom.sharepoint.com\", \"visits\": 2}, {\"eventtimeutc\": \"2025-02-20\", \"base_url\": \"www.google.com\", \"visits\": 64}, {\"eventtimeutc\": \"2025-02-20\", \"base_url\": \"www.loopnet.com\", \"visits\": 8}, {\"eventtimeutc\": \"2025-02-21\", \"base_url\": \"www.google.com\", \"visits\": 1}, {\"eventtimeutc\": \"2025-02-21\", \"base_url\": \"www.loopnet.com\", \"visits\": 1}]}}, {\"mode\": \"vega-lite\"});\n",
       "</script>"
      ],
      "text/plain": [
       "alt.Chart(...)"
      ]
     },
     "metadata": {},
     "output_type": "display_data"
    }
   ],
   "source": [
    "\n",
    "def plot_daily_visits_stacked_bar(df, top_n=15):\n",
    "    # Convert datetime columns\n",
    "    df['eventtimeutc'] = pd.to_datetime(df['eventtimeutc'], errors='coerce')\n",
    "    df['eventtime'] = pd.to_datetime(df['eventtime'], errors='coerce')\n",
    "\n",
    "    # Drop rows with invalid datetime values\n",
    "    df = df.dropna(subset=['eventtimeutc', 'eventtime'])\n",
    "\n",
    "    # Ensure the 'base_url' column exists\n",
    "    if 'base_url' not in df.columns:\n",
    "        raise KeyError(\"The 'base_url' column is missing in the DataFrame.\")\n",
    "\n",
    "    # Get the top N base URLs\n",
    "    top_base_urls = df['base_url'].value_counts().head(top_n).index.tolist()\n",
    "\n",
    "    # Aggregate visits by date and base URL, and filter for top URLs\n",
    "    daily_visits = (\n",
    "        df[df['base_url'].isin(top_base_urls)]\n",
    "        .groupby([df['eventtimeutc'].dt.date, 'base_url'])\n",
    "        .size()\n",
    "        .reset_index(name='visits')\n",
    "    )\n",
    "\n",
    "    # Convert date to string for better axis labeling\n",
    "    daily_visits['eventtimeutc'] = daily_visits['eventtimeutc'].astype(str)\n",
    "    # Save chart for powerbi as csv\n",
    "    daily_visits.to_csv('daily_visits.csv', index=False)\n",
    "\n",
    "    # Create the stacked bar chart\n",
    "    chart = alt.Chart(daily_visits).mark_bar().encode(\n",
    "        x=alt.X('eventtimeutc:N', title='Date'),\n",
    "        y=alt.Y('visits:Q', title='Number of Visits'),\n",
    "        color=alt.Color('base_url:N', title='Site'),\n",
    "        tooltip=['eventtimeutc', 'base_url', 'visits']\n",
    "    ).properties(\n",
    "        title=f'Stacked Daily Visits for Top {top_n} Sites',\n",
    "        width=800,\n",
    "        height=400\n",
    "    ).interactive()\n",
    "\n",
    "    return chart\n",
    "\n",
    "# Call the function\n",
    "chart = plot_daily_visits_stacked_bar(df)\n",
    "display(chart)\n",
    "\n",
    "\n"
   ]
  },
  {
   "cell_type": "code",
   "execution_count": 9,
   "id": "53f1f060",
   "metadata": {},
   "outputs": [
    {
     "name": "stdout",
     "output_type": "stream",
     "text": [
      "Duplicates: 0\n"
     ]
    },
    {
     "data": {
      "application/vnd.plotly.v1+json": {
       "config": {
        "plotlyServerURL": "https://plot.ly"
       },
       "data": [
        {
         "hovertemplate": "Date=%{x}<br>Active Time (Hours)=%{y}<extra></extra>",
         "legendgroup": "",
         "line": {
          "color": "#636efa",
          "dash": "solid"
         },
         "marker": {
          "symbol": "circle"
         },
         "mode": "lines",
         "name": "",
         "orientation": "v",
         "showlegend": false,
         "type": "scatter",
         "x": [
          "2025-01-21",
          "2025-01-22",
          "2025-01-23",
          "2025-01-24",
          "2025-01-25",
          "2025-01-26",
          "2025-01-27",
          "2025-01-28",
          "2025-01-29",
          "2025-01-30",
          "2025-01-31",
          "2025-02-01",
          "2025-02-02",
          "2025-02-03",
          "2025-02-04",
          "2025-02-05",
          "2025-02-06",
          "2025-02-07",
          "2025-02-08",
          "2025-02-09",
          "2025-02-10",
          "2025-02-11",
          "2025-02-12",
          "2025-02-13",
          "2025-02-14",
          "2025-02-15",
          "2025-02-16",
          "2025-02-17",
          "2025-02-18",
          "2025-02-19",
          "2025-02-20",
          "2025-02-21"
         ],
         "xaxis": "x",
         "y": [
          0.24482277777777778,
          0.49168222222222224,
          0.6622794444444443,
          0.9304491666666667,
          0.5111947222222223,
          0.35227749999999997,
          1.1304608333333332,
          0.7412447222222222,
          3.574125000000001,
          1.5612544444444445,
          0.7080700000000001,
          0.35250333333333334,
          1.0709905555555557,
          1.0896483333333333,
          1.0019316666666664,
          0.06478416666666666,
          0.5874866666666668,
          0.24381166666666668,
          0.01598916666666667,
          0.4087627777777778,
          0.02795472222222222,
          0.14655972222222224,
          0.525875,
          0.05242083333333333,
          0.2317036111111111,
          0.672483611111111,
          1.414660277777778,
          1.0454913888888888,
          0.8194105555555558,
          1.9151772222222225,
          1.1405377777777779,
          0.40075583333333337
         ],
         "yaxis": "y"
        }
       ],
       "layout": {
        "legend": {
         "tracegroupgap": 0
        },
        "template": {
         "data": {
          "bar": [
           {
            "error_x": {
             "color": "#2a3f5f"
            },
            "error_y": {
             "color": "#2a3f5f"
            },
            "marker": {
             "line": {
              "color": "#E5ECF6",
              "width": 0.5
             },
             "pattern": {
              "fillmode": "overlay",
              "size": 10,
              "solidity": 0.2
             }
            },
            "type": "bar"
           }
          ],
          "barpolar": [
           {
            "marker": {
             "line": {
              "color": "#E5ECF6",
              "width": 0.5
             },
             "pattern": {
              "fillmode": "overlay",
              "size": 10,
              "solidity": 0.2
             }
            },
            "type": "barpolar"
           }
          ],
          "carpet": [
           {
            "aaxis": {
             "endlinecolor": "#2a3f5f",
             "gridcolor": "white",
             "linecolor": "white",
             "minorgridcolor": "white",
             "startlinecolor": "#2a3f5f"
            },
            "baxis": {
             "endlinecolor": "#2a3f5f",
             "gridcolor": "white",
             "linecolor": "white",
             "minorgridcolor": "white",
             "startlinecolor": "#2a3f5f"
            },
            "type": "carpet"
           }
          ],
          "choropleth": [
           {
            "colorbar": {
             "outlinewidth": 0,
             "ticks": ""
            },
            "type": "choropleth"
           }
          ],
          "contour": [
           {
            "colorbar": {
             "outlinewidth": 0,
             "ticks": ""
            },
            "colorscale": [
             [
              0,
              "#0d0887"
             ],
             [
              0.1111111111111111,
              "#46039f"
             ],
             [
              0.2222222222222222,
              "#7201a8"
             ],
             [
              0.3333333333333333,
              "#9c179e"
             ],
             [
              0.4444444444444444,
              "#bd3786"
             ],
             [
              0.5555555555555556,
              "#d8576b"
             ],
             [
              0.6666666666666666,
              "#ed7953"
             ],
             [
              0.7777777777777778,
              "#fb9f3a"
             ],
             [
              0.8888888888888888,
              "#fdca26"
             ],
             [
              1,
              "#f0f921"
             ]
            ],
            "type": "contour"
           }
          ],
          "contourcarpet": [
           {
            "colorbar": {
             "outlinewidth": 0,
             "ticks": ""
            },
            "type": "contourcarpet"
           }
          ],
          "heatmap": [
           {
            "colorbar": {
             "outlinewidth": 0,
             "ticks": ""
            },
            "colorscale": [
             [
              0,
              "#0d0887"
             ],
             [
              0.1111111111111111,
              "#46039f"
             ],
             [
              0.2222222222222222,
              "#7201a8"
             ],
             [
              0.3333333333333333,
              "#9c179e"
             ],
             [
              0.4444444444444444,
              "#bd3786"
             ],
             [
              0.5555555555555556,
              "#d8576b"
             ],
             [
              0.6666666666666666,
              "#ed7953"
             ],
             [
              0.7777777777777778,
              "#fb9f3a"
             ],
             [
              0.8888888888888888,
              "#fdca26"
             ],
             [
              1,
              "#f0f921"
             ]
            ],
            "type": "heatmap"
           }
          ],
          "heatmapgl": [
           {
            "colorbar": {
             "outlinewidth": 0,
             "ticks": ""
            },
            "colorscale": [
             [
              0,
              "#0d0887"
             ],
             [
              0.1111111111111111,
              "#46039f"
             ],
             [
              0.2222222222222222,
              "#7201a8"
             ],
             [
              0.3333333333333333,
              "#9c179e"
             ],
             [
              0.4444444444444444,
              "#bd3786"
             ],
             [
              0.5555555555555556,
              "#d8576b"
             ],
             [
              0.6666666666666666,
              "#ed7953"
             ],
             [
              0.7777777777777778,
              "#fb9f3a"
             ],
             [
              0.8888888888888888,
              "#fdca26"
             ],
             [
              1,
              "#f0f921"
             ]
            ],
            "type": "heatmapgl"
           }
          ],
          "histogram": [
           {
            "marker": {
             "pattern": {
              "fillmode": "overlay",
              "size": 10,
              "solidity": 0.2
             }
            },
            "type": "histogram"
           }
          ],
          "histogram2d": [
           {
            "colorbar": {
             "outlinewidth": 0,
             "ticks": ""
            },
            "colorscale": [
             [
              0,
              "#0d0887"
             ],
             [
              0.1111111111111111,
              "#46039f"
             ],
             [
              0.2222222222222222,
              "#7201a8"
             ],
             [
              0.3333333333333333,
              "#9c179e"
             ],
             [
              0.4444444444444444,
              "#bd3786"
             ],
             [
              0.5555555555555556,
              "#d8576b"
             ],
             [
              0.6666666666666666,
              "#ed7953"
             ],
             [
              0.7777777777777778,
              "#fb9f3a"
             ],
             [
              0.8888888888888888,
              "#fdca26"
             ],
             [
              1,
              "#f0f921"
             ]
            ],
            "type": "histogram2d"
           }
          ],
          "histogram2dcontour": [
           {
            "colorbar": {
             "outlinewidth": 0,
             "ticks": ""
            },
            "colorscale": [
             [
              0,
              "#0d0887"
             ],
             [
              0.1111111111111111,
              "#46039f"
             ],
             [
              0.2222222222222222,
              "#7201a8"
             ],
             [
              0.3333333333333333,
              "#9c179e"
             ],
             [
              0.4444444444444444,
              "#bd3786"
             ],
             [
              0.5555555555555556,
              "#d8576b"
             ],
             [
              0.6666666666666666,
              "#ed7953"
             ],
             [
              0.7777777777777778,
              "#fb9f3a"
             ],
             [
              0.8888888888888888,
              "#fdca26"
             ],
             [
              1,
              "#f0f921"
             ]
            ],
            "type": "histogram2dcontour"
           }
          ],
          "mesh3d": [
           {
            "colorbar": {
             "outlinewidth": 0,
             "ticks": ""
            },
            "type": "mesh3d"
           }
          ],
          "parcoords": [
           {
            "line": {
             "colorbar": {
              "outlinewidth": 0,
              "ticks": ""
             }
            },
            "type": "parcoords"
           }
          ],
          "pie": [
           {
            "automargin": true,
            "type": "pie"
           }
          ],
          "scatter": [
           {
            "fillpattern": {
             "fillmode": "overlay",
             "size": 10,
             "solidity": 0.2
            },
            "type": "scatter"
           }
          ],
          "scatter3d": [
           {
            "line": {
             "colorbar": {
              "outlinewidth": 0,
              "ticks": ""
             }
            },
            "marker": {
             "colorbar": {
              "outlinewidth": 0,
              "ticks": ""
             }
            },
            "type": "scatter3d"
           }
          ],
          "scattercarpet": [
           {
            "marker": {
             "colorbar": {
              "outlinewidth": 0,
              "ticks": ""
             }
            },
            "type": "scattercarpet"
           }
          ],
          "scattergeo": [
           {
            "marker": {
             "colorbar": {
              "outlinewidth": 0,
              "ticks": ""
             }
            },
            "type": "scattergeo"
           }
          ],
          "scattergl": [
           {
            "marker": {
             "colorbar": {
              "outlinewidth": 0,
              "ticks": ""
             }
            },
            "type": "scattergl"
           }
          ],
          "scattermapbox": [
           {
            "marker": {
             "colorbar": {
              "outlinewidth": 0,
              "ticks": ""
             }
            },
            "type": "scattermapbox"
           }
          ],
          "scatterpolar": [
           {
            "marker": {
             "colorbar": {
              "outlinewidth": 0,
              "ticks": ""
             }
            },
            "type": "scatterpolar"
           }
          ],
          "scatterpolargl": [
           {
            "marker": {
             "colorbar": {
              "outlinewidth": 0,
              "ticks": ""
             }
            },
            "type": "scatterpolargl"
           }
          ],
          "scatterternary": [
           {
            "marker": {
             "colorbar": {
              "outlinewidth": 0,
              "ticks": ""
             }
            },
            "type": "scatterternary"
           }
          ],
          "surface": [
           {
            "colorbar": {
             "outlinewidth": 0,
             "ticks": ""
            },
            "colorscale": [
             [
              0,
              "#0d0887"
             ],
             [
              0.1111111111111111,
              "#46039f"
             ],
             [
              0.2222222222222222,
              "#7201a8"
             ],
             [
              0.3333333333333333,
              "#9c179e"
             ],
             [
              0.4444444444444444,
              "#bd3786"
             ],
             [
              0.5555555555555556,
              "#d8576b"
             ],
             [
              0.6666666666666666,
              "#ed7953"
             ],
             [
              0.7777777777777778,
              "#fb9f3a"
             ],
             [
              0.8888888888888888,
              "#fdca26"
             ],
             [
              1,
              "#f0f921"
             ]
            ],
            "type": "surface"
           }
          ],
          "table": [
           {
            "cells": {
             "fill": {
              "color": "#EBF0F8"
             },
             "line": {
              "color": "white"
             }
            },
            "header": {
             "fill": {
              "color": "#C8D4E3"
             },
             "line": {
              "color": "white"
             }
            },
            "type": "table"
           }
          ]
         },
         "layout": {
          "annotationdefaults": {
           "arrowcolor": "#2a3f5f",
           "arrowhead": 0,
           "arrowwidth": 1
          },
          "autotypenumbers": "strict",
          "coloraxis": {
           "colorbar": {
            "outlinewidth": 0,
            "ticks": ""
           }
          },
          "colorscale": {
           "diverging": [
            [
             0,
             "#8e0152"
            ],
            [
             0.1,
             "#c51b7d"
            ],
            [
             0.2,
             "#de77ae"
            ],
            [
             0.3,
             "#f1b6da"
            ],
            [
             0.4,
             "#fde0ef"
            ],
            [
             0.5,
             "#f7f7f7"
            ],
            [
             0.6,
             "#e6f5d0"
            ],
            [
             0.7,
             "#b8e186"
            ],
            [
             0.8,
             "#7fbc41"
            ],
            [
             0.9,
             "#4d9221"
            ],
            [
             1,
             "#276419"
            ]
           ],
           "sequential": [
            [
             0,
             "#0d0887"
            ],
            [
             0.1111111111111111,
             "#46039f"
            ],
            [
             0.2222222222222222,
             "#7201a8"
            ],
            [
             0.3333333333333333,
             "#9c179e"
            ],
            [
             0.4444444444444444,
             "#bd3786"
            ],
            [
             0.5555555555555556,
             "#d8576b"
            ],
            [
             0.6666666666666666,
             "#ed7953"
            ],
            [
             0.7777777777777778,
             "#fb9f3a"
            ],
            [
             0.8888888888888888,
             "#fdca26"
            ],
            [
             1,
             "#f0f921"
            ]
           ],
           "sequentialminus": [
            [
             0,
             "#0d0887"
            ],
            [
             0.1111111111111111,
             "#46039f"
            ],
            [
             0.2222222222222222,
             "#7201a8"
            ],
            [
             0.3333333333333333,
             "#9c179e"
            ],
            [
             0.4444444444444444,
             "#bd3786"
            ],
            [
             0.5555555555555556,
             "#d8576b"
            ],
            [
             0.6666666666666666,
             "#ed7953"
            ],
            [
             0.7777777777777778,
             "#fb9f3a"
            ],
            [
             0.8888888888888888,
             "#fdca26"
            ],
            [
             1,
             "#f0f921"
            ]
           ]
          },
          "colorway": [
           "#636efa",
           "#EF553B",
           "#00cc96",
           "#ab63fa",
           "#FFA15A",
           "#19d3f3",
           "#FF6692",
           "#B6E880",
           "#FF97FF",
           "#FECB52"
          ],
          "font": {
           "color": "#2a3f5f"
          },
          "geo": {
           "bgcolor": "white",
           "lakecolor": "white",
           "landcolor": "#E5ECF6",
           "showlakes": true,
           "showland": true,
           "subunitcolor": "white"
          },
          "hoverlabel": {
           "align": "left"
          },
          "hovermode": "closest",
          "mapbox": {
           "style": "light"
          },
          "paper_bgcolor": "white",
          "plot_bgcolor": "#E5ECF6",
          "polar": {
           "angularaxis": {
            "gridcolor": "white",
            "linecolor": "white",
            "ticks": ""
           },
           "bgcolor": "#E5ECF6",
           "radialaxis": {
            "gridcolor": "white",
            "linecolor": "white",
            "ticks": ""
           }
          },
          "scene": {
           "xaxis": {
            "backgroundcolor": "#E5ECF6",
            "gridcolor": "white",
            "gridwidth": 2,
            "linecolor": "white",
            "showbackground": true,
            "ticks": "",
            "zerolinecolor": "white"
           },
           "yaxis": {
            "backgroundcolor": "#E5ECF6",
            "gridcolor": "white",
            "gridwidth": 2,
            "linecolor": "white",
            "showbackground": true,
            "ticks": "",
            "zerolinecolor": "white"
           },
           "zaxis": {
            "backgroundcolor": "#E5ECF6",
            "gridcolor": "white",
            "gridwidth": 2,
            "linecolor": "white",
            "showbackground": true,
            "ticks": "",
            "zerolinecolor": "white"
           }
          },
          "shapedefaults": {
           "line": {
            "color": "#2a3f5f"
           }
          },
          "ternary": {
           "aaxis": {
            "gridcolor": "white",
            "linecolor": "white",
            "ticks": ""
           },
           "baxis": {
            "gridcolor": "white",
            "linecolor": "white",
            "ticks": ""
           },
           "bgcolor": "#E5ECF6",
           "caxis": {
            "gridcolor": "white",
            "linecolor": "white",
            "ticks": ""
           }
          },
          "title": {
           "x": 0.05
          },
          "xaxis": {
           "automargin": true,
           "gridcolor": "white",
           "linecolor": "white",
           "ticks": "",
           "title": {
            "standoff": 15
           },
           "zerolinecolor": "white",
           "zerolinewidth": 2
          },
          "yaxis": {
           "automargin": true,
           "gridcolor": "white",
           "linecolor": "white",
           "ticks": "",
           "title": {
            "standoff": 15
           },
           "zerolinecolor": "white",
           "zerolinewidth": 2
          }
         }
        },
        "title": {
         "text": "Daily Active Time (Hours)",
         "x": 0.5
        },
        "xaxis": {
         "anchor": "y",
         "domain": [
          0,
          1
         ],
         "tickangle": -45,
         "title": {
          "text": "Date"
         }
        },
        "yaxis": {
         "anchor": "x",
         "domain": [
          0,
          1
         ],
         "title": {
          "text": "Active Time (Hours)"
         }
        }
       }
      }
     },
     "metadata": {},
     "output_type": "display_data"
    }
   ],
   "source": [
    "def analyze_and_plot_browsing_data_plotly(df):\n",
    "    # Convert eventtimeutc to datetime\n",
    "    df['eventtimeutc'] = pd.to_datetime(df['eventtimeutc'], utc=True)\n",
    "\n",
    "    # Sort by eventtimeutc (ascending) to ensure chronological order\n",
    "    df = df.sort_values(by=['eventtimeutc'])\n",
    "\n",
    "    # Check for duplicates\n",
    "    print(f\"Duplicates: {df.duplicated().sum()}\")\n",
    "\n",
    "    # Calculate time difference between consecutive events\n",
    "    df['time_diff'] = df['eventtimeutc'].diff().fillna(pd.Timedelta(0))\n",
    "\n",
    "    # Identify session ends when the time difference exceeds 5 minutes\n",
    "    df['session_end'] = df['time_diff'] > pd.Timedelta(minutes=5)\n",
    "\n",
    "    # Create session ID based on cumulative session end\n",
    "    df['session_id'] = df['session_end'].cumsum()\n",
    "\n",
    "    # Group by session_id to get session start and end times\n",
    "    sessions = df.groupby('session_id')['eventtimeutc'].agg(['min', 'max']).reset_index()\n",
    "    sessions.columns = ['session_id', 'session_start', 'session_end']\n",
    "\n",
    "    # Calculate session duration\n",
    "    sessions['duration'] = sessions['session_end'] - sessions['session_start']\n",
    "\n",
    "    # Prepare to collect daily active time\n",
    "    daily_active_time = {}\n",
    "\n",
    "    # Iterate over each session to split its duration into days\n",
    "    for _, session in sessions.iterrows():\n",
    "        start = session['session_start']\n",
    "        end = session['session_end']\n",
    "        duration = session['duration']\n",
    "\n",
    "        if duration.total_seconds() == 0:\n",
    "            # Session with single event, no active time\n",
    "            continue\n",
    "\n",
    "        # Determine all dates the session spans\n",
    "        current_date = start.date()\n",
    "        end_date = end.date()\n",
    "\n",
    "        # Iterate through each date from start to end\n",
    "        while current_date <= end_date:\n",
    "            # Calculate the start and end of the current date\n",
    "            date_start = pd.Timestamp(current_date).tz_localize('UTC')\n",
    "            date_end = date_start + pd.Timedelta(days=1)\n",
    "\n",
    "            # Calculate overlap between session and current date\n",
    "            overlap_start = max(start, date_start)\n",
    "            overlap_end = min(end, date_end)\n",
    "            overlap_duration = max(pd.Timedelta(0), overlap_end - overlap_start)\n",
    "\n",
    "            # Convert duration to hours\n",
    "            overlap_hours = overlap_duration.total_seconds() / 3600\n",
    "\n",
    "            # Add to daily active time\n",
    "            if current_date in daily_active_time:\n",
    "                daily_active_time[current_date] += overlap_hours\n",
    "            else:\n",
    "                daily_active_time[current_date] = overlap_hours\n",
    "\n",
    "            # Move to next date\n",
    "            current_date += pd.Timedelta(days=1).to_pytimedelta()\n",
    "\n",
    "    # Convert daily_active_time to DataFrame\n",
    "    dates = sorted(daily_active_time.keys())\n",
    "    hours = [min(daily_active_time[date], 24) for date in dates]  # Ensure max 24 hours\n",
    "    daily_active_time_df = pd.DataFrame({'date': dates, 'active_time_hours': hours})\n",
    "\n",
    "    # Plotting\n",
    "    fig = px.line(daily_active_time_df,\n",
    "                  x='date',\n",
    "                  y='active_time_hours',\n",
    "                  title='Daily Active Time (Hours)',\n",
    "                  labels={'date': 'Date', 'active_time_hours': 'Active Time (Hours)'})\n",
    "    fig.update_layout(title_x=0.5, xaxis_tickangle=-45)\n",
    "    fig.show()\n",
    "\n",
    "# Example usage\n",
    "analyze_and_plot_browsing_data_plotly(df)"
   ]
  },
  {
   "cell_type": "code",
   "execution_count": 10,
   "id": "c0a0d4aa",
   "metadata": {},
   "outputs": [
    {
     "data": {
      "application/vnd.plotly.v1+json": {
       "config": {
        "plotlyServerURL": "https://plot.ly"
       },
       "data": [
        {
         "alignmentgroup": "True",
         "hovertemplate": "Day of Week=%{x}<br>Total Active Time (Hours)=%{y}<extra></extra>",
         "legendgroup": "",
         "marker": {
          "color": "#636efa",
          "pattern": {
           "shape": ""
          }
         },
         "name": "",
         "offsetgroup": "",
         "orientation": "v",
         "showlegend": false,
         "textposition": "auto",
         "type": "bar",
         "x": [
          "Sun",
          "Mon",
          "Tue",
          "Wed",
          "Thu",
          "Fri",
          "Sat"
         ],
         "xaxis": "x",
         "y": [
          3.2466911111111116,
          3.2935552777777777,
          2.9539694444444446,
          6.571643611111112,
          4.003979166666666,
          2.5147902777777777,
          1.5521708333333333
         ],
         "yaxis": "y"
        }
       ],
       "layout": {
        "barmode": "relative",
        "legend": {
         "tracegroupgap": 0
        },
        "template": {
         "data": {
          "bar": [
           {
            "error_x": {
             "color": "#2a3f5f"
            },
            "error_y": {
             "color": "#2a3f5f"
            },
            "marker": {
             "line": {
              "color": "#E5ECF6",
              "width": 0.5
             },
             "pattern": {
              "fillmode": "overlay",
              "size": 10,
              "solidity": 0.2
             }
            },
            "type": "bar"
           }
          ],
          "barpolar": [
           {
            "marker": {
             "line": {
              "color": "#E5ECF6",
              "width": 0.5
             },
             "pattern": {
              "fillmode": "overlay",
              "size": 10,
              "solidity": 0.2
             }
            },
            "type": "barpolar"
           }
          ],
          "carpet": [
           {
            "aaxis": {
             "endlinecolor": "#2a3f5f",
             "gridcolor": "white",
             "linecolor": "white",
             "minorgridcolor": "white",
             "startlinecolor": "#2a3f5f"
            },
            "baxis": {
             "endlinecolor": "#2a3f5f",
             "gridcolor": "white",
             "linecolor": "white",
             "minorgridcolor": "white",
             "startlinecolor": "#2a3f5f"
            },
            "type": "carpet"
           }
          ],
          "choropleth": [
           {
            "colorbar": {
             "outlinewidth": 0,
             "ticks": ""
            },
            "type": "choropleth"
           }
          ],
          "contour": [
           {
            "colorbar": {
             "outlinewidth": 0,
             "ticks": ""
            },
            "colorscale": [
             [
              0,
              "#0d0887"
             ],
             [
              0.1111111111111111,
              "#46039f"
             ],
             [
              0.2222222222222222,
              "#7201a8"
             ],
             [
              0.3333333333333333,
              "#9c179e"
             ],
             [
              0.4444444444444444,
              "#bd3786"
             ],
             [
              0.5555555555555556,
              "#d8576b"
             ],
             [
              0.6666666666666666,
              "#ed7953"
             ],
             [
              0.7777777777777778,
              "#fb9f3a"
             ],
             [
              0.8888888888888888,
              "#fdca26"
             ],
             [
              1,
              "#f0f921"
             ]
            ],
            "type": "contour"
           }
          ],
          "contourcarpet": [
           {
            "colorbar": {
             "outlinewidth": 0,
             "ticks": ""
            },
            "type": "contourcarpet"
           }
          ],
          "heatmap": [
           {
            "colorbar": {
             "outlinewidth": 0,
             "ticks": ""
            },
            "colorscale": [
             [
              0,
              "#0d0887"
             ],
             [
              0.1111111111111111,
              "#46039f"
             ],
             [
              0.2222222222222222,
              "#7201a8"
             ],
             [
              0.3333333333333333,
              "#9c179e"
             ],
             [
              0.4444444444444444,
              "#bd3786"
             ],
             [
              0.5555555555555556,
              "#d8576b"
             ],
             [
              0.6666666666666666,
              "#ed7953"
             ],
             [
              0.7777777777777778,
              "#fb9f3a"
             ],
             [
              0.8888888888888888,
              "#fdca26"
             ],
             [
              1,
              "#f0f921"
             ]
            ],
            "type": "heatmap"
           }
          ],
          "heatmapgl": [
           {
            "colorbar": {
             "outlinewidth": 0,
             "ticks": ""
            },
            "colorscale": [
             [
              0,
              "#0d0887"
             ],
             [
              0.1111111111111111,
              "#46039f"
             ],
             [
              0.2222222222222222,
              "#7201a8"
             ],
             [
              0.3333333333333333,
              "#9c179e"
             ],
             [
              0.4444444444444444,
              "#bd3786"
             ],
             [
              0.5555555555555556,
              "#d8576b"
             ],
             [
              0.6666666666666666,
              "#ed7953"
             ],
             [
              0.7777777777777778,
              "#fb9f3a"
             ],
             [
              0.8888888888888888,
              "#fdca26"
             ],
             [
              1,
              "#f0f921"
             ]
            ],
            "type": "heatmapgl"
           }
          ],
          "histogram": [
           {
            "marker": {
             "pattern": {
              "fillmode": "overlay",
              "size": 10,
              "solidity": 0.2
             }
            },
            "type": "histogram"
           }
          ],
          "histogram2d": [
           {
            "colorbar": {
             "outlinewidth": 0,
             "ticks": ""
            },
            "colorscale": [
             [
              0,
              "#0d0887"
             ],
             [
              0.1111111111111111,
              "#46039f"
             ],
             [
              0.2222222222222222,
              "#7201a8"
             ],
             [
              0.3333333333333333,
              "#9c179e"
             ],
             [
              0.4444444444444444,
              "#bd3786"
             ],
             [
              0.5555555555555556,
              "#d8576b"
             ],
             [
              0.6666666666666666,
              "#ed7953"
             ],
             [
              0.7777777777777778,
              "#fb9f3a"
             ],
             [
              0.8888888888888888,
              "#fdca26"
             ],
             [
              1,
              "#f0f921"
             ]
            ],
            "type": "histogram2d"
           }
          ],
          "histogram2dcontour": [
           {
            "colorbar": {
             "outlinewidth": 0,
             "ticks": ""
            },
            "colorscale": [
             [
              0,
              "#0d0887"
             ],
             [
              0.1111111111111111,
              "#46039f"
             ],
             [
              0.2222222222222222,
              "#7201a8"
             ],
             [
              0.3333333333333333,
              "#9c179e"
             ],
             [
              0.4444444444444444,
              "#bd3786"
             ],
             [
              0.5555555555555556,
              "#d8576b"
             ],
             [
              0.6666666666666666,
              "#ed7953"
             ],
             [
              0.7777777777777778,
              "#fb9f3a"
             ],
             [
              0.8888888888888888,
              "#fdca26"
             ],
             [
              1,
              "#f0f921"
             ]
            ],
            "type": "histogram2dcontour"
           }
          ],
          "mesh3d": [
           {
            "colorbar": {
             "outlinewidth": 0,
             "ticks": ""
            },
            "type": "mesh3d"
           }
          ],
          "parcoords": [
           {
            "line": {
             "colorbar": {
              "outlinewidth": 0,
              "ticks": ""
             }
            },
            "type": "parcoords"
           }
          ],
          "pie": [
           {
            "automargin": true,
            "type": "pie"
           }
          ],
          "scatter": [
           {
            "fillpattern": {
             "fillmode": "overlay",
             "size": 10,
             "solidity": 0.2
            },
            "type": "scatter"
           }
          ],
          "scatter3d": [
           {
            "line": {
             "colorbar": {
              "outlinewidth": 0,
              "ticks": ""
             }
            },
            "marker": {
             "colorbar": {
              "outlinewidth": 0,
              "ticks": ""
             }
            },
            "type": "scatter3d"
           }
          ],
          "scattercarpet": [
           {
            "marker": {
             "colorbar": {
              "outlinewidth": 0,
              "ticks": ""
             }
            },
            "type": "scattercarpet"
           }
          ],
          "scattergeo": [
           {
            "marker": {
             "colorbar": {
              "outlinewidth": 0,
              "ticks": ""
             }
            },
            "type": "scattergeo"
           }
          ],
          "scattergl": [
           {
            "marker": {
             "colorbar": {
              "outlinewidth": 0,
              "ticks": ""
             }
            },
            "type": "scattergl"
           }
          ],
          "scattermapbox": [
           {
            "marker": {
             "colorbar": {
              "outlinewidth": 0,
              "ticks": ""
             }
            },
            "type": "scattermapbox"
           }
          ],
          "scatterpolar": [
           {
            "marker": {
             "colorbar": {
              "outlinewidth": 0,
              "ticks": ""
             }
            },
            "type": "scatterpolar"
           }
          ],
          "scatterpolargl": [
           {
            "marker": {
             "colorbar": {
              "outlinewidth": 0,
              "ticks": ""
             }
            },
            "type": "scatterpolargl"
           }
          ],
          "scatterternary": [
           {
            "marker": {
             "colorbar": {
              "outlinewidth": 0,
              "ticks": ""
             }
            },
            "type": "scatterternary"
           }
          ],
          "surface": [
           {
            "colorbar": {
             "outlinewidth": 0,
             "ticks": ""
            },
            "colorscale": [
             [
              0,
              "#0d0887"
             ],
             [
              0.1111111111111111,
              "#46039f"
             ],
             [
              0.2222222222222222,
              "#7201a8"
             ],
             [
              0.3333333333333333,
              "#9c179e"
             ],
             [
              0.4444444444444444,
              "#bd3786"
             ],
             [
              0.5555555555555556,
              "#d8576b"
             ],
             [
              0.6666666666666666,
              "#ed7953"
             ],
             [
              0.7777777777777778,
              "#fb9f3a"
             ],
             [
              0.8888888888888888,
              "#fdca26"
             ],
             [
              1,
              "#f0f921"
             ]
            ],
            "type": "surface"
           }
          ],
          "table": [
           {
            "cells": {
             "fill": {
              "color": "#EBF0F8"
             },
             "line": {
              "color": "white"
             }
            },
            "header": {
             "fill": {
              "color": "#C8D4E3"
             },
             "line": {
              "color": "white"
             }
            },
            "type": "table"
           }
          ]
         },
         "layout": {
          "annotationdefaults": {
           "arrowcolor": "#2a3f5f",
           "arrowhead": 0,
           "arrowwidth": 1
          },
          "autotypenumbers": "strict",
          "coloraxis": {
           "colorbar": {
            "outlinewidth": 0,
            "ticks": ""
           }
          },
          "colorscale": {
           "diverging": [
            [
             0,
             "#8e0152"
            ],
            [
             0.1,
             "#c51b7d"
            ],
            [
             0.2,
             "#de77ae"
            ],
            [
             0.3,
             "#f1b6da"
            ],
            [
             0.4,
             "#fde0ef"
            ],
            [
             0.5,
             "#f7f7f7"
            ],
            [
             0.6,
             "#e6f5d0"
            ],
            [
             0.7,
             "#b8e186"
            ],
            [
             0.8,
             "#7fbc41"
            ],
            [
             0.9,
             "#4d9221"
            ],
            [
             1,
             "#276419"
            ]
           ],
           "sequential": [
            [
             0,
             "#0d0887"
            ],
            [
             0.1111111111111111,
             "#46039f"
            ],
            [
             0.2222222222222222,
             "#7201a8"
            ],
            [
             0.3333333333333333,
             "#9c179e"
            ],
            [
             0.4444444444444444,
             "#bd3786"
            ],
            [
             0.5555555555555556,
             "#d8576b"
            ],
            [
             0.6666666666666666,
             "#ed7953"
            ],
            [
             0.7777777777777778,
             "#fb9f3a"
            ],
            [
             0.8888888888888888,
             "#fdca26"
            ],
            [
             1,
             "#f0f921"
            ]
           ],
           "sequentialminus": [
            [
             0,
             "#0d0887"
            ],
            [
             0.1111111111111111,
             "#46039f"
            ],
            [
             0.2222222222222222,
             "#7201a8"
            ],
            [
             0.3333333333333333,
             "#9c179e"
            ],
            [
             0.4444444444444444,
             "#bd3786"
            ],
            [
             0.5555555555555556,
             "#d8576b"
            ],
            [
             0.6666666666666666,
             "#ed7953"
            ],
            [
             0.7777777777777778,
             "#fb9f3a"
            ],
            [
             0.8888888888888888,
             "#fdca26"
            ],
            [
             1,
             "#f0f921"
            ]
           ]
          },
          "colorway": [
           "#636efa",
           "#EF553B",
           "#00cc96",
           "#ab63fa",
           "#FFA15A",
           "#19d3f3",
           "#FF6692",
           "#B6E880",
           "#FF97FF",
           "#FECB52"
          ],
          "font": {
           "color": "#2a3f5f"
          },
          "geo": {
           "bgcolor": "white",
           "lakecolor": "white",
           "landcolor": "#E5ECF6",
           "showlakes": true,
           "showland": true,
           "subunitcolor": "white"
          },
          "hoverlabel": {
           "align": "left"
          },
          "hovermode": "closest",
          "mapbox": {
           "style": "light"
          },
          "paper_bgcolor": "white",
          "plot_bgcolor": "#E5ECF6",
          "polar": {
           "angularaxis": {
            "gridcolor": "white",
            "linecolor": "white",
            "ticks": ""
           },
           "bgcolor": "#E5ECF6",
           "radialaxis": {
            "gridcolor": "white",
            "linecolor": "white",
            "ticks": ""
           }
          },
          "scene": {
           "xaxis": {
            "backgroundcolor": "#E5ECF6",
            "gridcolor": "white",
            "gridwidth": 2,
            "linecolor": "white",
            "showbackground": true,
            "ticks": "",
            "zerolinecolor": "white"
           },
           "yaxis": {
            "backgroundcolor": "#E5ECF6",
            "gridcolor": "white",
            "gridwidth": 2,
            "linecolor": "white",
            "showbackground": true,
            "ticks": "",
            "zerolinecolor": "white"
           },
           "zaxis": {
            "backgroundcolor": "#E5ECF6",
            "gridcolor": "white",
            "gridwidth": 2,
            "linecolor": "white",
            "showbackground": true,
            "ticks": "",
            "zerolinecolor": "white"
           }
          },
          "shapedefaults": {
           "line": {
            "color": "#2a3f5f"
           }
          },
          "ternary": {
           "aaxis": {
            "gridcolor": "white",
            "linecolor": "white",
            "ticks": ""
           },
           "baxis": {
            "gridcolor": "white",
            "linecolor": "white",
            "ticks": ""
           },
           "bgcolor": "#E5ECF6",
           "caxis": {
            "gridcolor": "white",
            "linecolor": "white",
            "ticks": ""
           }
          },
          "title": {
           "x": 0.05
          },
          "xaxis": {
           "automargin": true,
           "gridcolor": "white",
           "linecolor": "white",
           "ticks": "",
           "title": {
            "standoff": 15
           },
           "zerolinecolor": "white",
           "zerolinewidth": 2
          },
          "yaxis": {
           "automargin": true,
           "gridcolor": "white",
           "linecolor": "white",
           "ticks": "",
           "title": {
            "standoff": 15
           },
           "zerolinecolor": "white",
           "zerolinewidth": 2
          }
         }
        },
        "title": {
         "text": "Total Active Time by Weekday (Hours)",
         "x": 0.5
        },
        "xaxis": {
         "anchor": "y",
         "domain": [
          0,
          1
         ],
         "title": {
          "text": "Day of Week"
         }
        },
        "yaxis": {
         "anchor": "x",
         "domain": [
          0,
          1
         ],
         "title": {
          "text": "Total Active Time (Hours)"
         }
        }
       }
      }
     },
     "metadata": {},
     "output_type": "display_data"
    },
    {
     "data": {
      "application/vnd.plotly.v1+json": {
       "config": {
        "plotlyServerURL": "https://plot.ly"
       },
       "data": [
        {
         "alignmentgroup": "True",
         "hovertemplate": "Day of Week=%{x}<br>Average Active Time (Hours)=%{y}<extra></extra>",
         "legendgroup": "",
         "marker": {
          "color": "#636efa",
          "pattern": {
           "shape": ""
          }
         },
         "name": "",
         "offsetgroup": "",
         "orientation": "v",
         "showlegend": false,
         "textposition": "auto",
         "type": "bar",
         "x": [
          "Sun",
          "Mon",
          "Tue",
          "Wed",
          "Thu",
          "Fri",
          "Sat"
         ],
         "xaxis": "x",
         "y": [
          0.8116727777777779,
          0.8233888194444444,
          0.590793888888889,
          1.3143287222222224,
          0.8007958333333333,
          0.5029580555555555,
          0.3880427083333333
         ],
         "yaxis": "y"
        }
       ],
       "layout": {
        "barmode": "relative",
        "legend": {
         "tracegroupgap": 0
        },
        "template": {
         "data": {
          "bar": [
           {
            "error_x": {
             "color": "#2a3f5f"
            },
            "error_y": {
             "color": "#2a3f5f"
            },
            "marker": {
             "line": {
              "color": "#E5ECF6",
              "width": 0.5
             },
             "pattern": {
              "fillmode": "overlay",
              "size": 10,
              "solidity": 0.2
             }
            },
            "type": "bar"
           }
          ],
          "barpolar": [
           {
            "marker": {
             "line": {
              "color": "#E5ECF6",
              "width": 0.5
             },
             "pattern": {
              "fillmode": "overlay",
              "size": 10,
              "solidity": 0.2
             }
            },
            "type": "barpolar"
           }
          ],
          "carpet": [
           {
            "aaxis": {
             "endlinecolor": "#2a3f5f",
             "gridcolor": "white",
             "linecolor": "white",
             "minorgridcolor": "white",
             "startlinecolor": "#2a3f5f"
            },
            "baxis": {
             "endlinecolor": "#2a3f5f",
             "gridcolor": "white",
             "linecolor": "white",
             "minorgridcolor": "white",
             "startlinecolor": "#2a3f5f"
            },
            "type": "carpet"
           }
          ],
          "choropleth": [
           {
            "colorbar": {
             "outlinewidth": 0,
             "ticks": ""
            },
            "type": "choropleth"
           }
          ],
          "contour": [
           {
            "colorbar": {
             "outlinewidth": 0,
             "ticks": ""
            },
            "colorscale": [
             [
              0,
              "#0d0887"
             ],
             [
              0.1111111111111111,
              "#46039f"
             ],
             [
              0.2222222222222222,
              "#7201a8"
             ],
             [
              0.3333333333333333,
              "#9c179e"
             ],
             [
              0.4444444444444444,
              "#bd3786"
             ],
             [
              0.5555555555555556,
              "#d8576b"
             ],
             [
              0.6666666666666666,
              "#ed7953"
             ],
             [
              0.7777777777777778,
              "#fb9f3a"
             ],
             [
              0.8888888888888888,
              "#fdca26"
             ],
             [
              1,
              "#f0f921"
             ]
            ],
            "type": "contour"
           }
          ],
          "contourcarpet": [
           {
            "colorbar": {
             "outlinewidth": 0,
             "ticks": ""
            },
            "type": "contourcarpet"
           }
          ],
          "heatmap": [
           {
            "colorbar": {
             "outlinewidth": 0,
             "ticks": ""
            },
            "colorscale": [
             [
              0,
              "#0d0887"
             ],
             [
              0.1111111111111111,
              "#46039f"
             ],
             [
              0.2222222222222222,
              "#7201a8"
             ],
             [
              0.3333333333333333,
              "#9c179e"
             ],
             [
              0.4444444444444444,
              "#bd3786"
             ],
             [
              0.5555555555555556,
              "#d8576b"
             ],
             [
              0.6666666666666666,
              "#ed7953"
             ],
             [
              0.7777777777777778,
              "#fb9f3a"
             ],
             [
              0.8888888888888888,
              "#fdca26"
             ],
             [
              1,
              "#f0f921"
             ]
            ],
            "type": "heatmap"
           }
          ],
          "heatmapgl": [
           {
            "colorbar": {
             "outlinewidth": 0,
             "ticks": ""
            },
            "colorscale": [
             [
              0,
              "#0d0887"
             ],
             [
              0.1111111111111111,
              "#46039f"
             ],
             [
              0.2222222222222222,
              "#7201a8"
             ],
             [
              0.3333333333333333,
              "#9c179e"
             ],
             [
              0.4444444444444444,
              "#bd3786"
             ],
             [
              0.5555555555555556,
              "#d8576b"
             ],
             [
              0.6666666666666666,
              "#ed7953"
             ],
             [
              0.7777777777777778,
              "#fb9f3a"
             ],
             [
              0.8888888888888888,
              "#fdca26"
             ],
             [
              1,
              "#f0f921"
             ]
            ],
            "type": "heatmapgl"
           }
          ],
          "histogram": [
           {
            "marker": {
             "pattern": {
              "fillmode": "overlay",
              "size": 10,
              "solidity": 0.2
             }
            },
            "type": "histogram"
           }
          ],
          "histogram2d": [
           {
            "colorbar": {
             "outlinewidth": 0,
             "ticks": ""
            },
            "colorscale": [
             [
              0,
              "#0d0887"
             ],
             [
              0.1111111111111111,
              "#46039f"
             ],
             [
              0.2222222222222222,
              "#7201a8"
             ],
             [
              0.3333333333333333,
              "#9c179e"
             ],
             [
              0.4444444444444444,
              "#bd3786"
             ],
             [
              0.5555555555555556,
              "#d8576b"
             ],
             [
              0.6666666666666666,
              "#ed7953"
             ],
             [
              0.7777777777777778,
              "#fb9f3a"
             ],
             [
              0.8888888888888888,
              "#fdca26"
             ],
             [
              1,
              "#f0f921"
             ]
            ],
            "type": "histogram2d"
           }
          ],
          "histogram2dcontour": [
           {
            "colorbar": {
             "outlinewidth": 0,
             "ticks": ""
            },
            "colorscale": [
             [
              0,
              "#0d0887"
             ],
             [
              0.1111111111111111,
              "#46039f"
             ],
             [
              0.2222222222222222,
              "#7201a8"
             ],
             [
              0.3333333333333333,
              "#9c179e"
             ],
             [
              0.4444444444444444,
              "#bd3786"
             ],
             [
              0.5555555555555556,
              "#d8576b"
             ],
             [
              0.6666666666666666,
              "#ed7953"
             ],
             [
              0.7777777777777778,
              "#fb9f3a"
             ],
             [
              0.8888888888888888,
              "#fdca26"
             ],
             [
              1,
              "#f0f921"
             ]
            ],
            "type": "histogram2dcontour"
           }
          ],
          "mesh3d": [
           {
            "colorbar": {
             "outlinewidth": 0,
             "ticks": ""
            },
            "type": "mesh3d"
           }
          ],
          "parcoords": [
           {
            "line": {
             "colorbar": {
              "outlinewidth": 0,
              "ticks": ""
             }
            },
            "type": "parcoords"
           }
          ],
          "pie": [
           {
            "automargin": true,
            "type": "pie"
           }
          ],
          "scatter": [
           {
            "fillpattern": {
             "fillmode": "overlay",
             "size": 10,
             "solidity": 0.2
            },
            "type": "scatter"
           }
          ],
          "scatter3d": [
           {
            "line": {
             "colorbar": {
              "outlinewidth": 0,
              "ticks": ""
             }
            },
            "marker": {
             "colorbar": {
              "outlinewidth": 0,
              "ticks": ""
             }
            },
            "type": "scatter3d"
           }
          ],
          "scattercarpet": [
           {
            "marker": {
             "colorbar": {
              "outlinewidth": 0,
              "ticks": ""
             }
            },
            "type": "scattercarpet"
           }
          ],
          "scattergeo": [
           {
            "marker": {
             "colorbar": {
              "outlinewidth": 0,
              "ticks": ""
             }
            },
            "type": "scattergeo"
           }
          ],
          "scattergl": [
           {
            "marker": {
             "colorbar": {
              "outlinewidth": 0,
              "ticks": ""
             }
            },
            "type": "scattergl"
           }
          ],
          "scattermapbox": [
           {
            "marker": {
             "colorbar": {
              "outlinewidth": 0,
              "ticks": ""
             }
            },
            "type": "scattermapbox"
           }
          ],
          "scatterpolar": [
           {
            "marker": {
             "colorbar": {
              "outlinewidth": 0,
              "ticks": ""
             }
            },
            "type": "scatterpolar"
           }
          ],
          "scatterpolargl": [
           {
            "marker": {
             "colorbar": {
              "outlinewidth": 0,
              "ticks": ""
             }
            },
            "type": "scatterpolargl"
           }
          ],
          "scatterternary": [
           {
            "marker": {
             "colorbar": {
              "outlinewidth": 0,
              "ticks": ""
             }
            },
            "type": "scatterternary"
           }
          ],
          "surface": [
           {
            "colorbar": {
             "outlinewidth": 0,
             "ticks": ""
            },
            "colorscale": [
             [
              0,
              "#0d0887"
             ],
             [
              0.1111111111111111,
              "#46039f"
             ],
             [
              0.2222222222222222,
              "#7201a8"
             ],
             [
              0.3333333333333333,
              "#9c179e"
             ],
             [
              0.4444444444444444,
              "#bd3786"
             ],
             [
              0.5555555555555556,
              "#d8576b"
             ],
             [
              0.6666666666666666,
              "#ed7953"
             ],
             [
              0.7777777777777778,
              "#fb9f3a"
             ],
             [
              0.8888888888888888,
              "#fdca26"
             ],
             [
              1,
              "#f0f921"
             ]
            ],
            "type": "surface"
           }
          ],
          "table": [
           {
            "cells": {
             "fill": {
              "color": "#EBF0F8"
             },
             "line": {
              "color": "white"
             }
            },
            "header": {
             "fill": {
              "color": "#C8D4E3"
             },
             "line": {
              "color": "white"
             }
            },
            "type": "table"
           }
          ]
         },
         "layout": {
          "annotationdefaults": {
           "arrowcolor": "#2a3f5f",
           "arrowhead": 0,
           "arrowwidth": 1
          },
          "autotypenumbers": "strict",
          "coloraxis": {
           "colorbar": {
            "outlinewidth": 0,
            "ticks": ""
           }
          },
          "colorscale": {
           "diverging": [
            [
             0,
             "#8e0152"
            ],
            [
             0.1,
             "#c51b7d"
            ],
            [
             0.2,
             "#de77ae"
            ],
            [
             0.3,
             "#f1b6da"
            ],
            [
             0.4,
             "#fde0ef"
            ],
            [
             0.5,
             "#f7f7f7"
            ],
            [
             0.6,
             "#e6f5d0"
            ],
            [
             0.7,
             "#b8e186"
            ],
            [
             0.8,
             "#7fbc41"
            ],
            [
             0.9,
             "#4d9221"
            ],
            [
             1,
             "#276419"
            ]
           ],
           "sequential": [
            [
             0,
             "#0d0887"
            ],
            [
             0.1111111111111111,
             "#46039f"
            ],
            [
             0.2222222222222222,
             "#7201a8"
            ],
            [
             0.3333333333333333,
             "#9c179e"
            ],
            [
             0.4444444444444444,
             "#bd3786"
            ],
            [
             0.5555555555555556,
             "#d8576b"
            ],
            [
             0.6666666666666666,
             "#ed7953"
            ],
            [
             0.7777777777777778,
             "#fb9f3a"
            ],
            [
             0.8888888888888888,
             "#fdca26"
            ],
            [
             1,
             "#f0f921"
            ]
           ],
           "sequentialminus": [
            [
             0,
             "#0d0887"
            ],
            [
             0.1111111111111111,
             "#46039f"
            ],
            [
             0.2222222222222222,
             "#7201a8"
            ],
            [
             0.3333333333333333,
             "#9c179e"
            ],
            [
             0.4444444444444444,
             "#bd3786"
            ],
            [
             0.5555555555555556,
             "#d8576b"
            ],
            [
             0.6666666666666666,
             "#ed7953"
            ],
            [
             0.7777777777777778,
             "#fb9f3a"
            ],
            [
             0.8888888888888888,
             "#fdca26"
            ],
            [
             1,
             "#f0f921"
            ]
           ]
          },
          "colorway": [
           "#636efa",
           "#EF553B",
           "#00cc96",
           "#ab63fa",
           "#FFA15A",
           "#19d3f3",
           "#FF6692",
           "#B6E880",
           "#FF97FF",
           "#FECB52"
          ],
          "font": {
           "color": "#2a3f5f"
          },
          "geo": {
           "bgcolor": "white",
           "lakecolor": "white",
           "landcolor": "#E5ECF6",
           "showlakes": true,
           "showland": true,
           "subunitcolor": "white"
          },
          "hoverlabel": {
           "align": "left"
          },
          "hovermode": "closest",
          "mapbox": {
           "style": "light"
          },
          "paper_bgcolor": "white",
          "plot_bgcolor": "#E5ECF6",
          "polar": {
           "angularaxis": {
            "gridcolor": "white",
            "linecolor": "white",
            "ticks": ""
           },
           "bgcolor": "#E5ECF6",
           "radialaxis": {
            "gridcolor": "white",
            "linecolor": "white",
            "ticks": ""
           }
          },
          "scene": {
           "xaxis": {
            "backgroundcolor": "#E5ECF6",
            "gridcolor": "white",
            "gridwidth": 2,
            "linecolor": "white",
            "showbackground": true,
            "ticks": "",
            "zerolinecolor": "white"
           },
           "yaxis": {
            "backgroundcolor": "#E5ECF6",
            "gridcolor": "white",
            "gridwidth": 2,
            "linecolor": "white",
            "showbackground": true,
            "ticks": "",
            "zerolinecolor": "white"
           },
           "zaxis": {
            "backgroundcolor": "#E5ECF6",
            "gridcolor": "white",
            "gridwidth": 2,
            "linecolor": "white",
            "showbackground": true,
            "ticks": "",
            "zerolinecolor": "white"
           }
          },
          "shapedefaults": {
           "line": {
            "color": "#2a3f5f"
           }
          },
          "ternary": {
           "aaxis": {
            "gridcolor": "white",
            "linecolor": "white",
            "ticks": ""
           },
           "baxis": {
            "gridcolor": "white",
            "linecolor": "white",
            "ticks": ""
           },
           "bgcolor": "#E5ECF6",
           "caxis": {
            "gridcolor": "white",
            "linecolor": "white",
            "ticks": ""
           }
          },
          "title": {
           "x": 0.05
          },
          "xaxis": {
           "automargin": true,
           "gridcolor": "white",
           "linecolor": "white",
           "ticks": "",
           "title": {
            "standoff": 15
           },
           "zerolinecolor": "white",
           "zerolinewidth": 2
          },
          "yaxis": {
           "automargin": true,
           "gridcolor": "white",
           "linecolor": "white",
           "ticks": "",
           "title": {
            "standoff": 15
           },
           "zerolinecolor": "white",
           "zerolinewidth": 2
          }
         }
        },
        "title": {
         "text": "Average Daily Active Time by Weekday (Hours)",
         "x": 0.5
        },
        "xaxis": {
         "anchor": "y",
         "domain": [
          0,
          1
         ],
         "title": {
          "text": "Day of Week"
         }
        },
        "yaxis": {
         "anchor": "x",
         "domain": [
          0,
          1
         ],
         "title": {
          "text": "Average Active Time (Hours)"
         }
        }
       }
      }
     },
     "metadata": {},
     "output_type": "display_data"
    },
    {
     "name": "stdout",
     "output_type": "stream",
     "text": [
      "  weekday      mean    median       sum\n",
      "3     Sun  0.811673  0.739877  3.246691\n",
      "1     Mon  0.823389  1.067570  3.293555\n",
      "5     Tue  0.590794  0.741245  2.953969\n",
      "6     Wed  1.314329  0.525875  6.571644\n",
      "4     Thu  0.800796  0.662279  4.003979\n",
      "0     Fri  0.502958  0.400756  2.514790\n",
      "2     Sat  0.388043  0.431849  1.552171\n"
     ]
    }
   ],
   "source": [
    "\n",
    "\n",
    "def analyze_and_plot_browsing_data_plotly(df):\n",
    "    # Convert eventtimeutc to datetime\n",
    "    df['eventtimeutc'] = pd.to_datetime(df['eventtimeutc'], utc=True)\n",
    "    df = df.sort_values(by=['eventtimeutc'])  # Ensure chronological order\n",
    "\n",
    "    # Calculate time difference between consecutive events\n",
    "    df['time_diff'] = df['eventtimeutc'].diff().fillna(pd.Timedelta(0))\n",
    "\n",
    "    # Identify session ends when time difference exceeds 5 minutes\n",
    "    df['session_end'] = df['time_diff'] > pd.Timedelta(minutes=5)\n",
    "    df['session_id'] = df['session_end'].cumsum()\n",
    "\n",
    "    # Group by session_id to get session start and end times\n",
    "    sessions = df.groupby('session_id')['eventtimeutc'].agg(['min', 'max']).reset_index()\n",
    "    sessions.columns = ['session_id', 'session_start', 'session_end']\n",
    "\n",
    "    # Calculate session duration\n",
    "    sessions['duration'] = sessions['session_end'] - sessions['session_start']\n",
    "\n",
    "    # Prepare to collect daily active time\n",
    "    daily_active_time = {}\n",
    "\n",
    "    # Iterate over each session to split its duration into days\n",
    "    for _, session in sessions.iterrows():\n",
    "        start = session['session_start']\n",
    "        end = session['session_end']\n",
    "        duration = session['duration']\n",
    "\n",
    "        if duration.total_seconds() == 0:\n",
    "            continue  # Skip single-event sessions\n",
    "\n",
    "        current_date = start.date()\n",
    "        end_date = end.date()\n",
    "\n",
    "        while current_date <= end_date:\n",
    "            date_start = pd.Timestamp(current_date).tz_localize('UTC')\n",
    "            date_end = date_start + pd.Timedelta(days=1)\n",
    "\n",
    "            overlap_start = max(start, date_start)\n",
    "            overlap_end = min(end, date_end)\n",
    "            overlap_duration = max(pd.Timedelta(0), overlap_end - overlap_start)\n",
    "\n",
    "            overlap_hours = overlap_duration.total_seconds() / 3600\n",
    "\n",
    "            if current_date in daily_active_time:\n",
    "                daily_active_time[current_date] += overlap_hours\n",
    "            else:\n",
    "                daily_active_time[current_date] = overlap_hours\n",
    "\n",
    "            current_date += pd.Timedelta(days=1).to_pytimedelta()\n",
    "\n",
    "    # Convert to DataFrame and cap at 24 hours\n",
    "    dates = sorted(daily_active_time.keys())\n",
    "    hours = [min(daily_active_time[date], 24) for date in dates]\n",
    "    daily_active_time_df = pd.DataFrame({'date': dates, 'active_time_hours': hours})\n",
    "\n",
    "    # Add a 'weekday' column (e.g., \"Mon\", \"Tue\")\n",
    "    daily_active_time_df['weekday'] = daily_active_time_df['date'].apply(\n",
    "        lambda x: x.strftime('%a')  # \"Mon\", \"Tue\", etc.\n",
    "    )\n",
    "\n",
    "    # Group by weekday and compute mean/median/total active time\n",
    "    weekday_stats = daily_active_time_df.groupby('weekday')['active_time_hours'].agg(\n",
    "        ['mean', 'median', 'sum']\n",
    "    ).reset_index()\n",
    "\n",
    "    # Reorder weekdays (Sun=0, Mon=1, ..., Sat=6)\n",
    "    weekday_order = ['Sun', 'Mon', 'Tue', 'Wed', 'Thu', 'Fri', 'Sat']\n",
    "    weekday_stats['weekday'] = pd.Categorical(\n",
    "        weekday_stats['weekday'], \n",
    "        categories=weekday_order, \n",
    "        ordered=True\n",
    "    )\n",
    "    weekday_stats = weekday_stats.sort_values('weekday')\n",
    "\n",
    "    # Plotting: Total Active Time by Weekday\n",
    "    fig = px.bar(\n",
    "        weekday_stats,\n",
    "        x='weekday',\n",
    "        y='sum',\n",
    "        title='Total Active Time by Weekday (Hours)',\n",
    "        labels={'sum': 'Total Active Time (Hours)', 'weekday': 'Day of Week'}\n",
    "    )\n",
    "    fig.update_layout(title_x=0.5)\n",
    "    fig.show()\n",
    "\n",
    "    # Plotting: Average Active Time by Weekday\n",
    "    fig = px.bar(\n",
    "        weekday_stats,\n",
    "        x='weekday',\n",
    "        y='mean',\n",
    "        title='Average Daily Active Time by Weekday (Hours)',\n",
    "        labels={'mean': 'Average Active Time (Hours)', 'weekday': 'Day of Week'}\n",
    "    )\n",
    "    fig.update_layout(title_x=0.5)\n",
    "    fig.show()\n",
    "\n",
    "    return daily_active_time_df, weekday_stats\n",
    "\n",
    "# Example usage\n",
    "daily_df, weekday_stats = analyze_and_plot_browsing_data_plotly(df)\n",
    "print(weekday_stats)"
   ]
  },
  {
   "cell_type": "code",
   "execution_count": 11,
   "id": "dba5cc88",
   "metadata": {},
   "outputs": [
    {
     "data": {
      "image/png": "[encoded data removed]",
      "text/plain": [
       "<Figure size 1400x600 with 2 Axes>"
      ]
     },
     "metadata": {},
     "output_type": "display_data"
    }
   ],
   "source": [
    "\n",
    "df['eventtime'] = pd.to_datetime(df['eventtime'])\n",
    "\n",
    "# Extract hour and day of week\n",
    "df['hour'] = df['eventtime'].dt.hour\n",
    "df['day'] = df['eventtime'].dt.day_name()\n",
    "\n",
    "# Create pivot table\n",
    "heatmap_data = df.pivot_table(index='day', columns='hour', values='base_url', aggfunc='count', fill_value=0)\n",
    "\n",
    "# Reorder days\n",
    "day_order = ['Monday', 'Tuesday', 'Wednesday', 'Thursday', 'Friday', 'Saturday', 'Sunday']\n",
    "heatmap_data = heatmap_data.reindex(day_order)\n",
    "\n",
    "# Apply Gaussian filter\n",
    "smoothed_data = gaussian_filter(heatmap_data, sigma=1)\n",
    "\n",
    "# Plot smoothed heatmap\n",
    "plt.figure(figsize=(14, 6))\n",
    "sns.heatmap(smoothed_data, cmap='YlOrBr', linewidths=0.3, xticklabels=range(24), yticklabels=day_order)\n",
    "plt.title('Hourly Activity Heatmap by Day of Week')\n",
    "plt.xlabel('Hour of Day')\n",
    "plt.ylabel('Day of Week')\n",
    "plt.tight_layout()\n",
    "plt.show()"
   ]
  },
  {
   "cell_type": "code",
   "execution_count": 13,
   "id": "87ad2cb4",
   "metadata": {},
   "outputs": [
    {
     "name": "stderr",
     "output_type": "stream",
     "text": [
      "C:\\Users\\ravibh\\AppData\\Local\\Temp\\ipykernel_21600\\2817355220.py:15: FutureWarning:\n",
      "\n",
      "\n",
      "\n",
      "Passing `palette` without assigning `hue` is deprecated and will be removed in v0.14.0. Assign the `x` variable to `hue` and set `legend=False` for the same effect.\n",
      "\n",
      "\n"
     ]
    },
    {
     "data": {
      "image/png": "[encoded data removed]",
      "text/plain": [
       "<Figure size 1000x500 with 1 Axes>"
      ]
     },
     "metadata": {},
     "output_type": "display_data"
    }
   ],
   "source": [
    "# Convert 'eventtime' to datetime\n",
    "df['eventtime'] = pd.to_datetime(df['eventtime'])\n",
    "\n",
    "# Extract weekday names\n",
    "df['weekday'] = df['eventtime'].dt.day_name()\n",
    "\n",
    "# Define correct weekday order\n",
    "weekday_order = ['Sunday', 'Monday', 'Tuesday', 'Wednesday', 'Thursday', 'Friday', 'Saturday']\n",
    "\n",
    "# Count events per weekday\n",
    "weekday_counts = df['weekday'].value_counts().reindex(weekday_order, fill_value=0)\n",
    "\n",
    "# Plot\n",
    "plt.figure(figsize=(10, 5))\n",
    "sns.barplot(x=weekday_counts.index, y=weekday_counts.values, palette=\"viridis\")\n",
    "plt.title(\"Active Clicks per Weekday\")\n",
    "plt.xlabel(\"Day of Week\")\n",
    "plt.ylabel(\"Number of Clicks\")\n",
    "plt.xticks(rotation=45)\n",
    "plt.tight_layout()\n",
    "plt.show()"
   ]
  },
  {
   "cell_type": "code",
   "execution_count": 14,
   "id": "a97bb102",
   "metadata": {},
   "outputs": [
    {
     "data": {
      "application/vnd.plotly.v1+json": {
       "config": {
        "plotlyServerURL": "https://plot.ly"
       },
       "data": [
        {
         "domain": {
          "x": [
           0,
           1
          ],
          "y": [
           0,
           1
          ]
         },
         "hovertemplate": "category=%{label}<br>count=%{value}<extra></extra>",
         "labels": [
          "search_engine",
          "work_place_tools",
          "job_portal",
          "e_commerce",
          "marketplace",
          "developer_tools",
          "travel_booking",
          "social_media",
          "news_portal",
          "cloud_storage",
          "Other"
         ],
         "legendgroup": "",
         "name": "",
         "showlegend": true,
         "textinfo": "percent+label",
         "type": "pie",
         "values": [
          1406,
          707,
          584,
          547,
          417,
          343,
          225,
          183,
          154,
          130,
          403
         ]
        }
       ],
       "layout": {
        "legend": {
         "tracegroupgap": 0
        },
        "template": {
         "data": {
          "bar": [
           {
            "error_x": {
             "color": "#2a3f5f"
            },
            "error_y": {
             "color": "#2a3f5f"
            },
            "marker": {
             "line": {
              "color": "#E5ECF6",
              "width": 0.5
             },
             "pattern": {
              "fillmode": "overlay",
              "size": 10,
              "solidity": 0.2
             }
            },
            "type": "bar"
           }
          ],
          "barpolar": [
           {
            "marker": {
             "line": {
              "color": "#E5ECF6",
              "width": 0.5
             },
             "pattern": {
              "fillmode": "overlay",
              "size": 10,
              "solidity": 0.2
             }
            },
            "type": "barpolar"
           }
          ],
          "carpet": [
           {
            "aaxis": {
             "endlinecolor": "#2a3f5f",
             "gridcolor": "white",
             "linecolor": "white",
             "minorgridcolor": "white",
             "startlinecolor": "#2a3f5f"
            },
            "baxis": {
             "endlinecolor": "#2a3f5f",
             "gridcolor": "white",
             "linecolor": "white",
             "minorgridcolor": "white",
             "startlinecolor": "#2a3f5f"
            },
            "type": "carpet"
           }
          ],
          "choropleth": [
           {
            "colorbar": {
             "outlinewidth": 0,
             "ticks": ""
            },
            "type": "choropleth"
           }
          ],
          "contour": [
           {
            "colorbar": {
             "outlinewidth": 0,
             "ticks": ""
            },
            "colorscale": [
             [
              0,
              "#0d0887"
             ],
             [
              0.1111111111111111,
              "#46039f"
             ],
             [
              0.2222222222222222,
              "#7201a8"
             ],
             [
              0.3333333333333333,
              "#9c179e"
             ],
             [
              0.4444444444444444,
              "#bd3786"
             ],
             [
              0.5555555555555556,
              "#d8576b"
             ],
             [
              0.6666666666666666,
              "#ed7953"
             ],
             [
              0.7777777777777778,
              "#fb9f3a"
             ],
             [
              0.8888888888888888,
              "#fdca26"
             ],
             [
              1,
              "#f0f921"
             ]
            ],
            "type": "contour"
           }
          ],
          "contourcarpet": [
           {
            "colorbar": {
             "outlinewidth": 0,
             "ticks": ""
            },
            "type": "contourcarpet"
           }
          ],
          "heatmap": [
           {
            "colorbar": {
             "outlinewidth": 0,
             "ticks": ""
            },
            "colorscale": [
             [
              0,
              "#0d0887"
             ],
             [
              0.1111111111111111,
              "#46039f"
             ],
             [
              0.2222222222222222,
              "#7201a8"
             ],
             [
              0.3333333333333333,
              "#9c179e"
             ],
             [
              0.4444444444444444,
              "#bd3786"
             ],
             [
              0.5555555555555556,
              "#d8576b"
             ],
             [
              0.6666666666666666,
              "#ed7953"
             ],
             [
              0.7777777777777778,
              "#fb9f3a"
             ],
             [
              0.8888888888888888,
              "#fdca26"
             ],
             [
              1,
              "#f0f921"
             ]
            ],
            "type": "heatmap"
           }
          ],
          "heatmapgl": [
           {
            "colorbar": {
             "outlinewidth": 0,
             "ticks": ""
            },
            "colorscale": [
             [
              0,
              "#0d0887"
             ],
             [
              0.1111111111111111,
              "#46039f"
             ],
             [
              0.2222222222222222,
              "#7201a8"
             ],
             [
              0.3333333333333333,
              "#9c179e"
             ],
             [
              0.4444444444444444,
              "#bd3786"
             ],
             [
              0.5555555555555556,
              "#d8576b"
             ],
             [
              0.6666666666666666,
              "#ed7953"
             ],
             [
              0.7777777777777778,
              "#fb9f3a"
             ],
             [
              0.8888888888888888,
              "#fdca26"
             ],
             [
              1,
              "#f0f921"
             ]
            ],
            "type": "heatmapgl"
           }
          ],
          "histogram": [
           {
            "marker": {
             "pattern": {
              "fillmode": "overlay",
              "size": 10,
              "solidity": 0.2
             }
            },
            "type": "histogram"
           }
          ],
          "histogram2d": [
           {
            "colorbar": {
             "outlinewidth": 0,
             "ticks": ""
            },
            "colorscale": [
             [
              0,
              "#0d0887"
             ],
             [
              0.1111111111111111,
              "#46039f"
             ],
             [
              0.2222222222222222,
              "#7201a8"
             ],
             [
              0.3333333333333333,
              "#9c179e"
             ],
             [
              0.4444444444444444,
              "#bd3786"
             ],
             [
              0.5555555555555556,
              "#d8576b"
             ],
             [
              0.6666666666666666,
              "#ed7953"
             ],
             [
              0.7777777777777778,
              "#fb9f3a"
             ],
             [
              0.8888888888888888,
              "#fdca26"
             ],
             [
              1,
              "#f0f921"
             ]
            ],
            "type": "histogram2d"
           }
          ],
          "histogram2dcontour": [
           {
            "colorbar": {
             "outlinewidth": 0,
             "ticks": ""
            },
            "colorscale": [
             [
              0,
              "#0d0887"
             ],
             [
              0.1111111111111111,
              "#46039f"
             ],
             [
              0.2222222222222222,
              "#7201a8"
             ],
             [
              0.3333333333333333,
              "#9c179e"
             ],
             [
              0.4444444444444444,
              "#bd3786"
             ],
             [
              0.5555555555555556,
              "#d8576b"
             ],
             [
              0.6666666666666666,
              "#ed7953"
             ],
             [
              0.7777777777777778,
              "#fb9f3a"
             ],
             [
              0.8888888888888888,
              "#fdca26"
             ],
             [
              1,
              "#f0f921"
             ]
            ],
            "type": "histogram2dcontour"
           }
          ],
          "mesh3d": [
           {
            "colorbar": {
             "outlinewidth": 0,
             "ticks": ""
            },
            "type": "mesh3d"
           }
          ],
          "parcoords": [
           {
            "line": {
             "colorbar": {
              "outlinewidth": 0,
              "ticks": ""
             }
            },
            "type": "parcoords"
           }
          ],
          "pie": [
           {
            "automargin": true,
            "type": "pie"
           }
          ],
          "scatter": [
           {
            "fillpattern": {
             "fillmode": "overlay",
             "size": 10,
             "solidity": 0.2
            },
            "type": "scatter"
           }
          ],
          "scatter3d": [
           {
            "line": {
             "colorbar": {
              "outlinewidth": 0,
              "ticks": ""
             }
            },
            "marker": {
             "colorbar": {
              "outlinewidth": 0,
              "ticks": ""
             }
            },
            "type": "scatter3d"
           }
          ],
          "scattercarpet": [
           {
            "marker": {
             "colorbar": {
              "outlinewidth": 0,
              "ticks": ""
             }
            },
            "type": "scattercarpet"
           }
          ],
          "scattergeo": [
           {
            "marker": {
             "colorbar": {
              "outlinewidth": 0,
              "ticks": ""
             }
            },
            "type": "scattergeo"
           }
          ],
          "scattergl": [
           {
            "marker": {
             "colorbar": {
              "outlinewidth": 0,
              "ticks": ""
             }
            },
            "type": "scattergl"
           }
          ],
          "scattermapbox": [
           {
            "marker": {
             "colorbar": {
              "outlinewidth": 0,
              "ticks": ""
             }
            },
            "type": "scattermapbox"
           }
          ],
          "scatterpolar": [
           {
            "marker": {
             "colorbar": {
              "outlinewidth": 0,
              "ticks": ""
             }
            },
            "type": "scatterpolar"
           }
          ],
          "scatterpolargl": [
           {
            "marker": {
             "colorbar": {
              "outlinewidth": 0,
              "ticks": ""
             }
            },
            "type": "scatterpolargl"
           }
          ],
          "scatterternary": [
           {
            "marker": {
             "colorbar": {
              "outlinewidth": 0,
              "ticks": ""
             }
            },
            "type": "scatterternary"
           }
          ],
          "surface": [
           {
            "colorbar": {
             "outlinewidth": 0,
             "ticks": ""
            },
            "colorscale": [
             [
              0,
              "#0d0887"
             ],
             [
              0.1111111111111111,
              "#46039f"
             ],
             [
              0.2222222222222222,
              "#7201a8"
             ],
             [
              0.3333333333333333,
              "#9c179e"
             ],
             [
              0.4444444444444444,
              "#bd3786"
             ],
             [
              0.5555555555555556,
              "#d8576b"
             ],
             [
              0.6666666666666666,
              "#ed7953"
             ],
             [
              0.7777777777777778,
              "#fb9f3a"
             ],
             [
              0.8888888888888888,
              "#fdca26"
             ],
             [
              1,
              "#f0f921"
             ]
            ],
            "type": "surface"
           }
          ],
          "table": [
           {
            "cells": {
             "fill": {
              "color": "#EBF0F8"
             },
             "line": {
              "color": "white"
             }
            },
            "header": {
             "fill": {
              "color": "#C8D4E3"
             },
             "line": {
              "color": "white"
             }
            },
            "type": "table"
           }
          ]
         },
         "layout": {
          "annotationdefaults": {
           "arrowcolor": "#2a3f5f",
           "arrowhead": 0,
           "arrowwidth": 1
          },
          "autotypenumbers": "strict",
          "coloraxis": {
           "colorbar": {
            "outlinewidth": 0,
            "ticks": ""
           }
          },
          "colorscale": {
           "diverging": [
            [
             0,
             "#8e0152"
            ],
            [
             0.1,
             "#c51b7d"
            ],
            [
             0.2,
             "#de77ae"
            ],
            [
             0.3,
             "#f1b6da"
            ],
            [
             0.4,
             "#fde0ef"
            ],
            [
             0.5,
             "#f7f7f7"
            ],
            [
             0.6,
             "#e6f5d0"
            ],
            [
             0.7,
             "#b8e186"
            ],
            [
             0.8,
             "#7fbc41"
            ],
            [
             0.9,
             "#4d9221"
            ],
            [
             1,
             "#276419"
            ]
           ],
           "sequential": [
            [
             0,
             "#0d0887"
            ],
            [
             0.1111111111111111,
             "#46039f"
            ],
            [
             0.2222222222222222,
             "#7201a8"
            ],
            [
             0.3333333333333333,
             "#9c179e"
            ],
            [
             0.4444444444444444,
             "#bd3786"
            ],
            [
             0.5555555555555556,
             "#d8576b"
            ],
            [
             0.6666666666666666,
             "#ed7953"
            ],
            [
             0.7777777777777778,
             "#fb9f3a"
            ],
            [
             0.8888888888888888,
             "#fdca26"
            ],
            [
             1,
             "#f0f921"
            ]
           ],
           "sequentialminus": [
            [
             0,
             "#0d0887"
            ],
            [
             0.1111111111111111,
             "#46039f"
            ],
            [
             0.2222222222222222,
             "#7201a8"
            ],
            [
             0.3333333333333333,
             "#9c179e"
            ],
            [
             0.4444444444444444,
             "#bd3786"
            ],
            [
             0.5555555555555556,
             "#d8576b"
            ],
            [
             0.6666666666666666,
             "#ed7953"
            ],
            [
             0.7777777777777778,
             "#fb9f3a"
            ],
            [
             0.8888888888888888,
             "#fdca26"
            ],
            [
             1,
             "#f0f921"
            ]
           ]
          },
          "colorway": [
           "#636efa",
           "#EF553B",
           "#00cc96",
           "#ab63fa",
           "#FFA15A",
           "#19d3f3",
           "#FF6692",
           "#B6E880",
           "#FF97FF",
           "#FECB52"
          ],
          "font": {
           "color": "#2a3f5f"
          },
          "geo": {
           "bgcolor": "white",
           "lakecolor": "white",
           "landcolor": "#E5ECF6",
           "showlakes": true,
           "showland": true,
           "subunitcolor": "white"
          },
          "hoverlabel": {
           "align": "left"
          },
          "hovermode": "closest",
          "mapbox": {
           "style": "light"
          },
          "paper_bgcolor": "white",
          "plot_bgcolor": "#E5ECF6",
          "polar": {
           "angularaxis": {
            "gridcolor": "white",
            "linecolor": "white",
            "ticks": ""
           },
           "bgcolor": "#E5ECF6",
           "radialaxis": {
            "gridcolor": "white",
            "linecolor": "white",
            "ticks": ""
           }
          },
          "scene": {
           "xaxis": {
            "backgroundcolor": "#E5ECF6",
            "gridcolor": "white",
            "gridwidth": 2,
            "linecolor": "white",
            "showbackground": true,
            "ticks": "",
            "zerolinecolor": "white"
           },
           "yaxis": {
            "backgroundcolor": "#E5ECF6",
            "gridcolor": "white",
            "gridwidth": 2,
            "linecolor": "white",
            "showbackground": true,
            "ticks": "",
            "zerolinecolor": "white"
           },
           "zaxis": {
            "backgroundcolor": "#E5ECF6",
            "gridcolor": "white",
            "gridwidth": 2,
            "linecolor": "white",
            "showbackground": true,
            "ticks": "",
            "zerolinecolor": "white"
           }
          },
          "shapedefaults": {
           "line": {
            "color": "#2a3f5f"
           }
          },
          "ternary": {
           "aaxis": {
            "gridcolor": "white",
            "linecolor": "white",
            "ticks": ""
           },
           "baxis": {
            "gridcolor": "white",
            "linecolor": "white",
            "ticks": ""
           },
           "bgcolor": "#E5ECF6",
           "caxis": {
            "gridcolor": "white",
            "linecolor": "white",
            "ticks": ""
           }
          },
          "title": {
           "x": 0.05
          },
          "xaxis": {
           "automargin": true,
           "gridcolor": "white",
           "linecolor": "white",
           "ticks": "",
           "title": {
            "standoff": 15
           },
           "zerolinecolor": "white",
           "zerolinewidth": 2
          },
          "yaxis": {
           "automargin": true,
           "gridcolor": "white",
           "linecolor": "white",
           "ticks": "",
           "title": {
            "standoff": 15
           },
           "zerolinecolor": "white",
           "zerolinewidth": 2
          }
         }
        },
        "title": {
         "text": "Website Categories Distribution (Top 10 + Other)"
        }
       }
      }
     },
     "metadata": {},
     "output_type": "display_data"
    }
   ],
   "source": [
    "\n",
    "# Pie chart of the length of titles in each cluster\n",
    "category_counts = df['category'].value_counts().reset_index()\n",
    "category_counts.columns = ['category', 'count']\n",
    "\n",
    "# Split top 10 and rest\n",
    "top_10 = category_counts[:10]\n",
    "other = category_counts[10:]\n",
    "\n",
    "# Add 'Other' row\n",
    "other_sum = other['count'].sum()\n",
    "top_10_with_other = pd.concat([top_10, pd.DataFrame([{'category': 'Other', 'count': other_sum}])], ignore_index=True)\n",
    "\n",
    "# Plot the pie chart\n",
    "fig = px.pie(top_10_with_other, values='count', names='category', title='Website Categories Distribution (Top 10 + Other)',)\n",
    "fig.update_traces(textinfo='percent+label')\n",
    "fig.show()"
   ]
  },
  {
   "cell_type": "code",
   "execution_count": 70,
   "id": "75c0f9da",
   "metadata": {},
   "outputs": [
    {
     "data": {
      "application/vnd.plotly.v1+json": {
       "config": {
        "plotlyServerURL": "https://plot.ly"
       },
       "data": [
        {
         "domain": {
          "x": [
           0,
           1
          ],
          "y": [
           0,
           1
          ]
         },
         "hole": 0.7,
         "hovertemplate": "base_url=%{label}<br>count=%{value}<extra></extra>",
         "labels": [
          "advertmobile.net"
         ],
         "legendgroup": "",
         "name": "",
         "showlegend": true,
         "textinfo": "percent+label+value",
         "texttemplate": "%{label}: %{value} (%{percent:.1f}%)",
         "type": "pie",
         "values": [
          1
         ]
        }
       ],
       "layout": {
        "legend": {
         "tracegroupgap": 0
        },
        "template": {
         "data": {
          "bar": [
           {
            "error_x": {
             "color": "#2a3f5f"
            },
            "error_y": {
             "color": "#2a3f5f"
            },
            "marker": {
             "line": {
              "color": "#E5ECF6",
              "width": 0.5
             },
             "pattern": {
              "fillmode": "overlay",
              "size": 10,
              "solidity": 0.2
             }
            },
            "type": "bar"
           }
          ],
          "barpolar": [
           {
            "marker": {
             "line": {
              "color": "#E5ECF6",
              "width": 0.5
             },
             "pattern": {
              "fillmode": "overlay",
              "size": 10,
              "solidity": 0.2
             }
            },
            "type": "barpolar"
           }
          ],
          "carpet": [
           {
            "aaxis": {
             "endlinecolor": "#2a3f5f",
             "gridcolor": "white",
             "linecolor": "white",
             "minorgridcolor": "white",
             "startlinecolor": "#2a3f5f"
            },
            "baxis": {
             "endlinecolor": "#2a3f5f",
             "gridcolor": "white",
             "linecolor": "white",
             "minorgridcolor": "white",
             "startlinecolor": "#2a3f5f"
            },
            "type": "carpet"
           }
          ],
          "choropleth": [
           {
            "colorbar": {
             "outlinewidth": 0,
             "ticks": ""
            },
            "type": "choropleth"
           }
          ],
          "contour": [
           {
            "colorbar": {
             "outlinewidth": 0,
             "ticks": ""
            },
            "colorscale": [
             [
              0,
              "#0d0887"
             ],
             [
              0.1111111111111111,
              "#46039f"
             ],
             [
              0.2222222222222222,
              "#7201a8"
             ],
             [
              0.3333333333333333,
              "#9c179e"
             ],
             [
              0.4444444444444444,
              "#bd3786"
             ],
             [
              0.5555555555555556,
              "#d8576b"
             ],
             [
              0.6666666666666666,
              "#ed7953"
             ],
             [
              0.7777777777777778,
              "#fb9f3a"
             ],
             [
              0.8888888888888888,
              "#fdca26"
             ],
             [
              1,
              "#f0f921"
             ]
            ],
            "type": "contour"
           }
          ],
          "contourcarpet": [
           {
            "colorbar": {
             "outlinewidth": 0,
             "ticks": ""
            },
            "type": "contourcarpet"
           }
          ],
          "heatmap": [
           {
            "colorbar": {
             "outlinewidth": 0,
             "ticks": ""
            },
            "colorscale": [
             [
              0,
              "#0d0887"
             ],
             [
              0.1111111111111111,
              "#46039f"
             ],
             [
              0.2222222222222222,
              "#7201a8"
             ],
             [
              0.3333333333333333,
              "#9c179e"
             ],
             [
              0.4444444444444444,
              "#bd3786"
             ],
             [
              0.5555555555555556,
              "#d8576b"
             ],
             [
              0.6666666666666666,
              "#ed7953"
             ],
             [
              0.7777777777777778,
              "#fb9f3a"
             ],
             [
              0.8888888888888888,
              "#fdca26"
             ],
             [
              1,
              "#f0f921"
             ]
            ],
            "type": "heatmap"
           }
          ],
          "heatmapgl": [
           {
            "colorbar": {
             "outlinewidth": 0,
             "ticks": ""
            },
            "colorscale": [
             [
              0,
              "#0d0887"
             ],
             [
              0.1111111111111111,
              "#46039f"
             ],
             [
              0.2222222222222222,
              "#7201a8"
             ],
             [
              0.3333333333333333,
              "#9c179e"
             ],
             [
              0.4444444444444444,
              "#bd3786"
             ],
             [
              0.5555555555555556,
              "#d8576b"
             ],
             [
              0.6666666666666666,
              "#ed7953"
             ],
             [
              0.7777777777777778,
              "#fb9f3a"
             ],
             [
              0.8888888888888888,
              "#fdca26"
             ],
             [
              1,
              "#f0f921"
             ]
            ],
            "type": "heatmapgl"
           }
          ],
          "histogram": [
           {
            "marker": {
             "pattern": {
              "fillmode": "overlay",
              "size": 10,
              "solidity": 0.2
             }
            },
            "type": "histogram"
           }
          ],
          "histogram2d": [
           {
            "colorbar": {
             "outlinewidth": 0,
             "ticks": ""
            },
            "colorscale": [
             [
              0,
              "#0d0887"
             ],
             [
              0.1111111111111111,
              "#46039f"
             ],
             [
              0.2222222222222222,
              "#7201a8"
             ],
             [
              0.3333333333333333,
              "#9c179e"
             ],
             [
              0.4444444444444444,
              "#bd3786"
             ],
             [
              0.5555555555555556,
              "#d8576b"
             ],
             [
              0.6666666666666666,
              "#ed7953"
             ],
             [
              0.7777777777777778,
              "#fb9f3a"
             ],
             [
              0.8888888888888888,
              "#fdca26"
             ],
             [
              1,
              "#f0f921"
             ]
            ],
            "type": "histogram2d"
           }
          ],
          "histogram2dcontour": [
           {
            "colorbar": {
             "outlinewidth": 0,
             "ticks": ""
            },
            "colorscale": [
             [
              0,
              "#0d0887"
             ],
             [
              0.1111111111111111,
              "#46039f"
             ],
             [
              0.2222222222222222,
              "#7201a8"
             ],
             [
              0.3333333333333333,
              "#9c179e"
             ],
             [
              0.4444444444444444,
              "#bd3786"
             ],
             [
              0.5555555555555556,
              "#d8576b"
             ],
             [
              0.6666666666666666,
              "#ed7953"
             ],
             [
              0.7777777777777778,
              "#fb9f3a"
             ],
             [
              0.8888888888888888,
              "#fdca26"
             ],
             [
              1,
              "#f0f921"
             ]
            ],
            "type": "histogram2dcontour"
           }
          ],
          "mesh3d": [
           {
            "colorbar": {
             "outlinewidth": 0,
             "ticks": ""
            },
            "type": "mesh3d"
           }
          ],
          "parcoords": [
           {
            "line": {
             "colorbar": {
              "outlinewidth": 0,
              "ticks": ""
             }
            },
            "type": "parcoords"
           }
          ],
          "pie": [
           {
            "automargin": true,
            "type": "pie"
           }
          ],
          "scatter": [
           {
            "fillpattern": {
             "fillmode": "overlay",
             "size": 10,
             "solidity": 0.2
            },
            "type": "scatter"
           }
          ],
          "scatter3d": [
           {
            "line": {
             "colorbar": {
              "outlinewidth": 0,
              "ticks": ""
             }
            },
            "marker": {
             "colorbar": {
              "outlinewidth": 0,
              "ticks": ""
             }
            },
            "type": "scatter3d"
           }
          ],
          "scattercarpet": [
           {
            "marker": {
             "colorbar": {
              "outlinewidth": 0,
              "ticks": ""
             }
            },
            "type": "scattercarpet"
           }
          ],
          "scattergeo": [
           {
            "marker": {
             "colorbar": {
              "outlinewidth": 0,
              "ticks": ""
             }
            },
            "type": "scattergeo"
           }
          ],
          "scattergl": [
           {
            "marker": {
             "colorbar": {
              "outlinewidth": 0,
              "ticks": ""
             }
            },
            "type": "scattergl"
           }
          ],
          "scattermapbox": [
           {
            "marker": {
             "colorbar": {
              "outlinewidth": 0,
              "ticks": ""
             }
            },
            "type": "scattermapbox"
           }
          ],
          "scatterpolar": [
           {
            "marker": {
             "colorbar": {
              "outlinewidth": 0,
              "ticks": ""
             }
            },
            "type": "scatterpolar"
           }
          ],
          "scatterpolargl": [
           {
            "marker": {
             "colorbar": {
              "outlinewidth": 0,
              "ticks": ""
             }
            },
            "type": "scatterpolargl"
           }
          ],
          "scatterternary": [
           {
            "marker": {
             "colorbar": {
              "outlinewidth": 0,
              "ticks": ""
             }
            },
            "type": "scatterternary"
           }
          ],
          "surface": [
           {
            "colorbar": {
             "outlinewidth": 0,
             "ticks": ""
            },
            "colorscale": [
             [
              0,
              "#0d0887"
             ],
             [
              0.1111111111111111,
              "#46039f"
             ],
             [
              0.2222222222222222,
              "#7201a8"
             ],
             [
              0.3333333333333333,
              "#9c179e"
             ],
             [
              0.4444444444444444,
              "#bd3786"
             ],
             [
              0.5555555555555556,
              "#d8576b"
             ],
             [
              0.6666666666666666,
              "#ed7953"
             ],
             [
              0.7777777777777778,
              "#fb9f3a"
             ],
             [
              0.8888888888888888,
              "#fdca26"
             ],
             [
              1,
              "#f0f921"
             ]
            ],
            "type": "surface"
           }
          ],
          "table": [
           {
            "cells": {
             "fill": {
              "color": "#EBF0F8"
             },
             "line": {
              "color": "white"
             }
            },
            "header": {
             "fill": {
              "color": "#C8D4E3"
             },
             "line": {
              "color": "white"
             }
            },
            "type": "table"
           }
          ]
         },
         "layout": {
          "annotationdefaults": {
           "arrowcolor": "#2a3f5f",
           "arrowhead": 0,
           "arrowwidth": 1
          },
          "autotypenumbers": "strict",
          "coloraxis": {
           "colorbar": {
            "outlinewidth": 0,
            "ticks": ""
           }
          },
          "colorscale": {
           "diverging": [
            [
             0,
             "#8e0152"
            ],
            [
             0.1,
             "#c51b7d"
            ],
            [
             0.2,
             "#de77ae"
            ],
            [
             0.3,
             "#f1b6da"
            ],
            [
             0.4,
             "#fde0ef"
            ],
            [
             0.5,
             "#f7f7f7"
            ],
            [
             0.6,
             "#e6f5d0"
            ],
            [
             0.7,
             "#b8e186"
            ],
            [
             0.8,
             "#7fbc41"
            ],
            [
             0.9,
             "#4d9221"
            ],
            [
             1,
             "#276419"
            ]
           ],
           "sequential": [
            [
             0,
             "#0d0887"
            ],
            [
             0.1111111111111111,
             "#46039f"
            ],
            [
             0.2222222222222222,
             "#7201a8"
            ],
            [
             0.3333333333333333,
             "#9c179e"
            ],
            [
             0.4444444444444444,
             "#bd3786"
            ],
            [
             0.5555555555555556,
             "#d8576b"
            ],
            [
             0.6666666666666666,
             "#ed7953"
            ],
            [
             0.7777777777777778,
             "#fb9f3a"
            ],
            [
             0.8888888888888888,
             "#fdca26"
            ],
            [
             1,
             "#f0f921"
            ]
           ],
           "sequentialminus": [
            [
             0,
             "#0d0887"
            ],
            [
             0.1111111111111111,
             "#46039f"
            ],
            [
             0.2222222222222222,
             "#7201a8"
            ],
            [
             0.3333333333333333,
             "#9c179e"
            ],
            [
             0.4444444444444444,
             "#bd3786"
            ],
            [
             0.5555555555555556,
             "#d8576b"
            ],
            [
             0.6666666666666666,
             "#ed7953"
            ],
            [
             0.7777777777777778,
             "#fb9f3a"
            ],
            [
             0.8888888888888888,
             "#fdca26"
            ],
            [
             1,
             "#f0f921"
            ]
           ]
          },
          "colorway": [
           "#636efa",
           "#EF553B",
           "#00cc96",
           "#ab63fa",
           "#FFA15A",
           "#19d3f3",
           "#FF6692",
           "#B6E880",
           "#FF97FF",
           "#FECB52"
          ],
          "font": {
           "color": "#2a3f5f"
          },
          "geo": {
           "bgcolor": "white",
           "lakecolor": "white",
           "landcolor": "#E5ECF6",
           "showlakes": true,
           "showland": true,
           "subunitcolor": "white"
          },
          "hoverlabel": {
           "align": "left"
          },
          "hovermode": "closest",
          "mapbox": {
           "style": "light"
          },
          "paper_bgcolor": "white",
          "plot_bgcolor": "#E5ECF6",
          "polar": {
           "angularaxis": {
            "gridcolor": "white",
            "linecolor": "white",
            "ticks": ""
           },
           "bgcolor": "#E5ECF6",
           "radialaxis": {
            "gridcolor": "white",
            "linecolor": "white",
            "ticks": ""
           }
          },
          "scene": {
           "xaxis": {
            "backgroundcolor": "#E5ECF6",
            "gridcolor": "white",
            "gridwidth": 2,
            "linecolor": "white",
            "showbackground": true,
            "ticks": "",
            "zerolinecolor": "white"
           },
           "yaxis": {
            "backgroundcolor": "#E5ECF6",
            "gridcolor": "white",
            "gridwidth": 2,
            "linecolor": "white",
            "showbackground": true,
            "ticks": "",
            "zerolinecolor": "white"
           },
           "zaxis": {
            "backgroundcolor": "#E5ECF6",
            "gridcolor": "white",
            "gridwidth": 2,
            "linecolor": "white",
            "showbackground": true,
            "ticks": "",
            "zerolinecolor": "white"
           }
          },
          "shapedefaults": {
           "line": {
            "color": "#2a3f5f"
           }
          },
          "ternary": {
           "aaxis": {
            "gridcolor": "white",
            "linecolor": "white",
            "ticks": ""
           },
           "baxis": {
            "gridcolor": "white",
            "linecolor": "white",
            "ticks": ""
           },
           "bgcolor": "#E5ECF6",
           "caxis": {
            "gridcolor": "white",
            "linecolor": "white",
            "ticks": ""
           }
          },
          "title": {
           "x": 0.05
          },
          "xaxis": {
           "automargin": true,
           "gridcolor": "white",
           "linecolor": "white",
           "ticks": "",
           "title": {
            "standoff": 15
           },
           "zerolinecolor": "white",
           "zerolinewidth": 2
          },
          "yaxis": {
           "automargin": true,
           "gridcolor": "white",
           "linecolor": "white",
           "ticks": "",
           "title": {
            "standoff": 15
           },
           "zerolinecolor": "white",
           "zerolinewidth": 2
          }
         }
        },
        "title": {
         "text": "Domain Distribution in Category: ad_network"
        }
       }
      }
     },
     "metadata": {},
     "output_type": "display_data"
    },
    {
     "data": {
      "application/vnd.plotly.v1+json": {
       "config": {
        "plotlyServerURL": "https://plot.ly"
       },
       "data": [
        {
         "domain": {
          "x": [
           0,
           1
          ],
          "y": [
           0,
           1
          ]
         },
         "hole": 0.7,
         "hovertemplate": "base_url=%{label}<br>count=%{value}<extra></extra>",
         "labels": [
          "fiveslices.substack.com",
          "blog.duolingo.com",
          "catisoutoftheoffice.com",
          "naturallynidhi.com",
          "blog.google",
          "dev.to",
          "diane-japan.medium.com",
          "frequentmiler.com",
          "myheartbeets.com",
          "the-shooting-star.com",
          "Other"
         ],
         "legendgroup": "",
         "name": "",
         "showlegend": true,
         "textinfo": "percent+label+value",
         "texttemplate": "%{label}: %{value} (%{percent:.1f}%)",
         "type": "pie",
         "values": [
          10,
          2,
          2,
          2,
          1,
          1,
          1,
          1,
          1,
          1,
          5
         ]
        }
       ],
       "layout": {
        "legend": {
         "tracegroupgap": 0
        },
        "template": {
         "data": {
          "bar": [
           {
            "error_x": {
             "color": "#2a3f5f"
            },
            "error_y": {
             "color": "#2a3f5f"
            },
            "marker": {
             "line": {
              "color": "#E5ECF6",
              "width": 0.5
             },
             "pattern": {
              "fillmode": "overlay",
              "size": 10,
              "solidity": 0.2
             }
            },
            "type": "bar"
           }
          ],
          "barpolar": [
           {
            "marker": {
             "line": {
              "color": "#E5ECF6",
              "width": 0.5
             },
             "pattern": {
              "fillmode": "overlay",
              "size": 10,
              "solidity": 0.2
             }
            },
            "type": "barpolar"
           }
          ],
          "carpet": [
           {
            "aaxis": {
             "endlinecolor": "#2a3f5f",
             "gridcolor": "white",
             "linecolor": "white",
             "minorgridcolor": "white",
             "startlinecolor": "#2a3f5f"
            },
            "baxis": {
             "endlinecolor": "#2a3f5f",
             "gridcolor": "white",
             "linecolor": "white",
             "minorgridcolor": "white",
             "startlinecolor": "#2a3f5f"
            },
            "type": "carpet"
           }
          ],
          "choropleth": [
           {
            "colorbar": {
             "outlinewidth": 0,
             "ticks": ""
            },
            "type": "choropleth"
           }
          ],
          "contour": [
           {
            "colorbar": {
             "outlinewidth": 0,
             "ticks": ""
            },
            "colorscale": [
             [
              0,
              "#0d0887"
             ],
             [
              0.1111111111111111,
              "#46039f"
             ],
             [
              0.2222222222222222,
              "#7201a8"
             ],
             [
              0.3333333333333333,
              "#9c179e"
             ],
             [
              0.4444444444444444,
              "#bd3786"
             ],
             [
              0.5555555555555556,
              "#d8576b"
             ],
             [
              0.6666666666666666,
              "#ed7953"
             ],
             [
              0.7777777777777778,
              "#fb9f3a"
             ],
             [
              0.8888888888888888,
              "#fdca26"
             ],
             [
              1,
              "#f0f921"
             ]
            ],
            "type": "contour"
           }
          ],
          "contourcarpet": [
           {
            "colorbar": {
             "outlinewidth": 0,
             "ticks": ""
            },
            "type": "contourcarpet"
           }
          ],
          "heatmap": [
           {
            "colorbar": {
             "outlinewidth": 0,
             "ticks": ""
            },
            "colorscale": [
             [
              0,
              "#0d0887"
             ],
             [
              0.1111111111111111,
              "#46039f"
             ],
             [
              0.2222222222222222,
              "#7201a8"
             ],
             [
              0.3333333333333333,
              "#9c179e"
             ],
             [
              0.4444444444444444,
              "#bd3786"
             ],
             [
              0.5555555555555556,
              "#d8576b"
             ],
             [
              0.6666666666666666,
              "#ed7953"
             ],
             [
              0.7777777777777778,
              "#fb9f3a"
             ],
             [
              0.8888888888888888,
              "#fdca26"
             ],
             [
              1,
              "#f0f921"
             ]
            ],
            "type": "heatmap"
           }
          ],
          "heatmapgl": [
           {
            "colorbar": {
             "outlinewidth": 0,
             "ticks": ""
            },
            "colorscale": [
             [
              0,
              "#0d0887"
             ],
             [
              0.1111111111111111,
              "#46039f"
             ],
             [
              0.2222222222222222,
              "#7201a8"
             ],
             [
              0.3333333333333333,
              "#9c179e"
             ],
             [
              0.4444444444444444,
              "#bd3786"
             ],
             [
              0.5555555555555556,
              "#d8576b"
             ],
             [
              0.6666666666666666,
              "#ed7953"
             ],
             [
              0.7777777777777778,
              "#fb9f3a"
             ],
             [
              0.8888888888888888,
              "#fdca26"
             ],
             [
              1,
              "#f0f921"
             ]
            ],
            "type": "heatmapgl"
           }
          ],
          "histogram": [
           {
            "marker": {
             "pattern": {
              "fillmode": "overlay",
              "size": 10,
              "solidity": 0.2
             }
            },
            "type": "histogram"
           }
          ],
          "histogram2d": [
           {
            "colorbar": {
             "outlinewidth": 0,
             "ticks": ""
            },
            "colorscale": [
             [
              0,
              "#0d0887"
             ],
             [
              0.1111111111111111,
              "#46039f"
             ],
             [
              0.2222222222222222,
              "#7201a8"
             ],
             [
              0.3333333333333333,
              "#9c179e"
             ],
             [
              0.4444444444444444,
              "#bd3786"
             ],
             [
              0.5555555555555556,
              "#d8576b"
             ],
             [
              0.6666666666666666,
              "#ed7953"
             ],
             [
              0.7777777777777778,
              "#fb9f3a"
             ],
             [
              0.8888888888888888,
              "#fdca26"
             ],
             [
              1,
              "#f0f921"
             ]
            ],
            "type": "histogram2d"
           }
          ],
          "histogram2dcontour": [
           {
            "colorbar": {
             "outlinewidth": 0,
             "ticks": ""
            },
            "colorscale": [
             [
              0,
              "#0d0887"
             ],
             [
              0.1111111111111111,
              "#46039f"
             ],
             [
              0.2222222222222222,
              "#7201a8"
             ],
             [
              0.3333333333333333,
              "#9c179e"
             ],
             [
              0.4444444444444444,
              "#bd3786"
             ],
             [
              0.5555555555555556,
              "#d8576b"
             ],
             [
              0.6666666666666666,
              "#ed7953"
             ],
             [
              0.7777777777777778,
              "#fb9f3a"
             ],
             [
              0.8888888888888888,
              "#fdca26"
             ],
             [
              1,
              "#f0f921"
             ]
            ],
            "type": "histogram2dcontour"
           }
          ],
          "mesh3d": [
           {
            "colorbar": {
             "outlinewidth": 0,
             "ticks": ""
            },
            "type": "mesh3d"
           }
          ],
          "parcoords": [
           {
            "line": {
             "colorbar": {
              "outlinewidth": 0,
              "ticks": ""
             }
            },
            "type": "parcoords"
           }
          ],
          "pie": [
           {
            "automargin": true,
            "type": "pie"
           }
          ],
          "scatter": [
           {
            "fillpattern": {
             "fillmode": "overlay",
             "size": 10,
             "solidity": 0.2
            },
            "type": "scatter"
           }
          ],
          "scatter3d": [
           {
            "line": {
             "colorbar": {
              "outlinewidth": 0,
              "ticks": ""
             }
            },
            "marker": {
             "colorbar": {
              "outlinewidth": 0,
              "ticks": ""
             }
            },
            "type": "scatter3d"
           }
          ],
          "scattercarpet": [
           {
            "marker": {
             "colorbar": {
              "outlinewidth": 0,
              "ticks": ""
             }
            },
            "type": "scattercarpet"
           }
          ],
          "scattergeo": [
           {
            "marker": {
             "colorbar": {
              "outlinewidth": 0,
              "ticks": ""
             }
            },
            "type": "scattergeo"
           }
          ],
          "scattergl": [
           {
            "marker": {
             "colorbar": {
              "outlinewidth": 0,
              "ticks": ""
             }
            },
            "type": "scattergl"
           }
          ],
          "scattermapbox": [
           {
            "marker": {
             "colorbar": {
              "outlinewidth": 0,
              "ticks": ""
             }
            },
            "type": "scattermapbox"
           }
          ],
          "scatterpolar": [
           {
            "marker": {
             "colorbar": {
              "outlinewidth": 0,
              "ticks": ""
             }
            },
            "type": "scatterpolar"
           }
          ],
          "scatterpolargl": [
           {
            "marker": {
             "colorbar": {
              "outlinewidth": 0,
              "ticks": ""
             }
            },
            "type": "scatterpolargl"
           }
          ],
          "scatterternary": [
           {
            "marker": {
             "colorbar": {
              "outlinewidth": 0,
              "ticks": ""
             }
            },
            "type": "scatterternary"
           }
          ],
          "surface": [
           {
            "colorbar": {
             "outlinewidth": 0,
             "ticks": ""
            },
            "colorscale": [
             [
              0,
              "#0d0887"
             ],
             [
              0.1111111111111111,
              "#46039f"
             ],
             [
              0.2222222222222222,
              "#7201a8"
             ],
             [
              0.3333333333333333,
              "#9c179e"
             ],
             [
              0.4444444444444444,
              "#bd3786"
             ],
             [
              0.5555555555555556,
              "#d8576b"
             ],
             [
              0.6666666666666666,
              "#ed7953"
             ],
             [
              0.7777777777777778,
              "#fb9f3a"
             ],
             [
              0.8888888888888888,
              "#fdca26"
             ],
             [
              1,
              "#f0f921"
             ]
            ],
            "type": "surface"
           }
          ],
          "table": [
           {
            "cells": {
             "fill": {
              "color": "#EBF0F8"
             },
             "line": {
              "color": "white"
             }
            },
            "header": {
             "fill": {
              "color": "#C8D4E3"
             },
             "line": {
              "color": "white"
             }
            },
            "type": "table"
           }
          ]
         },
         "layout": {
          "annotationdefaults": {
           "arrowcolor": "#2a3f5f",
           "arrowhead": 0,
           "arrowwidth": 1
          },
          "autotypenumbers": "strict",
          "coloraxis": {
           "colorbar": {
            "outlinewidth": 0,
            "ticks": ""
           }
          },
          "colorscale": {
           "diverging": [
            [
             0,
             "#8e0152"
            ],
            [
             0.1,
             "#c51b7d"
            ],
            [
             0.2,
             "#de77ae"
            ],
            [
             0.3,
             "#f1b6da"
            ],
            [
             0.4,
             "#fde0ef"
            ],
            [
             0.5,
             "#f7f7f7"
            ],
            [
             0.6,
             "#e6f5d0"
            ],
            [
             0.7,
             "#b8e186"
            ],
            [
             0.8,
             "#7fbc41"
            ],
            [
             0.9,
             "#4d9221"
            ],
            [
             1,
             "#276419"
            ]
           ],
           "sequential": [
            [
             0,
             "#0d0887"
            ],
            [
             0.1111111111111111,
             "#46039f"
            ],
            [
             0.2222222222222222,
             "#7201a8"
            ],
            [
             0.3333333333333333,
             "#9c179e"
            ],
            [
             0.4444444444444444,
             "#bd3786"
            ],
            [
             0.5555555555555556,
             "#d8576b"
            ],
            [
             0.6666666666666666,
             "#ed7953"
            ],
            [
             0.7777777777777778,
             "#fb9f3a"
            ],
            [
             0.8888888888888888,
             "#fdca26"
            ],
            [
             1,
             "#f0f921"
            ]
           ],
           "sequentialminus": [
            [
             0,
             "#0d0887"
            ],
            [
             0.1111111111111111,
             "#46039f"
            ],
            [
             0.2222222222222222,
             "#7201a8"
            ],
            [
             0.3333333333333333,
             "#9c179e"
            ],
            [
             0.4444444444444444,
             "#bd3786"
            ],
            [
             0.5555555555555556,
             "#d8576b"
            ],
            [
             0.6666666666666666,
             "#ed7953"
            ],
            [
             0.7777777777777778,
             "#fb9f3a"
            ],
            [
             0.8888888888888888,
             "#fdca26"
            ],
            [
             1,
             "#f0f921"
            ]
           ]
          },
          "colorway": [
           "#636efa",
           "#EF553B",
           "#00cc96",
           "#ab63fa",
           "#FFA15A",
           "#19d3f3",
           "#FF6692",
           "#B6E880",
           "#FF97FF",
           "#FECB52"
          ],
          "font": {
           "color": "#2a3f5f"
          },
          "geo": {
           "bgcolor": "white",
           "lakecolor": "white",
           "landcolor": "#E5ECF6",
           "showlakes": true,
           "showland": true,
           "subunitcolor": "white"
          },
          "hoverlabel": {
           "align": "left"
          },
          "hovermode": "closest",
          "mapbox": {
           "style": "light"
          },
          "paper_bgcolor": "white",
          "plot_bgcolor": "#E5ECF6",
          "polar": {
           "angularaxis": {
            "gridcolor": "white",
            "linecolor": "white",
            "ticks": ""
           },
           "bgcolor": "#E5ECF6",
           "radialaxis": {
            "gridcolor": "white",
            "linecolor": "white",
            "ticks": ""
           }
          },
          "scene": {
           "xaxis": {
            "backgroundcolor": "#E5ECF6",
            "gridcolor": "white",
            "gridwidth": 2,
            "linecolor": "white",
            "showbackground": true,
            "ticks": "",
            "zerolinecolor": "white"
           },
           "yaxis": {
            "backgroundcolor": "#E5ECF6",
            "gridcolor": "white",
            "gridwidth": 2,
            "linecolor": "white",
            "showbackground": true,
            "ticks": "",
            "zerolinecolor": "white"
           },
           "zaxis": {
            "backgroundcolor": "#E5ECF6",
            "gridcolor": "white",
            "gridwidth": 2,
            "linecolor": "white",
            "showbackground": true,
            "ticks": "",
            "zerolinecolor": "white"
           }
          },
          "shapedefaults": {
           "line": {
            "color": "#2a3f5f"
           }
          },
          "ternary": {
           "aaxis": {
            "gridcolor": "white",
            "linecolor": "white",
            "ticks": ""
           },
           "baxis": {
            "gridcolor": "white",
            "linecolor": "white",
            "ticks": ""
           },
           "bgcolor": "#E5ECF6",
           "caxis": {
            "gridcolor": "white",
            "linecolor": "white",
            "ticks": ""
           }
          },
          "title": {
           "x": 0.05
          },
          "xaxis": {
           "automargin": true,
           "gridcolor": "white",
           "linecolor": "white",
           "ticks": "",
           "title": {
            "standoff": 15
           },
           "zerolinecolor": "white",
           "zerolinewidth": 2
          },
          "yaxis": {
           "automargin": true,
           "gridcolor": "white",
           "linecolor": "white",
           "ticks": "",
           "title": {
            "standoff": 15
           },
           "zerolinecolor": "white",
           "zerolinewidth": 2
          }
         }
        },
        "title": {
         "text": "Domain Distribution in Category: blogging_platform"
        }
       }
      }
     },
     "metadata": {},
     "output_type": "display_data"
    },
    {
     "data": {
      "application/vnd.plotly.v1+json": {
       "config": {
        "plotlyServerURL": "https://plot.ly"
       },
       "data": [
        {
         "domain": {
          "x": [
           0,
           1
          ],
          "y": [
           0,
           1
          ]
         },
         "hole": 0.7,
         "hovertemplate": "base_url=%{label}<br>count=%{value}<extra></extra>",
         "labels": [
          "pyinsightscom-my.sharepoint.com",
          "onedrive.live.com",
          "drive.google.com",
          "photos.google.com",
          "www.dropbox.com",
          "app.box.com",
          "s3.eu-west-1.amazonaws.com",
          "photos.app.goo.gl",
          "upload.wikimedia.org",
          "www.icloud.com"
         ],
         "legendgroup": "",
         "name": "",
         "showlegend": true,
         "textinfo": "percent+label+value",
         "texttemplate": "%{label}: %{value} (%{percent:.1f}%)",
         "type": "pie",
         "values": [
          52,
          25,
          20,
          16,
          7,
          4,
          3,
          1,
          1,
          1
         ]
        }
       ],
       "layout": {
        "legend": {
         "tracegroupgap": 0
        },
        "template": {
         "data": {
          "bar": [
           {
            "error_x": {
             "color": "#2a3f5f"
            },
            "error_y": {
             "color": "#2a3f5f"
            },
            "marker": {
             "line": {
              "color": "#E5ECF6",
              "width": 0.5
             },
             "pattern": {
              "fillmode": "overlay",
              "size": 10,
              "solidity": 0.2
             }
            },
            "type": "bar"
           }
          ],
          "barpolar": [
           {
            "marker": {
             "line": {
              "color": "#E5ECF6",
              "width": 0.5
             },
             "pattern": {
              "fillmode": "overlay",
              "size": 10,
              "solidity": 0.2
             }
            },
            "type": "barpolar"
           }
          ],
          "carpet": [
           {
            "aaxis": {
             "endlinecolor": "#2a3f5f",
             "gridcolor": "white",
             "linecolor": "white",
             "minorgridcolor": "white",
             "startlinecolor": "#2a3f5f"
            },
            "baxis": {
             "endlinecolor": "#2a3f5f",
             "gridcolor": "white",
             "linecolor": "white",
             "minorgridcolor": "white",
             "startlinecolor": "#2a3f5f"
            },
            "type": "carpet"
           }
          ],
          "choropleth": [
           {
            "colorbar": {
             "outlinewidth": 0,
             "ticks": ""
            },
            "type": "choropleth"
           }
          ],
          "contour": [
           {
            "colorbar": {
             "outlinewidth": 0,
             "ticks": ""
            },
            "colorscale": [
             [
              0,
              "#0d0887"
             ],
             [
              0.1111111111111111,
              "#46039f"
             ],
             [
              0.2222222222222222,
              "#7201a8"
             ],
             [
              0.3333333333333333,
              "#9c179e"
             ],
             [
              0.4444444444444444,
              "#bd3786"
             ],
             [
              0.5555555555555556,
              "#d8576b"
             ],
             [
              0.6666666666666666,
              "#ed7953"
             ],
             [
              0.7777777777777778,
              "#fb9f3a"
             ],
             [
              0.8888888888888888,
              "#fdca26"
             ],
             [
              1,
              "#f0f921"
             ]
            ],
            "type": "contour"
           }
          ],
          "contourcarpet": [
           {
            "colorbar": {
             "outlinewidth": 0,
             "ticks": ""
            },
            "type": "contourcarpet"
           }
          ],
          "heatmap": [
           {
            "colorbar": {
             "outlinewidth": 0,
             "ticks": ""
            },
            "colorscale": [
             [
              0,
              "#0d0887"
             ],
             [
              0.1111111111111111,
              "#46039f"
             ],
             [
              0.2222222222222222,
              "#7201a8"
             ],
             [
              0.3333333333333333,
              "#9c179e"
             ],
             [
              0.4444444444444444,
              "#bd3786"
             ],
             [
              0.5555555555555556,
              "#d8576b"
             ],
             [
              0.6666666666666666,
              "#ed7953"
             ],
             [
              0.7777777777777778,
              "#fb9f3a"
             ],
             [
              0.8888888888888888,
              "#fdca26"
             ],
             [
              1,
              "#f0f921"
             ]
            ],
            "type": "heatmap"
           }
          ],
          "heatmapgl": [
           {
            "colorbar": {
             "outlinewidth": 0,
             "ticks": ""
            },
            "colorscale": [
             [
              0,
              "#0d0887"
             ],
             [
              0.1111111111111111,
              "#46039f"
             ],
             [
              0.2222222222222222,
              "#7201a8"
             ],
             [
              0.3333333333333333,
              "#9c179e"
             ],
             [
              0.4444444444444444,
              "#bd3786"
             ],
             [
              0.5555555555555556,
              "#d8576b"
             ],
             [
              0.6666666666666666,
              "#ed7953"
             ],
             [
              0.7777777777777778,
              "#fb9f3a"
             ],
             [
              0.8888888888888888,
              "#fdca26"
             ],
             [
              1,
              "#f0f921"
             ]
            ],
            "type": "heatmapgl"
           }
          ],
          "histogram": [
           {
            "marker": {
             "pattern": {
              "fillmode": "overlay",
              "size": 10,
              "solidity": 0.2
             }
            },
            "type": "histogram"
           }
          ],
          "histogram2d": [
           {
            "colorbar": {
             "outlinewidth": 0,
             "ticks": ""
            },
            "colorscale": [
             [
              0,
              "#0d0887"
             ],
             [
              0.1111111111111111,
              "#46039f"
             ],
             [
              0.2222222222222222,
              "#7201a8"
             ],
             [
              0.3333333333333333,
              "#9c179e"
             ],
             [
              0.4444444444444444,
              "#bd3786"
             ],
             [
              0.5555555555555556,
              "#d8576b"
             ],
             [
              0.6666666666666666,
              "#ed7953"
             ],
             [
              0.7777777777777778,
              "#fb9f3a"
             ],
             [
              0.8888888888888888,
              "#fdca26"
             ],
             [
              1,
              "#f0f921"
             ]
            ],
            "type": "histogram2d"
           }
          ],
          "histogram2dcontour": [
           {
            "colorbar": {
             "outlinewidth": 0,
             "ticks": ""
            },
            "colorscale": [
             [
              0,
              "#0d0887"
             ],
             [
              0.1111111111111111,
              "#46039f"
             ],
             [
              0.2222222222222222,
              "#7201a8"
             ],
             [
              0.3333333333333333,
              "#9c179e"
             ],
             [
              0.4444444444444444,
              "#bd3786"
             ],
             [
              0.5555555555555556,
              "#d8576b"
             ],
             [
              0.6666666666666666,
              "#ed7953"
             ],
             [
              0.7777777777777778,
              "#fb9f3a"
             ],
             [
              0.8888888888888888,
              "#fdca26"
             ],
             [
              1,
              "#f0f921"
             ]
            ],
            "type": "histogram2dcontour"
           }
          ],
          "mesh3d": [
           {
            "colorbar": {
             "outlinewidth": 0,
             "ticks": ""
            },
            "type": "mesh3d"
           }
          ],
          "parcoords": [
           {
            "line": {
             "colorbar": {
              "outlinewidth": 0,
              "ticks": ""
             }
            },
            "type": "parcoords"
           }
          ],
          "pie": [
           {
            "automargin": true,
            "type": "pie"
           }
          ],
          "scatter": [
           {
            "fillpattern": {
             "fillmode": "overlay",
             "size": 10,
             "solidity": 0.2
            },
            "type": "scatter"
           }
          ],
          "scatter3d": [
           {
            "line": {
             "colorbar": {
              "outlinewidth": 0,
              "ticks": ""
             }
            },
            "marker": {
             "colorbar": {
              "outlinewidth": 0,
              "ticks": ""
             }
            },
            "type": "scatter3d"
           }
          ],
          "scattercarpet": [
           {
            "marker": {
             "colorbar": {
              "outlinewidth": 0,
              "ticks": ""
             }
            },
            "type": "scattercarpet"
           }
          ],
          "scattergeo": [
           {
            "marker": {
             "colorbar": {
              "outlinewidth": 0,
              "ticks": ""
             }
            },
            "type": "scattergeo"
           }
          ],
          "scattergl": [
           {
            "marker": {
             "colorbar": {
              "outlinewidth": 0,
              "ticks": ""
             }
            },
            "type": "scattergl"
           }
          ],
          "scattermapbox": [
           {
            "marker": {
             "colorbar": {
              "outlinewidth": 0,
              "ticks": ""
             }
            },
            "type": "scattermapbox"
           }
          ],
          "scatterpolar": [
           {
            "marker": {
             "colorbar": {
              "outlinewidth": 0,
              "ticks": ""
             }
            },
            "type": "scatterpolar"
           }
          ],
          "scatterpolargl": [
           {
            "marker": {
             "colorbar": {
              "outlinewidth": 0,
              "ticks": ""
             }
            },
            "type": "scatterpolargl"
           }
          ],
          "scatterternary": [
           {
            "marker": {
             "colorbar": {
              "outlinewidth": 0,
              "ticks": ""
             }
            },
            "type": "scatterternary"
           }
          ],
          "surface": [
           {
            "colorbar": {
             "outlinewidth": 0,
             "ticks": ""
            },
            "colorscale": [
             [
              0,
              "#0d0887"
             ],
             [
              0.1111111111111111,
              "#46039f"
             ],
             [
              0.2222222222222222,
              "#7201a8"
             ],
             [
              0.3333333333333333,
              "#9c179e"
             ],
             [
              0.4444444444444444,
              "#bd3786"
             ],
             [
              0.5555555555555556,
              "#d8576b"
             ],
             [
              0.6666666666666666,
              "#ed7953"
             ],
             [
              0.7777777777777778,
              "#fb9f3a"
             ],
             [
              0.8888888888888888,
              "#fdca26"
             ],
             [
              1,
              "#f0f921"
             ]
            ],
            "type": "surface"
           }
          ],
          "table": [
           {
            "cells": {
             "fill": {
              "color": "#EBF0F8"
             },
             "line": {
              "color": "white"
             }
            },
            "header": {
             "fill": {
              "color": "#C8D4E3"
             },
             "line": {
              "color": "white"
             }
            },
            "type": "table"
           }
          ]
         },
         "layout": {
          "annotationdefaults": {
           "arrowcolor": "#2a3f5f",
           "arrowhead": 0,
           "arrowwidth": 1
          },
          "autotypenumbers": "strict",
          "coloraxis": {
           "colorbar": {
            "outlinewidth": 0,
            "ticks": ""
           }
          },
          "colorscale": {
           "diverging": [
            [
             0,
             "#8e0152"
            ],
            [
             0.1,
             "#c51b7d"
            ],
            [
             0.2,
             "#de77ae"
            ],
            [
             0.3,
             "#f1b6da"
            ],
            [
             0.4,
             "#fde0ef"
            ],
            [
             0.5,
             "#f7f7f7"
            ],
            [
             0.6,
             "#e6f5d0"
            ],
            [
             0.7,
             "#b8e186"
            ],
            [
             0.8,
             "#7fbc41"
            ],
            [
             0.9,
             "#4d9221"
            ],
            [
             1,
             "#276419"
            ]
           ],
           "sequential": [
            [
             0,
             "#0d0887"
            ],
            [
             0.1111111111111111,
             "#46039f"
            ],
            [
             0.2222222222222222,
             "#7201a8"
            ],
            [
             0.3333333333333333,
             "#9c179e"
            ],
            [
             0.4444444444444444,
             "#bd3786"
            ],
            [
             0.5555555555555556,
             "#d8576b"
            ],
            [
             0.6666666666666666,
             "#ed7953"
            ],
            [
             0.7777777777777778,
             "#fb9f3a"
            ],
            [
             0.8888888888888888,
             "#fdca26"
            ],
            [
             1,
             "#f0f921"
            ]
           ],
           "sequentialminus": [
            [
             0,
             "#0d0887"
            ],
            [
             0.1111111111111111,
             "#46039f"
            ],
            [
             0.2222222222222222,
             "#7201a8"
            ],
            [
             0.3333333333333333,
             "#9c179e"
            ],
            [
             0.4444444444444444,
             "#bd3786"
            ],
            [
             0.5555555555555556,
             "#d8576b"
            ],
            [
             0.6666666666666666,
             "#ed7953"
            ],
            [
             0.7777777777777778,
             "#fb9f3a"
            ],
            [
             0.8888888888888888,
             "#fdca26"
            ],
            [
             1,
             "#f0f921"
            ]
           ]
          },
          "colorway": [
           "#636efa",
           "#EF553B",
           "#00cc96",
           "#ab63fa",
           "#FFA15A",
           "#19d3f3",
           "#FF6692",
           "#B6E880",
           "#FF97FF",
           "#FECB52"
          ],
          "font": {
           "color": "#2a3f5f"
          },
          "geo": {
           "bgcolor": "white",
           "lakecolor": "white",
           "landcolor": "#E5ECF6",
           "showlakes": true,
           "showland": true,
           "subunitcolor": "white"
          },
          "hoverlabel": {
           "align": "left"
          },
          "hovermode": "closest",
          "mapbox": {
           "style": "light"
          },
          "paper_bgcolor": "white",
          "plot_bgcolor": "#E5ECF6",
          "polar": {
           "angularaxis": {
            "gridcolor": "white",
            "linecolor": "white",
            "ticks": ""
           },
           "bgcolor": "#E5ECF6",
           "radialaxis": {
            "gridcolor": "white",
            "linecolor": "white",
            "ticks": ""
           }
          },
          "scene": {
           "xaxis": {
            "backgroundcolor": "#E5ECF6",
            "gridcolor": "white",
            "gridwidth": 2,
            "linecolor": "white",
            "showbackground": true,
            "ticks": "",
            "zerolinecolor": "white"
           },
           "yaxis": {
            "backgroundcolor": "#E5ECF6",
            "gridcolor": "white",
            "gridwidth": 2,
            "linecolor": "white",
            "showbackground": true,
            "ticks": "",
            "zerolinecolor": "white"
           },
           "zaxis": {
            "backgroundcolor": "#E5ECF6",
            "gridcolor": "white",
            "gridwidth": 2,
            "linecolor": "white",
            "showbackground": true,
            "ticks": "",
            "zerolinecolor": "white"
           }
          },
          "shapedefaults": {
           "line": {
            "color": "#2a3f5f"
           }
          },
          "ternary": {
           "aaxis": {
            "gridcolor": "white",
            "linecolor": "white",
            "ticks": ""
           },
           "baxis": {
            "gridcolor": "white",
            "linecolor": "white",
            "ticks": ""
           },
           "bgcolor": "#E5ECF6",
           "caxis": {
            "gridcolor": "white",
            "linecolor": "white",
            "ticks": ""
           }
          },
          "title": {
           "x": 0.05
          },
          "xaxis": {
           "automargin": true,
           "gridcolor": "white",
           "linecolor": "white",
           "ticks": "",
           "title": {
            "standoff": 15
           },
           "zerolinecolor": "white",
           "zerolinewidth": 2
          },
          "yaxis": {
           "automargin": true,
           "gridcolor": "white",
           "linecolor": "white",
           "ticks": "",
           "title": {
            "standoff": 15
           },
           "zerolinecolor": "white",
           "zerolinewidth": 2
          }
         }
        },
        "title": {
         "text": "Domain Distribution in Category: cloud_storage"
        }
       }
      }
     },
     "metadata": {},
     "output_type": "display_data"
    },
    {
     "data": {
      "application/vnd.plotly.v1+json": {
       "config": {
        "plotlyServerURL": "https://plot.ly"
       },
       "data": [
        {
         "domain": {
          "x": [
           0,
           1
          ],
          "y": [
           0,
           1
          ]
         },
         "hole": 0.7,
         "hovertemplate": "base_url=%{label}<br>count=%{value}<extra></extra>",
         "labels": [
          "eu-west-1.console.aws.amazon.com",
          "gitlab.com",
          "app.pinecone.io",
          "py-insights.com",
          "chrome.google.com",
          "us-east-1.console.aws.amazon.com",
          "signin.aws.amazon.com",
          "dashboard.branch.io",
          "www.gozerog.com",
          "www.mermaidchart.com",
          "Other"
         ],
         "legendgroup": "",
         "name": "",
         "showlegend": true,
         "textinfo": "percent+label+value",
         "texttemplate": "%{label}: %{value} (%{percent:.1f}%)",
         "type": "pie",
         "values": [
          128,
          71,
          18,
          17,
          17,
          14,
          12,
          10,
          8,
          7,
          41
         ]
        }
       ],
       "layout": {
        "legend": {
         "tracegroupgap": 0
        },
        "template": {
         "data": {
          "bar": [
           {
            "error_x": {
             "color": "#2a3f5f"
            },
            "error_y": {
             "color": "#2a3f5f"
            },
            "marker": {
             "line": {
              "color": "#E5ECF6",
              "width": 0.5
             },
             "pattern": {
              "fillmode": "overlay",
              "size": 10,
              "solidity": 0.2
             }
            },
            "type": "bar"
           }
          ],
          "barpolar": [
           {
            "marker": {
             "line": {
              "color": "#E5ECF6",
              "width": 0.5
             },
             "pattern": {
              "fillmode": "overlay",
              "size": 10,
              "solidity": 0.2
             }
            },
            "type": "barpolar"
           }
          ],
          "carpet": [
           {
            "aaxis": {
             "endlinecolor": "#2a3f5f",
             "gridcolor": "white",
             "linecolor": "white",
             "minorgridcolor": "white",
             "startlinecolor": "#2a3f5f"
            },
            "baxis": {
             "endlinecolor": "#2a3f5f",
             "gridcolor": "white",
             "linecolor": "white",
             "minorgridcolor": "white",
             "startlinecolor": "#2a3f5f"
            },
            "type": "carpet"
           }
          ],
          "choropleth": [
           {
            "colorbar": {
             "outlinewidth": 0,
             "ticks": ""
            },
            "type": "choropleth"
           }
          ],
          "contour": [
           {
            "colorbar": {
             "outlinewidth": 0,
             "ticks": ""
            },
            "colorscale": [
             [
              0,
              "#0d0887"
             ],
             [
              0.1111111111111111,
              "#46039f"
             ],
             [
              0.2222222222222222,
              "#7201a8"
             ],
             [
              0.3333333333333333,
              "#9c179e"
             ],
             [
              0.4444444444444444,
              "#bd3786"
             ],
             [
              0.5555555555555556,
              "#d8576b"
             ],
             [
              0.6666666666666666,
              "#ed7953"
             ],
             [
              0.7777777777777778,
              "#fb9f3a"
             ],
             [
              0.8888888888888888,
              "#fdca26"
             ],
             [
              1,
              "#f0f921"
             ]
            ],
            "type": "contour"
           }
          ],
          "contourcarpet": [
           {
            "colorbar": {
             "outlinewidth": 0,
             "ticks": ""
            },
            "type": "contourcarpet"
           }
          ],
          "heatmap": [
           {
            "colorbar": {
             "outlinewidth": 0,
             "ticks": ""
            },
            "colorscale": [
             [
              0,
              "#0d0887"
             ],
             [
              0.1111111111111111,
              "#46039f"
             ],
             [
              0.2222222222222222,
              "#7201a8"
             ],
             [
              0.3333333333333333,
              "#9c179e"
             ],
             [
              0.4444444444444444,
              "#bd3786"
             ],
             [
              0.5555555555555556,
              "#d8576b"
             ],
             [
              0.6666666666666666,
              "#ed7953"
             ],
             [
              0.7777777777777778,
              "#fb9f3a"
             ],
             [
              0.8888888888888888,
              "#fdca26"
             ],
             [
              1,
              "#f0f921"
             ]
            ],
            "type": "heatmap"
           }
          ],
          "heatmapgl": [
           {
            "colorbar": {
             "outlinewidth": 0,
             "ticks": ""
            },
            "colorscale": [
             [
              0,
              "#0d0887"
             ],
             [
              0.1111111111111111,
              "#46039f"
             ],
             [
              0.2222222222222222,
              "#7201a8"
             ],
             [
              0.3333333333333333,
              "#9c179e"
             ],
             [
              0.4444444444444444,
              "#bd3786"
             ],
             [
              0.5555555555555556,
              "#d8576b"
             ],
             [
              0.6666666666666666,
              "#ed7953"
             ],
             [
              0.7777777777777778,
              "#fb9f3a"
             ],
             [
              0.8888888888888888,
              "#fdca26"
             ],
             [
              1,
              "#f0f921"
             ]
            ],
            "type": "heatmapgl"
           }
          ],
          "histogram": [
           {
            "marker": {
             "pattern": {
              "fillmode": "overlay",
              "size": 10,
              "solidity": 0.2
             }
            },
            "type": "histogram"
           }
          ],
          "histogram2d": [
           {
            "colorbar": {
             "outlinewidth": 0,
             "ticks": ""
            },
            "colorscale": [
             [
              0,
              "#0d0887"
             ],
             [
              0.1111111111111111,
              "#46039f"
             ],
             [
              0.2222222222222222,
              "#7201a8"
             ],
             [
              0.3333333333333333,
              "#9c179e"
             ],
             [
              0.4444444444444444,
              "#bd3786"
             ],
             [
              0.5555555555555556,
              "#d8576b"
             ],
             [
              0.6666666666666666,
              "#ed7953"
             ],
             [
              0.7777777777777778,
              "#fb9f3a"
             ],
             [
              0.8888888888888888,
              "#fdca26"
             ],
             [
              1,
              "#f0f921"
             ]
            ],
            "type": "histogram2d"
           }
          ],
          "histogram2dcontour": [
           {
            "colorbar": {
             "outlinewidth": 0,
             "ticks": ""
            },
            "colorscale": [
             [
              0,
              "#0d0887"
             ],
             [
              0.1111111111111111,
              "#46039f"
             ],
             [
              0.2222222222222222,
              "#7201a8"
             ],
             [
              0.3333333333333333,
              "#9c179e"
             ],
             [
              0.4444444444444444,
              "#bd3786"
             ],
             [
              0.5555555555555556,
              "#d8576b"
             ],
             [
              0.6666666666666666,
              "#ed7953"
             ],
             [
              0.7777777777777778,
              "#fb9f3a"
             ],
             [
              0.8888888888888888,
              "#fdca26"
             ],
             [
              1,
              "#f0f921"
             ]
            ],
            "type": "histogram2dcontour"
           }
          ],
          "mesh3d": [
           {
            "colorbar": {
             "outlinewidth": 0,
             "ticks": ""
            },
            "type": "mesh3d"
           }
          ],
          "parcoords": [
           {
            "line": {
             "colorbar": {
              "outlinewidth": 0,
              "ticks": ""
             }
            },
            "type": "parcoords"
           }
          ],
          "pie": [
           {
            "automargin": true,
            "type": "pie"
           }
          ],
          "scatter": [
           {
            "fillpattern": {
             "fillmode": "overlay",
             "size": 10,
             "solidity": 0.2
            },
            "type": "scatter"
           }
          ],
          "scatter3d": [
           {
            "line": {
             "colorbar": {
              "outlinewidth": 0,
              "ticks": ""
             }
            },
            "marker": {
             "colorbar": {
              "outlinewidth": 0,
              "ticks": ""
             }
            },
            "type": "scatter3d"
           }
          ],
          "scattercarpet": [
           {
            "marker": {
             "colorbar": {
              "outlinewidth": 0,
              "ticks": ""
             }
            },
            "type": "scattercarpet"
           }
          ],
          "scattergeo": [
           {
            "marker": {
             "colorbar": {
              "outlinewidth": 0,
              "ticks": ""
             }
            },
            "type": "scattergeo"
           }
          ],
          "scattergl": [
           {
            "marker": {
             "colorbar": {
              "outlinewidth": 0,
              "ticks": ""
             }
            },
            "type": "scattergl"
           }
          ],
          "scattermapbox": [
           {
            "marker": {
             "colorbar": {
              "outlinewidth": 0,
              "ticks": ""
             }
            },
            "type": "scattermapbox"
           }
          ],
          "scatterpolar": [
           {
            "marker": {
             "colorbar": {
              "outlinewidth": 0,
              "ticks": ""
             }
            },
            "type": "scatterpolar"
           }
          ],
          "scatterpolargl": [
           {
            "marker": {
             "colorbar": {
              "outlinewidth": 0,
              "ticks": ""
             }
            },
            "type": "scatterpolargl"
           }
          ],
          "scatterternary": [
           {
            "marker": {
             "colorbar": {
              "outlinewidth": 0,
              "ticks": ""
             }
            },
            "type": "scatterternary"
           }
          ],
          "surface": [
           {
            "colorbar": {
             "outlinewidth": 0,
             "ticks": ""
            },
            "colorscale": [
             [
              0,
              "#0d0887"
             ],
             [
              0.1111111111111111,
              "#46039f"
             ],
             [
              0.2222222222222222,
              "#7201a8"
             ],
             [
              0.3333333333333333,
              "#9c179e"
             ],
             [
              0.4444444444444444,
              "#bd3786"
             ],
             [
              0.5555555555555556,
              "#d8576b"
             ],
             [
              0.6666666666666666,
              "#ed7953"
             ],
             [
              0.7777777777777778,
              "#fb9f3a"
             ],
             [
              0.8888888888888888,
              "#fdca26"
             ],
             [
              1,
              "#f0f921"
             ]
            ],
            "type": "surface"
           }
          ],
          "table": [
           {
            "cells": {
             "fill": {
              "color": "#EBF0F8"
             },
             "line": {
              "color": "white"
             }
            },
            "header": {
             "fill": {
              "color": "#C8D4E3"
             },
             "line": {
              "color": "white"
             }
            },
            "type": "table"
           }
          ]
         },
         "layout": {
          "annotationdefaults": {
           "arrowcolor": "#2a3f5f",
           "arrowhead": 0,
           "arrowwidth": 1
          },
          "autotypenumbers": "strict",
          "coloraxis": {
           "colorbar": {
            "outlinewidth": 0,
            "ticks": ""
           }
          },
          "colorscale": {
           "diverging": [
            [
             0,
             "#8e0152"
            ],
            [
             0.1,
             "#c51b7d"
            ],
            [
             0.2,
             "#de77ae"
            ],
            [
             0.3,
             "#f1b6da"
            ],
            [
             0.4,
             "#fde0ef"
            ],
            [
             0.5,
             "#f7f7f7"
            ],
            [
             0.6,
             "#e6f5d0"
            ],
            [
             0.7,
             "#b8e186"
            ],
            [
             0.8,
             "#7fbc41"
            ],
            [
             0.9,
             "#4d9221"
            ],
            [
             1,
             "#276419"
            ]
           ],
           "sequential": [
            [
             0,
             "#0d0887"
            ],
            [
             0.1111111111111111,
             "#46039f"
            ],
            [
             0.2222222222222222,
             "#7201a8"
            ],
            [
             0.3333333333333333,
             "#9c179e"
            ],
            [
             0.4444444444444444,
             "#bd3786"
            ],
            [
             0.5555555555555556,
             "#d8576b"
            ],
            [
             0.6666666666666666,
             "#ed7953"
            ],
            [
             0.7777777777777778,
             "#fb9f3a"
            ],
            [
             0.8888888888888888,
             "#fdca26"
            ],
            [
             1,
             "#f0f921"
            ]
           ],
           "sequentialminus": [
            [
             0,
             "#0d0887"
            ],
            [
             0.1111111111111111,
             "#46039f"
            ],
            [
             0.2222222222222222,
             "#7201a8"
            ],
            [
             0.3333333333333333,
             "#9c179e"
            ],
            [
             0.4444444444444444,
             "#bd3786"
            ],
            [
             0.5555555555555556,
             "#d8576b"
            ],
            [
             0.6666666666666666,
             "#ed7953"
            ],
            [
             0.7777777777777778,
             "#fb9f3a"
            ],
            [
             0.8888888888888888,
             "#fdca26"
            ],
            [
             1,
             "#f0f921"
            ]
           ]
          },
          "colorway": [
           "#636efa",
           "#EF553B",
           "#00cc96",
           "#ab63fa",
           "#FFA15A",
           "#19d3f3",
           "#FF6692",
           "#B6E880",
           "#FF97FF",
           "#FECB52"
          ],
          "font": {
           "color": "#2a3f5f"
          },
          "geo": {
           "bgcolor": "white",
           "lakecolor": "white",
           "landcolor": "#E5ECF6",
           "showlakes": true,
           "showland": true,
           "subunitcolor": "white"
          },
          "hoverlabel": {
           "align": "left"
          },
          "hovermode": "closest",
          "mapbox": {
           "style": "light"
          },
          "paper_bgcolor": "white",
          "plot_bgcolor": "#E5ECF6",
          "polar": {
           "angularaxis": {
            "gridcolor": "white",
            "linecolor": "white",
            "ticks": ""
           },
           "bgcolor": "#E5ECF6",
           "radialaxis": {
            "gridcolor": "white",
            "linecolor": "white",
            "ticks": ""
           }
          },
          "scene": {
           "xaxis": {
            "backgroundcolor": "#E5ECF6",
            "gridcolor": "white",
            "gridwidth": 2,
            "linecolor": "white",
            "showbackground": true,
            "ticks": "",
            "zerolinecolor": "white"
           },
           "yaxis": {
            "backgroundcolor": "#E5ECF6",
            "gridcolor": "white",
            "gridwidth": 2,
            "linecolor": "white",
            "showbackground": true,
            "ticks": "",
            "zerolinecolor": "white"
           },
           "zaxis": {
            "backgroundcolor": "#E5ECF6",
            "gridcolor": "white",
            "gridwidth": 2,
            "linecolor": "white",
            "showbackground": true,
            "ticks": "",
            "zerolinecolor": "white"
           }
          },
          "shapedefaults": {
           "line": {
            "color": "#2a3f5f"
           }
          },
          "ternary": {
           "aaxis": {
            "gridcolor": "white",
            "linecolor": "white",
            "ticks": ""
           },
           "baxis": {
            "gridcolor": "white",
            "linecolor": "white",
            "ticks": ""
           },
           "bgcolor": "#E5ECF6",
           "caxis": {
            "gridcolor": "white",
            "linecolor": "white",
            "ticks": ""
           }
          },
          "title": {
           "x": 0.05
          },
          "xaxis": {
           "automargin": true,
           "gridcolor": "white",
           "linecolor": "white",
           "ticks": "",
           "title": {
            "standoff": 15
           },
           "zerolinecolor": "white",
           "zerolinewidth": 2
          },
          "yaxis": {
           "automargin": true,
           "gridcolor": "white",
           "linecolor": "white",
           "ticks": "",
           "title": {
            "standoff": 15
           },
           "zerolinecolor": "white",
           "zerolinewidth": 2
          }
         }
        },
        "title": {
         "text": "Domain Distribution in Category: developer_tools"
        }
       }
      }
     },
     "metadata": {},
     "output_type": "display_data"
    },
    {
     "data": {
      "application/vnd.plotly.v1+json": {
       "config": {
        "plotlyServerURL": "https://plot.ly"
       },
       "data": [
        {
         "domain": {
          "x": [
           0,
           1
          ],
          "y": [
           0,
           1
          ]
         },
         "hole": 0.7,
         "hovertemplate": "base_url=%{label}<br>count=%{value}<extra></extra>",
         "labels": [
          "www.amazon.in",
          "www.tractorsupply.com",
          "www.homedepot.com",
          "htmltemplates.co",
          "www.flipkart.com",
          "www.amazon.com",
          "silmedspa.com",
          "quickpay.hmshost.com",
          "www.target.com",
          "client.ipostalmail.net",
          "Other"
         ],
         "legendgroup": "",
         "name": "",
         "showlegend": true,
         "textinfo": "percent+label+value",
         "texttemplate": "%{label}: %{value} (%{percent:.1f}%)",
         "type": "pie",
         "values": [
          123,
          33,
          32,
          17,
          17,
          17,
          14,
          13,
          13,
          13,
          255
         ]
        }
       ],
       "layout": {
        "legend": {
         "tracegroupgap": 0
        },
        "template": {
         "data": {
          "bar": [
           {
            "error_x": {
             "color": "#2a3f5f"
            },
            "error_y": {
             "color": "#2a3f5f"
            },
            "marker": {
             "line": {
              "color": "#E5ECF6",
              "width": 0.5
             },
             "pattern": {
              "fillmode": "overlay",
              "size": 10,
              "solidity": 0.2
             }
            },
            "type": "bar"
           }
          ],
          "barpolar": [
           {
            "marker": {
             "line": {
              "color": "#E5ECF6",
              "width": 0.5
             },
             "pattern": {
              "fillmode": "overlay",
              "size": 10,
              "solidity": 0.2
             }
            },
            "type": "barpolar"
           }
          ],
          "carpet": [
           {
            "aaxis": {
             "endlinecolor": "#2a3f5f",
             "gridcolor": "white",
             "linecolor": "white",
             "minorgridcolor": "white",
             "startlinecolor": "#2a3f5f"
            },
            "baxis": {
             "endlinecolor": "#2a3f5f",
             "gridcolor": "white",
             "linecolor": "white",
             "minorgridcolor": "white",
             "startlinecolor": "#2a3f5f"
            },
            "type": "carpet"
           }
          ],
          "choropleth": [
           {
            "colorbar": {
             "outlinewidth": 0,
             "ticks": ""
            },
            "type": "choropleth"
           }
          ],
          "contour": [
           {
            "colorbar": {
             "outlinewidth": 0,
             "ticks": ""
            },
            "colorscale": [
             [
              0,
              "#0d0887"
             ],
             [
              0.1111111111111111,
              "#46039f"
             ],
             [
              0.2222222222222222,
              "#7201a8"
             ],
             [
              0.3333333333333333,
              "#9c179e"
             ],
             [
              0.4444444444444444,
              "#bd3786"
             ],
             [
              0.5555555555555556,
              "#d8576b"
             ],
             [
              0.6666666666666666,
              "#ed7953"
             ],
             [
              0.7777777777777778,
              "#fb9f3a"
             ],
             [
              0.8888888888888888,
              "#fdca26"
             ],
             [
              1,
              "#f0f921"
             ]
            ],
            "type": "contour"
           }
          ],
          "contourcarpet": [
           {
            "colorbar": {
             "outlinewidth": 0,
             "ticks": ""
            },
            "type": "contourcarpet"
           }
          ],
          "heatmap": [
           {
            "colorbar": {
             "outlinewidth": 0,
             "ticks": ""
            },
            "colorscale": [
             [
              0,
              "#0d0887"
             ],
             [
              0.1111111111111111,
              "#46039f"
             ],
             [
              0.2222222222222222,
              "#7201a8"
             ],
             [
              0.3333333333333333,
              "#9c179e"
             ],
             [
              0.4444444444444444,
              "#bd3786"
             ],
             [
              0.5555555555555556,
              "#d8576b"
             ],
             [
              0.6666666666666666,
              "#ed7953"
             ],
             [
              0.7777777777777778,
              "#fb9f3a"
             ],
             [
              0.8888888888888888,
              "#fdca26"
             ],
             [
              1,
              "#f0f921"
             ]
            ],
            "type": "heatmap"
           }
          ],
          "heatmapgl": [
           {
            "colorbar": {
             "outlinewidth": 0,
             "ticks": ""
            },
            "colorscale": [
             [
              0,
              "#0d0887"
             ],
             [
              0.1111111111111111,
              "#46039f"
             ],
             [
              0.2222222222222222,
              "#7201a8"
             ],
             [
              0.3333333333333333,
              "#9c179e"
             ],
             [
              0.4444444444444444,
              "#bd3786"
             ],
             [
              0.5555555555555556,
              "#d8576b"
             ],
             [
              0.6666666666666666,
              "#ed7953"
             ],
             [
              0.7777777777777778,
              "#fb9f3a"
             ],
             [
              0.8888888888888888,
              "#fdca26"
             ],
             [
              1,
              "#f0f921"
             ]
            ],
            "type": "heatmapgl"
           }
          ],
          "histogram": [
           {
            "marker": {
             "pattern": {
              "fillmode": "overlay",
              "size": 10,
              "solidity": 0.2
             }
            },
            "type": "histogram"
           }
          ],
          "histogram2d": [
           {
            "colorbar": {
             "outlinewidth": 0,
             "ticks": ""
            },
            "colorscale": [
             [
              0,
              "#0d0887"
             ],
             [
              0.1111111111111111,
              "#46039f"
             ],
             [
              0.2222222222222222,
              "#7201a8"
             ],
             [
              0.3333333333333333,
              "#9c179e"
             ],
             [
              0.4444444444444444,
              "#bd3786"
             ],
             [
              0.5555555555555556,
              "#d8576b"
             ],
             [
              0.6666666666666666,
              "#ed7953"
             ],
             [
              0.7777777777777778,
              "#fb9f3a"
             ],
             [
              0.8888888888888888,
              "#fdca26"
             ],
             [
              1,
              "#f0f921"
             ]
            ],
            "type": "histogram2d"
           }
          ],
          "histogram2dcontour": [
           {
            "colorbar": {
             "outlinewidth": 0,
             "ticks": ""
            },
            "colorscale": [
             [
              0,
              "#0d0887"
             ],
             [
              0.1111111111111111,
              "#46039f"
             ],
             [
              0.2222222222222222,
              "#7201a8"
             ],
             [
              0.3333333333333333,
              "#9c179e"
             ],
             [
              0.4444444444444444,
              "#bd3786"
             ],
             [
              0.5555555555555556,
              "#d8576b"
             ],
             [
              0.6666666666666666,
              "#ed7953"
             ],
             [
              0.7777777777777778,
              "#fb9f3a"
             ],
             [
              0.8888888888888888,
              "#fdca26"
             ],
             [
              1,
              "#f0f921"
             ]
            ],
            "type": "histogram2dcontour"
           }
          ],
          "mesh3d": [
           {
            "colorbar": {
             "outlinewidth": 0,
             "ticks": ""
            },
            "type": "mesh3d"
           }
          ],
          "parcoords": [
           {
            "line": {
             "colorbar": {
              "outlinewidth": 0,
              "ticks": ""
             }
            },
            "type": "parcoords"
           }
          ],
          "pie": [
           {
            "automargin": true,
            "type": "pie"
           }
          ],
          "scatter": [
           {
            "fillpattern": {
             "fillmode": "overlay",
             "size": 10,
             "solidity": 0.2
            },
            "type": "scatter"
           }
          ],
          "scatter3d": [
           {
            "line": {
             "colorbar": {
              "outlinewidth": 0,
              "ticks": ""
             }
            },
            "marker": {
             "colorbar": {
              "outlinewidth": 0,
              "ticks": ""
             }
            },
            "type": "scatter3d"
           }
          ],
          "scattercarpet": [
           {
            "marker": {
             "colorbar": {
              "outlinewidth": 0,
              "ticks": ""
             }
            },
            "type": "scattercarpet"
           }
          ],
          "scattergeo": [
           {
            "marker": {
             "colorbar": {
              "outlinewidth": 0,
              "ticks": ""
             }
            },
            "type": "scattergeo"
           }
          ],
          "scattergl": [
           {
            "marker": {
             "colorbar": {
              "outlinewidth": 0,
              "ticks": ""
             }
            },
            "type": "scattergl"
           }
          ],
          "scattermapbox": [
           {
            "marker": {
             "colorbar": {
              "outlinewidth": 0,
              "ticks": ""
             }
            },
            "type": "scattermapbox"
           }
          ],
          "scatterpolar": [
           {
            "marker": {
             "colorbar": {
              "outlinewidth": 0,
              "ticks": ""
             }
            },
            "type": "scatterpolar"
           }
          ],
          "scatterpolargl": [
           {
            "marker": {
             "colorbar": {
              "outlinewidth": 0,
              "ticks": ""
             }
            },
            "type": "scatterpolargl"
           }
          ],
          "scatterternary": [
           {
            "marker": {
             "colorbar": {
              "outlinewidth": 0,
              "ticks": ""
             }
            },
            "type": "scatterternary"
           }
          ],
          "surface": [
           {
            "colorbar": {
             "outlinewidth": 0,
             "ticks": ""
            },
            "colorscale": [
             [
              0,
              "#0d0887"
             ],
             [
              0.1111111111111111,
              "#46039f"
             ],
             [
              0.2222222222222222,
              "#7201a8"
             ],
             [
              0.3333333333333333,
              "#9c179e"
             ],
             [
              0.4444444444444444,
              "#bd3786"
             ],
             [
              0.5555555555555556,
              "#d8576b"
             ],
             [
              0.6666666666666666,
              "#ed7953"
             ],
             [
              0.7777777777777778,
              "#fb9f3a"
             ],
             [
              0.8888888888888888,
              "#fdca26"
             ],
             [
              1,
              "#f0f921"
             ]
            ],
            "type": "surface"
           }
          ],
          "table": [
           {
            "cells": {
             "fill": {
              "color": "#EBF0F8"
             },
             "line": {
              "color": "white"
             }
            },
            "header": {
             "fill": {
              "color": "#C8D4E3"
             },
             "line": {
              "color": "white"
             }
            },
            "type": "table"
           }
          ]
         },
         "layout": {
          "annotationdefaults": {
           "arrowcolor": "#2a3f5f",
           "arrowhead": 0,
           "arrowwidth": 1
          },
          "autotypenumbers": "strict",
          "coloraxis": {
           "colorbar": {
            "outlinewidth": 0,
            "ticks": ""
           }
          },
          "colorscale": {
           "diverging": [
            [
             0,
             "#8e0152"
            ],
            [
             0.1,
             "#c51b7d"
            ],
            [
             0.2,
             "#de77ae"
            ],
            [
             0.3,
             "#f1b6da"
            ],
            [
             0.4,
             "#fde0ef"
            ],
            [
             0.5,
             "#f7f7f7"
            ],
            [
             0.6,
             "#e6f5d0"
            ],
            [
             0.7,
             "#b8e186"
            ],
            [
             0.8,
             "#7fbc41"
            ],
            [
             0.9,
             "#4d9221"
            ],
            [
             1,
             "#276419"
            ]
           ],
           "sequential": [
            [
             0,
             "#0d0887"
            ],
            [
             0.1111111111111111,
             "#46039f"
            ],
            [
             0.2222222222222222,
             "#7201a8"
            ],
            [
             0.3333333333333333,
             "#9c179e"
            ],
            [
             0.4444444444444444,
             "#bd3786"
            ],
            [
             0.5555555555555556,
             "#d8576b"
            ],
            [
             0.6666666666666666,
             "#ed7953"
            ],
            [
             0.7777777777777778,
             "#fb9f3a"
            ],
            [
             0.8888888888888888,
             "#fdca26"
            ],
            [
             1,
             "#f0f921"
            ]
           ],
           "sequentialminus": [
            [
             0,
             "#0d0887"
            ],
            [
             0.1111111111111111,
             "#46039f"
            ],
            [
             0.2222222222222222,
             "#7201a8"
            ],
            [
             0.3333333333333333,
             "#9c179e"
            ],
            [
             0.4444444444444444,
             "#bd3786"
            ],
            [
             0.5555555555555556,
             "#d8576b"
            ],
            [
             0.6666666666666666,
             "#ed7953"
            ],
            [
             0.7777777777777778,
             "#fb9f3a"
            ],
            [
             0.8888888888888888,
             "#fdca26"
            ],
            [
             1,
             "#f0f921"
            ]
           ]
          },
          "colorway": [
           "#636efa",
           "#EF553B",
           "#00cc96",
           "#ab63fa",
           "#FFA15A",
           "#19d3f3",
           "#FF6692",
           "#B6E880",
           "#FF97FF",
           "#FECB52"
          ],
          "font": {
           "color": "#2a3f5f"
          },
          "geo": {
           "bgcolor": "white",
           "lakecolor": "white",
           "landcolor": "#E5ECF6",
           "showlakes": true,
           "showland": true,
           "subunitcolor": "white"
          },
          "hoverlabel": {
           "align": "left"
          },
          "hovermode": "closest",
          "mapbox": {
           "style": "light"
          },
          "paper_bgcolor": "white",
          "plot_bgcolor": "#E5ECF6",
          "polar": {
           "angularaxis": {
            "gridcolor": "white",
            "linecolor": "white",
            "ticks": ""
           },
           "bgcolor": "#E5ECF6",
           "radialaxis": {
            "gridcolor": "white",
            "linecolor": "white",
            "ticks": ""
           }
          },
          "scene": {
           "xaxis": {
            "backgroundcolor": "#E5ECF6",
            "gridcolor": "white",
            "gridwidth": 2,
            "linecolor": "white",
            "showbackground": true,
            "ticks": "",
            "zerolinecolor": "white"
           },
           "yaxis": {
            "backgroundcolor": "#E5ECF6",
            "gridcolor": "white",
            "gridwidth": 2,
            "linecolor": "white",
            "showbackground": true,
            "ticks": "",
            "zerolinecolor": "white"
           },
           "zaxis": {
            "backgroundcolor": "#E5ECF6",
            "gridcolor": "white",
            "gridwidth": 2,
            "linecolor": "white",
            "showbackground": true,
            "ticks": "",
            "zerolinecolor": "white"
           }
          },
          "shapedefaults": {
           "line": {
            "color": "#2a3f5f"
           }
          },
          "ternary": {
           "aaxis": {
            "gridcolor": "white",
            "linecolor": "white",
            "ticks": ""
           },
           "baxis": {
            "gridcolor": "white",
            "linecolor": "white",
            "ticks": ""
           },
           "bgcolor": "#E5ECF6",
           "caxis": {
            "gridcolor": "white",
            "linecolor": "white",
            "ticks": ""
           }
          },
          "title": {
           "x": 0.05
          },
          "xaxis": {
           "automargin": true,
           "gridcolor": "white",
           "linecolor": "white",
           "ticks": "",
           "title": {
            "standoff": 15
           },
           "zerolinecolor": "white",
           "zerolinewidth": 2
          },
          "yaxis": {
           "automargin": true,
           "gridcolor": "white",
           "linecolor": "white",
           "ticks": "",
           "title": {
            "standoff": 15
           },
           "zerolinecolor": "white",
           "zerolinewidth": 2
          }
         }
        },
        "title": {
         "text": "Domain Distribution in Category: e_commerce"
        }
       }
      }
     },
     "metadata": {},
     "output_type": "display_data"
    },
    {
     "data": {
      "application/vnd.plotly.v1+json": {
       "config": {
        "plotlyServerURL": "https://plot.ly"
       },
       "data": [
        {
         "domain": {
          "x": [
           0,
           1
          ],
          "y": [
           0,
           1
          ]
         },
         "hole": 0.7,
         "hovertemplate": "base_url=%{label}<br>count=%{value}<extra></extra>",
         "labels": [
          "cornerstone.csod.com",
          "resume-builder-test-new.masaischool.com",
          "www.noredink.com",
          "montessoricompass.com",
          "www.duolingo.com",
          "www.siripanya.com",
          "toytheater.com",
          "jdacademy.com",
          "support.covenanteyes.com",
          "help.netflix.com",
          "Other"
         ],
         "legendgroup": "",
         "name": "",
         "showlegend": true,
         "textinfo": "percent+label+value",
         "texttemplate": "%{label}: %{value} (%{percent:.1f}%)",
         "type": "pie",
         "values": [
          16,
          10,
          10,
          7,
          5,
          5,
          5,
          3,
          2,
          2,
          9
         ]
        }
       ],
       "layout": {
        "legend": {
         "tracegroupgap": 0
        },
        "template": {
         "data": {
          "bar": [
           {
            "error_x": {
             "color": "#2a3f5f"
            },
            "error_y": {
             "color": "#2a3f5f"
            },
            "marker": {
             "line": {
              "color": "#E5ECF6",
              "width": 0.5
             },
             "pattern": {
              "fillmode": "overlay",
              "size": 10,
              "solidity": 0.2
             }
            },
            "type": "bar"
           }
          ],
          "barpolar": [
           {
            "marker": {
             "line": {
              "color": "#E5ECF6",
              "width": 0.5
             },
             "pattern": {
              "fillmode": "overlay",
              "size": 10,
              "solidity": 0.2
             }
            },
            "type": "barpolar"
           }
          ],
          "carpet": [
           {
            "aaxis": {
             "endlinecolor": "#2a3f5f",
             "gridcolor": "white",
             "linecolor": "white",
             "minorgridcolor": "white",
             "startlinecolor": "#2a3f5f"
            },
            "baxis": {
             "endlinecolor": "#2a3f5f",
             "gridcolor": "white",
             "linecolor": "white",
             "minorgridcolor": "white",
             "startlinecolor": "#2a3f5f"
            },
            "type": "carpet"
           }
          ],
          "choropleth": [
           {
            "colorbar": {
             "outlinewidth": 0,
             "ticks": ""
            },
            "type": "choropleth"
           }
          ],
          "contour": [
           {
            "colorbar": {
             "outlinewidth": 0,
             "ticks": ""
            },
            "colorscale": [
             [
              0,
              "#0d0887"
             ],
             [
              0.1111111111111111,
              "#46039f"
             ],
             [
              0.2222222222222222,
              "#7201a8"
             ],
             [
              0.3333333333333333,
              "#9c179e"
             ],
             [
              0.4444444444444444,
              "#bd3786"
             ],
             [
              0.5555555555555556,
              "#d8576b"
             ],
             [
              0.6666666666666666,
              "#ed7953"
             ],
             [
              0.7777777777777778,
              "#fb9f3a"
             ],
             [
              0.8888888888888888,
              "#fdca26"
             ],
             [
              1,
              "#f0f921"
             ]
            ],
            "type": "contour"
           }
          ],
          "contourcarpet": [
           {
            "colorbar": {
             "outlinewidth": 0,
             "ticks": ""
            },
            "type": "contourcarpet"
           }
          ],
          "heatmap": [
           {
            "colorbar": {
             "outlinewidth": 0,
             "ticks": ""
            },
            "colorscale": [
             [
              0,
              "#0d0887"
             ],
             [
              0.1111111111111111,
              "#46039f"
             ],
             [
              0.2222222222222222,
              "#7201a8"
             ],
             [
              0.3333333333333333,
              "#9c179e"
             ],
             [
              0.4444444444444444,
              "#bd3786"
             ],
             [
              0.5555555555555556,
              "#d8576b"
             ],
             [
              0.6666666666666666,
              "#ed7953"
             ],
             [
              0.7777777777777778,
              "#fb9f3a"
             ],
             [
              0.8888888888888888,
              "#fdca26"
             ],
             [
              1,
              "#f0f921"
             ]
            ],
            "type": "heatmap"
           }
          ],
          "heatmapgl": [
           {
            "colorbar": {
             "outlinewidth": 0,
             "ticks": ""
            },
            "colorscale": [
             [
              0,
              "#0d0887"
             ],
             [
              0.1111111111111111,
              "#46039f"
             ],
             [
              0.2222222222222222,
              "#7201a8"
             ],
             [
              0.3333333333333333,
              "#9c179e"
             ],
             [
              0.4444444444444444,
              "#bd3786"
             ],
             [
              0.5555555555555556,
              "#d8576b"
             ],
             [
              0.6666666666666666,
              "#ed7953"
             ],
             [
              0.7777777777777778,
              "#fb9f3a"
             ],
             [
              0.8888888888888888,
              "#fdca26"
             ],
             [
              1,
              "#f0f921"
             ]
            ],
            "type": "heatmapgl"
           }
          ],
          "histogram": [
           {
            "marker": {
             "pattern": {
              "fillmode": "overlay",
              "size": 10,
              "solidity": 0.2
             }
            },
            "type": "histogram"
           }
          ],
          "histogram2d": [
           {
            "colorbar": {
             "outlinewidth": 0,
             "ticks": ""
            },
            "colorscale": [
             [
              0,
              "#0d0887"
             ],
             [
              0.1111111111111111,
              "#46039f"
             ],
             [
              0.2222222222222222,
              "#7201a8"
             ],
             [
              0.3333333333333333,
              "#9c179e"
             ],
             [
              0.4444444444444444,
              "#bd3786"
             ],
             [
              0.5555555555555556,
              "#d8576b"
             ],
             [
              0.6666666666666666,
              "#ed7953"
             ],
             [
              0.7777777777777778,
              "#fb9f3a"
             ],
             [
              0.8888888888888888,
              "#fdca26"
             ],
             [
              1,
              "#f0f921"
             ]
            ],
            "type": "histogram2d"
           }
          ],
          "histogram2dcontour": [
           {
            "colorbar": {
             "outlinewidth": 0,
             "ticks": ""
            },
            "colorscale": [
             [
              0,
              "#0d0887"
             ],
             [
              0.1111111111111111,
              "#46039f"
             ],
             [
              0.2222222222222222,
              "#7201a8"
             ],
             [
              0.3333333333333333,
              "#9c179e"
             ],
             [
              0.4444444444444444,
              "#bd3786"
             ],
             [
              0.5555555555555556,
              "#d8576b"
             ],
             [
              0.6666666666666666,
              "#ed7953"
             ],
             [
              0.7777777777777778,
              "#fb9f3a"
             ],
             [
              0.8888888888888888,
              "#fdca26"
             ],
             [
              1,
              "#f0f921"
             ]
            ],
            "type": "histogram2dcontour"
           }
          ],
          "mesh3d": [
           {
            "colorbar": {
             "outlinewidth": 0,
             "ticks": ""
            },
            "type": "mesh3d"
           }
          ],
          "parcoords": [
           {
            "line": {
             "colorbar": {
              "outlinewidth": 0,
              "ticks": ""
             }
            },
            "type": "parcoords"
           }
          ],
          "pie": [
           {
            "automargin": true,
            "type": "pie"
           }
          ],
          "scatter": [
           {
            "fillpattern": {
             "fillmode": "overlay",
             "size": 10,
             "solidity": 0.2
            },
            "type": "scatter"
           }
          ],
          "scatter3d": [
           {
            "line": {
             "colorbar": {
              "outlinewidth": 0,
              "ticks": ""
             }
            },
            "marker": {
             "colorbar": {
              "outlinewidth": 0,
              "ticks": ""
             }
            },
            "type": "scatter3d"
           }
          ],
          "scattercarpet": [
           {
            "marker": {
             "colorbar": {
              "outlinewidth": 0,
              "ticks": ""
             }
            },
            "type": "scattercarpet"
           }
          ],
          "scattergeo": [
           {
            "marker": {
             "colorbar": {
              "outlinewidth": 0,
              "ticks": ""
             }
            },
            "type": "scattergeo"
           }
          ],
          "scattergl": [
           {
            "marker": {
             "colorbar": {
              "outlinewidth": 0,
              "ticks": ""
             }
            },
            "type": "scattergl"
           }
          ],
          "scattermapbox": [
           {
            "marker": {
             "colorbar": {
              "outlinewidth": 0,
              "ticks": ""
             }
            },
            "type": "scattermapbox"
           }
          ],
          "scatterpolar": [
           {
            "marker": {
             "colorbar": {
              "outlinewidth": 0,
              "ticks": ""
             }
            },
            "type": "scatterpolar"
           }
          ],
          "scatterpolargl": [
           {
            "marker": {
             "colorbar": {
              "outlinewidth": 0,
              "ticks": ""
             }
            },
            "type": "scatterpolargl"
           }
          ],
          "scatterternary": [
           {
            "marker": {
             "colorbar": {
              "outlinewidth": 0,
              "ticks": ""
             }
            },
            "type": "scatterternary"
           }
          ],
          "surface": [
           {
            "colorbar": {
             "outlinewidth": 0,
             "ticks": ""
            },
            "colorscale": [
             [
              0,
              "#0d0887"
             ],
             [
              0.1111111111111111,
              "#46039f"
             ],
             [
              0.2222222222222222,
              "#7201a8"
             ],
             [
              0.3333333333333333,
              "#9c179e"
             ],
             [
              0.4444444444444444,
              "#bd3786"
             ],
             [
              0.5555555555555556,
              "#d8576b"
             ],
             [
              0.6666666666666666,
              "#ed7953"
             ],
             [
              0.7777777777777778,
              "#fb9f3a"
             ],
             [
              0.8888888888888888,
              "#fdca26"
             ],
             [
              1,
              "#f0f921"
             ]
            ],
            "type": "surface"
           }
          ],
          "table": [
           {
            "cells": {
             "fill": {
              "color": "#EBF0F8"
             },
             "line": {
              "color": "white"
             }
            },
            "header": {
             "fill": {
              "color": "#C8D4E3"
             },
             "line": {
              "color": "white"
             }
            },
            "type": "table"
           }
          ]
         },
         "layout": {
          "annotationdefaults": {
           "arrowcolor": "#2a3f5f",
           "arrowhead": 0,
           "arrowwidth": 1
          },
          "autotypenumbers": "strict",
          "coloraxis": {
           "colorbar": {
            "outlinewidth": 0,
            "ticks": ""
           }
          },
          "colorscale": {
           "diverging": [
            [
             0,
             "#8e0152"
            ],
            [
             0.1,
             "#c51b7d"
            ],
            [
             0.2,
             "#de77ae"
            ],
            [
             0.3,
             "#f1b6da"
            ],
            [
             0.4,
             "#fde0ef"
            ],
            [
             0.5,
             "#f7f7f7"
            ],
            [
             0.6,
             "#e6f5d0"
            ],
            [
             0.7,
             "#b8e186"
            ],
            [
             0.8,
             "#7fbc41"
            ],
            [
             0.9,
             "#4d9221"
            ],
            [
             1,
             "#276419"
            ]
           ],
           "sequential": [
            [
             0,
             "#0d0887"
            ],
            [
             0.1111111111111111,
             "#46039f"
            ],
            [
             0.2222222222222222,
             "#7201a8"
            ],
            [
             0.3333333333333333,
             "#9c179e"
            ],
            [
             0.4444444444444444,
             "#bd3786"
            ],
            [
             0.5555555555555556,
             "#d8576b"
            ],
            [
             0.6666666666666666,
             "#ed7953"
            ],
            [
             0.7777777777777778,
             "#fb9f3a"
            ],
            [
             0.8888888888888888,
             "#fdca26"
            ],
            [
             1,
             "#f0f921"
            ]
           ],
           "sequentialminus": [
            [
             0,
             "#0d0887"
            ],
            [
             0.1111111111111111,
             "#46039f"
            ],
            [
             0.2222222222222222,
             "#7201a8"
            ],
            [
             0.3333333333333333,
             "#9c179e"
            ],
            [
             0.4444444444444444,
             "#bd3786"
            ],
            [
             0.5555555555555556,
             "#d8576b"
            ],
            [
             0.6666666666666666,
             "#ed7953"
            ],
            [
             0.7777777777777778,
             "#fb9f3a"
            ],
            [
             0.8888888888888888,
             "#fdca26"
            ],
            [
             1,
             "#f0f921"
            ]
           ]
          },
          "colorway": [
           "#636efa",
           "#EF553B",
           "#00cc96",
           "#ab63fa",
           "#FFA15A",
           "#19d3f3",
           "#FF6692",
           "#B6E880",
           "#FF97FF",
           "#FECB52"
          ],
          "font": {
           "color": "#2a3f5f"
          },
          "geo": {
           "bgcolor": "white",
           "lakecolor": "white",
           "landcolor": "#E5ECF6",
           "showlakes": true,
           "showland": true,
           "subunitcolor": "white"
          },
          "hoverlabel": {
           "align": "left"
          },
          "hovermode": "closest",
          "mapbox": {
           "style": "light"
          },
          "paper_bgcolor": "white",
          "plot_bgcolor": "#E5ECF6",
          "polar": {
           "angularaxis": {
            "gridcolor": "white",
            "linecolor": "white",
            "ticks": ""
           },
           "bgcolor": "#E5ECF6",
           "radialaxis": {
            "gridcolor": "white",
            "linecolor": "white",
            "ticks": ""
           }
          },
          "scene": {
           "xaxis": {
            "backgroundcolor": "#E5ECF6",
            "gridcolor": "white",
            "gridwidth": 2,
            "linecolor": "white",
            "showbackground": true,
            "ticks": "",
            "zerolinecolor": "white"
           },
           "yaxis": {
            "backgroundcolor": "#E5ECF6",
            "gridcolor": "white",
            "gridwidth": 2,
            "linecolor": "white",
            "showbackground": true,
            "ticks": "",
            "zerolinecolor": "white"
           },
           "zaxis": {
            "backgroundcolor": "#E5ECF6",
            "gridcolor": "white",
            "gridwidth": 2,
            "linecolor": "white",
            "showbackground": true,
            "ticks": "",
            "zerolinecolor": "white"
           }
          },
          "shapedefaults": {
           "line": {
            "color": "#2a3f5f"
           }
          },
          "ternary": {
           "aaxis": {
            "gridcolor": "white",
            "linecolor": "white",
            "ticks": ""
           },
           "baxis": {
            "gridcolor": "white",
            "linecolor": "white",
            "ticks": ""
           },
           "bgcolor": "#E5ECF6",
           "caxis": {
            "gridcolor": "white",
            "linecolor": "white",
            "ticks": ""
           }
          },
          "title": {
           "x": 0.05
          },
          "xaxis": {
           "automargin": true,
           "gridcolor": "white",
           "linecolor": "white",
           "ticks": "",
           "title": {
            "standoff": 15
           },
           "zerolinecolor": "white",
           "zerolinewidth": 2
          },
          "yaxis": {
           "automargin": true,
           "gridcolor": "white",
           "linecolor": "white",
           "ticks": "",
           "title": {
            "standoff": 15
           },
           "zerolinecolor": "white",
           "zerolinewidth": 2
          }
         }
        },
        "title": {
         "text": "Domain Distribution in Category: e_learning"
        }
       }
      }
     },
     "metadata": {},
     "output_type": "display_data"
    },
    {
     "data": {
      "application/vnd.plotly.v1+json": {
       "config": {
        "plotlyServerURL": "https://plot.ly"
       },
       "data": [
        {
         "domain": {
          "x": [
           0,
           1
          ],
          "y": [
           0,
           1
          ]
         },
         "hole": 0.7,
         "hovertemplate": "base_url=%{label}<br>count=%{value}<extra></extra>",
         "labels": [
          "www.eonline.com",
          "sparctheater.org",
          "sso.clubavolta.com",
          "www.digitalspy.com",
          "www.marthastewart.com",
          "fandomwire.com",
          "mydelhi6.com",
          "sandboxvr.com",
          "www.harlemglobetrotters.com",
          "www.jurassicquest.com",
          "Other"
         ],
         "legendgroup": "",
         "name": "",
         "showlegend": true,
         "textinfo": "percent+label+value",
         "texttemplate": "%{label}: %{value} (%{percent:.1f}%)",
         "type": "pie",
         "values": [
          4,
          3,
          3,
          2,
          2,
          1,
          1,
          1,
          1,
          1,
          2
         ]
        }
       ],
       "layout": {
        "legend": {
         "tracegroupgap": 0
        },
        "template": {
         "data": {
          "bar": [
           {
            "error_x": {
             "color": "#2a3f5f"
            },
            "error_y": {
             "color": "#2a3f5f"
            },
            "marker": {
             "line": {
              "color": "#E5ECF6",
              "width": 0.5
             },
             "pattern": {
              "fillmode": "overlay",
              "size": 10,
              "solidity": 0.2
             }
            },
            "type": "bar"
           }
          ],
          "barpolar": [
           {
            "marker": {
             "line": {
              "color": "#E5ECF6",
              "width": 0.5
             },
             "pattern": {
              "fillmode": "overlay",
              "size": 10,
              "solidity": 0.2
             }
            },
            "type": "barpolar"
           }
          ],
          "carpet": [
           {
            "aaxis": {
             "endlinecolor": "#2a3f5f",
             "gridcolor": "white",
             "linecolor": "white",
             "minorgridcolor": "white",
             "startlinecolor": "#2a3f5f"
            },
            "baxis": {
             "endlinecolor": "#2a3f5f",
             "gridcolor": "white",
             "linecolor": "white",
             "minorgridcolor": "white",
             "startlinecolor": "#2a3f5f"
            },
            "type": "carpet"
           }
          ],
          "choropleth": [
           {
            "colorbar": {
             "outlinewidth": 0,
             "ticks": ""
            },
            "type": "choropleth"
           }
          ],
          "contour": [
           {
            "colorbar": {
             "outlinewidth": 0,
             "ticks": ""
            },
            "colorscale": [
             [
              0,
              "#0d0887"
             ],
             [
              0.1111111111111111,
              "#46039f"
             ],
             [
              0.2222222222222222,
              "#7201a8"
             ],
             [
              0.3333333333333333,
              "#9c179e"
             ],
             [
              0.4444444444444444,
              "#bd3786"
             ],
             [
              0.5555555555555556,
              "#d8576b"
             ],
             [
              0.6666666666666666,
              "#ed7953"
             ],
             [
              0.7777777777777778,
              "#fb9f3a"
             ],
             [
              0.8888888888888888,
              "#fdca26"
             ],
             [
              1,
              "#f0f921"
             ]
            ],
            "type": "contour"
           }
          ],
          "contourcarpet": [
           {
            "colorbar": {
             "outlinewidth": 0,
             "ticks": ""
            },
            "type": "contourcarpet"
           }
          ],
          "heatmap": [
           {
            "colorbar": {
             "outlinewidth": 0,
             "ticks": ""
            },
            "colorscale": [
             [
              0,
              "#0d0887"
             ],
             [
              0.1111111111111111,
              "#46039f"
             ],
             [
              0.2222222222222222,
              "#7201a8"
             ],
             [
              0.3333333333333333,
              "#9c179e"
             ],
             [
              0.4444444444444444,
              "#bd3786"
             ],
             [
              0.5555555555555556,
              "#d8576b"
             ],
             [
              0.6666666666666666,
              "#ed7953"
             ],
             [
              0.7777777777777778,
              "#fb9f3a"
             ],
             [
              0.8888888888888888,
              "#fdca26"
             ],
             [
              1,
              "#f0f921"
             ]
            ],
            "type": "heatmap"
           }
          ],
          "heatmapgl": [
           {
            "colorbar": {
             "outlinewidth": 0,
             "ticks": ""
            },
            "colorscale": [
             [
              0,
              "#0d0887"
             ],
             [
              0.1111111111111111,
              "#46039f"
             ],
             [
              0.2222222222222222,
              "#7201a8"
             ],
             [
              0.3333333333333333,
              "#9c179e"
             ],
             [
              0.4444444444444444,
              "#bd3786"
             ],
             [
              0.5555555555555556,
              "#d8576b"
             ],
             [
              0.6666666666666666,
              "#ed7953"
             ],
             [
              0.7777777777777778,
              "#fb9f3a"
             ],
             [
              0.8888888888888888,
              "#fdca26"
             ],
             [
              1,
              "#f0f921"
             ]
            ],
            "type": "heatmapgl"
           }
          ],
          "histogram": [
           {
            "marker": {
             "pattern": {
              "fillmode": "overlay",
              "size": 10,
              "solidity": 0.2
             }
            },
            "type": "histogram"
           }
          ],
          "histogram2d": [
           {
            "colorbar": {
             "outlinewidth": 0,
             "ticks": ""
            },
            "colorscale": [
             [
              0,
              "#0d0887"
             ],
             [
              0.1111111111111111,
              "#46039f"
             ],
             [
              0.2222222222222222,
              "#7201a8"
             ],
             [
              0.3333333333333333,
              "#9c179e"
             ],
             [
              0.4444444444444444,
              "#bd3786"
             ],
             [
              0.5555555555555556,
              "#d8576b"
             ],
             [
              0.6666666666666666,
              "#ed7953"
             ],
             [
              0.7777777777777778,
              "#fb9f3a"
             ],
             [
              0.8888888888888888,
              "#fdca26"
             ],
             [
              1,
              "#f0f921"
             ]
            ],
            "type": "histogram2d"
           }
          ],
          "histogram2dcontour": [
           {
            "colorbar": {
             "outlinewidth": 0,
             "ticks": ""
            },
            "colorscale": [
             [
              0,
              "#0d0887"
             ],
             [
              0.1111111111111111,
              "#46039f"
             ],
             [
              0.2222222222222222,
              "#7201a8"
             ],
             [
              0.3333333333333333,
              "#9c179e"
             ],
             [
              0.4444444444444444,
              "#bd3786"
             ],
             [
              0.5555555555555556,
              "#d8576b"
             ],
             [
              0.6666666666666666,
              "#ed7953"
             ],
             [
              0.7777777777777778,
              "#fb9f3a"
             ],
             [
              0.8888888888888888,
              "#fdca26"
             ],
             [
              1,
              "#f0f921"
             ]
            ],
            "type": "histogram2dcontour"
           }
          ],
          "mesh3d": [
           {
            "colorbar": {
             "outlinewidth": 0,
             "ticks": ""
            },
            "type": "mesh3d"
           }
          ],
          "parcoords": [
           {
            "line": {
             "colorbar": {
              "outlinewidth": 0,
              "ticks": ""
             }
            },
            "type": "parcoords"
           }
          ],
          "pie": [
           {
            "automargin": true,
            "type": "pie"
           }
          ],
          "scatter": [
           {
            "fillpattern": {
             "fillmode": "overlay",
             "size": 10,
             "solidity": 0.2
            },
            "type": "scatter"
           }
          ],
          "scatter3d": [
           {
            "line": {
             "colorbar": {
              "outlinewidth": 0,
              "ticks": ""
             }
            },
            "marker": {
             "colorbar": {
              "outlinewidth": 0,
              "ticks": ""
             }
            },
            "type": "scatter3d"
           }
          ],
          "scattercarpet": [
           {
            "marker": {
             "colorbar": {
              "outlinewidth": 0,
              "ticks": ""
             }
            },
            "type": "scattercarpet"
           }
          ],
          "scattergeo": [
           {
            "marker": {
             "colorbar": {
              "outlinewidth": 0,
              "ticks": ""
             }
            },
            "type": "scattergeo"
           }
          ],
          "scattergl": [
           {
            "marker": {
             "colorbar": {
              "outlinewidth": 0,
              "ticks": ""
             }
            },
            "type": "scattergl"
           }
          ],
          "scattermapbox": [
           {
            "marker": {
             "colorbar": {
              "outlinewidth": 0,
              "ticks": ""
             }
            },
            "type": "scattermapbox"
           }
          ],
          "scatterpolar": [
           {
            "marker": {
             "colorbar": {
              "outlinewidth": 0,
              "ticks": ""
             }
            },
            "type": "scatterpolar"
           }
          ],
          "scatterpolargl": [
           {
            "marker": {
             "colorbar": {
              "outlinewidth": 0,
              "ticks": ""
             }
            },
            "type": "scatterpolargl"
           }
          ],
          "scatterternary": [
           {
            "marker": {
             "colorbar": {
              "outlinewidth": 0,
              "ticks": ""
             }
            },
            "type": "scatterternary"
           }
          ],
          "surface": [
           {
            "colorbar": {
             "outlinewidth": 0,
             "ticks": ""
            },
            "colorscale": [
             [
              0,
              "#0d0887"
             ],
             [
              0.1111111111111111,
              "#46039f"
             ],
             [
              0.2222222222222222,
              "#7201a8"
             ],
             [
              0.3333333333333333,
              "#9c179e"
             ],
             [
              0.4444444444444444,
              "#bd3786"
             ],
             [
              0.5555555555555556,
              "#d8576b"
             ],
             [
              0.6666666666666666,
              "#ed7953"
             ],
             [
              0.7777777777777778,
              "#fb9f3a"
             ],
             [
              0.8888888888888888,
              "#fdca26"
             ],
             [
              1,
              "#f0f921"
             ]
            ],
            "type": "surface"
           }
          ],
          "table": [
           {
            "cells": {
             "fill": {
              "color": "#EBF0F8"
             },
             "line": {
              "color": "white"
             }
            },
            "header": {
             "fill": {
              "color": "#C8D4E3"
             },
             "line": {
              "color": "white"
             }
            },
            "type": "table"
           }
          ]
         },
         "layout": {
          "annotationdefaults": {
           "arrowcolor": "#2a3f5f",
           "arrowhead": 0,
           "arrowwidth": 1
          },
          "autotypenumbers": "strict",
          "coloraxis": {
           "colorbar": {
            "outlinewidth": 0,
            "ticks": ""
           }
          },
          "colorscale": {
           "diverging": [
            [
             0,
             "#8e0152"
            ],
            [
             0.1,
             "#c51b7d"
            ],
            [
             0.2,
             "#de77ae"
            ],
            [
             0.3,
             "#f1b6da"
            ],
            [
             0.4,
             "#fde0ef"
            ],
            [
             0.5,
             "#f7f7f7"
            ],
            [
             0.6,
             "#e6f5d0"
            ],
            [
             0.7,
             "#b8e186"
            ],
            [
             0.8,
             "#7fbc41"
            ],
            [
             0.9,
             "#4d9221"
            ],
            [
             1,
             "#276419"
            ]
           ],
           "sequential": [
            [
             0,
             "#0d0887"
            ],
            [
             0.1111111111111111,
             "#46039f"
            ],
            [
             0.2222222222222222,
             "#7201a8"
            ],
            [
             0.3333333333333333,
             "#9c179e"
            ],
            [
             0.4444444444444444,
             "#bd3786"
            ],
            [
             0.5555555555555556,
             "#d8576b"
            ],
            [
             0.6666666666666666,
             "#ed7953"
            ],
            [
             0.7777777777777778,
             "#fb9f3a"
            ],
            [
             0.8888888888888888,
             "#fdca26"
            ],
            [
             1,
             "#f0f921"
            ]
           ],
           "sequentialminus": [
            [
             0,
             "#0d0887"
            ],
            [
             0.1111111111111111,
             "#46039f"
            ],
            [
             0.2222222222222222,
             "#7201a8"
            ],
            [
             0.3333333333333333,
             "#9c179e"
            ],
            [
             0.4444444444444444,
             "#bd3786"
            ],
            [
             0.5555555555555556,
             "#d8576b"
            ],
            [
             0.6666666666666666,
             "#ed7953"
            ],
            [
             0.7777777777777778,
             "#fb9f3a"
            ],
            [
             0.8888888888888888,
             "#fdca26"
            ],
            [
             1,
             "#f0f921"
            ]
           ]
          },
          "colorway": [
           "#636efa",
           "#EF553B",
           "#00cc96",
           "#ab63fa",
           "#FFA15A",
           "#19d3f3",
           "#FF6692",
           "#B6E880",
           "#FF97FF",
           "#FECB52"
          ],
          "font": {
           "color": "#2a3f5f"
          },
          "geo": {
           "bgcolor": "white",
           "lakecolor": "white",
           "landcolor": "#E5ECF6",
           "showlakes": true,
           "showland": true,
           "subunitcolor": "white"
          },
          "hoverlabel": {
           "align": "left"
          },
          "hovermode": "closest",
          "mapbox": {
           "style": "light"
          },
          "paper_bgcolor": "white",
          "plot_bgcolor": "#E5ECF6",
          "polar": {
           "angularaxis": {
            "gridcolor": "white",
            "linecolor": "white",
            "ticks": ""
           },
           "bgcolor": "#E5ECF6",
           "radialaxis": {
            "gridcolor": "white",
            "linecolor": "white",
            "ticks": ""
           }
          },
          "scene": {
           "xaxis": {
            "backgroundcolor": "#E5ECF6",
            "gridcolor": "white",
            "gridwidth": 2,
            "linecolor": "white",
            "showbackground": true,
            "ticks": "",
            "zerolinecolor": "white"
           },
           "yaxis": {
            "backgroundcolor": "#E5ECF6",
            "gridcolor": "white",
            "gridwidth": 2,
            "linecolor": "white",
            "showbackground": true,
            "ticks": "",
            "zerolinecolor": "white"
           },
           "zaxis": {
            "backgroundcolor": "#E5ECF6",
            "gridcolor": "white",
            "gridwidth": 2,
            "linecolor": "white",
            "showbackground": true,
            "ticks": "",
            "zerolinecolor": "white"
           }
          },
          "shapedefaults": {
           "line": {
            "color": "#2a3f5f"
           }
          },
          "ternary": {
           "aaxis": {
            "gridcolor": "white",
            "linecolor": "white",
            "ticks": ""
           },
           "baxis": {
            "gridcolor": "white",
            "linecolor": "white",
            "ticks": ""
           },
           "bgcolor": "#E5ECF6",
           "caxis": {
            "gridcolor": "white",
            "linecolor": "white",
            "ticks": ""
           }
          },
          "title": {
           "x": 0.05
          },
          "xaxis": {
           "automargin": true,
           "gridcolor": "white",
           "linecolor": "white",
           "ticks": "",
           "title": {
            "standoff": 15
           },
           "zerolinecolor": "white",
           "zerolinewidth": 2
          },
          "yaxis": {
           "automargin": true,
           "gridcolor": "white",
           "linecolor": "white",
           "ticks": "",
           "title": {
            "standoff": 15
           },
           "zerolinecolor": "white",
           "zerolinewidth": 2
          }
         }
        },
        "title": {
         "text": "Domain Distribution in Category: entertainment_portal"
        }
       }
      }
     },
     "metadata": {},
     "output_type": "display_data"
    },
    {
     "data": {
      "application/vnd.plotly.v1+json": {
       "config": {
        "plotlyServerURL": "https://plot.ly"
       },
       "data": [
        {
         "domain": {
          "x": [
           0,
           1
          ],
          "y": [
           0,
           1
          ]
         },
         "hole": 0.7,
         "hovertemplate": "base_url=%{label}<br>count=%{value}<extra></extra>",
         "labels": [
          "wise.com",
          "joinmosaic.myaccountinfo.com",
          "secure.bankofamerica.com",
          "oce.americanexpress.com",
          "capbase.com",
          "global.americanexpress.com",
          "api.payu.in",
          "www.xe.com",
          "tradingeconomics.com",
          "sec.windcave.com",
          "Other"
         ],
         "legendgroup": "",
         "name": "",
         "showlegend": true,
         "textinfo": "percent+label+value",
         "texttemplate": "%{label}: %{value} (%{percent:.1f}%)",
         "type": "pie",
         "values": [
          15,
          15,
          10,
          9,
          6,
          6,
          6,
          5,
          4,
          2,
          12
         ]
        }
       ],
       "layout": {
        "legend": {
         "tracegroupgap": 0
        },
        "template": {
         "data": {
          "bar": [
           {
            "error_x": {
             "color": "#2a3f5f"
            },
            "error_y": {
             "color": "#2a3f5f"
            },
            "marker": {
             "line": {
              "color": "#E5ECF6",
              "width": 0.5
             },
             "pattern": {
              "fillmode": "overlay",
              "size": 10,
              "solidity": 0.2
             }
            },
            "type": "bar"
           }
          ],
          "barpolar": [
           {
            "marker": {
             "line": {
              "color": "#E5ECF6",
              "width": 0.5
             },
             "pattern": {
              "fillmode": "overlay",
              "size": 10,
              "solidity": 0.2
             }
            },
            "type": "barpolar"
           }
          ],
          "carpet": [
           {
            "aaxis": {
             "endlinecolor": "#2a3f5f",
             "gridcolor": "white",
             "linecolor": "white",
             "minorgridcolor": "white",
             "startlinecolor": "#2a3f5f"
            },
            "baxis": {
             "endlinecolor": "#2a3f5f",
             "gridcolor": "white",
             "linecolor": "white",
             "minorgridcolor": "white",
             "startlinecolor": "#2a3f5f"
            },
            "type": "carpet"
           }
          ],
          "choropleth": [
           {
            "colorbar": {
             "outlinewidth": 0,
             "ticks": ""
            },
            "type": "choropleth"
           }
          ],
          "contour": [
           {
            "colorbar": {
             "outlinewidth": 0,
             "ticks": ""
            },
            "colorscale": [
             [
              0,
              "#0d0887"
             ],
             [
              0.1111111111111111,
              "#46039f"
             ],
             [
              0.2222222222222222,
              "#7201a8"
             ],
             [
              0.3333333333333333,
              "#9c179e"
             ],
             [
              0.4444444444444444,
              "#bd3786"
             ],
             [
              0.5555555555555556,
              "#d8576b"
             ],
             [
              0.6666666666666666,
              "#ed7953"
             ],
             [
              0.7777777777777778,
              "#fb9f3a"
             ],
             [
              0.8888888888888888,
              "#fdca26"
             ],
             [
              1,
              "#f0f921"
             ]
            ],
            "type": "contour"
           }
          ],
          "contourcarpet": [
           {
            "colorbar": {
             "outlinewidth": 0,
             "ticks": ""
            },
            "type": "contourcarpet"
           }
          ],
          "heatmap": [
           {
            "colorbar": {
             "outlinewidth": 0,
             "ticks": ""
            },
            "colorscale": [
             [
              0,
              "#0d0887"
             ],
             [
              0.1111111111111111,
              "#46039f"
             ],
             [
              0.2222222222222222,
              "#7201a8"
             ],
             [
              0.3333333333333333,
              "#9c179e"
             ],
             [
              0.4444444444444444,
              "#bd3786"
             ],
             [
              0.5555555555555556,
              "#d8576b"
             ],
             [
              0.6666666666666666,
              "#ed7953"
             ],
             [
              0.7777777777777778,
              "#fb9f3a"
             ],
             [
              0.8888888888888888,
              "#fdca26"
             ],
             [
              1,
              "#f0f921"
             ]
            ],
            "type": "heatmap"
           }
          ],
          "heatmapgl": [
           {
            "colorbar": {
             "outlinewidth": 0,
             "ticks": ""
            },
            "colorscale": [
             [
              0,
              "#0d0887"
             ],
             [
              0.1111111111111111,
              "#46039f"
             ],
             [
              0.2222222222222222,
              "#7201a8"
             ],
             [
              0.3333333333333333,
              "#9c179e"
             ],
             [
              0.4444444444444444,
              "#bd3786"
             ],
             [
              0.5555555555555556,
              "#d8576b"
             ],
             [
              0.6666666666666666,
              "#ed7953"
             ],
             [
              0.7777777777777778,
              "#fb9f3a"
             ],
             [
              0.8888888888888888,
              "#fdca26"
             ],
             [
              1,
              "#f0f921"
             ]
            ],
            "type": "heatmapgl"
           }
          ],
          "histogram": [
           {
            "marker": {
             "pattern": {
              "fillmode": "overlay",
              "size": 10,
              "solidity": 0.2
             }
            },
            "type": "histogram"
           }
          ],
          "histogram2d": [
           {
            "colorbar": {
             "outlinewidth": 0,
             "ticks": ""
            },
            "colorscale": [
             [
              0,
              "#0d0887"
             ],
             [
              0.1111111111111111,
              "#46039f"
             ],
             [
              0.2222222222222222,
              "#7201a8"
             ],
             [
              0.3333333333333333,
              "#9c179e"
             ],
             [
              0.4444444444444444,
              "#bd3786"
             ],
             [
              0.5555555555555556,
              "#d8576b"
             ],
             [
              0.6666666666666666,
              "#ed7953"
             ],
             [
              0.7777777777777778,
              "#fb9f3a"
             ],
             [
              0.8888888888888888,
              "#fdca26"
             ],
             [
              1,
              "#f0f921"
             ]
            ],
            "type": "histogram2d"
           }
          ],
          "histogram2dcontour": [
           {
            "colorbar": {
             "outlinewidth": 0,
             "ticks": ""
            },
            "colorscale": [
             [
              0,
              "#0d0887"
             ],
             [
              0.1111111111111111,
              "#46039f"
             ],
             [
              0.2222222222222222,
              "#7201a8"
             ],
             [
              0.3333333333333333,
              "#9c179e"
             ],
             [
              0.4444444444444444,
              "#bd3786"
             ],
             [
              0.5555555555555556,
              "#d8576b"
             ],
             [
              0.6666666666666666,
              "#ed7953"
             ],
             [
              0.7777777777777778,
              "#fb9f3a"
             ],
             [
              0.8888888888888888,
              "#fdca26"
             ],
             [
              1,
              "#f0f921"
             ]
            ],
            "type": "histogram2dcontour"
           }
          ],
          "mesh3d": [
           {
            "colorbar": {
             "outlinewidth": 0,
             "ticks": ""
            },
            "type": "mesh3d"
           }
          ],
          "parcoords": [
           {
            "line": {
             "colorbar": {
              "outlinewidth": 0,
              "ticks": ""
             }
            },
            "type": "parcoords"
           }
          ],
          "pie": [
           {
            "automargin": true,
            "type": "pie"
           }
          ],
          "scatter": [
           {
            "fillpattern": {
             "fillmode": "overlay",
             "size": 10,
             "solidity": 0.2
            },
            "type": "scatter"
           }
          ],
          "scatter3d": [
           {
            "line": {
             "colorbar": {
              "outlinewidth": 0,
              "ticks": ""
             }
            },
            "marker": {
             "colorbar": {
              "outlinewidth": 0,
              "ticks": ""
             }
            },
            "type": "scatter3d"
           }
          ],
          "scattercarpet": [
           {
            "marker": {
             "colorbar": {
              "outlinewidth": 0,
              "ticks": ""
             }
            },
            "type": "scattercarpet"
           }
          ],
          "scattergeo": [
           {
            "marker": {
             "colorbar": {
              "outlinewidth": 0,
              "ticks": ""
             }
            },
            "type": "scattergeo"
           }
          ],
          "scattergl": [
           {
            "marker": {
             "colorbar": {
              "outlinewidth": 0,
              "ticks": ""
             }
            },
            "type": "scattergl"
           }
          ],
          "scattermapbox": [
           {
            "marker": {
             "colorbar": {
              "outlinewidth": 0,
              "ticks": ""
             }
            },
            "type": "scattermapbox"
           }
          ],
          "scatterpolar": [
           {
            "marker": {
             "colorbar": {
              "outlinewidth": 0,
              "ticks": ""
             }
            },
            "type": "scatterpolar"
           }
          ],
          "scatterpolargl": [
           {
            "marker": {
             "colorbar": {
              "outlinewidth": 0,
              "ticks": ""
             }
            },
            "type": "scatterpolargl"
           }
          ],
          "scatterternary": [
           {
            "marker": {
             "colorbar": {
              "outlinewidth": 0,
              "ticks": ""
             }
            },
            "type": "scatterternary"
           }
          ],
          "surface": [
           {
            "colorbar": {
             "outlinewidth": 0,
             "ticks": ""
            },
            "colorscale": [
             [
              0,
              "#0d0887"
             ],
             [
              0.1111111111111111,
              "#46039f"
             ],
             [
              0.2222222222222222,
              "#7201a8"
             ],
             [
              0.3333333333333333,
              "#9c179e"
             ],
             [
              0.4444444444444444,
              "#bd3786"
             ],
             [
              0.5555555555555556,
              "#d8576b"
             ],
             [
              0.6666666666666666,
              "#ed7953"
             ],
             [
              0.7777777777777778,
              "#fb9f3a"
             ],
             [
              0.8888888888888888,
              "#fdca26"
             ],
             [
              1,
              "#f0f921"
             ]
            ],
            "type": "surface"
           }
          ],
          "table": [
           {
            "cells": {
             "fill": {
              "color": "#EBF0F8"
             },
             "line": {
              "color": "white"
             }
            },
            "header": {
             "fill": {
              "color": "#C8D4E3"
             },
             "line": {
              "color": "white"
             }
            },
            "type": "table"
           }
          ]
         },
         "layout": {
          "annotationdefaults": {
           "arrowcolor": "#2a3f5f",
           "arrowhead": 0,
           "arrowwidth": 1
          },
          "autotypenumbers": "strict",
          "coloraxis": {
           "colorbar": {
            "outlinewidth": 0,
            "ticks": ""
           }
          },
          "colorscale": {
           "diverging": [
            [
             0,
             "#8e0152"
            ],
            [
             0.1,
             "#c51b7d"
            ],
            [
             0.2,
             "#de77ae"
            ],
            [
             0.3,
             "#f1b6da"
            ],
            [
             0.4,
             "#fde0ef"
            ],
            [
             0.5,
             "#f7f7f7"
            ],
            [
             0.6,
             "#e6f5d0"
            ],
            [
             0.7,
             "#b8e186"
            ],
            [
             0.8,
             "#7fbc41"
            ],
            [
             0.9,
             "#4d9221"
            ],
            [
             1,
             "#276419"
            ]
           ],
           "sequential": [
            [
             0,
             "#0d0887"
            ],
            [
             0.1111111111111111,
             "#46039f"
            ],
            [
             0.2222222222222222,
             "#7201a8"
            ],
            [
             0.3333333333333333,
             "#9c179e"
            ],
            [
             0.4444444444444444,
             "#bd3786"
            ],
            [
             0.5555555555555556,
             "#d8576b"
            ],
            [
             0.6666666666666666,
             "#ed7953"
            ],
            [
             0.7777777777777778,
             "#fb9f3a"
            ],
            [
             0.8888888888888888,
             "#fdca26"
            ],
            [
             1,
             "#f0f921"
            ]
           ],
           "sequentialminus": [
            [
             0,
             "#0d0887"
            ],
            [
             0.1111111111111111,
             "#46039f"
            ],
            [
             0.2222222222222222,
             "#7201a8"
            ],
            [
             0.3333333333333333,
             "#9c179e"
            ],
            [
             0.4444444444444444,
             "#bd3786"
            ],
            [
             0.5555555555555556,
             "#d8576b"
            ],
            [
             0.6666666666666666,
             "#ed7953"
            ],
            [
             0.7777777777777778,
             "#fb9f3a"
            ],
            [
             0.8888888888888888,
             "#fdca26"
            ],
            [
             1,
             "#f0f921"
            ]
           ]
          },
          "colorway": [
           "#636efa",
           "#EF553B",
           "#00cc96",
           "#ab63fa",
           "#FFA15A",
           "#19d3f3",
           "#FF6692",
           "#B6E880",
           "#FF97FF",
           "#FECB52"
          ],
          "font": {
           "color": "#2a3f5f"
          },
          "geo": {
           "bgcolor": "white",
           "lakecolor": "white",
           "landcolor": "#E5ECF6",
           "showlakes": true,
           "showland": true,
           "subunitcolor": "white"
          },
          "hoverlabel": {
           "align": "left"
          },
          "hovermode": "closest",
          "mapbox": {
           "style": "light"
          },
          "paper_bgcolor": "white",
          "plot_bgcolor": "#E5ECF6",
          "polar": {
           "angularaxis": {
            "gridcolor": "white",
            "linecolor": "white",
            "ticks": ""
           },
           "bgcolor": "#E5ECF6",
           "radialaxis": {
            "gridcolor": "white",
            "linecolor": "white",
            "ticks": ""
           }
          },
          "scene": {
           "xaxis": {
            "backgroundcolor": "#E5ECF6",
            "gridcolor": "white",
            "gridwidth": 2,
            "linecolor": "white",
            "showbackground": true,
            "ticks": "",
            "zerolinecolor": "white"
           },
           "yaxis": {
            "backgroundcolor": "#E5ECF6",
            "gridcolor": "white",
            "gridwidth": 2,
            "linecolor": "white",
            "showbackground": true,
            "ticks": "",
            "zerolinecolor": "white"
           },
           "zaxis": {
            "backgroundcolor": "#E5ECF6",
            "gridcolor": "white",
            "gridwidth": 2,
            "linecolor": "white",
            "showbackground": true,
            "ticks": "",
            "zerolinecolor": "white"
           }
          },
          "shapedefaults": {
           "line": {
            "color": "#2a3f5f"
           }
          },
          "ternary": {
           "aaxis": {
            "gridcolor": "white",
            "linecolor": "white",
            "ticks": ""
           },
           "baxis": {
            "gridcolor": "white",
            "linecolor": "white",
            "ticks": ""
           },
           "bgcolor": "#E5ECF6",
           "caxis": {
            "gridcolor": "white",
            "linecolor": "white",
            "ticks": ""
           }
          },
          "title": {
           "x": 0.05
          },
          "xaxis": {
           "automargin": true,
           "gridcolor": "white",
           "linecolor": "white",
           "ticks": "",
           "title": {
            "standoff": 15
           },
           "zerolinecolor": "white",
           "zerolinewidth": 2
          },
          "yaxis": {
           "automargin": true,
           "gridcolor": "white",
           "linecolor": "white",
           "ticks": "",
           "title": {
            "standoff": 15
           },
           "zerolinecolor": "white",
           "zerolinewidth": 2
          }
         }
        },
        "title": {
         "text": "Domain Distribution in Category: finance_banking"
        }
       }
      }
     },
     "metadata": {},
     "output_type": "display_data"
    },
    {
     "data": {
      "application/vnd.plotly.v1+json": {
       "config": {
        "plotlyServerURL": "https://plot.ly"
       },
       "data": [
        {
         "domain": {
          "x": [
           0,
           1
          ],
          "y": [
           0,
           1
          ]
         },
         "hole": 0.7,
         "hovertemplate": "base_url=%{label}<br>count=%{value}<extra></extra>",
         "labels": [
          "www.reddit.com",
          "www.link-siliconvalley.com"
         ],
         "legendgroup": "",
         "name": "",
         "showlegend": true,
         "textinfo": "percent+label+value",
         "texttemplate": "%{label}: %{value} (%{percent:.1f}%)",
         "type": "pie",
         "values": [
          15,
          5
         ]
        }
       ],
       "layout": {
        "legend": {
         "tracegroupgap": 0
        },
        "template": {
         "data": {
          "bar": [
           {
            "error_x": {
             "color": "#2a3f5f"
            },
            "error_y": {
             "color": "#2a3f5f"
            },
            "marker": {
             "line": {
              "color": "#E5ECF6",
              "width": 0.5
             },
             "pattern": {
              "fillmode": "overlay",
              "size": 10,
              "solidity": 0.2
             }
            },
            "type": "bar"
           }
          ],
          "barpolar": [
           {
            "marker": {
             "line": {
              "color": "#E5ECF6",
              "width": 0.5
             },
             "pattern": {
              "fillmode": "overlay",
              "size": 10,
              "solidity": 0.2
             }
            },
            "type": "barpolar"
           }
          ],
          "carpet": [
           {
            "aaxis": {
             "endlinecolor": "#2a3f5f",
             "gridcolor": "white",
             "linecolor": "white",
             "minorgridcolor": "white",
             "startlinecolor": "#2a3f5f"
            },
            "baxis": {
             "endlinecolor": "#2a3f5f",
             "gridcolor": "white",
             "linecolor": "white",
             "minorgridcolor": "white",
             "startlinecolor": "#2a3f5f"
            },
            "type": "carpet"
           }
          ],
          "choropleth": [
           {
            "colorbar": {
             "outlinewidth": 0,
             "ticks": ""
            },
            "type": "choropleth"
           }
          ],
          "contour": [
           {
            "colorbar": {
             "outlinewidth": 0,
             "ticks": ""
            },
            "colorscale": [
             [
              0,
              "#0d0887"
             ],
             [
              0.1111111111111111,
              "#46039f"
             ],
             [
              0.2222222222222222,
              "#7201a8"
             ],
             [
              0.3333333333333333,
              "#9c179e"
             ],
             [
              0.4444444444444444,
              "#bd3786"
             ],
             [
              0.5555555555555556,
              "#d8576b"
             ],
             [
              0.6666666666666666,
              "#ed7953"
             ],
             [
              0.7777777777777778,
              "#fb9f3a"
             ],
             [
              0.8888888888888888,
              "#fdca26"
             ],
             [
              1,
              "#f0f921"
             ]
            ],
            "type": "contour"
           }
          ],
          "contourcarpet": [
           {
            "colorbar": {
             "outlinewidth": 0,
             "ticks": ""
            },
            "type": "contourcarpet"
           }
          ],
          "heatmap": [
           {
            "colorbar": {
             "outlinewidth": 0,
             "ticks": ""
            },
            "colorscale": [
             [
              0,
              "#0d0887"
             ],
             [
              0.1111111111111111,
              "#46039f"
             ],
             [
              0.2222222222222222,
              "#7201a8"
             ],
             [
              0.3333333333333333,
              "#9c179e"
             ],
             [
              0.4444444444444444,
              "#bd3786"
             ],
             [
              0.5555555555555556,
              "#d8576b"
             ],
             [
              0.6666666666666666,
              "#ed7953"
             ],
             [
              0.7777777777777778,
              "#fb9f3a"
             ],
             [
              0.8888888888888888,
              "#fdca26"
             ],
             [
              1,
              "#f0f921"
             ]
            ],
            "type": "heatmap"
           }
          ],
          "heatmapgl": [
           {
            "colorbar": {
             "outlinewidth": 0,
             "ticks": ""
            },
            "colorscale": [
             [
              0,
              "#0d0887"
             ],
             [
              0.1111111111111111,
              "#46039f"
             ],
             [
              0.2222222222222222,
              "#7201a8"
             ],
             [
              0.3333333333333333,
              "#9c179e"
             ],
             [
              0.4444444444444444,
              "#bd3786"
             ],
             [
              0.5555555555555556,
              "#d8576b"
             ],
             [
              0.6666666666666666,
              "#ed7953"
             ],
             [
              0.7777777777777778,
              "#fb9f3a"
             ],
             [
              0.8888888888888888,
              "#fdca26"
             ],
             [
              1,
              "#f0f921"
             ]
            ],
            "type": "heatmapgl"
           }
          ],
          "histogram": [
           {
            "marker": {
             "pattern": {
              "fillmode": "overlay",
              "size": 10,
              "solidity": 0.2
             }
            },
            "type": "histogram"
           }
          ],
          "histogram2d": [
           {
            "colorbar": {
             "outlinewidth": 0,
             "ticks": ""
            },
            "colorscale": [
             [
              0,
              "#0d0887"
             ],
             [
              0.1111111111111111,
              "#46039f"
             ],
             [
              0.2222222222222222,
              "#7201a8"
             ],
             [
              0.3333333333333333,
              "#9c179e"
             ],
             [
              0.4444444444444444,
              "#bd3786"
             ],
             [
              0.5555555555555556,
              "#d8576b"
             ],
             [
              0.6666666666666666,
              "#ed7953"
             ],
             [
              0.7777777777777778,
              "#fb9f3a"
             ],
             [
              0.8888888888888888,
              "#fdca26"
             ],
             [
              1,
              "#f0f921"
             ]
            ],
            "type": "histogram2d"
           }
          ],
          "histogram2dcontour": [
           {
            "colorbar": {
             "outlinewidth": 0,
             "ticks": ""
            },
            "colorscale": [
             [
              0,
              "#0d0887"
             ],
             [
              0.1111111111111111,
              "#46039f"
             ],
             [
              0.2222222222222222,
              "#7201a8"
             ],
             [
              0.3333333333333333,
              "#9c179e"
             ],
             [
              0.4444444444444444,
              "#bd3786"
             ],
             [
              0.5555555555555556,
              "#d8576b"
             ],
             [
              0.6666666666666666,
              "#ed7953"
             ],
             [
              0.7777777777777778,
              "#fb9f3a"
             ],
             [
              0.8888888888888888,
              "#fdca26"
             ],
             [
              1,
              "#f0f921"
             ]
            ],
            "type": "histogram2dcontour"
           }
          ],
          "mesh3d": [
           {
            "colorbar": {
             "outlinewidth": 0,
             "ticks": ""
            },
            "type": "mesh3d"
           }
          ],
          "parcoords": [
           {
            "line": {
             "colorbar": {
              "outlinewidth": 0,
              "ticks": ""
             }
            },
            "type": "parcoords"
           }
          ],
          "pie": [
           {
            "automargin": true,
            "type": "pie"
           }
          ],
          "scatter": [
           {
            "fillpattern": {
             "fillmode": "overlay",
             "size": 10,
             "solidity": 0.2
            },
            "type": "scatter"
           }
          ],
          "scatter3d": [
           {
            "line": {
             "colorbar": {
              "outlinewidth": 0,
              "ticks": ""
             }
            },
            "marker": {
             "colorbar": {
              "outlinewidth": 0,
              "ticks": ""
             }
            },
            "type": "scatter3d"
           }
          ],
          "scattercarpet": [
           {
            "marker": {
             "colorbar": {
              "outlinewidth": 0,
              "ticks": ""
             }
            },
            "type": "scattercarpet"
           }
          ],
          "scattergeo": [
           {
            "marker": {
             "colorbar": {
              "outlinewidth": 0,
              "ticks": ""
             }
            },
            "type": "scattergeo"
           }
          ],
          "scattergl": [
           {
            "marker": {
             "colorbar": {
              "outlinewidth": 0,
              "ticks": ""
             }
            },
            "type": "scattergl"
           }
          ],
          "scattermapbox": [
           {
            "marker": {
             "colorbar": {
              "outlinewidth": 0,
              "ticks": ""
             }
            },
            "type": "scattermapbox"
           }
          ],
          "scatterpolar": [
           {
            "marker": {
             "colorbar": {
              "outlinewidth": 0,
              "ticks": ""
             }
            },
            "type": "scatterpolar"
           }
          ],
          "scatterpolargl": [
           {
            "marker": {
             "colorbar": {
              "outlinewidth": 0,
              "ticks": ""
             }
            },
            "type": "scatterpolargl"
           }
          ],
          "scatterternary": [
           {
            "marker": {
             "colorbar": {
              "outlinewidth": 0,
              "ticks": ""
             }
            },
            "type": "scatterternary"
           }
          ],
          "surface": [
           {
            "colorbar": {
             "outlinewidth": 0,
             "ticks": ""
            },
            "colorscale": [
             [
              0,
              "#0d0887"
             ],
             [
              0.1111111111111111,
              "#46039f"
             ],
             [
              0.2222222222222222,
              "#7201a8"
             ],
             [
              0.3333333333333333,
              "#9c179e"
             ],
             [
              0.4444444444444444,
              "#bd3786"
             ],
             [
              0.5555555555555556,
              "#d8576b"
             ],
             [
              0.6666666666666666,
              "#ed7953"
             ],
             [
              0.7777777777777778,
              "#fb9f3a"
             ],
             [
              0.8888888888888888,
              "#fdca26"
             ],
             [
              1,
              "#f0f921"
             ]
            ],
            "type": "surface"
           }
          ],
          "table": [
           {
            "cells": {
             "fill": {
              "color": "#EBF0F8"
             },
             "line": {
              "color": "white"
             }
            },
            "header": {
             "fill": {
              "color": "#C8D4E3"
             },
             "line": {
              "color": "white"
             }
            },
            "type": "table"
           }
          ]
         },
         "layout": {
          "annotationdefaults": {
           "arrowcolor": "#2a3f5f",
           "arrowhead": 0,
           "arrowwidth": 1
          },
          "autotypenumbers": "strict",
          "coloraxis": {
           "colorbar": {
            "outlinewidth": 0,
            "ticks": ""
           }
          },
          "colorscale": {
           "diverging": [
            [
             0,
             "#8e0152"
            ],
            [
             0.1,
             "#c51b7d"
            ],
            [
             0.2,
             "#de77ae"
            ],
            [
             0.3,
             "#f1b6da"
            ],
            [
             0.4,
             "#fde0ef"
            ],
            [
             0.5,
             "#f7f7f7"
            ],
            [
             0.6,
             "#e6f5d0"
            ],
            [
             0.7,
             "#b8e186"
            ],
            [
             0.8,
             "#7fbc41"
            ],
            [
             0.9,
             "#4d9221"
            ],
            [
             1,
             "#276419"
            ]
           ],
           "sequential": [
            [
             0,
             "#0d0887"
            ],
            [
             0.1111111111111111,
             "#46039f"
            ],
            [
             0.2222222222222222,
             "#7201a8"
            ],
            [
             0.3333333333333333,
             "#9c179e"
            ],
            [
             0.4444444444444444,
             "#bd3786"
            ],
            [
             0.5555555555555556,
             "#d8576b"
            ],
            [
             0.6666666666666666,
             "#ed7953"
            ],
            [
             0.7777777777777778,
             "#fb9f3a"
            ],
            [
             0.8888888888888888,
             "#fdca26"
            ],
            [
             1,
             "#f0f921"
            ]
           ],
           "sequentialminus": [
            [
             0,
             "#0d0887"
            ],
            [
             0.1111111111111111,
             "#46039f"
            ],
            [
             0.2222222222222222,
             "#7201a8"
            ],
            [
             0.3333333333333333,
             "#9c179e"
            ],
            [
             0.4444444444444444,
             "#bd3786"
            ],
            [
             0.5555555555555556,
             "#d8576b"
            ],
            [
             0.6666666666666666,
             "#ed7953"
            ],
            [
             0.7777777777777778,
             "#fb9f3a"
            ],
            [
             0.8888888888888888,
             "#fdca26"
            ],
            [
             1,
             "#f0f921"
            ]
           ]
          },
          "colorway": [
           "#636efa",
           "#EF553B",
           "#00cc96",
           "#ab63fa",
           "#FFA15A",
           "#19d3f3",
           "#FF6692",
           "#B6E880",
           "#FF97FF",
           "#FECB52"
          ],
          "font": {
           "color": "#2a3f5f"
          },
          "geo": {
           "bgcolor": "white",
           "lakecolor": "white",
           "landcolor": "#E5ECF6",
           "showlakes": true,
           "showland": true,
           "subunitcolor": "white"
          },
          "hoverlabel": {
           "align": "left"
          },
          "hovermode": "closest",
          "mapbox": {
           "style": "light"
          },
          "paper_bgcolor": "white",
          "plot_bgcolor": "#E5ECF6",
          "polar": {
           "angularaxis": {
            "gridcolor": "white",
            "linecolor": "white",
            "ticks": ""
           },
           "bgcolor": "#E5ECF6",
           "radialaxis": {
            "gridcolor": "white",
            "linecolor": "white",
            "ticks": ""
           }
          },
          "scene": {
           "xaxis": {
            "backgroundcolor": "#E5ECF6",
            "gridcolor": "white",
            "gridwidth": 2,
            "linecolor": "white",
            "showbackground": true,
            "ticks": "",
            "zerolinecolor": "white"
           },
           "yaxis": {
            "backgroundcolor": "#E5ECF6",
            "gridcolor": "white",
            "gridwidth": 2,
            "linecolor": "white",
            "showbackground": true,
            "ticks": "",
            "zerolinecolor": "white"
           },
           "zaxis": {
            "backgroundcolor": "#E5ECF6",
            "gridcolor": "white",
            "gridwidth": 2,
            "linecolor": "white",
            "showbackground": true,
            "ticks": "",
            "zerolinecolor": "white"
           }
          },
          "shapedefaults": {
           "line": {
            "color": "#2a3f5f"
           }
          },
          "ternary": {
           "aaxis": {
            "gridcolor": "white",
            "linecolor": "white",
            "ticks": ""
           },
           "baxis": {
            "gridcolor": "white",
            "linecolor": "white",
            "ticks": ""
           },
           "bgcolor": "#E5ECF6",
           "caxis": {
            "gridcolor": "white",
            "linecolor": "white",
            "ticks": ""
           }
          },
          "title": {
           "x": 0.05
          },
          "xaxis": {
           "automargin": true,
           "gridcolor": "white",
           "linecolor": "white",
           "ticks": "",
           "title": {
            "standoff": 15
           },
           "zerolinecolor": "white",
           "zerolinewidth": 2
          },
          "yaxis": {
           "automargin": true,
           "gridcolor": "white",
           "linecolor": "white",
           "ticks": "",
           "title": {
            "standoff": 15
           },
           "zerolinecolor": "white",
           "zerolinewidth": 2
          }
         }
        },
        "title": {
         "text": "Domain Distribution in Category: forum_community"
        }
       }
      }
     },
     "metadata": {},
     "output_type": "display_data"
    },
    {
     "data": {
      "application/vnd.plotly.v1+json": {
       "config": {
        "plotlyServerURL": "https://plot.ly"
       },
       "data": [
        {
         "domain": {
          "x": [
           0,
           1
          ],
          "y": [
           0,
           1
          ]
         },
         "hole": 0.7,
         "hovertemplate": "base_url=%{label}<br>count=%{value}<extra></extra>",
         "labels": [
          "idam-ui.company-information.service.gov.uk",
          "find-and-update.company-information.service.gov.uk",
          "apps3.alameda.courts.ca.gov",
          "www.acgov.org",
          "data.civicsync.com",
          "ctsi-courtnetwork.org",
          "identity.company-information.service.gov.uk",
          "ewf.companieshouse.gov.uk",
          "www.gov.uk",
          "acvote.alamedacountyca.gov",
          "Other"
         ],
         "legendgroup": "",
         "name": "",
         "showlegend": true,
         "textinfo": "percent+label+value",
         "texttemplate": "%{label}: %{value} (%{percent:.1f}%)",
         "type": "pie",
         "values": [
          17,
          9,
          8,
          7,
          5,
          4,
          4,
          3,
          3,
          2,
          11
         ]
        }
       ],
       "layout": {
        "legend": {
         "tracegroupgap": 0
        },
        "template": {
         "data": {
          "bar": [
           {
            "error_x": {
             "color": "#2a3f5f"
            },
            "error_y": {
             "color": "#2a3f5f"
            },
            "marker": {
             "line": {
              "color": "#E5ECF6",
              "width": 0.5
             },
             "pattern": {
              "fillmode": "overlay",
              "size": 10,
              "solidity": 0.2
             }
            },
            "type": "bar"
           }
          ],
          "barpolar": [
           {
            "marker": {
             "line": {
              "color": "#E5ECF6",
              "width": 0.5
             },
             "pattern": {
              "fillmode": "overlay",
              "size": 10,
              "solidity": 0.2
             }
            },
            "type": "barpolar"
           }
          ],
          "carpet": [
           {
            "aaxis": {
             "endlinecolor": "#2a3f5f",
             "gridcolor": "white",
             "linecolor": "white",
             "minorgridcolor": "white",
             "startlinecolor": "#2a3f5f"
            },
            "baxis": {
             "endlinecolor": "#2a3f5f",
             "gridcolor": "white",
             "linecolor": "white",
             "minorgridcolor": "white",
             "startlinecolor": "#2a3f5f"
            },
            "type": "carpet"
           }
          ],
          "choropleth": [
           {
            "colorbar": {
             "outlinewidth": 0,
             "ticks": ""
            },
            "type": "choropleth"
           }
          ],
          "contour": [
           {
            "colorbar": {
             "outlinewidth": 0,
             "ticks": ""
            },
            "colorscale": [
             [
              0,
              "#0d0887"
             ],
             [
              0.1111111111111111,
              "#46039f"
             ],
             [
              0.2222222222222222,
              "#7201a8"
             ],
             [
              0.3333333333333333,
              "#9c179e"
             ],
             [
              0.4444444444444444,
              "#bd3786"
             ],
             [
              0.5555555555555556,
              "#d8576b"
             ],
             [
              0.6666666666666666,
              "#ed7953"
             ],
             [
              0.7777777777777778,
              "#fb9f3a"
             ],
             [
              0.8888888888888888,
              "#fdca26"
             ],
             [
              1,
              "#f0f921"
             ]
            ],
            "type": "contour"
           }
          ],
          "contourcarpet": [
           {
            "colorbar": {
             "outlinewidth": 0,
             "ticks": ""
            },
            "type": "contourcarpet"
           }
          ],
          "heatmap": [
           {
            "colorbar": {
             "outlinewidth": 0,
             "ticks": ""
            },
            "colorscale": [
             [
              0,
              "#0d0887"
             ],
             [
              0.1111111111111111,
              "#46039f"
             ],
             [
              0.2222222222222222,
              "#7201a8"
             ],
             [
              0.3333333333333333,
              "#9c179e"
             ],
             [
              0.4444444444444444,
              "#bd3786"
             ],
             [
              0.5555555555555556,
              "#d8576b"
             ],
             [
              0.6666666666666666,
              "#ed7953"
             ],
             [
              0.7777777777777778,
              "#fb9f3a"
             ],
             [
              0.8888888888888888,
              "#fdca26"
             ],
             [
              1,
              "#f0f921"
             ]
            ],
            "type": "heatmap"
           }
          ],
          "heatmapgl": [
           {
            "colorbar": {
             "outlinewidth": 0,
             "ticks": ""
            },
            "colorscale": [
             [
              0,
              "#0d0887"
             ],
             [
              0.1111111111111111,
              "#46039f"
             ],
             [
              0.2222222222222222,
              "#7201a8"
             ],
             [
              0.3333333333333333,
              "#9c179e"
             ],
             [
              0.4444444444444444,
              "#bd3786"
             ],
             [
              0.5555555555555556,
              "#d8576b"
             ],
             [
              0.6666666666666666,
              "#ed7953"
             ],
             [
              0.7777777777777778,
              "#fb9f3a"
             ],
             [
              0.8888888888888888,
              "#fdca26"
             ],
             [
              1,
              "#f0f921"
             ]
            ],
            "type": "heatmapgl"
           }
          ],
          "histogram": [
           {
            "marker": {
             "pattern": {
              "fillmode": "overlay",
              "size": 10,
              "solidity": 0.2
             }
            },
            "type": "histogram"
           }
          ],
          "histogram2d": [
           {
            "colorbar": {
             "outlinewidth": 0,
             "ticks": ""
            },
            "colorscale": [
             [
              0,
              "#0d0887"
             ],
             [
              0.1111111111111111,
              "#46039f"
             ],
             [
              0.2222222222222222,
              "#7201a8"
             ],
             [
              0.3333333333333333,
              "#9c179e"
             ],
             [
              0.4444444444444444,
              "#bd3786"
             ],
             [
              0.5555555555555556,
              "#d8576b"
             ],
             [
              0.6666666666666666,
              "#ed7953"
             ],
             [
              0.7777777777777778,
              "#fb9f3a"
             ],
             [
              0.8888888888888888,
              "#fdca26"
             ],
             [
              1,
              "#f0f921"
             ]
            ],
            "type": "histogram2d"
           }
          ],
          "histogram2dcontour": [
           {
            "colorbar": {
             "outlinewidth": 0,
             "ticks": ""
            },
            "colorscale": [
             [
              0,
              "#0d0887"
             ],
             [
              0.1111111111111111,
              "#46039f"
             ],
             [
              0.2222222222222222,
              "#7201a8"
             ],
             [
              0.3333333333333333,
              "#9c179e"
             ],
             [
              0.4444444444444444,
              "#bd3786"
             ],
             [
              0.5555555555555556,
              "#d8576b"
             ],
             [
              0.6666666666666666,
              "#ed7953"
             ],
             [
              0.7777777777777778,
              "#fb9f3a"
             ],
             [
              0.8888888888888888,
              "#fdca26"
             ],
             [
              1,
              "#f0f921"
             ]
            ],
            "type": "histogram2dcontour"
           }
          ],
          "mesh3d": [
           {
            "colorbar": {
             "outlinewidth": 0,
             "ticks": ""
            },
            "type": "mesh3d"
           }
          ],
          "parcoords": [
           {
            "line": {
             "colorbar": {
              "outlinewidth": 0,
              "ticks": ""
             }
            },
            "type": "parcoords"
           }
          ],
          "pie": [
           {
            "automargin": true,
            "type": "pie"
           }
          ],
          "scatter": [
           {
            "fillpattern": {
             "fillmode": "overlay",
             "size": 10,
             "solidity": 0.2
            },
            "type": "scatter"
           }
          ],
          "scatter3d": [
           {
            "line": {
             "colorbar": {
              "outlinewidth": 0,
              "ticks": ""
             }
            },
            "marker": {
             "colorbar": {
              "outlinewidth": 0,
              "ticks": ""
             }
            },
            "type": "scatter3d"
           }
          ],
          "scattercarpet": [
           {
            "marker": {
             "colorbar": {
              "outlinewidth": 0,
              "ticks": ""
             }
            },
            "type": "scattercarpet"
           }
          ],
          "scattergeo": [
           {
            "marker": {
             "colorbar": {
              "outlinewidth": 0,
              "ticks": ""
             }
            },
            "type": "scattergeo"
           }
          ],
          "scattergl": [
           {
            "marker": {
             "colorbar": {
              "outlinewidth": 0,
              "ticks": ""
             }
            },
            "type": "scattergl"
           }
          ],
          "scattermapbox": [
           {
            "marker": {
             "colorbar": {
              "outlinewidth": 0,
              "ticks": ""
             }
            },
            "type": "scattermapbox"
           }
          ],
          "scatterpolar": [
           {
            "marker": {
             "colorbar": {
              "outlinewidth": 0,
              "ticks": ""
             }
            },
            "type": "scatterpolar"
           }
          ],
          "scatterpolargl": [
           {
            "marker": {
             "colorbar": {
              "outlinewidth": 0,
              "ticks": ""
             }
            },
            "type": "scatterpolargl"
           }
          ],
          "scatterternary": [
           {
            "marker": {
             "colorbar": {
              "outlinewidth": 0,
              "ticks": ""
             }
            },
            "type": "scatterternary"
           }
          ],
          "surface": [
           {
            "colorbar": {
             "outlinewidth": 0,
             "ticks": ""
            },
            "colorscale": [
             [
              0,
              "#0d0887"
             ],
             [
              0.1111111111111111,
              "#46039f"
             ],
             [
              0.2222222222222222,
              "#7201a8"
             ],
             [
              0.3333333333333333,
              "#9c179e"
             ],
             [
              0.4444444444444444,
              "#bd3786"
             ],
             [
              0.5555555555555556,
              "#d8576b"
             ],
             [
              0.6666666666666666,
              "#ed7953"
             ],
             [
              0.7777777777777778,
              "#fb9f3a"
             ],
             [
              0.8888888888888888,
              "#fdca26"
             ],
             [
              1,
              "#f0f921"
             ]
            ],
            "type": "surface"
           }
          ],
          "table": [
           {
            "cells": {
             "fill": {
              "color": "#EBF0F8"
             },
             "line": {
              "color": "white"
             }
            },
            "header": {
             "fill": {
              "color": "#C8D4E3"
             },
             "line": {
              "color": "white"
             }
            },
            "type": "table"
           }
          ]
         },
         "layout": {
          "annotationdefaults": {
           "arrowcolor": "#2a3f5f",
           "arrowhead": 0,
           "arrowwidth": 1
          },
          "autotypenumbers": "strict",
          "coloraxis": {
           "colorbar": {
            "outlinewidth": 0,
            "ticks": ""
           }
          },
          "colorscale": {
           "diverging": [
            [
             0,
             "#8e0152"
            ],
            [
             0.1,
             "#c51b7d"
            ],
            [
             0.2,
             "#de77ae"
            ],
            [
             0.3,
             "#f1b6da"
            ],
            [
             0.4,
             "#fde0ef"
            ],
            [
             0.5,
             "#f7f7f7"
            ],
            [
             0.6,
             "#e6f5d0"
            ],
            [
             0.7,
             "#b8e186"
            ],
            [
             0.8,
             "#7fbc41"
            ],
            [
             0.9,
             "#4d9221"
            ],
            [
             1,
             "#276419"
            ]
           ],
           "sequential": [
            [
             0,
             "#0d0887"
            ],
            [
             0.1111111111111111,
             "#46039f"
            ],
            [
             0.2222222222222222,
             "#7201a8"
            ],
            [
             0.3333333333333333,
             "#9c179e"
            ],
            [
             0.4444444444444444,
             "#bd3786"
            ],
            [
             0.5555555555555556,
             "#d8576b"
            ],
            [
             0.6666666666666666,
             "#ed7953"
            ],
            [
             0.7777777777777778,
             "#fb9f3a"
            ],
            [
             0.8888888888888888,
             "#fdca26"
            ],
            [
             1,
             "#f0f921"
            ]
           ],
           "sequentialminus": [
            [
             0,
             "#0d0887"
            ],
            [
             0.1111111111111111,
             "#46039f"
            ],
            [
             0.2222222222222222,
             "#7201a8"
            ],
            [
             0.3333333333333333,
             "#9c179e"
            ],
            [
             0.4444444444444444,
             "#bd3786"
            ],
            [
             0.5555555555555556,
             "#d8576b"
            ],
            [
             0.6666666666666666,
             "#ed7953"
            ],
            [
             0.7777777777777778,
             "#fb9f3a"
            ],
            [
             0.8888888888888888,
             "#fdca26"
            ],
            [
             1,
             "#f0f921"
            ]
           ]
          },
          "colorway": [
           "#636efa",
           "#EF553B",
           "#00cc96",
           "#ab63fa",
           "#FFA15A",
           "#19d3f3",
           "#FF6692",
           "#B6E880",
           "#FF97FF",
           "#FECB52"
          ],
          "font": {
           "color": "#2a3f5f"
          },
          "geo": {
           "bgcolor": "white",
           "lakecolor": "white",
           "landcolor": "#E5ECF6",
           "showlakes": true,
           "showland": true,
           "subunitcolor": "white"
          },
          "hoverlabel": {
           "align": "left"
          },
          "hovermode": "closest",
          "mapbox": {
           "style": "light"
          },
          "paper_bgcolor": "white",
          "plot_bgcolor": "#E5ECF6",
          "polar": {
           "angularaxis": {
            "gridcolor": "white",
            "linecolor": "white",
            "ticks": ""
           },
           "bgcolor": "#E5ECF6",
           "radialaxis": {
            "gridcolor": "white",
            "linecolor": "white",
            "ticks": ""
           }
          },
          "scene": {
           "xaxis": {
            "backgroundcolor": "#E5ECF6",
            "gridcolor": "white",
            "gridwidth": 2,
            "linecolor": "white",
            "showbackground": true,
            "ticks": "",
            "zerolinecolor": "white"
           },
           "yaxis": {
            "backgroundcolor": "#E5ECF6",
            "gridcolor": "white",
            "gridwidth": 2,
            "linecolor": "white",
            "showbackground": true,
            "ticks": "",
            "zerolinecolor": "white"
           },
           "zaxis": {
            "backgroundcolor": "#E5ECF6",
            "gridcolor": "white",
            "gridwidth": 2,
            "linecolor": "white",
            "showbackground": true,
            "ticks": "",
            "zerolinecolor": "white"
           }
          },
          "shapedefaults": {
           "line": {
            "color": "#2a3f5f"
           }
          },
          "ternary": {
           "aaxis": {
            "gridcolor": "white",
            "linecolor": "white",
            "ticks": ""
           },
           "baxis": {
            "gridcolor": "white",
            "linecolor": "white",
            "ticks": ""
           },
           "bgcolor": "#E5ECF6",
           "caxis": {
            "gridcolor": "white",
            "linecolor": "white",
            "ticks": ""
           }
          },
          "title": {
           "x": 0.05
          },
          "xaxis": {
           "automargin": true,
           "gridcolor": "white",
           "linecolor": "white",
           "ticks": "",
           "title": {
            "standoff": 15
           },
           "zerolinecolor": "white",
           "zerolinewidth": 2
          },
          "yaxis": {
           "automargin": true,
           "gridcolor": "white",
           "linecolor": "white",
           "ticks": "",
           "title": {
            "standoff": 15
           },
           "zerolinecolor": "white",
           "zerolinewidth": 2
          }
         }
        },
        "title": {
         "text": "Domain Distribution in Category: government_services"
        }
       }
      }
     },
     "metadata": {},
     "output_type": "display_data"
    },
    {
     "data": {
      "application/vnd.plotly.v1+json": {
       "config": {
        "plotlyServerURL": "https://plot.ly"
       },
       "data": [
        {
         "domain": {
          "x": [
           0,
           1
          ],
          "y": [
           0,
           1
          ]
         },
         "hole": 0.7,
         "hovertemplate": "base_url=%{label}<br>count=%{value}<extra></extra>",
         "labels": [
          "www.mavenclinic.com",
          "app.onemedical.com",
          "www.myfitnesspal.com",
          "health.amazon.com",
          "plushcare.com",
          "www.blueberrypediatrics.com",
          "www.fitbit.com",
          "auth.mavenclinic.com",
          "login.onemedical.com",
          "akusolireview.health-insight.net",
          "Other"
         ],
         "legendgroup": "",
         "name": "",
         "showlegend": true,
         "textinfo": "percent+label+value",
         "texttemplate": "%{label}: %{value} (%{percent:.1f}%)",
         "type": "pie",
         "values": [
          31,
          17,
          12,
          8,
          3,
          3,
          3,
          2,
          2,
          1,
          5
         ]
        }
       ],
       "layout": {
        "legend": {
         "tracegroupgap": 0
        },
        "template": {
         "data": {
          "bar": [
           {
            "error_x": {
             "color": "#2a3f5f"
            },
            "error_y": {
             "color": "#2a3f5f"
            },
            "marker": {
             "line": {
              "color": "#E5ECF6",
              "width": 0.5
             },
             "pattern": {
              "fillmode": "overlay",
              "size": 10,
              "solidity": 0.2
             }
            },
            "type": "bar"
           }
          ],
          "barpolar": [
           {
            "marker": {
             "line": {
              "color": "#E5ECF6",
              "width": 0.5
             },
             "pattern": {
              "fillmode": "overlay",
              "size": 10,
              "solidity": 0.2
             }
            },
            "type": "barpolar"
           }
          ],
          "carpet": [
           {
            "aaxis": {
             "endlinecolor": "#2a3f5f",
             "gridcolor": "white",
             "linecolor": "white",
             "minorgridcolor": "white",
             "startlinecolor": "#2a3f5f"
            },
            "baxis": {
             "endlinecolor": "#2a3f5f",
             "gridcolor": "white",
             "linecolor": "white",
             "minorgridcolor": "white",
             "startlinecolor": "#2a3f5f"
            },
            "type": "carpet"
           }
          ],
          "choropleth": [
           {
            "colorbar": {
             "outlinewidth": 0,
             "ticks": ""
            },
            "type": "choropleth"
           }
          ],
          "contour": [
           {
            "colorbar": {
             "outlinewidth": 0,
             "ticks": ""
            },
            "colorscale": [
             [
              0,
              "#0d0887"
             ],
             [
              0.1111111111111111,
              "#46039f"
             ],
             [
              0.2222222222222222,
              "#7201a8"
             ],
             [
              0.3333333333333333,
              "#9c179e"
             ],
             [
              0.4444444444444444,
              "#bd3786"
             ],
             [
              0.5555555555555556,
              "#d8576b"
             ],
             [
              0.6666666666666666,
              "#ed7953"
             ],
             [
              0.7777777777777778,
              "#fb9f3a"
             ],
             [
              0.8888888888888888,
              "#fdca26"
             ],
             [
              1,
              "#f0f921"
             ]
            ],
            "type": "contour"
           }
          ],
          "contourcarpet": [
           {
            "colorbar": {
             "outlinewidth": 0,
             "ticks": ""
            },
            "type": "contourcarpet"
           }
          ],
          "heatmap": [
           {
            "colorbar": {
             "outlinewidth": 0,
             "ticks": ""
            },
            "colorscale": [
             [
              0,
              "#0d0887"
             ],
             [
              0.1111111111111111,
              "#46039f"
             ],
             [
              0.2222222222222222,
              "#7201a8"
             ],
             [
              0.3333333333333333,
              "#9c179e"
             ],
             [
              0.4444444444444444,
              "#bd3786"
             ],
             [
              0.5555555555555556,
              "#d8576b"
             ],
             [
              0.6666666666666666,
              "#ed7953"
             ],
             [
              0.7777777777777778,
              "#fb9f3a"
             ],
             [
              0.8888888888888888,
              "#fdca26"
             ],
             [
              1,
              "#f0f921"
             ]
            ],
            "type": "heatmap"
           }
          ],
          "heatmapgl": [
           {
            "colorbar": {
             "outlinewidth": 0,
             "ticks": ""
            },
            "colorscale": [
             [
              0,
              "#0d0887"
             ],
             [
              0.1111111111111111,
              "#46039f"
             ],
             [
              0.2222222222222222,
              "#7201a8"
             ],
             [
              0.3333333333333333,
              "#9c179e"
             ],
             [
              0.4444444444444444,
              "#bd3786"
             ],
             [
              0.5555555555555556,
              "#d8576b"
             ],
             [
              0.6666666666666666,
              "#ed7953"
             ],
             [
              0.7777777777777778,
              "#fb9f3a"
             ],
             [
              0.8888888888888888,
              "#fdca26"
             ],
             [
              1,
              "#f0f921"
             ]
            ],
            "type": "heatmapgl"
           }
          ],
          "histogram": [
           {
            "marker": {
             "pattern": {
              "fillmode": "overlay",
              "size": 10,
              "solidity": 0.2
             }
            },
            "type": "histogram"
           }
          ],
          "histogram2d": [
           {
            "colorbar": {
             "outlinewidth": 0,
             "ticks": ""
            },
            "colorscale": [
             [
              0,
              "#0d0887"
             ],
             [
              0.1111111111111111,
              "#46039f"
             ],
             [
              0.2222222222222222,
              "#7201a8"
             ],
             [
              0.3333333333333333,
              "#9c179e"
             ],
             [
              0.4444444444444444,
              "#bd3786"
             ],
             [
              0.5555555555555556,
              "#d8576b"
             ],
             [
              0.6666666666666666,
              "#ed7953"
             ],
             [
              0.7777777777777778,
              "#fb9f3a"
             ],
             [
              0.8888888888888888,
              "#fdca26"
             ],
             [
              1,
              "#f0f921"
             ]
            ],
            "type": "histogram2d"
           }
          ],
          "histogram2dcontour": [
           {
            "colorbar": {
             "outlinewidth": 0,
             "ticks": ""
            },
            "colorscale": [
             [
              0,
              "#0d0887"
             ],
             [
              0.1111111111111111,
              "#46039f"
             ],
             [
              0.2222222222222222,
              "#7201a8"
             ],
             [
              0.3333333333333333,
              "#9c179e"
             ],
             [
              0.4444444444444444,
              "#bd3786"
             ],
             [
              0.5555555555555556,
              "#d8576b"
             ],
             [
              0.6666666666666666,
              "#ed7953"
             ],
             [
              0.7777777777777778,
              "#fb9f3a"
             ],
             [
              0.8888888888888888,
              "#fdca26"
             ],
             [
              1,
              "#f0f921"
             ]
            ],
            "type": "histogram2dcontour"
           }
          ],
          "mesh3d": [
           {
            "colorbar": {
             "outlinewidth": 0,
             "ticks": ""
            },
            "type": "mesh3d"
           }
          ],
          "parcoords": [
           {
            "line": {
             "colorbar": {
              "outlinewidth": 0,
              "ticks": ""
             }
            },
            "type": "parcoords"
           }
          ],
          "pie": [
           {
            "automargin": true,
            "type": "pie"
           }
          ],
          "scatter": [
           {
            "fillpattern": {
             "fillmode": "overlay",
             "size": 10,
             "solidity": 0.2
            },
            "type": "scatter"
           }
          ],
          "scatter3d": [
           {
            "line": {
             "colorbar": {
              "outlinewidth": 0,
              "ticks": ""
             }
            },
            "marker": {
             "colorbar": {
              "outlinewidth": 0,
              "ticks": ""
             }
            },
            "type": "scatter3d"
           }
          ],
          "scattercarpet": [
           {
            "marker": {
             "colorbar": {
              "outlinewidth": 0,
              "ticks": ""
             }
            },
            "type": "scattercarpet"
           }
          ],
          "scattergeo": [
           {
            "marker": {
             "colorbar": {
              "outlinewidth": 0,
              "ticks": ""
             }
            },
            "type": "scattergeo"
           }
          ],
          "scattergl": [
           {
            "marker": {
             "colorbar": {
              "outlinewidth": 0,
              "ticks": ""
             }
            },
            "type": "scattergl"
           }
          ],
          "scattermapbox": [
           {
            "marker": {
             "colorbar": {
              "outlinewidth": 0,
              "ticks": ""
             }
            },
            "type": "scattermapbox"
           }
          ],
          "scatterpolar": [
           {
            "marker": {
             "colorbar": {
              "outlinewidth": 0,
              "ticks": ""
             }
            },
            "type": "scatterpolar"
           }
          ],
          "scatterpolargl": [
           {
            "marker": {
             "colorbar": {
              "outlinewidth": 0,
              "ticks": ""
             }
            },
            "type": "scatterpolargl"
           }
          ],
          "scatterternary": [
           {
            "marker": {
             "colorbar": {
              "outlinewidth": 0,
              "ticks": ""
             }
            },
            "type": "scatterternary"
           }
          ],
          "surface": [
           {
            "colorbar": {
             "outlinewidth": 0,
             "ticks": ""
            },
            "colorscale": [
             [
              0,
              "#0d0887"
             ],
             [
              0.1111111111111111,
              "#46039f"
             ],
             [
              0.2222222222222222,
              "#7201a8"
             ],
             [
              0.3333333333333333,
              "#9c179e"
             ],
             [
              0.4444444444444444,
              "#bd3786"
             ],
             [
              0.5555555555555556,
              "#d8576b"
             ],
             [
              0.6666666666666666,
              "#ed7953"
             ],
             [
              0.7777777777777778,
              "#fb9f3a"
             ],
             [
              0.8888888888888888,
              "#fdca26"
             ],
             [
              1,
              "#f0f921"
             ]
            ],
            "type": "surface"
           }
          ],
          "table": [
           {
            "cells": {
             "fill": {
              "color": "#EBF0F8"
             },
             "line": {
              "color": "white"
             }
            },
            "header": {
             "fill": {
              "color": "#C8D4E3"
             },
             "line": {
              "color": "white"
             }
            },
            "type": "table"
           }
          ]
         },
         "layout": {
          "annotationdefaults": {
           "arrowcolor": "#2a3f5f",
           "arrowhead": 0,
           "arrowwidth": 1
          },
          "autotypenumbers": "strict",
          "coloraxis": {
           "colorbar": {
            "outlinewidth": 0,
            "ticks": ""
           }
          },
          "colorscale": {
           "diverging": [
            [
             0,
             "#8e0152"
            ],
            [
             0.1,
             "#c51b7d"
            ],
            [
             0.2,
             "#de77ae"
            ],
            [
             0.3,
             "#f1b6da"
            ],
            [
             0.4,
             "#fde0ef"
            ],
            [
             0.5,
             "#f7f7f7"
            ],
            [
             0.6,
             "#e6f5d0"
            ],
            [
             0.7,
             "#b8e186"
            ],
            [
             0.8,
             "#7fbc41"
            ],
            [
             0.9,
             "#4d9221"
            ],
            [
             1,
             "#276419"
            ]
           ],
           "sequential": [
            [
             0,
             "#0d0887"
            ],
            [
             0.1111111111111111,
             "#46039f"
            ],
            [
             0.2222222222222222,
             "#7201a8"
            ],
            [
             0.3333333333333333,
             "#9c179e"
            ],
            [
             0.4444444444444444,
             "#bd3786"
            ],
            [
             0.5555555555555556,
             "#d8576b"
            ],
            [
             0.6666666666666666,
             "#ed7953"
            ],
            [
             0.7777777777777778,
             "#fb9f3a"
            ],
            [
             0.8888888888888888,
             "#fdca26"
            ],
            [
             1,
             "#f0f921"
            ]
           ],
           "sequentialminus": [
            [
             0,
             "#0d0887"
            ],
            [
             0.1111111111111111,
             "#46039f"
            ],
            [
             0.2222222222222222,
             "#7201a8"
            ],
            [
             0.3333333333333333,
             "#9c179e"
            ],
            [
             0.4444444444444444,
             "#bd3786"
            ],
            [
             0.5555555555555556,
             "#d8576b"
            ],
            [
             0.6666666666666666,
             "#ed7953"
            ],
            [
             0.7777777777777778,
             "#fb9f3a"
            ],
            [
             0.8888888888888888,
             "#fdca26"
            ],
            [
             1,
             "#f0f921"
            ]
           ]
          },
          "colorway": [
           "#636efa",
           "#EF553B",
           "#00cc96",
           "#ab63fa",
           "#FFA15A",
           "#19d3f3",
           "#FF6692",
           "#B6E880",
           "#FF97FF",
           "#FECB52"
          ],
          "font": {
           "color": "#2a3f5f"
          },
          "geo": {
           "bgcolor": "white",
           "lakecolor": "white",
           "landcolor": "#E5ECF6",
           "showlakes": true,
           "showland": true,
           "subunitcolor": "white"
          },
          "hoverlabel": {
           "align": "left"
          },
          "hovermode": "closest",
          "mapbox": {
           "style": "light"
          },
          "paper_bgcolor": "white",
          "plot_bgcolor": "#E5ECF6",
          "polar": {
           "angularaxis": {
            "gridcolor": "white",
            "linecolor": "white",
            "ticks": ""
           },
           "bgcolor": "#E5ECF6",
           "radialaxis": {
            "gridcolor": "white",
            "linecolor": "white",
            "ticks": ""
           }
          },
          "scene": {
           "xaxis": {
            "backgroundcolor": "#E5ECF6",
            "gridcolor": "white",
            "gridwidth": 2,
            "linecolor": "white",
            "showbackground": true,
            "ticks": "",
            "zerolinecolor": "white"
           },
           "yaxis": {
            "backgroundcolor": "#E5ECF6",
            "gridcolor": "white",
            "gridwidth": 2,
            "linecolor": "white",
            "showbackground": true,
            "ticks": "",
            "zerolinecolor": "white"
           },
           "zaxis": {
            "backgroundcolor": "#E5ECF6",
            "gridcolor": "white",
            "gridwidth": 2,
            "linecolor": "white",
            "showbackground": true,
            "ticks": "",
            "zerolinecolor": "white"
           }
          },
          "shapedefaults": {
           "line": {
            "color": "#2a3f5f"
           }
          },
          "ternary": {
           "aaxis": {
            "gridcolor": "white",
            "linecolor": "white",
            "ticks": ""
           },
           "baxis": {
            "gridcolor": "white",
            "linecolor": "white",
            "ticks": ""
           },
           "bgcolor": "#E5ECF6",
           "caxis": {
            "gridcolor": "white",
            "linecolor": "white",
            "ticks": ""
           }
          },
          "title": {
           "x": 0.05
          },
          "xaxis": {
           "automargin": true,
           "gridcolor": "white",
           "linecolor": "white",
           "ticks": "",
           "title": {
            "standoff": 15
           },
           "zerolinecolor": "white",
           "zerolinewidth": 2
          },
          "yaxis": {
           "automargin": true,
           "gridcolor": "white",
           "linecolor": "white",
           "ticks": "",
           "title": {
            "standoff": 15
           },
           "zerolinecolor": "white",
           "zerolinewidth": 2
          }
         }
        },
        "title": {
         "text": "Domain Distribution in Category: health_fitness"
        }
       }
      }
     },
     "metadata": {},
     "output_type": "display_data"
    },
    {
     "data": {
      "application/vnd.plotly.v1+json": {
       "config": {
        "plotlyServerURL": "https://plot.ly"
       },
       "data": [
        {
         "domain": {
          "x": [
           0,
           1
          ],
          "y": [
           0,
           1
          ]
         },
         "hole": 0.7,
         "hovertemplate": "base_url=%{label}<br>count=%{value}<extra></extra>",
         "labels": [
          "www.upwork.com",
          "wellfound.com",
          "itviec.com"
         ],
         "legendgroup": "",
         "name": "",
         "showlegend": true,
         "textinfo": "percent+label+value",
         "texttemplate": "%{label}: %{value} (%{percent:.1f}%)",
         "type": "pie",
         "values": [
          473,
          107,
          4
         ]
        }
       ],
       "layout": {
        "legend": {
         "tracegroupgap": 0
        },
        "template": {
         "data": {
          "bar": [
           {
            "error_x": {
             "color": "#2a3f5f"
            },
            "error_y": {
             "color": "#2a3f5f"
            },
            "marker": {
             "line": {
              "color": "#E5ECF6",
              "width": 0.5
             },
             "pattern": {
              "fillmode": "overlay",
              "size": 10,
              "solidity": 0.2
             }
            },
            "type": "bar"
           }
          ],
          "barpolar": [
           {
            "marker": {
             "line": {
              "color": "#E5ECF6",
              "width": 0.5
             },
             "pattern": {
              "fillmode": "overlay",
              "size": 10,
              "solidity": 0.2
             }
            },
            "type": "barpolar"
           }
          ],
          "carpet": [
           {
            "aaxis": {
             "endlinecolor": "#2a3f5f",
             "gridcolor": "white",
             "linecolor": "white",
             "minorgridcolor": "white",
             "startlinecolor": "#2a3f5f"
            },
            "baxis": {
             "endlinecolor": "#2a3f5f",
             "gridcolor": "white",
             "linecolor": "white",
             "minorgridcolor": "white",
             "startlinecolor": "#2a3f5f"
            },
            "type": "carpet"
           }
          ],
          "choropleth": [
           {
            "colorbar": {
             "outlinewidth": 0,
             "ticks": ""
            },
            "type": "choropleth"
           }
          ],
          "contour": [
           {
            "colorbar": {
             "outlinewidth": 0,
             "ticks": ""
            },
            "colorscale": [
             [
              0,
              "#0d0887"
             ],
             [
              0.1111111111111111,
              "#46039f"
             ],
             [
              0.2222222222222222,
              "#7201a8"
             ],
             [
              0.3333333333333333,
              "#9c179e"
             ],
             [
              0.4444444444444444,
              "#bd3786"
             ],
             [
              0.5555555555555556,
              "#d8576b"
             ],
             [
              0.6666666666666666,
              "#ed7953"
             ],
             [
              0.7777777777777778,
              "#fb9f3a"
             ],
             [
              0.8888888888888888,
              "#fdca26"
             ],
             [
              1,
              "#f0f921"
             ]
            ],
            "type": "contour"
           }
          ],
          "contourcarpet": [
           {
            "colorbar": {
             "outlinewidth": 0,
             "ticks": ""
            },
            "type": "contourcarpet"
           }
          ],
          "heatmap": [
           {
            "colorbar": {
             "outlinewidth": 0,
             "ticks": ""
            },
            "colorscale": [
             [
              0,
              "#0d0887"
             ],
             [
              0.1111111111111111,
              "#46039f"
             ],
             [
              0.2222222222222222,
              "#7201a8"
             ],
             [
              0.3333333333333333,
              "#9c179e"
             ],
             [
              0.4444444444444444,
              "#bd3786"
             ],
             [
              0.5555555555555556,
              "#d8576b"
             ],
             [
              0.6666666666666666,
              "#ed7953"
             ],
             [
              0.7777777777777778,
              "#fb9f3a"
             ],
             [
              0.8888888888888888,
              "#fdca26"
             ],
             [
              1,
              "#f0f921"
             ]
            ],
            "type": "heatmap"
           }
          ],
          "heatmapgl": [
           {
            "colorbar": {
             "outlinewidth": 0,
             "ticks": ""
            },
            "colorscale": [
             [
              0,
              "#0d0887"
             ],
             [
              0.1111111111111111,
              "#46039f"
             ],
             [
              0.2222222222222222,
              "#7201a8"
             ],
             [
              0.3333333333333333,
              "#9c179e"
             ],
             [
              0.4444444444444444,
              "#bd3786"
             ],
             [
              0.5555555555555556,
              "#d8576b"
             ],
             [
              0.6666666666666666,
              "#ed7953"
             ],
             [
              0.7777777777777778,
              "#fb9f3a"
             ],
             [
              0.8888888888888888,
              "#fdca26"
             ],
             [
              1,
              "#f0f921"
             ]
            ],
            "type": "heatmapgl"
           }
          ],
          "histogram": [
           {
            "marker": {
             "pattern": {
              "fillmode": "overlay",
              "size": 10,
              "solidity": 0.2
             }
            },
            "type": "histogram"
           }
          ],
          "histogram2d": [
           {
            "colorbar": {
             "outlinewidth": 0,
             "ticks": ""
            },
            "colorscale": [
             [
              0,
              "#0d0887"
             ],
             [
              0.1111111111111111,
              "#46039f"
             ],
             [
              0.2222222222222222,
              "#7201a8"
             ],
             [
              0.3333333333333333,
              "#9c179e"
             ],
             [
              0.4444444444444444,
              "#bd3786"
             ],
             [
              0.5555555555555556,
              "#d8576b"
             ],
             [
              0.6666666666666666,
              "#ed7953"
             ],
             [
              0.7777777777777778,
              "#fb9f3a"
             ],
             [
              0.8888888888888888,
              "#fdca26"
             ],
             [
              1,
              "#f0f921"
             ]
            ],
            "type": "histogram2d"
           }
          ],
          "histogram2dcontour": [
           {
            "colorbar": {
             "outlinewidth": 0,
             "ticks": ""
            },
            "colorscale": [
             [
              0,
              "#0d0887"
             ],
             [
              0.1111111111111111,
              "#46039f"
             ],
             [
              0.2222222222222222,
              "#7201a8"
             ],
             [
              0.3333333333333333,
              "#9c179e"
             ],
             [
              0.4444444444444444,
              "#bd3786"
             ],
             [
              0.5555555555555556,
              "#d8576b"
             ],
             [
              0.6666666666666666,
              "#ed7953"
             ],
             [
              0.7777777777777778,
              "#fb9f3a"
             ],
             [
              0.8888888888888888,
              "#fdca26"
             ],
             [
              1,
              "#f0f921"
             ]
            ],
            "type": "histogram2dcontour"
           }
          ],
          "mesh3d": [
           {
            "colorbar": {
             "outlinewidth": 0,
             "ticks": ""
            },
            "type": "mesh3d"
           }
          ],
          "parcoords": [
           {
            "line": {
             "colorbar": {
              "outlinewidth": 0,
              "ticks": ""
             }
            },
            "type": "parcoords"
           }
          ],
          "pie": [
           {
            "automargin": true,
            "type": "pie"
           }
          ],
          "scatter": [
           {
            "fillpattern": {
             "fillmode": "overlay",
             "size": 10,
             "solidity": 0.2
            },
            "type": "scatter"
           }
          ],
          "scatter3d": [
           {
            "line": {
             "colorbar": {
              "outlinewidth": 0,
              "ticks": ""
             }
            },
            "marker": {
             "colorbar": {
              "outlinewidth": 0,
              "ticks": ""
             }
            },
            "type": "scatter3d"
           }
          ],
          "scattercarpet": [
           {
            "marker": {
             "colorbar": {
              "outlinewidth": 0,
              "ticks": ""
             }
            },
            "type": "scattercarpet"
           }
          ],
          "scattergeo": [
           {
            "marker": {
             "colorbar": {
              "outlinewidth": 0,
              "ticks": ""
             }
            },
            "type": "scattergeo"
           }
          ],
          "scattergl": [
           {
            "marker": {
             "colorbar": {
              "outlinewidth": 0,
              "ticks": ""
             }
            },
            "type": "scattergl"
           }
          ],
          "scattermapbox": [
           {
            "marker": {
             "colorbar": {
              "outlinewidth": 0,
              "ticks": ""
             }
            },
            "type": "scattermapbox"
           }
          ],
          "scatterpolar": [
           {
            "marker": {
             "colorbar": {
              "outlinewidth": 0,
              "ticks": ""
             }
            },
            "type": "scatterpolar"
           }
          ],
          "scatterpolargl": [
           {
            "marker": {
             "colorbar": {
              "outlinewidth": 0,
              "ticks": ""
             }
            },
            "type": "scatterpolargl"
           }
          ],
          "scatterternary": [
           {
            "marker": {
             "colorbar": {
              "outlinewidth": 0,
              "ticks": ""
             }
            },
            "type": "scatterternary"
           }
          ],
          "surface": [
           {
            "colorbar": {
             "outlinewidth": 0,
             "ticks": ""
            },
            "colorscale": [
             [
              0,
              "#0d0887"
             ],
             [
              0.1111111111111111,
              "#46039f"
             ],
             [
              0.2222222222222222,
              "#7201a8"
             ],
             [
              0.3333333333333333,
              "#9c179e"
             ],
             [
              0.4444444444444444,
              "#bd3786"
             ],
             [
              0.5555555555555556,
              "#d8576b"
             ],
             [
              0.6666666666666666,
              "#ed7953"
             ],
             [
              0.7777777777777778,
              "#fb9f3a"
             ],
             [
              0.8888888888888888,
              "#fdca26"
             ],
             [
              1,
              "#f0f921"
             ]
            ],
            "type": "surface"
           }
          ],
          "table": [
           {
            "cells": {
             "fill": {
              "color": "#EBF0F8"
             },
             "line": {
              "color": "white"
             }
            },
            "header": {
             "fill": {
              "color": "#C8D4E3"
             },
             "line": {
              "color": "white"
             }
            },
            "type": "table"
           }
          ]
         },
         "layout": {
          "annotationdefaults": {
           "arrowcolor": "#2a3f5f",
           "arrowhead": 0,
           "arrowwidth": 1
          },
          "autotypenumbers": "strict",
          "coloraxis": {
           "colorbar": {
            "outlinewidth": 0,
            "ticks": ""
           }
          },
          "colorscale": {
           "diverging": [
            [
             0,
             "#8e0152"
            ],
            [
             0.1,
             "#c51b7d"
            ],
            [
             0.2,
             "#de77ae"
            ],
            [
             0.3,
             "#f1b6da"
            ],
            [
             0.4,
             "#fde0ef"
            ],
            [
             0.5,
             "#f7f7f7"
            ],
            [
             0.6,
             "#e6f5d0"
            ],
            [
             0.7,
             "#b8e186"
            ],
            [
             0.8,
             "#7fbc41"
            ],
            [
             0.9,
             "#4d9221"
            ],
            [
             1,
             "#276419"
            ]
           ],
           "sequential": [
            [
             0,
             "#0d0887"
            ],
            [
             0.1111111111111111,
             "#46039f"
            ],
            [
             0.2222222222222222,
             "#7201a8"
            ],
            [
             0.3333333333333333,
             "#9c179e"
            ],
            [
             0.4444444444444444,
             "#bd3786"
            ],
            [
             0.5555555555555556,
             "#d8576b"
            ],
            [
             0.6666666666666666,
             "#ed7953"
            ],
            [
             0.7777777777777778,
             "#fb9f3a"
            ],
            [
             0.8888888888888888,
             "#fdca26"
            ],
            [
             1,
             "#f0f921"
            ]
           ],
           "sequentialminus": [
            [
             0,
             "#0d0887"
            ],
            [
             0.1111111111111111,
             "#46039f"
            ],
            [
             0.2222222222222222,
             "#7201a8"
            ],
            [
             0.3333333333333333,
             "#9c179e"
            ],
            [
             0.4444444444444444,
             "#bd3786"
            ],
            [
             0.5555555555555556,
             "#d8576b"
            ],
            [
             0.6666666666666666,
             "#ed7953"
            ],
            [
             0.7777777777777778,
             "#fb9f3a"
            ],
            [
             0.8888888888888888,
             "#fdca26"
            ],
            [
             1,
             "#f0f921"
            ]
           ]
          },
          "colorway": [
           "#636efa",
           "#EF553B",
           "#00cc96",
           "#ab63fa",
           "#FFA15A",
           "#19d3f3",
           "#FF6692",
           "#B6E880",
           "#FF97FF",
           "#FECB52"
          ],
          "font": {
           "color": "#2a3f5f"
          },
          "geo": {
           "bgcolor": "white",
           "lakecolor": "white",
           "landcolor": "#E5ECF6",
           "showlakes": true,
           "showland": true,
           "subunitcolor": "white"
          },
          "hoverlabel": {
           "align": "left"
          },
          "hovermode": "closest",
          "mapbox": {
           "style": "light"
          },
          "paper_bgcolor": "white",
          "plot_bgcolor": "#E5ECF6",
          "polar": {
           "angularaxis": {
            "gridcolor": "white",
            "linecolor": "white",
            "ticks": ""
           },
           "bgcolor": "#E5ECF6",
           "radialaxis": {
            "gridcolor": "white",
            "linecolor": "white",
            "ticks": ""
           }
          },
          "scene": {
           "xaxis": {
            "backgroundcolor": "#E5ECF6",
            "gridcolor": "white",
            "gridwidth": 2,
            "linecolor": "white",
            "showbackground": true,
            "ticks": "",
            "zerolinecolor": "white"
           },
           "yaxis": {
            "backgroundcolor": "#E5ECF6",
            "gridcolor": "white",
            "gridwidth": 2,
            "linecolor": "white",
            "showbackground": true,
            "ticks": "",
            "zerolinecolor": "white"
           },
           "zaxis": {
            "backgroundcolor": "#E5ECF6",
            "gridcolor": "white",
            "gridwidth": 2,
            "linecolor": "white",
            "showbackground": true,
            "ticks": "",
            "zerolinecolor": "white"
           }
          },
          "shapedefaults": {
           "line": {
            "color": "#2a3f5f"
           }
          },
          "ternary": {
           "aaxis": {
            "gridcolor": "white",
            "linecolor": "white",
            "ticks": ""
           },
           "baxis": {
            "gridcolor": "white",
            "linecolor": "white",
            "ticks": ""
           },
           "bgcolor": "#E5ECF6",
           "caxis": {
            "gridcolor": "white",
            "linecolor": "white",
            "ticks": ""
           }
          },
          "title": {
           "x": 0.05
          },
          "xaxis": {
           "automargin": true,
           "gridcolor": "white",
           "linecolor": "white",
           "ticks": "",
           "title": {
            "standoff": 15
           },
           "zerolinecolor": "white",
           "zerolinewidth": 2
          },
          "yaxis": {
           "automargin": true,
           "gridcolor": "white",
           "linecolor": "white",
           "ticks": "",
           "title": {
            "standoff": 15
           },
           "zerolinecolor": "white",
           "zerolinewidth": 2
          }
         }
        },
        "title": {
         "text": "Domain Distribution in Category: job_portal"
        }
       }
      }
     },
     "metadata": {},
     "output_type": "display_data"
    },
    {
     "data": {
      "application/vnd.plotly.v1+json": {
       "config": {
        "plotlyServerURL": "https://plot.ly"
       },
       "data": [
        {
         "domain": {
          "x": [
           0,
           1
          ],
          "y": [
           0,
           1
          ]
         },
         "hole": 0.7,
         "hovertemplate": "base_url=%{label}<br>count=%{value}<extra></extra>",
         "labels": [
          "www.loopnet.com",
          "www.taskrabbit.com",
          "www.zillow.com",
          "play.google.com",
          "www.bizquest.com",
          "www.instacart.com",
          "www.way.com",
          "www.trustpilot.com",
          "www.bizbuysell.com",
          "www.taskrabbit.co.uk",
          "Other"
         ],
         "legendgroup": "",
         "name": "",
         "showlegend": true,
         "textinfo": "percent+label+value",
         "texttemplate": "%{label}: %{value} (%{percent:.1f}%)",
         "type": "pie",
         "values": [
          133,
          59,
          43,
          41,
          29,
          20,
          16,
          10,
          8,
          6,
          52
         ]
        }
       ],
       "layout": {
        "legend": {
         "tracegroupgap": 0
        },
        "template": {
         "data": {
          "bar": [
           {
            "error_x": {
             "color": "#2a3f5f"
            },
            "error_y": {
             "color": "#2a3f5f"
            },
            "marker": {
             "line": {
              "color": "#E5ECF6",
              "width": 0.5
             },
             "pattern": {
              "fillmode": "overlay",
              "size": 10,
              "solidity": 0.2
             }
            },
            "type": "bar"
           }
          ],
          "barpolar": [
           {
            "marker": {
             "line": {
              "color": "#E5ECF6",
              "width": 0.5
             },
             "pattern": {
              "fillmode": "overlay",
              "size": 10,
              "solidity": 0.2
             }
            },
            "type": "barpolar"
           }
          ],
          "carpet": [
           {
            "aaxis": {
             "endlinecolor": "#2a3f5f",
             "gridcolor": "white",
             "linecolor": "white",
             "minorgridcolor": "white",
             "startlinecolor": "#2a3f5f"
            },
            "baxis": {
             "endlinecolor": "#2a3f5f",
             "gridcolor": "white",
             "linecolor": "white",
             "minorgridcolor": "white",
             "startlinecolor": "#2a3f5f"
            },
            "type": "carpet"
           }
          ],
          "choropleth": [
           {
            "colorbar": {
             "outlinewidth": 0,
             "ticks": ""
            },
            "type": "choropleth"
           }
          ],
          "contour": [
           {
            "colorbar": {
             "outlinewidth": 0,
             "ticks": ""
            },
            "colorscale": [
             [
              0,
              "#0d0887"
             ],
             [
              0.1111111111111111,
              "#46039f"
             ],
             [
              0.2222222222222222,
              "#7201a8"
             ],
             [
              0.3333333333333333,
              "#9c179e"
             ],
             [
              0.4444444444444444,
              "#bd3786"
             ],
             [
              0.5555555555555556,
              "#d8576b"
             ],
             [
              0.6666666666666666,
              "#ed7953"
             ],
             [
              0.7777777777777778,
              "#fb9f3a"
             ],
             [
              0.8888888888888888,
              "#fdca26"
             ],
             [
              1,
              "#f0f921"
             ]
            ],
            "type": "contour"
           }
          ],
          "contourcarpet": [
           {
            "colorbar": {
             "outlinewidth": 0,
             "ticks": ""
            },
            "type": "contourcarpet"
           }
          ],
          "heatmap": [
           {
            "colorbar": {
             "outlinewidth": 0,
             "ticks": ""
            },
            "colorscale": [
             [
              0,
              "#0d0887"
             ],
             [
              0.1111111111111111,
              "#46039f"
             ],
             [
              0.2222222222222222,
              "#7201a8"
             ],
             [
              0.3333333333333333,
              "#9c179e"
             ],
             [
              0.4444444444444444,
              "#bd3786"
             ],
             [
              0.5555555555555556,
              "#d8576b"
             ],
             [
              0.6666666666666666,
              "#ed7953"
             ],
             [
              0.7777777777777778,
              "#fb9f3a"
             ],
             [
              0.8888888888888888,
              "#fdca26"
             ],
             [
              1,
              "#f0f921"
             ]
            ],
            "type": "heatmap"
           }
          ],
          "heatmapgl": [
           {
            "colorbar": {
             "outlinewidth": 0,
             "ticks": ""
            },
            "colorscale": [
             [
              0,
              "#0d0887"
             ],
             [
              0.1111111111111111,
              "#46039f"
             ],
             [
              0.2222222222222222,
              "#7201a8"
             ],
             [
              0.3333333333333333,
              "#9c179e"
             ],
             [
              0.4444444444444444,
              "#bd3786"
             ],
             [
              0.5555555555555556,
              "#d8576b"
             ],
             [
              0.6666666666666666,
              "#ed7953"
             ],
             [
              0.7777777777777778,
              "#fb9f3a"
             ],
             [
              0.8888888888888888,
              "#fdca26"
             ],
             [
              1,
              "#f0f921"
             ]
            ],
            "type": "heatmapgl"
           }
          ],
          "histogram": [
           {
            "marker": {
             "pattern": {
              "fillmode": "overlay",
              "size": 10,
              "solidity": 0.2
             }
            },
            "type": "histogram"
           }
          ],
          "histogram2d": [
           {
            "colorbar": {
             "outlinewidth": 0,
             "ticks": ""
            },
            "colorscale": [
             [
              0,
              "#0d0887"
             ],
             [
              0.1111111111111111,
              "#46039f"
             ],
             [
              0.2222222222222222,
              "#7201a8"
             ],
             [
              0.3333333333333333,
              "#9c179e"
             ],
             [
              0.4444444444444444,
              "#bd3786"
             ],
             [
              0.5555555555555556,
              "#d8576b"
             ],
             [
              0.6666666666666666,
              "#ed7953"
             ],
             [
              0.7777777777777778,
              "#fb9f3a"
             ],
             [
              0.8888888888888888,
              "#fdca26"
             ],
             [
              1,
              "#f0f921"
             ]
            ],
            "type": "histogram2d"
           }
          ],
          "histogram2dcontour": [
           {
            "colorbar": {
             "outlinewidth": 0,
             "ticks": ""
            },
            "colorscale": [
             [
              0,
              "#0d0887"
             ],
             [
              0.1111111111111111,
              "#46039f"
             ],
             [
              0.2222222222222222,
              "#7201a8"
             ],
             [
              0.3333333333333333,
              "#9c179e"
             ],
             [
              0.4444444444444444,
              "#bd3786"
             ],
             [
              0.5555555555555556,
              "#d8576b"
             ],
             [
              0.6666666666666666,
              "#ed7953"
             ],
             [
              0.7777777777777778,
              "#fb9f3a"
             ],
             [
              0.8888888888888888,
              "#fdca26"
             ],
             [
              1,
              "#f0f921"
             ]
            ],
            "type": "histogram2dcontour"
           }
          ],
          "mesh3d": [
           {
            "colorbar": {
             "outlinewidth": 0,
             "ticks": ""
            },
            "type": "mesh3d"
           }
          ],
          "parcoords": [
           {
            "line": {
             "colorbar": {
              "outlinewidth": 0,
              "ticks": ""
             }
            },
            "type": "parcoords"
           }
          ],
          "pie": [
           {
            "automargin": true,
            "type": "pie"
           }
          ],
          "scatter": [
           {
            "fillpattern": {
             "fillmode": "overlay",
             "size": 10,
             "solidity": 0.2
            },
            "type": "scatter"
           }
          ],
          "scatter3d": [
           {
            "line": {
             "colorbar": {
              "outlinewidth": 0,
              "ticks": ""
             }
            },
            "marker": {
             "colorbar": {
              "outlinewidth": 0,
              "ticks": ""
             }
            },
            "type": "scatter3d"
           }
          ],
          "scattercarpet": [
           {
            "marker": {
             "colorbar": {
              "outlinewidth": 0,
              "ticks": ""
             }
            },
            "type": "scattercarpet"
           }
          ],
          "scattergeo": [
           {
            "marker": {
             "colorbar": {
              "outlinewidth": 0,
              "ticks": ""
             }
            },
            "type": "scattergeo"
           }
          ],
          "scattergl": [
           {
            "marker": {
             "colorbar": {
              "outlinewidth": 0,
              "ticks": ""
             }
            },
            "type": "scattergl"
           }
          ],
          "scattermapbox": [
           {
            "marker": {
             "colorbar": {
              "outlinewidth": 0,
              "ticks": ""
             }
            },
            "type": "scattermapbox"
           }
          ],
          "scatterpolar": [
           {
            "marker": {
             "colorbar": {
              "outlinewidth": 0,
              "ticks": ""
             }
            },
            "type": "scatterpolar"
           }
          ],
          "scatterpolargl": [
           {
            "marker": {
             "colorbar": {
              "outlinewidth": 0,
              "ticks": ""
             }
            },
            "type": "scatterpolargl"
           }
          ],
          "scatterternary": [
           {
            "marker": {
             "colorbar": {
              "outlinewidth": 0,
              "ticks": ""
             }
            },
            "type": "scatterternary"
           }
          ],
          "surface": [
           {
            "colorbar": {
             "outlinewidth": 0,
             "ticks": ""
            },
            "colorscale": [
             [
              0,
              "#0d0887"
             ],
             [
              0.1111111111111111,
              "#46039f"
             ],
             [
              0.2222222222222222,
              "#7201a8"
             ],
             [
              0.3333333333333333,
              "#9c179e"
             ],
             [
              0.4444444444444444,
              "#bd3786"
             ],
             [
              0.5555555555555556,
              "#d8576b"
             ],
             [
              0.6666666666666666,
              "#ed7953"
             ],
             [
              0.7777777777777778,
              "#fb9f3a"
             ],
             [
              0.8888888888888888,
              "#fdca26"
             ],
             [
              1,
              "#f0f921"
             ]
            ],
            "type": "surface"
           }
          ],
          "table": [
           {
            "cells": {
             "fill": {
              "color": "#EBF0F8"
             },
             "line": {
              "color": "white"
             }
            },
            "header": {
             "fill": {
              "color": "#C8D4E3"
             },
             "line": {
              "color": "white"
             }
            },
            "type": "table"
           }
          ]
         },
         "layout": {
          "annotationdefaults": {
           "arrowcolor": "#2a3f5f",
           "arrowhead": 0,
           "arrowwidth": 1
          },
          "autotypenumbers": "strict",
          "coloraxis": {
           "colorbar": {
            "outlinewidth": 0,
            "ticks": ""
           }
          },
          "colorscale": {
           "diverging": [
            [
             0,
             "#8e0152"
            ],
            [
             0.1,
             "#c51b7d"
            ],
            [
             0.2,
             "#de77ae"
            ],
            [
             0.3,
             "#f1b6da"
            ],
            [
             0.4,
             "#fde0ef"
            ],
            [
             0.5,
             "#f7f7f7"
            ],
            [
             0.6,
             "#e6f5d0"
            ],
            [
             0.7,
             "#b8e186"
            ],
            [
             0.8,
             "#7fbc41"
            ],
            [
             0.9,
             "#4d9221"
            ],
            [
             1,
             "#276419"
            ]
           ],
           "sequential": [
            [
             0,
             "#0d0887"
            ],
            [
             0.1111111111111111,
             "#46039f"
            ],
            [
             0.2222222222222222,
             "#7201a8"
            ],
            [
             0.3333333333333333,
             "#9c179e"
            ],
            [
             0.4444444444444444,
             "#bd3786"
            ],
            [
             0.5555555555555556,
             "#d8576b"
            ],
            [
             0.6666666666666666,
             "#ed7953"
            ],
            [
             0.7777777777777778,
             "#fb9f3a"
            ],
            [
             0.8888888888888888,
             "#fdca26"
            ],
            [
             1,
             "#f0f921"
            ]
           ],
           "sequentialminus": [
            [
             0,
             "#0d0887"
            ],
            [
             0.1111111111111111,
             "#46039f"
            ],
            [
             0.2222222222222222,
             "#7201a8"
            ],
            [
             0.3333333333333333,
             "#9c179e"
            ],
            [
             0.4444444444444444,
             "#bd3786"
            ],
            [
             0.5555555555555556,
             "#d8576b"
            ],
            [
             0.6666666666666666,
             "#ed7953"
            ],
            [
             0.7777777777777778,
             "#fb9f3a"
            ],
            [
             0.8888888888888888,
             "#fdca26"
            ],
            [
             1,
             "#f0f921"
            ]
           ]
          },
          "colorway": [
           "#636efa",
           "#EF553B",
           "#00cc96",
           "#ab63fa",
           "#FFA15A",
           "#19d3f3",
           "#FF6692",
           "#B6E880",
           "#FF97FF",
           "#FECB52"
          ],
          "font": {
           "color": "#2a3f5f"
          },
          "geo": {
           "bgcolor": "white",
           "lakecolor": "white",
           "landcolor": "#E5ECF6",
           "showlakes": true,
           "showland": true,
           "subunitcolor": "white"
          },
          "hoverlabel": {
           "align": "left"
          },
          "hovermode": "closest",
          "mapbox": {
           "style": "light"
          },
          "paper_bgcolor": "white",
          "plot_bgcolor": "#E5ECF6",
          "polar": {
           "angularaxis": {
            "gridcolor": "white",
            "linecolor": "white",
            "ticks": ""
           },
           "bgcolor": "#E5ECF6",
           "radialaxis": {
            "gridcolor": "white",
            "linecolor": "white",
            "ticks": ""
           }
          },
          "scene": {
           "xaxis": {
            "backgroundcolor": "#E5ECF6",
            "gridcolor": "white",
            "gridwidth": 2,
            "linecolor": "white",
            "showbackground": true,
            "ticks": "",
            "zerolinecolor": "white"
           },
           "yaxis": {
            "backgroundcolor": "#E5ECF6",
            "gridcolor": "white",
            "gridwidth": 2,
            "linecolor": "white",
            "showbackground": true,
            "ticks": "",
            "zerolinecolor": "white"
           },
           "zaxis": {
            "backgroundcolor": "#E5ECF6",
            "gridcolor": "white",
            "gridwidth": 2,
            "linecolor": "white",
            "showbackground": true,
            "ticks": "",
            "zerolinecolor": "white"
           }
          },
          "shapedefaults": {
           "line": {
            "color": "#2a3f5f"
           }
          },
          "ternary": {
           "aaxis": {
            "gridcolor": "white",
            "linecolor": "white",
            "ticks": ""
           },
           "baxis": {
            "gridcolor": "white",
            "linecolor": "white",
            "ticks": ""
           },
           "bgcolor": "#E5ECF6",
           "caxis": {
            "gridcolor": "white",
            "linecolor": "white",
            "ticks": ""
           }
          },
          "title": {
           "x": 0.05
          },
          "xaxis": {
           "automargin": true,
           "gridcolor": "white",
           "linecolor": "white",
           "ticks": "",
           "title": {
            "standoff": 15
           },
           "zerolinecolor": "white",
           "zerolinewidth": 2
          },
          "yaxis": {
           "automargin": true,
           "gridcolor": "white",
           "linecolor": "white",
           "ticks": "",
           "title": {
            "standoff": 15
           },
           "zerolinecolor": "white",
           "zerolinewidth": 2
          }
         }
        },
        "title": {
         "text": "Domain Distribution in Category: marketplace"
        }
       }
      }
     },
     "metadata": {},
     "output_type": "display_data"
    },
    {
     "data": {
      "application/vnd.plotly.v1+json": {
       "config": {
        "plotlyServerURL": "https://plot.ly"
       },
       "data": [
        {
         "domain": {
          "x": [
           0,
           1
          ],
          "y": [
           0,
           1
          ]
         },
         "hole": 0.7,
         "hovertemplate": "base_url=%{label}<br>count=%{value}<extra></extra>",
         "labels": [
          "www.timeanddate.com",
          "en.m.wikipedia.org",
          "www.bbc.com",
          "www.cnn.com",
          "www.sfgate.com",
          "www.earth.com",
          "www.india.com",
          "en.wikipedia.org",
          "www.asiamonitor.com.my",
          "www-ndtv-com.cdn.ampproject.org",
          "Other"
         ],
         "legendgroup": "",
         "name": "",
         "showlegend": true,
         "textinfo": "percent+label+value",
         "texttemplate": "%{label}: %{value} (%{percent:.1f}%)",
         "type": "pie",
         "values": [
          30,
          17,
          13,
          10,
          5,
          5,
          5,
          4,
          3,
          3,
          59
         ]
        }
       ],
       "layout": {
        "legend": {
         "tracegroupgap": 0
        },
        "template": {
         "data": {
          "bar": [
           {
            "error_x": {
             "color": "#2a3f5f"
            },
            "error_y": {
             "color": "#2a3f5f"
            },
            "marker": {
             "line": {
              "color": "#E5ECF6",
              "width": 0.5
             },
             "pattern": {
              "fillmode": "overlay",
              "size": 10,
              "solidity": 0.2
             }
            },
            "type": "bar"
           }
          ],
          "barpolar": [
           {
            "marker": {
             "line": {
              "color": "#E5ECF6",
              "width": 0.5
             },
             "pattern": {
              "fillmode": "overlay",
              "size": 10,
              "solidity": 0.2
             }
            },
            "type": "barpolar"
           }
          ],
          "carpet": [
           {
            "aaxis": {
             "endlinecolor": "#2a3f5f",
             "gridcolor": "white",
             "linecolor": "white",
             "minorgridcolor": "white",
             "startlinecolor": "#2a3f5f"
            },
            "baxis": {
             "endlinecolor": "#2a3f5f",
             "gridcolor": "white",
             "linecolor": "white",
             "minorgridcolor": "white",
             "startlinecolor": "#2a3f5f"
            },
            "type": "carpet"
           }
          ],
          "choropleth": [
           {
            "colorbar": {
             "outlinewidth": 0,
             "ticks": ""
            },
            "type": "choropleth"
           }
          ],
          "contour": [
           {
            "colorbar": {
             "outlinewidth": 0,
             "ticks": ""
            },
            "colorscale": [
             [
              0,
              "#0d0887"
             ],
             [
              0.1111111111111111,
              "#46039f"
             ],
             [
              0.2222222222222222,
              "#7201a8"
             ],
             [
              0.3333333333333333,
              "#9c179e"
             ],
             [
              0.4444444444444444,
              "#bd3786"
             ],
             [
              0.5555555555555556,
              "#d8576b"
             ],
             [
              0.6666666666666666,
              "#ed7953"
             ],
             [
              0.7777777777777778,
              "#fb9f3a"
             ],
             [
              0.8888888888888888,
              "#fdca26"
             ],
             [
              1,
              "#f0f921"
             ]
            ],
            "type": "contour"
           }
          ],
          "contourcarpet": [
           {
            "colorbar": {
             "outlinewidth": 0,
             "ticks": ""
            },
            "type": "contourcarpet"
           }
          ],
          "heatmap": [
           {
            "colorbar": {
             "outlinewidth": 0,
             "ticks": ""
            },
            "colorscale": [
             [
              0,
              "#0d0887"
             ],
             [
              0.1111111111111111,
              "#46039f"
             ],
             [
              0.2222222222222222,
              "#7201a8"
             ],
             [
              0.3333333333333333,
              "#9c179e"
             ],
             [
              0.4444444444444444,
              "#bd3786"
             ],
             [
              0.5555555555555556,
              "#d8576b"
             ],
             [
              0.6666666666666666,
              "#ed7953"
             ],
             [
              0.7777777777777778,
              "#fb9f3a"
             ],
             [
              0.8888888888888888,
              "#fdca26"
             ],
             [
              1,
              "#f0f921"
             ]
            ],
            "type": "heatmap"
           }
          ],
          "heatmapgl": [
           {
            "colorbar": {
             "outlinewidth": 0,
             "ticks": ""
            },
            "colorscale": [
             [
              0,
              "#0d0887"
             ],
             [
              0.1111111111111111,
              "#46039f"
             ],
             [
              0.2222222222222222,
              "#7201a8"
             ],
             [
              0.3333333333333333,
              "#9c179e"
             ],
             [
              0.4444444444444444,
              "#bd3786"
             ],
             [
              0.5555555555555556,
              "#d8576b"
             ],
             [
              0.6666666666666666,
              "#ed7953"
             ],
             [
              0.7777777777777778,
              "#fb9f3a"
             ],
             [
              0.8888888888888888,
              "#fdca26"
             ],
             [
              1,
              "#f0f921"
             ]
            ],
            "type": "heatmapgl"
           }
          ],
          "histogram": [
           {
            "marker": {
             "pattern": {
              "fillmode": "overlay",
              "size": 10,
              "solidity": 0.2
             }
            },
            "type": "histogram"
           }
          ],
          "histogram2d": [
           {
            "colorbar": {
             "outlinewidth": 0,
             "ticks": ""
            },
            "colorscale": [
             [
              0,
              "#0d0887"
             ],
             [
              0.1111111111111111,
              "#46039f"
             ],
             [
              0.2222222222222222,
              "#7201a8"
             ],
             [
              0.3333333333333333,
              "#9c179e"
             ],
             [
              0.4444444444444444,
              "#bd3786"
             ],
             [
              0.5555555555555556,
              "#d8576b"
             ],
             [
              0.6666666666666666,
              "#ed7953"
             ],
             [
              0.7777777777777778,
              "#fb9f3a"
             ],
             [
              0.8888888888888888,
              "#fdca26"
             ],
             [
              1,
              "#f0f921"
             ]
            ],
            "type": "histogram2d"
           }
          ],
          "histogram2dcontour": [
           {
            "colorbar": {
             "outlinewidth": 0,
             "ticks": ""
            },
            "colorscale": [
             [
              0,
              "#0d0887"
             ],
             [
              0.1111111111111111,
              "#46039f"
             ],
             [
              0.2222222222222222,
              "#7201a8"
             ],
             [
              0.3333333333333333,
              "#9c179e"
             ],
             [
              0.4444444444444444,
              "#bd3786"
             ],
             [
              0.5555555555555556,
              "#d8576b"
             ],
             [
              0.6666666666666666,
              "#ed7953"
             ],
             [
              0.7777777777777778,
              "#fb9f3a"
             ],
             [
              0.8888888888888888,
              "#fdca26"
             ],
             [
              1,
              "#f0f921"
             ]
            ],
            "type": "histogram2dcontour"
           }
          ],
          "mesh3d": [
           {
            "colorbar": {
             "outlinewidth": 0,
             "ticks": ""
            },
            "type": "mesh3d"
           }
          ],
          "parcoords": [
           {
            "line": {
             "colorbar": {
              "outlinewidth": 0,
              "ticks": ""
             }
            },
            "type": "parcoords"
           }
          ],
          "pie": [
           {
            "automargin": true,
            "type": "pie"
           }
          ],
          "scatter": [
           {
            "fillpattern": {
             "fillmode": "overlay",
             "size": 10,
             "solidity": 0.2
            },
            "type": "scatter"
           }
          ],
          "scatter3d": [
           {
            "line": {
             "colorbar": {
              "outlinewidth": 0,
              "ticks": ""
             }
            },
            "marker": {
             "colorbar": {
              "outlinewidth": 0,
              "ticks": ""
             }
            },
            "type": "scatter3d"
           }
          ],
          "scattercarpet": [
           {
            "marker": {
             "colorbar": {
              "outlinewidth": 0,
              "ticks": ""
             }
            },
            "type": "scattercarpet"
           }
          ],
          "scattergeo": [
           {
            "marker": {
             "colorbar": {
              "outlinewidth": 0,
              "ticks": ""
             }
            },
            "type": "scattergeo"
           }
          ],
          "scattergl": [
           {
            "marker": {
             "colorbar": {
              "outlinewidth": 0,
              "ticks": ""
             }
            },
            "type": "scattergl"
           }
          ],
          "scattermapbox": [
           {
            "marker": {
             "colorbar": {
              "outlinewidth": 0,
              "ticks": ""
             }
            },
            "type": "scattermapbox"
           }
          ],
          "scatterpolar": [
           {
            "marker": {
             "colorbar": {
              "outlinewidth": 0,
              "ticks": ""
             }
            },
            "type": "scatterpolar"
           }
          ],
          "scatterpolargl": [
           {
            "marker": {
             "colorbar": {
              "outlinewidth": 0,
              "ticks": ""
             }
            },
            "type": "scatterpolargl"
           }
          ],
          "scatterternary": [
           {
            "marker": {
             "colorbar": {
              "outlinewidth": 0,
              "ticks": ""
             }
            },
            "type": "scatterternary"
           }
          ],
          "surface": [
           {
            "colorbar": {
             "outlinewidth": 0,
             "ticks": ""
            },
            "colorscale": [
             [
              0,
              "#0d0887"
             ],
             [
              0.1111111111111111,
              "#46039f"
             ],
             [
              0.2222222222222222,
              "#7201a8"
             ],
             [
              0.3333333333333333,
              "#9c179e"
             ],
             [
              0.4444444444444444,
              "#bd3786"
             ],
             [
              0.5555555555555556,
              "#d8576b"
             ],
             [
              0.6666666666666666,
              "#ed7953"
             ],
             [
              0.7777777777777778,
              "#fb9f3a"
             ],
             [
              0.8888888888888888,
              "#fdca26"
             ],
             [
              1,
              "#f0f921"
             ]
            ],
            "type": "surface"
           }
          ],
          "table": [
           {
            "cells": {
             "fill": {
              "color": "#EBF0F8"
             },
             "line": {
              "color": "white"
             }
            },
            "header": {
             "fill": {
              "color": "#C8D4E3"
             },
             "line": {
              "color": "white"
             }
            },
            "type": "table"
           }
          ]
         },
         "layout": {
          "annotationdefaults": {
           "arrowcolor": "#2a3f5f",
           "arrowhead": 0,
           "arrowwidth": 1
          },
          "autotypenumbers": "strict",
          "coloraxis": {
           "colorbar": {
            "outlinewidth": 0,
            "ticks": ""
           }
          },
          "colorscale": {
           "diverging": [
            [
             0,
             "#8e0152"
            ],
            [
             0.1,
             "#c51b7d"
            ],
            [
             0.2,
             "#de77ae"
            ],
            [
             0.3,
             "#f1b6da"
            ],
            [
             0.4,
             "#fde0ef"
            ],
            [
             0.5,
             "#f7f7f7"
            ],
            [
             0.6,
             "#e6f5d0"
            ],
            [
             0.7,
             "#b8e186"
            ],
            [
             0.8,
             "#7fbc41"
            ],
            [
             0.9,
             "#4d9221"
            ],
            [
             1,
             "#276419"
            ]
           ],
           "sequential": [
            [
             0,
             "#0d0887"
            ],
            [
             0.1111111111111111,
             "#46039f"
            ],
            [
             0.2222222222222222,
             "#7201a8"
            ],
            [
             0.3333333333333333,
             "#9c179e"
            ],
            [
             0.4444444444444444,
             "#bd3786"
            ],
            [
             0.5555555555555556,
             "#d8576b"
            ],
            [
             0.6666666666666666,
             "#ed7953"
            ],
            [
             0.7777777777777778,
             "#fb9f3a"
            ],
            [
             0.8888888888888888,
             "#fdca26"
            ],
            [
             1,
             "#f0f921"
            ]
           ],
           "sequentialminus": [
            [
             0,
             "#0d0887"
            ],
            [
             0.1111111111111111,
             "#46039f"
            ],
            [
             0.2222222222222222,
             "#7201a8"
            ],
            [
             0.3333333333333333,
             "#9c179e"
            ],
            [
             0.4444444444444444,
             "#bd3786"
            ],
            [
             0.5555555555555556,
             "#d8576b"
            ],
            [
             0.6666666666666666,
             "#ed7953"
            ],
            [
             0.7777777777777778,
             "#fb9f3a"
            ],
            [
             0.8888888888888888,
             "#fdca26"
            ],
            [
             1,
             "#f0f921"
            ]
           ]
          },
          "colorway": [
           "#636efa",
           "#EF553B",
           "#00cc96",
           "#ab63fa",
           "#FFA15A",
           "#19d3f3",
           "#FF6692",
           "#B6E880",
           "#FF97FF",
           "#FECB52"
          ],
          "font": {
           "color": "#2a3f5f"
          },
          "geo": {
           "bgcolor": "white",
           "lakecolor": "white",
           "landcolor": "#E5ECF6",
           "showlakes": true,
           "showland": true,
           "subunitcolor": "white"
          },
          "hoverlabel": {
           "align": "left"
          },
          "hovermode": "closest",
          "mapbox": {
           "style": "light"
          },
          "paper_bgcolor": "white",
          "plot_bgcolor": "#E5ECF6",
          "polar": {
           "angularaxis": {
            "gridcolor": "white",
            "linecolor": "white",
            "ticks": ""
           },
           "bgcolor": "#E5ECF6",
           "radialaxis": {
            "gridcolor": "white",
            "linecolor": "white",
            "ticks": ""
           }
          },
          "scene": {
           "xaxis": {
            "backgroundcolor": "#E5ECF6",
            "gridcolor": "white",
            "gridwidth": 2,
            "linecolor": "white",
            "showbackground": true,
            "ticks": "",
            "zerolinecolor": "white"
           },
           "yaxis": {
            "backgroundcolor": "#E5ECF6",
            "gridcolor": "white",
            "gridwidth": 2,
            "linecolor": "white",
            "showbackground": true,
            "ticks": "",
            "zerolinecolor": "white"
           },
           "zaxis": {
            "backgroundcolor": "#E5ECF6",
            "gridcolor": "white",
            "gridwidth": 2,
            "linecolor": "white",
            "showbackground": true,
            "ticks": "",
            "zerolinecolor": "white"
           }
          },
          "shapedefaults": {
           "line": {
            "color": "#2a3f5f"
           }
          },
          "ternary": {
           "aaxis": {
            "gridcolor": "white",
            "linecolor": "white",
            "ticks": ""
           },
           "baxis": {
            "gridcolor": "white",
            "linecolor": "white",
            "ticks": ""
           },
           "bgcolor": "#E5ECF6",
           "caxis": {
            "gridcolor": "white",
            "linecolor": "white",
            "ticks": ""
           }
          },
          "title": {
           "x": 0.05
          },
          "xaxis": {
           "automargin": true,
           "gridcolor": "white",
           "linecolor": "white",
           "ticks": "",
           "title": {
            "standoff": 15
           },
           "zerolinecolor": "white",
           "zerolinewidth": 2
          },
          "yaxis": {
           "automargin": true,
           "gridcolor": "white",
           "linecolor": "white",
           "ticks": "",
           "title": {
            "standoff": 15
           },
           "zerolinecolor": "white",
           "zerolinewidth": 2
          }
         }
        },
        "title": {
         "text": "Domain Distribution in Category: news_portal"
        }
       }
      }
     },
     "metadata": {},
     "output_type": "display_data"
    },
    {
     "data": {
      "application/vnd.plotly.v1+json": {
       "config": {
        "plotlyServerURL": "https://plot.ly"
       },
       "data": [
        {
         "domain": {
          "x": [
           0,
           1
          ],
          "y": [
           0,
           1
          ]
         },
         "hole": 0.7,
         "hovertemplate": "base_url=%{label}<br>count=%{value}<extra></extra>",
         "labels": [
          "www.google.com",
          "accounts.google.com",
          "support.google.com",
          "commons.m.wikimedia.org",
          "maps.apple.com",
          "pipeline.zoominfo.com",
          "www-13abc-com.cdn.ampproject.org",
          "www.justdial.com",
          "www.yahoo.com"
         ],
         "legendgroup": "",
         "name": "",
         "showlegend": true,
         "textinfo": "percent+label+value",
         "texttemplate": "%{label}: %{value} (%{percent:.1f}%)",
         "type": "pie",
         "values": [
          1328,
          61,
          5,
          3,
          2,
          2,
          2,
          2,
          1
         ]
        }
       ],
       "layout": {
        "legend": {
         "tracegroupgap": 0
        },
        "template": {
         "data": {
          "bar": [
           {
            "error_x": {
             "color": "#2a3f5f"
            },
            "error_y": {
             "color": "#2a3f5f"
            },
            "marker": {
             "line": {
              "color": "#E5ECF6",
              "width": 0.5
             },
             "pattern": {
              "fillmode": "overlay",
              "size": 10,
              "solidity": 0.2
             }
            },
            "type": "bar"
           }
          ],
          "barpolar": [
           {
            "marker": {
             "line": {
              "color": "#E5ECF6",
              "width": 0.5
             },
             "pattern": {
              "fillmode": "overlay",
              "size": 10,
              "solidity": 0.2
             }
            },
            "type": "barpolar"
           }
          ],
          "carpet": [
           {
            "aaxis": {
             "endlinecolor": "#2a3f5f",
             "gridcolor": "white",
             "linecolor": "white",
             "minorgridcolor": "white",
             "startlinecolor": "#2a3f5f"
            },
            "baxis": {
             "endlinecolor": "#2a3f5f",
             "gridcolor": "white",
             "linecolor": "white",
             "minorgridcolor": "white",
             "startlinecolor": "#2a3f5f"
            },
            "type": "carpet"
           }
          ],
          "choropleth": [
           {
            "colorbar": {
             "outlinewidth": 0,
             "ticks": ""
            },
            "type": "choropleth"
           }
          ],
          "contour": [
           {
            "colorbar": {
             "outlinewidth": 0,
             "ticks": ""
            },
            "colorscale": [
             [
              0,
              "#0d0887"
             ],
             [
              0.1111111111111111,
              "#46039f"
             ],
             [
              0.2222222222222222,
              "#7201a8"
             ],
             [
              0.3333333333333333,
              "#9c179e"
             ],
             [
              0.4444444444444444,
              "#bd3786"
             ],
             [
              0.5555555555555556,
              "#d8576b"
             ],
             [
              0.6666666666666666,
              "#ed7953"
             ],
             [
              0.7777777777777778,
              "#fb9f3a"
             ],
             [
              0.8888888888888888,
              "#fdca26"
             ],
             [
              1,
              "#f0f921"
             ]
            ],
            "type": "contour"
           }
          ],
          "contourcarpet": [
           {
            "colorbar": {
             "outlinewidth": 0,
             "ticks": ""
            },
            "type": "contourcarpet"
           }
          ],
          "heatmap": [
           {
            "colorbar": {
             "outlinewidth": 0,
             "ticks": ""
            },
            "colorscale": [
             [
              0,
              "#0d0887"
             ],
             [
              0.1111111111111111,
              "#46039f"
             ],
             [
              0.2222222222222222,
              "#7201a8"
             ],
             [
              0.3333333333333333,
              "#9c179e"
             ],
             [
              0.4444444444444444,
              "#bd3786"
             ],
             [
              0.5555555555555556,
              "#d8576b"
             ],
             [
              0.6666666666666666,
              "#ed7953"
             ],
             [
              0.7777777777777778,
              "#fb9f3a"
             ],
             [
              0.8888888888888888,
              "#fdca26"
             ],
             [
              1,
              "#f0f921"
             ]
            ],
            "type": "heatmap"
           }
          ],
          "heatmapgl": [
           {
            "colorbar": {
             "outlinewidth": 0,
             "ticks": ""
            },
            "colorscale": [
             [
              0,
              "#0d0887"
             ],
             [
              0.1111111111111111,
              "#46039f"
             ],
             [
              0.2222222222222222,
              "#7201a8"
             ],
             [
              0.3333333333333333,
              "#9c179e"
             ],
             [
              0.4444444444444444,
              "#bd3786"
             ],
             [
              0.5555555555555556,
              "#d8576b"
             ],
             [
              0.6666666666666666,
              "#ed7953"
             ],
             [
              0.7777777777777778,
              "#fb9f3a"
             ],
             [
              0.8888888888888888,
              "#fdca26"
             ],
             [
              1,
              "#f0f921"
             ]
            ],
            "type": "heatmapgl"
           }
          ],
          "histogram": [
           {
            "marker": {
             "pattern": {
              "fillmode": "overlay",
              "size": 10,
              "solidity": 0.2
             }
            },
            "type": "histogram"
           }
          ],
          "histogram2d": [
           {
            "colorbar": {
             "outlinewidth": 0,
             "ticks": ""
            },
            "colorscale": [
             [
              0,
              "#0d0887"
             ],
             [
              0.1111111111111111,
              "#46039f"
             ],
             [
              0.2222222222222222,
              "#7201a8"
             ],
             [
              0.3333333333333333,
              "#9c179e"
             ],
             [
              0.4444444444444444,
              "#bd3786"
             ],
             [
              0.5555555555555556,
              "#d8576b"
             ],
             [
              0.6666666666666666,
              "#ed7953"
             ],
             [
              0.7777777777777778,
              "#fb9f3a"
             ],
             [
              0.8888888888888888,
              "#fdca26"
             ],
             [
              1,
              "#f0f921"
             ]
            ],
            "type": "histogram2d"
           }
          ],
          "histogram2dcontour": [
           {
            "colorbar": {
             "outlinewidth": 0,
             "ticks": ""
            },
            "colorscale": [
             [
              0,
              "#0d0887"
             ],
             [
              0.1111111111111111,
              "#46039f"
             ],
             [
              0.2222222222222222,
              "#7201a8"
             ],
             [
              0.3333333333333333,
              "#9c179e"
             ],
             [
              0.4444444444444444,
              "#bd3786"
             ],
             [
              0.5555555555555556,
              "#d8576b"
             ],
             [
              0.6666666666666666,
              "#ed7953"
             ],
             [
              0.7777777777777778,
              "#fb9f3a"
             ],
             [
              0.8888888888888888,
              "#fdca26"
             ],
             [
              1,
              "#f0f921"
             ]
            ],
            "type": "histogram2dcontour"
           }
          ],
          "mesh3d": [
           {
            "colorbar": {
             "outlinewidth": 0,
             "ticks": ""
            },
            "type": "mesh3d"
           }
          ],
          "parcoords": [
           {
            "line": {
             "colorbar": {
              "outlinewidth": 0,
              "ticks": ""
             }
            },
            "type": "parcoords"
           }
          ],
          "pie": [
           {
            "automargin": true,
            "type": "pie"
           }
          ],
          "scatter": [
           {
            "fillpattern": {
             "fillmode": "overlay",
             "size": 10,
             "solidity": 0.2
            },
            "type": "scatter"
           }
          ],
          "scatter3d": [
           {
            "line": {
             "colorbar": {
              "outlinewidth": 0,
              "ticks": ""
             }
            },
            "marker": {
             "colorbar": {
              "outlinewidth": 0,
              "ticks": ""
             }
            },
            "type": "scatter3d"
           }
          ],
          "scattercarpet": [
           {
            "marker": {
             "colorbar": {
              "outlinewidth": 0,
              "ticks": ""
             }
            },
            "type": "scattercarpet"
           }
          ],
          "scattergeo": [
           {
            "marker": {
             "colorbar": {
              "outlinewidth": 0,
              "ticks": ""
             }
            },
            "type": "scattergeo"
           }
          ],
          "scattergl": [
           {
            "marker": {
             "colorbar": {
              "outlinewidth": 0,
              "ticks": ""
             }
            },
            "type": "scattergl"
           }
          ],
          "scattermapbox": [
           {
            "marker": {
             "colorbar": {
              "outlinewidth": 0,
              "ticks": ""
             }
            },
            "type": "scattermapbox"
           }
          ],
          "scatterpolar": [
           {
            "marker": {
             "colorbar": {
              "outlinewidth": 0,
              "ticks": ""
             }
            },
            "type": "scatterpolar"
           }
          ],
          "scatterpolargl": [
           {
            "marker": {
             "colorbar": {
              "outlinewidth": 0,
              "ticks": ""
             }
            },
            "type": "scatterpolargl"
           }
          ],
          "scatterternary": [
           {
            "marker": {
             "colorbar": {
              "outlinewidth": 0,
              "ticks": ""
             }
            },
            "type": "scatterternary"
           }
          ],
          "surface": [
           {
            "colorbar": {
             "outlinewidth": 0,
             "ticks": ""
            },
            "colorscale": [
             [
              0,
              "#0d0887"
             ],
             [
              0.1111111111111111,
              "#46039f"
             ],
             [
              0.2222222222222222,
              "#7201a8"
             ],
             [
              0.3333333333333333,
              "#9c179e"
             ],
             [
              0.4444444444444444,
              "#bd3786"
             ],
             [
              0.5555555555555556,
              "#d8576b"
             ],
             [
              0.6666666666666666,
              "#ed7953"
             ],
             [
              0.7777777777777778,
              "#fb9f3a"
             ],
             [
              0.8888888888888888,
              "#fdca26"
             ],
             [
              1,
              "#f0f921"
             ]
            ],
            "type": "surface"
           }
          ],
          "table": [
           {
            "cells": {
             "fill": {
              "color": "#EBF0F8"
             },
             "line": {
              "color": "white"
             }
            },
            "header": {
             "fill": {
              "color": "#C8D4E3"
             },
             "line": {
              "color": "white"
             }
            },
            "type": "table"
           }
          ]
         },
         "layout": {
          "annotationdefaults": {
           "arrowcolor": "#2a3f5f",
           "arrowhead": 0,
           "arrowwidth": 1
          },
          "autotypenumbers": "strict",
          "coloraxis": {
           "colorbar": {
            "outlinewidth": 0,
            "ticks": ""
           }
          },
          "colorscale": {
           "diverging": [
            [
             0,
             "#8e0152"
            ],
            [
             0.1,
             "#c51b7d"
            ],
            [
             0.2,
             "#de77ae"
            ],
            [
             0.3,
             "#f1b6da"
            ],
            [
             0.4,
             "#fde0ef"
            ],
            [
             0.5,
             "#f7f7f7"
            ],
            [
             0.6,
             "#e6f5d0"
            ],
            [
             0.7,
             "#b8e186"
            ],
            [
             0.8,
             "#7fbc41"
            ],
            [
             0.9,
             "#4d9221"
            ],
            [
             1,
             "#276419"
            ]
           ],
           "sequential": [
            [
             0,
             "#0d0887"
            ],
            [
             0.1111111111111111,
             "#46039f"
            ],
            [
             0.2222222222222222,
             "#7201a8"
            ],
            [
             0.3333333333333333,
             "#9c179e"
            ],
            [
             0.4444444444444444,
             "#bd3786"
            ],
            [
             0.5555555555555556,
             "#d8576b"
            ],
            [
             0.6666666666666666,
             "#ed7953"
            ],
            [
             0.7777777777777778,
             "#fb9f3a"
            ],
            [
             0.8888888888888888,
             "#fdca26"
            ],
            [
             1,
             "#f0f921"
            ]
           ],
           "sequentialminus": [
            [
             0,
             "#0d0887"
            ],
            [
             0.1111111111111111,
             "#46039f"
            ],
            [
             0.2222222222222222,
             "#7201a8"
            ],
            [
             0.3333333333333333,
             "#9c179e"
            ],
            [
             0.4444444444444444,
             "#bd3786"
            ],
            [
             0.5555555555555556,
             "#d8576b"
            ],
            [
             0.6666666666666666,
             "#ed7953"
            ],
            [
             0.7777777777777778,
             "#fb9f3a"
            ],
            [
             0.8888888888888888,
             "#fdca26"
            ],
            [
             1,
             "#f0f921"
            ]
           ]
          },
          "colorway": [
           "#636efa",
           "#EF553B",
           "#00cc96",
           "#ab63fa",
           "#FFA15A",
           "#19d3f3",
           "#FF6692",
           "#B6E880",
           "#FF97FF",
           "#FECB52"
          ],
          "font": {
           "color": "#2a3f5f"
          },
          "geo": {
           "bgcolor": "white",
           "lakecolor": "white",
           "landcolor": "#E5ECF6",
           "showlakes": true,
           "showland": true,
           "subunitcolor": "white"
          },
          "hoverlabel": {
           "align": "left"
          },
          "hovermode": "closest",
          "mapbox": {
           "style": "light"
          },
          "paper_bgcolor": "white",
          "plot_bgcolor": "#E5ECF6",
          "polar": {
           "angularaxis": {
            "gridcolor": "white",
            "linecolor": "white",
            "ticks": ""
           },
           "bgcolor": "#E5ECF6",
           "radialaxis": {
            "gridcolor": "white",
            "linecolor": "white",
            "ticks": ""
           }
          },
          "scene": {
           "xaxis": {
            "backgroundcolor": "#E5ECF6",
            "gridcolor": "white",
            "gridwidth": 2,
            "linecolor": "white",
            "showbackground": true,
            "ticks": "",
            "zerolinecolor": "white"
           },
           "yaxis": {
            "backgroundcolor": "#E5ECF6",
            "gridcolor": "white",
            "gridwidth": 2,
            "linecolor": "white",
            "showbackground": true,
            "ticks": "",
            "zerolinecolor": "white"
           },
           "zaxis": {
            "backgroundcolor": "#E5ECF6",
            "gridcolor": "white",
            "gridwidth": 2,
            "linecolor": "white",
            "showbackground": true,
            "ticks": "",
            "zerolinecolor": "white"
           }
          },
          "shapedefaults": {
           "line": {
            "color": "#2a3f5f"
           }
          },
          "ternary": {
           "aaxis": {
            "gridcolor": "white",
            "linecolor": "white",
            "ticks": ""
           },
           "baxis": {
            "gridcolor": "white",
            "linecolor": "white",
            "ticks": ""
           },
           "bgcolor": "#E5ECF6",
           "caxis": {
            "gridcolor": "white",
            "linecolor": "white",
            "ticks": ""
           }
          },
          "title": {
           "x": 0.05
          },
          "xaxis": {
           "automargin": true,
           "gridcolor": "white",
           "linecolor": "white",
           "ticks": "",
           "title": {
            "standoff": 15
           },
           "zerolinecolor": "white",
           "zerolinewidth": 2
          },
          "yaxis": {
           "automargin": true,
           "gridcolor": "white",
           "linecolor": "white",
           "ticks": "",
           "title": {
            "standoff": 15
           },
           "zerolinecolor": "white",
           "zerolinewidth": 2
          }
         }
        },
        "title": {
         "text": "Domain Distribution in Category: search_engine"
        }
       }
      }
     },
     "metadata": {},
     "output_type": "display_data"
    },
    {
     "data": {
      "application/vnd.plotly.v1+json": {
       "config": {
        "plotlyServerURL": "https://plot.ly"
       },
       "data": [
        {
         "domain": {
          "x": [
           0,
           1
          ],
          "y": [
           0,
           1
          ]
         },
         "hole": 0.7,
         "hovertemplate": "base_url=%{label}<br>count=%{value}<extra></extra>",
         "labels": [
          "www.facebook.com",
          "www.instagram.com",
          "www.linkedin.com",
          "www.evite.com",
          "x.com",
          "buffer.com",
          "www.pinterest.com",
          "tik-tok.en.uptodown.com"
         ],
         "legendgroup": "",
         "name": "",
         "showlegend": true,
         "textinfo": "percent+label+value",
         "texttemplate": "%{label}: %{value} (%{percent:.1f}%)",
         "type": "pie",
         "values": [
          104,
          30,
          22,
          12,
          10,
          2,
          2,
          1
         ]
        }
       ],
       "layout": {
        "legend": {
         "tracegroupgap": 0
        },
        "template": {
         "data": {
          "bar": [
           {
            "error_x": {
             "color": "#2a3f5f"
            },
            "error_y": {
             "color": "#2a3f5f"
            },
            "marker": {
             "line": {
              "color": "#E5ECF6",
              "width": 0.5
             },
             "pattern": {
              "fillmode": "overlay",
              "size": 10,
              "solidity": 0.2
             }
            },
            "type": "bar"
           }
          ],
          "barpolar": [
           {
            "marker": {
             "line": {
              "color": "#E5ECF6",
              "width": 0.5
             },
             "pattern": {
              "fillmode": "overlay",
              "size": 10,
              "solidity": 0.2
             }
            },
            "type": "barpolar"
           }
          ],
          "carpet": [
           {
            "aaxis": {
             "endlinecolor": "#2a3f5f",
             "gridcolor": "white",
             "linecolor": "white",
             "minorgridcolor": "white",
             "startlinecolor": "#2a3f5f"
            },
            "baxis": {
             "endlinecolor": "#2a3f5f",
             "gridcolor": "white",
             "linecolor": "white",
             "minorgridcolor": "white",
             "startlinecolor": "#2a3f5f"
            },
            "type": "carpet"
           }
          ],
          "choropleth": [
           {
            "colorbar": {
             "outlinewidth": 0,
             "ticks": ""
            },
            "type": "choropleth"
           }
          ],
          "contour": [
           {
            "colorbar": {
             "outlinewidth": 0,
             "ticks": ""
            },
            "colorscale": [
             [
              0,
              "#0d0887"
             ],
             [
              0.1111111111111111,
              "#46039f"
             ],
             [
              0.2222222222222222,
              "#7201a8"
             ],
             [
              0.3333333333333333,
              "#9c179e"
             ],
             [
              0.4444444444444444,
              "#bd3786"
             ],
             [
              0.5555555555555556,
              "#d8576b"
             ],
             [
              0.6666666666666666,
              "#ed7953"
             ],
             [
              0.7777777777777778,
              "#fb9f3a"
             ],
             [
              0.8888888888888888,
              "#fdca26"
             ],
             [
              1,
              "#f0f921"
             ]
            ],
            "type": "contour"
           }
          ],
          "contourcarpet": [
           {
            "colorbar": {
             "outlinewidth": 0,
             "ticks": ""
            },
            "type": "contourcarpet"
           }
          ],
          "heatmap": [
           {
            "colorbar": {
             "outlinewidth": 0,
             "ticks": ""
            },
            "colorscale": [
             [
              0,
              "#0d0887"
             ],
             [
              0.1111111111111111,
              "#46039f"
             ],
             [
              0.2222222222222222,
              "#7201a8"
             ],
             [
              0.3333333333333333,
              "#9c179e"
             ],
             [
              0.4444444444444444,
              "#bd3786"
             ],
             [
              0.5555555555555556,
              "#d8576b"
             ],
             [
              0.6666666666666666,
              "#ed7953"
             ],
             [
              0.7777777777777778,
              "#fb9f3a"
             ],
             [
              0.8888888888888888,
              "#fdca26"
             ],
             [
              1,
              "#f0f921"
             ]
            ],
            "type": "heatmap"
           }
          ],
          "heatmapgl": [
           {
            "colorbar": {
             "outlinewidth": 0,
             "ticks": ""
            },
            "colorscale": [
             [
              0,
              "#0d0887"
             ],
             [
              0.1111111111111111,
              "#46039f"
             ],
             [
              0.2222222222222222,
              "#7201a8"
             ],
             [
              0.3333333333333333,
              "#9c179e"
             ],
             [
              0.4444444444444444,
              "#bd3786"
             ],
             [
              0.5555555555555556,
              "#d8576b"
             ],
             [
              0.6666666666666666,
              "#ed7953"
             ],
             [
              0.7777777777777778,
              "#fb9f3a"
             ],
             [
              0.8888888888888888,
              "#fdca26"
             ],
             [
              1,
              "#f0f921"
             ]
            ],
            "type": "heatmapgl"
           }
          ],
          "histogram": [
           {
            "marker": {
             "pattern": {
              "fillmode": "overlay",
              "size": 10,
              "solidity": 0.2
             }
            },
            "type": "histogram"
           }
          ],
          "histogram2d": [
           {
            "colorbar": {
             "outlinewidth": 0,
             "ticks": ""
            },
            "colorscale": [
             [
              0,
              "#0d0887"
             ],
             [
              0.1111111111111111,
              "#46039f"
             ],
             [
              0.2222222222222222,
              "#7201a8"
             ],
             [
              0.3333333333333333,
              "#9c179e"
             ],
             [
              0.4444444444444444,
              "#bd3786"
             ],
             [
              0.5555555555555556,
              "#d8576b"
             ],
             [
              0.6666666666666666,
              "#ed7953"
             ],
             [
              0.7777777777777778,
              "#fb9f3a"
             ],
             [
              0.8888888888888888,
              "#fdca26"
             ],
             [
              1,
              "#f0f921"
             ]
            ],
            "type": "histogram2d"
           }
          ],
          "histogram2dcontour": [
           {
            "colorbar": {
             "outlinewidth": 0,
             "ticks": ""
            },
            "colorscale": [
             [
              0,
              "#0d0887"
             ],
             [
              0.1111111111111111,
              "#46039f"
             ],
             [
              0.2222222222222222,
              "#7201a8"
             ],
             [
              0.3333333333333333,
              "#9c179e"
             ],
             [
              0.4444444444444444,
              "#bd3786"
             ],
             [
              0.5555555555555556,
              "#d8576b"
             ],
             [
              0.6666666666666666,
              "#ed7953"
             ],
             [
              0.7777777777777778,
              "#fb9f3a"
             ],
             [
              0.8888888888888888,
              "#fdca26"
             ],
             [
              1,
              "#f0f921"
             ]
            ],
            "type": "histogram2dcontour"
           }
          ],
          "mesh3d": [
           {
            "colorbar": {
             "outlinewidth": 0,
             "ticks": ""
            },
            "type": "mesh3d"
           }
          ],
          "parcoords": [
           {
            "line": {
             "colorbar": {
              "outlinewidth": 0,
              "ticks": ""
             }
            },
            "type": "parcoords"
           }
          ],
          "pie": [
           {
            "automargin": true,
            "type": "pie"
           }
          ],
          "scatter": [
           {
            "fillpattern": {
             "fillmode": "overlay",
             "size": 10,
             "solidity": 0.2
            },
            "type": "scatter"
           }
          ],
          "scatter3d": [
           {
            "line": {
             "colorbar": {
              "outlinewidth": 0,
              "ticks": ""
             }
            },
            "marker": {
             "colorbar": {
              "outlinewidth": 0,
              "ticks": ""
             }
            },
            "type": "scatter3d"
           }
          ],
          "scattercarpet": [
           {
            "marker": {
             "colorbar": {
              "outlinewidth": 0,
              "ticks": ""
             }
            },
            "type": "scattercarpet"
           }
          ],
          "scattergeo": [
           {
            "marker": {
             "colorbar": {
              "outlinewidth": 0,
              "ticks": ""
             }
            },
            "type": "scattergeo"
           }
          ],
          "scattergl": [
           {
            "marker": {
             "colorbar": {
              "outlinewidth": 0,
              "ticks": ""
             }
            },
            "type": "scattergl"
           }
          ],
          "scattermapbox": [
           {
            "marker": {
             "colorbar": {
              "outlinewidth": 0,
              "ticks": ""
             }
            },
            "type": "scattermapbox"
           }
          ],
          "scatterpolar": [
           {
            "marker": {
             "colorbar": {
              "outlinewidth": 0,
              "ticks": ""
             }
            },
            "type": "scatterpolar"
           }
          ],
          "scatterpolargl": [
           {
            "marker": {
             "colorbar": {
              "outlinewidth": 0,
              "ticks": ""
             }
            },
            "type": "scatterpolargl"
           }
          ],
          "scatterternary": [
           {
            "marker": {
             "colorbar": {
              "outlinewidth": 0,
              "ticks": ""
             }
            },
            "type": "scatterternary"
           }
          ],
          "surface": [
           {
            "colorbar": {
             "outlinewidth": 0,
             "ticks": ""
            },
            "colorscale": [
             [
              0,
              "#0d0887"
             ],
             [
              0.1111111111111111,
              "#46039f"
             ],
             [
              0.2222222222222222,
              "#7201a8"
             ],
             [
              0.3333333333333333,
              "#9c179e"
             ],
             [
              0.4444444444444444,
              "#bd3786"
             ],
             [
              0.5555555555555556,
              "#d8576b"
             ],
             [
              0.6666666666666666,
              "#ed7953"
             ],
             [
              0.7777777777777778,
              "#fb9f3a"
             ],
             [
              0.8888888888888888,
              "#fdca26"
             ],
             [
              1,
              "#f0f921"
             ]
            ],
            "type": "surface"
           }
          ],
          "table": [
           {
            "cells": {
             "fill": {
              "color": "#EBF0F8"
             },
             "line": {
              "color": "white"
             }
            },
            "header": {
             "fill": {
              "color": "#C8D4E3"
             },
             "line": {
              "color": "white"
             }
            },
            "type": "table"
           }
          ]
         },
         "layout": {
          "annotationdefaults": {
           "arrowcolor": "#2a3f5f",
           "arrowhead": 0,
           "arrowwidth": 1
          },
          "autotypenumbers": "strict",
          "coloraxis": {
           "colorbar": {
            "outlinewidth": 0,
            "ticks": ""
           }
          },
          "colorscale": {
           "diverging": [
            [
             0,
             "#8e0152"
            ],
            [
             0.1,
             "#c51b7d"
            ],
            [
             0.2,
             "#de77ae"
            ],
            [
             0.3,
             "#f1b6da"
            ],
            [
             0.4,
             "#fde0ef"
            ],
            [
             0.5,
             "#f7f7f7"
            ],
            [
             0.6,
             "#e6f5d0"
            ],
            [
             0.7,
             "#b8e186"
            ],
            [
             0.8,
             "#7fbc41"
            ],
            [
             0.9,
             "#4d9221"
            ],
            [
             1,
             "#276419"
            ]
           ],
           "sequential": [
            [
             0,
             "#0d0887"
            ],
            [
             0.1111111111111111,
             "#46039f"
            ],
            [
             0.2222222222222222,
             "#7201a8"
            ],
            [
             0.3333333333333333,
             "#9c179e"
            ],
            [
             0.4444444444444444,
             "#bd3786"
            ],
            [
             0.5555555555555556,
             "#d8576b"
            ],
            [
             0.6666666666666666,
             "#ed7953"
            ],
            [
             0.7777777777777778,
             "#fb9f3a"
            ],
            [
             0.8888888888888888,
             "#fdca26"
            ],
            [
             1,
             "#f0f921"
            ]
           ],
           "sequentialminus": [
            [
             0,
             "#0d0887"
            ],
            [
             0.1111111111111111,
             "#46039f"
            ],
            [
             0.2222222222222222,
             "#7201a8"
            ],
            [
             0.3333333333333333,
             "#9c179e"
            ],
            [
             0.4444444444444444,
             "#bd3786"
            ],
            [
             0.5555555555555556,
             "#d8576b"
            ],
            [
             0.6666666666666666,
             "#ed7953"
            ],
            [
             0.7777777777777778,
             "#fb9f3a"
            ],
            [
             0.8888888888888888,
             "#fdca26"
            ],
            [
             1,
             "#f0f921"
            ]
           ]
          },
          "colorway": [
           "#636efa",
           "#EF553B",
           "#00cc96",
           "#ab63fa",
           "#FFA15A",
           "#19d3f3",
           "#FF6692",
           "#B6E880",
           "#FF97FF",
           "#FECB52"
          ],
          "font": {
           "color": "#2a3f5f"
          },
          "geo": {
           "bgcolor": "white",
           "lakecolor": "white",
           "landcolor": "#E5ECF6",
           "showlakes": true,
           "showland": true,
           "subunitcolor": "white"
          },
          "hoverlabel": {
           "align": "left"
          },
          "hovermode": "closest",
          "mapbox": {
           "style": "light"
          },
          "paper_bgcolor": "white",
          "plot_bgcolor": "#E5ECF6",
          "polar": {
           "angularaxis": {
            "gridcolor": "white",
            "linecolor": "white",
            "ticks": ""
           },
           "bgcolor": "#E5ECF6",
           "radialaxis": {
            "gridcolor": "white",
            "linecolor": "white",
            "ticks": ""
           }
          },
          "scene": {
           "xaxis": {
            "backgroundcolor": "#E5ECF6",
            "gridcolor": "white",
            "gridwidth": 2,
            "linecolor": "white",
            "showbackground": true,
            "ticks": "",
            "zerolinecolor": "white"
           },
           "yaxis": {
            "backgroundcolor": "#E5ECF6",
            "gridcolor": "white",
            "gridwidth": 2,
            "linecolor": "white",
            "showbackground": true,
            "ticks": "",
            "zerolinecolor": "white"
           },
           "zaxis": {
            "backgroundcolor": "#E5ECF6",
            "gridcolor": "white",
            "gridwidth": 2,
            "linecolor": "white",
            "showbackground": true,
            "ticks": "",
            "zerolinecolor": "white"
           }
          },
          "shapedefaults": {
           "line": {
            "color": "#2a3f5f"
           }
          },
          "ternary": {
           "aaxis": {
            "gridcolor": "white",
            "linecolor": "white",
            "ticks": ""
           },
           "baxis": {
            "gridcolor": "white",
            "linecolor": "white",
            "ticks": ""
           },
           "bgcolor": "#E5ECF6",
           "caxis": {
            "gridcolor": "white",
            "linecolor": "white",
            "ticks": ""
           }
          },
          "title": {
           "x": 0.05
          },
          "xaxis": {
           "automargin": true,
           "gridcolor": "white",
           "linecolor": "white",
           "ticks": "",
           "title": {
            "standoff": 15
           },
           "zerolinecolor": "white",
           "zerolinewidth": 2
          },
          "yaxis": {
           "automargin": true,
           "gridcolor": "white",
           "linecolor": "white",
           "ticks": "",
           "title": {
            "standoff": 15
           },
           "zerolinecolor": "white",
           "zerolinewidth": 2
          }
         }
        },
        "title": {
         "text": "Domain Distribution in Category: social_media"
        }
       }
      }
     },
     "metadata": {},
     "output_type": "display_data"
    },
    {
     "data": {
      "application/vnd.plotly.v1+json": {
       "config": {
        "plotlyServerURL": "https://plot.ly"
       },
       "data": [
        {
         "domain": {
          "x": [
           0,
           1
          ],
          "y": [
           0,
           1
          ]
         },
         "hole": 0.7,
         "hovertemplate": "base_url=%{label}<br>count=%{value}<extra></extra>",
         "labels": [
          "www.zipair.net",
          "www.airasia.com",
          "www.iflyworld.com",
          "book.srilankan.com",
          "www.opentable.com",
          "booking.iflyworld.com",
          "mimaruhotels.com",
          "flights.flyfrontier.com",
          "accounts.britishairways.com",
          "www.srilankan.com",
          "Other"
         ],
         "legendgroup": "",
         "name": "",
         "showlegend": true,
         "textinfo": "percent+label+value",
         "texttemplate": "%{label}: %{value} (%{percent:.1f}%)",
         "type": "pie",
         "values": [
          106,
          22,
          13,
          12,
          10,
          10,
          9,
          9,
          7,
          5,
          22
         ]
        }
       ],
       "layout": {
        "legend": {
         "tracegroupgap": 0
        },
        "template": {
         "data": {
          "bar": [
           {
            "error_x": {
             "color": "#2a3f5f"
            },
            "error_y": {
             "color": "#2a3f5f"
            },
            "marker": {
             "line": {
              "color": "#E5ECF6",
              "width": 0.5
             },
             "pattern": {
              "fillmode": "overlay",
              "size": 10,
              "solidity": 0.2
             }
            },
            "type": "bar"
           }
          ],
          "barpolar": [
           {
            "marker": {
             "line": {
              "color": "#E5ECF6",
              "width": 0.5
             },
             "pattern": {
              "fillmode": "overlay",
              "size": 10,
              "solidity": 0.2
             }
            },
            "type": "barpolar"
           }
          ],
          "carpet": [
           {
            "aaxis": {
             "endlinecolor": "#2a3f5f",
             "gridcolor": "white",
             "linecolor": "white",
             "minorgridcolor": "white",
             "startlinecolor": "#2a3f5f"
            },
            "baxis": {
             "endlinecolor": "#2a3f5f",
             "gridcolor": "white",
             "linecolor": "white",
             "minorgridcolor": "white",
             "startlinecolor": "#2a3f5f"
            },
            "type": "carpet"
           }
          ],
          "choropleth": [
           {
            "colorbar": {
             "outlinewidth": 0,
             "ticks": ""
            },
            "type": "choropleth"
           }
          ],
          "contour": [
           {
            "colorbar": {
             "outlinewidth": 0,
             "ticks": ""
            },
            "colorscale": [
             [
              0,
              "#0d0887"
             ],
             [
              0.1111111111111111,
              "#46039f"
             ],
             [
              0.2222222222222222,
              "#7201a8"
             ],
             [
              0.3333333333333333,
              "#9c179e"
             ],
             [
              0.4444444444444444,
              "#bd3786"
             ],
             [
              0.5555555555555556,
              "#d8576b"
             ],
             [
              0.6666666666666666,
              "#ed7953"
             ],
             [
              0.7777777777777778,
              "#fb9f3a"
             ],
             [
              0.8888888888888888,
              "#fdca26"
             ],
             [
              1,
              "#f0f921"
             ]
            ],
            "type": "contour"
           }
          ],
          "contourcarpet": [
           {
            "colorbar": {
             "outlinewidth": 0,
             "ticks": ""
            },
            "type": "contourcarpet"
           }
          ],
          "heatmap": [
           {
            "colorbar": {
             "outlinewidth": 0,
             "ticks": ""
            },
            "colorscale": [
             [
              0,
              "#0d0887"
             ],
             [
              0.1111111111111111,
              "#46039f"
             ],
             [
              0.2222222222222222,
              "#7201a8"
             ],
             [
              0.3333333333333333,
              "#9c179e"
             ],
             [
              0.4444444444444444,
              "#bd3786"
             ],
             [
              0.5555555555555556,
              "#d8576b"
             ],
             [
              0.6666666666666666,
              "#ed7953"
             ],
             [
              0.7777777777777778,
              "#fb9f3a"
             ],
             [
              0.8888888888888888,
              "#fdca26"
             ],
             [
              1,
              "#f0f921"
             ]
            ],
            "type": "heatmap"
           }
          ],
          "heatmapgl": [
           {
            "colorbar": {
             "outlinewidth": 0,
             "ticks": ""
            },
            "colorscale": [
             [
              0,
              "#0d0887"
             ],
             [
              0.1111111111111111,
              "#46039f"
             ],
             [
              0.2222222222222222,
              "#7201a8"
             ],
             [
              0.3333333333333333,
              "#9c179e"
             ],
             [
              0.4444444444444444,
              "#bd3786"
             ],
             [
              0.5555555555555556,
              "#d8576b"
             ],
             [
              0.6666666666666666,
              "#ed7953"
             ],
             [
              0.7777777777777778,
              "#fb9f3a"
             ],
             [
              0.8888888888888888,
              "#fdca26"
             ],
             [
              1,
              "#f0f921"
             ]
            ],
            "type": "heatmapgl"
           }
          ],
          "histogram": [
           {
            "marker": {
             "pattern": {
              "fillmode": "overlay",
              "size": 10,
              "solidity": 0.2
             }
            },
            "type": "histogram"
           }
          ],
          "histogram2d": [
           {
            "colorbar": {
             "outlinewidth": 0,
             "ticks": ""
            },
            "colorscale": [
             [
              0,
              "#0d0887"
             ],
             [
              0.1111111111111111,
              "#46039f"
             ],
             [
              0.2222222222222222,
              "#7201a8"
             ],
             [
              0.3333333333333333,
              "#9c179e"
             ],
             [
              0.4444444444444444,
              "#bd3786"
             ],
             [
              0.5555555555555556,
              "#d8576b"
             ],
             [
              0.6666666666666666,
              "#ed7953"
             ],
             [
              0.7777777777777778,
              "#fb9f3a"
             ],
             [
              0.8888888888888888,
              "#fdca26"
             ],
             [
              1,
              "#f0f921"
             ]
            ],
            "type": "histogram2d"
           }
          ],
          "histogram2dcontour": [
           {
            "colorbar": {
             "outlinewidth": 0,
             "ticks": ""
            },
            "colorscale": [
             [
              0,
              "#0d0887"
             ],
             [
              0.1111111111111111,
              "#46039f"
             ],
             [
              0.2222222222222222,
              "#7201a8"
             ],
             [
              0.3333333333333333,
              "#9c179e"
             ],
             [
              0.4444444444444444,
              "#bd3786"
             ],
             [
              0.5555555555555556,
              "#d8576b"
             ],
             [
              0.6666666666666666,
              "#ed7953"
             ],
             [
              0.7777777777777778,
              "#fb9f3a"
             ],
             [
              0.8888888888888888,
              "#fdca26"
             ],
             [
              1,
              "#f0f921"
             ]
            ],
            "type": "histogram2dcontour"
           }
          ],
          "mesh3d": [
           {
            "colorbar": {
             "outlinewidth": 0,
             "ticks": ""
            },
            "type": "mesh3d"
           }
          ],
          "parcoords": [
           {
            "line": {
             "colorbar": {
              "outlinewidth": 0,
              "ticks": ""
             }
            },
            "type": "parcoords"
           }
          ],
          "pie": [
           {
            "automargin": true,
            "type": "pie"
           }
          ],
          "scatter": [
           {
            "fillpattern": {
             "fillmode": "overlay",
             "size": 10,
             "solidity": 0.2
            },
            "type": "scatter"
           }
          ],
          "scatter3d": [
           {
            "line": {
             "colorbar": {
              "outlinewidth": 0,
              "ticks": ""
             }
            },
            "marker": {
             "colorbar": {
              "outlinewidth": 0,
              "ticks": ""
             }
            },
            "type": "scatter3d"
           }
          ],
          "scattercarpet": [
           {
            "marker": {
             "colorbar": {
              "outlinewidth": 0,
              "ticks": ""
             }
            },
            "type": "scattercarpet"
           }
          ],
          "scattergeo": [
           {
            "marker": {
             "colorbar": {
              "outlinewidth": 0,
              "ticks": ""
             }
            },
            "type": "scattergeo"
           }
          ],
          "scattergl": [
           {
            "marker": {
             "colorbar": {
              "outlinewidth": 0,
              "ticks": ""
             }
            },
            "type": "scattergl"
           }
          ],
          "scattermapbox": [
           {
            "marker": {
             "colorbar": {
              "outlinewidth": 0,
              "ticks": ""
             }
            },
            "type": "scattermapbox"
           }
          ],
          "scatterpolar": [
           {
            "marker": {
             "colorbar": {
              "outlinewidth": 0,
              "ticks": ""
             }
            },
            "type": "scatterpolar"
           }
          ],
          "scatterpolargl": [
           {
            "marker": {
             "colorbar": {
              "outlinewidth": 0,
              "ticks": ""
             }
            },
            "type": "scatterpolargl"
           }
          ],
          "scatterternary": [
           {
            "marker": {
             "colorbar": {
              "outlinewidth": 0,
              "ticks": ""
             }
            },
            "type": "scatterternary"
           }
          ],
          "surface": [
           {
            "colorbar": {
             "outlinewidth": 0,
             "ticks": ""
            },
            "colorscale": [
             [
              0,
              "#0d0887"
             ],
             [
              0.1111111111111111,
              "#46039f"
             ],
             [
              0.2222222222222222,
              "#7201a8"
             ],
             [
              0.3333333333333333,
              "#9c179e"
             ],
             [
              0.4444444444444444,
              "#bd3786"
             ],
             [
              0.5555555555555556,
              "#d8576b"
             ],
             [
              0.6666666666666666,
              "#ed7953"
             ],
             [
              0.7777777777777778,
              "#fb9f3a"
             ],
             [
              0.8888888888888888,
              "#fdca26"
             ],
             [
              1,
              "#f0f921"
             ]
            ],
            "type": "surface"
           }
          ],
          "table": [
           {
            "cells": {
             "fill": {
              "color": "#EBF0F8"
             },
             "line": {
              "color": "white"
             }
            },
            "header": {
             "fill": {
              "color": "#C8D4E3"
             },
             "line": {
              "color": "white"
             }
            },
            "type": "table"
           }
          ]
         },
         "layout": {
          "annotationdefaults": {
           "arrowcolor": "#2a3f5f",
           "arrowhead": 0,
           "arrowwidth": 1
          },
          "autotypenumbers": "strict",
          "coloraxis": {
           "colorbar": {
            "outlinewidth": 0,
            "ticks": ""
           }
          },
          "colorscale": {
           "diverging": [
            [
             0,
             "#8e0152"
            ],
            [
             0.1,
             "#c51b7d"
            ],
            [
             0.2,
             "#de77ae"
            ],
            [
             0.3,
             "#f1b6da"
            ],
            [
             0.4,
             "#fde0ef"
            ],
            [
             0.5,
             "#f7f7f7"
            ],
            [
             0.6,
             "#e6f5d0"
            ],
            [
             0.7,
             "#b8e186"
            ],
            [
             0.8,
             "#7fbc41"
            ],
            [
             0.9,
             "#4d9221"
            ],
            [
             1,
             "#276419"
            ]
           ],
           "sequential": [
            [
             0,
             "#0d0887"
            ],
            [
             0.1111111111111111,
             "#46039f"
            ],
            [
             0.2222222222222222,
             "#7201a8"
            ],
            [
             0.3333333333333333,
             "#9c179e"
            ],
            [
             0.4444444444444444,
             "#bd3786"
            ],
            [
             0.5555555555555556,
             "#d8576b"
            ],
            [
             0.6666666666666666,
             "#ed7953"
            ],
            [
             0.7777777777777778,
             "#fb9f3a"
            ],
            [
             0.8888888888888888,
             "#fdca26"
            ],
            [
             1,
             "#f0f921"
            ]
           ],
           "sequentialminus": [
            [
             0,
             "#0d0887"
            ],
            [
             0.1111111111111111,
             "#46039f"
            ],
            [
             0.2222222222222222,
             "#7201a8"
            ],
            [
             0.3333333333333333,
             "#9c179e"
            ],
            [
             0.4444444444444444,
             "#bd3786"
            ],
            [
             0.5555555555555556,
             "#d8576b"
            ],
            [
             0.6666666666666666,
             "#ed7953"
            ],
            [
             0.7777777777777778,
             "#fb9f3a"
            ],
            [
             0.8888888888888888,
             "#fdca26"
            ],
            [
             1,
             "#f0f921"
            ]
           ]
          },
          "colorway": [
           "#636efa",
           "#EF553B",
           "#00cc96",
           "#ab63fa",
           "#FFA15A",
           "#19d3f3",
           "#FF6692",
           "#B6E880",
           "#FF97FF",
           "#FECB52"
          ],
          "font": {
           "color": "#2a3f5f"
          },
          "geo": {
           "bgcolor": "white",
           "lakecolor": "white",
           "landcolor": "#E5ECF6",
           "showlakes": true,
           "showland": true,
           "subunitcolor": "white"
          },
          "hoverlabel": {
           "align": "left"
          },
          "hovermode": "closest",
          "mapbox": {
           "style": "light"
          },
          "paper_bgcolor": "white",
          "plot_bgcolor": "#E5ECF6",
          "polar": {
           "angularaxis": {
            "gridcolor": "white",
            "linecolor": "white",
            "ticks": ""
           },
           "bgcolor": "#E5ECF6",
           "radialaxis": {
            "gridcolor": "white",
            "linecolor": "white",
            "ticks": ""
           }
          },
          "scene": {
           "xaxis": {
            "backgroundcolor": "#E5ECF6",
            "gridcolor": "white",
            "gridwidth": 2,
            "linecolor": "white",
            "showbackground": true,
            "ticks": "",
            "zerolinecolor": "white"
           },
           "yaxis": {
            "backgroundcolor": "#E5ECF6",
            "gridcolor": "white",
            "gridwidth": 2,
            "linecolor": "white",
            "showbackground": true,
            "ticks": "",
            "zerolinecolor": "white"
           },
           "zaxis": {
            "backgroundcolor": "#E5ECF6",
            "gridcolor": "white",
            "gridwidth": 2,
            "linecolor": "white",
            "showbackground": true,
            "ticks": "",
            "zerolinecolor": "white"
           }
          },
          "shapedefaults": {
           "line": {
            "color": "#2a3f5f"
           }
          },
          "ternary": {
           "aaxis": {
            "gridcolor": "white",
            "linecolor": "white",
            "ticks": ""
           },
           "baxis": {
            "gridcolor": "white",
            "linecolor": "white",
            "ticks": ""
           },
           "bgcolor": "#E5ECF6",
           "caxis": {
            "gridcolor": "white",
            "linecolor": "white",
            "ticks": ""
           }
          },
          "title": {
           "x": 0.05
          },
          "xaxis": {
           "automargin": true,
           "gridcolor": "white",
           "linecolor": "white",
           "ticks": "",
           "title": {
            "standoff": 15
           },
           "zerolinecolor": "white",
           "zerolinewidth": 2
          },
          "yaxis": {
           "automargin": true,
           "gridcolor": "white",
           "linecolor": "white",
           "ticks": "",
           "title": {
            "standoff": 15
           },
           "zerolinecolor": "white",
           "zerolinewidth": 2
          }
         }
        },
        "title": {
         "text": "Domain Distribution in Category: travel_booking"
        }
       }
      }
     },
     "metadata": {},
     "output_type": "display_data"
    },
    {
     "data": {
      "application/vnd.plotly.v1+json": {
       "config": {
        "plotlyServerURL": "https://plot.ly"
       },
       "data": [
        {
         "domain": {
          "x": [
           0,
           1
          ],
          "y": [
           0,
           1
          ]
         },
         "hole": 0.7,
         "hovertemplate": "base_url=%{label}<br>count=%{value}<extra></extra>",
         "labels": [
          "fathom.video",
          "www.ted.com",
          "www.youtube.com",
          "m.youtube.com",
          "www.discoveryplus.com"
         ],
         "legendgroup": "",
         "name": "",
         "showlegend": true,
         "textinfo": "percent+label+value",
         "texttemplate": "%{label}: %{value} (%{percent:.1f}%)",
         "type": "pie",
         "values": [
          4,
          2,
          2,
          1,
          1
         ]
        }
       ],
       "layout": {
        "legend": {
         "tracegroupgap": 0
        },
        "template": {
         "data": {
          "bar": [
           {
            "error_x": {
             "color": "#2a3f5f"
            },
            "error_y": {
             "color": "#2a3f5f"
            },
            "marker": {
             "line": {
              "color": "#E5ECF6",
              "width": 0.5
             },
             "pattern": {
              "fillmode": "overlay",
              "size": 10,
              "solidity": 0.2
             }
            },
            "type": "bar"
           }
          ],
          "barpolar": [
           {
            "marker": {
             "line": {
              "color": "#E5ECF6",
              "width": 0.5
             },
             "pattern": {
              "fillmode": "overlay",
              "size": 10,
              "solidity": 0.2
             }
            },
            "type": "barpolar"
           }
          ],
          "carpet": [
           {
            "aaxis": {
             "endlinecolor": "#2a3f5f",
             "gridcolor": "white",
             "linecolor": "white",
             "minorgridcolor": "white",
             "startlinecolor": "#2a3f5f"
            },
            "baxis": {
             "endlinecolor": "#2a3f5f",
             "gridcolor": "white",
             "linecolor": "white",
             "minorgridcolor": "white",
             "startlinecolor": "#2a3f5f"
            },
            "type": "carpet"
           }
          ],
          "choropleth": [
           {
            "colorbar": {
             "outlinewidth": 0,
             "ticks": ""
            },
            "type": "choropleth"
           }
          ],
          "contour": [
           {
            "colorbar": {
             "outlinewidth": 0,
             "ticks": ""
            },
            "colorscale": [
             [
              0,
              "#0d0887"
             ],
             [
              0.1111111111111111,
              "#46039f"
             ],
             [
              0.2222222222222222,
              "#7201a8"
             ],
             [
              0.3333333333333333,
              "#9c179e"
             ],
             [
              0.4444444444444444,
              "#bd3786"
             ],
             [
              0.5555555555555556,
              "#d8576b"
             ],
             [
              0.6666666666666666,
              "#ed7953"
             ],
             [
              0.7777777777777778,
              "#fb9f3a"
             ],
             [
              0.8888888888888888,
              "#fdca26"
             ],
             [
              1,
              "#f0f921"
             ]
            ],
            "type": "contour"
           }
          ],
          "contourcarpet": [
           {
            "colorbar": {
             "outlinewidth": 0,
             "ticks": ""
            },
            "type": "contourcarpet"
           }
          ],
          "heatmap": [
           {
            "colorbar": {
             "outlinewidth": 0,
             "ticks": ""
            },
            "colorscale": [
             [
              0,
              "#0d0887"
             ],
             [
              0.1111111111111111,
              "#46039f"
             ],
             [
              0.2222222222222222,
              "#7201a8"
             ],
             [
              0.3333333333333333,
              "#9c179e"
             ],
             [
              0.4444444444444444,
              "#bd3786"
             ],
             [
              0.5555555555555556,
              "#d8576b"
             ],
             [
              0.6666666666666666,
              "#ed7953"
             ],
             [
              0.7777777777777778,
              "#fb9f3a"
             ],
             [
              0.8888888888888888,
              "#fdca26"
             ],
             [
              1,
              "#f0f921"
             ]
            ],
            "type": "heatmap"
           }
          ],
          "heatmapgl": [
           {
            "colorbar": {
             "outlinewidth": 0,
             "ticks": ""
            },
            "colorscale": [
             [
              0,
              "#0d0887"
             ],
             [
              0.1111111111111111,
              "#46039f"
             ],
             [
              0.2222222222222222,
              "#7201a8"
             ],
             [
              0.3333333333333333,
              "#9c179e"
             ],
             [
              0.4444444444444444,
              "#bd3786"
             ],
             [
              0.5555555555555556,
              "#d8576b"
             ],
             [
              0.6666666666666666,
              "#ed7953"
             ],
             [
              0.7777777777777778,
              "#fb9f3a"
             ],
             [
              0.8888888888888888,
              "#fdca26"
             ],
             [
              1,
              "#f0f921"
             ]
            ],
            "type": "heatmapgl"
           }
          ],
          "histogram": [
           {
            "marker": {
             "pattern": {
              "fillmode": "overlay",
              "size": 10,
              "solidity": 0.2
             }
            },
            "type": "histogram"
           }
          ],
          "histogram2d": [
           {
            "colorbar": {
             "outlinewidth": 0,
             "ticks": ""
            },
            "colorscale": [
             [
              0,
              "#0d0887"
             ],
             [
              0.1111111111111111,
              "#46039f"
             ],
             [
              0.2222222222222222,
              "#7201a8"
             ],
             [
              0.3333333333333333,
              "#9c179e"
             ],
             [
              0.4444444444444444,
              "#bd3786"
             ],
             [
              0.5555555555555556,
              "#d8576b"
             ],
             [
              0.6666666666666666,
              "#ed7953"
             ],
             [
              0.7777777777777778,
              "#fb9f3a"
             ],
             [
              0.8888888888888888,
              "#fdca26"
             ],
             [
              1,
              "#f0f921"
             ]
            ],
            "type": "histogram2d"
           }
          ],
          "histogram2dcontour": [
           {
            "colorbar": {
             "outlinewidth": 0,
             "ticks": ""
            },
            "colorscale": [
             [
              0,
              "#0d0887"
             ],
             [
              0.1111111111111111,
              "#46039f"
             ],
             [
              0.2222222222222222,
              "#7201a8"
             ],
             [
              0.3333333333333333,
              "#9c179e"
             ],
             [
              0.4444444444444444,
              "#bd3786"
             ],
             [
              0.5555555555555556,
              "#d8576b"
             ],
             [
              0.6666666666666666,
              "#ed7953"
             ],
             [
              0.7777777777777778,
              "#fb9f3a"
             ],
             [
              0.8888888888888888,
              "#fdca26"
             ],
             [
              1,
              "#f0f921"
             ]
            ],
            "type": "histogram2dcontour"
           }
          ],
          "mesh3d": [
           {
            "colorbar": {
             "outlinewidth": 0,
             "ticks": ""
            },
            "type": "mesh3d"
           }
          ],
          "parcoords": [
           {
            "line": {
             "colorbar": {
              "outlinewidth": 0,
              "ticks": ""
             }
            },
            "type": "parcoords"
           }
          ],
          "pie": [
           {
            "automargin": true,
            "type": "pie"
           }
          ],
          "scatter": [
           {
            "fillpattern": {
             "fillmode": "overlay",
             "size": 10,
             "solidity": 0.2
            },
            "type": "scatter"
           }
          ],
          "scatter3d": [
           {
            "line": {
             "colorbar": {
              "outlinewidth": 0,
              "ticks": ""
             }
            },
            "marker": {
             "colorbar": {
              "outlinewidth": 0,
              "ticks": ""
             }
            },
            "type": "scatter3d"
           }
          ],
          "scattercarpet": [
           {
            "marker": {
             "colorbar": {
              "outlinewidth": 0,
              "ticks": ""
             }
            },
            "type": "scattercarpet"
           }
          ],
          "scattergeo": [
           {
            "marker": {
             "colorbar": {
              "outlinewidth": 0,
              "ticks": ""
             }
            },
            "type": "scattergeo"
           }
          ],
          "scattergl": [
           {
            "marker": {
             "colorbar": {
              "outlinewidth": 0,
              "ticks": ""
             }
            },
            "type": "scattergl"
           }
          ],
          "scattermapbox": [
           {
            "marker": {
             "colorbar": {
              "outlinewidth": 0,
              "ticks": ""
             }
            },
            "type": "scattermapbox"
           }
          ],
          "scatterpolar": [
           {
            "marker": {
             "colorbar": {
              "outlinewidth": 0,
              "ticks": ""
             }
            },
            "type": "scatterpolar"
           }
          ],
          "scatterpolargl": [
           {
            "marker": {
             "colorbar": {
              "outlinewidth": 0,
              "ticks": ""
             }
            },
            "type": "scatterpolargl"
           }
          ],
          "scatterternary": [
           {
            "marker": {
             "colorbar": {
              "outlinewidth": 0,
              "ticks": ""
             }
            },
            "type": "scatterternary"
           }
          ],
          "surface": [
           {
            "colorbar": {
             "outlinewidth": 0,
             "ticks": ""
            },
            "colorscale": [
             [
              0,
              "#0d0887"
             ],
             [
              0.1111111111111111,
              "#46039f"
             ],
             [
              0.2222222222222222,
              "#7201a8"
             ],
             [
              0.3333333333333333,
              "#9c179e"
             ],
             [
              0.4444444444444444,
              "#bd3786"
             ],
             [
              0.5555555555555556,
              "#d8576b"
             ],
             [
              0.6666666666666666,
              "#ed7953"
             ],
             [
              0.7777777777777778,
              "#fb9f3a"
             ],
             [
              0.8888888888888888,
              "#fdca26"
             ],
             [
              1,
              "#f0f921"
             ]
            ],
            "type": "surface"
           }
          ],
          "table": [
           {
            "cells": {
             "fill": {
              "color": "#EBF0F8"
             },
             "line": {
              "color": "white"
             }
            },
            "header": {
             "fill": {
              "color": "#C8D4E3"
             },
             "line": {
              "color": "white"
             }
            },
            "type": "table"
           }
          ]
         },
         "layout": {
          "annotationdefaults": {
           "arrowcolor": "#2a3f5f",
           "arrowhead": 0,
           "arrowwidth": 1
          },
          "autotypenumbers": "strict",
          "coloraxis": {
           "colorbar": {
            "outlinewidth": 0,
            "ticks": ""
           }
          },
          "colorscale": {
           "diverging": [
            [
             0,
             "#8e0152"
            ],
            [
             0.1,
             "#c51b7d"
            ],
            [
             0.2,
             "#de77ae"
            ],
            [
             0.3,
             "#f1b6da"
            ],
            [
             0.4,
             "#fde0ef"
            ],
            [
             0.5,
             "#f7f7f7"
            ],
            [
             0.6,
             "#e6f5d0"
            ],
            [
             0.7,
             "#b8e186"
            ],
            [
             0.8,
             "#7fbc41"
            ],
            [
             0.9,
             "#4d9221"
            ],
            [
             1,
             "#276419"
            ]
           ],
           "sequential": [
            [
             0,
             "#0d0887"
            ],
            [
             0.1111111111111111,
             "#46039f"
            ],
            [
             0.2222222222222222,
             "#7201a8"
            ],
            [
             0.3333333333333333,
             "#9c179e"
            ],
            [
             0.4444444444444444,
             "#bd3786"
            ],
            [
             0.5555555555555556,
             "#d8576b"
            ],
            [
             0.6666666666666666,
             "#ed7953"
            ],
            [
             0.7777777777777778,
             "#fb9f3a"
            ],
            [
             0.8888888888888888,
             "#fdca26"
            ],
            [
             1,
             "#f0f921"
            ]
           ],
           "sequentialminus": [
            [
             0,
             "#0d0887"
            ],
            [
             0.1111111111111111,
             "#46039f"
            ],
            [
             0.2222222222222222,
             "#7201a8"
            ],
            [
             0.3333333333333333,
             "#9c179e"
            ],
            [
             0.4444444444444444,
             "#bd3786"
            ],
            [
             0.5555555555555556,
             "#d8576b"
            ],
            [
             0.6666666666666666,
             "#ed7953"
            ],
            [
             0.7777777777777778,
             "#fb9f3a"
            ],
            [
             0.8888888888888888,
             "#fdca26"
            ],
            [
             1,
             "#f0f921"
            ]
           ]
          },
          "colorway": [
           "#636efa",
           "#EF553B",
           "#00cc96",
           "#ab63fa",
           "#FFA15A",
           "#19d3f3",
           "#FF6692",
           "#B6E880",
           "#FF97FF",
           "#FECB52"
          ],
          "font": {
           "color": "#2a3f5f"
          },
          "geo": {
           "bgcolor": "white",
           "lakecolor": "white",
           "landcolor": "#E5ECF6",
           "showlakes": true,
           "showland": true,
           "subunitcolor": "white"
          },
          "hoverlabel": {
           "align": "left"
          },
          "hovermode": "closest",
          "mapbox": {
           "style": "light"
          },
          "paper_bgcolor": "white",
          "plot_bgcolor": "#E5ECF6",
          "polar": {
           "angularaxis": {
            "gridcolor": "white",
            "linecolor": "white",
            "ticks": ""
           },
           "bgcolor": "#E5ECF6",
           "radialaxis": {
            "gridcolor": "white",
            "linecolor": "white",
            "ticks": ""
           }
          },
          "scene": {
           "xaxis": {
            "backgroundcolor": "#E5ECF6",
            "gridcolor": "white",
            "gridwidth": 2,
            "linecolor": "white",
            "showbackground": true,
            "ticks": "",
            "zerolinecolor": "white"
           },
           "yaxis": {
            "backgroundcolor": "#E5ECF6",
            "gridcolor": "white",
            "gridwidth": 2,
            "linecolor": "white",
            "showbackground": true,
            "ticks": "",
            "zerolinecolor": "white"
           },
           "zaxis": {
            "backgroundcolor": "#E5ECF6",
            "gridcolor": "white",
            "gridwidth": 2,
            "linecolor": "white",
            "showbackground": true,
            "ticks": "",
            "zerolinecolor": "white"
           }
          },
          "shapedefaults": {
           "line": {
            "color": "#2a3f5f"
           }
          },
          "ternary": {
           "aaxis": {
            "gridcolor": "white",
            "linecolor": "white",
            "ticks": ""
           },
           "baxis": {
            "gridcolor": "white",
            "linecolor": "white",
            "ticks": ""
           },
           "bgcolor": "#E5ECF6",
           "caxis": {
            "gridcolor": "white",
            "linecolor": "white",
            "ticks": ""
           }
          },
          "title": {
           "x": 0.05
          },
          "xaxis": {
           "automargin": true,
           "gridcolor": "white",
           "linecolor": "white",
           "ticks": "",
           "title": {
            "standoff": 15
           },
           "zerolinecolor": "white",
           "zerolinewidth": 2
          },
          "yaxis": {
           "automargin": true,
           "gridcolor": "white",
           "linecolor": "white",
           "ticks": "",
           "title": {
            "standoff": 15
           },
           "zerolinecolor": "white",
           "zerolinewidth": 2
          }
         }
        },
        "title": {
         "text": "Domain Distribution in Category: video_streaming"
        }
       }
      }
     },
     "metadata": {},
     "output_type": "display_data"
    },
    {
     "data": {
      "application/vnd.plotly.v1+json": {
       "config": {
        "plotlyServerURL": "https://plot.ly"
       },
       "data": [
        {
         "domain": {
          "x": [
           0,
           1
          ],
          "y": [
           0,
           1
          ]
         },
         "hole": 0.7,
         "hovertemplate": "base_url=%{label}<br>count=%{value}<extra></extra>",
         "labels": [
          "mail.google.com",
          "pyinsightscom.sharepoint.com",
          "go.xero.com",
          "docs.google.com",
          "app.powerbi.com",
          "behav-my.sharepoint.com",
          "teams.microsoft.com",
          "login.microsoftonline.com",
          "reporting.xero.com",
          "app.clickup.com",
          "Other"
         ],
         "legendgroup": "",
         "name": "",
         "showlegend": true,
         "textinfo": "percent+label+value",
         "texttemplate": "%{label}: %{value} (%{percent:.1f}%)",
         "type": "pie",
         "values": [
          149,
          140,
          60,
          50,
          40,
          29,
          25,
          23,
          19,
          17,
          155
         ]
        }
       ],
       "layout": {
        "legend": {
         "tracegroupgap": 0
        },
        "template": {
         "data": {
          "bar": [
           {
            "error_x": {
             "color": "#2a3f5f"
            },
            "error_y": {
             "color": "#2a3f5f"
            },
            "marker": {
             "line": {
              "color": "#E5ECF6",
              "width": 0.5
             },
             "pattern": {
              "fillmode": "overlay",
              "size": 10,
              "solidity": 0.2
             }
            },
            "type": "bar"
           }
          ],
          "barpolar": [
           {
            "marker": {
             "line": {
              "color": "#E5ECF6",
              "width": 0.5
             },
             "pattern": {
              "fillmode": "overlay",
              "size": 10,
              "solidity": 0.2
             }
            },
            "type": "barpolar"
           }
          ],
          "carpet": [
           {
            "aaxis": {
             "endlinecolor": "#2a3f5f",
             "gridcolor": "white",
             "linecolor": "white",
             "minorgridcolor": "white",
             "startlinecolor": "#2a3f5f"
            },
            "baxis": {
             "endlinecolor": "#2a3f5f",
             "gridcolor": "white",
             "linecolor": "white",
             "minorgridcolor": "white",
             "startlinecolor": "#2a3f5f"
            },
            "type": "carpet"
           }
          ],
          "choropleth": [
           {
            "colorbar": {
             "outlinewidth": 0,
             "ticks": ""
            },
            "type": "choropleth"
           }
          ],
          "contour": [
           {
            "colorbar": {
             "outlinewidth": 0,
             "ticks": ""
            },
            "colorscale": [
             [
              0,
              "#0d0887"
             ],
             [
              0.1111111111111111,
              "#46039f"
             ],
             [
              0.2222222222222222,
              "#7201a8"
             ],
             [
              0.3333333333333333,
              "#9c179e"
             ],
             [
              0.4444444444444444,
              "#bd3786"
             ],
             [
              0.5555555555555556,
              "#d8576b"
             ],
             [
              0.6666666666666666,
              "#ed7953"
             ],
             [
              0.7777777777777778,
              "#fb9f3a"
             ],
             [
              0.8888888888888888,
              "#fdca26"
             ],
             [
              1,
              "#f0f921"
             ]
            ],
            "type": "contour"
           }
          ],
          "contourcarpet": [
           {
            "colorbar": {
             "outlinewidth": 0,
             "ticks": ""
            },
            "type": "contourcarpet"
           }
          ],
          "heatmap": [
           {
            "colorbar": {
             "outlinewidth": 0,
             "ticks": ""
            },
            "colorscale": [
             [
              0,
              "#0d0887"
             ],
             [
              0.1111111111111111,
              "#46039f"
             ],
             [
              0.2222222222222222,
              "#7201a8"
             ],
             [
              0.3333333333333333,
              "#9c179e"
             ],
             [
              0.4444444444444444,
              "#bd3786"
             ],
             [
              0.5555555555555556,
              "#d8576b"
             ],
             [
              0.6666666666666666,
              "#ed7953"
             ],
             [
              0.7777777777777778,
              "#fb9f3a"
             ],
             [
              0.8888888888888888,
              "#fdca26"
             ],
             [
              1,
              "#f0f921"
             ]
            ],
            "type": "heatmap"
           }
          ],
          "heatmapgl": [
           {
            "colorbar": {
             "outlinewidth": 0,
             "ticks": ""
            },
            "colorscale": [
             [
              0,
              "#0d0887"
             ],
             [
              0.1111111111111111,
              "#46039f"
             ],
             [
              0.2222222222222222,
              "#7201a8"
             ],
             [
              0.3333333333333333,
              "#9c179e"
             ],
             [
              0.4444444444444444,
              "#bd3786"
             ],
             [
              0.5555555555555556,
              "#d8576b"
             ],
             [
              0.6666666666666666,
              "#ed7953"
             ],
             [
              0.7777777777777778,
              "#fb9f3a"
             ],
             [
              0.8888888888888888,
              "#fdca26"
             ],
             [
              1,
              "#f0f921"
             ]
            ],
            "type": "heatmapgl"
           }
          ],
          "histogram": [
           {
            "marker": {
             "pattern": {
              "fillmode": "overlay",
              "size": 10,
              "solidity": 0.2
             }
            },
            "type": "histogram"
           }
          ],
          "histogram2d": [
           {
            "colorbar": {
             "outlinewidth": 0,
             "ticks": ""
            },
            "colorscale": [
             [
              0,
              "#0d0887"
             ],
             [
              0.1111111111111111,
              "#46039f"
             ],
             [
              0.2222222222222222,
              "#7201a8"
             ],
             [
              0.3333333333333333,
              "#9c179e"
             ],
             [
              0.4444444444444444,
              "#bd3786"
             ],
             [
              0.5555555555555556,
              "#d8576b"
             ],
             [
              0.6666666666666666,
              "#ed7953"
             ],
             [
              0.7777777777777778,
              "#fb9f3a"
             ],
             [
              0.8888888888888888,
              "#fdca26"
             ],
             [
              1,
              "#f0f921"
             ]
            ],
            "type": "histogram2d"
           }
          ],
          "histogram2dcontour": [
           {
            "colorbar": {
             "outlinewidth": 0,
             "ticks": ""
            },
            "colorscale": [
             [
              0,
              "#0d0887"
             ],
             [
              0.1111111111111111,
              "#46039f"
             ],
             [
              0.2222222222222222,
              "#7201a8"
             ],
             [
              0.3333333333333333,
              "#9c179e"
             ],
             [
              0.4444444444444444,
              "#bd3786"
             ],
             [
              0.5555555555555556,
              "#d8576b"
             ],
             [
              0.6666666666666666,
              "#ed7953"
             ],
             [
              0.7777777777777778,
              "#fb9f3a"
             ],
             [
              0.8888888888888888,
              "#fdca26"
             ],
             [
              1,
              "#f0f921"
             ]
            ],
            "type": "histogram2dcontour"
           }
          ],
          "mesh3d": [
           {
            "colorbar": {
             "outlinewidth": 0,
             "ticks": ""
            },
            "type": "mesh3d"
           }
          ],
          "parcoords": [
           {
            "line": {
             "colorbar": {
              "outlinewidth": 0,
              "ticks": ""
             }
            },
            "type": "parcoords"
           }
          ],
          "pie": [
           {
            "automargin": true,
            "type": "pie"
           }
          ],
          "scatter": [
           {
            "fillpattern": {
             "fillmode": "overlay",
             "size": 10,
             "solidity": 0.2
            },
            "type": "scatter"
           }
          ],
          "scatter3d": [
           {
            "line": {
             "colorbar": {
              "outlinewidth": 0,
              "ticks": ""
             }
            },
            "marker": {
             "colorbar": {
              "outlinewidth": 0,
              "ticks": ""
             }
            },
            "type": "scatter3d"
           }
          ],
          "scattercarpet": [
           {
            "marker": {
             "colorbar": {
              "outlinewidth": 0,
              "ticks": ""
             }
            },
            "type": "scattercarpet"
           }
          ],
          "scattergeo": [
           {
            "marker": {
             "colorbar": {
              "outlinewidth": 0,
              "ticks": ""
             }
            },
            "type": "scattergeo"
           }
          ],
          "scattergl": [
           {
            "marker": {
             "colorbar": {
              "outlinewidth": 0,
              "ticks": ""
             }
            },
            "type": "scattergl"
           }
          ],
          "scattermapbox": [
           {
            "marker": {
             "colorbar": {
              "outlinewidth": 0,
              "ticks": ""
             }
            },
            "type": "scattermapbox"
           }
          ],
          "scatterpolar": [
           {
            "marker": {
             "colorbar": {
              "outlinewidth": 0,
              "ticks": ""
             }
            },
            "type": "scatterpolar"
           }
          ],
          "scatterpolargl": [
           {
            "marker": {
             "colorbar": {
              "outlinewidth": 0,
              "ticks": ""
             }
            },
            "type": "scatterpolargl"
           }
          ],
          "scatterternary": [
           {
            "marker": {
             "colorbar": {
              "outlinewidth": 0,
              "ticks": ""
             }
            },
            "type": "scatterternary"
           }
          ],
          "surface": [
           {
            "colorbar": {
             "outlinewidth": 0,
             "ticks": ""
            },
            "colorscale": [
             [
              0,
              "#0d0887"
             ],
             [
              0.1111111111111111,
              "#46039f"
             ],
             [
              0.2222222222222222,
              "#7201a8"
             ],
             [
              0.3333333333333333,
              "#9c179e"
             ],
             [
              0.4444444444444444,
              "#bd3786"
             ],
             [
              0.5555555555555556,
              "#d8576b"
             ],
             [
              0.6666666666666666,
              "#ed7953"
             ],
             [
              0.7777777777777778,
              "#fb9f3a"
             ],
             [
              0.8888888888888888,
              "#fdca26"
             ],
             [
              1,
              "#f0f921"
             ]
            ],
            "type": "surface"
           }
          ],
          "table": [
           {
            "cells": {
             "fill": {
              "color": "#EBF0F8"
             },
             "line": {
              "color": "white"
             }
            },
            "header": {
             "fill": {
              "color": "#C8D4E3"
             },
             "line": {
              "color": "white"
             }
            },
            "type": "table"
           }
          ]
         },
         "layout": {
          "annotationdefaults": {
           "arrowcolor": "#2a3f5f",
           "arrowhead": 0,
           "arrowwidth": 1
          },
          "autotypenumbers": "strict",
          "coloraxis": {
           "colorbar": {
            "outlinewidth": 0,
            "ticks": ""
           }
          },
          "colorscale": {
           "diverging": [
            [
             0,
             "#8e0152"
            ],
            [
             0.1,
             "#c51b7d"
            ],
            [
             0.2,
             "#de77ae"
            ],
            [
             0.3,
             "#f1b6da"
            ],
            [
             0.4,
             "#fde0ef"
            ],
            [
             0.5,
             "#f7f7f7"
            ],
            [
             0.6,
             "#e6f5d0"
            ],
            [
             0.7,
             "#b8e186"
            ],
            [
             0.8,
             "#7fbc41"
            ],
            [
             0.9,
             "#4d9221"
            ],
            [
             1,
             "#276419"
            ]
           ],
           "sequential": [
            [
             0,
             "#0d0887"
            ],
            [
             0.1111111111111111,
             "#46039f"
            ],
            [
             0.2222222222222222,
             "#7201a8"
            ],
            [
             0.3333333333333333,
             "#9c179e"
            ],
            [
             0.4444444444444444,
             "#bd3786"
            ],
            [
             0.5555555555555556,
             "#d8576b"
            ],
            [
             0.6666666666666666,
             "#ed7953"
            ],
            [
             0.7777777777777778,
             "#fb9f3a"
            ],
            [
             0.8888888888888888,
             "#fdca26"
            ],
            [
             1,
             "#f0f921"
            ]
           ],
           "sequentialminus": [
            [
             0,
             "#0d0887"
            ],
            [
             0.1111111111111111,
             "#46039f"
            ],
            [
             0.2222222222222222,
             "#7201a8"
            ],
            [
             0.3333333333333333,
             "#9c179e"
            ],
            [
             0.4444444444444444,
             "#bd3786"
            ],
            [
             0.5555555555555556,
             "#d8576b"
            ],
            [
             0.6666666666666666,
             "#ed7953"
            ],
            [
             0.7777777777777778,
             "#fb9f3a"
            ],
            [
             0.8888888888888888,
             "#fdca26"
            ],
            [
             1,
             "#f0f921"
            ]
           ]
          },
          "colorway": [
           "#636efa",
           "#EF553B",
           "#00cc96",
           "#ab63fa",
           "#FFA15A",
           "#19d3f3",
           "#FF6692",
           "#B6E880",
           "#FF97FF",
           "#FECB52"
          ],
          "font": {
           "color": "#2a3f5f"
          },
          "geo": {
           "bgcolor": "white",
           "lakecolor": "white",
           "landcolor": "#E5ECF6",
           "showlakes": true,
           "showland": true,
           "subunitcolor": "white"
          },
          "hoverlabel": {
           "align": "left"
          },
          "hovermode": "closest",
          "mapbox": {
           "style": "light"
          },
          "paper_bgcolor": "white",
          "plot_bgcolor": "#E5ECF6",
          "polar": {
           "angularaxis": {
            "gridcolor": "white",
            "linecolor": "white",
            "ticks": ""
           },
           "bgcolor": "#E5ECF6",
           "radialaxis": {
            "gridcolor": "white",
            "linecolor": "white",
            "ticks": ""
           }
          },
          "scene": {
           "xaxis": {
            "backgroundcolor": "#E5ECF6",
            "gridcolor": "white",
            "gridwidth": 2,
            "linecolor": "white",
            "showbackground": true,
            "ticks": "",
            "zerolinecolor": "white"
           },
           "yaxis": {
            "backgroundcolor": "#E5ECF6",
            "gridcolor": "white",
            "gridwidth": 2,
            "linecolor": "white",
            "showbackground": true,
            "ticks": "",
            "zerolinecolor": "white"
           },
           "zaxis": {
            "backgroundcolor": "#E5ECF6",
            "gridcolor": "white",
            "gridwidth": 2,
            "linecolor": "white",
            "showbackground": true,
            "ticks": "",
            "zerolinecolor": "white"
           }
          },
          "shapedefaults": {
           "line": {
            "color": "#2a3f5f"
           }
          },
          "ternary": {
           "aaxis": {
            "gridcolor": "white",
            "linecolor": "white",
            "ticks": ""
           },
           "baxis": {
            "gridcolor": "white",
            "linecolor": "white",
            "ticks": ""
           },
           "bgcolor": "#E5ECF6",
           "caxis": {
            "gridcolor": "white",
            "linecolor": "white",
            "ticks": ""
           }
          },
          "title": {
           "x": 0.05
          },
          "xaxis": {
           "automargin": true,
           "gridcolor": "white",
           "linecolor": "white",
           "ticks": "",
           "title": {
            "standoff": 15
           },
           "zerolinecolor": "white",
           "zerolinewidth": 2
          },
          "yaxis": {
           "automargin": true,
           "gridcolor": "white",
           "linecolor": "white",
           "ticks": "",
           "title": {
            "standoff": 15
           },
           "zerolinecolor": "white",
           "zerolinewidth": 2
          }
         }
        },
        "title": {
         "text": "Domain Distribution in Category: work_place_tools"
        }
       }
      }
     },
     "metadata": {},
     "output_type": "display_data"
    }
   ],
   "source": [
    "\n",
    "# Group and count domain occurrences per category\n",
    "grouped = df.groupby(['category', 'base_url']).size().reset_index(name='count')\n",
    "categories = grouped['category'].unique()\n",
    "\n",
    "for cat in categories:\n",
    "    cat_data = grouped[grouped['category'] == cat].sort_values(by='count', ascending=False)\n",
    "\n",
    "    # Top 10 + \"Other\"\n",
    "    top10 = cat_data.head(10)\n",
    "    others = cat_data.iloc[10:]\n",
    "\n",
    "    if not others.empty:\n",
    "        other_row = pd.DataFrame({\n",
    "            'category': [cat],\n",
    "            'base_url': ['Other'],\n",
    "            'count': [others['count'].sum()]\n",
    "        })\n",
    "        pie_data = pd.concat([top10, other_row], ignore_index=True)\n",
    "    else:\n",
    "        pie_data = top10\n",
    "\n",
    "    # Plotly Pie Chart with count and percentage\n",
    "    fig = px.pie(\n",
    "        pie_data,\n",
    "        names='base_url',\n",
    "        values='count',\n",
    "        title=f'Domain Distribution in Category: {cat}',\n",
    "        hole=0.7  # Optional: donut style\n",
    "    )\n",
    "    \n",
    "    # Show both percentage and count\n",
    "    fig.update_traces(textinfo='percent+label+value', texttemplate='%{label}: %{value} (%{percent:.1f}%)')\n",
    "    \n",
    "    # Show the figure\n",
    "    fig.show()\n"
   ]
  },
  {
   "cell_type": "markdown",
   "id": "79b38ae1",
   "metadata": {},
   "source": [
    "## google and other search engin ana.\n"
   ]
  },
  {
   "cell_type": "code",
   "execution_count": 52,
   "id": "03fc3f40",
   "metadata": {},
   "outputs": [
    {
     "name": "stderr",
     "output_type": "stream",
     "text": [
      "c:\\ProgramData\\anaconda3\\Lib\\site-packages\\sklearn\\cluster\\_kmeans.py:1429: UserWarning:\n",
      "\n",
      "KMeans is known to have a memory leak on Windows with MKL, when there are less chunks than available threads. You can avoid it by setting the environment variable OMP_NUM_THREADS=6.\n",
      "\n"
     ]
    },
    {
     "name": "stdout",
     "output_type": "stream",
     "text": [
      "    Cluster                                      Merged Titles\n",
      "0         0  [Google Flights - Find Cheap Flight Options & ...\n",
      "1         1  [Tokyo to Malaysia | Explore, Tokyo to Malaysi...\n",
      "2         2  [Taipei City to San Francisco | Google Flights...\n",
      "3         3  [Gmail, Sign in - Google Accounts, Sign in - G...\n",
      "4         4  [companies house login - Google Search, acquir...\n",
      "5         5  [Moment of Science: Hundreds of dinosaur footp...\n",
      "6         6  [Shillong to Kolkata | Google Flights, San Fra...\n",
      "7         7  [horse mat 1 inch thick - Google Shopping, hor...\n",
      "8         8  [San Francisco to San José | Google Flights, S...\n",
      "9         9  [livermore haircut school - Google Search, liv...\n",
      "10       10  [Inner Space Cavern - Google Search, Inner Spa...\n",
      "11       11  [how do i travel to meghalaya - Google Search,...\n",
      "12       12  [android studio download mac - Google Search, ...\n",
      "13       13  [can i get an mri in japan cost - Google Searc...\n",
      "14       14  [Kochi to Tokyo | Google Flights, Tokyo to Koc...\n",
      "15       15  [weather in thailand in march - Google Search,...\n",
      "16       16  [Nara Park &#44;  Nara &#44;  Japan to Tsuruma...\n",
      "17       17  [Chrome Web Store, Chrome Web Store, Chrome We...\n",
      "18       18  [Parked Car · Apple Maps, Google Maps, Google ...\n",
      "19       19  [greek gods and goddesses names - Google Searc...\n",
      "20       20  [stegosaurus - Google Search, stegosaurus - Go...\n",
      "21       21  [Hydra facialaustin - Google Search, Hydra fac...\n",
      "22       22  [Mumbai to Tokyo | Google Flights, Mumbai to T...\n",
      "23       23  [Ashley Altari Queen Sleeper Sofa | Google, so...\n",
      "24       24  [milika center - Google Search, milika center ...\n",
      "25       25  [JD Academy of Salon and Spa - Google Search, ...\n",
      "26       26  [sholder length haircuts for women 40 - Google...\n",
      "27       27  [13230 inr in usd - Google Search, 13230 inr i...\n",
      "28       28  [private chef service east bay - Google Search...\n",
      "29       29  [wolf haircut - Google Search, wolf haircut - ...\n",
      "30       30  [massage training - Google Search, indoor 0 g ...\n",
      "31       31  [park birthday dublin reservation - Google Sea...\n"
     ]
    },
    {
     "data": {
      "text/html": [
       "<div>\n",
       "<style scoped>\n",
       "    .dataframe tbody tr th:only-of-type {\n",
       "        vertical-align: middle;\n",
       "    }\n",
       "\n",
       "    .dataframe tbody tr th {\n",
       "        vertical-align: top;\n",
       "    }\n",
       "\n",
       "    .dataframe thead th {\n",
       "        text-align: right;\n",
       "    }\n",
       "</style>\n",
       "<table border=\"1\" class=\"dataframe\">\n",
       "  <thead>\n",
       "    <tr style=\"text-align: right;\">\n",
       "      <th></th>\n",
       "      <th>Cluster</th>\n",
       "      <th>Titles</th>\n",
       "    </tr>\n",
       "  </thead>\n",
       "  <tbody>\n",
       "    <tr>\n",
       "      <th>0</th>\n",
       "      <td>0</td>\n",
       "      <td>[Google Flights - Find Cheap Flight Options &amp; ...</td>\n",
       "    </tr>\n",
       "    <tr>\n",
       "      <th>1</th>\n",
       "      <td>1</td>\n",
       "      <td>[Tokyo to Malaysia | Explore, Tokyo to Malaysi...</td>\n",
       "    </tr>\n",
       "    <tr>\n",
       "      <th>2</th>\n",
       "      <td>2</td>\n",
       "      <td>[Taipei City to San Francisco | Google Flights...</td>\n",
       "    </tr>\n",
       "    <tr>\n",
       "      <th>3</th>\n",
       "      <td>3</td>\n",
       "      <td>[Gmail, Sign in - Google Accounts, Sign in - G...</td>\n",
       "    </tr>\n",
       "    <tr>\n",
       "      <th>4</th>\n",
       "      <td>4</td>\n",
       "      <td>[companies house login - Google Search, acquir...</td>\n",
       "    </tr>\n",
       "    <tr>\n",
       "      <th>5</th>\n",
       "      <td>5</td>\n",
       "      <td>[Moment of Science: Hundreds of dinosaur footp...</td>\n",
       "    </tr>\n",
       "    <tr>\n",
       "      <th>6</th>\n",
       "      <td>6</td>\n",
       "      <td>[Shillong to Kolkata | Google Flights, San Fra...</td>\n",
       "    </tr>\n",
       "    <tr>\n",
       "      <th>7</th>\n",
       "      <td>7</td>\n",
       "      <td>[horse mat 1 inch thick - Google Shopping, hor...</td>\n",
       "    </tr>\n",
       "    <tr>\n",
       "      <th>8</th>\n",
       "      <td>8</td>\n",
       "      <td>[San Francisco to San José | Google Flights, S...</td>\n",
       "    </tr>\n",
       "    <tr>\n",
       "      <th>9</th>\n",
       "      <td>9</td>\n",
       "      <td>[livermore haircut school - Google Search, liv...</td>\n",
       "    </tr>\n",
       "    <tr>\n",
       "      <th>10</th>\n",
       "      <td>10</td>\n",
       "      <td>[Inner Space Cavern - Google Search, Inner Spa...</td>\n",
       "    </tr>\n",
       "    <tr>\n",
       "      <th>11</th>\n",
       "      <td>11</td>\n",
       "      <td>[how do i travel to meghalaya - Google Search,...</td>\n",
       "    </tr>\n",
       "    <tr>\n",
       "      <th>12</th>\n",
       "      <td>12</td>\n",
       "      <td>[android studio download mac - Google Search, ...</td>\n",
       "    </tr>\n",
       "    <tr>\n",
       "      <th>13</th>\n",
       "      <td>13</td>\n",
       "      <td>[can i get an mri in japan cost - Google Searc...</td>\n",
       "    </tr>\n",
       "    <tr>\n",
       "      <th>14</th>\n",
       "      <td>14</td>\n",
       "      <td>[Kochi to Tokyo | Google Flights, Tokyo to Koc...</td>\n",
       "    </tr>\n",
       "    <tr>\n",
       "      <th>15</th>\n",
       "      <td>15</td>\n",
       "      <td>[weather in thailand in march - Google Search,...</td>\n",
       "    </tr>\n",
       "    <tr>\n",
       "      <th>16</th>\n",
       "      <td>16</td>\n",
       "      <td>[Nara Park &amp;#44;  Nara &amp;#44;  Japan to Tsuruma...</td>\n",
       "    </tr>\n",
       "    <tr>\n",
       "      <th>17</th>\n",
       "      <td>17</td>\n",
       "      <td>[Chrome Web Store, Chrome Web Store, Chrome We...</td>\n",
       "    </tr>\n",
       "    <tr>\n",
       "      <th>18</th>\n",
       "      <td>18</td>\n",
       "      <td>[Parked Car · Apple Maps, Google Maps, Google ...</td>\n",
       "    </tr>\n",
       "    <tr>\n",
       "      <th>19</th>\n",
       "      <td>19</td>\n",
       "      <td>[greek gods and goddesses names - Google Searc...</td>\n",
       "    </tr>\n",
       "    <tr>\n",
       "      <th>20</th>\n",
       "      <td>20</td>\n",
       "      <td>[stegosaurus - Google Search, stegosaurus - Go...</td>\n",
       "    </tr>\n",
       "    <tr>\n",
       "      <th>21</th>\n",
       "      <td>21</td>\n",
       "      <td>[Hydra facialaustin - Google Search, Hydra fac...</td>\n",
       "    </tr>\n",
       "    <tr>\n",
       "      <th>22</th>\n",
       "      <td>22</td>\n",
       "      <td>[Mumbai to Tokyo | Google Flights, Mumbai to T...</td>\n",
       "    </tr>\n",
       "    <tr>\n",
       "      <th>23</th>\n",
       "      <td>23</td>\n",
       "      <td>[Ashley Altari Queen Sleeper Sofa | Google, so...</td>\n",
       "    </tr>\n",
       "    <tr>\n",
       "      <th>24</th>\n",
       "      <td>24</td>\n",
       "      <td>[milika center - Google Search, milika center ...</td>\n",
       "    </tr>\n",
       "    <tr>\n",
       "      <th>25</th>\n",
       "      <td>25</td>\n",
       "      <td>[JD Academy of Salon and Spa - Google Search, ...</td>\n",
       "    </tr>\n",
       "    <tr>\n",
       "      <th>26</th>\n",
       "      <td>26</td>\n",
       "      <td>[sholder length haircuts for women 40 - Google...</td>\n",
       "    </tr>\n",
       "    <tr>\n",
       "      <th>27</th>\n",
       "      <td>27</td>\n",
       "      <td>[13230 inr in usd - Google Search, 13230 inr i...</td>\n",
       "    </tr>\n",
       "    <tr>\n",
       "      <th>28</th>\n",
       "      <td>28</td>\n",
       "      <td>[private chef service east bay - Google Search...</td>\n",
       "    </tr>\n",
       "    <tr>\n",
       "      <th>29</th>\n",
       "      <td>29</td>\n",
       "      <td>[wolf haircut - Google Search, wolf haircut - ...</td>\n",
       "    </tr>\n",
       "    <tr>\n",
       "      <th>30</th>\n",
       "      <td>30</td>\n",
       "      <td>[massage training - Google Search, indoor 0 g ...</td>\n",
       "    </tr>\n",
       "    <tr>\n",
       "      <th>31</th>\n",
       "      <td>31</td>\n",
       "      <td>[park birthday dublin reservation - Google Sea...</td>\n",
       "    </tr>\n",
       "  </tbody>\n",
       "</table>\n",
       "</div>"
      ],
      "text/plain": [
       "    Cluster                                             Titles\n",
       "0         0  [Google Flights - Find Cheap Flight Options & ...\n",
       "1         1  [Tokyo to Malaysia | Explore, Tokyo to Malaysi...\n",
       "2         2  [Taipei City to San Francisco | Google Flights...\n",
       "3         3  [Gmail, Sign in - Google Accounts, Sign in - G...\n",
       "4         4  [companies house login - Google Search, acquir...\n",
       "5         5  [Moment of Science: Hundreds of dinosaur footp...\n",
       "6         6  [Shillong to Kolkata | Google Flights, San Fra...\n",
       "7         7  [horse mat 1 inch thick - Google Shopping, hor...\n",
       "8         8  [San Francisco to San José | Google Flights, S...\n",
       "9         9  [livermore haircut school - Google Search, liv...\n",
       "10       10  [Inner Space Cavern - Google Search, Inner Spa...\n",
       "11       11  [how do i travel to meghalaya - Google Search,...\n",
       "12       12  [android studio download mac - Google Search, ...\n",
       "13       13  [can i get an mri in japan cost - Google Searc...\n",
       "14       14  [Kochi to Tokyo | Google Flights, Tokyo to Koc...\n",
       "15       15  [weather in thailand in march - Google Search,...\n",
       "16       16  [Nara Park &#44;  Nara &#44;  Japan to Tsuruma...\n",
       "17       17  [Chrome Web Store, Chrome Web Store, Chrome We...\n",
       "18       18  [Parked Car · Apple Maps, Google Maps, Google ...\n",
       "19       19  [greek gods and goddesses names - Google Searc...\n",
       "20       20  [stegosaurus - Google Search, stegosaurus - Go...\n",
       "21       21  [Hydra facialaustin - Google Search, Hydra fac...\n",
       "22       22  [Mumbai to Tokyo | Google Flights, Mumbai to T...\n",
       "23       23  [Ashley Altari Queen Sleeper Sofa | Google, so...\n",
       "24       24  [milika center - Google Search, milika center ...\n",
       "25       25  [JD Academy of Salon and Spa - Google Search, ...\n",
       "26       26  [sholder length haircuts for women 40 - Google...\n",
       "27       27  [13230 inr in usd - Google Search, 13230 inr i...\n",
       "28       28  [private chef service east bay - Google Search...\n",
       "29       29  [wolf haircut - Google Search, wolf haircut - ...\n",
       "30       30  [massage training - Google Search, indoor 0 g ...\n",
       "31       31  [park birthday dublin reservation - Google Sea..."
      ]
     },
     "execution_count": 52,
     "metadata": {},
     "output_type": "execute_result"
    }
   ],
   "source": [
    "search_data = df[df['category'] == 'search_engine'].copy()\n",
    "search_titles = search_data['title'].tolist()\n",
    "embeddings = model.encode(search_titles, convert_to_tensor=True)\n",
    "\n",
    "# Cluster with K-Means\n",
    "kmeans = KMeans(n_clusters=32, random_state=42)\n",
    "clusters = kmeans.fit_predict(embeddings.cpu().numpy())\n",
    "# Display results\n",
    "dfx = pd.DataFrame({\"Title\": search_titles, \"Cluster\": clusters})\n",
    "dfx = dfx[dfx['Title'].notnull() & (dfx['Title'].str.strip() != '')]\n",
    "\n",
    "# Group titles by cluster\n",
    "grouped = dfx.groupby('Cluster')['Title'].apply(list).reset_index()\n",
    "\n",
    "#  rotate the titles in each cluster\n",
    "# This rotates (shifts) the list of titles by 1\n",
    "grouped['Rotated Titles'] = grouped['Title'].apply(lambda x: x[1:] + x[:1] if len(x) > 1 else x)\n",
    "# 3. Merge the titles into a single list per cluster\n",
    "grouped['Merged Titles'] = grouped['Rotated Titles'].apply(lambda x: x)\n",
    "\n",
    "# Final Result\n",
    "print(grouped[['Cluster', 'Merged Titles']])\n",
    "grouped = grouped.drop(columns=['Title'])\n",
    "grouped = grouped.drop(columns=['Rotated Titles'])\n",
    "#rename the column 'Merged Titles' to 'Titles'\n",
    "grouped = grouped.rename(columns={'Merged Titles': 'Titles'})\n",
    "grouped"
   ]
  },
  {
   "cell_type": "code",
   "execution_count": null,
   "id": "bc343ae7",
   "metadata": {},
   "outputs": [],
   "source": [
    "GENAI_API_KEY = \"YOUR KEY HERE\"\n",
    "def search_filter(url):\n",
    "    client = genai.Client(api_key=GENAI_API_KEY)\n",
    "    #list to string\n",
    "    url = ', '.join(url)\n",
    "\n",
    "    response = client.models.generate_content(\n",
    "    model=\"gemini-2.0-flash\", contents=(\"Output category web search history  in single world puchese have some outliers ignor it , if all are outlier output other. eg-News, Shopping, Health, Education, Entertainment, Travel, Technology, Finance, Sports, Food & Recipes, Jobs & Careers, Local Services, DIY & How-To, Government & Legal, Social Media & Communication. History: \" + url + \" \"),\n",
    ")\n",
    "    return response.text"
   ]
  },
  {
   "cell_type": "code",
   "execution_count": null,
   "id": "bbaa1fa9",
   "metadata": {},
   "outputs": [],
   "source": [
    "for i in range(len(grouped)):\n",
    "    try:\n",
    "        grouped.loc[i, 'category'] = search_filter(grouped.loc[i, 'Titles'])\n",
    "        print(i)\n",
    "    except Exception as e:\n",
    "        print(f\"Error generating category for {grouped.loc[i, 'Titles']}: {e}\")\n",
    "grouped"
   ]
  },
  {
   "cell_type": "code",
   "execution_count": 57,
   "id": "8f3836e4",
   "metadata": {},
   "outputs": [
    {
     "data": {
      "text/html": [
       "<div>\n",
       "<style scoped>\n",
       "    .dataframe tbody tr th:only-of-type {\n",
       "        vertical-align: middle;\n",
       "    }\n",
       "\n",
       "    .dataframe tbody tr th {\n",
       "        vertical-align: top;\n",
       "    }\n",
       "\n",
       "    .dataframe thead th {\n",
       "        text-align: right;\n",
       "    }\n",
       "</style>\n",
       "<table border=\"1\" class=\"dataframe\">\n",
       "  <thead>\n",
       "    <tr style=\"text-align: right;\">\n",
       "      <th></th>\n",
       "      <th>Cluster</th>\n",
       "      <th>Titles</th>\n",
       "      <th>category</th>\n",
       "      <th>length</th>\n",
       "    </tr>\n",
       "  </thead>\n",
       "  <tbody>\n",
       "    <tr>\n",
       "      <th>0</th>\n",
       "      <td>0</td>\n",
       "      <td>[Google Flights - Find Cheap Flight Options &amp; ...</td>\n",
       "      <td>Travel\\n</td>\n",
       "      <td>7</td>\n",
       "    </tr>\n",
       "    <tr>\n",
       "      <th>1</th>\n",
       "      <td>1</td>\n",
       "      <td>[Tokyo to Malaysia | Explore, Tokyo to Malaysi...</td>\n",
       "      <td>Travel\\n</td>\n",
       "      <td>7</td>\n",
       "    </tr>\n",
       "    <tr>\n",
       "      <th>2</th>\n",
       "      <td>2</td>\n",
       "      <td>[Taipei City to San Francisco | Google Flights...</td>\n",
       "      <td>Travel\\n</td>\n",
       "      <td>7</td>\n",
       "    </tr>\n",
       "    <tr>\n",
       "      <th>3</th>\n",
       "      <td>3</td>\n",
       "      <td>[Gmail, Sign in - Google Accounts, Sign in - G...</td>\n",
       "      <td>Social Media &amp; Communication\\n</td>\n",
       "      <td>29</td>\n",
       "    </tr>\n",
       "    <tr>\n",
       "      <th>4</th>\n",
       "      <td>4</td>\n",
       "      <td>[companies house login - Google Search, acquir...</td>\n",
       "      <td>Jobs &amp; Careers\\n</td>\n",
       "      <td>15</td>\n",
       "    </tr>\n",
       "    <tr>\n",
       "      <th>5</th>\n",
       "      <td>5</td>\n",
       "      <td>[Moment of Science: Hundreds of dinosaur footp...</td>\n",
       "      <td>Travel\\n</td>\n",
       "      <td>7</td>\n",
       "    </tr>\n",
       "    <tr>\n",
       "      <th>6</th>\n",
       "      <td>6</td>\n",
       "      <td>[Shillong to Kolkata | Google Flights, San Fra...</td>\n",
       "      <td>Travel\\n</td>\n",
       "      <td>7</td>\n",
       "    </tr>\n",
       "    <tr>\n",
       "      <th>7</th>\n",
       "      <td>7</td>\n",
       "      <td>[horse mat 1 inch thick - Google Shopping, hor...</td>\n",
       "      <td>Shopping\\n</td>\n",
       "      <td>9</td>\n",
       "    </tr>\n",
       "    <tr>\n",
       "      <th>8</th>\n",
       "      <td>8</td>\n",
       "      <td>[San Francisco to San José | Google Flights, S...</td>\n",
       "      <td>Travel\\n</td>\n",
       "      <td>7</td>\n",
       "    </tr>\n",
       "    <tr>\n",
       "      <th>9</th>\n",
       "      <td>9</td>\n",
       "      <td>[livermore haircut school - Google Search, liv...</td>\n",
       "      <td>Travel\\n</td>\n",
       "      <td>7</td>\n",
       "    </tr>\n",
       "    <tr>\n",
       "      <th>10</th>\n",
       "      <td>10</td>\n",
       "      <td>[Inner Space Cavern - Google Search, Inner Spa...</td>\n",
       "      <td>Travel\\n</td>\n",
       "      <td>7</td>\n",
       "    </tr>\n",
       "    <tr>\n",
       "      <th>11</th>\n",
       "      <td>11</td>\n",
       "      <td>[how do i travel to meghalaya - Google Search,...</td>\n",
       "      <td>Travel\\n</td>\n",
       "      <td>7</td>\n",
       "    </tr>\n",
       "    <tr>\n",
       "      <th>12</th>\n",
       "      <td>12</td>\n",
       "      <td>[android studio download mac - Google Search, ...</td>\n",
       "      <td>Technology\\n</td>\n",
       "      <td>11</td>\n",
       "    </tr>\n",
       "    <tr>\n",
       "      <th>13</th>\n",
       "      <td>13</td>\n",
       "      <td>[can i get an mri in japan cost - Google Searc...</td>\n",
       "      <td>Health\\n</td>\n",
       "      <td>7</td>\n",
       "    </tr>\n",
       "    <tr>\n",
       "      <th>14</th>\n",
       "      <td>14</td>\n",
       "      <td>[Kochi to Tokyo | Google Flights, Tokyo to Koc...</td>\n",
       "      <td>Travel\\n</td>\n",
       "      <td>7</td>\n",
       "    </tr>\n",
       "    <tr>\n",
       "      <th>15</th>\n",
       "      <td>15</td>\n",
       "      <td>[weather in thailand in march - Google Search,...</td>\n",
       "      <td>Travel\\n</td>\n",
       "      <td>7</td>\n",
       "    </tr>\n",
       "    <tr>\n",
       "      <th>16</th>\n",
       "      <td>16</td>\n",
       "      <td>[Nara Park &amp;#44;  Nara &amp;#44;  Japan to Tsuruma...</td>\n",
       "      <td>Travel\\n</td>\n",
       "      <td>7</td>\n",
       "    </tr>\n",
       "    <tr>\n",
       "      <th>17</th>\n",
       "      <td>17</td>\n",
       "      <td>[Chrome Web Store, Chrome Web Store, Chrome We...</td>\n",
       "      <td>Shopping\\n</td>\n",
       "      <td>9</td>\n",
       "    </tr>\n",
       "    <tr>\n",
       "      <th>18</th>\n",
       "      <td>18</td>\n",
       "      <td>[Parked Car · Apple Maps, Google Maps, Google ...</td>\n",
       "      <td>Travel\\n</td>\n",
       "      <td>7</td>\n",
       "    </tr>\n",
       "    <tr>\n",
       "      <th>19</th>\n",
       "      <td>19</td>\n",
       "      <td>[greek gods and goddesses names - Google Searc...</td>\n",
       "      <td>Food &amp; Recipes\\n</td>\n",
       "      <td>15</td>\n",
       "    </tr>\n",
       "    <tr>\n",
       "      <th>20</th>\n",
       "      <td>20</td>\n",
       "      <td>[stegosaurus - Google Search, stegosaurus - Go...</td>\n",
       "      <td>Education\\n</td>\n",
       "      <td>10</td>\n",
       "    </tr>\n",
       "    <tr>\n",
       "      <th>21</th>\n",
       "      <td>21</td>\n",
       "      <td>[Hydra facialaustin - Google Search, Hydra fac...</td>\n",
       "      <td>Other\\n</td>\n",
       "      <td>6</td>\n",
       "    </tr>\n",
       "    <tr>\n",
       "      <th>22</th>\n",
       "      <td>22</td>\n",
       "      <td>[Mumbai to Tokyo | Google Flights, Mumbai to T...</td>\n",
       "      <td>Travel\\n</td>\n",
       "      <td>7</td>\n",
       "    </tr>\n",
       "    <tr>\n",
       "      <th>23</th>\n",
       "      <td>23</td>\n",
       "      <td>[Ashley Altari Queen Sleeper Sofa | Google, so...</td>\n",
       "      <td>Shopping\\n</td>\n",
       "      <td>9</td>\n",
       "    </tr>\n",
       "    <tr>\n",
       "      <th>24</th>\n",
       "      <td>24</td>\n",
       "      <td>[milika center - Google Search, milika center ...</td>\n",
       "      <td>Travel\\n</td>\n",
       "      <td>7</td>\n",
       "    </tr>\n",
       "    <tr>\n",
       "      <th>25</th>\n",
       "      <td>25</td>\n",
       "      <td>[JD Academy of Salon and Spa - Google Search, ...</td>\n",
       "      <td>Travel\\n</td>\n",
       "      <td>7</td>\n",
       "    </tr>\n",
       "    <tr>\n",
       "      <th>26</th>\n",
       "      <td>26</td>\n",
       "      <td>[sholder length haircuts for women 40 - Google...</td>\n",
       "      <td>Shopping\\n</td>\n",
       "      <td>9</td>\n",
       "    </tr>\n",
       "    <tr>\n",
       "      <th>27</th>\n",
       "      <td>27</td>\n",
       "      <td>[13230 inr in usd - Google Search, 13230 inr i...</td>\n",
       "      <td>Finance\\n</td>\n",
       "      <td>8</td>\n",
       "    </tr>\n",
       "    <tr>\n",
       "      <th>28</th>\n",
       "      <td>28</td>\n",
       "      <td>[private chef service east bay - Google Search...</td>\n",
       "      <td>Food &amp; Recipes\\n</td>\n",
       "      <td>15</td>\n",
       "    </tr>\n",
       "    <tr>\n",
       "      <th>29</th>\n",
       "      <td>29</td>\n",
       "      <td>[wolf haircut - Google Search, wolf haircut - ...</td>\n",
       "      <td>Entertainment\\n</td>\n",
       "      <td>14</td>\n",
       "    </tr>\n",
       "    <tr>\n",
       "      <th>30</th>\n",
       "      <td>30</td>\n",
       "      <td>[massage training - Google Search, indoor 0 g ...</td>\n",
       "      <td>Shopping\\n</td>\n",
       "      <td>9</td>\n",
       "    </tr>\n",
       "    <tr>\n",
       "      <th>31</th>\n",
       "      <td>31</td>\n",
       "      <td>[park birthday dublin reservation - Google Sea...</td>\n",
       "      <td>Travel\\n</td>\n",
       "      <td>7</td>\n",
       "    </tr>\n",
       "  </tbody>\n",
       "</table>\n",
       "</div>"
      ],
      "text/plain": [
       "    Cluster                                             Titles  \\\n",
       "0         0  [Google Flights - Find Cheap Flight Options & ...   \n",
       "1         1  [Tokyo to Malaysia | Explore, Tokyo to Malaysi...   \n",
       "2         2  [Taipei City to San Francisco | Google Flights...   \n",
       "3         3  [Gmail, Sign in - Google Accounts, Sign in - G...   \n",
       "4         4  [companies house login - Google Search, acquir...   \n",
       "5         5  [Moment of Science: Hundreds of dinosaur footp...   \n",
       "6         6  [Shillong to Kolkata | Google Flights, San Fra...   \n",
       "7         7  [horse mat 1 inch thick - Google Shopping, hor...   \n",
       "8         8  [San Francisco to San José | Google Flights, S...   \n",
       "9         9  [livermore haircut school - Google Search, liv...   \n",
       "10       10  [Inner Space Cavern - Google Search, Inner Spa...   \n",
       "11       11  [how do i travel to meghalaya - Google Search,...   \n",
       "12       12  [android studio download mac - Google Search, ...   \n",
       "13       13  [can i get an mri in japan cost - Google Searc...   \n",
       "14       14  [Kochi to Tokyo | Google Flights, Tokyo to Koc...   \n",
       "15       15  [weather in thailand in march - Google Search,...   \n",
       "16       16  [Nara Park &#44;  Nara &#44;  Japan to Tsuruma...   \n",
       "17       17  [Chrome Web Store, Chrome Web Store, Chrome We...   \n",
       "18       18  [Parked Car · Apple Maps, Google Maps, Google ...   \n",
       "19       19  [greek gods and goddesses names - Google Searc...   \n",
       "20       20  [stegosaurus - Google Search, stegosaurus - Go...   \n",
       "21       21  [Hydra facialaustin - Google Search, Hydra fac...   \n",
       "22       22  [Mumbai to Tokyo | Google Flights, Mumbai to T...   \n",
       "23       23  [Ashley Altari Queen Sleeper Sofa | Google, so...   \n",
       "24       24  [milika center - Google Search, milika center ...   \n",
       "25       25  [JD Academy of Salon and Spa - Google Search, ...   \n",
       "26       26  [sholder length haircuts for women 40 - Google...   \n",
       "27       27  [13230 inr in usd - Google Search, 13230 inr i...   \n",
       "28       28  [private chef service east bay - Google Search...   \n",
       "29       29  [wolf haircut - Google Search, wolf haircut - ...   \n",
       "30       30  [massage training - Google Search, indoor 0 g ...   \n",
       "31       31  [park birthday dublin reservation - Google Sea...   \n",
       "\n",
       "                          category  length  \n",
       "0                         Travel\\n       7  \n",
       "1                         Travel\\n       7  \n",
       "2                         Travel\\n       7  \n",
       "3   Social Media & Communication\\n      29  \n",
       "4                 Jobs & Careers\\n      15  \n",
       "5                         Travel\\n       7  \n",
       "6                         Travel\\n       7  \n",
       "7                       Shopping\\n       9  \n",
       "8                         Travel\\n       7  \n",
       "9                         Travel\\n       7  \n",
       "10                        Travel\\n       7  \n",
       "11                        Travel\\n       7  \n",
       "12                    Technology\\n      11  \n",
       "13                        Health\\n       7  \n",
       "14                        Travel\\n       7  \n",
       "15                        Travel\\n       7  \n",
       "16                        Travel\\n       7  \n",
       "17                      Shopping\\n       9  \n",
       "18                        Travel\\n       7  \n",
       "19                Food & Recipes\\n      15  \n",
       "20                     Education\\n      10  \n",
       "21                         Other\\n       6  \n",
       "22                        Travel\\n       7  \n",
       "23                      Shopping\\n       9  \n",
       "24                        Travel\\n       7  \n",
       "25                        Travel\\n       7  \n",
       "26                      Shopping\\n       9  \n",
       "27                       Finance\\n       8  \n",
       "28                Food & Recipes\\n      15  \n",
       "29                 Entertainment\\n      14  \n",
       "30                      Shopping\\n       9  \n",
       "31                        Travel\\n       7  "
      ]
     },
     "execution_count": 57,
     "metadata": {},
     "output_type": "execute_result"
    }
   ],
   "source": [
    "grouped"
   ]
  },
  {
   "cell_type": "code",
   "execution_count": 58,
   "id": "56e6fc23",
   "metadata": {},
   "outputs": [
    {
     "data": {
      "application/vnd.plotly.v1+json": {
       "config": {
        "plotlyServerURL": "https://plot.ly"
       },
       "data": [
        {
         "domain": {
          "x": [
           0,
           1
          ],
          "y": [
           0,
           1
          ]
         },
         "hovertemplate": "category=%{label}<br>length=%{value}<extra></extra>",
         "labels": [
          "Travel\n",
          "Travel\n",
          "Travel\n",
          "Social Media & Communication\n",
          "Jobs & Careers\n",
          "Travel\n",
          "Travel\n",
          "Shopping\n",
          "Travel\n",
          "Travel\n",
          "Travel\n",
          "Travel\n",
          "Technology\n",
          "Health\n",
          "Travel\n",
          "Travel\n",
          "Travel\n",
          "Shopping\n",
          "Travel\n",
          "Food & Recipes\n",
          "Education\n",
          "Other\n",
          "Travel\n",
          "Shopping\n",
          "Travel\n",
          "Travel\n",
          "Shopping\n",
          "Finance\n",
          "Food & Recipes\n",
          "Entertainment\n",
          "Shopping\n",
          "Travel\n"
         ],
         "legendgroup": "",
         "name": "",
         "showlegend": true,
         "textinfo": "percent+label",
         "type": "pie",
         "values": [
          7,
          7,
          7,
          29,
          15,
          7,
          7,
          9,
          7,
          7,
          7,
          7,
          11,
          7,
          7,
          7,
          7,
          9,
          7,
          15,
          10,
          6,
          7,
          9,
          7,
          7,
          9,
          8,
          15,
          14,
          9,
          7
         ]
        }
       ],
       "layout": {
        "legend": {
         "tracegroupgap": 0
        },
        "template": {
         "data": {
          "bar": [
           {
            "error_x": {
             "color": "#2a3f5f"
            },
            "error_y": {
             "color": "#2a3f5f"
            },
            "marker": {
             "line": {
              "color": "#E5ECF6",
              "width": 0.5
             },
             "pattern": {
              "fillmode": "overlay",
              "size": 10,
              "solidity": 0.2
             }
            },
            "type": "bar"
           }
          ],
          "barpolar": [
           {
            "marker": {
             "line": {
              "color": "#E5ECF6",
              "width": 0.5
             },
             "pattern": {
              "fillmode": "overlay",
              "size": 10,
              "solidity": 0.2
             }
            },
            "type": "barpolar"
           }
          ],
          "carpet": [
           {
            "aaxis": {
             "endlinecolor": "#2a3f5f",
             "gridcolor": "white",
             "linecolor": "white",
             "minorgridcolor": "white",
             "startlinecolor": "#2a3f5f"
            },
            "baxis": {
             "endlinecolor": "#2a3f5f",
             "gridcolor": "white",
             "linecolor": "white",
             "minorgridcolor": "white",
             "startlinecolor": "#2a3f5f"
            },
            "type": "carpet"
           }
          ],
          "choropleth": [
           {
            "colorbar": {
             "outlinewidth": 0,
             "ticks": ""
            },
            "type": "choropleth"
           }
          ],
          "contour": [
           {
            "colorbar": {
             "outlinewidth": 0,
             "ticks": ""
            },
            "colorscale": [
             [
              0,
              "#0d0887"
             ],
             [
              0.1111111111111111,
              "#46039f"
             ],
             [
              0.2222222222222222,
              "#7201a8"
             ],
             [
              0.3333333333333333,
              "#9c179e"
             ],
             [
              0.4444444444444444,
              "#bd3786"
             ],
             [
              0.5555555555555556,
              "#d8576b"
             ],
             [
              0.6666666666666666,
              "#ed7953"
             ],
             [
              0.7777777777777778,
              "#fb9f3a"
             ],
             [
              0.8888888888888888,
              "#fdca26"
             ],
             [
              1,
              "#f0f921"
             ]
            ],
            "type": "contour"
           }
          ],
          "contourcarpet": [
           {
            "colorbar": {
             "outlinewidth": 0,
             "ticks": ""
            },
            "type": "contourcarpet"
           }
          ],
          "heatmap": [
           {
            "colorbar": {
             "outlinewidth": 0,
             "ticks": ""
            },
            "colorscale": [
             [
              0,
              "#0d0887"
             ],
             [
              0.1111111111111111,
              "#46039f"
             ],
             [
              0.2222222222222222,
              "#7201a8"
             ],
             [
              0.3333333333333333,
              "#9c179e"
             ],
             [
              0.4444444444444444,
              "#bd3786"
             ],
             [
              0.5555555555555556,
              "#d8576b"
             ],
             [
              0.6666666666666666,
              "#ed7953"
             ],
             [
              0.7777777777777778,
              "#fb9f3a"
             ],
             [
              0.8888888888888888,
              "#fdca26"
             ],
             [
              1,
              "#f0f921"
             ]
            ],
            "type": "heatmap"
           }
          ],
          "heatmapgl": [
           {
            "colorbar": {
             "outlinewidth": 0,
             "ticks": ""
            },
            "colorscale": [
             [
              0,
              "#0d0887"
             ],
             [
              0.1111111111111111,
              "#46039f"
             ],
             [
              0.2222222222222222,
              "#7201a8"
             ],
             [
              0.3333333333333333,
              "#9c179e"
             ],
             [
              0.4444444444444444,
              "#bd3786"
             ],
             [
              0.5555555555555556,
              "#d8576b"
             ],
             [
              0.6666666666666666,
              "#ed7953"
             ],
             [
              0.7777777777777778,
              "#fb9f3a"
             ],
             [
              0.8888888888888888,
              "#fdca26"
             ],
             [
              1,
              "#f0f921"
             ]
            ],
            "type": "heatmapgl"
           }
          ],
          "histogram": [
           {
            "marker": {
             "pattern": {
              "fillmode": "overlay",
              "size": 10,
              "solidity": 0.2
             }
            },
            "type": "histogram"
           }
          ],
          "histogram2d": [
           {
            "colorbar": {
             "outlinewidth": 0,
             "ticks": ""
            },
            "colorscale": [
             [
              0,
              "#0d0887"
             ],
             [
              0.1111111111111111,
              "#46039f"
             ],
             [
              0.2222222222222222,
              "#7201a8"
             ],
             [
              0.3333333333333333,
              "#9c179e"
             ],
             [
              0.4444444444444444,
              "#bd3786"
             ],
             [
              0.5555555555555556,
              "#d8576b"
             ],
             [
              0.6666666666666666,
              "#ed7953"
             ],
             [
              0.7777777777777778,
              "#fb9f3a"
             ],
             [
              0.8888888888888888,
              "#fdca26"
             ],
             [
              1,
              "#f0f921"
             ]
            ],
            "type": "histogram2d"
           }
          ],
          "histogram2dcontour": [
           {
            "colorbar": {
             "outlinewidth": 0,
             "ticks": ""
            },
            "colorscale": [
             [
              0,
              "#0d0887"
             ],
             [
              0.1111111111111111,
              "#46039f"
             ],
             [
              0.2222222222222222,
              "#7201a8"
             ],
             [
              0.3333333333333333,
              "#9c179e"
             ],
             [
              0.4444444444444444,
              "#bd3786"
             ],
             [
              0.5555555555555556,
              "#d8576b"
             ],
             [
              0.6666666666666666,
              "#ed7953"
             ],
             [
              0.7777777777777778,
              "#fb9f3a"
             ],
             [
              0.8888888888888888,
              "#fdca26"
             ],
             [
              1,
              "#f0f921"
             ]
            ],
            "type": "histogram2dcontour"
           }
          ],
          "mesh3d": [
           {
            "colorbar": {
             "outlinewidth": 0,
             "ticks": ""
            },
            "type": "mesh3d"
           }
          ],
          "parcoords": [
           {
            "line": {
             "colorbar": {
              "outlinewidth": 0,
              "ticks": ""
             }
            },
            "type": "parcoords"
           }
          ],
          "pie": [
           {
            "automargin": true,
            "type": "pie"
           }
          ],
          "scatter": [
           {
            "fillpattern": {
             "fillmode": "overlay",
             "size": 10,
             "solidity": 0.2
            },
            "type": "scatter"
           }
          ],
          "scatter3d": [
           {
            "line": {
             "colorbar": {
              "outlinewidth": 0,
              "ticks": ""
             }
            },
            "marker": {
             "colorbar": {
              "outlinewidth": 0,
              "ticks": ""
             }
            },
            "type": "scatter3d"
           }
          ],
          "scattercarpet": [
           {
            "marker": {
             "colorbar": {
              "outlinewidth": 0,
              "ticks": ""
             }
            },
            "type": "scattercarpet"
           }
          ],
          "scattergeo": [
           {
            "marker": {
             "colorbar": {
              "outlinewidth": 0,
              "ticks": ""
             }
            },
            "type": "scattergeo"
           }
          ],
          "scattergl": [
           {
            "marker": {
             "colorbar": {
              "outlinewidth": 0,
              "ticks": ""
             }
            },
            "type": "scattergl"
           }
          ],
          "scattermapbox": [
           {
            "marker": {
             "colorbar": {
              "outlinewidth": 0,
              "ticks": ""
             }
            },
            "type": "scattermapbox"
           }
          ],
          "scatterpolar": [
           {
            "marker": {
             "colorbar": {
              "outlinewidth": 0,
              "ticks": ""
             }
            },
            "type": "scatterpolar"
           }
          ],
          "scatterpolargl": [
           {
            "marker": {
             "colorbar": {
              "outlinewidth": 0,
              "ticks": ""
             }
            },
            "type": "scatterpolargl"
           }
          ],
          "scatterternary": [
           {
            "marker": {
             "colorbar": {
              "outlinewidth": 0,
              "ticks": ""
             }
            },
            "type": "scatterternary"
           }
          ],
          "surface": [
           {
            "colorbar": {
             "outlinewidth": 0,
             "ticks": ""
            },
            "colorscale": [
             [
              0,
              "#0d0887"
             ],
             [
              0.1111111111111111,
              "#46039f"
             ],
             [
              0.2222222222222222,
              "#7201a8"
             ],
             [
              0.3333333333333333,
              "#9c179e"
             ],
             [
              0.4444444444444444,
              "#bd3786"
             ],
             [
              0.5555555555555556,
              "#d8576b"
             ],
             [
              0.6666666666666666,
              "#ed7953"
             ],
             [
              0.7777777777777778,
              "#fb9f3a"
             ],
             [
              0.8888888888888888,
              "#fdca26"
             ],
             [
              1,
              "#f0f921"
             ]
            ],
            "type": "surface"
           }
          ],
          "table": [
           {
            "cells": {
             "fill": {
              "color": "#EBF0F8"
             },
             "line": {
              "color": "white"
             }
            },
            "header": {
             "fill": {
              "color": "#C8D4E3"
             },
             "line": {
              "color": "white"
             }
            },
            "type": "table"
           }
          ]
         },
         "layout": {
          "annotationdefaults": {
           "arrowcolor": "#2a3f5f",
           "arrowhead": 0,
           "arrowwidth": 1
          },
          "autotypenumbers": "strict",
          "coloraxis": {
           "colorbar": {
            "outlinewidth": 0,
            "ticks": ""
           }
          },
          "colorscale": {
           "diverging": [
            [
             0,
             "#8e0152"
            ],
            [
             0.1,
             "#c51b7d"
            ],
            [
             0.2,
             "#de77ae"
            ],
            [
             0.3,
             "#f1b6da"
            ],
            [
             0.4,
             "#fde0ef"
            ],
            [
             0.5,
             "#f7f7f7"
            ],
            [
             0.6,
             "#e6f5d0"
            ],
            [
             0.7,
             "#b8e186"
            ],
            [
             0.8,
             "#7fbc41"
            ],
            [
             0.9,
             "#4d9221"
            ],
            [
             1,
             "#276419"
            ]
           ],
           "sequential": [
            [
             0,
             "#0d0887"
            ],
            [
             0.1111111111111111,
             "#46039f"
            ],
            [
             0.2222222222222222,
             "#7201a8"
            ],
            [
             0.3333333333333333,
             "#9c179e"
            ],
            [
             0.4444444444444444,
             "#bd3786"
            ],
            [
             0.5555555555555556,
             "#d8576b"
            ],
            [
             0.6666666666666666,
             "#ed7953"
            ],
            [
             0.7777777777777778,
             "#fb9f3a"
            ],
            [
             0.8888888888888888,
             "#fdca26"
            ],
            [
             1,
             "#f0f921"
            ]
           ],
           "sequentialminus": [
            [
             0,
             "#0d0887"
            ],
            [
             0.1111111111111111,
             "#46039f"
            ],
            [
             0.2222222222222222,
             "#7201a8"
            ],
            [
             0.3333333333333333,
             "#9c179e"
            ],
            [
             0.4444444444444444,
             "#bd3786"
            ],
            [
             0.5555555555555556,
             "#d8576b"
            ],
            [
             0.6666666666666666,
             "#ed7953"
            ],
            [
             0.7777777777777778,
             "#fb9f3a"
            ],
            [
             0.8888888888888888,
             "#fdca26"
            ],
            [
             1,
             "#f0f921"
            ]
           ]
          },
          "colorway": [
           "#636efa",
           "#EF553B",
           "#00cc96",
           "#ab63fa",
           "#FFA15A",
           "#19d3f3",
           "#FF6692",
           "#B6E880",
           "#FF97FF",
           "#FECB52"
          ],
          "font": {
           "color": "#2a3f5f"
          },
          "geo": {
           "bgcolor": "white",
           "lakecolor": "white",
           "landcolor": "#E5ECF6",
           "showlakes": true,
           "showland": true,
           "subunitcolor": "white"
          },
          "hoverlabel": {
           "align": "left"
          },
          "hovermode": "closest",
          "mapbox": {
           "style": "light"
          },
          "paper_bgcolor": "white",
          "plot_bgcolor": "#E5ECF6",
          "polar": {
           "angularaxis": {
            "gridcolor": "white",
            "linecolor": "white",
            "ticks": ""
           },
           "bgcolor": "#E5ECF6",
           "radialaxis": {
            "gridcolor": "white",
            "linecolor": "white",
            "ticks": ""
           }
          },
          "scene": {
           "xaxis": {
            "backgroundcolor": "#E5ECF6",
            "gridcolor": "white",
            "gridwidth": 2,
            "linecolor": "white",
            "showbackground": true,
            "ticks": "",
            "zerolinecolor": "white"
           },
           "yaxis": {
            "backgroundcolor": "#E5ECF6",
            "gridcolor": "white",
            "gridwidth": 2,
            "linecolor": "white",
            "showbackground": true,
            "ticks": "",
            "zerolinecolor": "white"
           },
           "zaxis": {
            "backgroundcolor": "#E5ECF6",
            "gridcolor": "white",
            "gridwidth": 2,
            "linecolor": "white",
            "showbackground": true,
            "ticks": "",
            "zerolinecolor": "white"
           }
          },
          "shapedefaults": {
           "line": {
            "color": "#2a3f5f"
           }
          },
          "ternary": {
           "aaxis": {
            "gridcolor": "white",
            "linecolor": "white",
            "ticks": ""
           },
           "baxis": {
            "gridcolor": "white",
            "linecolor": "white",
            "ticks": ""
           },
           "bgcolor": "#E5ECF6",
           "caxis": {
            "gridcolor": "white",
            "linecolor": "white",
            "ticks": ""
           }
          },
          "title": {
           "x": 0.05
          },
          "xaxis": {
           "automargin": true,
           "gridcolor": "white",
           "linecolor": "white",
           "ticks": "",
           "title": {
            "standoff": 15
           },
           "zerolinecolor": "white",
           "zerolinewidth": 2
          },
          "yaxis": {
           "automargin": true,
           "gridcolor": "white",
           "linecolor": "white",
           "ticks": "",
           "title": {
            "standoff": 15
           },
           "zerolinecolor": "white",
           "zerolinewidth": 2
          }
         }
        },
        "title": {
         "text": "Google Search History"
        }
       }
      }
     },
     "metadata": {},
     "output_type": "display_data"
    }
   ],
   "source": [
    "#length of titles in each cluster save it in new column 'length'\n",
    "grouped['length'] = grouped['category'].apply(lambda x: len(x))\n",
    "# Pie chart of the length of titles in each cluster\n",
    "fig = px.pie(grouped, values='length', names='category', title='Google Search History')\n",
    "fig.update_traces(textinfo='percent+label')\n",
    "fig.show()"
   ]
  },
  {
   "cell_type": "code",
   "execution_count": 40,
   "id": "7493301e",
   "metadata": {},
   "outputs": [
    {
     "data": {
      "application/vnd.plotly.v1+json": {
       "config": {
        "plotlyServerURL": "https://plot.ly"
       },
       "data": [
        {
         "hovertemplate": "Date=%{x}<br>Active Hours=%{y}<extra></extra>",
         "legendgroup": "",
         "line": {
          "color": "#636efa",
          "dash": "solid"
         },
         "marker": {
          "symbol": "circle"
         },
         "mode": "lines",
         "name": "",
         "orientation": "v",
         "showlegend": false,
         "type": "scatter",
         "x": [
          "2025-01-22T00:00:00",
          "2025-01-23T00:00:00",
          "2025-01-24T00:00:00",
          "2025-01-25T00:00:00",
          "2025-01-27T00:00:00",
          "2025-01-29T00:00:00",
          "2025-01-31T00:00:00",
          "2025-02-01T00:00:00",
          "2025-02-03T00:00:00",
          "2025-02-04T00:00:00",
          "2025-02-05T00:00:00",
          "2025-02-11T00:00:00",
          "2025-02-14T00:00:00",
          "2025-02-16T00:00:00",
          "2025-02-19T00:00:00"
         ],
         "xaxis": "x",
         "y": [
          0.03691611111111111,
          0.007535277777777778,
          0.04629083333333334,
          0.00023416666666666665,
          0.03659444444444445,
          0.004574444444444444,
          0.010639444444444444,
          0,
          0.00851,
          0.043665277777777775,
          0.0000961111111111111,
          0.005083888888888889,
          0.0014975,
          0,
          0.3872852777777778
         ],
         "yaxis": "y"
        }
       ],
       "layout": {
        "legend": {
         "tracegroupgap": 0
        },
        "template": {
         "data": {
          "bar": [
           {
            "error_x": {
             "color": "#2a3f5f"
            },
            "error_y": {
             "color": "#2a3f5f"
            },
            "marker": {
             "line": {
              "color": "#E5ECF6",
              "width": 0.5
             },
             "pattern": {
              "fillmode": "overlay",
              "size": 10,
              "solidity": 0.2
             }
            },
            "type": "bar"
           }
          ],
          "barpolar": [
           {
            "marker": {
             "line": {
              "color": "#E5ECF6",
              "width": 0.5
             },
             "pattern": {
              "fillmode": "overlay",
              "size": 10,
              "solidity": 0.2
             }
            },
            "type": "barpolar"
           }
          ],
          "carpet": [
           {
            "aaxis": {
             "endlinecolor": "#2a3f5f",
             "gridcolor": "white",
             "linecolor": "white",
             "minorgridcolor": "white",
             "startlinecolor": "#2a3f5f"
            },
            "baxis": {
             "endlinecolor": "#2a3f5f",
             "gridcolor": "white",
             "linecolor": "white",
             "minorgridcolor": "white",
             "startlinecolor": "#2a3f5f"
            },
            "type": "carpet"
           }
          ],
          "choropleth": [
           {
            "colorbar": {
             "outlinewidth": 0,
             "ticks": ""
            },
            "type": "choropleth"
           }
          ],
          "contour": [
           {
            "colorbar": {
             "outlinewidth": 0,
             "ticks": ""
            },
            "colorscale": [
             [
              0,
              "#0d0887"
             ],
             [
              0.1111111111111111,
              "#46039f"
             ],
             [
              0.2222222222222222,
              "#7201a8"
             ],
             [
              0.3333333333333333,
              "#9c179e"
             ],
             [
              0.4444444444444444,
              "#bd3786"
             ],
             [
              0.5555555555555556,
              "#d8576b"
             ],
             [
              0.6666666666666666,
              "#ed7953"
             ],
             [
              0.7777777777777778,
              "#fb9f3a"
             ],
             [
              0.8888888888888888,
              "#fdca26"
             ],
             [
              1,
              "#f0f921"
             ]
            ],
            "type": "contour"
           }
          ],
          "contourcarpet": [
           {
            "colorbar": {
             "outlinewidth": 0,
             "ticks": ""
            },
            "type": "contourcarpet"
           }
          ],
          "heatmap": [
           {
            "colorbar": {
             "outlinewidth": 0,
             "ticks": ""
            },
            "colorscale": [
             [
              0,
              "#0d0887"
             ],
             [
              0.1111111111111111,
              "#46039f"
             ],
             [
              0.2222222222222222,
              "#7201a8"
             ],
             [
              0.3333333333333333,
              "#9c179e"
             ],
             [
              0.4444444444444444,
              "#bd3786"
             ],
             [
              0.5555555555555556,
              "#d8576b"
             ],
             [
              0.6666666666666666,
              "#ed7953"
             ],
             [
              0.7777777777777778,
              "#fb9f3a"
             ],
             [
              0.8888888888888888,
              "#fdca26"
             ],
             [
              1,
              "#f0f921"
             ]
            ],
            "type": "heatmap"
           }
          ],
          "heatmapgl": [
           {
            "colorbar": {
             "outlinewidth": 0,
             "ticks": ""
            },
            "colorscale": [
             [
              0,
              "#0d0887"
             ],
             [
              0.1111111111111111,
              "#46039f"
             ],
             [
              0.2222222222222222,
              "#7201a8"
             ],
             [
              0.3333333333333333,
              "#9c179e"
             ],
             [
              0.4444444444444444,
              "#bd3786"
             ],
             [
              0.5555555555555556,
              "#d8576b"
             ],
             [
              0.6666666666666666,
              "#ed7953"
             ],
             [
              0.7777777777777778,
              "#fb9f3a"
             ],
             [
              0.8888888888888888,
              "#fdca26"
             ],
             [
              1,
              "#f0f921"
             ]
            ],
            "type": "heatmapgl"
           }
          ],
          "histogram": [
           {
            "marker": {
             "pattern": {
              "fillmode": "overlay",
              "size": 10,
              "solidity": 0.2
             }
            },
            "type": "histogram"
           }
          ],
          "histogram2d": [
           {
            "colorbar": {
             "outlinewidth": 0,
             "ticks": ""
            },
            "colorscale": [
             [
              0,
              "#0d0887"
             ],
             [
              0.1111111111111111,
              "#46039f"
             ],
             [
              0.2222222222222222,
              "#7201a8"
             ],
             [
              0.3333333333333333,
              "#9c179e"
             ],
             [
              0.4444444444444444,
              "#bd3786"
             ],
             [
              0.5555555555555556,
              "#d8576b"
             ],
             [
              0.6666666666666666,
              "#ed7953"
             ],
             [
              0.7777777777777778,
              "#fb9f3a"
             ],
             [
              0.8888888888888888,
              "#fdca26"
             ],
             [
              1,
              "#f0f921"
             ]
            ],
            "type": "histogram2d"
           }
          ],
          "histogram2dcontour": [
           {
            "colorbar": {
             "outlinewidth": 0,
             "ticks": ""
            },
            "colorscale": [
             [
              0,
              "#0d0887"
             ],
             [
              0.1111111111111111,
              "#46039f"
             ],
             [
              0.2222222222222222,
              "#7201a8"
             ],
             [
              0.3333333333333333,
              "#9c179e"
             ],
             [
              0.4444444444444444,
              "#bd3786"
             ],
             [
              0.5555555555555556,
              "#d8576b"
             ],
             [
              0.6666666666666666,
              "#ed7953"
             ],
             [
              0.7777777777777778,
              "#fb9f3a"
             ],
             [
              0.8888888888888888,
              "#fdca26"
             ],
             [
              1,
              "#f0f921"
             ]
            ],
            "type": "histogram2dcontour"
           }
          ],
          "mesh3d": [
           {
            "colorbar": {
             "outlinewidth": 0,
             "ticks": ""
            },
            "type": "mesh3d"
           }
          ],
          "parcoords": [
           {
            "line": {
             "colorbar": {
              "outlinewidth": 0,
              "ticks": ""
             }
            },
            "type": "parcoords"
           }
          ],
          "pie": [
           {
            "automargin": true,
            "type": "pie"
           }
          ],
          "scatter": [
           {
            "fillpattern": {
             "fillmode": "overlay",
             "size": 10,
             "solidity": 0.2
            },
            "type": "scatter"
           }
          ],
          "scatter3d": [
           {
            "line": {
             "colorbar": {
              "outlinewidth": 0,
              "ticks": ""
             }
            },
            "marker": {
             "colorbar": {
              "outlinewidth": 0,
              "ticks": ""
             }
            },
            "type": "scatter3d"
           }
          ],
          "scattercarpet": [
           {
            "marker": {
             "colorbar": {
              "outlinewidth": 0,
              "ticks": ""
             }
            },
            "type": "scattercarpet"
           }
          ],
          "scattergeo": [
           {
            "marker": {
             "colorbar": {
              "outlinewidth": 0,
              "ticks": ""
             }
            },
            "type": "scattergeo"
           }
          ],
          "scattergl": [
           {
            "marker": {
             "colorbar": {
              "outlinewidth": 0,
              "ticks": ""
             }
            },
            "type": "scattergl"
           }
          ],
          "scattermapbox": [
           {
            "marker": {
             "colorbar": {
              "outlinewidth": 0,
              "ticks": ""
             }
            },
            "type": "scattermapbox"
           }
          ],
          "scatterpolar": [
           {
            "marker": {
             "colorbar": {
              "outlinewidth": 0,
              "ticks": ""
             }
            },
            "type": "scatterpolar"
           }
          ],
          "scatterpolargl": [
           {
            "marker": {
             "colorbar": {
              "outlinewidth": 0,
              "ticks": ""
             }
            },
            "type": "scatterpolargl"
           }
          ],
          "scatterternary": [
           {
            "marker": {
             "colorbar": {
              "outlinewidth": 0,
              "ticks": ""
             }
            },
            "type": "scatterternary"
           }
          ],
          "surface": [
           {
            "colorbar": {
             "outlinewidth": 0,
             "ticks": ""
            },
            "colorscale": [
             [
              0,
              "#0d0887"
             ],
             [
              0.1111111111111111,
              "#46039f"
             ],
             [
              0.2222222222222222,
              "#7201a8"
             ],
             [
              0.3333333333333333,
              "#9c179e"
             ],
             [
              0.4444444444444444,
              "#bd3786"
             ],
             [
              0.5555555555555556,
              "#d8576b"
             ],
             [
              0.6666666666666666,
              "#ed7953"
             ],
             [
              0.7777777777777778,
              "#fb9f3a"
             ],
             [
              0.8888888888888888,
              "#fdca26"
             ],
             [
              1,
              "#f0f921"
             ]
            ],
            "type": "surface"
           }
          ],
          "table": [
           {
            "cells": {
             "fill": {
              "color": "#EBF0F8"
             },
             "line": {
              "color": "white"
             }
            },
            "header": {
             "fill": {
              "color": "#C8D4E3"
             },
             "line": {
              "color": "white"
             }
            },
            "type": "table"
           }
          ]
         },
         "layout": {
          "annotationdefaults": {
           "arrowcolor": "#2a3f5f",
           "arrowhead": 0,
           "arrowwidth": 1
          },
          "autotypenumbers": "strict",
          "coloraxis": {
           "colorbar": {
            "outlinewidth": 0,
            "ticks": ""
           }
          },
          "colorscale": {
           "diverging": [
            [
             0,
             "#8e0152"
            ],
            [
             0.1,
             "#c51b7d"
            ],
            [
             0.2,
             "#de77ae"
            ],
            [
             0.3,
             "#f1b6da"
            ],
            [
             0.4,
             "#fde0ef"
            ],
            [
             0.5,
             "#f7f7f7"
            ],
            [
             0.6,
             "#e6f5d0"
            ],
            [
             0.7,
             "#b8e186"
            ],
            [
             0.8,
             "#7fbc41"
            ],
            [
             0.9,
             "#4d9221"
            ],
            [
             1,
             "#276419"
            ]
           ],
           "sequential": [
            [
             0,
             "#0d0887"
            ],
            [
             0.1111111111111111,
             "#46039f"
            ],
            [
             0.2222222222222222,
             "#7201a8"
            ],
            [
             0.3333333333333333,
             "#9c179e"
            ],
            [
             0.4444444444444444,
             "#bd3786"
            ],
            [
             0.5555555555555556,
             "#d8576b"
            ],
            [
             0.6666666666666666,
             "#ed7953"
            ],
            [
             0.7777777777777778,
             "#fb9f3a"
            ],
            [
             0.8888888888888888,
             "#fdca26"
            ],
            [
             1,
             "#f0f921"
            ]
           ],
           "sequentialminus": [
            [
             0,
             "#0d0887"
            ],
            [
             0.1111111111111111,
             "#46039f"
            ],
            [
             0.2222222222222222,
             "#7201a8"
            ],
            [
             0.3333333333333333,
             "#9c179e"
            ],
            [
             0.4444444444444444,
             "#bd3786"
            ],
            [
             0.5555555555555556,
             "#d8576b"
            ],
            [
             0.6666666666666666,
             "#ed7953"
            ],
            [
             0.7777777777777778,
             "#fb9f3a"
            ],
            [
             0.8888888888888888,
             "#fdca26"
            ],
            [
             1,
             "#f0f921"
            ]
           ]
          },
          "colorway": [
           "#636efa",
           "#EF553B",
           "#00cc96",
           "#ab63fa",
           "#FFA15A",
           "#19d3f3",
           "#FF6692",
           "#B6E880",
           "#FF97FF",
           "#FECB52"
          ],
          "font": {
           "color": "#2a3f5f"
          },
          "geo": {
           "bgcolor": "white",
           "lakecolor": "white",
           "landcolor": "#E5ECF6",
           "showlakes": true,
           "showland": true,
           "subunitcolor": "white"
          },
          "hoverlabel": {
           "align": "left"
          },
          "hovermode": "closest",
          "mapbox": {
           "style": "light"
          },
          "paper_bgcolor": "white",
          "plot_bgcolor": "#E5ECF6",
          "polar": {
           "angularaxis": {
            "gridcolor": "white",
            "linecolor": "white",
            "ticks": ""
           },
           "bgcolor": "#E5ECF6",
           "radialaxis": {
            "gridcolor": "white",
            "linecolor": "white",
            "ticks": ""
           }
          },
          "scene": {
           "xaxis": {
            "backgroundcolor": "#E5ECF6",
            "gridcolor": "white",
            "gridwidth": 2,
            "linecolor": "white",
            "showbackground": true,
            "ticks": "",
            "zerolinecolor": "white"
           },
           "yaxis": {
            "backgroundcolor": "#E5ECF6",
            "gridcolor": "white",
            "gridwidth": 2,
            "linecolor": "white",
            "showbackground": true,
            "ticks": "",
            "zerolinecolor": "white"
           },
           "zaxis": {
            "backgroundcolor": "#E5ECF6",
            "gridcolor": "white",
            "gridwidth": 2,
            "linecolor": "white",
            "showbackground": true,
            "ticks": "",
            "zerolinecolor": "white"
           }
          },
          "shapedefaults": {
           "line": {
            "color": "#2a3f5f"
           }
          },
          "ternary": {
           "aaxis": {
            "gridcolor": "white",
            "linecolor": "white",
            "ticks": ""
           },
           "baxis": {
            "gridcolor": "white",
            "linecolor": "white",
            "ticks": ""
           },
           "bgcolor": "#E5ECF6",
           "caxis": {
            "gridcolor": "white",
            "linecolor": "white",
            "ticks": ""
           }
          },
          "title": {
           "x": 0.05
          },
          "xaxis": {
           "automargin": true,
           "gridcolor": "white",
           "linecolor": "white",
           "ticks": "",
           "title": {
            "standoff": 15
           },
           "zerolinecolor": "white",
           "zerolinewidth": 2
          },
          "yaxis": {
           "automargin": true,
           "gridcolor": "white",
           "linecolor": "white",
           "ticks": "",
           "title": {
            "standoff": 15
           },
           "zerolinecolor": "white",
           "zerolinewidth": 2
          }
         }
        },
        "title": {
         "text": "Daily Social_Media Usage"
        },
        "xaxis": {
         "anchor": "y",
         "domain": [
          0,
          1
         ],
         "title": {
          "text": "Date"
         }
        },
        "yaxis": {
         "anchor": "x",
         "domain": [
          0,
          1
         ],
         "title": {
          "text": "Active Hours"
         }
        }
       }
      }
     },
     "metadata": {},
     "output_type": "display_data"
    }
   ],
   "source": [
    "\n",
    "\n",
    "def calculate_daily_active_time(df, category_filter='social_media', max_daily_hours=24):\n",
    "    \"\"\"\n",
    "    Calculate daily active time with perfect 24-hour compliance\n",
    "    using session-based time allocation\n",
    "    \"\"\"\n",
    "    # Filter data\n",
    "    filtered_df = df[df['category'] == category_filter].copy()\n",
    "    if filtered_df.empty:\n",
    "        print(f\"No data found for category: {category_filter}\")\n",
    "        return None\n",
    "\n",
    "    # Sort by timestamp\n",
    "    filtered_df = filtered_df.sort_values('eventtimeutc')\n",
    "    \n",
    "    # Create sessions (5-minute gap threshold)\n",
    "    filtered_df['time_diff'] = filtered_df['eventtimeutc'].diff().fillna(pd.Timedelta(0))\n",
    "    session_gap = pd.Timedelta(minutes=5)\n",
    "    filtered_df['session_id'] = (filtered_df['time_diff'] > session_gap).cumsum()\n",
    "\n",
    "    # Get session time ranges\n",
    "    sessions = filtered_df.groupby('session_id')['eventtimeutc'].agg(['min', 'max'])\n",
    "    sessions.columns = ['start_time', 'end_time']\n",
    "    sessions['duration'] = sessions['end_time'] - sessions['start_time']\n",
    "\n",
    "    # Calculate daily active time\n",
    "    daily_usage = {}\n",
    "    for _, session in sessions.iterrows():\n",
    "        current_date = session['start_time'].date()\n",
    "        end_date = session['end_time'].date()\n",
    "        \n",
    "        while current_date <= end_date:\n",
    "            # Get date boundaries in UTC\n",
    "            day_start = pd.Timestamp(current_date).tz_localize('UTC')\n",
    "            day_end = day_start + timedelta(days=1)\n",
    "            \n",
    "            # Calculate overlap between session and day\n",
    "            overlap_start = max(session['start_time'], day_start)\n",
    "            overlap_end = min(session['end_time'], day_end)\n",
    "            active_time = max(pd.Timedelta(0), overlap_end - overlap_start)\n",
    "            \n",
    "            # Add to daily total\n",
    "            hours = active_time.total_seconds() / 3600\n",
    "            daily_usage[current_date] = daily_usage.get(current_date, 0) + hours\n",
    "            current_date += timedelta(days=1)\n",
    "\n",
    "    # Cap at max daily hours and create DataFrame\n",
    "    daily_df = pd.DataFrame({\n",
    "        'date': [pd.Timestamp(d) for d in daily_usage.keys()],\n",
    "        'active_hours': [min(h, max_daily_hours) for h in daily_usage.values()]\n",
    "    }).sort_values('date')\n",
    "\n",
    "    # Add weekday information\n",
    "    daily_df['weekday'] = daily_df['date'].dt.strftime('%a')\n",
    "    weekday_order = ['Sun', 'Mon', 'Tue', 'Wed', 'Thu', 'Fri', 'Sat']\n",
    "    daily_df['weekday'] = pd.Categorical(daily_df['weekday'], categories=weekday_order, ordered=True)\n",
    "\n",
    "    return daily_df\n",
    "\n",
    "def analyze_and_visualize(df, category='social_media'):\n",
    "    # Calculate daily active time\n",
    "    daily_usage = calculate_daily_active_time(df, category)\n",
    "    \n",
    "    if daily_usage is None:\n",
    "        return\n",
    "    \n",
    "    # Create visualizations\n",
    "    fig = px.line(daily_usage, \n",
    "                 x='date', y='active_hours',\n",
    "                 title=f'Daily {category.title()} Usage',\n",
    "                 labels={'active_hours': 'Active Hours', 'date': 'Date'})\n",
    "    \n",
    "\n",
    "    \n",
    "    fig.show()\n",
    "    \n",
    "\n",
    "\n",
    "# Run analysis\n",
    "analyze_and_visualize(df, 'social_media')"
   ]
  },
  {
   "cell_type": "code",
   "execution_count": 74,
   "id": "ab1bf325",
   "metadata": {},
   "outputs": [
    {
     "name": "stdout",
     "output_type": "stream",
     "text": [
      "Total socia media visits: 183\n",
      "Unique socia media domains: 8\n",
      "Time range: 2025-01-22 01:58:54.073000+00:00 to 2025-02-19 22:21:54.126000+00:00\n"
     ]
    },
    {
     "data": {
      "application/vnd.plotly.v1+json": {
       "config": {
        "plotlyServerURL": "https://plot.ly"
       },
       "data": [
        {
         "alignmentgroup": "True",
         "hovertemplate": "Hour of Day (UTC)=%{x}<br>Visits=%{y}<extra></extra>",
         "legendgroup": "",
         "marker": {
          "color": "#636efa",
          "pattern": {
           "shape": ""
          }
         },
         "name": "",
         "offsetgroup": "",
         "orientation": "v",
         "showlegend": false,
         "textposition": "auto",
         "type": "bar",
         "x": [
          1,
          2,
          3,
          4,
          5,
          7,
          9,
          11,
          12,
          13,
          14,
          15,
          18,
          19,
          21,
          22
         ],
         "xaxis": "x",
         "y": [
          7,
          3,
          1,
          18,
          3,
          3,
          2,
          12,
          13,
          22,
          11,
          27,
          17,
          10,
          7,
          27
         ],
         "yaxis": "y"
        }
       ],
       "layout": {
        "barmode": "relative",
        "legend": {
         "tracegroupgap": 0
        },
        "template": {
         "data": {
          "bar": [
           {
            "error_x": {
             "color": "#2a3f5f"
            },
            "error_y": {
             "color": "#2a3f5f"
            },
            "marker": {
             "line": {
              "color": "#E5ECF6",
              "width": 0.5
             },
             "pattern": {
              "fillmode": "overlay",
              "size": 10,
              "solidity": 0.2
             }
            },
            "type": "bar"
           }
          ],
          "barpolar": [
           {
            "marker": {
             "line": {
              "color": "#E5ECF6",
              "width": 0.5
             },
             "pattern": {
              "fillmode": "overlay",
              "size": 10,
              "solidity": 0.2
             }
            },
            "type": "barpolar"
           }
          ],
          "carpet": [
           {
            "aaxis": {
             "endlinecolor": "#2a3f5f",
             "gridcolor": "white",
             "linecolor": "white",
             "minorgridcolor": "white",
             "startlinecolor": "#2a3f5f"
            },
            "baxis": {
             "endlinecolor": "#2a3f5f",
             "gridcolor": "white",
             "linecolor": "white",
             "minorgridcolor": "white",
             "startlinecolor": "#2a3f5f"
            },
            "type": "carpet"
           }
          ],
          "choropleth": [
           {
            "colorbar": {
             "outlinewidth": 0,
             "ticks": ""
            },
            "type": "choropleth"
           }
          ],
          "contour": [
           {
            "colorbar": {
             "outlinewidth": 0,
             "ticks": ""
            },
            "colorscale": [
             [
              0,
              "#0d0887"
             ],
             [
              0.1111111111111111,
              "#46039f"
             ],
             [
              0.2222222222222222,
              "#7201a8"
             ],
             [
              0.3333333333333333,
              "#9c179e"
             ],
             [
              0.4444444444444444,
              "#bd3786"
             ],
             [
              0.5555555555555556,
              "#d8576b"
             ],
             [
              0.6666666666666666,
              "#ed7953"
             ],
             [
              0.7777777777777778,
              "#fb9f3a"
             ],
             [
              0.8888888888888888,
              "#fdca26"
             ],
             [
              1,
              "#f0f921"
             ]
            ],
            "type": "contour"
           }
          ],
          "contourcarpet": [
           {
            "colorbar": {
             "outlinewidth": 0,
             "ticks": ""
            },
            "type": "contourcarpet"
           }
          ],
          "heatmap": [
           {
            "colorbar": {
             "outlinewidth": 0,
             "ticks": ""
            },
            "colorscale": [
             [
              0,
              "#0d0887"
             ],
             [
              0.1111111111111111,
              "#46039f"
             ],
             [
              0.2222222222222222,
              "#7201a8"
             ],
             [
              0.3333333333333333,
              "#9c179e"
             ],
             [
              0.4444444444444444,
              "#bd3786"
             ],
             [
              0.5555555555555556,
              "#d8576b"
             ],
             [
              0.6666666666666666,
              "#ed7953"
             ],
             [
              0.7777777777777778,
              "#fb9f3a"
             ],
             [
              0.8888888888888888,
              "#fdca26"
             ],
             [
              1,
              "#f0f921"
             ]
            ],
            "type": "heatmap"
           }
          ],
          "heatmapgl": [
           {
            "colorbar": {
             "outlinewidth": 0,
             "ticks": ""
            },
            "colorscale": [
             [
              0,
              "#0d0887"
             ],
             [
              0.1111111111111111,
              "#46039f"
             ],
             [
              0.2222222222222222,
              "#7201a8"
             ],
             [
              0.3333333333333333,
              "#9c179e"
             ],
             [
              0.4444444444444444,
              "#bd3786"
             ],
             [
              0.5555555555555556,
              "#d8576b"
             ],
             [
              0.6666666666666666,
              "#ed7953"
             ],
             [
              0.7777777777777778,
              "#fb9f3a"
             ],
             [
              0.8888888888888888,
              "#fdca26"
             ],
             [
              1,
              "#f0f921"
             ]
            ],
            "type": "heatmapgl"
           }
          ],
          "histogram": [
           {
            "marker": {
             "pattern": {
              "fillmode": "overlay",
              "size": 10,
              "solidity": 0.2
             }
            },
            "type": "histogram"
           }
          ],
          "histogram2d": [
           {
            "colorbar": {
             "outlinewidth": 0,
             "ticks": ""
            },
            "colorscale": [
             [
              0,
              "#0d0887"
             ],
             [
              0.1111111111111111,
              "#46039f"
             ],
             [
              0.2222222222222222,
              "#7201a8"
             ],
             [
              0.3333333333333333,
              "#9c179e"
             ],
             [
              0.4444444444444444,
              "#bd3786"
             ],
             [
              0.5555555555555556,
              "#d8576b"
             ],
             [
              0.6666666666666666,
              "#ed7953"
             ],
             [
              0.7777777777777778,
              "#fb9f3a"
             ],
             [
              0.8888888888888888,
              "#fdca26"
             ],
             [
              1,
              "#f0f921"
             ]
            ],
            "type": "histogram2d"
           }
          ],
          "histogram2dcontour": [
           {
            "colorbar": {
             "outlinewidth": 0,
             "ticks": ""
            },
            "colorscale": [
             [
              0,
              "#0d0887"
             ],
             [
              0.1111111111111111,
              "#46039f"
             ],
             [
              0.2222222222222222,
              "#7201a8"
             ],
             [
              0.3333333333333333,
              "#9c179e"
             ],
             [
              0.4444444444444444,
              "#bd3786"
             ],
             [
              0.5555555555555556,
              "#d8576b"
             ],
             [
              0.6666666666666666,
              "#ed7953"
             ],
             [
              0.7777777777777778,
              "#fb9f3a"
             ],
             [
              0.8888888888888888,
              "#fdca26"
             ],
             [
              1,
              "#f0f921"
             ]
            ],
            "type": "histogram2dcontour"
           }
          ],
          "mesh3d": [
           {
            "colorbar": {
             "outlinewidth": 0,
             "ticks": ""
            },
            "type": "mesh3d"
           }
          ],
          "parcoords": [
           {
            "line": {
             "colorbar": {
              "outlinewidth": 0,
              "ticks": ""
             }
            },
            "type": "parcoords"
           }
          ],
          "pie": [
           {
            "automargin": true,
            "type": "pie"
           }
          ],
          "scatter": [
           {
            "fillpattern": {
             "fillmode": "overlay",
             "size": 10,
             "solidity": 0.2
            },
            "type": "scatter"
           }
          ],
          "scatter3d": [
           {
            "line": {
             "colorbar": {
              "outlinewidth": 0,
              "ticks": ""
             }
            },
            "marker": {
             "colorbar": {
              "outlinewidth": 0,
              "ticks": ""
             }
            },
            "type": "scatter3d"
           }
          ],
          "scattercarpet": [
           {
            "marker": {
             "colorbar": {
              "outlinewidth": 0,
              "ticks": ""
             }
            },
            "type": "scattercarpet"
           }
          ],
          "scattergeo": [
           {
            "marker": {
             "colorbar": {
              "outlinewidth": 0,
              "ticks": ""
             }
            },
            "type": "scattergeo"
           }
          ],
          "scattergl": [
           {
            "marker": {
             "colorbar": {
              "outlinewidth": 0,
              "ticks": ""
             }
            },
            "type": "scattergl"
           }
          ],
          "scattermapbox": [
           {
            "marker": {
             "colorbar": {
              "outlinewidth": 0,
              "ticks": ""
             }
            },
            "type": "scattermapbox"
           }
          ],
          "scatterpolar": [
           {
            "marker": {
             "colorbar": {
              "outlinewidth": 0,
              "ticks": ""
             }
            },
            "type": "scatterpolar"
           }
          ],
          "scatterpolargl": [
           {
            "marker": {
             "colorbar": {
              "outlinewidth": 0,
              "ticks": ""
             }
            },
            "type": "scatterpolargl"
           }
          ],
          "scatterternary": [
           {
            "marker": {
             "colorbar": {
              "outlinewidth": 0,
              "ticks": ""
             }
            },
            "type": "scatterternary"
           }
          ],
          "surface": [
           {
            "colorbar": {
             "outlinewidth": 0,
             "ticks": ""
            },
            "colorscale": [
             [
              0,
              "#0d0887"
             ],
             [
              0.1111111111111111,
              "#46039f"
             ],
             [
              0.2222222222222222,
              "#7201a8"
             ],
             [
              0.3333333333333333,
              "#9c179e"
             ],
             [
              0.4444444444444444,
              "#bd3786"
             ],
             [
              0.5555555555555556,
              "#d8576b"
             ],
             [
              0.6666666666666666,
              "#ed7953"
             ],
             [
              0.7777777777777778,
              "#fb9f3a"
             ],
             [
              0.8888888888888888,
              "#fdca26"
             ],
             [
              1,
              "#f0f921"
             ]
            ],
            "type": "surface"
           }
          ],
          "table": [
           {
            "cells": {
             "fill": {
              "color": "#EBF0F8"
             },
             "line": {
              "color": "white"
             }
            },
            "header": {
             "fill": {
              "color": "#C8D4E3"
             },
             "line": {
              "color": "white"
             }
            },
            "type": "table"
           }
          ]
         },
         "layout": {
          "annotationdefaults": {
           "arrowcolor": "#2a3f5f",
           "arrowhead": 0,
           "arrowwidth": 1
          },
          "autotypenumbers": "strict",
          "coloraxis": {
           "colorbar": {
            "outlinewidth": 0,
            "ticks": ""
           }
          },
          "colorscale": {
           "diverging": [
            [
             0,
             "#8e0152"
            ],
            [
             0.1,
             "#c51b7d"
            ],
            [
             0.2,
             "#de77ae"
            ],
            [
             0.3,
             "#f1b6da"
            ],
            [
             0.4,
             "#fde0ef"
            ],
            [
             0.5,
             "#f7f7f7"
            ],
            [
             0.6,
             "#e6f5d0"
            ],
            [
             0.7,
             "#b8e186"
            ],
            [
             0.8,
             "#7fbc41"
            ],
            [
             0.9,
             "#4d9221"
            ],
            [
             1,
             "#276419"
            ]
           ],
           "sequential": [
            [
             0,
             "#0d0887"
            ],
            [
             0.1111111111111111,
             "#46039f"
            ],
            [
             0.2222222222222222,
             "#7201a8"
            ],
            [
             0.3333333333333333,
             "#9c179e"
            ],
            [
             0.4444444444444444,
             "#bd3786"
            ],
            [
             0.5555555555555556,
             "#d8576b"
            ],
            [
             0.6666666666666666,
             "#ed7953"
            ],
            [
             0.7777777777777778,
             "#fb9f3a"
            ],
            [
             0.8888888888888888,
             "#fdca26"
            ],
            [
             1,
             "#f0f921"
            ]
           ],
           "sequentialminus": [
            [
             0,
             "#0d0887"
            ],
            [
             0.1111111111111111,
             "#46039f"
            ],
            [
             0.2222222222222222,
             "#7201a8"
            ],
            [
             0.3333333333333333,
             "#9c179e"
            ],
            [
             0.4444444444444444,
             "#bd3786"
            ],
            [
             0.5555555555555556,
             "#d8576b"
            ],
            [
             0.6666666666666666,
             "#ed7953"
            ],
            [
             0.7777777777777778,
             "#fb9f3a"
            ],
            [
             0.8888888888888888,
             "#fdca26"
            ],
            [
             1,
             "#f0f921"
            ]
           ]
          },
          "colorway": [
           "#636efa",
           "#EF553B",
           "#00cc96",
           "#ab63fa",
           "#FFA15A",
           "#19d3f3",
           "#FF6692",
           "#B6E880",
           "#FF97FF",
           "#FECB52"
          ],
          "font": {
           "color": "#2a3f5f"
          },
          "geo": {
           "bgcolor": "white",
           "lakecolor": "white",
           "landcolor": "#E5ECF6",
           "showlakes": true,
           "showland": true,
           "subunitcolor": "white"
          },
          "hoverlabel": {
           "align": "left"
          },
          "hovermode": "closest",
          "mapbox": {
           "style": "light"
          },
          "paper_bgcolor": "white",
          "plot_bgcolor": "#E5ECF6",
          "polar": {
           "angularaxis": {
            "gridcolor": "white",
            "linecolor": "white",
            "ticks": ""
           },
           "bgcolor": "#E5ECF6",
           "radialaxis": {
            "gridcolor": "white",
            "linecolor": "white",
            "ticks": ""
           }
          },
          "scene": {
           "xaxis": {
            "backgroundcolor": "#E5ECF6",
            "gridcolor": "white",
            "gridwidth": 2,
            "linecolor": "white",
            "showbackground": true,
            "ticks": "",
            "zerolinecolor": "white"
           },
           "yaxis": {
            "backgroundcolor": "#E5ECF6",
            "gridcolor": "white",
            "gridwidth": 2,
            "linecolor": "white",
            "showbackground": true,
            "ticks": "",
            "zerolinecolor": "white"
           },
           "zaxis": {
            "backgroundcolor": "#E5ECF6",
            "gridcolor": "white",
            "gridwidth": 2,
            "linecolor": "white",
            "showbackground": true,
            "ticks": "",
            "zerolinecolor": "white"
           }
          },
          "shapedefaults": {
           "line": {
            "color": "#2a3f5f"
           }
          },
          "ternary": {
           "aaxis": {
            "gridcolor": "white",
            "linecolor": "white",
            "ticks": ""
           },
           "baxis": {
            "gridcolor": "white",
            "linecolor": "white",
            "ticks": ""
           },
           "bgcolor": "#E5ECF6",
           "caxis": {
            "gridcolor": "white",
            "linecolor": "white",
            "ticks": ""
           }
          },
          "title": {
           "x": 0.05
          },
          "xaxis": {
           "automargin": true,
           "gridcolor": "white",
           "linecolor": "white",
           "ticks": "",
           "title": {
            "standoff": 15
           },
           "zerolinecolor": "white",
           "zerolinewidth": 2
          },
          "yaxis": {
           "automargin": true,
           "gridcolor": "white",
           "linecolor": "white",
           "ticks": "",
           "title": {
            "standoff": 15
           },
           "zerolinecolor": "white",
           "zerolinewidth": 2
          }
         }
        },
        "title": {
         "text": "socia media Activity by Hour"
        },
        "xaxis": {
         "anchor": "y",
         "domain": [
          0,
          1
         ],
         "dtick": 1,
         "tickmode": "linear",
         "title": {
          "text": "Hour of Day (UTC)"
         }
        },
        "yaxis": {
         "anchor": "x",
         "domain": [
          0,
          1
         ],
         "title": {
          "text": "Visits"
         }
        }
       }
      }
     },
     "metadata": {},
     "output_type": "display_data"
    },
    {
     "data": {
      "application/vnd.plotly.v1+json": {
       "config": {
        "plotlyServerURL": "https://plot.ly"
       },
       "data": [
        {
         "alignmentgroup": "True",
         "hovertemplate": "Day=%{x}<br>Visits=%{y}<extra></extra>",
         "legendgroup": "",
         "marker": {
          "color": "#636efa",
          "pattern": {
           "shape": ""
          }
         },
         "name": "",
         "offsetgroup": "",
         "orientation": "v",
         "showlegend": false,
         "textposition": "auto",
         "type": "bar",
         "x": [
          "Monday",
          "Tuesday",
          "Wednesday",
          "Thursday",
          "Friday",
          "Saturday",
          "Sunday"
         ],
         "xaxis": "x",
         "y": [
          18,
          43,
          74,
          17,
          26,
          4,
          1
         ],
         "yaxis": "y"
        }
       ],
       "layout": {
        "barmode": "relative",
        "legend": {
         "tracegroupgap": 0
        },
        "template": {
         "data": {
          "bar": [
           {
            "error_x": {
             "color": "#2a3f5f"
            },
            "error_y": {
             "color": "#2a3f5f"
            },
            "marker": {
             "line": {
              "color": "#E5ECF6",
              "width": 0.5
             },
             "pattern": {
              "fillmode": "overlay",
              "size": 10,
              "solidity": 0.2
             }
            },
            "type": "bar"
           }
          ],
          "barpolar": [
           {
            "marker": {
             "line": {
              "color": "#E5ECF6",
              "width": 0.5
             },
             "pattern": {
              "fillmode": "overlay",
              "size": 10,
              "solidity": 0.2
             }
            },
            "type": "barpolar"
           }
          ],
          "carpet": [
           {
            "aaxis": {
             "endlinecolor": "#2a3f5f",
             "gridcolor": "white",
             "linecolor": "white",
             "minorgridcolor": "white",
             "startlinecolor": "#2a3f5f"
            },
            "baxis": {
             "endlinecolor": "#2a3f5f",
             "gridcolor": "white",
             "linecolor": "white",
             "minorgridcolor": "white",
             "startlinecolor": "#2a3f5f"
            },
            "type": "carpet"
           }
          ],
          "choropleth": [
           {
            "colorbar": {
             "outlinewidth": 0,
             "ticks": ""
            },
            "type": "choropleth"
           }
          ],
          "contour": [
           {
            "colorbar": {
             "outlinewidth": 0,
             "ticks": ""
            },
            "colorscale": [
             [
              0,
              "#0d0887"
             ],
             [
              0.1111111111111111,
              "#46039f"
             ],
             [
              0.2222222222222222,
              "#7201a8"
             ],
             [
              0.3333333333333333,
              "#9c179e"
             ],
             [
              0.4444444444444444,
              "#bd3786"
             ],
             [
              0.5555555555555556,
              "#d8576b"
             ],
             [
              0.6666666666666666,
              "#ed7953"
             ],
             [
              0.7777777777777778,
              "#fb9f3a"
             ],
             [
              0.8888888888888888,
              "#fdca26"
             ],
             [
              1,
              "#f0f921"
             ]
            ],
            "type": "contour"
           }
          ],
          "contourcarpet": [
           {
            "colorbar": {
             "outlinewidth": 0,
             "ticks": ""
            },
            "type": "contourcarpet"
           }
          ],
          "heatmap": [
           {
            "colorbar": {
             "outlinewidth": 0,
             "ticks": ""
            },
            "colorscale": [
             [
              0,
              "#0d0887"
             ],
             [
              0.1111111111111111,
              "#46039f"
             ],
             [
              0.2222222222222222,
              "#7201a8"
             ],
             [
              0.3333333333333333,
              "#9c179e"
             ],
             [
              0.4444444444444444,
              "#bd3786"
             ],
             [
              0.5555555555555556,
              "#d8576b"
             ],
             [
              0.6666666666666666,
              "#ed7953"
             ],
             [
              0.7777777777777778,
              "#fb9f3a"
             ],
             [
              0.8888888888888888,
              "#fdca26"
             ],
             [
              1,
              "#f0f921"
             ]
            ],
            "type": "heatmap"
           }
          ],
          "heatmapgl": [
           {
            "colorbar": {
             "outlinewidth": 0,
             "ticks": ""
            },
            "colorscale": [
             [
              0,
              "#0d0887"
             ],
             [
              0.1111111111111111,
              "#46039f"
             ],
             [
              0.2222222222222222,
              "#7201a8"
             ],
             [
              0.3333333333333333,
              "#9c179e"
             ],
             [
              0.4444444444444444,
              "#bd3786"
             ],
             [
              0.5555555555555556,
              "#d8576b"
             ],
             [
              0.6666666666666666,
              "#ed7953"
             ],
             [
              0.7777777777777778,
              "#fb9f3a"
             ],
             [
              0.8888888888888888,
              "#fdca26"
             ],
             [
              1,
              "#f0f921"
             ]
            ],
            "type": "heatmapgl"
           }
          ],
          "histogram": [
           {
            "marker": {
             "pattern": {
              "fillmode": "overlay",
              "size": 10,
              "solidity": 0.2
             }
            },
            "type": "histogram"
           }
          ],
          "histogram2d": [
           {
            "colorbar": {
             "outlinewidth": 0,
             "ticks": ""
            },
            "colorscale": [
             [
              0,
              "#0d0887"
             ],
             [
              0.1111111111111111,
              "#46039f"
             ],
             [
              0.2222222222222222,
              "#7201a8"
             ],
             [
              0.3333333333333333,
              "#9c179e"
             ],
             [
              0.4444444444444444,
              "#bd3786"
             ],
             [
              0.5555555555555556,
              "#d8576b"
             ],
             [
              0.6666666666666666,
              "#ed7953"
             ],
             [
              0.7777777777777778,
              "#fb9f3a"
             ],
             [
              0.8888888888888888,
              "#fdca26"
             ],
             [
              1,
              "#f0f921"
             ]
            ],
            "type": "histogram2d"
           }
          ],
          "histogram2dcontour": [
           {
            "colorbar": {
             "outlinewidth": 0,
             "ticks": ""
            },
            "colorscale": [
             [
              0,
              "#0d0887"
             ],
             [
              0.1111111111111111,
              "#46039f"
             ],
             [
              0.2222222222222222,
              "#7201a8"
             ],
             [
              0.3333333333333333,
              "#9c179e"
             ],
             [
              0.4444444444444444,
              "#bd3786"
             ],
             [
              0.5555555555555556,
              "#d8576b"
             ],
             [
              0.6666666666666666,
              "#ed7953"
             ],
             [
              0.7777777777777778,
              "#fb9f3a"
             ],
             [
              0.8888888888888888,
              "#fdca26"
             ],
             [
              1,
              "#f0f921"
             ]
            ],
            "type": "histogram2dcontour"
           }
          ],
          "mesh3d": [
           {
            "colorbar": {
             "outlinewidth": 0,
             "ticks": ""
            },
            "type": "mesh3d"
           }
          ],
          "parcoords": [
           {
            "line": {
             "colorbar": {
              "outlinewidth": 0,
              "ticks": ""
             }
            },
            "type": "parcoords"
           }
          ],
          "pie": [
           {
            "automargin": true,
            "type": "pie"
           }
          ],
          "scatter": [
           {
            "fillpattern": {
             "fillmode": "overlay",
             "size": 10,
             "solidity": 0.2
            },
            "type": "scatter"
           }
          ],
          "scatter3d": [
           {
            "line": {
             "colorbar": {
              "outlinewidth": 0,
              "ticks": ""
             }
            },
            "marker": {
             "colorbar": {
              "outlinewidth": 0,
              "ticks": ""
             }
            },
            "type": "scatter3d"
           }
          ],
          "scattercarpet": [
           {
            "marker": {
             "colorbar": {
              "outlinewidth": 0,
              "ticks": ""
             }
            },
            "type": "scattercarpet"
           }
          ],
          "scattergeo": [
           {
            "marker": {
             "colorbar": {
              "outlinewidth": 0,
              "ticks": ""
             }
            },
            "type": "scattergeo"
           }
          ],
          "scattergl": [
           {
            "marker": {
             "colorbar": {
              "outlinewidth": 0,
              "ticks": ""
             }
            },
            "type": "scattergl"
           }
          ],
          "scattermapbox": [
           {
            "marker": {
             "colorbar": {
              "outlinewidth": 0,
              "ticks": ""
             }
            },
            "type": "scattermapbox"
           }
          ],
          "scatterpolar": [
           {
            "marker": {
             "colorbar": {
              "outlinewidth": 0,
              "ticks": ""
             }
            },
            "type": "scatterpolar"
           }
          ],
          "scatterpolargl": [
           {
            "marker": {
             "colorbar": {
              "outlinewidth": 0,
              "ticks": ""
             }
            },
            "type": "scatterpolargl"
           }
          ],
          "scatterternary": [
           {
            "marker": {
             "colorbar": {
              "outlinewidth": 0,
              "ticks": ""
             }
            },
            "type": "scatterternary"
           }
          ],
          "surface": [
           {
            "colorbar": {
             "outlinewidth": 0,
             "ticks": ""
            },
            "colorscale": [
             [
              0,
              "#0d0887"
             ],
             [
              0.1111111111111111,
              "#46039f"
             ],
             [
              0.2222222222222222,
              "#7201a8"
             ],
             [
              0.3333333333333333,
              "#9c179e"
             ],
             [
              0.4444444444444444,
              "#bd3786"
             ],
             [
              0.5555555555555556,
              "#d8576b"
             ],
             [
              0.6666666666666666,
              "#ed7953"
             ],
             [
              0.7777777777777778,
              "#fb9f3a"
             ],
             [
              0.8888888888888888,
              "#fdca26"
             ],
             [
              1,
              "#f0f921"
             ]
            ],
            "type": "surface"
           }
          ],
          "table": [
           {
            "cells": {
             "fill": {
              "color": "#EBF0F8"
             },
             "line": {
              "color": "white"
             }
            },
            "header": {
             "fill": {
              "color": "#C8D4E3"
             },
             "line": {
              "color": "white"
             }
            },
            "type": "table"
           }
          ]
         },
         "layout": {
          "annotationdefaults": {
           "arrowcolor": "#2a3f5f",
           "arrowhead": 0,
           "arrowwidth": 1
          },
          "autotypenumbers": "strict",
          "coloraxis": {
           "colorbar": {
            "outlinewidth": 0,
            "ticks": ""
           }
          },
          "colorscale": {
           "diverging": [
            [
             0,
             "#8e0152"
            ],
            [
             0.1,
             "#c51b7d"
            ],
            [
             0.2,
             "#de77ae"
            ],
            [
             0.3,
             "#f1b6da"
            ],
            [
             0.4,
             "#fde0ef"
            ],
            [
             0.5,
             "#f7f7f7"
            ],
            [
             0.6,
             "#e6f5d0"
            ],
            [
             0.7,
             "#b8e186"
            ],
            [
             0.8,
             "#7fbc41"
            ],
            [
             0.9,
             "#4d9221"
            ],
            [
             1,
             "#276419"
            ]
           ],
           "sequential": [
            [
             0,
             "#0d0887"
            ],
            [
             0.1111111111111111,
             "#46039f"
            ],
            [
             0.2222222222222222,
             "#7201a8"
            ],
            [
             0.3333333333333333,
             "#9c179e"
            ],
            [
             0.4444444444444444,
             "#bd3786"
            ],
            [
             0.5555555555555556,
             "#d8576b"
            ],
            [
             0.6666666666666666,
             "#ed7953"
            ],
            [
             0.7777777777777778,
             "#fb9f3a"
            ],
            [
             0.8888888888888888,
             "#fdca26"
            ],
            [
             1,
             "#f0f921"
            ]
           ],
           "sequentialminus": [
            [
             0,
             "#0d0887"
            ],
            [
             0.1111111111111111,
             "#46039f"
            ],
            [
             0.2222222222222222,
             "#7201a8"
            ],
            [
             0.3333333333333333,
             "#9c179e"
            ],
            [
             0.4444444444444444,
             "#bd3786"
            ],
            [
             0.5555555555555556,
             "#d8576b"
            ],
            [
             0.6666666666666666,
             "#ed7953"
            ],
            [
             0.7777777777777778,
             "#fb9f3a"
            ],
            [
             0.8888888888888888,
             "#fdca26"
            ],
            [
             1,
             "#f0f921"
            ]
           ]
          },
          "colorway": [
           "#636efa",
           "#EF553B",
           "#00cc96",
           "#ab63fa",
           "#FFA15A",
           "#19d3f3",
           "#FF6692",
           "#B6E880",
           "#FF97FF",
           "#FECB52"
          ],
          "font": {
           "color": "#2a3f5f"
          },
          "geo": {
           "bgcolor": "white",
           "lakecolor": "white",
           "landcolor": "#E5ECF6",
           "showlakes": true,
           "showland": true,
           "subunitcolor": "white"
          },
          "hoverlabel": {
           "align": "left"
          },
          "hovermode": "closest",
          "mapbox": {
           "style": "light"
          },
          "paper_bgcolor": "white",
          "plot_bgcolor": "#E5ECF6",
          "polar": {
           "angularaxis": {
            "gridcolor": "white",
            "linecolor": "white",
            "ticks": ""
           },
           "bgcolor": "#E5ECF6",
           "radialaxis": {
            "gridcolor": "white",
            "linecolor": "white",
            "ticks": ""
           }
          },
          "scene": {
           "xaxis": {
            "backgroundcolor": "#E5ECF6",
            "gridcolor": "white",
            "gridwidth": 2,
            "linecolor": "white",
            "showbackground": true,
            "ticks": "",
            "zerolinecolor": "white"
           },
           "yaxis": {
            "backgroundcolor": "#E5ECF6",
            "gridcolor": "white",
            "gridwidth": 2,
            "linecolor": "white",
            "showbackground": true,
            "ticks": "",
            "zerolinecolor": "white"
           },
           "zaxis": {
            "backgroundcolor": "#E5ECF6",
            "gridcolor": "white",
            "gridwidth": 2,
            "linecolor": "white",
            "showbackground": true,
            "ticks": "",
            "zerolinecolor": "white"
           }
          },
          "shapedefaults": {
           "line": {
            "color": "#2a3f5f"
           }
          },
          "ternary": {
           "aaxis": {
            "gridcolor": "white",
            "linecolor": "white",
            "ticks": ""
           },
           "baxis": {
            "gridcolor": "white",
            "linecolor": "white",
            "ticks": ""
           },
           "bgcolor": "#E5ECF6",
           "caxis": {
            "gridcolor": "white",
            "linecolor": "white",
            "ticks": ""
           }
          },
          "title": {
           "x": 0.05
          },
          "xaxis": {
           "automargin": true,
           "gridcolor": "white",
           "linecolor": "white",
           "ticks": "",
           "title": {
            "standoff": 15
           },
           "zerolinecolor": "white",
           "zerolinewidth": 2
          },
          "yaxis": {
           "automargin": true,
           "gridcolor": "white",
           "linecolor": "white",
           "ticks": "",
           "title": {
            "standoff": 15
           },
           "zerolinecolor": "white",
           "zerolinewidth": 2
          }
         }
        },
        "title": {
         "text": "socia media Activity by Day of Week"
        },
        "xaxis": {
         "anchor": "y",
         "domain": [
          0,
          1
         ],
         "title": {
          "text": "Day"
         }
        },
        "yaxis": {
         "anchor": "x",
         "domain": [
          0,
          1
         ],
         "title": {
          "text": "Visits"
         }
        }
       }
      }
     },
     "metadata": {},
     "output_type": "display_data"
    },
    {
     "data": {
      "application/vnd.plotly.v1+json": {
       "config": {
        "plotlyServerURL": "https://plot.ly"
       },
       "data": [
        {
         "alignmentgroup": "True",
         "hovertemplate": "base_url=%{x}<br>Visits=%{y}<extra></extra>",
         "legendgroup": "",
         "marker": {
          "color": "#636efa",
          "pattern": {
           "shape": ""
          }
         },
         "name": "",
         "offsetgroup": "",
         "orientation": "v",
         "showlegend": false,
         "textposition": "auto",
         "type": "bar",
         "x": [
          "www.facebook.com",
          "www.instagram.com",
          "www.linkedin.com",
          "www.evite.com",
          "x.com",
          "buffer.com",
          "www.pinterest.com",
          "tik-tok.en.uptodown.com"
         ],
         "xaxis": "x",
         "y": [
          104,
          30,
          22,
          12,
          10,
          2,
          2,
          1
         ],
         "yaxis": "y"
        }
       ],
       "layout": {
        "barmode": "relative",
        "legend": {
         "tracegroupgap": 0
        },
        "template": {
         "data": {
          "bar": [
           {
            "error_x": {
             "color": "#2a3f5f"
            },
            "error_y": {
             "color": "#2a3f5f"
            },
            "marker": {
             "line": {
              "color": "#E5ECF6",
              "width": 0.5
             },
             "pattern": {
              "fillmode": "overlay",
              "size": 10,
              "solidity": 0.2
             }
            },
            "type": "bar"
           }
          ],
          "barpolar": [
           {
            "marker": {
             "line": {
              "color": "#E5ECF6",
              "width": 0.5
             },
             "pattern": {
              "fillmode": "overlay",
              "size": 10,
              "solidity": 0.2
             }
            },
            "type": "barpolar"
           }
          ],
          "carpet": [
           {
            "aaxis": {
             "endlinecolor": "#2a3f5f",
             "gridcolor": "white",
             "linecolor": "white",
             "minorgridcolor": "white",
             "startlinecolor": "#2a3f5f"
            },
            "baxis": {
             "endlinecolor": "#2a3f5f",
             "gridcolor": "white",
             "linecolor": "white",
             "minorgridcolor": "white",
             "startlinecolor": "#2a3f5f"
            },
            "type": "carpet"
           }
          ],
          "choropleth": [
           {
            "colorbar": {
             "outlinewidth": 0,
             "ticks": ""
            },
            "type": "choropleth"
           }
          ],
          "contour": [
           {
            "colorbar": {
             "outlinewidth": 0,
             "ticks": ""
            },
            "colorscale": [
             [
              0,
              "#0d0887"
             ],
             [
              0.1111111111111111,
              "#46039f"
             ],
             [
              0.2222222222222222,
              "#7201a8"
             ],
             [
              0.3333333333333333,
              "#9c179e"
             ],
             [
              0.4444444444444444,
              "#bd3786"
             ],
             [
              0.5555555555555556,
              "#d8576b"
             ],
             [
              0.6666666666666666,
              "#ed7953"
             ],
             [
              0.7777777777777778,
              "#fb9f3a"
             ],
             [
              0.8888888888888888,
              "#fdca26"
             ],
             [
              1,
              "#f0f921"
             ]
            ],
            "type": "contour"
           }
          ],
          "contourcarpet": [
           {
            "colorbar": {
             "outlinewidth": 0,
             "ticks": ""
            },
            "type": "contourcarpet"
           }
          ],
          "heatmap": [
           {
            "colorbar": {
             "outlinewidth": 0,
             "ticks": ""
            },
            "colorscale": [
             [
              0,
              "#0d0887"
             ],
             [
              0.1111111111111111,
              "#46039f"
             ],
             [
              0.2222222222222222,
              "#7201a8"
             ],
             [
              0.3333333333333333,
              "#9c179e"
             ],
             [
              0.4444444444444444,
              "#bd3786"
             ],
             [
              0.5555555555555556,
              "#d8576b"
             ],
             [
              0.6666666666666666,
              "#ed7953"
             ],
             [
              0.7777777777777778,
              "#fb9f3a"
             ],
             [
              0.8888888888888888,
              "#fdca26"
             ],
             [
              1,
              "#f0f921"
             ]
            ],
            "type": "heatmap"
           }
          ],
          "heatmapgl": [
           {
            "colorbar": {
             "outlinewidth": 0,
             "ticks": ""
            },
            "colorscale": [
             [
              0,
              "#0d0887"
             ],
             [
              0.1111111111111111,
              "#46039f"
             ],
             [
              0.2222222222222222,
              "#7201a8"
             ],
             [
              0.3333333333333333,
              "#9c179e"
             ],
             [
              0.4444444444444444,
              "#bd3786"
             ],
             [
              0.5555555555555556,
              "#d8576b"
             ],
             [
              0.6666666666666666,
              "#ed7953"
             ],
             [
              0.7777777777777778,
              "#fb9f3a"
             ],
             [
              0.8888888888888888,
              "#fdca26"
             ],
             [
              1,
              "#f0f921"
             ]
            ],
            "type": "heatmapgl"
           }
          ],
          "histogram": [
           {
            "marker": {
             "pattern": {
              "fillmode": "overlay",
              "size": 10,
              "solidity": 0.2
             }
            },
            "type": "histogram"
           }
          ],
          "histogram2d": [
           {
            "colorbar": {
             "outlinewidth": 0,
             "ticks": ""
            },
            "colorscale": [
             [
              0,
              "#0d0887"
             ],
             [
              0.1111111111111111,
              "#46039f"
             ],
             [
              0.2222222222222222,
              "#7201a8"
             ],
             [
              0.3333333333333333,
              "#9c179e"
             ],
             [
              0.4444444444444444,
              "#bd3786"
             ],
             [
              0.5555555555555556,
              "#d8576b"
             ],
             [
              0.6666666666666666,
              "#ed7953"
             ],
             [
              0.7777777777777778,
              "#fb9f3a"
             ],
             [
              0.8888888888888888,
              "#fdca26"
             ],
             [
              1,
              "#f0f921"
             ]
            ],
            "type": "histogram2d"
           }
          ],
          "histogram2dcontour": [
           {
            "colorbar": {
             "outlinewidth": 0,
             "ticks": ""
            },
            "colorscale": [
             [
              0,
              "#0d0887"
             ],
             [
              0.1111111111111111,
              "#46039f"
             ],
             [
              0.2222222222222222,
              "#7201a8"
             ],
             [
              0.3333333333333333,
              "#9c179e"
             ],
             [
              0.4444444444444444,
              "#bd3786"
             ],
             [
              0.5555555555555556,
              "#d8576b"
             ],
             [
              0.6666666666666666,
              "#ed7953"
             ],
             [
              0.7777777777777778,
              "#fb9f3a"
             ],
             [
              0.8888888888888888,
              "#fdca26"
             ],
             [
              1,
              "#f0f921"
             ]
            ],
            "type": "histogram2dcontour"
           }
          ],
          "mesh3d": [
           {
            "colorbar": {
             "outlinewidth": 0,
             "ticks": ""
            },
            "type": "mesh3d"
           }
          ],
          "parcoords": [
           {
            "line": {
             "colorbar": {
              "outlinewidth": 0,
              "ticks": ""
             }
            },
            "type": "parcoords"
           }
          ],
          "pie": [
           {
            "automargin": true,
            "type": "pie"
           }
          ],
          "scatter": [
           {
            "fillpattern": {
             "fillmode": "overlay",
             "size": 10,
             "solidity": 0.2
            },
            "type": "scatter"
           }
          ],
          "scatter3d": [
           {
            "line": {
             "colorbar": {
              "outlinewidth": 0,
              "ticks": ""
             }
            },
            "marker": {
             "colorbar": {
              "outlinewidth": 0,
              "ticks": ""
             }
            },
            "type": "scatter3d"
           }
          ],
          "scattercarpet": [
           {
            "marker": {
             "colorbar": {
              "outlinewidth": 0,
              "ticks": ""
             }
            },
            "type": "scattercarpet"
           }
          ],
          "scattergeo": [
           {
            "marker": {
             "colorbar": {
              "outlinewidth": 0,
              "ticks": ""
             }
            },
            "type": "scattergeo"
           }
          ],
          "scattergl": [
           {
            "marker": {
             "colorbar": {
              "outlinewidth": 0,
              "ticks": ""
             }
            },
            "type": "scattergl"
           }
          ],
          "scattermapbox": [
           {
            "marker": {
             "colorbar": {
              "outlinewidth": 0,
              "ticks": ""
             }
            },
            "type": "scattermapbox"
           }
          ],
          "scatterpolar": [
           {
            "marker": {
             "colorbar": {
              "outlinewidth": 0,
              "ticks": ""
             }
            },
            "type": "scatterpolar"
           }
          ],
          "scatterpolargl": [
           {
            "marker": {
             "colorbar": {
              "outlinewidth": 0,
              "ticks": ""
             }
            },
            "type": "scatterpolargl"
           }
          ],
          "scatterternary": [
           {
            "marker": {
             "colorbar": {
              "outlinewidth": 0,
              "ticks": ""
             }
            },
            "type": "scatterternary"
           }
          ],
          "surface": [
           {
            "colorbar": {
             "outlinewidth": 0,
             "ticks": ""
            },
            "colorscale": [
             [
              0,
              "#0d0887"
             ],
             [
              0.1111111111111111,
              "#46039f"
             ],
             [
              0.2222222222222222,
              "#7201a8"
             ],
             [
              0.3333333333333333,
              "#9c179e"
             ],
             [
              0.4444444444444444,
              "#bd3786"
             ],
             [
              0.5555555555555556,
              "#d8576b"
             ],
             [
              0.6666666666666666,
              "#ed7953"
             ],
             [
              0.7777777777777778,
              "#fb9f3a"
             ],
             [
              0.8888888888888888,
              "#fdca26"
             ],
             [
              1,
              "#f0f921"
             ]
            ],
            "type": "surface"
           }
          ],
          "table": [
           {
            "cells": {
             "fill": {
              "color": "#EBF0F8"
             },
             "line": {
              "color": "white"
             }
            },
            "header": {
             "fill": {
              "color": "#C8D4E3"
             },
             "line": {
              "color": "white"
             }
            },
            "type": "table"
           }
          ]
         },
         "layout": {
          "annotationdefaults": {
           "arrowcolor": "#2a3f5f",
           "arrowhead": 0,
           "arrowwidth": 1
          },
          "autotypenumbers": "strict",
          "coloraxis": {
           "colorbar": {
            "outlinewidth": 0,
            "ticks": ""
           }
          },
          "colorscale": {
           "diverging": [
            [
             0,
             "#8e0152"
            ],
            [
             0.1,
             "#c51b7d"
            ],
            [
             0.2,
             "#de77ae"
            ],
            [
             0.3,
             "#f1b6da"
            ],
            [
             0.4,
             "#fde0ef"
            ],
            [
             0.5,
             "#f7f7f7"
            ],
            [
             0.6,
             "#e6f5d0"
            ],
            [
             0.7,
             "#b8e186"
            ],
            [
             0.8,
             "#7fbc41"
            ],
            [
             0.9,
             "#4d9221"
            ],
            [
             1,
             "#276419"
            ]
           ],
           "sequential": [
            [
             0,
             "#0d0887"
            ],
            [
             0.1111111111111111,
             "#46039f"
            ],
            [
             0.2222222222222222,
             "#7201a8"
            ],
            [
             0.3333333333333333,
             "#9c179e"
            ],
            [
             0.4444444444444444,
             "#bd3786"
            ],
            [
             0.5555555555555556,
             "#d8576b"
            ],
            [
             0.6666666666666666,
             "#ed7953"
            ],
            [
             0.7777777777777778,
             "#fb9f3a"
            ],
            [
             0.8888888888888888,
             "#fdca26"
            ],
            [
             1,
             "#f0f921"
            ]
           ],
           "sequentialminus": [
            [
             0,
             "#0d0887"
            ],
            [
             0.1111111111111111,
             "#46039f"
            ],
            [
             0.2222222222222222,
             "#7201a8"
            ],
            [
             0.3333333333333333,
             "#9c179e"
            ],
            [
             0.4444444444444444,
             "#bd3786"
            ],
            [
             0.5555555555555556,
             "#d8576b"
            ],
            [
             0.6666666666666666,
             "#ed7953"
            ],
            [
             0.7777777777777778,
             "#fb9f3a"
            ],
            [
             0.8888888888888888,
             "#fdca26"
            ],
            [
             1,
             "#f0f921"
            ]
           ]
          },
          "colorway": [
           "#636efa",
           "#EF553B",
           "#00cc96",
           "#ab63fa",
           "#FFA15A",
           "#19d3f3",
           "#FF6692",
           "#B6E880",
           "#FF97FF",
           "#FECB52"
          ],
          "font": {
           "color": "#2a3f5f"
          },
          "geo": {
           "bgcolor": "white",
           "lakecolor": "white",
           "landcolor": "#E5ECF6",
           "showlakes": true,
           "showland": true,
           "subunitcolor": "white"
          },
          "hoverlabel": {
           "align": "left"
          },
          "hovermode": "closest",
          "mapbox": {
           "style": "light"
          },
          "paper_bgcolor": "white",
          "plot_bgcolor": "#E5ECF6",
          "polar": {
           "angularaxis": {
            "gridcolor": "white",
            "linecolor": "white",
            "ticks": ""
           },
           "bgcolor": "#E5ECF6",
           "radialaxis": {
            "gridcolor": "white",
            "linecolor": "white",
            "ticks": ""
           }
          },
          "scene": {
           "xaxis": {
            "backgroundcolor": "#E5ECF6",
            "gridcolor": "white",
            "gridwidth": 2,
            "linecolor": "white",
            "showbackground": true,
            "ticks": "",
            "zerolinecolor": "white"
           },
           "yaxis": {
            "backgroundcolor": "#E5ECF6",
            "gridcolor": "white",
            "gridwidth": 2,
            "linecolor": "white",
            "showbackground": true,
            "ticks": "",
            "zerolinecolor": "white"
           },
           "zaxis": {
            "backgroundcolor": "#E5ECF6",
            "gridcolor": "white",
            "gridwidth": 2,
            "linecolor": "white",
            "showbackground": true,
            "ticks": "",
            "zerolinecolor": "white"
           }
          },
          "shapedefaults": {
           "line": {
            "color": "#2a3f5f"
           }
          },
          "ternary": {
           "aaxis": {
            "gridcolor": "white",
            "linecolor": "white",
            "ticks": ""
           },
           "baxis": {
            "gridcolor": "white",
            "linecolor": "white",
            "ticks": ""
           },
           "bgcolor": "#E5ECF6",
           "caxis": {
            "gridcolor": "white",
            "linecolor": "white",
            "ticks": ""
           }
          },
          "title": {
           "x": 0.05
          },
          "xaxis": {
           "automargin": true,
           "gridcolor": "white",
           "linecolor": "white",
           "ticks": "",
           "title": {
            "standoff": 15
           },
           "zerolinecolor": "white",
           "zerolinewidth": 2
          },
          "yaxis": {
           "automargin": true,
           "gridcolor": "white",
           "linecolor": "white",
           "ticks": "",
           "title": {
            "standoff": 15
           },
           "zerolinecolor": "white",
           "zerolinewidth": 2
          }
         }
        },
        "title": {
         "text": "Top 10 socia media Domains"
        },
        "xaxis": {
         "anchor": "y",
         "domain": [
          0,
          1
         ],
         "title": {
          "text": "base_url"
         }
        },
        "yaxis": {
         "anchor": "x",
         "domain": [
          0,
          1
         ],
         "title": {
          "text": "Visits"
         }
        }
       }
      }
     },
     "metadata": {},
     "output_type": "display_data"
    },
    {
     "name": "stdout",
     "output_type": "stream",
     "text": [
      "\n",
      "Session Statistics:\n",
      "Median session duration: 0.1 minutes\n",
      "Average pages per session: 5.9\n"
     ]
    }
   ],
   "source": [
    "def analyze_sociamedia_activity(df):\n",
    "    # Filter socia media data\n",
    "    social_df = df[df['category'] == 'social_media'].copy()\n",
    "    \n",
    "    # 1. Basic Stats\n",
    "    print(f\"Total socia media visits: {len(social_df)}\")\n",
    "    print(f\"Unique socia media domains: {social_df['base_url'].nunique()}\")\n",
    "    print(f\"Time range: {social_df['eventtimeutc'].min()} to {social_df['eventtimeutc'].max()}\")\n",
    "\n",
    "    # 2. Temporal Analysis\n",
    "    # Hourly pattern\n",
    "    social_df['hour'] = social_df['eventtimeutc'].dt.hour\n",
    "    hourly = social_df.groupby('hour').size().reset_index(name='visits')\n",
    "    \n",
    "    fig = px.bar(hourly, x='hour', y='visits', \n",
    "                 title='socia media Activity by Hour',\n",
    "                 labels={'hour': 'Hour of Day (UTC)', 'visits': 'Visits'})\n",
    "    fig.update_layout(xaxis=dict(tickmode='linear', dtick=1))\n",
    "    fig.show()\n",
    "\n",
    "    # Daily pattern\n",
    "    social_df['day_of_week'] = social_df['eventtimeutc'].dt.day_name()\n",
    "    weekday_order = ['Monday', 'Tuesday', 'Wednesday', 'Thursday', 'Friday', 'Saturday', 'Sunday']\n",
    "    daily = social_df.groupby('day_of_week').size().reindex(weekday_order).reset_index(name='visits')\n",
    "    \n",
    "    fig = px.bar(daily, x='day_of_week', y='visits',\n",
    "                 title='socia media Activity by Day of Week',\n",
    "                 labels={'day_of_week': 'Day', 'visits': 'Visits'})\n",
    "    fig.show()\n",
    "\n",
    "    # 3. Domain Analysis\n",
    "    domain_stats = social_df['base_url'].value_counts().head(10).reset_index()\n",
    "    domain_stats.columns = ['base_url', 'visits']\n",
    "    \n",
    "    fig = px.bar(domain_stats, x='base_url', y='visits',\n",
    "                 title='Top 10 socia media Domains',\n",
    "                 labels={'base_url': 'base_url', 'visits': 'Visits'})\n",
    "    fig.show()\n",
    "\n",
    "\n",
    "\n",
    "    # 5. Session Analysis (within socia media category)\n",
    "    social_df = social_df.sort_values('eventtimeutc')\n",
    "    social_df['time_diff'] = social_df['eventtimeutc'].diff().fillna(pd.Timedelta(0))\n",
    "    social_df['session_id'] = (social_df['time_diff'] > pd.Timedelta(minutes=5)).cumsum()\n",
    "    \n",
    "    sessions = social_df.groupby('session_id').agg(\n",
    "        duration=('eventtimeutc', lambda x: (x.max() - x.min()).total_seconds() / 60),\n",
    "        page_views=('url', 'count')\n",
    "    ).reset_index()\n",
    "    \n",
    "    print(\"\\nSession Statistics:\")\n",
    "    print(f\"Median session duration: {sessions['duration'].median():.1f} minutes\")\n",
    "    print(f\"Average pages per session: {sessions['page_views'].mean():.1f}\")\n",
    "    \n",
    "    return social_df, sessions\n",
    "\n",
    "# Run analysis\n",
    "ecom_data, session_stats = analyze_sociamedia_activity(df)"
   ]
  },
  {
   "cell_type": "code",
   "execution_count": 41,
   "id": "c17b6325",
   "metadata": {},
   "outputs": [
    {
     "name": "stdout",
     "output_type": "stream",
     "text": [
      "Total e-commerce visits: 547\n",
      "Unique e-commerce domains: 95\n",
      "Time range: 2025-01-21 16:55:17.128000+00:00 to 2025-02-21 05:47:44.822000+00:00\n"
     ]
    },
    {
     "data": {
      "application/vnd.plotly.v1+json": {
       "config": {
        "plotlyServerURL": "https://plot.ly"
       },
       "data": [
        {
         "alignmentgroup": "True",
         "hovertemplate": "Hour of Day (UTC)=%{x}<br>Visits=%{y}<extra></extra>",
         "legendgroup": "",
         "marker": {
          "color": "#636efa",
          "pattern": {
           "shape": ""
          }
         },
         "name": "",
         "offsetgroup": "",
         "orientation": "v",
         "showlegend": false,
         "textposition": "auto",
         "type": "bar",
         "x": [
          0,
          1,
          2,
          3,
          4,
          5,
          6,
          7,
          8,
          11,
          12,
          13,
          14,
          15,
          16,
          17,
          18,
          19,
          20,
          21,
          22,
          23
         ],
         "xaxis": "x",
         "y": [
          60,
          19,
          31,
          102,
          30,
          32,
          3,
          15,
          4,
          8,
          5,
          13,
          2,
          7,
          31,
          24,
          16,
          47,
          1,
          24,
          51,
          22
         ],
         "yaxis": "y"
        }
       ],
       "layout": {
        "barmode": "relative",
        "legend": {
         "tracegroupgap": 0
        },
        "template": {
         "data": {
          "bar": [
           {
            "error_x": {
             "color": "#2a3f5f"
            },
            "error_y": {
             "color": "#2a3f5f"
            },
            "marker": {
             "line": {
              "color": "#E5ECF6",
              "width": 0.5
             },
             "pattern": {
              "fillmode": "overlay",
              "size": 10,
              "solidity": 0.2
             }
            },
            "type": "bar"
           }
          ],
          "barpolar": [
           {
            "marker": {
             "line": {
              "color": "#E5ECF6",
              "width": 0.5
             },
             "pattern": {
              "fillmode": "overlay",
              "size": 10,
              "solidity": 0.2
             }
            },
            "type": "barpolar"
           }
          ],
          "carpet": [
           {
            "aaxis": {
             "endlinecolor": "#2a3f5f",
             "gridcolor": "white",
             "linecolor": "white",
             "minorgridcolor": "white",
             "startlinecolor": "#2a3f5f"
            },
            "baxis": {
             "endlinecolor": "#2a3f5f",
             "gridcolor": "white",
             "linecolor": "white",
             "minorgridcolor": "white",
             "startlinecolor": "#2a3f5f"
            },
            "type": "carpet"
           }
          ],
          "choropleth": [
           {
            "colorbar": {
             "outlinewidth": 0,
             "ticks": ""
            },
            "type": "choropleth"
           }
          ],
          "contour": [
           {
            "colorbar": {
             "outlinewidth": 0,
             "ticks": ""
            },
            "colorscale": [
             [
              0,
              "#0d0887"
             ],
             [
              0.1111111111111111,
              "#46039f"
             ],
             [
              0.2222222222222222,
              "#7201a8"
             ],
             [
              0.3333333333333333,
              "#9c179e"
             ],
             [
              0.4444444444444444,
              "#bd3786"
             ],
             [
              0.5555555555555556,
              "#d8576b"
             ],
             [
              0.6666666666666666,
              "#ed7953"
             ],
             [
              0.7777777777777778,
              "#fb9f3a"
             ],
             [
              0.8888888888888888,
              "#fdca26"
             ],
             [
              1,
              "#f0f921"
             ]
            ],
            "type": "contour"
           }
          ],
          "contourcarpet": [
           {
            "colorbar": {
             "outlinewidth": 0,
             "ticks": ""
            },
            "type": "contourcarpet"
           }
          ],
          "heatmap": [
           {
            "colorbar": {
             "outlinewidth": 0,
             "ticks": ""
            },
            "colorscale": [
             [
              0,
              "#0d0887"
             ],
             [
              0.1111111111111111,
              "#46039f"
             ],
             [
              0.2222222222222222,
              "#7201a8"
             ],
             [
              0.3333333333333333,
              "#9c179e"
             ],
             [
              0.4444444444444444,
              "#bd3786"
             ],
             [
              0.5555555555555556,
              "#d8576b"
             ],
             [
              0.6666666666666666,
              "#ed7953"
             ],
             [
              0.7777777777777778,
              "#fb9f3a"
             ],
             [
              0.8888888888888888,
              "#fdca26"
             ],
             [
              1,
              "#f0f921"
             ]
            ],
            "type": "heatmap"
           }
          ],
          "heatmapgl": [
           {
            "colorbar": {
             "outlinewidth": 0,
             "ticks": ""
            },
            "colorscale": [
             [
              0,
              "#0d0887"
             ],
             [
              0.1111111111111111,
              "#46039f"
             ],
             [
              0.2222222222222222,
              "#7201a8"
             ],
             [
              0.3333333333333333,
              "#9c179e"
             ],
             [
              0.4444444444444444,
              "#bd3786"
             ],
             [
              0.5555555555555556,
              "#d8576b"
             ],
             [
              0.6666666666666666,
              "#ed7953"
             ],
             [
              0.7777777777777778,
              "#fb9f3a"
             ],
             [
              0.8888888888888888,
              "#fdca26"
             ],
             [
              1,
              "#f0f921"
             ]
            ],
            "type": "heatmapgl"
           }
          ],
          "histogram": [
           {
            "marker": {
             "pattern": {
              "fillmode": "overlay",
              "size": 10,
              "solidity": 0.2
             }
            },
            "type": "histogram"
           }
          ],
          "histogram2d": [
           {
            "colorbar": {
             "outlinewidth": 0,
             "ticks": ""
            },
            "colorscale": [
             [
              0,
              "#0d0887"
             ],
             [
              0.1111111111111111,
              "#46039f"
             ],
             [
              0.2222222222222222,
              "#7201a8"
             ],
             [
              0.3333333333333333,
              "#9c179e"
             ],
             [
              0.4444444444444444,
              "#bd3786"
             ],
             [
              0.5555555555555556,
              "#d8576b"
             ],
             [
              0.6666666666666666,
              "#ed7953"
             ],
             [
              0.7777777777777778,
              "#fb9f3a"
             ],
             [
              0.8888888888888888,
              "#fdca26"
             ],
             [
              1,
              "#f0f921"
             ]
            ],
            "type": "histogram2d"
           }
          ],
          "histogram2dcontour": [
           {
            "colorbar": {
             "outlinewidth": 0,
             "ticks": ""
            },
            "colorscale": [
             [
              0,
              "#0d0887"
             ],
             [
              0.1111111111111111,
              "#46039f"
             ],
             [
              0.2222222222222222,
              "#7201a8"
             ],
             [
              0.3333333333333333,
              "#9c179e"
             ],
             [
              0.4444444444444444,
              "#bd3786"
             ],
             [
              0.5555555555555556,
              "#d8576b"
             ],
             [
              0.6666666666666666,
              "#ed7953"
             ],
             [
              0.7777777777777778,
              "#fb9f3a"
             ],
             [
              0.8888888888888888,
              "#fdca26"
             ],
             [
              1,
              "#f0f921"
             ]
            ],
            "type": "histogram2dcontour"
           }
          ],
          "mesh3d": [
           {
            "colorbar": {
             "outlinewidth": 0,
             "ticks": ""
            },
            "type": "mesh3d"
           }
          ],
          "parcoords": [
           {
            "line": {
             "colorbar": {
              "outlinewidth": 0,
              "ticks": ""
             }
            },
            "type": "parcoords"
           }
          ],
          "pie": [
           {
            "automargin": true,
            "type": "pie"
           }
          ],
          "scatter": [
           {
            "fillpattern": {
             "fillmode": "overlay",
             "size": 10,
             "solidity": 0.2
            },
            "type": "scatter"
           }
          ],
          "scatter3d": [
           {
            "line": {
             "colorbar": {
              "outlinewidth": 0,
              "ticks": ""
             }
            },
            "marker": {
             "colorbar": {
              "outlinewidth": 0,
              "ticks": ""
             }
            },
            "type": "scatter3d"
           }
          ],
          "scattercarpet": [
           {
            "marker": {
             "colorbar": {
              "outlinewidth": 0,
              "ticks": ""
             }
            },
            "type": "scattercarpet"
           }
          ],
          "scattergeo": [
           {
            "marker": {
             "colorbar": {
              "outlinewidth": 0,
              "ticks": ""
             }
            },
            "type": "scattergeo"
           }
          ],
          "scattergl": [
           {
            "marker": {
             "colorbar": {
              "outlinewidth": 0,
              "ticks": ""
             }
            },
            "type": "scattergl"
           }
          ],
          "scattermapbox": [
           {
            "marker": {
             "colorbar": {
              "outlinewidth": 0,
              "ticks": ""
             }
            },
            "type": "scattermapbox"
           }
          ],
          "scatterpolar": [
           {
            "marker": {
             "colorbar": {
              "outlinewidth": 0,
              "ticks": ""
             }
            },
            "type": "scatterpolar"
           }
          ],
          "scatterpolargl": [
           {
            "marker": {
             "colorbar": {
              "outlinewidth": 0,
              "ticks": ""
             }
            },
            "type": "scatterpolargl"
           }
          ],
          "scatterternary": [
           {
            "marker": {
             "colorbar": {
              "outlinewidth": 0,
              "ticks": ""
             }
            },
            "type": "scatterternary"
           }
          ],
          "surface": [
           {
            "colorbar": {
             "outlinewidth": 0,
             "ticks": ""
            },
            "colorscale": [
             [
              0,
              "#0d0887"
             ],
             [
              0.1111111111111111,
              "#46039f"
             ],
             [
              0.2222222222222222,
              "#7201a8"
             ],
             [
              0.3333333333333333,
              "#9c179e"
             ],
             [
              0.4444444444444444,
              "#bd3786"
             ],
             [
              0.5555555555555556,
              "#d8576b"
             ],
             [
              0.6666666666666666,
              "#ed7953"
             ],
             [
              0.7777777777777778,
              "#fb9f3a"
             ],
             [
              0.8888888888888888,
              "#fdca26"
             ],
             [
              1,
              "#f0f921"
             ]
            ],
            "type": "surface"
           }
          ],
          "table": [
           {
            "cells": {
             "fill": {
              "color": "#EBF0F8"
             },
             "line": {
              "color": "white"
             }
            },
            "header": {
             "fill": {
              "color": "#C8D4E3"
             },
             "line": {
              "color": "white"
             }
            },
            "type": "table"
           }
          ]
         },
         "layout": {
          "annotationdefaults": {
           "arrowcolor": "#2a3f5f",
           "arrowhead": 0,
           "arrowwidth": 1
          },
          "autotypenumbers": "strict",
          "coloraxis": {
           "colorbar": {
            "outlinewidth": 0,
            "ticks": ""
           }
          },
          "colorscale": {
           "diverging": [
            [
             0,
             "#8e0152"
            ],
            [
             0.1,
             "#c51b7d"
            ],
            [
             0.2,
             "#de77ae"
            ],
            [
             0.3,
             "#f1b6da"
            ],
            [
             0.4,
             "#fde0ef"
            ],
            [
             0.5,
             "#f7f7f7"
            ],
            [
             0.6,
             "#e6f5d0"
            ],
            [
             0.7,
             "#b8e186"
            ],
            [
             0.8,
             "#7fbc41"
            ],
            [
             0.9,
             "#4d9221"
            ],
            [
             1,
             "#276419"
            ]
           ],
           "sequential": [
            [
             0,
             "#0d0887"
            ],
            [
             0.1111111111111111,
             "#46039f"
            ],
            [
             0.2222222222222222,
             "#7201a8"
            ],
            [
             0.3333333333333333,
             "#9c179e"
            ],
            [
             0.4444444444444444,
             "#bd3786"
            ],
            [
             0.5555555555555556,
             "#d8576b"
            ],
            [
             0.6666666666666666,
             "#ed7953"
            ],
            [
             0.7777777777777778,
             "#fb9f3a"
            ],
            [
             0.8888888888888888,
             "#fdca26"
            ],
            [
             1,
             "#f0f921"
            ]
           ],
           "sequentialminus": [
            [
             0,
             "#0d0887"
            ],
            [
             0.1111111111111111,
             "#46039f"
            ],
            [
             0.2222222222222222,
             "#7201a8"
            ],
            [
             0.3333333333333333,
             "#9c179e"
            ],
            [
             0.4444444444444444,
             "#bd3786"
            ],
            [
             0.5555555555555556,
             "#d8576b"
            ],
            [
             0.6666666666666666,
             "#ed7953"
            ],
            [
             0.7777777777777778,
             "#fb9f3a"
            ],
            [
             0.8888888888888888,
             "#fdca26"
            ],
            [
             1,
             "#f0f921"
            ]
           ]
          },
          "colorway": [
           "#636efa",
           "#EF553B",
           "#00cc96",
           "#ab63fa",
           "#FFA15A",
           "#19d3f3",
           "#FF6692",
           "#B6E880",
           "#FF97FF",
           "#FECB52"
          ],
          "font": {
           "color": "#2a3f5f"
          },
          "geo": {
           "bgcolor": "white",
           "lakecolor": "white",
           "landcolor": "#E5ECF6",
           "showlakes": true,
           "showland": true,
           "subunitcolor": "white"
          },
          "hoverlabel": {
           "align": "left"
          },
          "hovermode": "closest",
          "mapbox": {
           "style": "light"
          },
          "paper_bgcolor": "white",
          "plot_bgcolor": "#E5ECF6",
          "polar": {
           "angularaxis": {
            "gridcolor": "white",
            "linecolor": "white",
            "ticks": ""
           },
           "bgcolor": "#E5ECF6",
           "radialaxis": {
            "gridcolor": "white",
            "linecolor": "white",
            "ticks": ""
           }
          },
          "scene": {
           "xaxis": {
            "backgroundcolor": "#E5ECF6",
            "gridcolor": "white",
            "gridwidth": 2,
            "linecolor": "white",
            "showbackground": true,
            "ticks": "",
            "zerolinecolor": "white"
           },
           "yaxis": {
            "backgroundcolor": "#E5ECF6",
            "gridcolor": "white",
            "gridwidth": 2,
            "linecolor": "white",
            "showbackground": true,
            "ticks": "",
            "zerolinecolor": "white"
           },
           "zaxis": {
            "backgroundcolor": "#E5ECF6",
            "gridcolor": "white",
            "gridwidth": 2,
            "linecolor": "white",
            "showbackground": true,
            "ticks": "",
            "zerolinecolor": "white"
           }
          },
          "shapedefaults": {
           "line": {
            "color": "#2a3f5f"
           }
          },
          "ternary": {
           "aaxis": {
            "gridcolor": "white",
            "linecolor": "white",
            "ticks": ""
           },
           "baxis": {
            "gridcolor": "white",
            "linecolor": "white",
            "ticks": ""
           },
           "bgcolor": "#E5ECF6",
           "caxis": {
            "gridcolor": "white",
            "linecolor": "white",
            "ticks": ""
           }
          },
          "title": {
           "x": 0.05
          },
          "xaxis": {
           "automargin": true,
           "gridcolor": "white",
           "linecolor": "white",
           "ticks": "",
           "title": {
            "standoff": 15
           },
           "zerolinecolor": "white",
           "zerolinewidth": 2
          },
          "yaxis": {
           "automargin": true,
           "gridcolor": "white",
           "linecolor": "white",
           "ticks": "",
           "title": {
            "standoff": 15
           },
           "zerolinecolor": "white",
           "zerolinewidth": 2
          }
         }
        },
        "title": {
         "text": "E-commerce Activity by Hour"
        },
        "xaxis": {
         "anchor": "y",
         "domain": [
          0,
          1
         ],
         "dtick": 1,
         "tickmode": "linear",
         "title": {
          "text": "Hour of Day (UTC)"
         }
        },
        "yaxis": {
         "anchor": "x",
         "domain": [
          0,
          1
         ],
         "title": {
          "text": "Visits"
         }
        }
       }
      }
     },
     "metadata": {},
     "output_type": "display_data"
    },
    {
     "data": {
      "application/vnd.plotly.v1+json": {
       "config": {
        "plotlyServerURL": "https://plot.ly"
       },
       "data": [
        {
         "alignmentgroup": "True",
         "hovertemplate": "Day=%{x}<br>Visits=%{y}<extra></extra>",
         "legendgroup": "",
         "marker": {
          "color": "#636efa",
          "pattern": {
           "shape": ""
          }
         },
         "name": "",
         "offsetgroup": "",
         "orientation": "v",
         "showlegend": false,
         "textposition": "auto",
         "type": "bar",
         "x": [
          "Monday",
          "Tuesday",
          "Wednesday",
          "Thursday",
          "Friday",
          "Saturday",
          "Sunday"
         ],
         "xaxis": "x",
         "y": [
          156,
          27,
          97,
          86,
          87,
          25,
          69
         ],
         "yaxis": "y"
        }
       ],
       "layout": {
        "barmode": "relative",
        "legend": {
         "tracegroupgap": 0
        },
        "template": {
         "data": {
          "bar": [
           {
            "error_x": {
             "color": "#2a3f5f"
            },
            "error_y": {
             "color": "#2a3f5f"
            },
            "marker": {
             "line": {
              "color": "#E5ECF6",
              "width": 0.5
             },
             "pattern": {
              "fillmode": "overlay",
              "size": 10,
              "solidity": 0.2
             }
            },
            "type": "bar"
           }
          ],
          "barpolar": [
           {
            "marker": {
             "line": {
              "color": "#E5ECF6",
              "width": 0.5
             },
             "pattern": {
              "fillmode": "overlay",
              "size": 10,
              "solidity": 0.2
             }
            },
            "type": "barpolar"
           }
          ],
          "carpet": [
           {
            "aaxis": {
             "endlinecolor": "#2a3f5f",
             "gridcolor": "white",
             "linecolor": "white",
             "minorgridcolor": "white",
             "startlinecolor": "#2a3f5f"
            },
            "baxis": {
             "endlinecolor": "#2a3f5f",
             "gridcolor": "white",
             "linecolor": "white",
             "minorgridcolor": "white",
             "startlinecolor": "#2a3f5f"
            },
            "type": "carpet"
           }
          ],
          "choropleth": [
           {
            "colorbar": {
             "outlinewidth": 0,
             "ticks": ""
            },
            "type": "choropleth"
           }
          ],
          "contour": [
           {
            "colorbar": {
             "outlinewidth": 0,
             "ticks": ""
            },
            "colorscale": [
             [
              0,
              "#0d0887"
             ],
             [
              0.1111111111111111,
              "#46039f"
             ],
             [
              0.2222222222222222,
              "#7201a8"
             ],
             [
              0.3333333333333333,
              "#9c179e"
             ],
             [
              0.4444444444444444,
              "#bd3786"
             ],
             [
              0.5555555555555556,
              "#d8576b"
             ],
             [
              0.6666666666666666,
              "#ed7953"
             ],
             [
              0.7777777777777778,
              "#fb9f3a"
             ],
             [
              0.8888888888888888,
              "#fdca26"
             ],
             [
              1,
              "#f0f921"
             ]
            ],
            "type": "contour"
           }
          ],
          "contourcarpet": [
           {
            "colorbar": {
             "outlinewidth": 0,
             "ticks": ""
            },
            "type": "contourcarpet"
           }
          ],
          "heatmap": [
           {
            "colorbar": {
             "outlinewidth": 0,
             "ticks": ""
            },
            "colorscale": [
             [
              0,
              "#0d0887"
             ],
             [
              0.1111111111111111,
              "#46039f"
             ],
             [
              0.2222222222222222,
              "#7201a8"
             ],
             [
              0.3333333333333333,
              "#9c179e"
             ],
             [
              0.4444444444444444,
              "#bd3786"
             ],
             [
              0.5555555555555556,
              "#d8576b"
             ],
             [
              0.6666666666666666,
              "#ed7953"
             ],
             [
              0.7777777777777778,
              "#fb9f3a"
             ],
             [
              0.8888888888888888,
              "#fdca26"
             ],
             [
              1,
              "#f0f921"
             ]
            ],
            "type": "heatmap"
           }
          ],
          "heatmapgl": [
           {
            "colorbar": {
             "outlinewidth": 0,
             "ticks": ""
            },
            "colorscale": [
             [
              0,
              "#0d0887"
             ],
             [
              0.1111111111111111,
              "#46039f"
             ],
             [
              0.2222222222222222,
              "#7201a8"
             ],
             [
              0.3333333333333333,
              "#9c179e"
             ],
             [
              0.4444444444444444,
              "#bd3786"
             ],
             [
              0.5555555555555556,
              "#d8576b"
             ],
             [
              0.6666666666666666,
              "#ed7953"
             ],
             [
              0.7777777777777778,
              "#fb9f3a"
             ],
             [
              0.8888888888888888,
              "#fdca26"
             ],
             [
              1,
              "#f0f921"
             ]
            ],
            "type": "heatmapgl"
           }
          ],
          "histogram": [
           {
            "marker": {
             "pattern": {
              "fillmode": "overlay",
              "size": 10,
              "solidity": 0.2
             }
            },
            "type": "histogram"
           }
          ],
          "histogram2d": [
           {
            "colorbar": {
             "outlinewidth": 0,
             "ticks": ""
            },
            "colorscale": [
             [
              0,
              "#0d0887"
             ],
             [
              0.1111111111111111,
              "#46039f"
             ],
             [
              0.2222222222222222,
              "#7201a8"
             ],
             [
              0.3333333333333333,
              "#9c179e"
             ],
             [
              0.4444444444444444,
              "#bd3786"
             ],
             [
              0.5555555555555556,
              "#d8576b"
             ],
             [
              0.6666666666666666,
              "#ed7953"
             ],
             [
              0.7777777777777778,
              "#fb9f3a"
             ],
             [
              0.8888888888888888,
              "#fdca26"
             ],
             [
              1,
              "#f0f921"
             ]
            ],
            "type": "histogram2d"
           }
          ],
          "histogram2dcontour": [
           {
            "colorbar": {
             "outlinewidth": 0,
             "ticks": ""
            },
            "colorscale": [
             [
              0,
              "#0d0887"
             ],
             [
              0.1111111111111111,
              "#46039f"
             ],
             [
              0.2222222222222222,
              "#7201a8"
             ],
             [
              0.3333333333333333,
              "#9c179e"
             ],
             [
              0.4444444444444444,
              "#bd3786"
             ],
             [
              0.5555555555555556,
              "#d8576b"
             ],
             [
              0.6666666666666666,
              "#ed7953"
             ],
             [
              0.7777777777777778,
              "#fb9f3a"
             ],
             [
              0.8888888888888888,
              "#fdca26"
             ],
             [
              1,
              "#f0f921"
             ]
            ],
            "type": "histogram2dcontour"
           }
          ],
          "mesh3d": [
           {
            "colorbar": {
             "outlinewidth": 0,
             "ticks": ""
            },
            "type": "mesh3d"
           }
          ],
          "parcoords": [
           {
            "line": {
             "colorbar": {
              "outlinewidth": 0,
              "ticks": ""
             }
            },
            "type": "parcoords"
           }
          ],
          "pie": [
           {
            "automargin": true,
            "type": "pie"
           }
          ],
          "scatter": [
           {
            "fillpattern": {
             "fillmode": "overlay",
             "size": 10,
             "solidity": 0.2
            },
            "type": "scatter"
           }
          ],
          "scatter3d": [
           {
            "line": {
             "colorbar": {
              "outlinewidth": 0,
              "ticks": ""
             }
            },
            "marker": {
             "colorbar": {
              "outlinewidth": 0,
              "ticks": ""
             }
            },
            "type": "scatter3d"
           }
          ],
          "scattercarpet": [
           {
            "marker": {
             "colorbar": {
              "outlinewidth": 0,
              "ticks": ""
             }
            },
            "type": "scattercarpet"
           }
          ],
          "scattergeo": [
           {
            "marker": {
             "colorbar": {
              "outlinewidth": 0,
              "ticks": ""
             }
            },
            "type": "scattergeo"
           }
          ],
          "scattergl": [
           {
            "marker": {
             "colorbar": {
              "outlinewidth": 0,
              "ticks": ""
             }
            },
            "type": "scattergl"
           }
          ],
          "scattermapbox": [
           {
            "marker": {
             "colorbar": {
              "outlinewidth": 0,
              "ticks": ""
             }
            },
            "type": "scattermapbox"
           }
          ],
          "scatterpolar": [
           {
            "marker": {
             "colorbar": {
              "outlinewidth": 0,
              "ticks": ""
             }
            },
            "type": "scatterpolar"
           }
          ],
          "scatterpolargl": [
           {
            "marker": {
             "colorbar": {
              "outlinewidth": 0,
              "ticks": ""
             }
            },
            "type": "scatterpolargl"
           }
          ],
          "scatterternary": [
           {
            "marker": {
             "colorbar": {
              "outlinewidth": 0,
              "ticks": ""
             }
            },
            "type": "scatterternary"
           }
          ],
          "surface": [
           {
            "colorbar": {
             "outlinewidth": 0,
             "ticks": ""
            },
            "colorscale": [
             [
              0,
              "#0d0887"
             ],
             [
              0.1111111111111111,
              "#46039f"
             ],
             [
              0.2222222222222222,
              "#7201a8"
             ],
             [
              0.3333333333333333,
              "#9c179e"
             ],
             [
              0.4444444444444444,
              "#bd3786"
             ],
             [
              0.5555555555555556,
              "#d8576b"
             ],
             [
              0.6666666666666666,
              "#ed7953"
             ],
             [
              0.7777777777777778,
              "#fb9f3a"
             ],
             [
              0.8888888888888888,
              "#fdca26"
             ],
             [
              1,
              "#f0f921"
             ]
            ],
            "type": "surface"
           }
          ],
          "table": [
           {
            "cells": {
             "fill": {
              "color": "#EBF0F8"
             },
             "line": {
              "color": "white"
             }
            },
            "header": {
             "fill": {
              "color": "#C8D4E3"
             },
             "line": {
              "color": "white"
             }
            },
            "type": "table"
           }
          ]
         },
         "layout": {
          "annotationdefaults": {
           "arrowcolor": "#2a3f5f",
           "arrowhead": 0,
           "arrowwidth": 1
          },
          "autotypenumbers": "strict",
          "coloraxis": {
           "colorbar": {
            "outlinewidth": 0,
            "ticks": ""
           }
          },
          "colorscale": {
           "diverging": [
            [
             0,
             "#8e0152"
            ],
            [
             0.1,
             "#c51b7d"
            ],
            [
             0.2,
             "#de77ae"
            ],
            [
             0.3,
             "#f1b6da"
            ],
            [
             0.4,
             "#fde0ef"
            ],
            [
             0.5,
             "#f7f7f7"
            ],
            [
             0.6,
             "#e6f5d0"
            ],
            [
             0.7,
             "#b8e186"
            ],
            [
             0.8,
             "#7fbc41"
            ],
            [
             0.9,
             "#4d9221"
            ],
            [
             1,
             "#276419"
            ]
           ],
           "sequential": [
            [
             0,
             "#0d0887"
            ],
            [
             0.1111111111111111,
             "#46039f"
            ],
            [
             0.2222222222222222,
             "#7201a8"
            ],
            [
             0.3333333333333333,
             "#9c179e"
            ],
            [
             0.4444444444444444,
             "#bd3786"
            ],
            [
             0.5555555555555556,
             "#d8576b"
            ],
            [
             0.6666666666666666,
             "#ed7953"
            ],
            [
             0.7777777777777778,
             "#fb9f3a"
            ],
            [
             0.8888888888888888,
             "#fdca26"
            ],
            [
             1,
             "#f0f921"
            ]
           ],
           "sequentialminus": [
            [
             0,
             "#0d0887"
            ],
            [
             0.1111111111111111,
             "#46039f"
            ],
            [
             0.2222222222222222,
             "#7201a8"
            ],
            [
             0.3333333333333333,
             "#9c179e"
            ],
            [
             0.4444444444444444,
             "#bd3786"
            ],
            [
             0.5555555555555556,
             "#d8576b"
            ],
            [
             0.6666666666666666,
             "#ed7953"
            ],
            [
             0.7777777777777778,
             "#fb9f3a"
            ],
            [
             0.8888888888888888,
             "#fdca26"
            ],
            [
             1,
             "#f0f921"
            ]
           ]
          },
          "colorway": [
           "#636efa",
           "#EF553B",
           "#00cc96",
           "#ab63fa",
           "#FFA15A",
           "#19d3f3",
           "#FF6692",
           "#B6E880",
           "#FF97FF",
           "#FECB52"
          ],
          "font": {
           "color": "#2a3f5f"
          },
          "geo": {
           "bgcolor": "white",
           "lakecolor": "white",
           "landcolor": "#E5ECF6",
           "showlakes": true,
           "showland": true,
           "subunitcolor": "white"
          },
          "hoverlabel": {
           "align": "left"
          },
          "hovermode": "closest",
          "mapbox": {
           "style": "light"
          },
          "paper_bgcolor": "white",
          "plot_bgcolor": "#E5ECF6",
          "polar": {
           "angularaxis": {
            "gridcolor": "white",
            "linecolor": "white",
            "ticks": ""
           },
           "bgcolor": "#E5ECF6",
           "radialaxis": {
            "gridcolor": "white",
            "linecolor": "white",
            "ticks": ""
           }
          },
          "scene": {
           "xaxis": {
            "backgroundcolor": "#E5ECF6",
            "gridcolor": "white",
            "gridwidth": 2,
            "linecolor": "white",
            "showbackground": true,
            "ticks": "",
            "zerolinecolor": "white"
           },
           "yaxis": {
            "backgroundcolor": "#E5ECF6",
            "gridcolor": "white",
            "gridwidth": 2,
            "linecolor": "white",
            "showbackground": true,
            "ticks": "",
            "zerolinecolor": "white"
           },
           "zaxis": {
            "backgroundcolor": "#E5ECF6",
            "gridcolor": "white",
            "gridwidth": 2,
            "linecolor": "white",
            "showbackground": true,
            "ticks": "",
            "zerolinecolor": "white"
           }
          },
          "shapedefaults": {
           "line": {
            "color": "#2a3f5f"
           }
          },
          "ternary": {
           "aaxis": {
            "gridcolor": "white",
            "linecolor": "white",
            "ticks": ""
           },
           "baxis": {
            "gridcolor": "white",
            "linecolor": "white",
            "ticks": ""
           },
           "bgcolor": "#E5ECF6",
           "caxis": {
            "gridcolor": "white",
            "linecolor": "white",
            "ticks": ""
           }
          },
          "title": {
           "x": 0.05
          },
          "xaxis": {
           "automargin": true,
           "gridcolor": "white",
           "linecolor": "white",
           "ticks": "",
           "title": {
            "standoff": 15
           },
           "zerolinecolor": "white",
           "zerolinewidth": 2
          },
          "yaxis": {
           "automargin": true,
           "gridcolor": "white",
           "linecolor": "white",
           "ticks": "",
           "title": {
            "standoff": 15
           },
           "zerolinecolor": "white",
           "zerolinewidth": 2
          }
         }
        },
        "title": {
         "text": "E-commerce Activity by Day of Week"
        },
        "xaxis": {
         "anchor": "y",
         "domain": [
          0,
          1
         ],
         "title": {
          "text": "Day"
         }
        },
        "yaxis": {
         "anchor": "x",
         "domain": [
          0,
          1
         ],
         "title": {
          "text": "Visits"
         }
        }
       }
      }
     },
     "metadata": {},
     "output_type": "display_data"
    },
    {
     "data": {
      "application/vnd.plotly.v1+json": {
       "config": {
        "plotlyServerURL": "https://plot.ly"
       },
       "data": [
        {
         "alignmentgroup": "True",
         "hovertemplate": "base_url=%{x}<br>Visits=%{y}<extra></extra>",
         "legendgroup": "",
         "marker": {
          "color": "#636efa",
          "pattern": {
           "shape": ""
          }
         },
         "name": "",
         "offsetgroup": "",
         "orientation": "v",
         "showlegend": false,
         "textposition": "auto",
         "type": "bar",
         "x": [
          "www.amazon.in",
          "www.tractorsupply.com",
          "www.homedepot.com",
          "htmltemplates.co",
          "www.flipkart.com",
          "www.amazon.com",
          "silmedspa.com",
          "client.ipostalmail.net",
          "quickpay.hmshost.com",
          "www.target.com"
         ],
         "xaxis": "x",
         "y": [
          123,
          33,
          32,
          17,
          17,
          17,
          14,
          13,
          13,
          13
         ],
         "yaxis": "y"
        }
       ],
       "layout": {
        "barmode": "relative",
        "legend": {
         "tracegroupgap": 0
        },
        "template": {
         "data": {
          "bar": [
           {
            "error_x": {
             "color": "#2a3f5f"
            },
            "error_y": {
             "color": "#2a3f5f"
            },
            "marker": {
             "line": {
              "color": "#E5ECF6",
              "width": 0.5
             },
             "pattern": {
              "fillmode": "overlay",
              "size": 10,
              "solidity": 0.2
             }
            },
            "type": "bar"
           }
          ],
          "barpolar": [
           {
            "marker": {
             "line": {
              "color": "#E5ECF6",
              "width": 0.5
             },
             "pattern": {
              "fillmode": "overlay",
              "size": 10,
              "solidity": 0.2
             }
            },
            "type": "barpolar"
           }
          ],
          "carpet": [
           {
            "aaxis": {
             "endlinecolor": "#2a3f5f",
             "gridcolor": "white",
             "linecolor": "white",
             "minorgridcolor": "white",
             "startlinecolor": "#2a3f5f"
            },
            "baxis": {
             "endlinecolor": "#2a3f5f",
             "gridcolor": "white",
             "linecolor": "white",
             "minorgridcolor": "white",
             "startlinecolor": "#2a3f5f"
            },
            "type": "carpet"
           }
          ],
          "choropleth": [
           {
            "colorbar": {
             "outlinewidth": 0,
             "ticks": ""
            },
            "type": "choropleth"
           }
          ],
          "contour": [
           {
            "colorbar": {
             "outlinewidth": 0,
             "ticks": ""
            },
            "colorscale": [
             [
              0,
              "#0d0887"
             ],
             [
              0.1111111111111111,
              "#46039f"
             ],
             [
              0.2222222222222222,
              "#7201a8"
             ],
             [
              0.3333333333333333,
              "#9c179e"
             ],
             [
              0.4444444444444444,
              "#bd3786"
             ],
             [
              0.5555555555555556,
              "#d8576b"
             ],
             [
              0.6666666666666666,
              "#ed7953"
             ],
             [
              0.7777777777777778,
              "#fb9f3a"
             ],
             [
              0.8888888888888888,
              "#fdca26"
             ],
             [
              1,
              "#f0f921"
             ]
            ],
            "type": "contour"
           }
          ],
          "contourcarpet": [
           {
            "colorbar": {
             "outlinewidth": 0,
             "ticks": ""
            },
            "type": "contourcarpet"
           }
          ],
          "heatmap": [
           {
            "colorbar": {
             "outlinewidth": 0,
             "ticks": ""
            },
            "colorscale": [
             [
              0,
              "#0d0887"
             ],
             [
              0.1111111111111111,
              "#46039f"
             ],
             [
              0.2222222222222222,
              "#7201a8"
             ],
             [
              0.3333333333333333,
              "#9c179e"
             ],
             [
              0.4444444444444444,
              "#bd3786"
             ],
             [
              0.5555555555555556,
              "#d8576b"
             ],
             [
              0.6666666666666666,
              "#ed7953"
             ],
             [
              0.7777777777777778,
              "#fb9f3a"
             ],
             [
              0.8888888888888888,
              "#fdca26"
             ],
             [
              1,
              "#f0f921"
             ]
            ],
            "type": "heatmap"
           }
          ],
          "heatmapgl": [
           {
            "colorbar": {
             "outlinewidth": 0,
             "ticks": ""
            },
            "colorscale": [
             [
              0,
              "#0d0887"
             ],
             [
              0.1111111111111111,
              "#46039f"
             ],
             [
              0.2222222222222222,
              "#7201a8"
             ],
             [
              0.3333333333333333,
              "#9c179e"
             ],
             [
              0.4444444444444444,
              "#bd3786"
             ],
             [
              0.5555555555555556,
              "#d8576b"
             ],
             [
              0.6666666666666666,
              "#ed7953"
             ],
             [
              0.7777777777777778,
              "#fb9f3a"
             ],
             [
              0.8888888888888888,
              "#fdca26"
             ],
             [
              1,
              "#f0f921"
             ]
            ],
            "type": "heatmapgl"
           }
          ],
          "histogram": [
           {
            "marker": {
             "pattern": {
              "fillmode": "overlay",
              "size": 10,
              "solidity": 0.2
             }
            },
            "type": "histogram"
           }
          ],
          "histogram2d": [
           {
            "colorbar": {
             "outlinewidth": 0,
             "ticks": ""
            },
            "colorscale": [
             [
              0,
              "#0d0887"
             ],
             [
              0.1111111111111111,
              "#46039f"
             ],
             [
              0.2222222222222222,
              "#7201a8"
             ],
             [
              0.3333333333333333,
              "#9c179e"
             ],
             [
              0.4444444444444444,
              "#bd3786"
             ],
             [
              0.5555555555555556,
              "#d8576b"
             ],
             [
              0.6666666666666666,
              "#ed7953"
             ],
             [
              0.7777777777777778,
              "#fb9f3a"
             ],
             [
              0.8888888888888888,
              "#fdca26"
             ],
             [
              1,
              "#f0f921"
             ]
            ],
            "type": "histogram2d"
           }
          ],
          "histogram2dcontour": [
           {
            "colorbar": {
             "outlinewidth": 0,
             "ticks": ""
            },
            "colorscale": [
             [
              0,
              "#0d0887"
             ],
             [
              0.1111111111111111,
              "#46039f"
             ],
             [
              0.2222222222222222,
              "#7201a8"
             ],
             [
              0.3333333333333333,
              "#9c179e"
             ],
             [
              0.4444444444444444,
              "#bd3786"
             ],
             [
              0.5555555555555556,
              "#d8576b"
             ],
             [
              0.6666666666666666,
              "#ed7953"
             ],
             [
              0.7777777777777778,
              "#fb9f3a"
             ],
             [
              0.8888888888888888,
              "#fdca26"
             ],
             [
              1,
              "#f0f921"
             ]
            ],
            "type": "histogram2dcontour"
           }
          ],
          "mesh3d": [
           {
            "colorbar": {
             "outlinewidth": 0,
             "ticks": ""
            },
            "type": "mesh3d"
           }
          ],
          "parcoords": [
           {
            "line": {
             "colorbar": {
              "outlinewidth": 0,
              "ticks": ""
             }
            },
            "type": "parcoords"
           }
          ],
          "pie": [
           {
            "automargin": true,
            "type": "pie"
           }
          ],
          "scatter": [
           {
            "fillpattern": {
             "fillmode": "overlay",
             "size": 10,
             "solidity": 0.2
            },
            "type": "scatter"
           }
          ],
          "scatter3d": [
           {
            "line": {
             "colorbar": {
              "outlinewidth": 0,
              "ticks": ""
             }
            },
            "marker": {
             "colorbar": {
              "outlinewidth": 0,
              "ticks": ""
             }
            },
            "type": "scatter3d"
           }
          ],
          "scattercarpet": [
           {
            "marker": {
             "colorbar": {
              "outlinewidth": 0,
              "ticks": ""
             }
            },
            "type": "scattercarpet"
           }
          ],
          "scattergeo": [
           {
            "marker": {
             "colorbar": {
              "outlinewidth": 0,
              "ticks": ""
             }
            },
            "type": "scattergeo"
           }
          ],
          "scattergl": [
           {
            "marker": {
             "colorbar": {
              "outlinewidth": 0,
              "ticks": ""
             }
            },
            "type": "scattergl"
           }
          ],
          "scattermapbox": [
           {
            "marker": {
             "colorbar": {
              "outlinewidth": 0,
              "ticks": ""
             }
            },
            "type": "scattermapbox"
           }
          ],
          "scatterpolar": [
           {
            "marker": {
             "colorbar": {
              "outlinewidth": 0,
              "ticks": ""
             }
            },
            "type": "scatterpolar"
           }
          ],
          "scatterpolargl": [
           {
            "marker": {
             "colorbar": {
              "outlinewidth": 0,
              "ticks": ""
             }
            },
            "type": "scatterpolargl"
           }
          ],
          "scatterternary": [
           {
            "marker": {
             "colorbar": {
              "outlinewidth": 0,
              "ticks": ""
             }
            },
            "type": "scatterternary"
           }
          ],
          "surface": [
           {
            "colorbar": {
             "outlinewidth": 0,
             "ticks": ""
            },
            "colorscale": [
             [
              0,
              "#0d0887"
             ],
             [
              0.1111111111111111,
              "#46039f"
             ],
             [
              0.2222222222222222,
              "#7201a8"
             ],
             [
              0.3333333333333333,
              "#9c179e"
             ],
             [
              0.4444444444444444,
              "#bd3786"
             ],
             [
              0.5555555555555556,
              "#d8576b"
             ],
             [
              0.6666666666666666,
              "#ed7953"
             ],
             [
              0.7777777777777778,
              "#fb9f3a"
             ],
             [
              0.8888888888888888,
              "#fdca26"
             ],
             [
              1,
              "#f0f921"
             ]
            ],
            "type": "surface"
           }
          ],
          "table": [
           {
            "cells": {
             "fill": {
              "color": "#EBF0F8"
             },
             "line": {
              "color": "white"
             }
            },
            "header": {
             "fill": {
              "color": "#C8D4E3"
             },
             "line": {
              "color": "white"
             }
            },
            "type": "table"
           }
          ]
         },
         "layout": {
          "annotationdefaults": {
           "arrowcolor": "#2a3f5f",
           "arrowhead": 0,
           "arrowwidth": 1
          },
          "autotypenumbers": "strict",
          "coloraxis": {
           "colorbar": {
            "outlinewidth": 0,
            "ticks": ""
           }
          },
          "colorscale": {
           "diverging": [
            [
             0,
             "#8e0152"
            ],
            [
             0.1,
             "#c51b7d"
            ],
            [
             0.2,
             "#de77ae"
            ],
            [
             0.3,
             "#f1b6da"
            ],
            [
             0.4,
             "#fde0ef"
            ],
            [
             0.5,
             "#f7f7f7"
            ],
            [
             0.6,
             "#e6f5d0"
            ],
            [
             0.7,
             "#b8e186"
            ],
            [
             0.8,
             "#7fbc41"
            ],
            [
             0.9,
             "#4d9221"
            ],
            [
             1,
             "#276419"
            ]
           ],
           "sequential": [
            [
             0,
             "#0d0887"
            ],
            [
             0.1111111111111111,
             "#46039f"
            ],
            [
             0.2222222222222222,
             "#7201a8"
            ],
            [
             0.3333333333333333,
             "#9c179e"
            ],
            [
             0.4444444444444444,
             "#bd3786"
            ],
            [
             0.5555555555555556,
             "#d8576b"
            ],
            [
             0.6666666666666666,
             "#ed7953"
            ],
            [
             0.7777777777777778,
             "#fb9f3a"
            ],
            [
             0.8888888888888888,
             "#fdca26"
            ],
            [
             1,
             "#f0f921"
            ]
           ],
           "sequentialminus": [
            [
             0,
             "#0d0887"
            ],
            [
             0.1111111111111111,
             "#46039f"
            ],
            [
             0.2222222222222222,
             "#7201a8"
            ],
            [
             0.3333333333333333,
             "#9c179e"
            ],
            [
             0.4444444444444444,
             "#bd3786"
            ],
            [
             0.5555555555555556,
             "#d8576b"
            ],
            [
             0.6666666666666666,
             "#ed7953"
            ],
            [
             0.7777777777777778,
             "#fb9f3a"
            ],
            [
             0.8888888888888888,
             "#fdca26"
            ],
            [
             1,
             "#f0f921"
            ]
           ]
          },
          "colorway": [
           "#636efa",
           "#EF553B",
           "#00cc96",
           "#ab63fa",
           "#FFA15A",
           "#19d3f3",
           "#FF6692",
           "#B6E880",
           "#FF97FF",
           "#FECB52"
          ],
          "font": {
           "color": "#2a3f5f"
          },
          "geo": {
           "bgcolor": "white",
           "lakecolor": "white",
           "landcolor": "#E5ECF6",
           "showlakes": true,
           "showland": true,
           "subunitcolor": "white"
          },
          "hoverlabel": {
           "align": "left"
          },
          "hovermode": "closest",
          "mapbox": {
           "style": "light"
          },
          "paper_bgcolor": "white",
          "plot_bgcolor": "#E5ECF6",
          "polar": {
           "angularaxis": {
            "gridcolor": "white",
            "linecolor": "white",
            "ticks": ""
           },
           "bgcolor": "#E5ECF6",
           "radialaxis": {
            "gridcolor": "white",
            "linecolor": "white",
            "ticks": ""
           }
          },
          "scene": {
           "xaxis": {
            "backgroundcolor": "#E5ECF6",
            "gridcolor": "white",
            "gridwidth": 2,
            "linecolor": "white",
            "showbackground": true,
            "ticks": "",
            "zerolinecolor": "white"
           },
           "yaxis": {
            "backgroundcolor": "#E5ECF6",
            "gridcolor": "white",
            "gridwidth": 2,
            "linecolor": "white",
            "showbackground": true,
            "ticks": "",
            "zerolinecolor": "white"
           },
           "zaxis": {
            "backgroundcolor": "#E5ECF6",
            "gridcolor": "white",
            "gridwidth": 2,
            "linecolor": "white",
            "showbackground": true,
            "ticks": "",
            "zerolinecolor": "white"
           }
          },
          "shapedefaults": {
           "line": {
            "color": "#2a3f5f"
           }
          },
          "ternary": {
           "aaxis": {
            "gridcolor": "white",
            "linecolor": "white",
            "ticks": ""
           },
           "baxis": {
            "gridcolor": "white",
            "linecolor": "white",
            "ticks": ""
           },
           "bgcolor": "#E5ECF6",
           "caxis": {
            "gridcolor": "white",
            "linecolor": "white",
            "ticks": ""
           }
          },
          "title": {
           "x": 0.05
          },
          "xaxis": {
           "automargin": true,
           "gridcolor": "white",
           "linecolor": "white",
           "ticks": "",
           "title": {
            "standoff": 15
           },
           "zerolinecolor": "white",
           "zerolinewidth": 2
          },
          "yaxis": {
           "automargin": true,
           "gridcolor": "white",
           "linecolor": "white",
           "ticks": "",
           "title": {
            "standoff": 15
           },
           "zerolinecolor": "white",
           "zerolinewidth": 2
          }
         }
        },
        "title": {
         "text": "Top 10 E-commerce Domains"
        },
        "xaxis": {
         "anchor": "y",
         "domain": [
          0,
          1
         ],
         "title": {
          "text": "base_url"
         }
        },
        "yaxis": {
         "anchor": "x",
         "domain": [
          0,
          1
         ],
         "title": {
          "text": "Visits"
         }
        }
       }
      }
     },
     "metadata": {},
     "output_type": "display_data"
    },
    {
     "data": {
      "application/vnd.plotly.v1+json": {
       "config": {
        "plotlyServerURL": "https://plot.ly"
       },
       "data": [
        {
         "domain": {
          "x": [
           0,
           1
          ],
          "y": [
           0,
           1
          ]
         },
         "hovertemplate": "transition_type=%{label}<br>count=%{value}<extra></extra>",
         "labels": [
          "link",
          "reload",
          "form_submit",
          "typed",
          "auto_toplevel"
         ],
         "legendgroup": "",
         "name": "",
         "showlegend": true,
         "type": "pie",
         "values": [
          449,
          50,
          27,
          14,
          7
         ]
        }
       ],
       "layout": {
        "legend": {
         "tracegroupgap": 0
        },
        "template": {
         "data": {
          "bar": [
           {
            "error_x": {
             "color": "#2a3f5f"
            },
            "error_y": {
             "color": "#2a3f5f"
            },
            "marker": {
             "line": {
              "color": "#E5ECF6",
              "width": 0.5
             },
             "pattern": {
              "fillmode": "overlay",
              "size": 10,
              "solidity": 0.2
             }
            },
            "type": "bar"
           }
          ],
          "barpolar": [
           {
            "marker": {
             "line": {
              "color": "#E5ECF6",
              "width": 0.5
             },
             "pattern": {
              "fillmode": "overlay",
              "size": 10,
              "solidity": 0.2
             }
            },
            "type": "barpolar"
           }
          ],
          "carpet": [
           {
            "aaxis": {
             "endlinecolor": "#2a3f5f",
             "gridcolor": "white",
             "linecolor": "white",
             "minorgridcolor": "white",
             "startlinecolor": "#2a3f5f"
            },
            "baxis": {
             "endlinecolor": "#2a3f5f",
             "gridcolor": "white",
             "linecolor": "white",
             "minorgridcolor": "white",
             "startlinecolor": "#2a3f5f"
            },
            "type": "carpet"
           }
          ],
          "choropleth": [
           {
            "colorbar": {
             "outlinewidth": 0,
             "ticks": ""
            },
            "type": "choropleth"
           }
          ],
          "contour": [
           {
            "colorbar": {
             "outlinewidth": 0,
             "ticks": ""
            },
            "colorscale": [
             [
              0,
              "#0d0887"
             ],
             [
              0.1111111111111111,
              "#46039f"
             ],
             [
              0.2222222222222222,
              "#7201a8"
             ],
             [
              0.3333333333333333,
              "#9c179e"
             ],
             [
              0.4444444444444444,
              "#bd3786"
             ],
             [
              0.5555555555555556,
              "#d8576b"
             ],
             [
              0.6666666666666666,
              "#ed7953"
             ],
             [
              0.7777777777777778,
              "#fb9f3a"
             ],
             [
              0.8888888888888888,
              "#fdca26"
             ],
             [
              1,
              "#f0f921"
             ]
            ],
            "type": "contour"
           }
          ],
          "contourcarpet": [
           {
            "colorbar": {
             "outlinewidth": 0,
             "ticks": ""
            },
            "type": "contourcarpet"
           }
          ],
          "heatmap": [
           {
            "colorbar": {
             "outlinewidth": 0,
             "ticks": ""
            },
            "colorscale": [
             [
              0,
              "#0d0887"
             ],
             [
              0.1111111111111111,
              "#46039f"
             ],
             [
              0.2222222222222222,
              "#7201a8"
             ],
             [
              0.3333333333333333,
              "#9c179e"
             ],
             [
              0.4444444444444444,
              "#bd3786"
             ],
             [
              0.5555555555555556,
              "#d8576b"
             ],
             [
              0.6666666666666666,
              "#ed7953"
             ],
             [
              0.7777777777777778,
              "#fb9f3a"
             ],
             [
              0.8888888888888888,
              "#fdca26"
             ],
             [
              1,
              "#f0f921"
             ]
            ],
            "type": "heatmap"
           }
          ],
          "heatmapgl": [
           {
            "colorbar": {
             "outlinewidth": 0,
             "ticks": ""
            },
            "colorscale": [
             [
              0,
              "#0d0887"
             ],
             [
              0.1111111111111111,
              "#46039f"
             ],
             [
              0.2222222222222222,
              "#7201a8"
             ],
             [
              0.3333333333333333,
              "#9c179e"
             ],
             [
              0.4444444444444444,
              "#bd3786"
             ],
             [
              0.5555555555555556,
              "#d8576b"
             ],
             [
              0.6666666666666666,
              "#ed7953"
             ],
             [
              0.7777777777777778,
              "#fb9f3a"
             ],
             [
              0.8888888888888888,
              "#fdca26"
             ],
             [
              1,
              "#f0f921"
             ]
            ],
            "type": "heatmapgl"
           }
          ],
          "histogram": [
           {
            "marker": {
             "pattern": {
              "fillmode": "overlay",
              "size": 10,
              "solidity": 0.2
             }
            },
            "type": "histogram"
           }
          ],
          "histogram2d": [
           {
            "colorbar": {
             "outlinewidth": 0,
             "ticks": ""
            },
            "colorscale": [
             [
              0,
              "#0d0887"
             ],
             [
              0.1111111111111111,
              "#46039f"
             ],
             [
              0.2222222222222222,
              "#7201a8"
             ],
             [
              0.3333333333333333,
              "#9c179e"
             ],
             [
              0.4444444444444444,
              "#bd3786"
             ],
             [
              0.5555555555555556,
              "#d8576b"
             ],
             [
              0.6666666666666666,
              "#ed7953"
             ],
             [
              0.7777777777777778,
              "#fb9f3a"
             ],
             [
              0.8888888888888888,
              "#fdca26"
             ],
             [
              1,
              "#f0f921"
             ]
            ],
            "type": "histogram2d"
           }
          ],
          "histogram2dcontour": [
           {
            "colorbar": {
             "outlinewidth": 0,
             "ticks": ""
            },
            "colorscale": [
             [
              0,
              "#0d0887"
             ],
             [
              0.1111111111111111,
              "#46039f"
             ],
             [
              0.2222222222222222,
              "#7201a8"
             ],
             [
              0.3333333333333333,
              "#9c179e"
             ],
             [
              0.4444444444444444,
              "#bd3786"
             ],
             [
              0.5555555555555556,
              "#d8576b"
             ],
             [
              0.6666666666666666,
              "#ed7953"
             ],
             [
              0.7777777777777778,
              "#fb9f3a"
             ],
             [
              0.8888888888888888,
              "#fdca26"
             ],
             [
              1,
              "#f0f921"
             ]
            ],
            "type": "histogram2dcontour"
           }
          ],
          "mesh3d": [
           {
            "colorbar": {
             "outlinewidth": 0,
             "ticks": ""
            },
            "type": "mesh3d"
           }
          ],
          "parcoords": [
           {
            "line": {
             "colorbar": {
              "outlinewidth": 0,
              "ticks": ""
             }
            },
            "type": "parcoords"
           }
          ],
          "pie": [
           {
            "automargin": true,
            "type": "pie"
           }
          ],
          "scatter": [
           {
            "fillpattern": {
             "fillmode": "overlay",
             "size": 10,
             "solidity": 0.2
            },
            "type": "scatter"
           }
          ],
          "scatter3d": [
           {
            "line": {
             "colorbar": {
              "outlinewidth": 0,
              "ticks": ""
             }
            },
            "marker": {
             "colorbar": {
              "outlinewidth": 0,
              "ticks": ""
             }
            },
            "type": "scatter3d"
           }
          ],
          "scattercarpet": [
           {
            "marker": {
             "colorbar": {
              "outlinewidth": 0,
              "ticks": ""
             }
            },
            "type": "scattercarpet"
           }
          ],
          "scattergeo": [
           {
            "marker": {
             "colorbar": {
              "outlinewidth": 0,
              "ticks": ""
             }
            },
            "type": "scattergeo"
           }
          ],
          "scattergl": [
           {
            "marker": {
             "colorbar": {
              "outlinewidth": 0,
              "ticks": ""
             }
            },
            "type": "scattergl"
           }
          ],
          "scattermapbox": [
           {
            "marker": {
             "colorbar": {
              "outlinewidth": 0,
              "ticks": ""
             }
            },
            "type": "scattermapbox"
           }
          ],
          "scatterpolar": [
           {
            "marker": {
             "colorbar": {
              "outlinewidth": 0,
              "ticks": ""
             }
            },
            "type": "scatterpolar"
           }
          ],
          "scatterpolargl": [
           {
            "marker": {
             "colorbar": {
              "outlinewidth": 0,
              "ticks": ""
             }
            },
            "type": "scatterpolargl"
           }
          ],
          "scatterternary": [
           {
            "marker": {
             "colorbar": {
              "outlinewidth": 0,
              "ticks": ""
             }
            },
            "type": "scatterternary"
           }
          ],
          "surface": [
           {
            "colorbar": {
             "outlinewidth": 0,
             "ticks": ""
            },
            "colorscale": [
             [
              0,
              "#0d0887"
             ],
             [
              0.1111111111111111,
              "#46039f"
             ],
             [
              0.2222222222222222,
              "#7201a8"
             ],
             [
              0.3333333333333333,
              "#9c179e"
             ],
             [
              0.4444444444444444,
              "#bd3786"
             ],
             [
              0.5555555555555556,
              "#d8576b"
             ],
             [
              0.6666666666666666,
              "#ed7953"
             ],
             [
              0.7777777777777778,
              "#fb9f3a"
             ],
             [
              0.8888888888888888,
              "#fdca26"
             ],
             [
              1,
              "#f0f921"
             ]
            ],
            "type": "surface"
           }
          ],
          "table": [
           {
            "cells": {
             "fill": {
              "color": "#EBF0F8"
             },
             "line": {
              "color": "white"
             }
            },
            "header": {
             "fill": {
              "color": "#C8D4E3"
             },
             "line": {
              "color": "white"
             }
            },
            "type": "table"
           }
          ]
         },
         "layout": {
          "annotationdefaults": {
           "arrowcolor": "#2a3f5f",
           "arrowhead": 0,
           "arrowwidth": 1
          },
          "autotypenumbers": "strict",
          "coloraxis": {
           "colorbar": {
            "outlinewidth": 0,
            "ticks": ""
           }
          },
          "colorscale": {
           "diverging": [
            [
             0,
             "#8e0152"
            ],
            [
             0.1,
             "#c51b7d"
            ],
            [
             0.2,
             "#de77ae"
            ],
            [
             0.3,
             "#f1b6da"
            ],
            [
             0.4,
             "#fde0ef"
            ],
            [
             0.5,
             "#f7f7f7"
            ],
            [
             0.6,
             "#e6f5d0"
            ],
            [
             0.7,
             "#b8e186"
            ],
            [
             0.8,
             "#7fbc41"
            ],
            [
             0.9,
             "#4d9221"
            ],
            [
             1,
             "#276419"
            ]
           ],
           "sequential": [
            [
             0,
             "#0d0887"
            ],
            [
             0.1111111111111111,
             "#46039f"
            ],
            [
             0.2222222222222222,
             "#7201a8"
            ],
            [
             0.3333333333333333,
             "#9c179e"
            ],
            [
             0.4444444444444444,
             "#bd3786"
            ],
            [
             0.5555555555555556,
             "#d8576b"
            ],
            [
             0.6666666666666666,
             "#ed7953"
            ],
            [
             0.7777777777777778,
             "#fb9f3a"
            ],
            [
             0.8888888888888888,
             "#fdca26"
            ],
            [
             1,
             "#f0f921"
            ]
           ],
           "sequentialminus": [
            [
             0,
             "#0d0887"
            ],
            [
             0.1111111111111111,
             "#46039f"
            ],
            [
             0.2222222222222222,
             "#7201a8"
            ],
            [
             0.3333333333333333,
             "#9c179e"
            ],
            [
             0.4444444444444444,
             "#bd3786"
            ],
            [
             0.5555555555555556,
             "#d8576b"
            ],
            [
             0.6666666666666666,
             "#ed7953"
            ],
            [
             0.7777777777777778,
             "#fb9f3a"
            ],
            [
             0.8888888888888888,
             "#fdca26"
            ],
            [
             1,
             "#f0f921"
            ]
           ]
          },
          "colorway": [
           "#636efa",
           "#EF553B",
           "#00cc96",
           "#ab63fa",
           "#FFA15A",
           "#19d3f3",
           "#FF6692",
           "#B6E880",
           "#FF97FF",
           "#FECB52"
          ],
          "font": {
           "color": "#2a3f5f"
          },
          "geo": {
           "bgcolor": "white",
           "lakecolor": "white",
           "landcolor": "#E5ECF6",
           "showlakes": true,
           "showland": true,
           "subunitcolor": "white"
          },
          "hoverlabel": {
           "align": "left"
          },
          "hovermode": "closest",
          "mapbox": {
           "style": "light"
          },
          "paper_bgcolor": "white",
          "plot_bgcolor": "#E5ECF6",
          "polar": {
           "angularaxis": {
            "gridcolor": "white",
            "linecolor": "white",
            "ticks": ""
           },
           "bgcolor": "#E5ECF6",
           "radialaxis": {
            "gridcolor": "white",
            "linecolor": "white",
            "ticks": ""
           }
          },
          "scene": {
           "xaxis": {
            "backgroundcolor": "#E5ECF6",
            "gridcolor": "white",
            "gridwidth": 2,
            "linecolor": "white",
            "showbackground": true,
            "ticks": "",
            "zerolinecolor": "white"
           },
           "yaxis": {
            "backgroundcolor": "#E5ECF6",
            "gridcolor": "white",
            "gridwidth": 2,
            "linecolor": "white",
            "showbackground": true,
            "ticks": "",
            "zerolinecolor": "white"
           },
           "zaxis": {
            "backgroundcolor": "#E5ECF6",
            "gridcolor": "white",
            "gridwidth": 2,
            "linecolor": "white",
            "showbackground": true,
            "ticks": "",
            "zerolinecolor": "white"
           }
          },
          "shapedefaults": {
           "line": {
            "color": "#2a3f5f"
           }
          },
          "ternary": {
           "aaxis": {
            "gridcolor": "white",
            "linecolor": "white",
            "ticks": ""
           },
           "baxis": {
            "gridcolor": "white",
            "linecolor": "white",
            "ticks": ""
           },
           "bgcolor": "#E5ECF6",
           "caxis": {
            "gridcolor": "white",
            "linecolor": "white",
            "ticks": ""
           }
          },
          "title": {
           "x": 0.05
          },
          "xaxis": {
           "automargin": true,
           "gridcolor": "white",
           "linecolor": "white",
           "ticks": "",
           "title": {
            "standoff": 15
           },
           "zerolinecolor": "white",
           "zerolinewidth": 2
          },
          "yaxis": {
           "automargin": true,
           "gridcolor": "white",
           "linecolor": "white",
           "ticks": "",
           "title": {
            "standoff": 15
           },
           "zerolinecolor": "white",
           "zerolinewidth": 2
          }
         }
        },
        "title": {
         "text": "Entry Methods to E-commerce Sites"
        }
       }
      }
     },
     "metadata": {},
     "output_type": "display_data"
    },
    {
     "name": "stdout",
     "output_type": "stream",
     "text": [
      "\n",
      "Session Statistics:\n",
      "Median session duration: 0.0 minutes\n",
      "Average pages per session: 4.5\n"
     ]
    }
   ],
   "source": [
    "def analyze_ecommerce_activity(df):\n",
    "    # Filter e-commerce data\n",
    "    ecom_df = df[df['category'] == 'e_commerce'].copy()\n",
    "    \n",
    "    # 1. Basic Stats\n",
    "    print(f\"Total e-commerce visits: {len(ecom_df)}\")\n",
    "    print(f\"Unique e-commerce domains: {ecom_df['base_url'].nunique()}\")\n",
    "    print(f\"Time range: {ecom_df['eventtimeutc'].min()} to {ecom_df['eventtimeutc'].max()}\")\n",
    "\n",
    "    # 2. Temporal Analysis\n",
    "    # Hourly pattern\n",
    "    ecom_df['hour'] = ecom_df['eventtimeutc'].dt.hour\n",
    "    hourly = ecom_df.groupby('hour').size().reset_index(name='visits')\n",
    "    \n",
    "    fig = px.bar(hourly, x='hour', y='visits', \n",
    "                 title='E-commerce Activity by Hour',\n",
    "                 labels={'hour': 'Hour of Day (UTC)', 'visits': 'Visits'})\n",
    "    fig.update_layout(xaxis=dict(tickmode='linear', dtick=1))\n",
    "    fig.show()\n",
    "\n",
    "    # Daily pattern\n",
    "    ecom_df['day_of_week'] = ecom_df['eventtimeutc'].dt.day_name()\n",
    "    weekday_order = ['Monday', 'Tuesday', 'Wednesday', 'Thursday', 'Friday', 'Saturday', 'Sunday']\n",
    "    daily = ecom_df.groupby('day_of_week').size().reindex(weekday_order).reset_index(name='visits')\n",
    "    \n",
    "    fig = px.bar(daily, x='day_of_week', y='visits',\n",
    "                 title='E-commerce Activity by Day of Week',\n",
    "                 labels={'day_of_week': 'Day', 'visits': 'Visits'})\n",
    "    fig.show()\n",
    "\n",
    "    # 3. Domain Analysis\n",
    "    domain_stats = ecom_df['base_url'].value_counts().head(10).reset_index()\n",
    "    domain_stats.columns = ['base_url', 'visits']\n",
    "    \n",
    "    fig = px.bar(domain_stats, x='base_url', y='visits',\n",
    "                 title='Top 10 E-commerce Domains',\n",
    "                 labels={'base_url': 'base_url', 'visits': 'Visits'})\n",
    "    fig.show()\n",
    "\n",
    "    # 4. Transition Type Analysis\n",
    "    transition_stats = ecom_df['transition'].value_counts().reset_index()\n",
    "    transition_stats.columns = ['transition_type', 'count']\n",
    "    \n",
    "    fig = px.pie(transition_stats, names='transition_type', values='count',\n",
    "                 title='Entry Methods to E-commerce Sites')\n",
    "    fig.show()\n",
    "\n",
    "    # 5. Session Analysis (within e-commerce category)\n",
    "    ecom_df = ecom_df.sort_values('eventtimeutc')\n",
    "    ecom_df['time_diff'] = ecom_df['eventtimeutc'].diff().fillna(pd.Timedelta(0))\n",
    "    ecom_df['session_id'] = (ecom_df['time_diff'] > pd.Timedelta(minutes=5)).cumsum()\n",
    "    \n",
    "    sessions = ecom_df.groupby('session_id').agg(\n",
    "        duration=('eventtimeutc', lambda x: (x.max() - x.min()).total_seconds() / 60),\n",
    "        page_views=('url', 'count')\n",
    "    ).reset_index()\n",
    "    \n",
    "    print(\"\\nSession Statistics:\")\n",
    "    print(f\"Median session duration: {sessions['duration'].median():.1f} minutes\")\n",
    "    print(f\"Average pages per session: {sessions['page_views'].mean():.1f}\")\n",
    "    \n",
    "    return ecom_df, sessions\n",
    "\n",
    "# Run analysis\n",
    "ecom_data, session_stats = analyze_ecommerce_activity(df)"
   ]
  },
  {
   "cell_type": "code",
   "execution_count": 42,
   "id": "d45f3651",
   "metadata": {},
   "outputs": [
    {
     "name": "stdout",
     "output_type": "stream",
     "text": [
      "Top E-Commerce Sites:\n",
      "base_url\n",
      "www.amazon.in             123\n",
      "www.tractorsupply.com      33\n",
      "www.homedepot.com          32\n",
      "htmltemplates.co           17\n",
      "www.flipkart.com           17\n",
      "www.amazon.com             17\n",
      "silmedspa.com              14\n",
      "client.ipostalmail.net     13\n",
      "quickpay.hmshost.com       13\n",
      "www.target.com             13\n",
      "Name: count, dtype: int64\n"
     ]
    }
   ],
   "source": [
    "ecom_df = df[df['category'] == 'e_commerce'].copy()\n",
    "top_domains = ecom_df['base_url'].value_counts().head(10)\n",
    "print(\"Top E-Commerce Sites:\")\n",
    "print(top_domains)"
   ]
  },
  {
   "cell_type": "code",
   "execution_count": 43,
   "id": "29dcd99e",
   "metadata": {},
   "outputs": [
    {
     "data": {
      "text/plain": [
       "217"
      ]
     },
     "execution_count": 43,
     "metadata": {},
     "output_type": "execute_result"
    }
   ],
   "source": [
    "titles = ecom_df['title'].tolist()\n",
    "#unique titles\n",
    "unique_titles = ecom_df['title'].unique()\n",
    "#length of unique titles\n",
    "len(unique_titles)"
   ]
  },
  {
   "cell_type": "code",
   "execution_count": 44,
   "id": "7778f2c6",
   "metadata": {},
   "outputs": [
    {
     "name": "stdout",
     "output_type": "stream",
     "text": [
      "    Cluster                                      Merged Titles\n",
      "0         0                       [Clutter | Moving & Storage]\n",
      "1         1  [British Gas, Shopping Cart | Tractor Supply C...\n",
      "2         2  [Valentine &#39; s Day Gifts for Dogs & Cats |...\n",
      "3         3  [Murphy Beds — Sacramento Furniture Store, Dri...\n",
      "4         4  [1 inch Horse Stall Tiles - Equine Floor Mats,...\n",
      "5         5  [Amazon.in : jungle leaf fondant butter, Amazo...\n",
      "6         6  [Buy RKPM HOMES 4 Pieces Tropical Leaf Cookie ...\n",
      "7         7  [We’re Behaviorally. Guided with Decision Prec...\n",
      "8         8  [Prime Video | Watch movies &#44;  TV shows &#...\n",
      "9         9  [California Pizza Kitchen - Quickpay, Persiste...\n",
      "10       10  [Search results | DublinRecGuide, Resource det...\n",
      "11       11  [ISDIN Pediatrics Fusion Water SPF 50 50ml | F...\n",
      "12       12  [TriValley Ice Field Trip, Zero Gravity - Expe...\n",
      "13       13  [Thomsoon portfolio - Free Minimalist Responsi...\n",
      "14       14  [YOULY | Petco, Will You See Dolphins on a For...\n",
      "15       15  [Online Shopping site in India: Shop Online fo...\n",
      "16       16  [Amazon.in : dinosaur backpack for kids, Amazo...\n"
     ]
    },
    {
     "name": "stderr",
     "output_type": "stream",
     "text": [
      "c:\\ProgramData\\anaconda3\\Lib\\site-packages\\sklearn\\cluster\\_kmeans.py:1429: UserWarning:\n",
      "\n",
      "KMeans is known to have a memory leak on Windows with MKL, when there are less chunks than available threads. You can avoid it by setting the environment variable OMP_NUM_THREADS=1.\n",
      "\n"
     ]
    }
   ],
   "source": [
    "model = SentenceTransformer('all-MiniLM-L6-v2')\n",
    "embeddings = model.encode(unique_titles, convert_to_tensor=True)\n",
    "\n",
    "# Cluster with K-Means\n",
    "kmeans = KMeans(n_clusters=17, random_state=42)\n",
    "clusters = kmeans.fit_predict(embeddings.cpu().numpy())\n",
    "\n",
    "# Display results\n",
    "dfx = pd.DataFrame({\"Title\": unique_titles, \"Cluster\": clusters})\n",
    "# Filter out empty or invalid titles\n",
    "dfx = dfx[dfx['Title'].notnull() & (dfx['Title'].str.strip() != '')]\n",
    "\n",
    "# Group titles by cluster\n",
    "grouped = dfx.groupby('Cluster')['Title'].apply(list).reset_index()\n",
    "\n",
    "#  rotate the titles in each cluster\n",
    "# This rotates (shifts) the list of titles by 1\n",
    "grouped['Rotated Titles'] = grouped['Title'].apply(lambda x: x[1:] + x[:1] if len(x) > 1 else x)\n",
    "# 3. Merge the titles into a single list per cluster\n",
    "grouped['Merged Titles'] = grouped['Rotated Titles'].apply(lambda x: x)\n",
    "\n",
    "# Final Result\n",
    "print(grouped[['Cluster', 'Merged Titles']])"
   ]
  },
  {
   "cell_type": "code",
   "execution_count": null,
   "id": "5986d395",
   "metadata": {},
   "outputs": [],
   "source": [
    "grouped = grouped.drop(columns=['Title'])\n",
    "grouped = grouped.drop(columns=['Rotated Titles'])\n",
    "#rename the column 'Merged Titles' to 'Titles'\n",
    "grouped = grouped.rename(columns={'Merged Titles': 'Titles'})\n",
    "\n",
    "#replace with your google api key\n",
    "\n",
    "GENAI_API_KEY = \"YOUR KEY\"\n",
    "from google import genai\n",
    "def generate(url):\n",
    "    client = genai.Client(api_key=GENAI_API_KEY)\n",
    "    #list to string\n",
    "    url = ', '.join(url)\n",
    "\n",
    "    response = client.models.generate_content(\n",
    "    model=\"gemini-2.0-flash\", contents=(\"Output category of puchese of items in single world puchese have some outliers ignor it , if all are outlier output other. eg-Electronics, Fashion, Home & Kitchen, Health & Beauty, Sports & Outdoors, Books & Stationery, puchese: \" + url + \" \"),\n",
    ")\n",
    "    return response.text\n",
    "# set tpye of cluster using the function generate send titles as string not list\n",
    "for i in range(len(grouped)):\n",
    "    try:\n",
    "        grouped.loc[i, 'category'] = generate(grouped.loc[i, 'Titles'])\n",
    "        print(i)\n",
    "    except Exception as e:\n",
    "        print(f\"Error generating category for {grouped.loc[i, 'Titles']}: {e}\")"
   ]
  },
  {
   "cell_type": "code",
   "execution_count": 46,
   "id": "e9dcbbbf",
   "metadata": {},
   "outputs": [],
   "source": [
    "#length of titles in each cluster save it in new column 'length'\n",
    "grouped['length'] = grouped['Titles'].apply(lambda x: len(x))\n",
    "#remove rows of Others\n",
    "grouped = grouped[grouped['category'] != 'Other\\n']"
   ]
  },
  {
   "cell_type": "code",
   "execution_count": 47,
   "id": "3c688ed5",
   "metadata": {},
   "outputs": [
    {
     "data": {
      "application/vnd.plotly.v1+json": {
       "config": {
        "plotlyServerURL": "https://plot.ly"
       },
       "data": [
        {
         "domain": {
          "x": [
           0,
           1
          ],
          "y": [
           0,
           1
          ]
         },
         "hovertemplate": "category=%{label}<br>length=%{value}<extra></extra>",
         "labels": [
          "Home & Kitchen\n",
          "Home & Kitchen\n",
          "Home & Kitchen\n",
          "Home & Kitchen\n",
          "Home & Kitchen\n",
          "Food & Beverage\n",
          "Health & Beauty\n",
          "Books & Stationery\n",
          "Pet Supplies & Experiences\n",
          "Toys & Games\n"
         ],
         "legendgroup": "",
         "name": "",
         "showlegend": true,
         "textinfo": "percent+label",
         "type": "pie",
         "values": [
          18,
          18,
          15,
          24,
          12,
          18,
          13,
          5,
          5,
          18
         ]
        }
       ],
       "layout": {
        "legend": {
         "tracegroupgap": 0
        },
        "template": {
         "data": {
          "bar": [
           {
            "error_x": {
             "color": "#2a3f5f"
            },
            "error_y": {
             "color": "#2a3f5f"
            },
            "marker": {
             "line": {
              "color": "#E5ECF6",
              "width": 0.5
             },
             "pattern": {
              "fillmode": "overlay",
              "size": 10,
              "solidity": 0.2
             }
            },
            "type": "bar"
           }
          ],
          "barpolar": [
           {
            "marker": {
             "line": {
              "color": "#E5ECF6",
              "width": 0.5
             },
             "pattern": {
              "fillmode": "overlay",
              "size": 10,
              "solidity": 0.2
             }
            },
            "type": "barpolar"
           }
          ],
          "carpet": [
           {
            "aaxis": {
             "endlinecolor": "#2a3f5f",
             "gridcolor": "white",
             "linecolor": "white",
             "minorgridcolor": "white",
             "startlinecolor": "#2a3f5f"
            },
            "baxis": {
             "endlinecolor": "#2a3f5f",
             "gridcolor": "white",
             "linecolor": "white",
             "minorgridcolor": "white",
             "startlinecolor": "#2a3f5f"
            },
            "type": "carpet"
           }
          ],
          "choropleth": [
           {
            "colorbar": {
             "outlinewidth": 0,
             "ticks": ""
            },
            "type": "choropleth"
           }
          ],
          "contour": [
           {
            "colorbar": {
             "outlinewidth": 0,
             "ticks": ""
            },
            "colorscale": [
             [
              0,
              "#0d0887"
             ],
             [
              0.1111111111111111,
              "#46039f"
             ],
             [
              0.2222222222222222,
              "#7201a8"
             ],
             [
              0.3333333333333333,
              "#9c179e"
             ],
             [
              0.4444444444444444,
              "#bd3786"
             ],
             [
              0.5555555555555556,
              "#d8576b"
             ],
             [
              0.6666666666666666,
              "#ed7953"
             ],
             [
              0.7777777777777778,
              "#fb9f3a"
             ],
             [
              0.8888888888888888,
              "#fdca26"
             ],
             [
              1,
              "#f0f921"
             ]
            ],
            "type": "contour"
           }
          ],
          "contourcarpet": [
           {
            "colorbar": {
             "outlinewidth": 0,
             "ticks": ""
            },
            "type": "contourcarpet"
           }
          ],
          "heatmap": [
           {
            "colorbar": {
             "outlinewidth": 0,
             "ticks": ""
            },
            "colorscale": [
             [
              0,
              "#0d0887"
             ],
             [
              0.1111111111111111,
              "#46039f"
             ],
             [
              0.2222222222222222,
              "#7201a8"
             ],
             [
              0.3333333333333333,
              "#9c179e"
             ],
             [
              0.4444444444444444,
              "#bd3786"
             ],
             [
              0.5555555555555556,
              "#d8576b"
             ],
             [
              0.6666666666666666,
              "#ed7953"
             ],
             [
              0.7777777777777778,
              "#fb9f3a"
             ],
             [
              0.8888888888888888,
              "#fdca26"
             ],
             [
              1,
              "#f0f921"
             ]
            ],
            "type": "heatmap"
           }
          ],
          "heatmapgl": [
           {
            "colorbar": {
             "outlinewidth": 0,
             "ticks": ""
            },
            "colorscale": [
             [
              0,
              "#0d0887"
             ],
             [
              0.1111111111111111,
              "#46039f"
             ],
             [
              0.2222222222222222,
              "#7201a8"
             ],
             [
              0.3333333333333333,
              "#9c179e"
             ],
             [
              0.4444444444444444,
              "#bd3786"
             ],
             [
              0.5555555555555556,
              "#d8576b"
             ],
             [
              0.6666666666666666,
              "#ed7953"
             ],
             [
              0.7777777777777778,
              "#fb9f3a"
             ],
             [
              0.8888888888888888,
              "#fdca26"
             ],
             [
              1,
              "#f0f921"
             ]
            ],
            "type": "heatmapgl"
           }
          ],
          "histogram": [
           {
            "marker": {
             "pattern": {
              "fillmode": "overlay",
              "size": 10,
              "solidity": 0.2
             }
            },
            "type": "histogram"
           }
          ],
          "histogram2d": [
           {
            "colorbar": {
             "outlinewidth": 0,
             "ticks": ""
            },
            "colorscale": [
             [
              0,
              "#0d0887"
             ],
             [
              0.1111111111111111,
              "#46039f"
             ],
             [
              0.2222222222222222,
              "#7201a8"
             ],
             [
              0.3333333333333333,
              "#9c179e"
             ],
             [
              0.4444444444444444,
              "#bd3786"
             ],
             [
              0.5555555555555556,
              "#d8576b"
             ],
             [
              0.6666666666666666,
              "#ed7953"
             ],
             [
              0.7777777777777778,
              "#fb9f3a"
             ],
             [
              0.8888888888888888,
              "#fdca26"
             ],
             [
              1,
              "#f0f921"
             ]
            ],
            "type": "histogram2d"
           }
          ],
          "histogram2dcontour": [
           {
            "colorbar": {
             "outlinewidth": 0,
             "ticks": ""
            },
            "colorscale": [
             [
              0,
              "#0d0887"
             ],
             [
              0.1111111111111111,
              "#46039f"
             ],
             [
              0.2222222222222222,
              "#7201a8"
             ],
             [
              0.3333333333333333,
              "#9c179e"
             ],
             [
              0.4444444444444444,
              "#bd3786"
             ],
             [
              0.5555555555555556,
              "#d8576b"
             ],
             [
              0.6666666666666666,
              "#ed7953"
             ],
             [
              0.7777777777777778,
              "#fb9f3a"
             ],
             [
              0.8888888888888888,
              "#fdca26"
             ],
             [
              1,
              "#f0f921"
             ]
            ],
            "type": "histogram2dcontour"
           }
          ],
          "mesh3d": [
           {
            "colorbar": {
             "outlinewidth": 0,
             "ticks": ""
            },
            "type": "mesh3d"
           }
          ],
          "parcoords": [
           {
            "line": {
             "colorbar": {
              "outlinewidth": 0,
              "ticks": ""
             }
            },
            "type": "parcoords"
           }
          ],
          "pie": [
           {
            "automargin": true,
            "type": "pie"
           }
          ],
          "scatter": [
           {
            "fillpattern": {
             "fillmode": "overlay",
             "size": 10,
             "solidity": 0.2
            },
            "type": "scatter"
           }
          ],
          "scatter3d": [
           {
            "line": {
             "colorbar": {
              "outlinewidth": 0,
              "ticks": ""
             }
            },
            "marker": {
             "colorbar": {
              "outlinewidth": 0,
              "ticks": ""
             }
            },
            "type": "scatter3d"
           }
          ],
          "scattercarpet": [
           {
            "marker": {
             "colorbar": {
              "outlinewidth": 0,
              "ticks": ""
             }
            },
            "type": "scattercarpet"
           }
          ],
          "scattergeo": [
           {
            "marker": {
             "colorbar": {
              "outlinewidth": 0,
              "ticks": ""
             }
            },
            "type": "scattergeo"
           }
          ],
          "scattergl": [
           {
            "marker": {
             "colorbar": {
              "outlinewidth": 0,
              "ticks": ""
             }
            },
            "type": "scattergl"
           }
          ],
          "scattermapbox": [
           {
            "marker": {
             "colorbar": {
              "outlinewidth": 0,
              "ticks": ""
             }
            },
            "type": "scattermapbox"
           }
          ],
          "scatterpolar": [
           {
            "marker": {
             "colorbar": {
              "outlinewidth": 0,
              "ticks": ""
             }
            },
            "type": "scatterpolar"
           }
          ],
          "scatterpolargl": [
           {
            "marker": {
             "colorbar": {
              "outlinewidth": 0,
              "ticks": ""
             }
            },
            "type": "scatterpolargl"
           }
          ],
          "scatterternary": [
           {
            "marker": {
             "colorbar": {
              "outlinewidth": 0,
              "ticks": ""
             }
            },
            "type": "scatterternary"
           }
          ],
          "surface": [
           {
            "colorbar": {
             "outlinewidth": 0,
             "ticks": ""
            },
            "colorscale": [
             [
              0,
              "#0d0887"
             ],
             [
              0.1111111111111111,
              "#46039f"
             ],
             [
              0.2222222222222222,
              "#7201a8"
             ],
             [
              0.3333333333333333,
              "#9c179e"
             ],
             [
              0.4444444444444444,
              "#bd3786"
             ],
             [
              0.5555555555555556,
              "#d8576b"
             ],
             [
              0.6666666666666666,
              "#ed7953"
             ],
             [
              0.7777777777777778,
              "#fb9f3a"
             ],
             [
              0.8888888888888888,
              "#fdca26"
             ],
             [
              1,
              "#f0f921"
             ]
            ],
            "type": "surface"
           }
          ],
          "table": [
           {
            "cells": {
             "fill": {
              "color": "#EBF0F8"
             },
             "line": {
              "color": "white"
             }
            },
            "header": {
             "fill": {
              "color": "#C8D4E3"
             },
             "line": {
              "color": "white"
             }
            },
            "type": "table"
           }
          ]
         },
         "layout": {
          "annotationdefaults": {
           "arrowcolor": "#2a3f5f",
           "arrowhead": 0,
           "arrowwidth": 1
          },
          "autotypenumbers": "strict",
          "coloraxis": {
           "colorbar": {
            "outlinewidth": 0,
            "ticks": ""
           }
          },
          "colorscale": {
           "diverging": [
            [
             0,
             "#8e0152"
            ],
            [
             0.1,
             "#c51b7d"
            ],
            [
             0.2,
             "#de77ae"
            ],
            [
             0.3,
             "#f1b6da"
            ],
            [
             0.4,
             "#fde0ef"
            ],
            [
             0.5,
             "#f7f7f7"
            ],
            [
             0.6,
             "#e6f5d0"
            ],
            [
             0.7,
             "#b8e186"
            ],
            [
             0.8,
             "#7fbc41"
            ],
            [
             0.9,
             "#4d9221"
            ],
            [
             1,
             "#276419"
            ]
           ],
           "sequential": [
            [
             0,
             "#0d0887"
            ],
            [
             0.1111111111111111,
             "#46039f"
            ],
            [
             0.2222222222222222,
             "#7201a8"
            ],
            [
             0.3333333333333333,
             "#9c179e"
            ],
            [
             0.4444444444444444,
             "#bd3786"
            ],
            [
             0.5555555555555556,
             "#d8576b"
            ],
            [
             0.6666666666666666,
             "#ed7953"
            ],
            [
             0.7777777777777778,
             "#fb9f3a"
            ],
            [
             0.8888888888888888,
             "#fdca26"
            ],
            [
             1,
             "#f0f921"
            ]
           ],
           "sequentialminus": [
            [
             0,
             "#0d0887"
            ],
            [
             0.1111111111111111,
             "#46039f"
            ],
            [
             0.2222222222222222,
             "#7201a8"
            ],
            [
             0.3333333333333333,
             "#9c179e"
            ],
            [
             0.4444444444444444,
             "#bd3786"
            ],
            [
             0.5555555555555556,
             "#d8576b"
            ],
            [
             0.6666666666666666,
             "#ed7953"
            ],
            [
             0.7777777777777778,
             "#fb9f3a"
            ],
            [
             0.8888888888888888,
             "#fdca26"
            ],
            [
             1,
             "#f0f921"
            ]
           ]
          },
          "colorway": [
           "#636efa",
           "#EF553B",
           "#00cc96",
           "#ab63fa",
           "#FFA15A",
           "#19d3f3",
           "#FF6692",
           "#B6E880",
           "#FF97FF",
           "#FECB52"
          ],
          "font": {
           "color": "#2a3f5f"
          },
          "geo": {
           "bgcolor": "white",
           "lakecolor": "white",
           "landcolor": "#E5ECF6",
           "showlakes": true,
           "showland": true,
           "subunitcolor": "white"
          },
          "hoverlabel": {
           "align": "left"
          },
          "hovermode": "closest",
          "mapbox": {
           "style": "light"
          },
          "paper_bgcolor": "white",
          "plot_bgcolor": "#E5ECF6",
          "polar": {
           "angularaxis": {
            "gridcolor": "white",
            "linecolor": "white",
            "ticks": ""
           },
           "bgcolor": "#E5ECF6",
           "radialaxis": {
            "gridcolor": "white",
            "linecolor": "white",
            "ticks": ""
           }
          },
          "scene": {
           "xaxis": {
            "backgroundcolor": "#E5ECF6",
            "gridcolor": "white",
            "gridwidth": 2,
            "linecolor": "white",
            "showbackground": true,
            "ticks": "",
            "zerolinecolor": "white"
           },
           "yaxis": {
            "backgroundcolor": "#E5ECF6",
            "gridcolor": "white",
            "gridwidth": 2,
            "linecolor": "white",
            "showbackground": true,
            "ticks": "",
            "zerolinecolor": "white"
           },
           "zaxis": {
            "backgroundcolor": "#E5ECF6",
            "gridcolor": "white",
            "gridwidth": 2,
            "linecolor": "white",
            "showbackground": true,
            "ticks": "",
            "zerolinecolor": "white"
           }
          },
          "shapedefaults": {
           "line": {
            "color": "#2a3f5f"
           }
          },
          "ternary": {
           "aaxis": {
            "gridcolor": "white",
            "linecolor": "white",
            "ticks": ""
           },
           "baxis": {
            "gridcolor": "white",
            "linecolor": "white",
            "ticks": ""
           },
           "bgcolor": "#E5ECF6",
           "caxis": {
            "gridcolor": "white",
            "linecolor": "white",
            "ticks": ""
           }
          },
          "title": {
           "x": 0.05
          },
          "xaxis": {
           "automargin": true,
           "gridcolor": "white",
           "linecolor": "white",
           "ticks": "",
           "title": {
            "standoff": 15
           },
           "zerolinecolor": "white",
           "zerolinewidth": 2
          },
          "yaxis": {
           "automargin": true,
           "gridcolor": "white",
           "linecolor": "white",
           "ticks": "",
           "title": {
            "standoff": 15
           },
           "zerolinecolor": "white",
           "zerolinewidth": 2
          }
         }
        },
        "title": {
         "text": "Purchase Categories Distribution (Top 10 + Other)"
        }
       }
      }
     },
     "metadata": {},
     "output_type": "display_data"
    }
   ],
   "source": [
    "# Exclude the \"other\" category\n",
    "filtered_grouped = grouped[grouped['category'] != 'Other']\n",
    "\n",
    "# Pie chart of the length of titles in each cluster\n",
    "fig = px.pie(filtered_grouped, values='length', names='category', title='Purchase Categories Distribution (Top 10 + Other)',)\n",
    "fig.update_traces(textinfo='percent+label')\n",
    "fig.show()"
   ]
  }
 ],
 "metadata": {
  "kernelspec": {
   "display_name": "base",
   "language": "python",
   "name": "python3"
  },
  "language_info": {
   "codemirror_mode": {
    "name": "ipython",
    "version": 3
   },
   "file_extension": ".py",
   "mimetype": "text/x-python",
   "name": "python",
   "nbconvert_exporter": "python",
   "pygments_lexer": "ipython3",
   "version": "3.12.3"
  }
 },
 "nbformat": 4,
 "nbformat_minor": 5
}
